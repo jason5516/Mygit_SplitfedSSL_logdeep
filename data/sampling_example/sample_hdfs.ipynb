{
 "cells": [
  {
   "cell_type": "code",
   "execution_count": 2,
   "id": "edb11950-4229-4baf-98ff-2e7b910cdb6d",
   "metadata": {
    "execution": {
     "iopub.execute_input": "2024-06-18T09:27:50.931790Z",
     "iopub.status.busy": "2024-06-18T09:27:50.931645Z",
     "iopub.status.idle": "2024-06-18T09:27:51.031783Z",
     "shell.execute_reply": "2024-06-18T09:27:51.031523Z",
     "shell.execute_reply.started": "2024-06-18T09:27:50.931778Z"
    }
   },
   "outputs": [],
   "source": [
    "import os \n",
    "import re\n",
    "import numpy as np \n",
    "import pandas as pd\n",
    "from collections import OrderedDict"
   ]
  },
  {
   "cell_type": "code",
   "execution_count": 3,
   "id": "293dddc6-5ad6-45f9-956e-1eabc8ec8533",
   "metadata": {
    "execution": {
     "iopub.execute_input": "2024-06-18T09:27:51.227748Z",
     "iopub.status.busy": "2024-06-18T09:27:51.227610Z",
     "iopub.status.idle": "2024-06-18T09:27:51.312890Z",
     "shell.execute_reply": "2024-06-18T09:27:51.312635Z",
     "shell.execute_reply.started": "2024-06-18T09:27:51.227739Z"
    }
   },
   "outputs": [
    {
     "name": "stdout",
     "output_type": "stream",
     "text": [
      "Loading hdfs/HDFS_100k.log_structured.csv\n"
     ]
    }
   ],
   "source": [
    "log_file = 'hdfs/HDFS_100k.log_structured.csv'\n",
    "window='session'\n",
    "window_size=0\n",
    "\n",
    "assert window == 'session', \"Only window=session is supported for HDFS dataset.\"\n",
    "print(\"Loading\", log_file)\n",
    "struct_log = pd.read_csv(log_file, engine='c', na_filter=False, memory_map=True)\n",
    "data_dict = OrderedDict()\n",
    "hdfs_templates = OrderedDict()"
   ]
  },
  {
   "cell_type": "code",
   "execution_count": 4,
   "id": "a296f08f-d4c1-4f5d-8977-106244a81021",
   "metadata": {
    "execution": {
     "iopub.execute_input": "2024-06-18T09:27:51.863355Z",
     "iopub.status.busy": "2024-06-18T09:27:51.863211Z",
     "iopub.status.idle": "2024-06-18T09:27:53.124889Z",
     "shell.execute_reply": "2024-06-18T09:27:53.124589Z",
     "shell.execute_reply.started": "2024-06-18T09:27:51.863345Z"
    }
   },
   "outputs": [],
   "source": [
    "for idx, row in struct_log.iterrows():\n",
    "    if not row[\"EventId\"] in hdfs_templates:\n",
    "        hdfs_templates[row[\"EventId\"]] = row[\"EventTemplate\"]\n",
    "hdfs_templates_df = pd.DataFrame(list(hdfs_templates.items()), columns=['EventId', 'EventTemplate'])\n",
    "hdfs_templates_df.to_csv(\"hdfs/HDFS_templates.csv\",index=None)"
   ]
  },
  {
   "cell_type": "code",
   "execution_count": 5,
   "id": "95396b1c-650f-496a-b02e-498c0f67e2ac",
   "metadata": {
    "execution": {
     "iopub.execute_input": "2024-06-18T09:27:53.648860Z",
     "iopub.status.busy": "2024-06-18T09:27:53.648573Z",
     "iopub.status.idle": "2024-06-18T09:27:55.149729Z",
     "shell.execute_reply": "2024-06-18T09:27:55.149414Z",
     "shell.execute_reply.started": "2024-06-18T09:27:53.648845Z"
    }
   },
   "outputs": [],
   "source": [
    "for idx, row in struct_log.iterrows():\n",
    "    blkId_list = re.findall(r'(blk_-?\\d+)', row['Content'])\n",
    "    blkId_set = set(blkId_list)\n",
    "    for blk_Id in blkId_set:\n",
    "        if not blk_Id in data_dict:\n",
    "            data_dict[blk_Id] = []\n",
    "        data_dict[blk_Id].append(row['EventId'])\n",
    "\n",
    "\n",
    "data_df = pd.DataFrame(list(data_dict.items()), columns=['BlockId', 'EventSequence'])\n"
   ]
  },
  {
   "cell_type": "code",
   "execution_count": 9,
   "id": "1678a5a9-40b2-444c-82f4-b400f921fdc5",
   "metadata": {
    "execution": {
     "iopub.execute_input": "2024-06-18T09:28:44.380318Z",
     "iopub.status.busy": "2024-06-18T09:28:44.380162Z",
     "iopub.status.idle": "2024-06-18T09:28:44.383756Z",
     "shell.execute_reply": "2024-06-18T09:28:44.383565Z",
     "shell.execute_reply.started": "2024-06-18T09:28:44.380304Z"
    }
   },
   "outputs": [
    {
     "data": {
      "text/html": [
       "<div>\n",
       "<style scoped>\n",
       "    .dataframe tbody tr th:only-of-type {\n",
       "        vertical-align: middle;\n",
       "    }\n",
       "\n",
       "    .dataframe tbody tr th {\n",
       "        vertical-align: top;\n",
       "    }\n",
       "\n",
       "    .dataframe thead th {\n",
       "        text-align: right;\n",
       "    }\n",
       "</style>\n",
       "<table border=\"1\" class=\"dataframe\">\n",
       "  <thead>\n",
       "    <tr style=\"text-align: right;\">\n",
       "      <th></th>\n",
       "      <th>EventId</th>\n",
       "      <th>EventTemplate</th>\n",
       "    </tr>\n",
       "  </thead>\n",
       "  <tbody>\n",
       "    <tr>\n",
       "      <th>0</th>\n",
       "      <td>E5</td>\n",
       "      <td>Receiving block &lt;*&gt; src: /&lt;*&gt; dest: /&lt;*&gt;</td>\n",
       "    </tr>\n",
       "    <tr>\n",
       "      <th>1</th>\n",
       "      <td>E22</td>\n",
       "      <td>BLOCK* NameSystem.allocateBlock:&lt;*&gt;</td>\n",
       "    </tr>\n",
       "    <tr>\n",
       "      <th>2</th>\n",
       "      <td>E11</td>\n",
       "      <td>PacketResponder &lt;*&gt; for block &lt;*&gt; terminating</td>\n",
       "    </tr>\n",
       "    <tr>\n",
       "      <th>3</th>\n",
       "      <td>E9</td>\n",
       "      <td>Received block &lt;*&gt; of size &lt;*&gt; from /&lt;*&gt;</td>\n",
       "    </tr>\n",
       "    <tr>\n",
       "      <th>4</th>\n",
       "      <td>E26</td>\n",
       "      <td>BLOCK* NameSystem.addStoredBlock: blockMap upd...</td>\n",
       "    </tr>\n",
       "    <tr>\n",
       "      <th>5</th>\n",
       "      <td>E6</td>\n",
       "      <td>Received block &lt;*&gt; src: /&lt;*&gt; dest: /&lt;*&gt; of siz...</td>\n",
       "    </tr>\n",
       "    <tr>\n",
       "      <th>6</th>\n",
       "      <td>E16</td>\n",
       "      <td>&lt;*&gt;:Transmitted block &lt;*&gt; to /&lt;*&gt;</td>\n",
       "    </tr>\n",
       "    <tr>\n",
       "      <th>7</th>\n",
       "      <td>E18</td>\n",
       "      <td>&lt;*&gt; Starting thread to transfer block &lt;*&gt; to &lt;*&gt;</td>\n",
       "    </tr>\n",
       "    <tr>\n",
       "      <th>8</th>\n",
       "      <td>E25</td>\n",
       "      <td>BLOCK* ask &lt;*&gt; to replicate &lt;*&gt; to datanode(s)...</td>\n",
       "    </tr>\n",
       "    <tr>\n",
       "      <th>9</th>\n",
       "      <td>E3</td>\n",
       "      <td>&lt;*&gt; Served block &lt;*&gt; to /&lt;*&gt;</td>\n",
       "    </tr>\n",
       "    <tr>\n",
       "      <th>10</th>\n",
       "      <td>E2</td>\n",
       "      <td>Verification succeeded for &lt;*&gt;</td>\n",
       "    </tr>\n",
       "    <tr>\n",
       "      <th>11</th>\n",
       "      <td>E7</td>\n",
       "      <td>writeBlock &lt;*&gt; received exception &lt;*&gt;</td>\n",
       "    </tr>\n",
       "    <tr>\n",
       "      <th>12</th>\n",
       "      <td>E10</td>\n",
       "      <td>PacketResponder &lt;*&gt; &lt;*&gt; Exception &lt;*&gt;</td>\n",
       "    </tr>\n",
       "    <tr>\n",
       "      <th>13</th>\n",
       "      <td>E21</td>\n",
       "      <td>Deleting block &lt;*&gt; file &lt;*&gt;</td>\n",
       "    </tr>\n",
       "    <tr>\n",
       "      <th>14</th>\n",
       "      <td>E13</td>\n",
       "      <td>Receiving empty packet for block &lt;*&gt;</td>\n",
       "    </tr>\n",
       "    <tr>\n",
       "      <th>15</th>\n",
       "      <td>E14</td>\n",
       "      <td>Exception in receiveBlock for block &lt;*&gt; &lt;*&gt;</td>\n",
       "    </tr>\n",
       "    <tr>\n",
       "      <th>16</th>\n",
       "      <td>E27</td>\n",
       "      <td>BLOCK* NameSystem.addStoredBlock: Redundant ad...</td>\n",
       "    </tr>\n",
       "    <tr>\n",
       "      <th>17</th>\n",
       "      <td>E8</td>\n",
       "      <td>PacketResponder &lt;*&gt; for block &lt;*&gt; Interrupted.</td>\n",
       "    </tr>\n",
       "    <tr>\n",
       "      <th>18</th>\n",
       "      <td>E15</td>\n",
       "      <td>Changing block file offset of block &lt;*&gt; from &lt;...</td>\n",
       "    </tr>\n",
       "  </tbody>\n",
       "</table>\n",
       "</div>"
      ],
      "text/plain": [
       "   EventId                                      EventTemplate\n",
       "0       E5           Receiving block <*> src: /<*> dest: /<*>\n",
       "1      E22                BLOCK* NameSystem.allocateBlock:<*>\n",
       "2      E11      PacketResponder <*> for block <*> terminating\n",
       "3       E9           Received block <*> of size <*> from /<*>\n",
       "4      E26  BLOCK* NameSystem.addStoredBlock: blockMap upd...\n",
       "5       E6  Received block <*> src: /<*> dest: /<*> of siz...\n",
       "6      E16                  <*>:Transmitted block <*> to /<*>\n",
       "7      E18   <*> Starting thread to transfer block <*> to <*>\n",
       "8      E25  BLOCK* ask <*> to replicate <*> to datanode(s)...\n",
       "9       E3                       <*> Served block <*> to /<*>\n",
       "10      E2                     Verification succeeded for <*>\n",
       "11      E7              writeBlock <*> received exception <*>\n",
       "12     E10              PacketResponder <*> <*> Exception <*>\n",
       "13     E21                        Deleting block <*> file <*>\n",
       "14     E13               Receiving empty packet for block <*>\n",
       "15     E14        Exception in receiveBlock for block <*> <*>\n",
       "16     E27  BLOCK* NameSystem.addStoredBlock: Redundant ad...\n",
       "17      E8     PacketResponder <*> for block <*> Interrupted.\n",
       "18     E15  Changing block file offset of block <*> from <..."
      ]
     },
     "execution_count": 9,
     "metadata": {},
     "output_type": "execute_result"
    }
   ],
   "source": [
    "hdfs_templates_df"
   ]
  },
  {
   "cell_type": "code",
   "execution_count": null,
   "id": "bc1190ec-9b6c-4835-8f29-8960ba2b47b6",
   "metadata": {},
   "outputs": [],
   "source": []
  }
 ],
 "metadata": {
  "kernelspec": {
   "display_name": "Python [conda env:.conda-splitfedssl]",
   "language": "python",
   "name": "conda-env-.conda-splitfedssl-py"
  },
  "language_info": {
   "codemirror_mode": {
    "name": "ipython",
    "version": 3
   },
   "file_extension": ".py",
   "mimetype": "text/x-python",
   "name": "python",
   "nbconvert_exporter": "python",
   "pygments_lexer": "ipython3",
   "version": "3.7.16"
  }
 },
 "nbformat": 4,
 "nbformat_minor": 5
}
