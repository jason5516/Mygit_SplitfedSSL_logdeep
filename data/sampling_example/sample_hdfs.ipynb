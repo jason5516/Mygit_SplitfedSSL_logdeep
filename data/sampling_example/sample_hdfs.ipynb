{
 "cells": [
  {
   "cell_type": "code",
   "execution_count": 5,
   "id": "edb11950-4229-4baf-98ff-2e7b910cdb6d",
   "metadata": {
    "execution": {
     "iopub.execute_input": "2024-06-14T08:34:12.432311Z",
     "iopub.status.busy": "2024-06-14T08:34:12.432102Z",
     "iopub.status.idle": "2024-06-14T08:34:12.434729Z",
     "shell.execute_reply": "2024-06-14T08:34:12.434404Z",
     "shell.execute_reply.started": "2024-06-14T08:34:12.432296Z"
    }
   },
   "outputs": [],
   "source": [
    "import os \n",
    "import re\n",
    "import numpy as np \n",
    "import pandas as pd\n",
    "from collections import OrderedDict"
   ]
  },
  {
   "cell_type": "code",
   "execution_count": 6,
   "id": "293dddc6-5ad6-45f9-956e-1eabc8ec8533",
   "metadata": {
    "execution": {
     "iopub.execute_input": "2024-06-14T08:34:22.874024Z",
     "iopub.status.busy": "2024-06-14T08:34:22.873825Z",
     "iopub.status.idle": "2024-06-14T08:34:22.980527Z",
     "shell.execute_reply": "2024-06-14T08:34:22.980196Z",
     "shell.execute_reply.started": "2024-06-14T08:34:22.874009Z"
    }
   },
   "outputs": [
    {
     "name": "stdout",
     "output_type": "stream",
     "text": [
      "Loading hdfs/HDFS_100k.log_structured.csv\n"
     ]
    }
   ],
   "source": [
    "log_file = 'hdfs/HDFS_100k.log_structured.csv'\n",
    "window='session'\n",
    "window_size=0\n",
    "\n",
    "assert window == 'session', \"Only window=session is supported for HDFS dataset.\"\n",
    "print(\"Loading\", log_file)\n",
    "struct_log = pd.read_csv(log_file, engine='c', na_filter=False, memory_map=True)\n",
    "data_dict = OrderedDict()\n",
    "hdfs_templates = OrderedDict()"
   ]
  },
  {
   "cell_type": "code",
   "execution_count": 7,
   "id": "a296f08f-d4c1-4f5d-8977-106244a81021",
   "metadata": {
    "execution": {
     "iopub.execute_input": "2024-06-14T08:34:24.128349Z",
     "iopub.status.busy": "2024-06-14T08:34:24.128121Z",
     "iopub.status.idle": "2024-06-14T08:34:25.398209Z",
     "shell.execute_reply": "2024-06-14T08:34:25.397824Z",
     "shell.execute_reply.started": "2024-06-14T08:34:24.128332Z"
    }
   },
   "outputs": [],
   "source": [
    "for idx, row in struct_log.iterrows():\n",
    "    if not row[\"EventId\"] in hdfs_templates:\n",
    "        hdfs_templates[row[\"EventId\"]] = row[\"EventTemplate\"]\n",
    "hdfs_templates_df = pd.DataFrame(list(hdfs_templates.items()), columns=['EventId', 'EventTemplate'])\n",
    "hdfs_templates_df.to_csv(\"hdfs/HDFS_templates.csv\",index=None)"
   ]
  },
  {
   "cell_type": "code",
   "execution_count": 8,
   "id": "95396b1c-650f-496a-b02e-498c0f67e2ac",
   "metadata": {
    "execution": {
     "iopub.execute_input": "2024-06-14T08:34:26.646200Z",
     "iopub.status.busy": "2024-06-14T08:34:26.645991Z",
     "iopub.status.idle": "2024-06-14T08:34:28.131291Z",
     "shell.execute_reply": "2024-06-14T08:34:28.130880Z",
     "shell.execute_reply.started": "2024-06-14T08:34:26.646184Z"
    }
   },
   "outputs": [],
   "source": [
    "for idx, row in struct_log.iterrows():\n",
    "    blkId_list = re.findall(r'(blk_-?\\d+)', row['Content'])\n",
    "    blkId_set = set(blkId_list)\n",
    "    for blk_Id in blkId_set:\n",
    "        if not blk_Id in data_dict:\n",
    "            data_dict[blk_Id] = []\n",
    "        data_dict[blk_Id].append(row['EventId'])\n",
    "\n",
    "\n",
    "data_df = pd.DataFrame(list(data_dict.items()), columns=['BlockId', 'EventSequence'])\n"
   ]
  },
  {
   "cell_type": "code",
   "execution_count": 9,
   "id": "1678a5a9-40b2-444c-82f4-b400f921fdc5",
   "metadata": {
    "execution": {
     "iopub.execute_input": "2024-06-14T08:34:35.191766Z",
     "iopub.status.busy": "2024-06-14T08:34:35.191557Z",
     "iopub.status.idle": "2024-06-14T08:34:35.198427Z",
     "shell.execute_reply": "2024-06-14T08:34:35.198051Z",
     "shell.execute_reply.started": "2024-06-14T08:34:35.191749Z"
    }
   },
   "outputs": [
    {
     "data": {
      "text/html": [
       "<div>\n",
       "<style scoped>\n",
       "    .dataframe tbody tr th:only-of-type {\n",
       "        vertical-align: middle;\n",
       "    }\n",
       "\n",
       "    .dataframe tbody tr th {\n",
       "        vertical-align: top;\n",
       "    }\n",
       "\n",
       "    .dataframe thead th {\n",
       "        text-align: right;\n",
       "    }\n",
       "</style>\n",
       "<table border=\"1\" class=\"dataframe\">\n",
       "  <thead>\n",
       "    <tr style=\"text-align: right;\">\n",
       "      <th></th>\n",
       "      <th>BlockId</th>\n",
       "      <th>EventSequence</th>\n",
       "    </tr>\n",
       "  </thead>\n",
       "  <tbody>\n",
       "    <tr>\n",
       "      <th>0</th>\n",
       "      <td>blk_-1608999687919862906</td>\n",
       "      <td>[E5, E22, E5, E5, E11, E11, E9, E9, E11, E9, E...</td>\n",
       "    </tr>\n",
       "    <tr>\n",
       "      <th>1</th>\n",
       "      <td>blk_7503483334202473044</td>\n",
       "      <td>[E5, E5, E22, E5, E11, E9, E11, E9, E11, E9, E...</td>\n",
       "    </tr>\n",
       "    <tr>\n",
       "      <th>2</th>\n",
       "      <td>blk_-3544583377289625738</td>\n",
       "      <td>[E5, E22, E5, E5, E11, E9, E11, E9, E11, E9, E...</td>\n",
       "    </tr>\n",
       "    <tr>\n",
       "      <th>3</th>\n",
       "      <td>blk_-9073992586687739851</td>\n",
       "      <td>[E5, E22, E5, E5, E11, E9, E11, E9, E11, E9, E...</td>\n",
       "    </tr>\n",
       "    <tr>\n",
       "      <th>4</th>\n",
       "      <td>blk_7854771516489510256</td>\n",
       "      <td>[E5, E5, E22, E5, E11, E9, E11, E9, E11, E9, E...</td>\n",
       "    </tr>\n",
       "    <tr>\n",
       "      <th>...</th>\n",
       "      <td>...</td>\n",
       "      <td>...</td>\n",
       "    </tr>\n",
       "    <tr>\n",
       "      <th>7935</th>\n",
       "      <td>blk_-1445970677921829671</td>\n",
       "      <td>[E22, E5, E5, E5, E11, E9, E11, E9, E26, E26, ...</td>\n",
       "    </tr>\n",
       "    <tr>\n",
       "      <th>7936</th>\n",
       "      <td>blk_-5943236831140622436</td>\n",
       "      <td>[E22, E5, E5, E5, E26, E26, E26, E11, E9, E11,...</td>\n",
       "    </tr>\n",
       "    <tr>\n",
       "      <th>7937</th>\n",
       "      <td>blk_-5039164935117450945</td>\n",
       "      <td>[E22, E5, E5, E5, E26, E26, E11, E9, E11, E9, ...</td>\n",
       "    </tr>\n",
       "    <tr>\n",
       "      <th>7938</th>\n",
       "      <td>blk_7379833155074044619</td>\n",
       "      <td>[E22, E5, E5, E5, E26, E26, E11, E9, E11, E9, ...</td>\n",
       "    </tr>\n",
       "    <tr>\n",
       "      <th>7939</th>\n",
       "      <td>blk_8909107483987085802</td>\n",
       "      <td>[E22, E5, E5, E5, E26, E26, E11, E9, E11, E9, ...</td>\n",
       "    </tr>\n",
       "  </tbody>\n",
       "</table>\n",
       "<p>7940 rows × 2 columns</p>\n",
       "</div>"
      ],
      "text/plain": [
       "                       BlockId  \\\n",
       "0     blk_-1608999687919862906   \n",
       "1      blk_7503483334202473044   \n",
       "2     blk_-3544583377289625738   \n",
       "3     blk_-9073992586687739851   \n",
       "4      blk_7854771516489510256   \n",
       "...                        ...   \n",
       "7935  blk_-1445970677921829671   \n",
       "7936  blk_-5943236831140622436   \n",
       "7937  blk_-5039164935117450945   \n",
       "7938   blk_7379833155074044619   \n",
       "7939   blk_8909107483987085802   \n",
       "\n",
       "                                          EventSequence  \n",
       "0     [E5, E22, E5, E5, E11, E11, E9, E9, E11, E9, E...  \n",
       "1     [E5, E5, E22, E5, E11, E9, E11, E9, E11, E9, E...  \n",
       "2     [E5, E22, E5, E5, E11, E9, E11, E9, E11, E9, E...  \n",
       "3     [E5, E22, E5, E5, E11, E9, E11, E9, E11, E9, E...  \n",
       "4     [E5, E5, E22, E5, E11, E9, E11, E9, E11, E9, E...  \n",
       "...                                                 ...  \n",
       "7935  [E22, E5, E5, E5, E11, E9, E11, E9, E26, E26, ...  \n",
       "7936  [E22, E5, E5, E5, E26, E26, E26, E11, E9, E11,...  \n",
       "7937  [E22, E5, E5, E5, E26, E26, E11, E9, E11, E9, ...  \n",
       "7938  [E22, E5, E5, E5, E26, E26, E11, E9, E11, E9, ...  \n",
       "7939  [E22, E5, E5, E5, E26, E26, E11, E9, E11, E9, ...  \n",
       "\n",
       "[7940 rows x 2 columns]"
      ]
     },
     "execution_count": 9,
     "metadata": {},
     "output_type": "execute_result"
    }
   ],
   "source": [
    "data_df"
   ]
  },
  {
   "cell_type": "code",
   "execution_count": null,
   "id": "bc1190ec-9b6c-4835-8f29-8960ba2b47b6",
   "metadata": {},
   "outputs": [],
   "source": []
  }
 ],
 "metadata": {
  "kernelspec": {
   "display_name": "Python [conda env:.conda-splitfedssl]",
   "language": "python",
   "name": "conda-env-.conda-splitfedssl-py"
  },
  "language_info": {
   "codemirror_mode": {
    "name": "ipython",
    "version": 3
   },
   "file_extension": ".py",
   "mimetype": "text/x-python",
   "name": "python",
   "nbconvert_exporter": "python",
   "pygments_lexer": "ipython3",
   "version": "3.7.16"
  }
 },
 "nbformat": 4,
 "nbformat_minor": 5
}
