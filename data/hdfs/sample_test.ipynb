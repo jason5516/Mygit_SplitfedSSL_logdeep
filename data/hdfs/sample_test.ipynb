{
 "cells": [
  {
   "cell_type": "code",
   "execution_count": 1,
   "id": "2b7b0bec-4e61-4964-ad64-1b1fad965217",
   "metadata": {
    "execution": {
     "iopub.execute_input": "2024-06-17T07:59:10.121557Z",
     "iopub.status.busy": "2024-06-17T07:59:10.121401Z",
     "iopub.status.idle": "2024-06-17T07:59:10.224623Z",
     "shell.execute_reply": "2024-06-17T07:59:10.224353Z",
     "shell.execute_reply.started": "2024-06-17T07:59:10.121545Z"
    }
   },
   "outputs": [],
   "source": [
    "import json\n",
    "from collections import Counter\n",
    "\n",
    "import numpy as np\n",
    "import pandas as pd\n",
    "from tqdm import tqdm"
   ]
  },
  {
   "cell_type": "code",
   "execution_count": 2,
   "id": "4e1c9a8b-036b-4b53-ace8-066c3c06508d",
   "metadata": {
    "execution": {
     "iopub.execute_input": "2024-06-17T07:59:10.348374Z",
     "iopub.status.busy": "2024-06-17T07:59:10.348184Z",
     "iopub.status.idle": "2024-06-17T07:59:10.350306Z",
     "shell.execute_reply": "2024-06-17T07:59:10.350098Z",
     "shell.execute_reply.started": "2024-06-17T07:59:10.348360Z"
    }
   },
   "outputs": [],
   "source": [
    "def read_json(filename):\n",
    "    with open(filename, 'r') as load_f:\n",
    "        file_dict = json.load(load_f)\n",
    "    return file_dict"
   ]
  },
  {
   "cell_type": "code",
   "execution_count": 6,
   "id": "df16e8bb-6ff0-450a-8404-be5064961db2",
   "metadata": {
    "execution": {
     "iopub.execute_input": "2024-06-17T08:13:37.557286Z",
     "iopub.status.busy": "2024-06-17T08:13:37.556920Z",
     "iopub.status.idle": "2024-06-17T08:13:37.560799Z",
     "shell.execute_reply": "2024-06-17T08:13:37.560594Z",
     "shell.execute_reply.started": "2024-06-17T08:13:37.557263Z"
    }
   },
   "outputs": [],
   "source": [
    "data_dir = './'\n",
    "datatype = 'val'\n",
    "window_size = 10\n",
    "clientnum = 5\n",
    "sample_ratio=1\n",
    "\n",
    "event2semantic_vec = read_json('event2semantic_vec.json')\n",
    "num_sessions = 0\n",
    "Sequential_pattern = []"
   ]
  },
  {
   "cell_type": "code",
   "execution_count": 7,
   "id": "eabbe02b-e8ef-47b5-b10a-b35ea3ffe670",
   "metadata": {
    "execution": {
     "iopub.execute_input": "2024-06-17T08:13:40.051160Z",
     "iopub.status.busy": "2024-06-17T08:13:40.050923Z",
     "iopub.status.idle": "2024-06-17T08:13:40.053741Z",
     "shell.execute_reply": "2024-06-17T08:13:40.053479Z",
     "shell.execute_reply.started": "2024-06-17T08:13:40.051148Z"
    }
   },
   "outputs": [],
   "source": [
    "if datatype == 'train':\n",
    "    data_dir += 'hdfs/hdfs_train'\n",
    "    labels = [[] for i in range(clientnum)]\n",
    "    resultlist = []\n",
    "    for i in range(clientnum):\n",
    "        result_logs = {}\n",
    "        result_logs['Sequentials'] = []\n",
    "        result_logs['Quantitatives'] = []\n",
    "        result_logs['Semantics'] = []\n",
    "        resultlist.append(result_logs)\n",
    "\n",
    "if datatype == 'val':\n",
    "    labels = []\n",
    "    result_logs = {}\n",
    "    result_logs['Sequentials'] = []\n",
    "    result_logs['Quantitatives'] = []\n",
    "    result_logs['Semantics'] = []\n",
    "    data_dir += 'hdfs_test_abnormal'"
   ]
  },
  {
   "cell_type": "code",
   "execution_count": 11,
   "id": "c77890f3-452e-4014-8db0-ace5e354cb6a",
   "metadata": {
    "execution": {
     "iopub.execute_input": "2024-06-17T08:25:19.837922Z",
     "iopub.status.busy": "2024-06-17T08:25:19.837665Z",
     "iopub.status.idle": "2024-06-17T08:25:19.840077Z",
     "shell.execute_reply": "2024-06-17T08:25:19.839856Z",
     "shell.execute_reply.started": "2024-06-17T08:25:19.837911Z"
    }
   },
   "outputs": [
    {
     "data": {
      "text/plain": [
       "True"
      ]
     },
     "execution_count": 11,
     "metadata": {},
     "output_type": "execute_result"
    }
   ],
   "source": [
    "datatype == 'val' or datatype == 'train'"
   ]
  },
  {
   "cell_type": "code",
   "execution_count": 16,
   "id": "12e7d4e3-f62a-4ac8-b270-6d60ffaf50fd",
   "metadata": {
    "execution": {
     "iopub.execute_input": "2024-06-17T09:33:50.575563Z",
     "iopub.status.busy": "2024-06-17T09:33:50.575410Z",
     "iopub.status.idle": "2024-06-17T09:33:50.578293Z",
     "shell.execute_reply": "2024-06-17T09:33:50.578089Z",
     "shell.execute_reply.started": "2024-06-17T09:33:50.575552Z"
    }
   },
   "outputs": [
    {
     "name": "stdout",
     "output_type": "stream",
     "text": [
      "4855\n"
     ]
    }
   ],
   "source": [
    "num_sessions = 0\n",
    "data_dir = './hdfs_train'\n",
    "with open(data_dir, 'r') as f:\n",
    "    for line in f.readlines():\n",
    "        # clientid = num_sessions % clientnum\n",
    "        num_sessions += 1\n",
    "        # line = tuple(map(lambda n: n - 1, map(int, line.strip().split())))\n",
    "        # print(line)\n",
    "        # if num_sessions == 10:\n",
    "        #     break\n",
    "print(num_sessions)"
   ]
  },
  {
   "cell_type": "code",
   "execution_count": 17,
   "id": "fd2ea2bb-e45c-4378-84a1-2bbb55ba76bc",
   "metadata": {
    "execution": {
     "iopub.execute_input": "2024-06-17T09:33:52.655336Z",
     "iopub.status.busy": "2024-06-17T09:33:52.655191Z",
     "iopub.status.idle": "2024-06-17T09:33:52.720837Z",
     "shell.execute_reply": "2024-06-17T09:33:52.720524Z",
     "shell.execute_reply.started": "2024-06-17T09:33:52.655325Z"
    }
   },
   "outputs": [
    {
     "name": "stdout",
     "output_type": "stream",
     "text": [
      "553366\n"
     ]
    }
   ],
   "source": [
    "num_sessions = 0\n",
    "data_dir = './hdfs_test_normal'\n",
    "with open(data_dir, 'r') as f:\n",
    "    for line in f.readlines():\n",
    "        # clientid = num_sessions % clientnum\n",
    "        num_sessions += 1\n",
    "        # line = tuple(map(lambda n: n - 1, map(int, line.strip().split())))\n",
    "        # print(line)\n",
    "        # if num_sessions == 10:\n",
    "        #     break\n",
    "print(num_sessions)"
   ]
  },
  {
   "cell_type": "code",
   "execution_count": null,
   "id": "32546c70-ad33-483d-8818-16d90578eff9",
   "metadata": {},
   "outputs": [],
   "source": []
  }
 ],
 "metadata": {
  "kernelspec": {
   "display_name": "Python [conda env:.conda-splitfedssl]",
   "language": "python",
   "name": "conda-env-.conda-splitfedssl-py"
  },
  "language_info": {
   "codemirror_mode": {
    "name": "ipython",
    "version": 3
   },
   "file_extension": ".py",
   "mimetype": "text/x-python",
   "name": "python",
   "nbconvert_exporter": "python",
   "pygments_lexer": "ipython3",
   "version": "3.7.16"
  }
 },
 "nbformat": 4,
 "nbformat_minor": 5
}
