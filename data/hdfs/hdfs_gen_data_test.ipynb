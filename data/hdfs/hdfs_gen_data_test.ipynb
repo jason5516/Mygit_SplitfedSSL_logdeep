{
 "cells": [
  {
   "cell_type": "code",
   "execution_count": 50,
   "id": "b2e6b16f-c588-4d7a-a7f0-1b7020f96dd6",
   "metadata": {
    "execution": {
     "iopub.execute_input": "2024-06-16T15:39:28.772192Z",
     "iopub.status.busy": "2024-06-16T15:39:28.772026Z",
     "iopub.status.idle": "2024-06-16T15:39:28.774167Z",
     "shell.execute_reply": "2024-06-16T15:39:28.773936Z",
     "shell.execute_reply.started": "2024-06-16T15:39:28.772180Z"
    }
   },
   "outputs": [],
   "source": [
    "import os\n",
    "import random\n",
    "from random import shuffle\n",
    "\n",
    "import pandas as pd\n",
    "from pandas.core.frame import DataFrame"
   ]
  },
  {
   "cell_type": "code",
   "execution_count": 51,
   "id": "3889094a-11ea-432d-8e27-e3f8e5532350",
   "metadata": {
    "execution": {
     "iopub.execute_input": "2024-06-16T15:39:28.819449Z",
     "iopub.status.busy": "2024-06-16T15:39:28.819365Z",
     "iopub.status.idle": "2024-06-16T15:39:28.821449Z",
     "shell.execute_reply": "2024-06-16T15:39:28.821241Z",
     "shell.execute_reply.started": "2024-06-16T15:39:28.819441Z"
    }
   },
   "outputs": [],
   "source": [
    "def data_read(filepath):\n",
    "    fp = open(filepath, \"r\")\n",
    "    datas = []  # 存储处理后的数据\n",
    "    lines = fp.readlines()  # 读取整个文件数据\n",
    "    i = 0  # 为一行数据\n",
    "    for line in lines:\n",
    "        row = line.strip()\n",
    "        # row = line.strip('\\n').split(' ')  # 去除两头的换行符，按空格分割\n",
    "        datas.append(row)\n",
    "        i = i + 1\n",
    "    fp.close()\n",
    "    return datas"
   ]
  },
  {
   "cell_type": "code",
   "execution_count": 52,
   "id": "a0c001c8-75d4-45fd-ad94-c03a379cf468",
   "metadata": {
    "execution": {
     "iopub.execute_input": "2024-06-16T15:39:30.599871Z",
     "iopub.status.busy": "2024-06-16T15:39:30.599594Z",
     "iopub.status.idle": "2024-06-16T15:39:30.614427Z",
     "shell.execute_reply": "2024-06-16T15:39:30.614171Z",
     "shell.execute_reply.started": "2024-06-16T15:39:30.599860Z"
    }
   },
   "outputs": [],
   "source": [
    "log_file = \"HDFS_templates.csv\"\n",
    "hdfs_templates_df = pd.read_csv(log_file, engine='c', na_filter=False, memory_map=True)\n",
    "event_dict = {row[\"EventId\"] : row[\"EventTemplate\"] for i, row in hdfs_templates_df.iterrows()}"
   ]
  },
  {
   "cell_type": "code",
   "execution_count": 53,
   "id": "6c45591b-2245-4d24-9c82-7d1e5fe4f0ab",
   "metadata": {
    "execution": {
     "iopub.execute_input": "2024-06-16T15:39:31.992419Z",
     "iopub.status.busy": "2024-06-16T15:39:31.992266Z",
     "iopub.status.idle": "2024-06-16T15:39:32.094243Z",
     "shell.execute_reply": "2024-06-16T15:39:32.093975Z",
     "shell.execute_reply.started": "2024-06-16T15:39:31.992404Z"
    }
   },
   "outputs": [
    {
     "name": "stdout",
     "output_type": "stream",
     "text": [
      "558221\n"
     ]
    }
   ],
   "source": [
    "hdfs_train = data_read('./hdfs_train')\n",
    "hdfs_test_normal = data_read('./hdfs_test_normal')\n",
    "\n",
    "hdfs_test_abnormal = data_read('./hdfs_test_abnormal')\n",
    "hdfs_train.extend(hdfs_test_normal)\n",
    "normal_all = hdfs_train\n",
    "abnormal = hdfs_test_abnormal\n",
    "\n",
    "print(len(normal_all))"
   ]
  },
  {
   "cell_type": "code",
   "execution_count": 56,
   "id": "70402a13-c5c4-418f-8181-a361e07c6b41",
   "metadata": {
    "execution": {
     "iopub.execute_input": "2024-06-16T15:41:10.698864Z",
     "iopub.status.busy": "2024-06-16T15:41:10.698712Z",
     "iopub.status.idle": "2024-06-16T15:41:10.701005Z",
     "shell.execute_reply": "2024-06-16T15:41:10.700825Z",
     "shell.execute_reply.started": "2024-06-16T15:41:10.698851Z"
    }
   },
   "outputs": [
    {
     "data": {
      "text/plain": [
       "553366"
      ]
     },
     "execution_count": 56,
     "metadata": {},
     "output_type": "execute_result"
    }
   ],
   "source": [
    "len(hdfs_test_normal)"
   ]
  },
  {
   "cell_type": "code",
   "execution_count": 48,
   "id": "64bea34e-3e5e-4b25-97de-4885c1fd10cf",
   "metadata": {
    "execution": {
     "iopub.execute_input": "2024-06-14T09:24:14.667752Z",
     "iopub.status.busy": "2024-06-14T09:24:14.667542Z",
     "iopub.status.idle": "2024-06-14T09:24:14.670684Z",
     "shell.execute_reply": "2024-06-14T09:24:14.670327Z",
     "shell.execute_reply.started": "2024-06-14T09:24:14.667736Z"
    }
   },
   "outputs": [
    {
     "name": "stdout",
     "output_type": "stream",
     "text": [
      "E5 : <*>Receiving block<*>src:<*>dest:<*> \n",
      "\n",
      "E5 : <*>Receiving block<*>src:<*>dest:<*> \n",
      "\n",
      "E5 : <*>Receiving block<*>src:<*>dest:<*> \n",
      "\n",
      "E22 : <*>BLOCK* NameSystem<*>allocateBlock:<*> \n",
      "\n",
      "E11 : <*>PacketResponder <*> for block <*> terminating<*> \n",
      "\n",
      "E9 : <*>Received block<*>of size<*>from<*> \n",
      "\n",
      "E11 : <*>PacketResponder <*> for block <*> terminating<*> \n",
      "\n",
      "E9 : <*>Received block<*>of size<*>from<*> \n",
      "\n",
      "E11 : <*>PacketResponder <*> for block <*> terminating<*> \n",
      "\n",
      "E9 : <*>Received block<*>of size<*>from<*> \n",
      "\n",
      "E26 : <*>BLOCK* NameSystem<*>addStoredBlock: blockMap updated:<*>is added to<*>size<*> \n",
      "\n",
      "E26 : <*>BLOCK* NameSystem<*>addStoredBlock: blockMap updated:<*>is added to<*>size<*> \n",
      "\n",
      "E26 : <*>BLOCK* NameSystem<*>addStoredBlock: blockMap updated:<*>is added to<*>size<*> \n",
      "\n",
      "E23 : <*>BLOCK* NameSystem<*>delete:<*>is added to invalidSet of<*> \n",
      "\n",
      "E23 : <*>BLOCK* NameSystem<*>delete:<*>is added to invalidSet of<*> \n",
      "\n",
      "E23 : <*>BLOCK* NameSystem<*>delete:<*>is added to invalidSet of<*> \n",
      "\n",
      "E21 : <*>Deleting block<*>file<*> \n",
      "\n",
      "E21 : <*>Deleting block<*>file<*> \n",
      "\n",
      "E21 : <*>Deleting block<*>file<*> \n",
      "\n",
      "end\n"
     ]
    }
   ],
   "source": [
    "for i in normal_all[0]:\n",
    "    if i :\n",
    "        eventid = \"E\" + i\n",
    "        print(f\"{eventid} : {event_dict[eventid]} \\n\")\n",
    "    else:\n",
    "        print(\"end\")"
   ]
  },
  {
   "cell_type": "code",
   "execution_count": null,
   "id": "b618b8b5-f39d-4f39-8a30-cd6989b398aa",
   "metadata": {},
   "outputs": [],
   "source": []
  }
 ],
 "metadata": {
  "kernelspec": {
   "display_name": "Python [conda env:.conda-splitfedssl]",
   "language": "python",
   "name": "conda-env-.conda-splitfedssl-py"
  },
  "language_info": {
   "codemirror_mode": {
    "name": "ipython",
    "version": 3
   },
   "file_extension": ".py",
   "mimetype": "text/x-python",
   "name": "python",
   "nbconvert_exporter": "python",
   "pygments_lexer": "ipython3",
   "version": "3.7.16"
  }
 },
 "nbformat": 4,
 "nbformat_minor": 5
}
