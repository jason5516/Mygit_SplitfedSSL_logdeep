{
 "cells": [
  {
   "cell_type": "code",
   "execution_count": 16,
   "id": "79e4e539-7678-4272-9e89-3474273f4bab",
   "metadata": {
    "execution": {
     "iopub.execute_input": "2024-06-17T16:53:02.000411Z",
     "iopub.status.busy": "2024-06-17T16:53:02.000261Z",
     "iopub.status.idle": "2024-06-17T16:53:02.002552Z",
     "shell.execute_reply": "2024-06-17T16:53:02.002307Z",
     "shell.execute_reply.started": "2024-06-17T16:53:02.000400Z"
    }
   },
   "outputs": [],
   "source": [
    "import os\n",
    "import numpy as np\n",
    "import copy\n",
    "import torch\n",
    "import torch.nn as nn\n",
    "import torch.nn.functional as F\n",
    "import seaborn as sns\n",
    "import matplotlib.pyplot as plt\n",
    "from matplotlib.colors import LogNorm \n",
    "from utils.similarity import *\n"
   ]
  },
  {
   "cell_type": "code",
   "execution_count": 17,
   "id": "26e254da-7e7b-434b-ba3e-a5244f0f6b98",
   "metadata": {
    "execution": {
     "iopub.execute_input": "2024-06-17T16:53:02.855863Z",
     "iopub.status.busy": "2024-06-17T16:53:02.855728Z",
     "iopub.status.idle": "2024-06-17T16:53:02.858362Z",
     "shell.execute_reply": "2024-06-17T16:53:02.858104Z",
     "shell.execute_reply.started": "2024-06-17T16:53:02.855851Z"
    }
   },
   "outputs": [],
   "source": [
    "A1 = torch.tensor([[ 0.0284, -0.0550, -0.0332, 0.1324,  0.1340, -0.0651],\n",
    "            [ 0.0383, -0.0496, -0.0417, 0.1314,  0.1107, -0.0767],\n",
    "            [ 0.0295, -0.0548, -0.0333, 0.1334,  0.1345, -0.0660]] , dtype=torch.float32)\n",
    "\n",
    "A2 = torch.tensor([[ 0.0297, -0.0589, -0.0405,  0.1301,  0.1309, -0.0682],\n",
    "                   [ 0.0389, -0.0533, -0.0474,  0.1302,  0.1068, -0.0794],\n",
    "                   [ 0.0305, -0.0587, -0.0407,  0.1313,  0.1313, -0.0691]] , dtype=torch.float32)"
   ]
  },
  {
   "cell_type": "code",
   "execution_count": 18,
   "id": "4a108b47-9d70-4ff5-9e14-33c4b614bfaf",
   "metadata": {
    "execution": {
     "iopub.execute_input": "2024-06-17T16:53:03.370551Z",
     "iopub.status.busy": "2024-06-17T16:53:03.370443Z",
     "iopub.status.idle": "2024-06-17T16:53:03.388336Z",
     "shell.execute_reply": "2024-06-17T16:53:03.388131Z",
     "shell.execute_reply.started": "2024-06-17T16:53:03.370541Z"
    }
   },
   "outputs": [
    {
     "name": "stdout",
     "output_type": "stream",
     "text": [
      "tensor([0.9989, 0.9991, 0.9989])\n"
     ]
    }
   ],
   "source": [
    "sim = F.cosine_similarity(A1, A2, dim=1)\n",
    "print(sim)"
   ]
  },
  {
   "cell_type": "code",
   "execution_count": 19,
   "id": "ef571aaf-510b-444a-b671-ca13a8c04a6d",
   "metadata": {
    "execution": {
     "iopub.execute_input": "2024-06-17T16:53:04.305733Z",
     "iopub.status.busy": "2024-06-17T16:53:04.305562Z",
     "iopub.status.idle": "2024-06-17T16:53:04.319430Z",
     "shell.execute_reply": "2024-06-17T16:53:04.319210Z",
     "shell.execute_reply.started": "2024-06-17T16:53:04.305723Z"
    }
   },
   "outputs": [
    {
     "name": "stdout",
     "output_type": "stream",
     "text": [
      "0.9990076422691345\n"
     ]
    }
   ],
   "source": [
    "A1_norm = torch.norm(A1.type(torch.cuda.FloatTensor), 'fro')\n",
    "A2_norm = torch.norm(A2.type(torch.cuda.FloatTensor), 'fro')\n",
    "A1_A2 = A1_norm * A2_norm\n",
    "sim = ((A1*A2).sum() / A1_A2).item()\n",
    "\n",
    "print(sim)"
   ]
  },
  {
   "cell_type": "code",
   "execution_count": 20,
   "id": "070384f4-1520-4f64-89d8-8834935e4519",
   "metadata": {
    "execution": {
     "iopub.execute_input": "2024-06-17T16:53:57.161488Z",
     "iopub.status.busy": "2024-06-17T16:53:57.161267Z",
     "iopub.status.idle": "2024-06-17T16:53:57.171847Z",
     "shell.execute_reply": "2024-06-17T16:53:57.171665Z",
     "shell.execute_reply.started": "2024-06-17T16:53:57.161473Z"
    }
   },
   "outputs": [
    {
     "data": {
      "text/plain": [
       "tensor(0.3619, device='cuda:0')"
      ]
     },
     "execution_count": 20,
     "metadata": {},
     "output_type": "execute_result"
    }
   ],
   "source": [
    "A1_norm"
   ]
  },
  {
   "cell_type": "code",
   "execution_count": 21,
   "id": "dc82f554-e254-457c-9010-81a45ffc9d5e",
   "metadata": {
    "execution": {
     "iopub.execute_input": "2024-06-17T16:54:06.931770Z",
     "iopub.status.busy": "2024-06-17T16:54:06.931594Z",
     "iopub.status.idle": "2024-06-17T16:54:06.934173Z",
     "shell.execute_reply": "2024-06-17T16:54:06.933982Z",
     "shell.execute_reply.started": "2024-06-17T16:54:06.931759Z"
    }
   },
   "outputs": [
    {
     "data": {
      "text/plain": [
       "tensor([[ 0.0284, -0.0550, -0.0332,  0.1324,  0.1340, -0.0651],\n",
       "        [ 0.0383, -0.0496, -0.0417,  0.1314,  0.1107, -0.0767],\n",
       "        [ 0.0295, -0.0548, -0.0333,  0.1334,  0.1345, -0.0660]])"
      ]
     },
     "execution_count": 21,
     "metadata": {},
     "output_type": "execute_result"
    }
   ],
   "source": [
    "A1"
   ]
  },
  {
   "cell_type": "code",
   "execution_count": 29,
   "id": "aadd7e83-a634-4494-b595-a2181b2cf3a1",
   "metadata": {
    "execution": {
     "iopub.execute_input": "2024-06-17T17:10:21.463145Z",
     "iopub.status.busy": "2024-06-17T17:10:21.462968Z",
     "iopub.status.idle": "2024-06-17T17:10:21.534850Z",
     "shell.execute_reply": "2024-06-17T17:10:21.534622Z",
     "shell.execute_reply.started": "2024-06-17T17:10:21.463133Z"
    }
   },
   "outputs": [
    {
     "data": {
      "text/plain": [
       "<AxesSubplot:>"
      ]
     },
     "execution_count": 29,
     "metadata": {},
     "output_type": "execute_result"
    },
    {
     "data": {
      "image/png": "[encoded data removed]",
      "text/plain": [
       "<Figure size 640x480 with 2 Axes>"
      ]
     },
     "metadata": {},
     "output_type": "display_data"
    }
   ],
   "source": [
    "sim_mat = np.array([[1.        , 0.99850935, 0.99871224, 0.99829483, 0.99880469],\n",
    "                    [0.99850935, 0.99999988, 0.99868429, 0.99931198, 0.99856138],\n",
    "                    [0.99871224, 0.99868429, 0.99999994, 0.99875718, 0.9991855 ],\n",
    "                    [0.99829483, 0.99931198, 0.99875718, 1.        , 0.99852574],\n",
    "                    [0.99880469, 0.99856138, 0.9991855 , 0.99852574, 1.00000012]])\n",
    "\n",
    "sns.heatmap(sim_mat,square=True,annot=True,fmt=\".3f\",linecolor='white',cmap='Blues',vmin=0.5)"
   ]
  },
  {
   "cell_type": "code",
   "execution_count": null,
   "id": "acbc8c37-e71c-423a-9e48-f737aa4cce0f",
   "metadata": {},
   "outputs": [],
   "source": [
    "_"
   ]
  }
 ],
 "metadata": {
  "kernelspec": {
   "display_name": "Python [conda env:.conda-splitfedssl]",
   "language": "python",
   "name": "conda-env-.conda-splitfedssl-py"
  },
  "language_info": {
   "codemirror_mode": {
    "name": "ipython",
    "version": 3
   },
   "file_extension": ".py",
   "mimetype": "text/x-python",
   "name": "python",
   "nbconvert_exporter": "python",
   "pygments_lexer": "ipython3",
   "version": "3.7.16"
  }
 },
 "nbformat": 4,
 "nbformat_minor": 5
}
