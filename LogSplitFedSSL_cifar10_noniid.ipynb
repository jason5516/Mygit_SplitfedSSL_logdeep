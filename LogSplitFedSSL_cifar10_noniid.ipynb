{
 "cells": [
  {
   "cell_type": "code",
   "execution_count": 1,
   "metadata": {
    "execution": {
     "iopub.execute_input": "2024-06-17T14:10:55.144246Z",
     "iopub.status.busy": "2024-06-17T14:10:55.144120Z",
     "iopub.status.idle": "2024-06-17T14:10:55.760314Z",
     "shell.execute_reply": "2024-06-17T14:10:55.760022Z",
     "shell.execute_reply.started": "2024-06-17T14:10:55.144232Z"
    },
    "id": "UBt1XYXhaqmG",
    "tags": []
   },
   "outputs": [],
   "source": [
    "import os\n",
    "from functools import wraps\n",
    "from collections import defaultdict\n",
    "from tqdm import tqdm\n",
    "\n",
    "from logdeep.models.lstm import deeplog, loganomaly, robustlog\n",
    "from logdeep.tools.predict import Predicter\n",
    "from logdeep.tools.train import Trainer\n",
    "from logdeep.tools.utils import *\n",
    "from logdeep.dataset.mylog import log_dataset\n",
    "# from logdeep.dataset.log import log_dataset\n",
    "from logdeep.dataset.sample import sliding_window, session_window\n",
    "from logdeep.tools.utils import (save_parameters, seed_everything,\n",
    "                                 train_val_split)\n",
    "\n",
    "import numpy as np\n",
    "# import matplotlib\n",
    "# import matplotlib.pyplot as plt\n",
    "import copy\n",
    "import random\n",
    "import time\n",
    "import torchvision\n",
    "import torch\n",
    "import torch.nn as nn\n",
    "import torch.nn.functional as F\n",
    "from torchvision.models import resnet\n",
    "from torch.utils.data import Dataset, DataLoader\n",
    "from torch.utils.tensorboard import SummaryWriter\n",
    "from torchvision import transforms, utils, datasets\n",
    "from argparse import ArgumentParser\n",
    "from torchvision import transforms as tt\n",
    "from PIL import Image\n",
    "from utils import AverageMeter"
   ]
  },
  {
   "cell_type": "code",
   "execution_count": 2,
   "metadata": {
    "execution": {
     "iopub.execute_input": "2024-06-17T14:10:55.761371Z",
     "iopub.status.busy": "2024-06-17T14:10:55.761097Z",
     "iopub.status.idle": "2024-06-17T14:10:55.762964Z",
     "shell.execute_reply": "2024-06-17T14:10:55.762758Z",
     "shell.execute_reply.started": "2024-06-17T14:10:55.761356Z"
    },
    "id": "80RsLgxtasod",
    "tags": []
   },
   "outputs": [],
   "source": [
    "# set manual seed for reproducibility\n",
    "seed = 1234"
   ]
  },
  {
   "cell_type": "code",
   "execution_count": 3,
   "metadata": {
    "colab": {
     "base_uri": "https://localhost:8080/"
    },
    "execution": {
     "iopub.execute_input": "2024-06-17T14:10:55.763307Z",
     "iopub.status.busy": "2024-06-17T14:10:55.763230Z",
     "iopub.status.idle": "2024-06-17T14:10:55.774573Z",
     "shell.execute_reply": "2024-06-17T14:10:55.774326Z",
     "shell.execute_reply.started": "2024-06-17T14:10:55.763300Z"
    },
    "id": "iIARTSyVa0xH",
    "outputId": "7103c049-17fa-4339-a8a2-d2884cac6bf3",
    "tags": []
   },
   "outputs": [
    {
     "data": {
      "text/plain": [
       "<torch._C.Generator at 0x7febcc048d70>"
      ]
     },
     "execution_count": 3,
     "metadata": {},
     "output_type": "execute_result"
    }
   ],
   "source": [
    "# general reproducibility\n",
    "random.seed(seed)\n",
    "np.random.seed(seed)\n",
    "torch.manual_seed(seed)"
   ]
  },
  {
   "cell_type": "code",
   "execution_count": 4,
   "metadata": {
    "execution": {
     "iopub.execute_input": "2024-06-17T14:10:55.774997Z",
     "iopub.status.busy": "2024-06-17T14:10:55.774882Z",
     "iopub.status.idle": "2024-06-17T14:10:55.776608Z",
     "shell.execute_reply": "2024-06-17T14:10:55.776382Z",
     "shell.execute_reply.started": "2024-06-17T14:10:55.774986Z"
    },
    "id": "Vv3ALBpva13d",
    "tags": []
   },
   "outputs": [],
   "source": [
    "# gpu training specific\n",
    "torch.backends.cudnn.deterministic = True\n",
    "torch.backends.cudnn.benchmark = False"
   ]
  },
  {
   "cell_type": "code",
   "execution_count": 5,
   "metadata": {
    "execution": {
     "iopub.execute_input": "2024-06-17T14:10:55.777005Z",
     "iopub.status.busy": "2024-06-17T14:10:55.776917Z",
     "iopub.status.idle": "2024-06-17T14:10:55.779759Z",
     "shell.execute_reply": "2024-06-17T14:10:55.779430Z",
     "shell.execute_reply.started": "2024-06-17T14:10:55.776996Z"
    },
    "tags": []
   },
   "outputs": [],
   "source": [
    "# Hyperparameters_List (H) = [rounds, client_fraction, number_of_clients, number_of_training_rounds_local, local_batch_size, lr_client]\n",
    "\n",
    "stop_gradient = True\n",
    "has_predictor = True\n",
    "OneLayer = \"1_layer\"\n",
    "TwoLayer = \"2_layer\"\n",
    "predictor_network=TwoLayer\n",
    "global_epochs = 1000\n",
    "client_fraction = 1.0\n",
    "client_num = 5\n",
    "local_epoch = 5\n",
    "batch_size = 512\n",
    "lr = 3e-4\n",
    "partition = 'iid'\n",
    "norm = 'bn'\n",
    "alpha_partition = 0.5\n",
    "sch_flag = False\n",
    "iid = False\n",
    "avg_freq = 1\n",
    "\n",
    "data_portion = 1.0\n",
    "noniid_ratio = 1.0\n",
    "# noniid_ratio = 0.55\n",
    "\n",
    "# save_path = f\"./model/SplitFSSL_resnet18/resnet18_cifar10_noniid_{batch_size}_{noniid_ratio}_{client_num}\"\n",
    "save_path = f\"./model/SplitFSSLMaxpool_deeplog/SplitFSSLdeeplog_log_{batch_size}_{noniid_ratio}_{client_num}\"\n",
    "H = [global_epochs, client_fraction, client_num, local_epoch, batch_size, lr]"
   ]
  },
  {
   "cell_type": "code",
   "execution_count": 6,
   "metadata": {
    "execution": {
     "iopub.execute_input": "2024-06-17T14:10:55.780337Z",
     "iopub.status.busy": "2024-06-17T14:10:55.780142Z",
     "iopub.status.idle": "2024-06-17T14:10:55.782625Z",
     "shell.execute_reply": "2024-06-17T14:10:55.782378Z",
     "shell.execute_reply.started": "2024-06-17T14:10:55.780322Z"
    }
   },
   "outputs": [],
   "source": [
    "logoptions = dict()\n",
    "logoptions['data_dir'] = './data/'\n",
    "logoptions['window_size'] = 10\n",
    "# logoptions['device'] = \"cpu\"\n",
    "\n",
    "# Smaple\n",
    "logoptions['sample'] = \"sliding_window\"\n",
    "logoptions['window_size'] = 10  # if fix_window\n",
    "\n",
    "# Features\n",
    "logoptions['sequentials'] = True\n",
    "logoptions['quantitatives'] = False\n",
    "logoptions['semantics'] = False\n",
    "logoptions['feature_num'] = sum(\n",
    "    [logoptions['sequentials'], logoptions['quantitatives'], logoptions['semantics']])"
   ]
  },
  {
   "cell_type": "code",
   "execution_count": 7,
   "metadata": {
    "execution": {
     "iopub.execute_input": "2024-06-17T14:10:55.783943Z",
     "iopub.status.busy": "2024-06-17T14:10:55.783759Z",
     "iopub.status.idle": "2024-06-17T14:10:55.785768Z",
     "shell.execute_reply": "2024-06-17T14:10:55.785517Z",
     "shell.execute_reply.started": "2024-06-17T14:10:55.783933Z"
    }
   },
   "outputs": [],
   "source": [
    "def save_checkpoint(state, checkpoint, filename= 'checkpoint.pth.tar'):\n",
    "    filepath = os.path.join(checkpoint, filename)\n",
    "    os.makedirs(checkpoint, exist_ok=True)\n",
    "    torch.save(state, filepath)\n",
    "    print(f'global epoch {state[\"glepoch\"]} saved')"
   ]
  },
  {
   "cell_type": "code",
   "execution_count": 8,
   "metadata": {
    "execution": {
     "iopub.execute_input": "2024-06-17T14:10:55.786119Z",
     "iopub.status.busy": "2024-06-17T14:10:55.786047Z",
     "iopub.status.idle": "2024-06-17T14:10:56.083369Z",
     "shell.execute_reply": "2024-06-17T14:10:56.083052Z",
     "shell.execute_reply.started": "2024-06-17T14:10:55.786112Z"
    },
    "tags": []
   },
   "outputs": [
    {
     "name": "stdout",
     "output_type": "stream",
     "text": [
      "File ./data/hdfs/hdfs_train, number of sessions 4855\n",
      "number of client 0 seqs 9548\n",
      "number of client 1 seqs 9273\n",
      "number of client 2 seqs 9301\n",
      "number of client 3 seqs 9272\n",
      "number of client 4 seqs 9181\n"
     ]
    }
   ],
   "source": [
    "if logoptions['sample'] == 'sliding_window':\n",
    "    train_logs, train_labels = sliding_window(logoptions['data_dir'],\n",
    "                                              datatype='train',\n",
    "                                              window_size=logoptions['window_size'],\n",
    "                                              clientnum = client_num)\n",
    "    # val_logs, val_labels = sliding_window(logoptions['data_dir'],\n",
    "    #                                       datatype='val',\n",
    "    #                                       window_size=logoptions['window_size'],\n",
    "    #                                       clientnum = client_num,\n",
    "    #                                       sample_ratio=0.001)\n",
    "elif logoptions['sample'] == 'session_window':\n",
    "    train_logs, train_labels = session_window(logoptions['data_dir'],\n",
    "                                              datatype='train')\n",
    "    # val_logs, val_labels = session_window(logoptions['data_dir'],\n",
    "    #                                       datatype='val')\n",
    "else:\n",
    "    raise NotImplementedError\n"
   ]
  },
  {
   "cell_type": "code",
   "execution_count": 9,
   "metadata": {
    "execution": {
     "iopub.execute_input": "2024-06-17T14:10:56.083903Z",
     "iopub.status.busy": "2024-06-17T14:10:56.083801Z",
     "iopub.status.idle": "2024-06-17T14:10:56.086359Z",
     "shell.execute_reply": "2024-06-17T14:10:56.086142Z",
     "shell.execute_reply.started": "2024-06-17T14:10:56.083892Z"
    }
   },
   "outputs": [],
   "source": [
    "train_dataset = []\n",
    "# valid_dataset = []\n",
    "for trainlog, label in zip(train_logs, train_labels):\n",
    "    dataset = log_dataset(logs=trainlog,\n",
    "                                labels=label,\n",
    "                                seq=logoptions['sequentials'],\n",
    "                                quan=logoptions['quantitatives'],\n",
    "                                sem=logoptions['semantics'])\n",
    "    train_dataset.append(dataset)\n",
    "    \n",
    "# for vallog, label in zip(val_logs, val_labels):  \n",
    "#     dataset = log_dataset(logs=vallog,\n",
    "#                                 labels=label,\n",
    "#                                 seq=logoptions['sequentials'],\n",
    "#                                 quan=logoptions['quantitatives'],\n",
    "#                                 sem=logoptions['semantics'])\n",
    "#     valid_dataset.append(dataset)"
   ]
  },
  {
   "cell_type": "code",
   "execution_count": 10,
   "metadata": {
    "execution": {
     "iopub.execute_input": "2024-06-17T14:10:56.086754Z",
     "iopub.status.busy": "2024-06-17T14:10:56.086663Z",
     "iopub.status.idle": "2024-06-17T14:10:56.096789Z",
     "shell.execute_reply": "2024-06-17T14:10:56.096572Z",
     "shell.execute_reply.started": "2024-06-17T14:10:56.086745Z"
    }
   },
   "outputs": [],
   "source": [
    "train_loader = []\n",
    "# valid_loader = []\n",
    "for dataset in train_dataset:\n",
    "    loader = DataLoader(dataset,\n",
    "                        batch_size=batch_size,\n",
    "                        shuffle=True,\n",
    "                        pin_memory=True,\n",
    "                        drop_last=True)\n",
    "    train_loader.append(loader)\n",
    "# for dataset in valid_dataset:\n",
    "#     loader = DataLoader(dataset,\n",
    "#                         batch_size=batch_size,\n",
    "#                         shuffle=False,\n",
    "#                         pin_memory=True)\n",
    "#     valid_loader.append(loader)"
   ]
  },
  {
   "cell_type": "code",
   "execution_count": 11,
   "metadata": {
    "execution": {
     "iopub.execute_input": "2024-06-17T14:10:56.097171Z",
     "iopub.status.busy": "2024-06-17T14:10:56.097082Z",
     "iopub.status.idle": "2024-06-17T14:10:56.098869Z",
     "shell.execute_reply": "2024-06-17T14:10:56.098644Z",
     "shell.execute_reply.started": "2024-06-17T14:10:56.097162Z"
    },
    "id": "qVsY91KFuGMo",
    "tags": []
   },
   "outputs": [],
   "source": [
    "class BaseModel(nn.Module):\n",
    "    def __init__(self):\n",
    "        super(BaseModel, self).__init__()"
   ]
  },
  {
   "cell_type": "code",
   "execution_count": 12,
   "metadata": {
    "execution": {
     "iopub.execute_input": "2024-06-17T14:10:56.099272Z",
     "iopub.status.busy": "2024-06-17T14:10:56.099167Z",
     "iopub.status.idle": "2024-06-17T14:10:56.101328Z",
     "shell.execute_reply": "2024-06-17T14:10:56.101083Z",
     "shell.execute_reply.started": "2024-06-17T14:10:56.099262Z"
    },
    "id": "nRBBTYFkuSfC",
    "tags": []
   },
   "outputs": [],
   "source": [
    "class EMA:\n",
    "    def __init__(self, beta):\n",
    "        super().__init__()\n",
    "        self.beta = beta\n",
    "\n",
    "    def update_average(self, old, new):\n",
    "        if old is None:\n",
    "            return new\n",
    "        return old * self.beta + (1 - self.beta) * new"
   ]
  },
  {
   "cell_type": "code",
   "execution_count": 13,
   "metadata": {
    "execution": {
     "iopub.execute_input": "2024-06-17T14:10:56.101728Z",
     "iopub.status.busy": "2024-06-17T14:10:56.101634Z",
     "iopub.status.idle": "2024-06-17T14:10:56.104387Z",
     "shell.execute_reply": "2024-06-17T14:10:56.104113Z",
     "shell.execute_reply.started": "2024-06-17T14:10:56.101718Z"
    },
    "tags": []
   },
   "outputs": [],
   "source": [
    "def update_moving_average(ema_updater, ma_model, current_model):\n",
    "    for current_params, ma_params in zip(\n",
    "            current_model.parameters(), ma_model.parameters()\n",
    "    ):\n",
    "        old_weight, up_weight = ma_params.data, current_params.data\n",
    "        ma_params.data = ema_updater.update_average(old_weight, up_weight)\n",
    "\n",
    "\n",
    "def byol_loss_fn(x, y):\n",
    "    x = F.normalize(x, dim=-1, p=2)\n",
    "    y = F.normalize(y, dim=-1, p=2)\n",
    "    return 2 - 2 * (x * y).sum(dim=-1)"
   ]
  },
  {
   "cell_type": "code",
   "execution_count": 14,
   "metadata": {
    "execution": {
     "iopub.execute_input": "2024-06-17T14:10:56.104788Z",
     "iopub.status.busy": "2024-06-17T14:10:56.104715Z",
     "iopub.status.idle": "2024-06-17T14:10:56.107271Z",
     "shell.execute_reply": "2024-06-17T14:10:56.107011Z",
     "shell.execute_reply.started": "2024-06-17T14:10:56.104781Z"
    },
    "id": "zDWCgMneuVTC",
    "tags": []
   },
   "outputs": [],
   "source": [
    "class MLP(nn.Module):\n",
    "    def __init__(self, dim, projection_size, hidden_size=4096, num_layer=TwoLayer):\n",
    "        super().__init__()\n",
    "        self.in_features = dim\n",
    "        if num_layer == OneLayer:\n",
    "            self.net = nn.Sequential(\n",
    "                nn.Linear(dim, projection_size),\n",
    "            )\n",
    "        elif num_layer == TwoLayer:\n",
    "            self.net = nn.Sequential(\n",
    "                nn.Linear(dim, hidden_size),\n",
    "                nn.BatchNorm1d(hidden_size),\n",
    "                nn.ReLU(inplace=True),\n",
    "                nn.Linear(hidden_size, projection_size),\n",
    "            )\n",
    "        else:\n",
    "            raise NotImplementedError(f\"Not defined MLP: {num_layer}\")\n",
    "\n",
    "    def forward(self, x):\n",
    "        return self.net(x)"
   ]
  },
  {
   "cell_type": "code",
   "execution_count": 15,
   "metadata": {
    "execution": {
     "iopub.execute_input": "2024-06-17T14:10:56.107642Z",
     "iopub.status.busy": "2024-06-17T14:10:56.107574Z",
     "iopub.status.idle": "2024-06-17T14:10:56.111385Z",
     "shell.execute_reply": "2024-06-17T14:10:56.111141Z",
     "shell.execute_reply.started": "2024-06-17T14:10:56.107635Z"
    },
    "id": "jhkMK8o6LU4S",
    "tags": []
   },
   "outputs": [],
   "source": [
    "#client model\n",
    "class BYOL_Client(nn.Module):\n",
    "    def __init__(\n",
    "        self,\n",
    "        net,\n",
    "        image_size=32,\n",
    "        projection_size=2048,\n",
    "        projection_hidden_size=4096,\n",
    "        moving_average_decay=0.99,\n",
    "        stop_gradient=True,\n",
    "        has_predictor=True,\n",
    "        predictor_network=TwoLayer,\n",
    "    ):\n",
    "        super().__init__()\n",
    "\n",
    "        self.online_encoder = net\n",
    "        if not hasattr(net, 'feature_dim'):\n",
    "            feature_dim = list(net.children())[-1].in_features\n",
    "        else:\n",
    "            feature_dim = net.feature_dim\n",
    "        self.online_encoder.fc = MLP(feature_dim, projection_size, projection_hidden_size)  # projector\n",
    "\n",
    "        self.target_encoder = None\n",
    "        self.target_ema_updater = EMA(moving_average_decay)\n",
    "\n",
    "        self.stop_gradient = stop_gradient\n",
    "        self.has_predictor = has_predictor\n",
    "        \n",
    "        # debug purpose\n",
    "        # self.forward(torch.randn(2, 3, image_size, image_size), torch.randn(2, 3, image_size, image_size))\n",
    "        # self.reset_moving_average()\n",
    "        \n",
    "    def _get_target_encoder(self):\n",
    "        target_encoder = copy.deepcopy(self.online_encoder)\n",
    "        return target_encoder\n",
    "\n",
    "    def reset_moving_average(self):\n",
    "        del self.target_encoder\n",
    "        self.target_encoder = None\n",
    "\n",
    "    def update_moving_average(self):\n",
    "        assert (\n",
    "                self.target_encoder is not None\n",
    "        ), \"target encoder has not been created yet\"\n",
    "        update_moving_average(self.target_ema_updater, self.target_encoder, self.online_encoder)\n",
    "\n",
    "    def forward(self, image_one, image_two):\n",
    "        online_proj_one = self.online_encoder(image_one)\n",
    "        online_proj_two = self.online_encoder(image_two)\n",
    "\n",
    "        # online_pred_one = self.online_predictor(online_proj_one)\n",
    "        # online_pred_two = self.online_predictor(online_proj_two)\n",
    "\n",
    "        if self.stop_gradient:\n",
    "            with torch.no_grad():\n",
    "                if self.target_encoder is None:\n",
    "                    self.target_encoder = self._get_target_encoder()\n",
    "                target_proj_one = self.target_encoder(image_one)\n",
    "                target_proj_two = self.target_encoder(image_two)\n",
    "\n",
    "                target_proj_one = target_proj_one.detach()\n",
    "                target_proj_two = target_proj_two.detach()\n",
    "\n",
    "\n",
    "        # loss_one = loss_fn(online_pred_one, target_proj_two.detach())\n",
    "        # loss_two = loss_fn(online_pred_two, target_proj_one.detach())\n",
    "\n",
    "        # loss = loss_one + loss_two\n",
    "        return online_proj_one, online_proj_two, target_proj_one, target_proj_two"
   ]
  },
  {
   "cell_type": "code",
   "execution_count": 16,
   "metadata": {
    "execution": {
     "iopub.execute_input": "2024-06-17T14:10:56.111731Z",
     "iopub.status.busy": "2024-06-17T14:10:56.111662Z",
     "iopub.status.idle": "2024-06-17T14:10:56.113959Z",
     "shell.execute_reply": "2024-06-17T14:10:56.113727Z",
     "shell.execute_reply.started": "2024-06-17T14:10:56.111724Z"
    },
    "id": "brGo4ARd7nja",
    "tags": []
   },
   "outputs": [],
   "source": [
    "# server model\n",
    "class BYOL_Server(nn.Module):\n",
    "    def __init__(\n",
    "        self,\n",
    "        projection_size=2048,\n",
    "        projection_hidden_size=4096,\n",
    "        moving_average_decay=0.99,\n",
    "        predictor_network=TwoLayer,\n",
    "    ):\n",
    "        super().__init__()\n",
    "\n",
    "        self.online_predictor = MLP(projection_size, projection_size, projection_hidden_size, predictor_network)\n",
    "\n",
    "    def forward(self, online_proj_one, online_proj_two, target_proj_one, target_proj_two):\n",
    "\n",
    "        online_pred_one = self.online_predictor(online_proj_one)\n",
    "        online_pred_two = self.online_predictor(online_proj_two)\n",
    "\n",
    "\n",
    "        loss_one = byol_loss_fn(online_pred_one, target_proj_two)\n",
    "        loss_two = byol_loss_fn(online_pred_two, target_proj_one)\n",
    "        loss = loss_one + loss_two\n",
    "        \n",
    "        return loss.mean()"
   ]
  },
  {
   "cell_type": "code",
   "execution_count": 17,
   "metadata": {
    "execution": {
     "iopub.execute_input": "2024-06-17T14:10:56.114298Z",
     "iopub.status.busy": "2024-06-17T14:10:56.114227Z",
     "iopub.status.idle": "2024-06-17T14:10:56.723898Z",
     "shell.execute_reply": "2024-06-17T14:10:56.723568Z",
     "shell.execute_reply.started": "2024-06-17T14:10:56.114291Z"
    },
    "id": "M8EAqvNK75NR",
    "tags": []
   },
   "outputs": [],
   "source": [
    "# net = ResNet18()\n",
    "net = deeplog(input_size=1, hidden_size=64, num_layers=2, num_keys=28)\n",
    "client_model = BYOL_Client(net=net, projection_size=28, projection_hidden_size=64, \n",
    "                           stop_gradient=stop_gradient, has_predictor=has_predictor, predictor_network=predictor_network)\n",
    "server_model = BYOL_Server(projection_size=28, projection_hidden_size=64)\n",
    "server_model.cuda()\n",
    "\n",
    "client_weights = [1/5 for i in range(client_num)]\n",
    "client_models = [copy.deepcopy(client_model).cuda() for idx in range(client_num)]\n",
    "# server_models = [copy.deepcopy(server_model).cuda() for idx in range(client_num)]\n",
    "\n",
    "optimizer_server = torch.optim.Adam(server_model.parameters(), lr = H[5]) \n",
    "optimizer_clients = [torch.optim.Adam(client_models[i].parameters(), lr = H[5]) for i in range(len(client_models))]"
   ]
  },
  {
   "cell_type": "code",
   "execution_count": 18,
   "metadata": {
    "execution": {
     "iopub.execute_input": "2024-06-17T14:10:56.724337Z",
     "iopub.status.busy": "2024-06-17T14:10:56.724257Z",
     "iopub.status.idle": "2024-06-17T14:10:56.725900Z",
     "shell.execute_reply": "2024-06-17T14:10:56.725713Z",
     "shell.execute_reply.started": "2024-06-17T14:10:56.724328Z"
    }
   },
   "outputs": [],
   "source": [
    "# if using checkpoint to train\n",
    "epoch = 0\n",
    "# checkpath = save_path + \"/checkpoint.pth.tar\" \n",
    "# checkpoint = torch.load(checkpath)\n",
    "# epoch = checkpoint['glepoch']\n",
    "# print(epoch)\n",
    "# optimizer_server.load_state_dict(checkpoint['optimizer'][0])\n",
    "# for localmodel in client_models:\n",
    "#     localmodel.online_encoder.load_state_dict(checkpoint['state_dict'])\n",
    "# for clientidx in range(client_num):\n",
    "#     optimizer_clients[clientidx].load_state_dict(checkpoint['optimizer'][clientidx+1])"
   ]
  },
  {
   "cell_type": "code",
   "execution_count": 19,
   "metadata": {
    "execution": {
     "iopub.execute_input": "2024-06-17T14:10:56.726230Z",
     "iopub.status.busy": "2024-06-17T14:10:56.726157Z",
     "iopub.status.idle": "2024-06-17T14:10:56.736580Z",
     "shell.execute_reply": "2024-06-17T14:10:56.736383Z",
     "shell.execute_reply.started": "2024-06-17T14:10:56.726224Z"
    },
    "tags": []
   },
   "outputs": [
    {
     "data": {
      "text/plain": [
       "BYOL_Client(\n",
       "  (online_encoder): deeplog(\n",
       "    (lstm): LSTM(1, 64, num_layers=2, batch_first=True)\n",
       "    (fc): MLP(\n",
       "      (net): Sequential(\n",
       "        (0): Linear(in_features=64, out_features=64, bias=True)\n",
       "        (1): BatchNorm1d(64, eps=1e-05, momentum=0.1, affine=True, track_running_stats=True)\n",
       "        (2): ReLU(inplace=True)\n",
       "        (3): Linear(in_features=64, out_features=28, bias=True)\n",
       "      )\n",
       "    )\n",
       "  )\n",
       ")"
      ]
     },
     "execution_count": 19,
     "metadata": {},
     "output_type": "execute_result"
    }
   ],
   "source": [
    "client_model"
   ]
  },
  {
   "cell_type": "code",
   "execution_count": 20,
   "metadata": {
    "execution": {
     "iopub.execute_input": "2024-06-17T14:10:56.736982Z",
     "iopub.status.busy": "2024-06-17T14:10:56.736895Z",
     "iopub.status.idle": "2024-06-17T14:10:56.738724Z",
     "shell.execute_reply": "2024-06-17T14:10:56.738523Z",
     "shell.execute_reply.started": "2024-06-17T14:10:56.736974Z"
    }
   },
   "outputs": [
    {
     "data": {
      "text/plain": [
       "BYOL_Server(\n",
       "  (online_predictor): MLP(\n",
       "    (net): Sequential(\n",
       "      (0): Linear(in_features=28, out_features=64, bias=True)\n",
       "      (1): BatchNorm1d(64, eps=1e-05, momentum=0.1, affine=True, track_running_stats=True)\n",
       "      (2): ReLU(inplace=True)\n",
       "      (3): Linear(in_features=64, out_features=28, bias=True)\n",
       "    )\n",
       "  )\n",
       ")"
      ]
     },
     "execution_count": 20,
     "metadata": {},
     "output_type": "execute_result"
    }
   ],
   "source": [
    "server_model"
   ]
  },
  {
   "cell_type": "code",
   "execution_count": 21,
   "metadata": {
    "execution": {
     "iopub.execute_input": "2024-06-17T14:10:56.739044Z",
     "iopub.status.busy": "2024-06-17T14:10:56.738976Z",
     "iopub.status.idle": "2024-06-17T14:10:56.740579Z",
     "shell.execute_reply": "2024-06-17T14:10:56.740394Z",
     "shell.execute_reply.started": "2024-06-17T14:10:56.739037Z"
    },
    "tags": []
   },
   "outputs": [],
   "source": [
    "class create_iterator():\n",
    "    def __init__(self, iterator) -> None:\n",
    "        self.iterator = iterator\n",
    "\n",
    "    def __next__(self):\n",
    "        return next(self.iterator)"
   ]
  },
  {
   "cell_type": "code",
   "execution_count": 22,
   "metadata": {
    "execution": {
     "iopub.execute_input": "2024-06-17T14:10:56.742097Z",
     "iopub.status.busy": "2024-06-17T14:10:56.741967Z",
     "iopub.status.idle": "2024-06-17T14:10:56.743648Z",
     "shell.execute_reply": "2024-06-17T14:10:56.743463Z",
     "shell.execute_reply.started": "2024-06-17T14:10:56.742090Z"
    },
    "tags": []
   },
   "outputs": [],
   "source": [
    "client_iterator_list = []\n",
    "\n",
    "for client_id in range(client_num):\n",
    "    client_iterator_list.append(create_iterator(iter((train_loader[client_id]))))"
   ]
  },
  {
   "cell_type": "code",
   "execution_count": 23,
   "metadata": {
    "execution": {
     "iopub.execute_input": "2024-06-17T14:10:56.743969Z",
     "iopub.status.busy": "2024-06-17T14:10:56.743898Z",
     "iopub.status.idle": "2024-06-17T14:10:56.746079Z",
     "shell.execute_reply": "2024-06-17T14:10:56.745890Z",
     "shell.execute_reply.started": "2024-06-17T14:10:56.743962Z"
    },
    "tags": []
   },
   "outputs": [],
   "source": [
    "# read one batch of image pair\n",
    "def next_data_batch(client_id):\n",
    "    try:\n",
    "        log1, log2, log = next(client_iterator_list[client_id])\n",
    "        \n",
    "        if log1.size(0) != batch_size:\n",
    "            try:\n",
    "                next(client_iterator_list[client_id])\n",
    "            except StopIteration:\n",
    "                pass\n",
    "            client_iterator_list[client_id] = create_iterator(iter((train_loader[client_id])))\n",
    "            log1, log2, log = next(client_iterator_list[client_id])\n",
    "    except StopIteration:\n",
    "        client_iterator_list[client_id] = create_iterator(iter((train_loader[client_id])))\n",
    "        log1, log2, log = next(client_iterator_list[client_id])\n",
    "    return log1, log2, log"
   ]
  },
  {
   "cell_type": "code",
   "execution_count": 24,
   "metadata": {
    "execution": {
     "iopub.execute_input": "2024-06-17T14:10:56.746392Z",
     "iopub.status.busy": "2024-06-17T14:10:56.746322Z",
     "iopub.status.idle": "2024-06-17T14:10:56.748906Z",
     "shell.execute_reply": "2024-06-17T14:10:56.748685Z",
     "shell.execute_reply.started": "2024-06-17T14:10:56.746385Z"
    },
    "id": "3YMN8FNA8DQH",
    "tags": []
   },
   "outputs": [],
   "source": [
    "def train_server(online_proj_one, online_proj_two, target_proj_one, target_proj_two, server_model):\n",
    "    \n",
    "    # print(\"shape\", online_proj_one.shape)\n",
    "    # print(\"online_proj_one\", online_proj_one)\n",
    "    \n",
    "    \n",
    "    online_proj_one.requires_grad = True\n",
    "    online_proj_two.requires_grad = True\n",
    "    \n",
    "    online_proj_one.retain_grad()\n",
    "    online_proj_two.retain_grad()\n",
    "\n",
    "    server_model.train()\n",
    "    \n",
    "    # forward prop\n",
    "    loss = server_model(online_proj_one, online_proj_two, target_proj_one, target_proj_two)\n",
    "    \n",
    "    if online_proj_one.grad is not None:\n",
    "        online_proj_one.grad.zero_()\n",
    "        \n",
    "    if online_proj_two.grad is not None:\n",
    "        online_proj_two.grad.zero_()\n",
    "            \n",
    "    # backward prop\n",
    "    loss.backward()\n",
    "    online_proj_one_grad, online_proj_two_grad = online_proj_one.grad.detach().clone(), online_proj_two.grad.detach().clone()\n",
    "    # print(\"online_proj_one_grad\", online_proj_one_grad.shape)\n",
    "    # print(\"online_proj_two_grad\", online_proj_two_grad.shape)\n",
    "    \n",
    "    return online_proj_one_grad, online_proj_two_grad, loss"
   ]
  },
  {
   "cell_type": "code",
   "execution_count": 25,
   "metadata": {
    "execution": {
     "iopub.execute_input": "2024-06-17T14:10:56.749305Z",
     "iopub.status.busy": "2024-06-17T14:10:56.749209Z",
     "iopub.status.idle": "2024-06-17T14:10:56.751031Z",
     "shell.execute_reply": "2024-06-17T14:10:56.750819Z",
     "shell.execute_reply.started": "2024-06-17T14:10:56.749296Z"
    },
    "tags": []
   },
   "outputs": [],
   "source": [
    "def optimizer_zero_grads(optimizer_server, optimizer_clients):  # This needs to be called\n",
    "    optimizer_server.zero_grad()\n",
    "    for i in range(client_num):\n",
    "        optimizer_clients[i].zero_grad()"
   ]
  },
  {
   "cell_type": "code",
   "execution_count": 26,
   "metadata": {
    "execution": {
     "iopub.execute_input": "2024-06-17T14:10:56.751430Z",
     "iopub.status.busy": "2024-06-17T14:10:56.751353Z",
     "iopub.status.idle": "2024-06-17T14:10:56.760963Z",
     "shell.execute_reply": "2024-06-17T14:10:56.760702Z",
     "shell.execute_reply.started": "2024-06-17T14:10:56.751423Z"
    },
    "id": "aSuc_o8KbhVQ",
    "tags": []
   },
   "outputs": [],
   "source": [
    "def training(client_models, server_model, optimizer_server, optimizer_clients, rounds, batch_size, lr, C, K, local_epochs, plt_title, plt_color, cifar_data_test=None,\n",
    "             test_batch_size=None, criterion=None, num_classes=None, classes_test=None, sch_flag=None):\n",
    "   \n",
    "    # training loss\n",
    "    train_loss = []\n",
    "    test_loss = []\n",
    "    test_accuracy = []\n",
    "    best_accuracy = 0\n",
    "    # measure time\n",
    "    start = time.time()\n",
    "    \n",
    "    \n",
    "    num_batch = len(train_loader[0])\n",
    "    \n",
    "    writer = SummaryWriter(f'logs/SplitFSSLMaxpool_resnet18/resnet18Maxpooling_log_{batch_size}_{noniid_ratio}_{client_num}')\n",
    "    global_step = 0\n",
    "    for curr_round in range(epoch, rounds + 1):\n",
    "        metrics = defaultdict(list)\n",
    "        print(f\"Global Round:\", curr_round)\n",
    "        w, local_loss = [], []\n",
    "        \n",
    "        batch_time = AverageMeter()\n",
    "        data_time = AverageMeter()\n",
    "        p_bar = tqdm(range(num_batch))\n",
    "        \n",
    "        for batch in range(num_batch):\n",
    "            optimizer_zero_grads(optimizer_server, optimizer_clients)\n",
    "            \n",
    "            online_proj_one_list = [None for _ in range(5)]\n",
    "            online_proj_two_list = [None for _ in range(5)]\n",
    "            target_proj_one_list = [None for _ in range(5)]\n",
    "            target_proj_two_list = [None for _ in range(5)]\n",
    "\n",
    "            # client forward\n",
    "            # select 5 client to join training\n",
    "            s_clients = []\n",
    "            s_clients = random.sample(range(client_num), 5)\n",
    "            for i, client_id in enumerate(s_clients):\n",
    "                # print(\"Client: \",i)\n",
    "                # Compute a local update\n",
    "                log1, log2, log = next_data_batch(client_id)\n",
    "                \n",
    "                # features1 = []\n",
    "                # features2 = []\n",
    "                # for value in log1:\n",
    "                #     features1.append(value.T.clone().detach().cuda())\n",
    "                # for value in log2:\n",
    "                #     features2.append(value.T.clone().detach().cuda())\n",
    "                    \n",
    "                log1 = log1.cuda()\n",
    "                log2 = log2.cuda()\n",
    "                \n",
    "                data_time.update(time.time() - start)\n",
    "                \n",
    "                # pass to client model\n",
    "                # print(\"pass to client model\")\n",
    "                client_models[client_id].train()\n",
    "                online_proj_one, online_proj_two, target_proj_one, target_proj_two = client_models[client_id](log1, log2)\n",
    "                \n",
    "               \n",
    "                # store representations\n",
    "                online_proj_one_list[i] = online_proj_one\n",
    "                online_proj_two_list[i] = online_proj_two\n",
    "                target_proj_one_list[i] = target_proj_one\n",
    "                target_proj_two_list[i] = target_proj_two\n",
    "                  \n",
    "\n",
    "            # stack representations\n",
    "            stack_online_proj_one = torch.cat(online_proj_one_list, dim = 0)\n",
    "            stack_online_proj_two = torch.cat(online_proj_two_list, dim = 0)\n",
    "            stack_target_proj_one = torch.cat(target_proj_one_list, dim = 0)\n",
    "            stack_target_proj_two = torch.cat(target_proj_two_list, dim = 0)\n",
    "\n",
    "            stack_online_proj_one, stack_online_proj_two, stack_target_proj_one, stack_target_proj_two = stack_online_proj_one.cuda(), stack_online_proj_two.cuda(), stack_target_proj_one.cuda(), stack_target_proj_two.cuda()\n",
    "            \n",
    "            # server computes\n",
    "            # print(\"server computes\")\n",
    "            online_proj_one_grad, online_proj_two_grad, loss = train_server(stack_online_proj_one.detach(), stack_online_proj_two.detach(), stack_target_proj_one, stack_target_proj_two, server_model)\n",
    "            local_loss.append((loss.item()))\n",
    "            optimizer_server.step()\n",
    "            \n",
    "            \n",
    "            # distribute gradients to clients\n",
    "            # online_proj_one_grad, online_proj_two_grad = online_proj_one_grad.cpu(), online_proj_two_grad.cpu()\n",
    "            gradient_dict_one = {key: [] for key in range(client_num)}\n",
    "            gradient_dict_two = {key: [] for key in range(client_num)}\n",
    "            \n",
    "            for j in range(5):\n",
    "                gradient_dict_one[j] = online_proj_one_grad[j*batch_size:(j+1)*batch_size, :]\n",
    "                gradient_dict_two[j] = online_proj_two_grad[j*batch_size:(j+1)*batch_size, :]\n",
    "                \n",
    "            \n",
    "            for i, client_id in enumerate(s_clients):\n",
    "                online_proj_one_list[i].backward(gradient_dict_one[i])\n",
    "                online_proj_two_list[i].backward(gradient_dict_two[i])\n",
    "                optimizer_clients[client_id].step()\n",
    "                client_models[client_id].update_moving_average()\n",
    "            \n",
    "            # if (batch+1)%10 == 0:\n",
    "            #     print(f\"Step [{batch}/{num_batch}]:\\tLoss: {loss.item()}\")\n",
    "            \n",
    "            del log1, log2\n",
    "            writer.add_scalar(\"Loss/train_step\", loss, global_step)\n",
    "            metrics[\"Loss/train\"].append(loss.item())\n",
    "            global_step += 1\n",
    "            \n",
    "            batch_time.update(time.time() - start)\n",
    "            start = time.time()\n",
    "            #=======================================set p_bar description=======================================================\n",
    "            p_bar.set_description(\"Train Epoch: {epoch}/{epochs:4}. Iter: {batch:4}/{iter:4}. Data: {data:.3f}s. Batch: {bt:.3f}s. Loss: {loss:.4f}.\".format(\n",
    "                    epoch=curr_round,\n",
    "                    epochs=rounds+1,\n",
    "                    batch=batch + 1,\n",
    "                    iter=num_batch,\n",
    "                    data=data_time.avg,\n",
    "                    bt=batch_time.avg,\n",
    "                    loss=loss.item()))\n",
    "            p_bar.update()\n",
    "            #=======================================set p_bar description=======================================================\n",
    "            \n",
    "            if batch == num_batch - 1 or ((batch+1) % 10 == 0):\n",
    "                # print(\"aggregate batch\", batch)\n",
    "                with torch.no_grad():\n",
    "                    # aggregate client models\n",
    "                    for key in client_model.state_dict().keys():\n",
    "                        # num_batches_tracked is a non trainable LongTensor and\n",
    "                        # num_batches_tracked are the same for all clients for the given datasets\n",
    "                        if \"running\" in key or \"num_batches\" in key:\n",
    "                            continue\n",
    "                        # elif 'target' in key:\n",
    "                        #     continue\n",
    "                        else:\n",
    "                            temp = torch.zeros_like(client_model.state_dict()[key]).to('cuda')\n",
    "                            for client_idx in s_clients:\n",
    "                                temp += client_weights[client_idx] * client_models[client_idx].state_dict()[key]                        \n",
    "                            client_model.state_dict()[key].data.copy_(temp)\n",
    "                            for client_idx in range(len(client_models)):\n",
    "                                client_models[client_idx].state_dict()[key].data.copy_(client_model.state_dict()[key])\n",
    "        \n",
    "        \n",
    "        p_bar.close()\n",
    "        # scheduler_server.step()\n",
    "        for k, v in metrics.items():\n",
    "            writer.add_scalar(k, np.array(v).mean(), curr_round)\n",
    "\n",
    "\n",
    "        # loss\n",
    "        loss_avg = sum(local_loss) / len(local_loss)\n",
    "        train_loss.append(loss_avg)\n",
    "        if curr_round % 5 == 0:\n",
    "            optimizer_dict = []\n",
    "            optimizer_dict.append(optimizer_server.state_dict())\n",
    "            for client_idx in range(client_num):\n",
    "                optimizer_dict.append(optimizer_clients[client_idx].state_dict())\n",
    "            state_dict = client_model.online_encoder.cpu().state_dict()\n",
    "            save_checkpoint({\n",
    "                'glepoch': curr_round+1,\n",
    "                'state_dict': state_dict,\n",
    "                'optimizer': optimizer_dict,\n",
    "            }, save_path)\n",
    "        if curr_round % 100 == 0:\n",
    "            torch.save(client_model.online_encoder.cpu().state_dict(), save_path + f\"_{curr_round}_epoch.pt\")\n",
    "        \n",
    "        \n",
    "        print(f\"Global round: {curr_round} | Average loss: {loss_avg}\")\n",
    "        # print('best_accuracy:', best_accuracy, '---Round:', curr_round, '---lr', lr, '----localEpocs--', E)\n",
    "\n",
    "    end = time.time()\n",
    "   \n",
    "    print(\"Training Done!\")\n",
    "    print(\"Total time taken to Train: {}\".format(end - start))\n",
    "\n",
    "    return client_model, train_loss\n"
   ]
  },
  {
   "cell_type": "code",
   "execution_count": 27,
   "metadata": {
    "colab": {
     "base_uri": "https://localhost:8080/"
    },
    "execution": {
     "iopub.execute_input": "2024-06-17T14:10:56.761380Z",
     "iopub.status.busy": "2024-06-17T14:10:56.761278Z",
     "iopub.status.idle": "2024-06-17T14:10:56.763468Z",
     "shell.execute_reply": "2024-06-17T14:10:56.763241Z",
     "shell.execute_reply.started": "2024-06-17T14:10:56.761371Z"
    },
    "id": "fNqdWcj6d-75",
    "outputId": "27e28498-a3e7-47ef-977b-0f935619d113",
    "tags": []
   },
   "outputs": [
    {
     "name": "stdout",
     "output_type": "stream",
     "text": [
      "iid_bn_comm_rounds_1000_clientfr_1.0_numclients_5_clientepochs_5_clientbs_512_clientLR_0.0003\n"
     ]
    }
   ],
   "source": [
    "plot_str = partition + '_' + norm + '_' + 'comm_rounds_' + str(global_epochs) + '_clientfr_' + str(\n",
    "        client_fraction) + '_numclients_' + str(client_num) + '_clientepochs_' + str(\n",
    "        local_epoch) + '_clientbs_' + str(batch_size) + '_clientLR_' + str(lr)\n",
    "print(plot_str)"
   ]
  },
  {
   "cell_type": "code",
   "execution_count": 28,
   "metadata": {
    "colab": {
     "base_uri": "https://localhost:8080/"
    },
    "execution": {
     "iopub.execute_input": "2024-06-17T14:10:56.763829Z",
     "iopub.status.busy": "2024-06-17T14:10:56.763757Z",
     "iopub.status.idle": "2024-06-17T14:43:59.595697Z",
     "shell.execute_reply": "2024-06-17T14:43:59.595399Z",
     "shell.execute_reply.started": "2024-06-17T14:10:56.763822Z"
    },
    "id": "g3tMYpDoerta",
    "outputId": "45a7d097-04fc-4a86-e139-8dc7ab3faeb4",
    "scrolled": true,
    "tags": []
   },
   "outputs": [
    {
     "name": "stdout",
     "output_type": "stream",
     "text": [
      "Global Round: 0\n"
     ]
    },
    {
     "name": "stderr",
     "output_type": "stream",
     "text": [
      "  0%|                                                                                              | 0/18 [00:00<?, ?it/s]/home/haken/.conda/envs/splitfedssl/lib/python3.7/site-packages/torch/nn/modules/rnn.py:775: UserWarning: RNN module weights are not part of single contiguous chunk of memory. This means they need to be compacted at every call, possibly greatly increasing memory usage. To compact weights again call flatten_parameters(). (Triggered internally at ../aten/src/ATen/native/cudnn/RNN.cpp:968.)\n",
      "  self.dropout, self.training, self.bidirectional, self.batch_first)\n",
      "Train Epoch: 0/1001. Iter:   18/  18. Data: 0.062s. Batch: 0.115s. Loss: 2.3149.: 100%|███| 18/18 [00:02<00:00,  8.68it/s]\n"
     ]
    },
    {
     "name": "stdout",
     "output_type": "stream",
     "text": [
      "global epoch 1 saved\n",
      "Global round: 0 | Average loss: 2.8804542885886297\n",
      "Global Round: 1\n"
     ]
    },
    {
     "name": "stderr",
     "output_type": "stream",
     "text": [
      "Train Epoch: 1/1001. Iter:   18/  18. Data: 0.061s. Batch: 0.111s. Loss: 1.7225.: 100%|███| 18/18 [00:01<00:00,  9.05it/s]\n"
     ]
    },
    {
     "name": "stdout",
     "output_type": "stream",
     "text": [
      "Global round: 1 | Average loss: 1.9780324697494507\n",
      "Global Round: 2\n"
     ]
    },
    {
     "name": "stderr",
     "output_type": "stream",
     "text": [
      "Train Epoch: 2/1001. Iter:   18/  18. Data: 0.064s. Batch: 0.114s. Loss: 1.4303.: 100%|███| 18/18 [00:02<00:00,  8.74it/s]\n"
     ]
    },
    {
     "name": "stdout",
     "output_type": "stream",
     "text": [
      "Global round: 2 | Average loss: 1.5598005255063374\n",
      "Global Round: 3\n"
     ]
    },
    {
     "name": "stderr",
     "output_type": "stream",
     "text": [
      "Train Epoch: 3/1001. Iter:   18/  18. Data: 0.062s. Batch: 0.112s. Loss: 1.3113.: 100%|███| 18/18 [00:02<00:00,  8.91it/s]\n"
     ]
    },
    {
     "name": "stdout",
     "output_type": "stream",
     "text": [
      "Global round: 3 | Average loss: 1.361362165874905\n",
      "Global Round: 4\n"
     ]
    },
    {
     "name": "stderr",
     "output_type": "stream",
     "text": [
      "Train Epoch: 4/1001. Iter:   18/  18. Data: 0.062s. Batch: 0.112s. Loss: 1.2578.: 100%|███| 18/18 [00:02<00:00,  8.93it/s]\n"
     ]
    },
    {
     "name": "stdout",
     "output_type": "stream",
     "text": [
      "Global round: 4 | Average loss: 1.2814581195513408\n",
      "Global Round: 5\n"
     ]
    },
    {
     "name": "stderr",
     "output_type": "stream",
     "text": [
      "Train Epoch: 5/1001. Iter:   18/  18. Data: 0.060s. Batch: 0.109s. Loss: 1.2076.: 100%|███| 18/18 [00:01<00:00,  9.17it/s]\n"
     ]
    },
    {
     "name": "stdout",
     "output_type": "stream",
     "text": [
      "global epoch 6 saved\n",
      "Global round: 5 | Average loss: 1.2411279148525662\n",
      "Global Round: 6\n"
     ]
    },
    {
     "name": "stderr",
     "output_type": "stream",
     "text": [
      "Train Epoch: 6/1001. Iter:   18/  18. Data: 0.061s. Batch: 0.113s. Loss: 1.1932.: 100%|███| 18/18 [00:02<00:00,  8.94it/s]\n"
     ]
    },
    {
     "name": "stdout",
     "output_type": "stream",
     "text": [
      "Global round: 6 | Average loss: 1.2063493132591248\n",
      "Global Round: 7\n"
     ]
    },
    {
     "name": "stderr",
     "output_type": "stream",
     "text": [
      "Train Epoch: 7/1001. Iter:   18/  18. Data: 0.060s. Batch: 0.110s. Loss: 1.1582.: 100%|███| 18/18 [00:01<00:00,  9.07it/s]\n"
     ]
    },
    {
     "name": "stdout",
     "output_type": "stream",
     "text": [
      "Global round: 7 | Average loss: 1.1927670968903437\n",
      "Global Round: 8\n"
     ]
    },
    {
     "name": "stderr",
     "output_type": "stream",
     "text": [
      "Train Epoch: 8/1001. Iter:   18/  18. Data: 0.059s. Batch: 0.110s. Loss: 1.1373.: 100%|███| 18/18 [00:01<00:00,  9.08it/s]\n"
     ]
    },
    {
     "name": "stdout",
     "output_type": "stream",
     "text": [
      "Global round: 8 | Average loss: 1.175476312637329\n",
      "Global Round: 9\n"
     ]
    },
    {
     "name": "stderr",
     "output_type": "stream",
     "text": [
      "Train Epoch: 9/1001. Iter:   18/  18. Data: 0.062s. Batch: 0.113s. Loss: 1.1764.: 100%|███| 18/18 [00:02<00:00,  8.84it/s]\n"
     ]
    },
    {
     "name": "stdout",
     "output_type": "stream",
     "text": [
      "Global round: 9 | Average loss: 1.162842379675971\n",
      "Global Round: 10\n"
     ]
    },
    {
     "name": "stderr",
     "output_type": "stream",
     "text": [
      "Train Epoch: 10/1001. Iter:   18/  18. Data: 0.062s. Batch: 0.112s. Loss: 1.1508.: 100%|██| 18/18 [00:02<00:00,  8.91it/s]\n"
     ]
    },
    {
     "name": "stdout",
     "output_type": "stream",
     "text": [
      "global epoch 11 saved\n",
      "Global round: 10 | Average loss: 1.1547854940096538\n",
      "Global Round: 11\n"
     ]
    },
    {
     "name": "stderr",
     "output_type": "stream",
     "text": [
      "Train Epoch: 11/1001. Iter:   18/  18. Data: 0.061s. Batch: 0.114s. Loss: 1.1403.: 100%|██| 18/18 [00:02<00:00,  8.82it/s]\n"
     ]
    },
    {
     "name": "stdout",
     "output_type": "stream",
     "text": [
      "Global round: 11 | Average loss: 1.1402787301275465\n",
      "Global Round: 12\n"
     ]
    },
    {
     "name": "stderr",
     "output_type": "stream",
     "text": [
      "Train Epoch: 12/1001. Iter:   18/  18. Data: 0.061s. Batch: 0.113s. Loss: 1.1170.: 100%|██| 18/18 [00:02<00:00,  8.84it/s]\n"
     ]
    },
    {
     "name": "stdout",
     "output_type": "stream",
     "text": [
      "Global round: 12 | Average loss: 1.1323967311117384\n",
      "Global Round: 13\n"
     ]
    },
    {
     "name": "stderr",
     "output_type": "stream",
     "text": [
      "Train Epoch: 13/1001. Iter:   18/  18. Data: 0.061s. Batch: 0.112s. Loss: 1.1266.: 100%|██| 18/18 [00:02<00:00,  8.95it/s]\n"
     ]
    },
    {
     "name": "stdout",
     "output_type": "stream",
     "text": [
      "Global round: 13 | Average loss: 1.1245012482007344\n",
      "Global Round: 14\n"
     ]
    },
    {
     "name": "stderr",
     "output_type": "stream",
     "text": [
      "Train Epoch: 14/1001. Iter:   18/  18. Data: 0.058s. Batch: 0.111s. Loss: 1.1109.: 100%|██| 18/18 [00:02<00:00,  8.98it/s]\n"
     ]
    },
    {
     "name": "stdout",
     "output_type": "stream",
     "text": [
      "Global round: 14 | Average loss: 1.1150627997186449\n",
      "Global Round: 15\n"
     ]
    },
    {
     "name": "stderr",
     "output_type": "stream",
     "text": [
      "Train Epoch: 15/1001. Iter:   18/  18. Data: 0.065s. Batch: 0.121s. Loss: 1.1189.: 100%|██| 18/18 [00:02<00:00,  8.29it/s]\n"
     ]
    },
    {
     "name": "stdout",
     "output_type": "stream",
     "text": [
      "global epoch 16 saved\n",
      "Global round: 15 | Average loss: 1.1010906431410048\n",
      "Global Round: 16\n"
     ]
    },
    {
     "name": "stderr",
     "output_type": "stream",
     "text": [
      "Train Epoch: 16/1001. Iter:   18/  18. Data: 0.060s. Batch: 0.110s. Loss: 1.0871.: 100%|██| 18/18 [00:01<00:00,  9.09it/s]\n"
     ]
    },
    {
     "name": "stdout",
     "output_type": "stream",
     "text": [
      "Global round: 16 | Average loss: 1.0948026445176866\n",
      "Global Round: 17\n"
     ]
    },
    {
     "name": "stderr",
     "output_type": "stream",
     "text": [
      "Train Epoch: 17/1001. Iter:   18/  18. Data: 0.062s. Batch: 0.111s. Loss: 1.0548.: 100%|██| 18/18 [00:01<00:00,  9.04it/s]\n"
     ]
    },
    {
     "name": "stdout",
     "output_type": "stream",
     "text": [
      "Global round: 17 | Average loss: 1.0829474992222257\n",
      "Global Round: 18\n"
     ]
    },
    {
     "name": "stderr",
     "output_type": "stream",
     "text": [
      "Train Epoch: 18/1001. Iter:   18/  18. Data: 0.062s. Batch: 0.112s. Loss: 1.0825.: 100%|██| 18/18 [00:02<00:00,  8.99it/s]\n"
     ]
    },
    {
     "name": "stdout",
     "output_type": "stream",
     "text": [
      "Global round: 18 | Average loss: 1.0743332703908284\n",
      "Global Round: 19\n"
     ]
    },
    {
     "name": "stderr",
     "output_type": "stream",
     "text": [
      "Train Epoch: 19/1001. Iter:   18/  18. Data: 0.064s. Batch: 0.114s. Loss: 1.0787.: 100%|██| 18/18 [00:02<00:00,  8.77it/s]\n"
     ]
    },
    {
     "name": "stdout",
     "output_type": "stream",
     "text": [
      "Global round: 19 | Average loss: 1.0715819199879963\n",
      "Global Round: 20\n"
     ]
    },
    {
     "name": "stderr",
     "output_type": "stream",
     "text": [
      "Train Epoch: 20/1001. Iter:   18/  18. Data: 0.064s. Batch: 0.115s. Loss: 1.0615.: 100%|██| 18/18 [00:02<00:00,  8.72it/s]\n"
     ]
    },
    {
     "name": "stdout",
     "output_type": "stream",
     "text": [
      "global epoch 21 saved\n",
      "Global round: 20 | Average loss: 1.0608957476086087\n",
      "Global Round: 21\n"
     ]
    },
    {
     "name": "stderr",
     "output_type": "stream",
     "text": [
      "Train Epoch: 21/1001. Iter:   18/  18. Data: 0.063s. Batch: 0.113s. Loss: 1.0703.: 100%|██| 18/18 [00:02<00:00,  8.87it/s]\n"
     ]
    },
    {
     "name": "stdout",
     "output_type": "stream",
     "text": [
      "Global round: 21 | Average loss: 1.0494427349832323\n",
      "Global Round: 22\n"
     ]
    },
    {
     "name": "stderr",
     "output_type": "stream",
     "text": [
      "Train Epoch: 22/1001. Iter:   18/  18. Data: 0.061s. Batch: 0.113s. Loss: 1.0377.: 100%|██| 18/18 [00:02<00:00,  8.86it/s]\n"
     ]
    },
    {
     "name": "stdout",
     "output_type": "stream",
     "text": [
      "Global round: 22 | Average loss: 1.0485120746824477\n",
      "Global Round: 23\n"
     ]
    },
    {
     "name": "stderr",
     "output_type": "stream",
     "text": [
      "Train Epoch: 23/1001. Iter:   18/  18. Data: 0.058s. Batch: 0.109s. Loss: 1.0280.: 100%|██| 18/18 [00:01<00:00,  9.14it/s]\n"
     ]
    },
    {
     "name": "stdout",
     "output_type": "stream",
     "text": [
      "Global round: 23 | Average loss: 1.0385736988650427\n",
      "Global Round: 24\n"
     ]
    },
    {
     "name": "stderr",
     "output_type": "stream",
     "text": [
      "Train Epoch: 24/1001. Iter:   18/  18. Data: 0.060s. Batch: 0.113s. Loss: 1.0300.: 100%|██| 18/18 [00:02<00:00,  8.91it/s]\n"
     ]
    },
    {
     "name": "stdout",
     "output_type": "stream",
     "text": [
      "Global round: 24 | Average loss: 1.0312119921048482\n",
      "Global Round: 25\n"
     ]
    },
    {
     "name": "stderr",
     "output_type": "stream",
     "text": [
      "Train Epoch: 25/1001. Iter:   18/  18. Data: 0.060s. Batch: 0.110s. Loss: 1.0473.: 100%|██| 18/18 [00:01<00:00,  9.05it/s]\n"
     ]
    },
    {
     "name": "stdout",
     "output_type": "stream",
     "text": [
      "global epoch 26 saved\n",
      "Global round: 25 | Average loss: 1.0307771033710904\n",
      "Global Round: 26\n"
     ]
    },
    {
     "name": "stderr",
     "output_type": "stream",
     "text": [
      "Train Epoch: 26/1001. Iter:   18/  18. Data: 0.060s. Batch: 0.111s. Loss: 1.0083.: 100%|██| 18/18 [00:01<00:00,  9.05it/s]\n"
     ]
    },
    {
     "name": "stdout",
     "output_type": "stream",
     "text": [
      "Global round: 26 | Average loss: 1.0235364337762196\n",
      "Global Round: 27\n"
     ]
    },
    {
     "name": "stderr",
     "output_type": "stream",
     "text": [
      "Train Epoch: 27/1001. Iter:   18/  18. Data: 0.066s. Batch: 0.115s. Loss: 0.9661.: 100%|██| 18/18 [00:02<00:00,  8.65it/s]\n"
     ]
    },
    {
     "name": "stdout",
     "output_type": "stream",
     "text": [
      "Global round: 27 | Average loss: 1.020620624224345\n",
      "Global Round: 28\n"
     ]
    },
    {
     "name": "stderr",
     "output_type": "stream",
     "text": [
      "Train Epoch: 28/1001. Iter:   18/  18. Data: 0.063s. Batch: 0.114s. Loss: 1.0100.: 100%|██| 18/18 [00:02<00:00,  8.83it/s]\n"
     ]
    },
    {
     "name": "stdout",
     "output_type": "stream",
     "text": [
      "Global round: 28 | Average loss: 1.0140074723296695\n",
      "Global Round: 29\n"
     ]
    },
    {
     "name": "stderr",
     "output_type": "stream",
     "text": [
      "Train Epoch: 29/1001. Iter:   18/  18. Data: 0.060s. Batch: 0.109s. Loss: 1.0229.: 100%|██| 18/18 [00:01<00:00,  9.19it/s]\n"
     ]
    },
    {
     "name": "stdout",
     "output_type": "stream",
     "text": [
      "Global round: 29 | Average loss: 1.0107216702567206\n",
      "Global Round: 30\n"
     ]
    },
    {
     "name": "stderr",
     "output_type": "stream",
     "text": [
      "Train Epoch: 30/1001. Iter:   18/  18. Data: 0.063s. Batch: 0.111s. Loss: 1.0106.: 100%|██| 18/18 [00:02<00:00,  8.94it/s]\n"
     ]
    },
    {
     "name": "stdout",
     "output_type": "stream",
     "text": [
      "global epoch 31 saved\n",
      "Global round: 30 | Average loss: 1.0037921369075775\n",
      "Global Round: 31\n"
     ]
    },
    {
     "name": "stderr",
     "output_type": "stream",
     "text": [
      "Train Epoch: 31/1001. Iter:   18/  18. Data: 0.061s. Batch: 0.113s. Loss: 1.0227.: 100%|██| 18/18 [00:02<00:00,  8.99it/s]\n"
     ]
    },
    {
     "name": "stdout",
     "output_type": "stream",
     "text": [
      "Global round: 31 | Average loss: 1.003252814213435\n",
      "Global Round: 32\n"
     ]
    },
    {
     "name": "stderr",
     "output_type": "stream",
     "text": [
      "Train Epoch: 32/1001. Iter:   18/  18. Data: 0.065s. Batch: 0.117s. Loss: 0.9873.: 100%|██| 18/18 [00:02<00:00,  8.54it/s]\n"
     ]
    },
    {
     "name": "stdout",
     "output_type": "stream",
     "text": [
      "Global round: 32 | Average loss: 0.9979226158724891\n",
      "Global Round: 33\n"
     ]
    },
    {
     "name": "stderr",
     "output_type": "stream",
     "text": [
      "Train Epoch: 33/1001. Iter:   18/  18. Data: 0.058s. Batch: 0.108s. Loss: 1.0337.: 100%|██| 18/18 [00:01<00:00,  9.26it/s]\n"
     ]
    },
    {
     "name": "stdout",
     "output_type": "stream",
     "text": [
      "Global round: 33 | Average loss: 0.9953093628088633\n",
      "Global Round: 34\n"
     ]
    },
    {
     "name": "stderr",
     "output_type": "stream",
     "text": [
      "Train Epoch: 34/1001. Iter:   18/  18. Data: 0.059s. Batch: 0.108s. Loss: 0.9642.: 100%|██| 18/18 [00:01<00:00,  9.25it/s]\n"
     ]
    },
    {
     "name": "stdout",
     "output_type": "stream",
     "text": [
      "Global round: 34 | Average loss: 0.9881544444296095\n",
      "Global Round: 35\n"
     ]
    },
    {
     "name": "stderr",
     "output_type": "stream",
     "text": [
      "Train Epoch: 35/1001. Iter:   18/  18. Data: 0.062s. Batch: 0.114s. Loss: 0.9949.: 100%|██| 18/18 [00:02<00:00,  8.84it/s]\n"
     ]
    },
    {
     "name": "stdout",
     "output_type": "stream",
     "text": [
      "global epoch 36 saved\n",
      "Global round: 35 | Average loss: 0.9924918744299147\n",
      "Global Round: 36\n"
     ]
    },
    {
     "name": "stderr",
     "output_type": "stream",
     "text": [
      "Train Epoch: 36/1001. Iter:   18/  18. Data: 0.059s. Batch: 0.110s. Loss: 0.9720.: 100%|██| 18/18 [00:01<00:00,  9.11it/s]\n"
     ]
    },
    {
     "name": "stdout",
     "output_type": "stream",
     "text": [
      "Global round: 36 | Average loss: 0.9873360163635678\n",
      "Global Round: 37\n"
     ]
    },
    {
     "name": "stderr",
     "output_type": "stream",
     "text": [
      "Train Epoch: 37/1001. Iter:   18/  18. Data: 0.062s. Batch: 0.113s. Loss: 0.9893.: 100%|██| 18/18 [00:02<00:00,  8.85it/s]\n"
     ]
    },
    {
     "name": "stdout",
     "output_type": "stream",
     "text": [
      "Global round: 37 | Average loss: 0.9864492250813378\n",
      "Global Round: 38\n"
     ]
    },
    {
     "name": "stderr",
     "output_type": "stream",
     "text": [
      "Train Epoch: 38/1001. Iter:   18/  18. Data: 0.059s. Batch: 0.113s. Loss: 0.9739.: 100%|██| 18/18 [00:02<00:00,  8.80it/s]\n"
     ]
    },
    {
     "name": "stdout",
     "output_type": "stream",
     "text": [
      "Global round: 38 | Average loss: 0.9789835843775008\n",
      "Global Round: 39\n"
     ]
    },
    {
     "name": "stderr",
     "output_type": "stream",
     "text": [
      "Train Epoch: 39/1001. Iter:   18/  18. Data: 0.059s. Batch: 0.111s. Loss: 0.9908.: 100%|██| 18/18 [00:01<00:00,  9.02it/s]\n"
     ]
    },
    {
     "name": "stdout",
     "output_type": "stream",
     "text": [
      "Global round: 39 | Average loss: 0.9858129355642531\n",
      "Global Round: 40\n"
     ]
    },
    {
     "name": "stderr",
     "output_type": "stream",
     "text": [
      "Train Epoch: 40/1001. Iter:   18/  18. Data: 0.059s. Batch: 0.113s. Loss: 0.9929.: 100%|██| 18/18 [00:02<00:00,  8.86it/s]\n"
     ]
    },
    {
     "name": "stdout",
     "output_type": "stream",
     "text": [
      "global epoch 41 saved\n",
      "Global round: 40 | Average loss: 0.9758123854796091\n",
      "Global Round: 41\n"
     ]
    },
    {
     "name": "stderr",
     "output_type": "stream",
     "text": [
      "Train Epoch: 41/1001. Iter:   18/  18. Data: 0.059s. Batch: 0.109s. Loss: 0.9624.: 100%|██| 18/18 [00:01<00:00,  9.25it/s]\n"
     ]
    },
    {
     "name": "stdout",
     "output_type": "stream",
     "text": [
      "Global round: 41 | Average loss: 0.9652025865183936\n",
      "Global Round: 42\n"
     ]
    },
    {
     "name": "stderr",
     "output_type": "stream",
     "text": [
      "Train Epoch: 42/1001. Iter:   18/  18. Data: 0.062s. Batch: 0.113s. Loss: 0.9851.: 100%|██| 18/18 [00:02<00:00,  8.86it/s]\n"
     ]
    },
    {
     "name": "stdout",
     "output_type": "stream",
     "text": [
      "Global round: 42 | Average loss: 0.9686074588033888\n",
      "Global Round: 43\n"
     ]
    },
    {
     "name": "stderr",
     "output_type": "stream",
     "text": [
      "Train Epoch: 43/1001. Iter:   18/  18. Data: 0.063s. Batch: 0.114s. Loss: 0.9799.: 100%|██| 18/18 [00:02<00:00,  8.84it/s]\n"
     ]
    },
    {
     "name": "stdout",
     "output_type": "stream",
     "text": [
      "Global round: 43 | Average loss: 0.9638444681962332\n",
      "Global Round: 44\n"
     ]
    },
    {
     "name": "stderr",
     "output_type": "stream",
     "text": [
      "Train Epoch: 44/1001. Iter:   18/  18. Data: 0.060s. Batch: 0.109s. Loss: 0.9703.: 100%|██| 18/18 [00:01<00:00,  9.14it/s]\n"
     ]
    },
    {
     "name": "stdout",
     "output_type": "stream",
     "text": [
      "Global round: 44 | Average loss: 0.9580440090762244\n",
      "Global Round: 45\n"
     ]
    },
    {
     "name": "stderr",
     "output_type": "stream",
     "text": [
      "Train Epoch: 45/1001. Iter:   18/  18. Data: 0.060s. Batch: 0.109s. Loss: 0.9603.: 100%|██| 18/18 [00:01<00:00,  9.21it/s]\n"
     ]
    },
    {
     "name": "stdout",
     "output_type": "stream",
     "text": [
      "global epoch 46 saved\n",
      "Global round: 45 | Average loss: 0.9523754517237345\n",
      "Global Round: 46\n"
     ]
    },
    {
     "name": "stderr",
     "output_type": "stream",
     "text": [
      "Train Epoch: 46/1001. Iter:   18/  18. Data: 0.063s. Batch: 0.114s. Loss: 0.9342.: 100%|██| 18/18 [00:02<00:00,  8.87it/s]\n"
     ]
    },
    {
     "name": "stdout",
     "output_type": "stream",
     "text": [
      "Global round: 46 | Average loss: 0.9390877220365736\n",
      "Global Round: 47\n"
     ]
    },
    {
     "name": "stderr",
     "output_type": "stream",
     "text": [
      "Train Epoch: 47/1001. Iter:   18/  18. Data: 0.060s. Batch: 0.111s. Loss: 0.9538.: 100%|██| 18/18 [00:01<00:00,  9.05it/s]\n"
     ]
    },
    {
     "name": "stdout",
     "output_type": "stream",
     "text": [
      "Global round: 47 | Average loss: 0.9408559766080644\n",
      "Global Round: 48\n"
     ]
    },
    {
     "name": "stderr",
     "output_type": "stream",
     "text": [
      "Train Epoch: 48/1001. Iter:   18/  18. Data: 0.062s. Batch: 0.117s. Loss: 0.9432.: 100%|██| 18/18 [00:02<00:00,  8.58it/s]\n"
     ]
    },
    {
     "name": "stdout",
     "output_type": "stream",
     "text": [
      "Global round: 48 | Average loss: 0.9396572675969865\n",
      "Global Round: 49\n"
     ]
    },
    {
     "name": "stderr",
     "output_type": "stream",
     "text": [
      "Train Epoch: 49/1001. Iter:   18/  18. Data: 0.062s. Batch: 0.114s. Loss: 0.9199.: 100%|██| 18/18 [00:02<00:00,  8.75it/s]\n"
     ]
    },
    {
     "name": "stdout",
     "output_type": "stream",
     "text": [
      "Global round: 49 | Average loss: 0.9327376451757219\n",
      "Global Round: 50\n"
     ]
    },
    {
     "name": "stderr",
     "output_type": "stream",
     "text": [
      "Train Epoch: 50/1001. Iter:   18/  18. Data: 0.061s. Batch: 0.114s. Loss: 0.9415.: 100%|██| 18/18 [00:02<00:00,  8.74it/s]\n"
     ]
    },
    {
     "name": "stdout",
     "output_type": "stream",
     "text": [
      "global epoch 51 saved\n",
      "Global round: 50 | Average loss: 0.9251351091596816\n",
      "Global Round: 51\n"
     ]
    },
    {
     "name": "stderr",
     "output_type": "stream",
     "text": [
      "Train Epoch: 51/1001. Iter:   18/  18. Data: 0.064s. Batch: 0.113s. Loss: 0.9221.: 100%|██| 18/18 [00:02<00:00,  8.95it/s]\n"
     ]
    },
    {
     "name": "stdout",
     "output_type": "stream",
     "text": [
      "Global round: 51 | Average loss: 0.9196509222189585\n",
      "Global Round: 52\n"
     ]
    },
    {
     "name": "stderr",
     "output_type": "stream",
     "text": [
      "Train Epoch: 52/1001. Iter:   18/  18. Data: 0.062s. Batch: 0.112s. Loss: 0.8928.: 100%|██| 18/18 [00:02<00:00,  8.94it/s]\n"
     ]
    },
    {
     "name": "stdout",
     "output_type": "stream",
     "text": [
      "Global round: 52 | Average loss: 0.9133205976751115\n",
      "Global Round: 53\n"
     ]
    },
    {
     "name": "stderr",
     "output_type": "stream",
     "text": [
      "Train Epoch: 53/1001. Iter:   18/  18. Data: 0.060s. Batch: 0.109s. Loss: 0.9122.: 100%|██| 18/18 [00:01<00:00,  9.13it/s]\n"
     ]
    },
    {
     "name": "stdout",
     "output_type": "stream",
     "text": [
      "Global round: 53 | Average loss: 0.9095966186788347\n",
      "Global Round: 54\n"
     ]
    },
    {
     "name": "stderr",
     "output_type": "stream",
     "text": [
      "Train Epoch: 54/1001. Iter:   18/  18. Data: 0.065s. Batch: 0.114s. Loss: 0.9100.: 100%|██| 18/18 [00:02<00:00,  8.78it/s]\n"
     ]
    },
    {
     "name": "stdout",
     "output_type": "stream",
     "text": [
      "Global round: 54 | Average loss: 0.9006906383567386\n",
      "Global Round: 55\n"
     ]
    },
    {
     "name": "stderr",
     "output_type": "stream",
     "text": [
      "Train Epoch: 55/1001. Iter:   18/  18. Data: 0.060s. Batch: 0.108s. Loss: 0.8935.: 100%|██| 18/18 [00:01<00:00,  9.25it/s]\n"
     ]
    },
    {
     "name": "stdout",
     "output_type": "stream",
     "text": [
      "global epoch 56 saved\n",
      "Global round: 55 | Average loss: 0.9048750168747373\n",
      "Global Round: 56\n"
     ]
    },
    {
     "name": "stderr",
     "output_type": "stream",
     "text": [
      "Train Epoch: 56/1001. Iter:   18/  18. Data: 0.063s. Batch: 0.114s. Loss: 0.8781.: 100%|██| 18/18 [00:02<00:00,  8.80it/s]\n"
     ]
    },
    {
     "name": "stdout",
     "output_type": "stream",
     "text": [
      "Global round: 56 | Average loss: 0.8914950920475854\n",
      "Global Round: 57\n"
     ]
    },
    {
     "name": "stderr",
     "output_type": "stream",
     "text": [
      "Train Epoch: 57/1001. Iter:   18/  18. Data: 0.059s. Batch: 0.110s. Loss: 0.8747.: 100%|██| 18/18 [00:01<00:00,  9.08it/s]\n"
     ]
    },
    {
     "name": "stdout",
     "output_type": "stream",
     "text": [
      "Global round: 57 | Average loss: 0.8909482691023085\n",
      "Global Round: 58\n"
     ]
    },
    {
     "name": "stderr",
     "output_type": "stream",
     "text": [
      "Train Epoch: 58/1001. Iter:   18/  18. Data: 0.060s. Batch: 0.111s. Loss: 0.8823.: 100%|██| 18/18 [00:01<00:00,  9.04it/s]\n"
     ]
    },
    {
     "name": "stdout",
     "output_type": "stream",
     "text": [
      "Global round: 58 | Average loss: 0.8869860006703271\n",
      "Global Round: 59\n"
     ]
    },
    {
     "name": "stderr",
     "output_type": "stream",
     "text": [
      "Train Epoch: 59/1001. Iter:   18/  18. Data: 0.061s. Batch: 0.112s. Loss: 0.8468.: 100%|██| 18/18 [00:02<00:00,  8.95it/s]\n"
     ]
    },
    {
     "name": "stdout",
     "output_type": "stream",
     "text": [
      "Global round: 59 | Average loss: 0.8818467756112417\n",
      "Global Round: 60\n"
     ]
    },
    {
     "name": "stderr",
     "output_type": "stream",
     "text": [
      "Train Epoch: 60/1001. Iter:   18/  18. Data: 0.064s. Batch: 0.116s. Loss: 0.9001.: 100%|██| 18/18 [00:02<00:00,  8.67it/s]\n"
     ]
    },
    {
     "name": "stdout",
     "output_type": "stream",
     "text": [
      "global epoch 61 saved\n",
      "Global round: 60 | Average loss: 0.8781330486138662\n",
      "Global Round: 61\n"
     ]
    },
    {
     "name": "stderr",
     "output_type": "stream",
     "text": [
      "Train Epoch: 61/1001. Iter:   18/  18. Data: 0.060s. Batch: 0.114s. Loss: 0.8525.: 100%|██| 18/18 [00:02<00:00,  8.86it/s]\n"
     ]
    },
    {
     "name": "stdout",
     "output_type": "stream",
     "text": [
      "Global round: 61 | Average loss: 0.8662909103764428\n",
      "Global Round: 62\n"
     ]
    },
    {
     "name": "stderr",
     "output_type": "stream",
     "text": [
      "Train Epoch: 62/1001. Iter:   18/  18. Data: 0.059s. Batch: 0.110s. Loss: 0.8527.: 100%|██| 18/18 [00:01<00:00,  9.10it/s]\n"
     ]
    },
    {
     "name": "stdout",
     "output_type": "stream",
     "text": [
      "Global round: 62 | Average loss: 0.8719183438354068\n",
      "Global Round: 63\n"
     ]
    },
    {
     "name": "stderr",
     "output_type": "stream",
     "text": [
      "Train Epoch: 63/1001. Iter:   18/  18. Data: 0.064s. Batch: 0.119s. Loss: 0.8663.: 100%|██| 18/18 [00:02<00:00,  8.36it/s]\n"
     ]
    },
    {
     "name": "stdout",
     "output_type": "stream",
     "text": [
      "Global round: 63 | Average loss: 0.8605205946498447\n",
      "Global Round: 64\n"
     ]
    },
    {
     "name": "stderr",
     "output_type": "stream",
     "text": [
      "Train Epoch: 64/1001. Iter:   18/  18. Data: 0.059s. Batch: 0.113s. Loss: 0.8766.: 100%|██| 18/18 [00:02<00:00,  8.91it/s]\n"
     ]
    },
    {
     "name": "stdout",
     "output_type": "stream",
     "text": [
      "Global round: 64 | Average loss: 0.8692436549398634\n",
      "Global Round: 65\n"
     ]
    },
    {
     "name": "stderr",
     "output_type": "stream",
     "text": [
      "Train Epoch: 65/1001. Iter:   18/  18. Data: 0.058s. Batch: 0.110s. Loss: 0.8823.: 100%|██| 18/18 [00:01<00:00,  9.13it/s]\n"
     ]
    },
    {
     "name": "stdout",
     "output_type": "stream",
     "text": [
      "global epoch 66 saved\n",
      "Global round: 65 | Average loss: 0.8589496546321445\n",
      "Global Round: 66\n"
     ]
    },
    {
     "name": "stderr",
     "output_type": "stream",
     "text": [
      "Train Epoch: 66/1001. Iter:   18/  18. Data: 0.061s. Batch: 0.112s. Loss: 0.8580.: 100%|██| 18/18 [00:02<00:00,  8.99it/s]\n"
     ]
    },
    {
     "name": "stdout",
     "output_type": "stream",
     "text": [
      "Global round: 66 | Average loss: 0.8548039727740817\n",
      "Global Round: 67\n"
     ]
    },
    {
     "name": "stderr",
     "output_type": "stream",
     "text": [
      "Train Epoch: 67/1001. Iter:   18/  18. Data: 0.062s. Batch: 0.113s. Loss: 0.8449.: 100%|██| 18/18 [00:02<00:00,  8.83it/s]\n"
     ]
    },
    {
     "name": "stdout",
     "output_type": "stream",
     "text": [
      "Global round: 67 | Average loss: 0.8528088099426694\n",
      "Global Round: 68\n"
     ]
    },
    {
     "name": "stderr",
     "output_type": "stream",
     "text": [
      "Train Epoch: 68/1001. Iter:   18/  18. Data: 0.061s. Batch: 0.110s. Loss: 0.8635.: 100%|██| 18/18 [00:01<00:00,  9.11it/s]\n"
     ]
    },
    {
     "name": "stdout",
     "output_type": "stream",
     "text": [
      "Global round: 68 | Average loss: 0.8548280232482486\n",
      "Global Round: 69\n"
     ]
    },
    {
     "name": "stderr",
     "output_type": "stream",
     "text": [
      "Train Epoch: 69/1001. Iter:   18/  18. Data: 0.062s. Batch: 0.113s. Loss: 0.8506.: 100%|██| 18/18 [00:02<00:00,  8.86it/s]\n"
     ]
    },
    {
     "name": "stdout",
     "output_type": "stream",
     "text": [
      "Global round: 69 | Average loss: 0.8560107118553586\n",
      "Global Round: 70\n"
     ]
    },
    {
     "name": "stderr",
     "output_type": "stream",
     "text": [
      "Train Epoch: 70/1001. Iter:   18/  18. Data: 0.061s. Batch: 0.109s. Loss: 0.8611.: 100%|██| 18/18 [00:01<00:00,  9.14it/s]\n"
     ]
    },
    {
     "name": "stdout",
     "output_type": "stream",
     "text": [
      "global epoch 71 saved\n",
      "Global round: 70 | Average loss: 0.8462081849575043\n",
      "Global Round: 71\n"
     ]
    },
    {
     "name": "stderr",
     "output_type": "stream",
     "text": [
      "Train Epoch: 71/1001. Iter:   18/  18. Data: 0.062s. Batch: 0.112s. Loss: 0.8411.: 100%|██| 18/18 [00:01<00:00,  9.02it/s]\n"
     ]
    },
    {
     "name": "stdout",
     "output_type": "stream",
     "text": [
      "Global round: 71 | Average loss: 0.8451652593082852\n",
      "Global Round: 72\n"
     ]
    },
    {
     "name": "stderr",
     "output_type": "stream",
     "text": [
      "Train Epoch: 72/1001. Iter:   18/  18. Data: 0.065s. Batch: 0.118s. Loss: 0.8749.: 100%|██| 18/18 [00:02<00:00,  8.44it/s]\n"
     ]
    },
    {
     "name": "stdout",
     "output_type": "stream",
     "text": [
      "Global round: 72 | Average loss: 0.8457456727822622\n",
      "Global Round: 73\n"
     ]
    },
    {
     "name": "stderr",
     "output_type": "stream",
     "text": [
      "Train Epoch: 73/1001. Iter:   18/  18. Data: 0.059s. Batch: 0.111s. Loss: 0.8496.: 100%|██| 18/18 [00:01<00:00,  9.00it/s]\n"
     ]
    },
    {
     "name": "stdout",
     "output_type": "stream",
     "text": [
      "Global round: 73 | Average loss: 0.8390849365128411\n",
      "Global Round: 74\n"
     ]
    },
    {
     "name": "stderr",
     "output_type": "stream",
     "text": [
      "Train Epoch: 74/1001. Iter:   18/  18. Data: 0.062s. Batch: 0.113s. Loss: 0.8378.: 100%|██| 18/18 [00:02<00:00,  8.88it/s]\n"
     ]
    },
    {
     "name": "stdout",
     "output_type": "stream",
     "text": [
      "Global round: 74 | Average loss: 0.8365658885902829\n",
      "Global Round: 75\n"
     ]
    },
    {
     "name": "stderr",
     "output_type": "stream",
     "text": [
      "Train Epoch: 75/1001. Iter:   18/  18. Data: 0.061s. Batch: 0.113s. Loss: 0.8027.: 100%|██| 18/18 [00:02<00:00,  8.85it/s]\n"
     ]
    },
    {
     "name": "stdout",
     "output_type": "stream",
     "text": [
      "global epoch 76 saved\n",
      "Global round: 75 | Average loss: 0.8322087294525571\n",
      "Global Round: 76\n"
     ]
    },
    {
     "name": "stderr",
     "output_type": "stream",
     "text": [
      "Train Epoch: 76/1001. Iter:   18/  18. Data: 0.061s. Batch: 0.113s. Loss: 0.8390.: 100%|██| 18/18 [00:02<00:00,  8.89it/s]\n"
     ]
    },
    {
     "name": "stdout",
     "output_type": "stream",
     "text": [
      "Global round: 76 | Average loss: 0.8411248789893256\n",
      "Global Round: 77\n"
     ]
    },
    {
     "name": "stderr",
     "output_type": "stream",
     "text": [
      "Train Epoch: 77/1001. Iter:   18/  18. Data: 0.066s. Batch: 0.116s. Loss: 0.8559.: 100%|██| 18/18 [00:02<00:00,  8.63it/s]\n"
     ]
    },
    {
     "name": "stdout",
     "output_type": "stream",
     "text": [
      "Global round: 77 | Average loss: 0.8373030324776968\n",
      "Global Round: 78\n"
     ]
    },
    {
     "name": "stderr",
     "output_type": "stream",
     "text": [
      "Train Epoch: 78/1001. Iter:   18/  18. Data: 0.061s. Batch: 0.109s. Loss: 0.8407.: 100%|██| 18/18 [00:01<00:00,  9.15it/s]\n"
     ]
    },
    {
     "name": "stdout",
     "output_type": "stream",
     "text": [
      "Global round: 78 | Average loss: 0.8349171876907349\n",
      "Global Round: 79\n"
     ]
    },
    {
     "name": "stderr",
     "output_type": "stream",
     "text": [
      "Train Epoch: 79/1001. Iter:   18/  18. Data: 0.062s. Batch: 0.111s. Loss: 0.8008.: 100%|██| 18/18 [00:01<00:00,  9.04it/s]\n"
     ]
    },
    {
     "name": "stdout",
     "output_type": "stream",
     "text": [
      "Global round: 79 | Average loss: 0.835698299937778\n",
      "Global Round: 80\n"
     ]
    },
    {
     "name": "stderr",
     "output_type": "stream",
     "text": [
      "Train Epoch: 80/1001. Iter:   18/  18. Data: 0.066s. Batch: 0.117s. Loss: 0.8253.: 100%|██| 18/18 [00:02<00:00,  8.59it/s]\n"
     ]
    },
    {
     "name": "stdout",
     "output_type": "stream",
     "text": [
      "global epoch 81 saved\n",
      "Global round: 80 | Average loss: 0.8321345680289798\n",
      "Global Round: 81\n"
     ]
    },
    {
     "name": "stderr",
     "output_type": "stream",
     "text": [
      "Train Epoch: 81/1001. Iter:   18/  18. Data: 0.058s. Batch: 0.109s. Loss: 0.8298.: 100%|██| 18/18 [00:01<00:00,  9.28it/s]\n"
     ]
    },
    {
     "name": "stdout",
     "output_type": "stream",
     "text": [
      "Global round: 81 | Average loss: 0.8259360426002078\n",
      "Global Round: 82\n"
     ]
    },
    {
     "name": "stderr",
     "output_type": "stream",
     "text": [
      "Train Epoch: 82/1001. Iter:   18/  18. Data: 0.062s. Batch: 0.114s. Loss: 0.8499.: 100%|██| 18/18 [00:02<00:00,  8.78it/s]\n"
     ]
    },
    {
     "name": "stdout",
     "output_type": "stream",
     "text": [
      "Global round: 82 | Average loss: 0.8276264833079444\n",
      "Global Round: 83\n"
     ]
    },
    {
     "name": "stderr",
     "output_type": "stream",
     "text": [
      "Train Epoch: 83/1001. Iter:   18/  18. Data: 0.063s. Batch: 0.119s. Loss: 0.8414.: 100%|██| 18/18 [00:02<00:00,  8.45it/s]\n"
     ]
    },
    {
     "name": "stdout",
     "output_type": "stream",
     "text": [
      "Global round: 83 | Average loss: 0.8285680048995547\n",
      "Global Round: 84\n"
     ]
    },
    {
     "name": "stderr",
     "output_type": "stream",
     "text": [
      "Train Epoch: 84/1001. Iter:   18/  18. Data: 0.059s. Batch: 0.108s. Loss: 0.8122.: 100%|██| 18/18 [00:01<00:00,  9.23it/s]\n"
     ]
    },
    {
     "name": "stdout",
     "output_type": "stream",
     "text": [
      "Global round: 84 | Average loss: 0.8283155659834543\n",
      "Global Round: 85\n"
     ]
    },
    {
     "name": "stderr",
     "output_type": "stream",
     "text": [
      "Train Epoch: 85/1001. Iter:   18/  18. Data: 0.062s. Batch: 0.114s. Loss: 0.8616.: 100%|██| 18/18 [00:02<00:00,  8.75it/s]\n"
     ]
    },
    {
     "name": "stdout",
     "output_type": "stream",
     "text": [
      "global epoch 86 saved\n",
      "Global round: 85 | Average loss: 0.8279867702060275\n",
      "Global Round: 86\n"
     ]
    },
    {
     "name": "stderr",
     "output_type": "stream",
     "text": [
      "Train Epoch: 86/1001. Iter:   18/  18. Data: 0.067s. Batch: 0.117s. Loss: 0.8364.: 100%|██| 18/18 [00:02<00:00,  8.64it/s]\n"
     ]
    },
    {
     "name": "stdout",
     "output_type": "stream",
     "text": [
      "Global round: 86 | Average loss: 0.82595627506574\n",
      "Global Round: 87\n"
     ]
    },
    {
     "name": "stderr",
     "output_type": "stream",
     "text": [
      "Train Epoch: 87/1001. Iter:   18/  18. Data: 0.059s. Batch: 0.111s. Loss: 0.8385.: 100%|██| 18/18 [00:01<00:00,  9.02it/s]\n"
     ]
    },
    {
     "name": "stdout",
     "output_type": "stream",
     "text": [
      "Global round: 87 | Average loss: 0.8216504454612732\n",
      "Global Round: 88\n"
     ]
    },
    {
     "name": "stderr",
     "output_type": "stream",
     "text": [
      "Train Epoch: 88/1001. Iter:   18/  18. Data: 0.060s. Batch: 0.115s. Loss: 0.8298.: 100%|██| 18/18 [00:02<00:00,  8.74it/s]\n"
     ]
    },
    {
     "name": "stdout",
     "output_type": "stream",
     "text": [
      "Global round: 88 | Average loss: 0.8290721045600044\n",
      "Global Round: 89\n"
     ]
    },
    {
     "name": "stderr",
     "output_type": "stream",
     "text": [
      "Train Epoch: 89/1001. Iter:   18/  18. Data: 0.061s. Batch: 0.112s. Loss: 0.8160.: 100%|██| 18/18 [00:02<00:00,  8.91it/s]\n"
     ]
    },
    {
     "name": "stdout",
     "output_type": "stream",
     "text": [
      "Global round: 89 | Average loss: 0.8237004379431406\n",
      "Global Round: 90\n"
     ]
    },
    {
     "name": "stderr",
     "output_type": "stream",
     "text": [
      "Train Epoch: 90/1001. Iter:   18/  18. Data: 0.059s. Batch: 0.115s. Loss: 0.8480.: 100%|██| 18/18 [00:02<00:00,  8.72it/s]\n"
     ]
    },
    {
     "name": "stdout",
     "output_type": "stream",
     "text": [
      "global epoch 91 saved\n",
      "Global round: 90 | Average loss: 0.8253200517760383\n",
      "Global Round: 91\n"
     ]
    },
    {
     "name": "stderr",
     "output_type": "stream",
     "text": [
      "Train Epoch: 91/1001. Iter:   18/  18. Data: 0.063s. Batch: 0.115s. Loss: 0.8071.: 100%|██| 18/18 [00:02<00:00,  8.71it/s]\n"
     ]
    },
    {
     "name": "stdout",
     "output_type": "stream",
     "text": [
      "Global round: 91 | Average loss: 0.8246586985058255\n",
      "Global Round: 92\n"
     ]
    },
    {
     "name": "stderr",
     "output_type": "stream",
     "text": [
      "Train Epoch: 92/1001. Iter:   18/  18. Data: 0.061s. Batch: 0.111s. Loss: 0.8258.: 100%|██| 18/18 [00:01<00:00,  9.03it/s]\n"
     ]
    },
    {
     "name": "stdout",
     "output_type": "stream",
     "text": [
      "Global round: 92 | Average loss: 0.8239070508215163\n",
      "Global Round: 93\n"
     ]
    },
    {
     "name": "stderr",
     "output_type": "stream",
     "text": [
      "Train Epoch: 93/1001. Iter:   18/  18. Data: 0.062s. Batch: 0.112s. Loss: 0.8347.: 100%|██| 18/18 [00:02<00:00,  8.90it/s]\n"
     ]
    },
    {
     "name": "stdout",
     "output_type": "stream",
     "text": [
      "Global round: 93 | Average loss: 0.8246133327484131\n",
      "Global Round: 94\n"
     ]
    },
    {
     "name": "stderr",
     "output_type": "stream",
     "text": [
      "Train Epoch: 94/1001. Iter:   18/  18. Data: 0.061s. Batch: 0.111s. Loss: 0.8109.: 100%|██| 18/18 [00:01<00:00,  9.01it/s]\n"
     ]
    },
    {
     "name": "stdout",
     "output_type": "stream",
     "text": [
      "Global round: 94 | Average loss: 0.8252386285199059\n",
      "Global Round: 95\n"
     ]
    },
    {
     "name": "stderr",
     "output_type": "stream",
     "text": [
      "Train Epoch: 95/1001. Iter:   18/  18. Data: 0.061s. Batch: 0.112s. Loss: 0.8184.: 100%|██| 18/18 [00:02<00:00,  8.89it/s]\n"
     ]
    },
    {
     "name": "stdout",
     "output_type": "stream",
     "text": [
      "global epoch 96 saved\n",
      "Global round: 95 | Average loss: 0.8279991878403558\n",
      "Global Round: 96\n"
     ]
    },
    {
     "name": "stderr",
     "output_type": "stream",
     "text": [
      "Train Epoch: 96/1001. Iter:   18/  18. Data: 0.067s. Batch: 0.120s. Loss: 0.8283.: 100%|██| 18/18 [00:02<00:00,  8.39it/s]\n"
     ]
    },
    {
     "name": "stdout",
     "output_type": "stream",
     "text": [
      "Global round: 96 | Average loss: 0.8239525887701247\n",
      "Global Round: 97\n"
     ]
    },
    {
     "name": "stderr",
     "output_type": "stream",
     "text": [
      "Train Epoch: 97/1001. Iter:   18/  18. Data: 0.059s. Batch: 0.109s. Loss: 0.8546.: 100%|██| 18/18 [00:01<00:00,  9.21it/s]\n"
     ]
    },
    {
     "name": "stdout",
     "output_type": "stream",
     "text": [
      "Global round: 97 | Average loss: 0.8302438060442606\n",
      "Global Round: 98\n"
     ]
    },
    {
     "name": "stderr",
     "output_type": "stream",
     "text": [
      "Train Epoch: 98/1001. Iter:   18/  18. Data: 0.059s. Batch: 0.112s. Loss: 0.8169.: 100%|██| 18/18 [00:02<00:00,  8.97it/s]\n"
     ]
    },
    {
     "name": "stdout",
     "output_type": "stream",
     "text": [
      "Global round: 98 | Average loss: 0.8213504552841187\n",
      "Global Round: 99\n"
     ]
    },
    {
     "name": "stderr",
     "output_type": "stream",
     "text": [
      "Train Epoch: 99/1001. Iter:   18/  18. Data: 0.060s. Batch: 0.110s. Loss: 0.8187.: 100%|██| 18/18 [00:01<00:00,  9.09it/s]\n"
     ]
    },
    {
     "name": "stdout",
     "output_type": "stream",
     "text": [
      "Global round: 99 | Average loss: 0.8272230161560906\n",
      "Global Round: 100\n"
     ]
    },
    {
     "name": "stderr",
     "output_type": "stream",
     "text": [
      "Train Epoch: 100/1001. Iter:   18/  18. Data: 0.060s. Batch: 0.111s. Loss: 0.8414.: 100%|█| 18/18 [00:01<00:00,  9.03it/s]\n"
     ]
    },
    {
     "name": "stdout",
     "output_type": "stream",
     "text": [
      "global epoch 101 saved\n",
      "Global round: 100 | Average loss: 0.8232211371262869\n",
      "Global Round: 101\n"
     ]
    },
    {
     "name": "stderr",
     "output_type": "stream",
     "text": [
      "Train Epoch: 101/1001. Iter:   18/  18. Data: 0.064s. Batch: 0.115s. Loss: 0.8336.: 100%|█| 18/18 [00:02<00:00,  8.75it/s]\n"
     ]
    },
    {
     "name": "stdout",
     "output_type": "stream",
     "text": [
      "Global round: 101 | Average loss: 0.8175036278035905\n",
      "Global Round: 102\n"
     ]
    },
    {
     "name": "stderr",
     "output_type": "stream",
     "text": [
      "Train Epoch: 102/1001. Iter:   18/  18. Data: 0.062s. Batch: 0.112s. Loss: 0.8263.: 100%|█| 18/18 [00:02<00:00,  8.89it/s]\n"
     ]
    },
    {
     "name": "stdout",
     "output_type": "stream",
     "text": [
      "Global round: 102 | Average loss: 0.825064586268531\n",
      "Global Round: 103\n"
     ]
    },
    {
     "name": "stderr",
     "output_type": "stream",
     "text": [
      "Train Epoch: 103/1001. Iter:   18/  18. Data: 0.061s. Batch: 0.110s. Loss: 0.8368.: 100%|█| 18/18 [00:01<00:00,  9.10it/s]\n"
     ]
    },
    {
     "name": "stdout",
     "output_type": "stream",
     "text": [
      "Global round: 103 | Average loss: 0.8313016659683652\n",
      "Global Round: 104\n"
     ]
    },
    {
     "name": "stderr",
     "output_type": "stream",
     "text": [
      "Train Epoch: 104/1001. Iter:   18/  18. Data: 0.063s. Batch: 0.112s. Loss: 0.8394.: 100%|█| 18/18 [00:02<00:00,  8.95it/s]\n"
     ]
    },
    {
     "name": "stdout",
     "output_type": "stream",
     "text": [
      "Global round: 104 | Average loss: 0.825074745549096\n",
      "Global Round: 105\n"
     ]
    },
    {
     "name": "stderr",
     "output_type": "stream",
     "text": [
      "Train Epoch: 105/1001. Iter:   18/  18. Data: 0.062s. Batch: 0.112s. Loss: 0.8177.: 100%|█| 18/18 [00:02<00:00,  8.91it/s]\n"
     ]
    },
    {
     "name": "stdout",
     "output_type": "stream",
     "text": [
      "global epoch 106 saved\n",
      "Global round: 105 | Average loss: 0.8264986144171821\n",
      "Global Round: 106\n"
     ]
    },
    {
     "name": "stderr",
     "output_type": "stream",
     "text": [
      "Train Epoch: 106/1001. Iter:   18/  18. Data: 0.065s. Batch: 0.118s. Loss: 0.8114.: 100%|█| 18/18 [00:02<00:00,  8.52it/s]\n"
     ]
    },
    {
     "name": "stdout",
     "output_type": "stream",
     "text": [
      "Global round: 106 | Average loss: 0.8282856775654687\n",
      "Global Round: 107\n"
     ]
    },
    {
     "name": "stderr",
     "output_type": "stream",
     "text": [
      "Train Epoch: 107/1001. Iter:   18/  18. Data: 0.060s. Batch: 0.110s. Loss: 0.8110.: 100%|█| 18/18 [00:01<00:00,  9.08it/s]\n"
     ]
    },
    {
     "name": "stdout",
     "output_type": "stream",
     "text": [
      "Global round: 107 | Average loss: 0.823325170411004\n",
      "Global Round: 108\n"
     ]
    },
    {
     "name": "stderr",
     "output_type": "stream",
     "text": [
      "Train Epoch: 108/1001. Iter:   18/  18. Data: 0.061s. Batch: 0.112s. Loss: 0.8255.: 100%|█| 18/18 [00:02<00:00,  8.90it/s]\n"
     ]
    },
    {
     "name": "stdout",
     "output_type": "stream",
     "text": [
      "Global round: 108 | Average loss: 0.824962341123157\n",
      "Global Round: 109\n"
     ]
    },
    {
     "name": "stderr",
     "output_type": "stream",
     "text": [
      "Train Epoch: 109/1001. Iter:   18/  18. Data: 0.060s. Batch: 0.111s. Loss: 0.8259.: 100%|█| 18/18 [00:02<00:00,  8.95it/s]\n"
     ]
    },
    {
     "name": "stdout",
     "output_type": "stream",
     "text": [
      "Global round: 109 | Average loss: 0.8216586940818362\n",
      "Global Round: 110\n"
     ]
    },
    {
     "name": "stderr",
     "output_type": "stream",
     "text": [
      "Train Epoch: 110/1001. Iter:   18/  18. Data: 0.061s. Batch: 0.110s. Loss: 0.8135.: 100%|█| 18/18 [00:01<00:00,  9.10it/s]\n"
     ]
    },
    {
     "name": "stdout",
     "output_type": "stream",
     "text": [
      "global epoch 111 saved\n",
      "Global round: 110 | Average loss: 0.8297050793965658\n",
      "Global Round: 111\n"
     ]
    },
    {
     "name": "stderr",
     "output_type": "stream",
     "text": [
      "Train Epoch: 111/1001. Iter:   18/  18. Data: 0.059s. Batch: 0.110s. Loss: 0.8097.: 100%|█| 18/18 [00:01<00:00,  9.14it/s]\n"
     ]
    },
    {
     "name": "stdout",
     "output_type": "stream",
     "text": [
      "Global round: 111 | Average loss: 0.822075347105662\n",
      "Global Round: 112\n"
     ]
    },
    {
     "name": "stderr",
     "output_type": "stream",
     "text": [
      "Train Epoch: 112/1001. Iter:   18/  18. Data: 0.061s. Batch: 0.115s. Loss: 0.7943.: 100%|█| 18/18 [00:02<00:00,  8.68it/s]\n"
     ]
    },
    {
     "name": "stdout",
     "output_type": "stream",
     "text": [
      "Global round: 112 | Average loss: 0.8175875213411119\n",
      "Global Round: 113\n"
     ]
    },
    {
     "name": "stderr",
     "output_type": "stream",
     "text": [
      "Train Epoch: 113/1001. Iter:   18/  18. Data: 0.057s. Batch: 0.108s. Loss: 0.8304.: 100%|█| 18/18 [00:01<00:00,  9.25it/s]\n"
     ]
    },
    {
     "name": "stdout",
     "output_type": "stream",
     "text": [
      "Global round: 113 | Average loss: 0.8218096958266364\n",
      "Global Round: 114\n"
     ]
    },
    {
     "name": "stderr",
     "output_type": "stream",
     "text": [
      "Train Epoch: 114/1001. Iter:   18/  18. Data: 0.058s. Batch: 0.111s. Loss: 0.8180.: 100%|█| 18/18 [00:01<00:00,  9.03it/s]\n"
     ]
    },
    {
     "name": "stdout",
     "output_type": "stream",
     "text": [
      "Global round: 114 | Average loss: 0.8165360060003068\n",
      "Global Round: 115\n"
     ]
    },
    {
     "name": "stderr",
     "output_type": "stream",
     "text": [
      "Train Epoch: 115/1001. Iter:   18/  18. Data: 0.058s. Batch: 0.109s. Loss: 0.8105.: 100%|█| 18/18 [00:01<00:00,  9.16it/s]\n"
     ]
    },
    {
     "name": "stdout",
     "output_type": "stream",
     "text": [
      "global epoch 116 saved\n",
      "Global round: 115 | Average loss: 0.8174695935514238\n",
      "Global Round: 116\n"
     ]
    },
    {
     "name": "stderr",
     "output_type": "stream",
     "text": [
      "Train Epoch: 116/1001. Iter:   18/  18. Data: 0.061s. Batch: 0.110s. Loss: 0.7871.: 100%|█| 18/18 [00:01<00:00,  9.20it/s]\n"
     ]
    },
    {
     "name": "stdout",
     "output_type": "stream",
     "text": [
      "Global round: 116 | Average loss: 0.8170438475079007\n",
      "Global Round: 117\n"
     ]
    },
    {
     "name": "stderr",
     "output_type": "stream",
     "text": [
      "Train Epoch: 117/1001. Iter:   18/  18. Data: 0.062s. Batch: 0.111s. Loss: 0.8090.: 100%|█| 18/18 [00:01<00:00,  9.02it/s]\n"
     ]
    },
    {
     "name": "stdout",
     "output_type": "stream",
     "text": [
      "Global round: 117 | Average loss: 0.8173194560739729\n",
      "Global Round: 118\n"
     ]
    },
    {
     "name": "stderr",
     "output_type": "stream",
     "text": [
      "Train Epoch: 118/1001. Iter:   18/  18. Data: 0.060s. Batch: 0.110s. Loss: 0.8244.: 100%|█| 18/18 [00:01<00:00,  9.07it/s]\n"
     ]
    },
    {
     "name": "stdout",
     "output_type": "stream",
     "text": [
      "Global round: 118 | Average loss: 0.8177700473202599\n",
      "Global Round: 119\n"
     ]
    },
    {
     "name": "stderr",
     "output_type": "stream",
     "text": [
      "Train Epoch: 119/1001. Iter:   18/  18. Data: 0.059s. Batch: 0.109s. Loss: 0.8120.: 100%|█| 18/18 [00:01<00:00,  9.25it/s]\n"
     ]
    },
    {
     "name": "stdout",
     "output_type": "stream",
     "text": [
      "Global round: 119 | Average loss: 0.8178807099660238\n",
      "Global Round: 120\n"
     ]
    },
    {
     "name": "stderr",
     "output_type": "stream",
     "text": [
      "Train Epoch: 120/1001. Iter:   18/  18. Data: 0.063s. Batch: 0.114s. Loss: 0.7995.: 100%|█| 18/18 [00:02<00:00,  8.73it/s]\n"
     ]
    },
    {
     "name": "stdout",
     "output_type": "stream",
     "text": [
      "global epoch 121 saved\n",
      "Global round: 120 | Average loss: 0.8173671894603305\n",
      "Global Round: 121\n"
     ]
    },
    {
     "name": "stderr",
     "output_type": "stream",
     "text": [
      "Train Epoch: 121/1001. Iter:   18/  18. Data: 0.059s. Batch: 0.109s. Loss: 0.8290.: 100%|█| 18/18 [00:01<00:00,  9.27it/s]\n"
     ]
    },
    {
     "name": "stdout",
     "output_type": "stream",
     "text": [
      "Global round: 121 | Average loss: 0.8177380859851837\n",
      "Global Round: 122\n"
     ]
    },
    {
     "name": "stderr",
     "output_type": "stream",
     "text": [
      "Train Epoch: 122/1001. Iter:   18/  18. Data: 0.060s. Batch: 0.112s. Loss: 0.8147.: 100%|█| 18/18 [00:02<00:00,  8.95it/s]\n"
     ]
    },
    {
     "name": "stdout",
     "output_type": "stream",
     "text": [
      "Global round: 122 | Average loss: 0.8142758475409614\n",
      "Global Round: 123\n"
     ]
    },
    {
     "name": "stderr",
     "output_type": "stream",
     "text": [
      "Train Epoch: 123/1001. Iter:   18/  18. Data: 0.058s. Batch: 0.109s. Loss: 0.8143.: 100%|█| 18/18 [00:01<00:00,  9.19it/s]\n"
     ]
    },
    {
     "name": "stdout",
     "output_type": "stream",
     "text": [
      "Global round: 123 | Average loss: 0.8104791839917501\n",
      "Global Round: 124\n"
     ]
    },
    {
     "name": "stderr",
     "output_type": "stream",
     "text": [
      "Train Epoch: 124/1001. Iter:   18/  18. Data: 0.058s. Batch: 0.110s. Loss: 0.8094.: 100%|█| 18/18 [00:01<00:00,  9.10it/s]\n"
     ]
    },
    {
     "name": "stdout",
     "output_type": "stream",
     "text": [
      "Global round: 124 | Average loss: 0.8095192611217499\n",
      "Global Round: 125\n"
     ]
    },
    {
     "name": "stderr",
     "output_type": "stream",
     "text": [
      "Train Epoch: 125/1001. Iter:   18/  18. Data: 0.061s. Batch: 0.115s. Loss: 0.8535.: 100%|█| 18/18 [00:02<00:00,  8.68it/s]\n"
     ]
    },
    {
     "name": "stdout",
     "output_type": "stream",
     "text": [
      "global epoch 126 saved\n",
      "Global round: 125 | Average loss: 0.8128309316105313\n",
      "Global Round: 126\n"
     ]
    },
    {
     "name": "stderr",
     "output_type": "stream",
     "text": [
      "Train Epoch: 126/1001. Iter:   18/  18. Data: 0.061s. Batch: 0.111s. Loss: 0.8229.: 100%|█| 18/18 [00:01<00:00,  9.09it/s]\n"
     ]
    },
    {
     "name": "stdout",
     "output_type": "stream",
     "text": [
      "Global round: 126 | Average loss: 0.805995480881797\n",
      "Global Round: 127\n"
     ]
    },
    {
     "name": "stderr",
     "output_type": "stream",
     "text": [
      "Train Epoch: 127/1001. Iter:   18/  18. Data: 0.060s. Batch: 0.109s. Loss: 0.7963.: 100%|█| 18/18 [00:01<00:00,  9.19it/s]\n"
     ]
    },
    {
     "name": "stdout",
     "output_type": "stream",
     "text": [
      "Global round: 127 | Average loss: 0.8082332975334592\n",
      "Global Round: 128\n"
     ]
    },
    {
     "name": "stderr",
     "output_type": "stream",
     "text": [
      "Train Epoch: 128/1001. Iter:   18/  18. Data: 0.065s. Batch: 0.114s. Loss: 0.8276.: 100%|█| 18/18 [00:02<00:00,  8.76it/s]\n"
     ]
    },
    {
     "name": "stdout",
     "output_type": "stream",
     "text": [
      "Global round: 128 | Average loss: 0.8111442526181539\n",
      "Global Round: 129\n"
     ]
    },
    {
     "name": "stderr",
     "output_type": "stream",
     "text": [
      "Train Epoch: 129/1001. Iter:   18/  18. Data: 0.061s. Batch: 0.110s. Loss: 0.8408.: 100%|█| 18/18 [00:01<00:00,  9.08it/s]\n"
     ]
    },
    {
     "name": "stdout",
     "output_type": "stream",
     "text": [
      "Global round: 129 | Average loss: 0.804908381568061\n",
      "Global Round: 130\n"
     ]
    },
    {
     "name": "stderr",
     "output_type": "stream",
     "text": [
      "Train Epoch: 130/1001. Iter:   18/  18. Data: 0.064s. Batch: 0.114s. Loss: 0.8141.: 100%|█| 18/18 [00:02<00:00,  8.74it/s]\n"
     ]
    },
    {
     "name": "stdout",
     "output_type": "stream",
     "text": [
      "global epoch 131 saved\n",
      "Global round: 130 | Average loss: 0.8077833652496338\n",
      "Global Round: 131\n"
     ]
    },
    {
     "name": "stderr",
     "output_type": "stream",
     "text": [
      "Train Epoch: 131/1001. Iter:   18/  18. Data: 0.058s. Batch: 0.108s. Loss: 0.8244.: 100%|█| 18/18 [00:01<00:00,  9.28it/s]\n"
     ]
    },
    {
     "name": "stdout",
     "output_type": "stream",
     "text": [
      "Global round: 131 | Average loss: 0.803943223423428\n",
      "Global Round: 132\n"
     ]
    },
    {
     "name": "stderr",
     "output_type": "stream",
     "text": [
      "Train Epoch: 132/1001. Iter:   18/  18. Data: 0.060s. Batch: 0.111s. Loss: 0.8252.: 100%|█| 18/18 [00:01<00:00,  9.02it/s]\n"
     ]
    },
    {
     "name": "stdout",
     "output_type": "stream",
     "text": [
      "Global round: 132 | Average loss: 0.8034445113605924\n",
      "Global Round: 133\n"
     ]
    },
    {
     "name": "stderr",
     "output_type": "stream",
     "text": [
      "Train Epoch: 133/1001. Iter:   18/  18. Data: 0.061s. Batch: 0.112s. Loss: 0.8030.: 100%|█| 18/18 [00:02<00:00,  8.92it/s]\n"
     ]
    },
    {
     "name": "stdout",
     "output_type": "stream",
     "text": [
      "Global round: 133 | Average loss: 0.805570575926039\n",
      "Global Round: 134\n"
     ]
    },
    {
     "name": "stderr",
     "output_type": "stream",
     "text": [
      "Train Epoch: 134/1001. Iter:   18/  18. Data: 0.060s. Batch: 0.110s. Loss: 0.7969.: 100%|█| 18/18 [00:01<00:00,  9.10it/s]\n"
     ]
    },
    {
     "name": "stdout",
     "output_type": "stream",
     "text": [
      "Global round: 134 | Average loss: 0.801657646894455\n",
      "Global Round: 135\n"
     ]
    },
    {
     "name": "stderr",
     "output_type": "stream",
     "text": [
      "Train Epoch: 135/1001. Iter:   18/  18. Data: 0.060s. Batch: 0.112s. Loss: 0.7934.: 100%|█| 18/18 [00:02<00:00,  8.97it/s]\n"
     ]
    },
    {
     "name": "stdout",
     "output_type": "stream",
     "text": [
      "global epoch 136 saved\n",
      "Global round: 135 | Average loss: 0.7955799698829651\n",
      "Global Round: 136\n"
     ]
    },
    {
     "name": "stderr",
     "output_type": "stream",
     "text": [
      "Train Epoch: 136/1001. Iter:   18/  18. Data: 0.062s. Batch: 0.112s. Loss: 0.8129.: 100%|█| 18/18 [00:01<00:00,  9.03it/s]\n"
     ]
    },
    {
     "name": "stdout",
     "output_type": "stream",
     "text": [
      "Global round: 136 | Average loss: 0.7991844945483737\n",
      "Global Round: 137\n"
     ]
    },
    {
     "name": "stderr",
     "output_type": "stream",
     "text": [
      "Train Epoch: 137/1001. Iter:   18/  18. Data: 0.058s. Batch: 0.110s. Loss: 0.8118.: 100%|█| 18/18 [00:01<00:00,  9.11it/s]\n"
     ]
    },
    {
     "name": "stdout",
     "output_type": "stream",
     "text": [
      "Global round: 137 | Average loss: 0.8021892011165619\n",
      "Global Round: 138\n"
     ]
    },
    {
     "name": "stderr",
     "output_type": "stream",
     "text": [
      "Train Epoch: 138/1001. Iter:   18/  18. Data: 0.061s. Batch: 0.115s. Loss: 0.8100.: 100%|█| 18/18 [00:02<00:00,  8.66it/s]\n"
     ]
    },
    {
     "name": "stdout",
     "output_type": "stream",
     "text": [
      "Global round: 138 | Average loss: 0.7949069672160678\n",
      "Global Round: 139\n"
     ]
    },
    {
     "name": "stderr",
     "output_type": "stream",
     "text": [
      "Train Epoch: 139/1001. Iter:   18/  18. Data: 0.060s. Batch: 0.111s. Loss: 0.8008.: 100%|█| 18/18 [00:01<00:00,  9.06it/s]\n"
     ]
    },
    {
     "name": "stdout",
     "output_type": "stream",
     "text": [
      "Global round: 139 | Average loss: 0.7992391851213243\n",
      "Global Round: 140\n"
     ]
    },
    {
     "name": "stderr",
     "output_type": "stream",
     "text": [
      "Train Epoch: 140/1001. Iter:   18/  18. Data: 0.061s. Batch: 0.112s. Loss: 0.8056.: 100%|█| 18/18 [00:02<00:00,  8.95it/s]\n"
     ]
    },
    {
     "name": "stdout",
     "output_type": "stream",
     "text": [
      "global epoch 141 saved\n",
      "Global round: 140 | Average loss: 0.7985012465053134\n",
      "Global Round: 141\n"
     ]
    },
    {
     "name": "stderr",
     "output_type": "stream",
     "text": [
      "Train Epoch: 141/1001. Iter:   18/  18. Data: 0.066s. Batch: 0.117s. Loss: 0.7539.: 100%|█| 18/18 [00:02<00:00,  8.58it/s]\n"
     ]
    },
    {
     "name": "stdout",
     "output_type": "stream",
     "text": [
      "Global round: 141 | Average loss: 0.7947054704030355\n",
      "Global Round: 142\n"
     ]
    },
    {
     "name": "stderr",
     "output_type": "stream",
     "text": [
      "Train Epoch: 142/1001. Iter:   18/  18. Data: 0.062s. Batch: 0.112s. Loss: 0.7879.: 100%|█| 18/18 [00:02<00:00,  8.97it/s]\n"
     ]
    },
    {
     "name": "stdout",
     "output_type": "stream",
     "text": [
      "Global round: 142 | Average loss: 0.7887598276138306\n",
      "Global Round: 143\n"
     ]
    },
    {
     "name": "stderr",
     "output_type": "stream",
     "text": [
      "Train Epoch: 143/1001. Iter:   18/  18. Data: 0.064s. Batch: 0.114s. Loss: 0.8030.: 100%|█| 18/18 [00:02<00:00,  8.78it/s]\n"
     ]
    },
    {
     "name": "stdout",
     "output_type": "stream",
     "text": [
      "Global round: 143 | Average loss: 0.7930007874965668\n",
      "Global Round: 144\n"
     ]
    },
    {
     "name": "stderr",
     "output_type": "stream",
     "text": [
      "Train Epoch: 144/1001. Iter:   18/  18. Data: 0.061s. Batch: 0.111s. Loss: 0.7946.: 100%|█| 18/18 [00:01<00:00,  9.06it/s]\n"
     ]
    },
    {
     "name": "stdout",
     "output_type": "stream",
     "text": [
      "Global round: 144 | Average loss: 0.7884048024813334\n",
      "Global Round: 145\n"
     ]
    },
    {
     "name": "stderr",
     "output_type": "stream",
     "text": [
      "Train Epoch: 145/1001. Iter:   18/  18. Data: 0.061s. Batch: 0.112s. Loss: 0.7842.: 100%|█| 18/18 [00:02<00:00,  8.97it/s]\n"
     ]
    },
    {
     "name": "stdout",
     "output_type": "stream",
     "text": [
      "global epoch 146 saved\n",
      "Global round: 145 | Average loss: 0.790377590391371\n",
      "Global Round: 146\n"
     ]
    },
    {
     "name": "stderr",
     "output_type": "stream",
     "text": [
      "Train Epoch: 146/1001. Iter:   18/  18. Data: 0.063s. Batch: 0.114s. Loss: 0.7732.: 100%|█| 18/18 [00:02<00:00,  8.79it/s]\n"
     ]
    },
    {
     "name": "stdout",
     "output_type": "stream",
     "text": [
      "Global round: 146 | Average loss: 0.7887859046459198\n",
      "Global Round: 147\n"
     ]
    },
    {
     "name": "stderr",
     "output_type": "stream",
     "text": [
      "Train Epoch: 147/1001. Iter:   18/  18. Data: 0.060s. Batch: 0.113s. Loss: 0.7723.: 100%|█| 18/18 [00:02<00:00,  8.87it/s]\n"
     ]
    },
    {
     "name": "stdout",
     "output_type": "stream",
     "text": [
      "Global round: 147 | Average loss: 0.7909351719750298\n",
      "Global Round: 148\n"
     ]
    },
    {
     "name": "stderr",
     "output_type": "stream",
     "text": [
      "Train Epoch: 148/1001. Iter:   18/  18. Data: 0.058s. Batch: 0.108s. Loss: 0.7670.: 100%|█| 18/18 [00:01<00:00,  9.21it/s]\n"
     ]
    },
    {
     "name": "stdout",
     "output_type": "stream",
     "text": [
      "Global round: 148 | Average loss: 0.7872539162635803\n",
      "Global Round: 149\n"
     ]
    },
    {
     "name": "stderr",
     "output_type": "stream",
     "text": [
      "Train Epoch: 149/1001. Iter:   18/  18. Data: 0.061s. Batch: 0.113s. Loss: 0.7901.: 100%|█| 18/18 [00:02<00:00,  8.88it/s]\n"
     ]
    },
    {
     "name": "stdout",
     "output_type": "stream",
     "text": [
      "Global round: 149 | Average loss: 0.7885014249218835\n",
      "Global Round: 150\n"
     ]
    },
    {
     "name": "stderr",
     "output_type": "stream",
     "text": [
      "Train Epoch: 150/1001. Iter:   18/  18. Data: 0.062s. Batch: 0.114s. Loss: 0.7794.: 100%|█| 18/18 [00:02<00:00,  8.75it/s]\n"
     ]
    },
    {
     "name": "stdout",
     "output_type": "stream",
     "text": [
      "global epoch 151 saved\n",
      "Global round: 150 | Average loss: 0.784788555569119\n",
      "Global Round: 151\n"
     ]
    },
    {
     "name": "stderr",
     "output_type": "stream",
     "text": [
      "Train Epoch: 151/1001. Iter:   18/  18. Data: 0.063s. Batch: 0.115s. Loss: 0.7704.: 100%|█| 18/18 [00:02<00:00,  8.78it/s]\n"
     ]
    },
    {
     "name": "stdout",
     "output_type": "stream",
     "text": [
      "Global round: 151 | Average loss: 0.7860573000378079\n",
      "Global Round: 152\n"
     ]
    },
    {
     "name": "stderr",
     "output_type": "stream",
     "text": [
      "Train Epoch: 152/1001. Iter:   18/  18. Data: 0.061s. Batch: 0.109s. Loss: 0.7601.: 100%|█| 18/18 [00:01<00:00,  9.15it/s]\n"
     ]
    },
    {
     "name": "stdout",
     "output_type": "stream",
     "text": [
      "Global round: 152 | Average loss: 0.7867020633485582\n",
      "Global Round: 153\n"
     ]
    },
    {
     "name": "stderr",
     "output_type": "stream",
     "text": [
      "Train Epoch: 153/1001. Iter:   18/  18. Data: 0.062s. Batch: 0.112s. Loss: 0.7954.: 100%|█| 18/18 [00:02<00:00,  8.96it/s]\n"
     ]
    },
    {
     "name": "stdout",
     "output_type": "stream",
     "text": [
      "Global round: 153 | Average loss: 0.7904590864976248\n",
      "Global Round: 154\n"
     ]
    },
    {
     "name": "stderr",
     "output_type": "stream",
     "text": [
      "Train Epoch: 154/1001. Iter:   18/  18. Data: 0.064s. Batch: 0.113s. Loss: 0.7905.: 100%|█| 18/18 [00:02<00:00,  8.82it/s]\n"
     ]
    },
    {
     "name": "stdout",
     "output_type": "stream",
     "text": [
      "Global round: 154 | Average loss: 0.7850774493482378\n",
      "Global Round: 155\n"
     ]
    },
    {
     "name": "stderr",
     "output_type": "stream",
     "text": [
      "Train Epoch: 155/1001. Iter:   18/  18. Data: 0.066s. Batch: 0.116s. Loss: 0.7835.: 100%|█| 18/18 [00:02<00:00,  8.61it/s]\n"
     ]
    },
    {
     "name": "stdout",
     "output_type": "stream",
     "text": [
      "global epoch 156 saved\n",
      "Global round: 155 | Average loss: 0.78353770242797\n",
      "Global Round: 156\n"
     ]
    },
    {
     "name": "stderr",
     "output_type": "stream",
     "text": [
      "Train Epoch: 156/1001. Iter:   18/  18. Data: 0.060s. Batch: 0.112s. Loss: 0.8067.: 100%|█| 18/18 [00:02<00:00,  8.98it/s]\n"
     ]
    },
    {
     "name": "stdout",
     "output_type": "stream",
     "text": [
      "Global round: 156 | Average loss: 0.7847072084744772\n",
      "Global Round: 157\n"
     ]
    },
    {
     "name": "stderr",
     "output_type": "stream",
     "text": [
      "Train Epoch: 157/1001. Iter:   18/  18. Data: 0.062s. Batch: 0.114s. Loss: 0.7786.: 100%|█| 18/18 [00:02<00:00,  8.79it/s]\n"
     ]
    },
    {
     "name": "stdout",
     "output_type": "stream",
     "text": [
      "Global round: 157 | Average loss: 0.7820951309469011\n",
      "Global Round: 158\n"
     ]
    },
    {
     "name": "stderr",
     "output_type": "stream",
     "text": [
      "Train Epoch: 158/1001. Iter:   18/  18. Data: 0.060s. Batch: 0.112s. Loss: 0.7715.: 100%|█| 18/18 [00:02<00:00,  8.90it/s]\n"
     ]
    },
    {
     "name": "stdout",
     "output_type": "stream",
     "text": [
      "Global round: 158 | Average loss: 0.781987339258194\n",
      "Global Round: 159\n"
     ]
    },
    {
     "name": "stderr",
     "output_type": "stream",
     "text": [
      "Train Epoch: 159/1001. Iter:   18/  18. Data: 0.064s. Batch: 0.118s. Loss: 0.8021.: 100%|█| 18/18 [00:02<00:00,  8.50it/s]\n"
     ]
    },
    {
     "name": "stdout",
     "output_type": "stream",
     "text": [
      "Global round: 159 | Average loss: 0.7844879362318251\n",
      "Global Round: 160\n"
     ]
    },
    {
     "name": "stderr",
     "output_type": "stream",
     "text": [
      "Train Epoch: 160/1001. Iter:   18/  18. Data: 0.061s. Batch: 0.111s. Loss: 0.7749.: 100%|█| 18/18 [00:02<00:00,  8.99it/s]\n"
     ]
    },
    {
     "name": "stdout",
     "output_type": "stream",
     "text": [
      "global epoch 161 saved\n",
      "Global round: 160 | Average loss: 0.7818848755624559\n",
      "Global Round: 161\n"
     ]
    },
    {
     "name": "stderr",
     "output_type": "stream",
     "text": [
      "Train Epoch: 161/1001. Iter:   18/  18. Data: 0.066s. Batch: 0.116s. Loss: 0.7677.: 100%|█| 18/18 [00:02<00:00,  8.64it/s]\n"
     ]
    },
    {
     "name": "stdout",
     "output_type": "stream",
     "text": [
      "Global round: 161 | Average loss: 0.7787369026078118\n",
      "Global Round: 162\n"
     ]
    },
    {
     "name": "stderr",
     "output_type": "stream",
     "text": [
      "Train Epoch: 162/1001. Iter:   18/  18. Data: 0.059s. Batch: 0.115s. Loss: 0.7848.: 100%|█| 18/18 [00:02<00:00,  8.73it/s]\n"
     ]
    },
    {
     "name": "stdout",
     "output_type": "stream",
     "text": [
      "Global round: 162 | Average loss: 0.7829767366250356\n",
      "Global Round: 163\n"
     ]
    },
    {
     "name": "stderr",
     "output_type": "stream",
     "text": [
      "Train Epoch: 163/1001. Iter:   18/  18. Data: 0.058s. Batch: 0.108s. Loss: 0.7837.: 100%|█| 18/18 [00:01<00:00,  9.23it/s]\n"
     ]
    },
    {
     "name": "stdout",
     "output_type": "stream",
     "text": [
      "Global round: 163 | Average loss: 0.7747551931275262\n",
      "Global Round: 164\n"
     ]
    },
    {
     "name": "stderr",
     "output_type": "stream",
     "text": [
      "Train Epoch: 164/1001. Iter:   18/  18. Data: 0.060s. Batch: 0.114s. Loss: 0.7932.: 100%|█| 18/18 [00:02<00:00,  8.74it/s]\n"
     ]
    },
    {
     "name": "stdout",
     "output_type": "stream",
     "text": [
      "Global round: 164 | Average loss: 0.7791610923078325\n",
      "Global Round: 165\n"
     ]
    },
    {
     "name": "stderr",
     "output_type": "stream",
     "text": [
      "Train Epoch: 165/1001. Iter:   18/  18. Data: 0.060s. Batch: 0.111s. Loss: 0.8051.: 100%|█| 18/18 [00:01<00:00,  9.03it/s]\n"
     ]
    },
    {
     "name": "stdout",
     "output_type": "stream",
     "text": [
      "global epoch 166 saved\n",
      "Global round: 165 | Average loss: 0.7771054969893562\n",
      "Global Round: 166\n"
     ]
    },
    {
     "name": "stderr",
     "output_type": "stream",
     "text": [
      "Train Epoch: 166/1001. Iter:   18/  18. Data: 0.062s. Batch: 0.113s. Loss: 0.7883.: 100%|█| 18/18 [00:02<00:00,  8.96it/s]\n"
     ]
    },
    {
     "name": "stdout",
     "output_type": "stream",
     "text": [
      "Global round: 166 | Average loss: 0.778443412648307\n",
      "Global Round: 167\n"
     ]
    },
    {
     "name": "stderr",
     "output_type": "stream",
     "text": [
      "Train Epoch: 167/1001. Iter:   18/  18. Data: 0.063s. Batch: 0.113s. Loss: 0.7847.: 100%|█| 18/18 [00:02<00:00,  8.84it/s]\n"
     ]
    },
    {
     "name": "stdout",
     "output_type": "stream",
     "text": [
      "Global round: 167 | Average loss: 0.7748714552985297\n",
      "Global Round: 168\n"
     ]
    },
    {
     "name": "stderr",
     "output_type": "stream",
     "text": [
      "Train Epoch: 168/1001. Iter:   18/  18. Data: 0.059s. Batch: 0.109s. Loss: 0.7597.: 100%|█| 18/18 [00:01<00:00,  9.16it/s]\n"
     ]
    },
    {
     "name": "stdout",
     "output_type": "stream",
     "text": [
      "Global round: 168 | Average loss: 0.7769826617505815\n",
      "Global Round: 169\n"
     ]
    },
    {
     "name": "stderr",
     "output_type": "stream",
     "text": [
      "Train Epoch: 169/1001. Iter:   18/  18. Data: 0.062s. Batch: 0.112s. Loss: 0.7619.: 100%|█| 18/18 [00:02<00:00,  8.95it/s]\n"
     ]
    },
    {
     "name": "stdout",
     "output_type": "stream",
     "text": [
      "Global round: 169 | Average loss: 0.7768760886457231\n",
      "Global Round: 170\n"
     ]
    },
    {
     "name": "stderr",
     "output_type": "stream",
     "text": [
      "Train Epoch: 170/1001. Iter:   18/  18. Data: 0.064s. Batch: 0.115s. Loss: 0.7842.: 100%|█| 18/18 [00:02<00:00,  8.71it/s]\n"
     ]
    },
    {
     "name": "stdout",
     "output_type": "stream",
     "text": [
      "global epoch 171 saved\n",
      "Global round: 170 | Average loss: 0.776924835311042\n",
      "Global Round: 171\n"
     ]
    },
    {
     "name": "stderr",
     "output_type": "stream",
     "text": [
      "Train Epoch: 171/1001. Iter:   18/  18. Data: 0.061s. Batch: 0.112s. Loss: 0.7466.: 100%|█| 18/18 [00:01<00:00,  9.02it/s]\n"
     ]
    },
    {
     "name": "stdout",
     "output_type": "stream",
     "text": [
      "Global round: 171 | Average loss: 0.7749408615960015\n",
      "Global Round: 172\n"
     ]
    },
    {
     "name": "stderr",
     "output_type": "stream",
     "text": [
      "Train Epoch: 172/1001. Iter:   18/  18. Data: 0.060s. Batch: 0.114s. Loss: 0.7815.: 100%|█| 18/18 [00:02<00:00,  8.77it/s]\n"
     ]
    },
    {
     "name": "stdout",
     "output_type": "stream",
     "text": [
      "Global round: 172 | Average loss: 0.7738630804750655\n",
      "Global Round: 173\n"
     ]
    },
    {
     "name": "stderr",
     "output_type": "stream",
     "text": [
      "Train Epoch: 173/1001. Iter:   18/  18. Data: 0.060s. Batch: 0.112s. Loss: 0.7660.: 100%|█| 18/18 [00:02<00:00,  8.92it/s]\n"
     ]
    },
    {
     "name": "stdout",
     "output_type": "stream",
     "text": [
      "Global round: 173 | Average loss: 0.7742598255475363\n",
      "Global Round: 174\n"
     ]
    },
    {
     "name": "stderr",
     "output_type": "stream",
     "text": [
      "Train Epoch: 174/1001. Iter:   18/  18. Data: 0.060s. Batch: 0.111s. Loss: 0.7717.: 100%|█| 18/18 [00:01<00:00,  9.03it/s]\n"
     ]
    },
    {
     "name": "stdout",
     "output_type": "stream",
     "text": [
      "Global round: 174 | Average loss: 0.7757016784614987\n",
      "Global Round: 175\n"
     ]
    },
    {
     "name": "stderr",
     "output_type": "stream",
     "text": [
      "Train Epoch: 175/1001. Iter:   18/  18. Data: 0.060s. Batch: 0.113s. Loss: 0.7893.: 100%|█| 18/18 [00:02<00:00,  8.86it/s]\n"
     ]
    },
    {
     "name": "stdout",
     "output_type": "stream",
     "text": [
      "global epoch 176 saved\n",
      "Global round: 175 | Average loss: 0.7717883818679385\n",
      "Global Round: 176\n"
     ]
    },
    {
     "name": "stderr",
     "output_type": "stream",
     "text": [
      "Train Epoch: 176/1001. Iter:   18/  18. Data: 0.065s. Batch: 0.114s. Loss: 0.7633.: 100%|█| 18/18 [00:02<00:00,  8.85it/s]\n"
     ]
    },
    {
     "name": "stdout",
     "output_type": "stream",
     "text": [
      "Global round: 176 | Average loss: 0.77469026711252\n",
      "Global Round: 177\n"
     ]
    },
    {
     "name": "stderr",
     "output_type": "stream",
     "text": [
      "Train Epoch: 177/1001. Iter:   18/  18. Data: 0.063s. Batch: 0.112s. Loss: 0.7860.: 100%|█| 18/18 [00:02<00:00,  8.93it/s]\n"
     ]
    },
    {
     "name": "stdout",
     "output_type": "stream",
     "text": [
      "Global round: 177 | Average loss: 0.7762399680084653\n",
      "Global Round: 178\n"
     ]
    },
    {
     "name": "stderr",
     "output_type": "stream",
     "text": [
      "Train Epoch: 178/1001. Iter:   18/  18. Data: 0.063s. Batch: 0.111s. Loss: 0.7650.: 100%|█| 18/18 [00:02<00:00,  8.97it/s]\n"
     ]
    },
    {
     "name": "stdout",
     "output_type": "stream",
     "text": [
      "Global round: 178 | Average loss: 0.7716614902019501\n",
      "Global Round: 179\n"
     ]
    },
    {
     "name": "stderr",
     "output_type": "stream",
     "text": [
      "Train Epoch: 179/1001. Iter:   18/  18. Data: 0.059s. Batch: 0.107s. Loss: 0.7562.: 100%|█| 18/18 [00:01<00:00,  9.28it/s]\n"
     ]
    },
    {
     "name": "stdout",
     "output_type": "stream",
     "text": [
      "Global round: 179 | Average loss: 0.7740144630273184\n",
      "Global Round: 180\n"
     ]
    },
    {
     "name": "stderr",
     "output_type": "stream",
     "text": [
      "Train Epoch: 180/1001. Iter:   18/  18. Data: 0.063s. Batch: 0.111s. Loss: 0.7858.: 100%|█| 18/18 [00:01<00:00,  9.03it/s]\n"
     ]
    },
    {
     "name": "stdout",
     "output_type": "stream",
     "text": [
      "global epoch 181 saved\n",
      "Global round: 180 | Average loss: 0.7731155190202925\n",
      "Global Round: 181\n"
     ]
    },
    {
     "name": "stderr",
     "output_type": "stream",
     "text": [
      "Train Epoch: 181/1001. Iter:   18/  18. Data: 0.061s. Batch: 0.112s. Loss: 0.7609.: 100%|█| 18/18 [00:02<00:00,  8.97it/s]\n"
     ]
    },
    {
     "name": "stdout",
     "output_type": "stream",
     "text": [
      "Global round: 181 | Average loss: 0.7680192424191369\n",
      "Global Round: 182\n"
     ]
    },
    {
     "name": "stderr",
     "output_type": "stream",
     "text": [
      "Train Epoch: 182/1001. Iter:   18/  18. Data: 0.061s. Batch: 0.112s. Loss: 0.7845.: 100%|█| 18/18 [00:02<00:00,  8.97it/s]\n"
     ]
    },
    {
     "name": "stdout",
     "output_type": "stream",
     "text": [
      "Global round: 182 | Average loss: 0.7698168290985955\n",
      "Global Round: 183\n"
     ]
    },
    {
     "name": "stderr",
     "output_type": "stream",
     "text": [
      "Train Epoch: 183/1001. Iter:   18/  18. Data: 0.060s. Batch: 0.111s. Loss: 0.7882.: 100%|█| 18/18 [00:02<00:00,  8.98it/s]\n"
     ]
    },
    {
     "name": "stdout",
     "output_type": "stream",
     "text": [
      "Global round: 183 | Average loss: 0.7702276342444949\n",
      "Global Round: 184\n"
     ]
    },
    {
     "name": "stderr",
     "output_type": "stream",
     "text": [
      "Train Epoch: 184/1001. Iter:   18/  18. Data: 0.061s. Batch: 0.110s. Loss: 0.7452.: 100%|█| 18/18 [00:01<00:00,  9.14it/s]\n"
     ]
    },
    {
     "name": "stdout",
     "output_type": "stream",
     "text": [
      "Global round: 184 | Average loss: 0.7689953711297777\n",
      "Global Round: 185\n"
     ]
    },
    {
     "name": "stderr",
     "output_type": "stream",
     "text": [
      "Train Epoch: 185/1001. Iter:   18/  18. Data: 0.061s. Batch: 0.112s. Loss: 0.7679.: 100%|█| 18/18 [00:02<00:00,  8.96it/s]\n"
     ]
    },
    {
     "name": "stdout",
     "output_type": "stream",
     "text": [
      "global epoch 186 saved\n",
      "Global round: 185 | Average loss: 0.7712611258029938\n",
      "Global Round: 186\n"
     ]
    },
    {
     "name": "stderr",
     "output_type": "stream",
     "text": [
      "Train Epoch: 186/1001. Iter:   18/  18. Data: 0.062s. Batch: 0.114s. Loss: 0.7703.: 100%|█| 18/18 [00:02<00:00,  8.85it/s]\n"
     ]
    },
    {
     "name": "stdout",
     "output_type": "stream",
     "text": [
      "Global round: 186 | Average loss: 0.7678532832198672\n",
      "Global Round: 187\n"
     ]
    },
    {
     "name": "stderr",
     "output_type": "stream",
     "text": [
      "Train Epoch: 187/1001. Iter:   18/  18. Data: 0.059s. Batch: 0.110s. Loss: 0.7738.: 100%|█| 18/18 [00:01<00:00,  9.09it/s]\n"
     ]
    },
    {
     "name": "stdout",
     "output_type": "stream",
     "text": [
      "Global round: 187 | Average loss: 0.7687733405166202\n",
      "Global Round: 188\n"
     ]
    },
    {
     "name": "stderr",
     "output_type": "stream",
     "text": [
      "Train Epoch: 188/1001. Iter:   18/  18. Data: 0.059s. Batch: 0.112s. Loss: 0.7729.: 100%|█| 18/18 [00:02<00:00,  8.99it/s]\n"
     ]
    },
    {
     "name": "stdout",
     "output_type": "stream",
     "text": [
      "Global round: 188 | Average loss: 0.7691766387886472\n",
      "Global Round: 189\n"
     ]
    },
    {
     "name": "stderr",
     "output_type": "stream",
     "text": [
      "Train Epoch: 189/1001. Iter:   18/  18. Data: 0.063s. Batch: 0.118s. Loss: 0.7438.: 100%|█| 18/18 [00:02<00:00,  8.51it/s]\n"
     ]
    },
    {
     "name": "stdout",
     "output_type": "stream",
     "text": [
      "Global round: 189 | Average loss: 0.7686435613367293\n",
      "Global Round: 190\n"
     ]
    },
    {
     "name": "stderr",
     "output_type": "stream",
     "text": [
      "Train Epoch: 190/1001. Iter:   18/  18. Data: 0.060s. Batch: 0.112s. Loss: 0.7511.: 100%|█| 18/18 [00:02<00:00,  8.92it/s]\n"
     ]
    },
    {
     "name": "stdout",
     "output_type": "stream",
     "text": [
      "global epoch 191 saved\n",
      "Global round: 190 | Average loss: 0.7631255255805122\n",
      "Global Round: 191\n"
     ]
    },
    {
     "name": "stderr",
     "output_type": "stream",
     "text": [
      "Train Epoch: 191/1001. Iter:   18/  18. Data: 0.062s. Batch: 0.112s. Loss: 0.7564.: 100%|█| 18/18 [00:01<00:00,  9.04it/s]\n"
     ]
    },
    {
     "name": "stdout",
     "output_type": "stream",
     "text": [
      "Global round: 191 | Average loss: 0.7655951446957059\n",
      "Global Round: 192\n"
     ]
    },
    {
     "name": "stderr",
     "output_type": "stream",
     "text": [
      "Train Epoch: 192/1001. Iter:   18/  18. Data: 0.061s. Batch: 0.111s. Loss: 0.7413.: 100%|█| 18/18 [00:02<00:00,  8.98it/s]\n"
     ]
    },
    {
     "name": "stdout",
     "output_type": "stream",
     "text": [
      "Global round: 192 | Average loss: 0.7723483244578043\n",
      "Global Round: 193\n"
     ]
    },
    {
     "name": "stderr",
     "output_type": "stream",
     "text": [
      "Train Epoch: 193/1001. Iter:   18/  18. Data: 0.060s. Batch: 0.109s. Loss: 0.7510.: 100%|█| 18/18 [00:01<00:00,  9.16it/s]\n"
     ]
    },
    {
     "name": "stdout",
     "output_type": "stream",
     "text": [
      "Global round: 193 | Average loss: 0.7667237718900045\n",
      "Global Round: 194\n"
     ]
    },
    {
     "name": "stderr",
     "output_type": "stream",
     "text": [
      "Train Epoch: 194/1001. Iter:   18/  18. Data: 0.062s. Batch: 0.112s. Loss: 0.7628.: 100%|█| 18/18 [00:02<00:00,  8.91it/s]\n"
     ]
    },
    {
     "name": "stdout",
     "output_type": "stream",
     "text": [
      "Global round: 194 | Average loss: 0.7631239824824863\n",
      "Global Round: 195\n"
     ]
    },
    {
     "name": "stderr",
     "output_type": "stream",
     "text": [
      "Train Epoch: 195/1001. Iter:   18/  18. Data: 0.065s. Batch: 0.116s. Loss: 0.7696.: 100%|█| 18/18 [00:02<00:00,  8.64it/s]\n"
     ]
    },
    {
     "name": "stdout",
     "output_type": "stream",
     "text": [
      "global epoch 196 saved\n",
      "Global round: 195 | Average loss: 0.7628790934880575\n",
      "Global Round: 196\n"
     ]
    },
    {
     "name": "stderr",
     "output_type": "stream",
     "text": [
      "Train Epoch: 196/1001. Iter:   18/  18. Data: 0.060s. Batch: 0.113s. Loss: 0.7723.: 100%|█| 18/18 [00:02<00:00,  8.93it/s]\n"
     ]
    },
    {
     "name": "stdout",
     "output_type": "stream",
     "text": [
      "Global round: 196 | Average loss: 0.7643739183743795\n",
      "Global Round: 197\n"
     ]
    },
    {
     "name": "stderr",
     "output_type": "stream",
     "text": [
      "Train Epoch: 197/1001. Iter:   18/  18. Data: 0.060s. Batch: 0.112s. Loss: 0.7699.: 100%|█| 18/18 [00:02<00:00,  8.91it/s]\n"
     ]
    },
    {
     "name": "stdout",
     "output_type": "stream",
     "text": [
      "Global round: 197 | Average loss: 0.7613841195901235\n",
      "Global Round: 198\n"
     ]
    },
    {
     "name": "stderr",
     "output_type": "stream",
     "text": [
      "Train Epoch: 198/1001. Iter:   18/  18. Data: 0.060s. Batch: 0.111s. Loss: 0.7398.: 100%|█| 18/18 [00:01<00:00,  9.05it/s]\n"
     ]
    },
    {
     "name": "stdout",
     "output_type": "stream",
     "text": [
      "Global round: 198 | Average loss: 0.7616162465678321\n",
      "Global Round: 199\n"
     ]
    },
    {
     "name": "stderr",
     "output_type": "stream",
     "text": [
      "Train Epoch: 199/1001. Iter:   18/  18. Data: 0.062s. Batch: 0.117s. Loss: 0.7827.: 100%|█| 18/18 [00:02<00:00,  8.52it/s]\n"
     ]
    },
    {
     "name": "stdout",
     "output_type": "stream",
     "text": [
      "Global round: 199 | Average loss: 0.7613023122151693\n",
      "Global Round: 200\n"
     ]
    },
    {
     "name": "stderr",
     "output_type": "stream",
     "text": [
      "Train Epoch: 200/1001. Iter:   18/  18. Data: 0.058s. Batch: 0.108s. Loss: 0.7414.: 100%|█| 18/18 [00:01<00:00,  9.26it/s]\n"
     ]
    },
    {
     "name": "stdout",
     "output_type": "stream",
     "text": [
      "global epoch 201 saved\n",
      "Global round: 200 | Average loss: 0.762132767173979\n",
      "Global Round: 201\n"
     ]
    },
    {
     "name": "stderr",
     "output_type": "stream",
     "text": [
      "Train Epoch: 201/1001. Iter:   18/  18. Data: 0.061s. Batch: 0.111s. Loss: 0.7870.: 100%|█| 18/18 [00:01<00:00,  9.09it/s]\n"
     ]
    },
    {
     "name": "stdout",
     "output_type": "stream",
     "text": [
      "Global round: 201 | Average loss: 0.7588421238793267\n",
      "Global Round: 202\n"
     ]
    },
    {
     "name": "stderr",
     "output_type": "stream",
     "text": [
      "Train Epoch: 202/1001. Iter:   18/  18. Data: 0.064s. Batch: 0.113s. Loss: 0.7477.: 100%|█| 18/18 [00:02<00:00,  8.88it/s]\n"
     ]
    },
    {
     "name": "stdout",
     "output_type": "stream",
     "text": [
      "Global round: 202 | Average loss: 0.757932080162896\n",
      "Global Round: 203\n"
     ]
    },
    {
     "name": "stderr",
     "output_type": "stream",
     "text": [
      "Train Epoch: 203/1001. Iter:   18/  18. Data: 0.060s. Batch: 0.109s. Loss: 0.7763.: 100%|█| 18/18 [00:01<00:00,  9.11it/s]\n"
     ]
    },
    {
     "name": "stdout",
     "output_type": "stream",
     "text": [
      "Global round: 203 | Average loss: 0.7615449461672041\n",
      "Global Round: 204\n"
     ]
    },
    {
     "name": "stderr",
     "output_type": "stream",
     "text": [
      "Train Epoch: 204/1001. Iter:   18/  18. Data: 0.067s. Batch: 0.117s. Loss: 0.7547.: 100%|█| 18/18 [00:02<00:00,  8.58it/s]\n"
     ]
    },
    {
     "name": "stdout",
     "output_type": "stream",
     "text": [
      "Global round: 204 | Average loss: 0.7554163138071696\n",
      "Global Round: 205\n"
     ]
    },
    {
     "name": "stderr",
     "output_type": "stream",
     "text": [
      "Train Epoch: 205/1001. Iter:   18/  18. Data: 0.062s. Batch: 0.111s. Loss: 0.7785.: 100%|█| 18/18 [00:02<00:00,  8.98it/s]\n"
     ]
    },
    {
     "name": "stdout",
     "output_type": "stream",
     "text": [
      "global epoch 206 saved\n",
      "Global round: 205 | Average loss: 0.7614561484919654\n",
      "Global Round: 206\n"
     ]
    },
    {
     "name": "stderr",
     "output_type": "stream",
     "text": [
      "Train Epoch: 206/1001. Iter:   18/  18. Data: 0.059s. Batch: 0.110s. Loss: 0.7461.: 100%|█| 18/18 [00:01<00:00,  9.15it/s]\n"
     ]
    },
    {
     "name": "stdout",
     "output_type": "stream",
     "text": [
      "Global round: 206 | Average loss: 0.7540614207585653\n",
      "Global Round: 207\n"
     ]
    },
    {
     "name": "stderr",
     "output_type": "stream",
     "text": [
      "Train Epoch: 207/1001. Iter:   18/  18. Data: 0.063s. Batch: 0.114s. Loss: 0.7689.: 100%|█| 18/18 [00:02<00:00,  8.79it/s]\n"
     ]
    },
    {
     "name": "stdout",
     "output_type": "stream",
     "text": [
      "Global round: 207 | Average loss: 0.7578353749381171\n",
      "Global Round: 208\n"
     ]
    },
    {
     "name": "stderr",
     "output_type": "stream",
     "text": [
      "Train Epoch: 208/1001. Iter:   18/  18. Data: 0.059s. Batch: 0.108s. Loss: 0.7908.: 100%|█| 18/18 [00:01<00:00,  9.22it/s]\n"
     ]
    },
    {
     "name": "stdout",
     "output_type": "stream",
     "text": [
      "Global round: 208 | Average loss: 0.7599838044908311\n",
      "Global Round: 209\n"
     ]
    },
    {
     "name": "stderr",
     "output_type": "stream",
     "text": [
      "Train Epoch: 209/1001. Iter:   18/  18. Data: 0.061s. Batch: 0.112s. Loss: 0.7883.: 100%|█| 18/18 [00:02<00:00,  8.90it/s]\n"
     ]
    },
    {
     "name": "stdout",
     "output_type": "stream",
     "text": [
      "Global round: 209 | Average loss: 0.7565005156728957\n",
      "Global Round: 210\n"
     ]
    },
    {
     "name": "stderr",
     "output_type": "stream",
     "text": [
      "Train Epoch: 210/1001. Iter:   18/  18. Data: 0.059s. Batch: 0.109s. Loss: 0.7529.: 100%|█| 18/18 [00:01<00:00,  9.20it/s]\n"
     ]
    },
    {
     "name": "stdout",
     "output_type": "stream",
     "text": [
      "global epoch 211 saved\n",
      "Global round: 210 | Average loss: 0.7541539867719015\n",
      "Global Round: 211\n"
     ]
    },
    {
     "name": "stderr",
     "output_type": "stream",
     "text": [
      "Train Epoch: 211/1001. Iter:   18/  18. Data: 0.062s. Batch: 0.114s. Loss: 0.7727.: 100%|█| 18/18 [00:02<00:00,  8.87it/s]\n"
     ]
    },
    {
     "name": "stdout",
     "output_type": "stream",
     "text": [
      "Global round: 211 | Average loss: 0.757230775223838\n",
      "Global Round: 212\n"
     ]
    },
    {
     "name": "stderr",
     "output_type": "stream",
     "text": [
      "Train Epoch: 212/1001. Iter:   18/  18. Data: 0.060s. Batch: 0.114s. Loss: 0.7738.: 100%|█| 18/18 [00:02<00:00,  8.77it/s]\n"
     ]
    },
    {
     "name": "stdout",
     "output_type": "stream",
     "text": [
      "Global round: 212 | Average loss: 0.7546329730086856\n",
      "Global Round: 213\n"
     ]
    },
    {
     "name": "stderr",
     "output_type": "stream",
     "text": [
      "Train Epoch: 213/1001. Iter:   18/  18. Data: 0.058s. Batch: 0.110s. Loss: 0.7532.: 100%|█| 18/18 [00:01<00:00,  9.09it/s]\n"
     ]
    },
    {
     "name": "stdout",
     "output_type": "stream",
     "text": [
      "Global round: 213 | Average loss: 0.7543163630697463\n",
      "Global Round: 214\n"
     ]
    },
    {
     "name": "stderr",
     "output_type": "stream",
     "text": [
      "Train Epoch: 214/1001. Iter:   18/  18. Data: 0.058s. Batch: 0.110s. Loss: 0.7617.: 100%|█| 18/18 [00:01<00:00,  9.04it/s]\n"
     ]
    },
    {
     "name": "stdout",
     "output_type": "stream",
     "text": [
      "Global round: 214 | Average loss: 0.7529852125379775\n",
      "Global Round: 215\n"
     ]
    },
    {
     "name": "stderr",
     "output_type": "stream",
     "text": [
      "Train Epoch: 215/1001. Iter:   18/  18. Data: 0.061s. Batch: 0.115s. Loss: 0.7787.: 100%|█| 18/18 [00:02<00:00,  8.73it/s]\n"
     ]
    },
    {
     "name": "stdout",
     "output_type": "stream",
     "text": [
      "global epoch 216 saved\n",
      "Global round: 215 | Average loss: 0.7566605475213792\n",
      "Global Round: 216\n"
     ]
    },
    {
     "name": "stderr",
     "output_type": "stream",
     "text": [
      "Train Epoch: 216/1001. Iter:   18/  18. Data: 0.062s. Batch: 0.110s. Loss: 0.7516.: 100%|█| 18/18 [00:01<00:00,  9.13it/s]\n"
     ]
    },
    {
     "name": "stdout",
     "output_type": "stream",
     "text": [
      "Global round: 216 | Average loss: 0.7533635463979509\n",
      "Global Round: 217\n"
     ]
    },
    {
     "name": "stderr",
     "output_type": "stream",
     "text": [
      "Train Epoch: 217/1001. Iter:   18/  18. Data: 0.064s. Batch: 0.114s. Loss: 0.7623.: 100%|█| 18/18 [00:02<00:00,  8.77it/s]\n"
     ]
    },
    {
     "name": "stdout",
     "output_type": "stream",
     "text": [
      "Global round: 217 | Average loss: 0.7524659468068017\n",
      "Global Round: 218\n"
     ]
    },
    {
     "name": "stderr",
     "output_type": "stream",
     "text": [
      "Train Epoch: 218/1001. Iter:   18/  18. Data: 0.064s. Batch: 0.113s. Loss: 0.7425.: 100%|█| 18/18 [00:02<00:00,  8.80it/s]\n"
     ]
    },
    {
     "name": "stdout",
     "output_type": "stream",
     "text": [
      "Global round: 218 | Average loss: 0.7525212830967374\n",
      "Global Round: 219\n"
     ]
    },
    {
     "name": "stderr",
     "output_type": "stream",
     "text": [
      "Train Epoch: 219/1001. Iter:   18/  18. Data: 0.062s. Batch: 0.113s. Loss: 0.7436.: 100%|█| 18/18 [00:02<00:00,  8.92it/s]\n"
     ]
    },
    {
     "name": "stdout",
     "output_type": "stream",
     "text": [
      "Global round: 219 | Average loss: 0.7558126184675429\n",
      "Global Round: 220\n"
     ]
    },
    {
     "name": "stderr",
     "output_type": "stream",
     "text": [
      "Train Epoch: 220/1001. Iter:   18/  18. Data: 0.068s. Batch: 0.120s. Loss: 0.7494.: 100%|█| 18/18 [00:02<00:00,  8.33it/s]\n"
     ]
    },
    {
     "name": "stdout",
     "output_type": "stream",
     "text": [
      "global epoch 221 saved\n",
      "Global round: 220 | Average loss: 0.7498226033316718\n",
      "Global Round: 221\n"
     ]
    },
    {
     "name": "stderr",
     "output_type": "stream",
     "text": [
      "Train Epoch: 221/1001. Iter:   18/  18. Data: 0.061s. Batch: 0.111s. Loss: 0.7391.: 100%|█| 18/18 [00:01<00:00,  9.06it/s]\n"
     ]
    },
    {
     "name": "stdout",
     "output_type": "stream",
     "text": [
      "Global round: 221 | Average loss: 0.7518038319216834\n",
      "Global Round: 222\n"
     ]
    },
    {
     "name": "stderr",
     "output_type": "stream",
     "text": [
      "Train Epoch: 222/1001. Iter:   18/  18. Data: 0.057s. Batch: 0.107s. Loss: 0.7537.: 100%|█| 18/18 [00:01<00:00,  9.33it/s]\n"
     ]
    },
    {
     "name": "stdout",
     "output_type": "stream",
     "text": [
      "Global round: 222 | Average loss: 0.7500715057055155\n",
      "Global Round: 223\n"
     ]
    },
    {
     "name": "stderr",
     "output_type": "stream",
     "text": [
      "Train Epoch: 223/1001. Iter:   18/  18. Data: 0.060s. Batch: 0.112s. Loss: 0.7892.: 100%|█| 18/18 [00:02<00:00,  8.91it/s]\n"
     ]
    },
    {
     "name": "stdout",
     "output_type": "stream",
     "text": [
      "Global round: 223 | Average loss: 0.7473269899686178\n",
      "Global Round: 224\n"
     ]
    },
    {
     "name": "stderr",
     "output_type": "stream",
     "text": [
      "Train Epoch: 224/1001. Iter:   18/  18. Data: 0.062s. Batch: 0.112s. Loss: 0.7598.: 100%|█| 18/18 [00:02<00:00,  8.97it/s]\n"
     ]
    },
    {
     "name": "stdout",
     "output_type": "stream",
     "text": [
      "Global round: 224 | Average loss: 0.7498035464021895\n",
      "Global Round: 225\n"
     ]
    },
    {
     "name": "stderr",
     "output_type": "stream",
     "text": [
      "Train Epoch: 225/1001. Iter:   18/  18. Data: 0.062s. Batch: 0.116s. Loss: 0.7561.: 100%|█| 18/18 [00:02<00:00,  8.64it/s]\n"
     ]
    },
    {
     "name": "stdout",
     "output_type": "stream",
     "text": [
      "global epoch 226 saved\n",
      "Global round: 225 | Average loss: 0.7481632596916623\n",
      "Global Round: 226\n"
     ]
    },
    {
     "name": "stderr",
     "output_type": "stream",
     "text": [
      "Train Epoch: 226/1001. Iter:   18/  18. Data: 0.066s. Batch: 0.117s. Loss: 0.7547.: 100%|█| 18/18 [00:02<00:00,  8.61it/s]\n"
     ]
    },
    {
     "name": "stdout",
     "output_type": "stream",
     "text": [
      "Global round: 226 | Average loss: 0.7461435463693407\n",
      "Global Round: 227\n"
     ]
    },
    {
     "name": "stderr",
     "output_type": "stream",
     "text": [
      "Train Epoch: 227/1001. Iter:   18/  18. Data: 0.060s. Batch: 0.111s. Loss: 0.7491.: 100%|█| 18/18 [00:02<00:00,  8.99it/s]\n"
     ]
    },
    {
     "name": "stdout",
     "output_type": "stream",
     "text": [
      "Global round: 227 | Average loss: 0.7455430825551351\n",
      "Global Round: 228\n"
     ]
    },
    {
     "name": "stderr",
     "output_type": "stream",
     "text": [
      "Train Epoch: 228/1001. Iter:   18/  18. Data: 0.063s. Batch: 0.112s. Loss: 0.7496.: 100%|█| 18/18 [00:02<00:00,  8.98it/s]\n"
     ]
    },
    {
     "name": "stdout",
     "output_type": "stream",
     "text": [
      "Global round: 228 | Average loss: 0.7482953568299612\n",
      "Global Round: 229\n"
     ]
    },
    {
     "name": "stderr",
     "output_type": "stream",
     "text": [
      "Train Epoch: 229/1001. Iter:   18/  18. Data: 0.064s. Batch: 0.112s. Loss: 0.7605.: 100%|█| 18/18 [00:02<00:00,  8.93it/s]\n"
     ]
    },
    {
     "name": "stdout",
     "output_type": "stream",
     "text": [
      "Global round: 229 | Average loss: 0.745001839266883\n",
      "Global Round: 230\n"
     ]
    },
    {
     "name": "stderr",
     "output_type": "stream",
     "text": [
      "Train Epoch: 230/1001. Iter:   18/  18. Data: 0.062s. Batch: 0.112s. Loss: 0.7246.: 100%|█| 18/18 [00:02<00:00,  8.97it/s]\n"
     ]
    },
    {
     "name": "stdout",
     "output_type": "stream",
     "text": [
      "global epoch 231 saved\n",
      "Global round: 230 | Average loss: 0.7456410030523936\n",
      "Global Round: 231\n"
     ]
    },
    {
     "name": "stderr",
     "output_type": "stream",
     "text": [
      "Train Epoch: 231/1001. Iter:   18/  18. Data: 0.063s. Batch: 0.113s. Loss: 0.7608.: 100%|█| 18/18 [00:01<00:00,  9.15it/s]\n"
     ]
    },
    {
     "name": "stdout",
     "output_type": "stream",
     "text": [
      "Global round: 231 | Average loss: 0.744383735789193\n",
      "Global Round: 232\n"
     ]
    },
    {
     "name": "stderr",
     "output_type": "stream",
     "text": [
      "Train Epoch: 232/1001. Iter:   18/  18. Data: 0.059s. Batch: 0.111s. Loss: 0.7471.: 100%|█| 18/18 [00:01<00:00,  9.05it/s]\n"
     ]
    },
    {
     "name": "stdout",
     "output_type": "stream",
     "text": [
      "Global round: 232 | Average loss: 0.7500198119216495\n",
      "Global Round: 233\n"
     ]
    },
    {
     "name": "stderr",
     "output_type": "stream",
     "text": [
      "Train Epoch: 233/1001. Iter:   18/  18. Data: 0.063s. Batch: 0.114s. Loss: 0.7648.: 100%|█| 18/18 [00:02<00:00,  8.76it/s]\n"
     ]
    },
    {
     "name": "stdout",
     "output_type": "stream",
     "text": [
      "Global round: 233 | Average loss: 0.743607931666904\n",
      "Global Round: 234\n"
     ]
    },
    {
     "name": "stderr",
     "output_type": "stream",
     "text": [
      "Train Epoch: 234/1001. Iter:   18/  18. Data: 0.060s. Batch: 0.110s. Loss: 0.7439.: 100%|█| 18/18 [00:01<00:00,  9.11it/s]\n"
     ]
    },
    {
     "name": "stdout",
     "output_type": "stream",
     "text": [
      "Global round: 234 | Average loss: 0.7434923648834229\n",
      "Global Round: 235\n"
     ]
    },
    {
     "name": "stderr",
     "output_type": "stream",
     "text": [
      "Train Epoch: 235/1001. Iter:   18/  18. Data: 0.060s. Batch: 0.109s. Loss: 0.7568.: 100%|█| 18/18 [00:01<00:00,  9.16it/s]\n"
     ]
    },
    {
     "name": "stdout",
     "output_type": "stream",
     "text": [
      "global epoch 236 saved\n",
      "Global round: 235 | Average loss: 0.7435977425840166\n",
      "Global Round: 236\n"
     ]
    },
    {
     "name": "stderr",
     "output_type": "stream",
     "text": [
      "Train Epoch: 236/1001. Iter:   18/  18. Data: 0.063s. Batch: 0.116s. Loss: 0.7372.: 100%|█| 18/18 [00:02<00:00,  8.72it/s]\n"
     ]
    },
    {
     "name": "stdout",
     "output_type": "stream",
     "text": [
      "Global round: 236 | Average loss: 0.7400146822134653\n",
      "Global Round: 237\n"
     ]
    },
    {
     "name": "stderr",
     "output_type": "stream",
     "text": [
      "Train Epoch: 237/1001. Iter:   18/  18. Data: 0.059s. Batch: 0.111s. Loss: 0.7202.: 100%|█| 18/18 [00:01<00:00,  9.04it/s]\n"
     ]
    },
    {
     "name": "stdout",
     "output_type": "stream",
     "text": [
      "Global round: 237 | Average loss: 0.7431719534926944\n",
      "Global Round: 238\n"
     ]
    },
    {
     "name": "stderr",
     "output_type": "stream",
     "text": [
      "Train Epoch: 238/1001. Iter:   18/  18. Data: 0.060s. Batch: 0.113s. Loss: 0.7435.: 100%|█| 18/18 [00:02<00:00,  8.85it/s]\n"
     ]
    },
    {
     "name": "stdout",
     "output_type": "stream",
     "text": [
      "Global round: 238 | Average loss: 0.7438086701764001\n",
      "Global Round: 239\n"
     ]
    },
    {
     "name": "stderr",
     "output_type": "stream",
     "text": [
      "Train Epoch: 239/1001. Iter:   18/  18. Data: 0.059s. Batch: 0.110s. Loss: 0.7387.: 100%|█| 18/18 [00:01<00:00,  9.06it/s]\n"
     ]
    },
    {
     "name": "stdout",
     "output_type": "stream",
     "text": [
      "Global round: 239 | Average loss: 0.739750838941998\n",
      "Global Round: 240\n"
     ]
    },
    {
     "name": "stderr",
     "output_type": "stream",
     "text": [
      "Train Epoch: 240/1001. Iter:   18/  18. Data: 0.059s. Batch: 0.110s. Loss: 0.7436.: 100%|█| 18/18 [00:01<00:00,  9.10it/s]\n"
     ]
    },
    {
     "name": "stdout",
     "output_type": "stream",
     "text": [
      "global epoch 241 saved\n",
      "Global round: 240 | Average loss: 0.7378753390577104\n",
      "Global Round: 241\n"
     ]
    },
    {
     "name": "stderr",
     "output_type": "stream",
     "text": [
      "Train Epoch: 241/1001. Iter:   18/  18. Data: 0.062s. Batch: 0.113s. Loss: 0.7287.: 100%|█| 18/18 [00:02<00:00,  8.93it/s]\n"
     ]
    },
    {
     "name": "stdout",
     "output_type": "stream",
     "text": [
      "Global round: 241 | Average loss: 0.7361795604228973\n",
      "Global Round: 242\n"
     ]
    },
    {
     "name": "stderr",
     "output_type": "stream",
     "text": [
      "Train Epoch: 242/1001. Iter:   18/  18. Data: 0.060s. Batch: 0.109s. Loss: 0.7246.: 100%|█| 18/18 [00:01<00:00,  9.20it/s]\n"
     ]
    },
    {
     "name": "stdout",
     "output_type": "stream",
     "text": [
      "Global round: 242 | Average loss: 0.7384272780683305\n",
      "Global Round: 243\n"
     ]
    },
    {
     "name": "stderr",
     "output_type": "stream",
     "text": [
      "Train Epoch: 243/1001. Iter:   18/  18. Data: 0.061s. Batch: 0.112s. Loss: 0.7618.: 100%|█| 18/18 [00:02<00:00,  8.94it/s]\n"
     ]
    },
    {
     "name": "stdout",
     "output_type": "stream",
     "text": [
      "Global round: 243 | Average loss: 0.7383420334921943\n",
      "Global Round: 244\n"
     ]
    },
    {
     "name": "stderr",
     "output_type": "stream",
     "text": [
      "Train Epoch: 244/1001. Iter:   18/  18. Data: 0.063s. Batch: 0.113s. Loss: 0.7434.: 100%|█| 18/18 [00:02<00:00,  8.88it/s]\n"
     ]
    },
    {
     "name": "stdout",
     "output_type": "stream",
     "text": [
      "Global round: 244 | Average loss: 0.7371981508202023\n",
      "Global Round: 245\n"
     ]
    },
    {
     "name": "stderr",
     "output_type": "stream",
     "text": [
      "Train Epoch: 245/1001. Iter:   18/  18. Data: 0.060s. Batch: 0.110s. Loss: 0.7266.: 100%|█| 18/18 [00:01<00:00,  9.09it/s]\n"
     ]
    },
    {
     "name": "stdout",
     "output_type": "stream",
     "text": [
      "global epoch 246 saved\n",
      "Global round: 245 | Average loss: 0.7372958527670966\n",
      "Global Round: 246\n"
     ]
    },
    {
     "name": "stderr",
     "output_type": "stream",
     "text": [
      "Train Epoch: 246/1001. Iter:   18/  18. Data: 0.065s. Batch: 0.116s. Loss: 0.7120.: 100%|█| 18/18 [00:02<00:00,  8.72it/s]\n"
     ]
    },
    {
     "name": "stdout",
     "output_type": "stream",
     "text": [
      "Global round: 246 | Average loss: 0.7365127636326684\n",
      "Global Round: 247\n"
     ]
    },
    {
     "name": "stderr",
     "output_type": "stream",
     "text": [
      "Train Epoch: 247/1001. Iter:   18/  18. Data: 0.060s. Batch: 0.113s. Loss: 0.7440.: 100%|█| 18/18 [00:02<00:00,  8.85it/s]\n"
     ]
    },
    {
     "name": "stdout",
     "output_type": "stream",
     "text": [
      "Global round: 247 | Average loss: 0.7402430607212914\n",
      "Global Round: 248\n"
     ]
    },
    {
     "name": "stderr",
     "output_type": "stream",
     "text": [
      "Train Epoch: 248/1001. Iter:   18/  18. Data: 0.059s. Batch: 0.110s. Loss: 0.7323.: 100%|█| 18/18 [00:01<00:00,  9.11it/s]\n"
     ]
    },
    {
     "name": "stdout",
     "output_type": "stream",
     "text": [
      "Global round: 248 | Average loss: 0.735472751988305\n",
      "Global Round: 249\n"
     ]
    },
    {
     "name": "stderr",
     "output_type": "stream",
     "text": [
      "Train Epoch: 249/1001. Iter:   18/  18. Data: 0.059s. Batch: 0.113s. Loss: 0.7474.: 100%|█| 18/18 [00:02<00:00,  8.88it/s]\n"
     ]
    },
    {
     "name": "stdout",
     "output_type": "stream",
     "text": [
      "Global round: 249 | Average loss: 0.7305186688899994\n",
      "Global Round: 250\n"
     ]
    },
    {
     "name": "stderr",
     "output_type": "stream",
     "text": [
      "Train Epoch: 250/1001. Iter:   18/  18. Data: 0.058s. Batch: 0.110s. Loss: 0.7477.: 100%|█| 18/18 [00:01<00:00,  9.11it/s]\n"
     ]
    },
    {
     "name": "stdout",
     "output_type": "stream",
     "text": [
      "global epoch 251 saved\n",
      "Global round: 250 | Average loss: 0.7301373051272498\n",
      "Global Round: 251\n"
     ]
    },
    {
     "name": "stderr",
     "output_type": "stream",
     "text": [
      "Train Epoch: 251/1001. Iter:   18/  18. Data: 0.064s. Batch: 0.114s. Loss: 0.7372.: 100%|█| 18/18 [00:02<00:00,  8.88it/s]\n"
     ]
    },
    {
     "name": "stdout",
     "output_type": "stream",
     "text": [
      "Global round: 251 | Average loss: 0.731744388739268\n",
      "Global Round: 252\n"
     ]
    },
    {
     "name": "stderr",
     "output_type": "stream",
     "text": [
      "Train Epoch: 252/1001. Iter:   18/  18. Data: 0.062s. Batch: 0.111s. Loss: 0.7557.: 100%|█| 18/18 [00:01<00:00,  9.05it/s]\n"
     ]
    },
    {
     "name": "stdout",
     "output_type": "stream",
     "text": [
      "Global round: 252 | Average loss: 0.7315614488389757\n",
      "Global Round: 253\n"
     ]
    },
    {
     "name": "stderr",
     "output_type": "stream",
     "text": [
      "Train Epoch: 253/1001. Iter:   18/  18. Data: 0.061s. Batch: 0.110s. Loss: 0.7313.: 100%|█| 18/18 [00:01<00:00,  9.10it/s]\n"
     ]
    },
    {
     "name": "stdout",
     "output_type": "stream",
     "text": [
      "Global round: 253 | Average loss: 0.7361820505725013\n",
      "Global Round: 254\n"
     ]
    },
    {
     "name": "stderr",
     "output_type": "stream",
     "text": [
      "Train Epoch: 254/1001. Iter:   18/  18. Data: 0.063s. Batch: 0.112s. Loss: 0.7571.: 100%|█| 18/18 [00:02<00:00,  8.97it/s]\n"
     ]
    },
    {
     "name": "stdout",
     "output_type": "stream",
     "text": [
      "Global round: 254 | Average loss: 0.7343332171440125\n",
      "Global Round: 255\n"
     ]
    },
    {
     "name": "stderr",
     "output_type": "stream",
     "text": [
      "Train Epoch: 255/1001. Iter:   18/  18. Data: 0.061s. Batch: 0.110s. Loss: 0.7391.: 100%|█| 18/18 [00:01<00:00,  9.10it/s]\n"
     ]
    },
    {
     "name": "stdout",
     "output_type": "stream",
     "text": [
      "global epoch 256 saved\n",
      "Global round: 255 | Average loss: 0.7332221931881375\n",
      "Global Round: 256\n"
     ]
    },
    {
     "name": "stderr",
     "output_type": "stream",
     "text": [
      "Train Epoch: 256/1001. Iter:   18/  18. Data: 0.059s. Batch: 0.112s. Loss: 0.7287.: 100%|█| 18/18 [00:02<00:00,  8.97it/s]\n"
     ]
    },
    {
     "name": "stdout",
     "output_type": "stream",
     "text": [
      "Global round: 256 | Average loss: 0.7315600613753\n",
      "Global Round: 257\n"
     ]
    },
    {
     "name": "stderr",
     "output_type": "stream",
     "text": [
      "Train Epoch: 257/1001. Iter:   18/  18. Data: 0.065s. Batch: 0.118s. Loss: 0.7277.: 100%|█| 18/18 [00:02<00:00,  8.48it/s]\n"
     ]
    },
    {
     "name": "stdout",
     "output_type": "stream",
     "text": [
      "Global round: 257 | Average loss: 0.7257922556665208\n",
      "Global Round: 258\n"
     ]
    },
    {
     "name": "stderr",
     "output_type": "stream",
     "text": [
      "Train Epoch: 258/1001. Iter:   18/  18. Data: 0.062s. Batch: 0.113s. Loss: 0.7741.: 100%|█| 18/18 [00:02<00:00,  8.86it/s]\n"
     ]
    },
    {
     "name": "stdout",
     "output_type": "stream",
     "text": [
      "Global round: 258 | Average loss: 0.7270264559321933\n",
      "Global Round: 259\n"
     ]
    },
    {
     "name": "stderr",
     "output_type": "stream",
     "text": [
      "Train Epoch: 259/1001. Iter:   18/  18. Data: 0.062s. Batch: 0.113s. Loss: 0.7184.: 100%|█| 18/18 [00:02<00:00,  8.84it/s]\n"
     ]
    },
    {
     "name": "stdout",
     "output_type": "stream",
     "text": [
      "Global round: 259 | Average loss: 0.7273889250225491\n",
      "Global Round: 260\n"
     ]
    },
    {
     "name": "stderr",
     "output_type": "stream",
     "text": [
      "Train Epoch: 260/1001. Iter:   18/  18. Data: 0.060s. Batch: 0.112s. Loss: 0.7283.: 100%|█| 18/18 [00:02<00:00,  8.91it/s]\n"
     ]
    },
    {
     "name": "stdout",
     "output_type": "stream",
     "text": [
      "global epoch 261 saved\n",
      "Global round: 260 | Average loss: 0.7272815936141543\n",
      "Global Round: 261\n"
     ]
    },
    {
     "name": "stderr",
     "output_type": "stream",
     "text": [
      "Train Epoch: 261/1001. Iter:   18/  18. Data: 0.061s. Batch: 0.111s. Loss: 0.7314.: 100%|█| 18/18 [00:01<00:00,  9.07it/s]\n"
     ]
    },
    {
     "name": "stdout",
     "output_type": "stream",
     "text": [
      "Global round: 261 | Average loss: 0.7247419787777795\n",
      "Global Round: 262\n"
     ]
    },
    {
     "name": "stderr",
     "output_type": "stream",
     "text": [
      "Train Epoch: 262/1001. Iter:   18/  18. Data: 0.060s. Batch: 0.115s. Loss: 0.7364.: 100%|█| 18/18 [00:02<00:00,  8.74it/s]\n"
     ]
    },
    {
     "name": "stdout",
     "output_type": "stream",
     "text": [
      "Global round: 262 | Average loss: 0.7283163434929318\n",
      "Global Round: 263\n"
     ]
    },
    {
     "name": "stderr",
     "output_type": "stream",
     "text": [
      "Train Epoch: 263/1001. Iter:   18/  18. Data: 0.059s. Batch: 0.112s. Loss: 0.7251.: 100%|█| 18/18 [00:02<00:00,  8.93it/s]\n"
     ]
    },
    {
     "name": "stdout",
     "output_type": "stream",
     "text": [
      "Global round: 263 | Average loss: 0.7271642320685916\n",
      "Global Round: 264\n"
     ]
    },
    {
     "name": "stderr",
     "output_type": "stream",
     "text": [
      "Train Epoch: 264/1001. Iter:   18/  18. Data: 0.058s. Batch: 0.111s. Loss: 0.7118.: 100%|█| 18/18 [00:01<00:00,  9.03it/s]\n"
     ]
    },
    {
     "name": "stdout",
     "output_type": "stream",
     "text": [
      "Global round: 264 | Average loss: 0.7264365090264214\n",
      "Global Round: 265\n"
     ]
    },
    {
     "name": "stderr",
     "output_type": "stream",
     "text": [
      "Train Epoch: 265/1001. Iter:   18/  18. Data: 0.060s. Batch: 0.113s. Loss: 0.7312.: 100%|█| 18/18 [00:02<00:00,  8.84it/s]\n"
     ]
    },
    {
     "name": "stdout",
     "output_type": "stream",
     "text": [
      "global epoch 266 saved\n",
      "Global round: 265 | Average loss: 0.725371605820126\n",
      "Global Round: 266\n"
     ]
    },
    {
     "name": "stderr",
     "output_type": "stream",
     "text": [
      "Train Epoch: 266/1001. Iter:   18/  18. Data: 0.060s. Batch: 0.110s. Loss: 0.7296.: 100%|█| 18/18 [00:01<00:00,  9.14it/s]\n"
     ]
    },
    {
     "name": "stdout",
     "output_type": "stream",
     "text": [
      "Global round: 266 | Average loss: 0.7202611300680373\n",
      "Global Round: 267\n"
     ]
    },
    {
     "name": "stderr",
     "output_type": "stream",
     "text": [
      "Train Epoch: 267/1001. Iter:   18/  18. Data: 0.059s. Batch: 0.109s. Loss: 0.7202.: 100%|█| 18/18 [00:01<00:00,  9.21it/s]\n"
     ]
    },
    {
     "name": "stdout",
     "output_type": "stream",
     "text": [
      "Global round: 267 | Average loss: 0.7155747148725722\n",
      "Global Round: 268\n"
     ]
    },
    {
     "name": "stderr",
     "output_type": "stream",
     "text": [
      "Train Epoch: 268/1001. Iter:   18/  18. Data: 0.062s. Batch: 0.113s. Loss: 0.7535.: 100%|█| 18/18 [00:02<00:00,  8.86it/s]\n"
     ]
    },
    {
     "name": "stdout",
     "output_type": "stream",
     "text": [
      "Global round: 268 | Average loss: 0.7180754045645396\n",
      "Global Round: 269\n"
     ]
    },
    {
     "name": "stderr",
     "output_type": "stream",
     "text": [
      "Train Epoch: 269/1001. Iter:   18/  18. Data: 0.059s. Batch: 0.108s. Loss: 0.7361.: 100%|█| 18/18 [00:01<00:00,  9.29it/s]\n"
     ]
    },
    {
     "name": "stdout",
     "output_type": "stream",
     "text": [
      "Global round: 269 | Average loss: 0.7200109495057\n",
      "Global Round: 270\n"
     ]
    },
    {
     "name": "stderr",
     "output_type": "stream",
     "text": [
      "Train Epoch: 270/1001. Iter:   18/  18. Data: 0.063s. Batch: 0.114s. Loss: 0.7087.: 100%|█| 18/18 [00:02<00:00,  8.80it/s]\n"
     ]
    },
    {
     "name": "stdout",
     "output_type": "stream",
     "text": [
      "global epoch 271 saved\n",
      "Global round: 270 | Average loss: 0.7196109824710422\n",
      "Global Round: 271\n"
     ]
    },
    {
     "name": "stderr",
     "output_type": "stream",
     "text": [
      "Train Epoch: 271/1001. Iter:   18/  18. Data: 0.061s. Batch: 0.110s. Loss: 0.7418.: 100%|█| 18/18 [00:01<00:00,  9.06it/s]\n"
     ]
    },
    {
     "name": "stdout",
     "output_type": "stream",
     "text": [
      "Global round: 271 | Average loss: 0.7188724246289995\n",
      "Global Round: 272\n"
     ]
    },
    {
     "name": "stderr",
     "output_type": "stream",
     "text": [
      "Train Epoch: 272/1001. Iter:   18/  18. Data: 0.059s. Batch: 0.109s. Loss: 0.7378.: 100%|█| 18/18 [00:01<00:00,  9.19it/s]\n"
     ]
    },
    {
     "name": "stdout",
     "output_type": "stream",
     "text": [
      "Global round: 272 | Average loss: 0.7150500549210442\n",
      "Global Round: 273\n"
     ]
    },
    {
     "name": "stderr",
     "output_type": "stream",
     "text": [
      "Train Epoch: 273/1001. Iter:   18/  18. Data: 0.062s. Batch: 0.115s. Loss: 0.7222.: 100%|█| 18/18 [00:02<00:00,  8.73it/s]\n"
     ]
    },
    {
     "name": "stdout",
     "output_type": "stream",
     "text": [
      "Global round: 273 | Average loss: 0.7205948664082421\n",
      "Global Round: 274\n"
     ]
    },
    {
     "name": "stderr",
     "output_type": "stream",
     "text": [
      "Train Epoch: 274/1001. Iter:   18/  18. Data: 0.059s. Batch: 0.111s. Loss: 0.7227.: 100%|█| 18/18 [00:02<00:00,  8.97it/s]\n"
     ]
    },
    {
     "name": "stdout",
     "output_type": "stream",
     "text": [
      "Global round: 274 | Average loss: 0.7184490296575758\n",
      "Global Round: 275\n"
     ]
    },
    {
     "name": "stderr",
     "output_type": "stream",
     "text": [
      "Train Epoch: 275/1001. Iter:   18/  18. Data: 0.065s. Batch: 0.119s. Loss: 0.7330.: 100%|█| 18/18 [00:02<00:00,  8.45it/s]\n"
     ]
    },
    {
     "name": "stdout",
     "output_type": "stream",
     "text": [
      "global epoch 276 saved\n",
      "Global round: 275 | Average loss: 0.719306704070833\n",
      "Global Round: 276\n"
     ]
    },
    {
     "name": "stderr",
     "output_type": "stream",
     "text": [
      "Train Epoch: 276/1001. Iter:   18/  18. Data: 0.063s. Batch: 0.111s. Loss: 0.7208.: 100%|█| 18/18 [00:01<00:00,  9.06it/s]\n"
     ]
    },
    {
     "name": "stdout",
     "output_type": "stream",
     "text": [
      "Global round: 276 | Average loss: 0.7137443820635477\n",
      "Global Round: 277\n"
     ]
    },
    {
     "name": "stderr",
     "output_type": "stream",
     "text": [
      "Train Epoch: 277/1001. Iter:   18/  18. Data: 0.062s. Batch: 0.112s. Loss: 0.7265.: 100%|█| 18/18 [00:02<00:00,  8.94it/s]\n"
     ]
    },
    {
     "name": "stdout",
     "output_type": "stream",
     "text": [
      "Global round: 277 | Average loss: 0.7133280436197916\n",
      "Global Round: 278\n"
     ]
    },
    {
     "name": "stderr",
     "output_type": "stream",
     "text": [
      "Train Epoch: 278/1001. Iter:   18/  18. Data: 0.067s. Batch: 0.117s. Loss: 0.7017.: 100%|█| 18/18 [00:02<00:00,  8.55it/s]\n"
     ]
    },
    {
     "name": "stdout",
     "output_type": "stream",
     "text": [
      "Global round: 278 | Average loss: 0.7154867649078369\n",
      "Global Round: 279\n"
     ]
    },
    {
     "name": "stderr",
     "output_type": "stream",
     "text": [
      "Train Epoch: 279/1001. Iter:   18/  18. Data: 0.063s. Batch: 0.112s. Loss: 0.7177.: 100%|█| 18/18 [00:02<00:00,  8.97it/s]\n"
     ]
    },
    {
     "name": "stdout",
     "output_type": "stream",
     "text": [
      "Global round: 279 | Average loss: 0.7148243023289574\n",
      "Global Round: 280\n"
     ]
    },
    {
     "name": "stderr",
     "output_type": "stream",
     "text": [
      "Train Epoch: 280/1001. Iter:   18/  18. Data: 0.060s. Batch: 0.108s. Loss: 0.7327.: 100%|█| 18/18 [00:01<00:00,  9.21it/s]\n"
     ]
    },
    {
     "name": "stdout",
     "output_type": "stream",
     "text": [
      "global epoch 281 saved\n",
      "Global round: 280 | Average loss: 0.712693452835083\n",
      "Global Round: 281\n"
     ]
    },
    {
     "name": "stderr",
     "output_type": "stream",
     "text": [
      "Train Epoch: 281/1001. Iter:   18/  18. Data: 0.065s. Batch: 0.119s. Loss: 0.7126.: 100%|█| 18/18 [00:02<00:00,  8.48it/s]\n"
     ]
    },
    {
     "name": "stdout",
     "output_type": "stream",
     "text": [
      "Global round: 281 | Average loss: 0.7119530174467299\n",
      "Global Round: 282\n"
     ]
    },
    {
     "name": "stderr",
     "output_type": "stream",
     "text": [
      "Train Epoch: 282/1001. Iter:   18/  18. Data: 0.060s. Batch: 0.111s. Loss: 0.6903.: 100%|█| 18/18 [00:02<00:00,  8.98it/s]\n"
     ]
    },
    {
     "name": "stdout",
     "output_type": "stream",
     "text": [
      "Global round: 282 | Average loss: 0.7074680162800683\n",
      "Global Round: 283\n"
     ]
    },
    {
     "name": "stderr",
     "output_type": "stream",
     "text": [
      "Train Epoch: 283/1001. Iter:   18/  18. Data: 0.064s. Batch: 0.116s. Loss: 0.7197.: 100%|█| 18/18 [00:02<00:00,  8.68it/s]\n"
     ]
    },
    {
     "name": "stdout",
     "output_type": "stream",
     "text": [
      "Global round: 283 | Average loss: 0.7074338065253364\n",
      "Global Round: 284\n"
     ]
    },
    {
     "name": "stderr",
     "output_type": "stream",
     "text": [
      "Train Epoch: 284/1001. Iter:   18/  18. Data: 0.060s. Batch: 0.111s. Loss: 0.6849.: 100%|█| 18/18 [00:01<00:00,  9.03it/s]\n"
     ]
    },
    {
     "name": "stdout",
     "output_type": "stream",
     "text": [
      "Global round: 284 | Average loss: 0.7101127803325653\n",
      "Global Round: 285\n"
     ]
    },
    {
     "name": "stderr",
     "output_type": "stream",
     "text": [
      "Train Epoch: 285/1001. Iter:   18/  18. Data: 0.063s. Batch: 0.114s. Loss: 0.6922.: 100%|█| 18/18 [00:02<00:00,  8.75it/s]\n"
     ]
    },
    {
     "name": "stdout",
     "output_type": "stream",
     "text": [
      "global epoch 286 saved\n",
      "Global round: 285 | Average loss: 0.7095798816945817\n",
      "Global Round: 286\n"
     ]
    },
    {
     "name": "stderr",
     "output_type": "stream",
     "text": [
      "Train Epoch: 286/1001. Iter:   18/  18. Data: 0.065s. Batch: 0.118s. Loss: 0.7041.: 100%|█| 18/18 [00:02<00:00,  8.58it/s]\n"
     ]
    },
    {
     "name": "stdout",
     "output_type": "stream",
     "text": [
      "Global round: 286 | Average loss: 0.7080286145210266\n",
      "Global Round: 287\n"
     ]
    },
    {
     "name": "stderr",
     "output_type": "stream",
     "text": [
      "Train Epoch: 287/1001. Iter:   18/  18. Data: 0.059s. Batch: 0.109s. Loss: 0.7152.: 100%|█| 18/18 [00:01<00:00,  9.15it/s]\n"
     ]
    },
    {
     "name": "stdout",
     "output_type": "stream",
     "text": [
      "Global round: 287 | Average loss: 0.7073013186454773\n",
      "Global Round: 288\n"
     ]
    },
    {
     "name": "stderr",
     "output_type": "stream",
     "text": [
      "Train Epoch: 288/1001. Iter:   18/  18. Data: 0.059s. Batch: 0.111s. Loss: 0.6871.: 100%|█| 18/18 [00:01<00:00,  9.02it/s]\n"
     ]
    },
    {
     "name": "stdout",
     "output_type": "stream",
     "text": [
      "Global round: 288 | Average loss: 0.7036407689253489\n",
      "Global Round: 289\n"
     ]
    },
    {
     "name": "stderr",
     "output_type": "stream",
     "text": [
      "Train Epoch: 289/1001. Iter:   18/  18. Data: 0.061s. Batch: 0.117s. Loss: 0.7175.: 100%|█| 18/18 [00:02<00:00,  8.58it/s]\n"
     ]
    },
    {
     "name": "stdout",
     "output_type": "stream",
     "text": [
      "Global round: 289 | Average loss: 0.7053136395083534\n",
      "Global Round: 290\n"
     ]
    },
    {
     "name": "stderr",
     "output_type": "stream",
     "text": [
      "Train Epoch: 290/1001. Iter:   18/  18. Data: 0.058s. Batch: 0.108s. Loss: 0.7264.: 100%|█| 18/18 [00:01<00:00,  9.31it/s]\n"
     ]
    },
    {
     "name": "stdout",
     "output_type": "stream",
     "text": [
      "global epoch 291 saved\n",
      "Global round: 290 | Average loss: 0.7060895992649926\n",
      "Global Round: 291\n"
     ]
    },
    {
     "name": "stderr",
     "output_type": "stream",
     "text": [
      "Train Epoch: 291/1001. Iter:   18/  18. Data: 0.062s. Batch: 0.114s. Loss: 0.7278.: 100%|█| 18/18 [00:02<00:00,  8.85it/s]\n"
     ]
    },
    {
     "name": "stdout",
     "output_type": "stream",
     "text": [
      "Global round: 291 | Average loss: 0.7055204874939389\n",
      "Global Round: 292\n"
     ]
    },
    {
     "name": "stderr",
     "output_type": "stream",
     "text": [
      "Train Epoch: 292/1001. Iter:   18/  18. Data: 0.061s. Batch: 0.112s. Loss: 0.7135.: 100%|█| 18/18 [00:02<00:00,  8.98it/s]\n"
     ]
    },
    {
     "name": "stdout",
     "output_type": "stream",
     "text": [
      "Global round: 292 | Average loss: 0.7022840413782332\n",
      "Global Round: 293\n"
     ]
    },
    {
     "name": "stderr",
     "output_type": "stream",
     "text": [
      "Train Epoch: 293/1001. Iter:   18/  18. Data: 0.060s. Batch: 0.110s. Loss: 0.7367.: 100%|█| 18/18 [00:01<00:00,  9.09it/s]\n"
     ]
    },
    {
     "name": "stdout",
     "output_type": "stream",
     "text": [
      "Global round: 293 | Average loss: 0.7087231543329027\n",
      "Global Round: 294\n"
     ]
    },
    {
     "name": "stderr",
     "output_type": "stream",
     "text": [
      "Train Epoch: 294/1001. Iter:   18/  18. Data: 0.062s. Batch: 0.112s. Loss: 0.7032.: 100%|█| 18/18 [00:02<00:00,  8.96it/s]\n"
     ]
    },
    {
     "name": "stdout",
     "output_type": "stream",
     "text": [
      "Global round: 294 | Average loss: 0.7066756221983168\n",
      "Global Round: 295\n"
     ]
    },
    {
     "name": "stderr",
     "output_type": "stream",
     "text": [
      "Train Epoch: 295/1001. Iter:   18/  18. Data: 0.061s. Batch: 0.110s. Loss: 0.7095.: 100%|█| 18/18 [00:01<00:00,  9.08it/s]\n"
     ]
    },
    {
     "name": "stdout",
     "output_type": "stream",
     "text": [
      "global epoch 296 saved\n",
      "Global round: 295 | Average loss: 0.7016503810882568\n",
      "Global Round: 296\n"
     ]
    },
    {
     "name": "stderr",
     "output_type": "stream",
     "text": [
      "Train Epoch: 296/1001. Iter:   18/  18. Data: 0.064s. Batch: 0.113s. Loss: 0.6978.: 100%|█| 18/18 [00:02<00:00,  8.95it/s]\n"
     ]
    },
    {
     "name": "stdout",
     "output_type": "stream",
     "text": [
      "Global round: 296 | Average loss: 0.7019757959577773\n",
      "Global Round: 297\n"
     ]
    },
    {
     "name": "stderr",
     "output_type": "stream",
     "text": [
      "Train Epoch: 297/1001. Iter:   18/  18. Data: 0.059s. Batch: 0.111s. Loss: 0.6913.: 100%|█| 18/18 [00:01<00:00,  9.04it/s]\n"
     ]
    },
    {
     "name": "stdout",
     "output_type": "stream",
     "text": [
      "Global round: 297 | Average loss: 0.7002439929379357\n",
      "Global Round: 298\n"
     ]
    },
    {
     "name": "stderr",
     "output_type": "stream",
     "text": [
      "Train Epoch: 298/1001. Iter:   18/  18. Data: 0.062s. Batch: 0.112s. Loss: 0.6842.: 100%|█| 18/18 [00:02<00:00,  8.91it/s]\n"
     ]
    },
    {
     "name": "stdout",
     "output_type": "stream",
     "text": [
      "Global round: 298 | Average loss: 0.6999922262297736\n",
      "Global Round: 299\n"
     ]
    },
    {
     "name": "stderr",
     "output_type": "stream",
     "text": [
      "Train Epoch: 299/1001. Iter:   18/  18. Data: 0.061s. Batch: 0.116s. Loss: 0.6828.: 100%|█| 18/18 [00:02<00:00,  8.60it/s]\n"
     ]
    },
    {
     "name": "stdout",
     "output_type": "stream",
     "text": [
      "Global round: 299 | Average loss: 0.6958953009711372\n",
      "Global Round: 300\n"
     ]
    },
    {
     "name": "stderr",
     "output_type": "stream",
     "text": [
      "Train Epoch: 300/1001. Iter:   18/  18. Data: 0.059s. Batch: 0.111s. Loss: 0.6903.: 100%|█| 18/18 [00:02<00:00,  8.98it/s]\n"
     ]
    },
    {
     "name": "stdout",
     "output_type": "stream",
     "text": [
      "global epoch 301 saved\n",
      "Global round: 300 | Average loss: 0.6937313079833984\n",
      "Global Round: 301\n"
     ]
    },
    {
     "name": "stderr",
     "output_type": "stream",
     "text": [
      "Train Epoch: 301/1001. Iter:   18/  18. Data: 0.063s. Batch: 0.112s. Loss: 0.7023.: 100%|█| 18/18 [00:01<00:00,  9.02it/s]\n"
     ]
    },
    {
     "name": "stdout",
     "output_type": "stream",
     "text": [
      "Global round: 301 | Average loss: 0.7017398940192329\n",
      "Global Round: 302\n"
     ]
    },
    {
     "name": "stderr",
     "output_type": "stream",
     "text": [
      "Train Epoch: 302/1001. Iter:   18/  18. Data: 0.065s. Batch: 0.114s. Loss: 0.6931.: 100%|█| 18/18 [00:02<00:00,  8.70it/s]\n"
     ]
    },
    {
     "name": "stdout",
     "output_type": "stream",
     "text": [
      "Global round: 302 | Average loss: 0.6982294552856021\n",
      "Global Round: 303\n"
     ]
    },
    {
     "name": "stderr",
     "output_type": "stream",
     "text": [
      "Train Epoch: 303/1001. Iter:   18/  18. Data: 0.066s. Batch: 0.115s. Loss: 0.6936.: 100%|█| 18/18 [00:02<00:00,  8.78it/s]\n"
     ]
    },
    {
     "name": "stdout",
     "output_type": "stream",
     "text": [
      "Global round: 303 | Average loss: 0.6981925798787011\n",
      "Global Round: 304\n"
     ]
    },
    {
     "name": "stderr",
     "output_type": "stream",
     "text": [
      "Train Epoch: 304/1001. Iter:   18/  18. Data: 0.060s. Batch: 0.108s. Loss: 0.7008.: 100%|█| 18/18 [00:01<00:00,  9.29it/s]\n"
     ]
    },
    {
     "name": "stdout",
     "output_type": "stream",
     "text": [
      "Global round: 304 | Average loss: 0.6935570802953508\n",
      "Global Round: 305\n"
     ]
    },
    {
     "name": "stderr",
     "output_type": "stream",
     "text": [
      "Train Epoch: 305/1001. Iter:   18/  18. Data: 0.066s. Batch: 0.116s. Loss: 0.7055.: 100%|█| 18/18 [00:02<00:00,  8.65it/s]\n"
     ]
    },
    {
     "name": "stdout",
     "output_type": "stream",
     "text": [
      "global epoch 306 saved\n",
      "Global round: 305 | Average loss: 0.6975778109497495\n",
      "Global Round: 306\n"
     ]
    },
    {
     "name": "stderr",
     "output_type": "stream",
     "text": [
      "Train Epoch: 306/1001. Iter:   18/  18. Data: 0.062s. Batch: 0.111s. Loss: 0.6950.: 100%|█| 18/18 [00:01<00:00,  9.05it/s]\n"
     ]
    },
    {
     "name": "stdout",
     "output_type": "stream",
     "text": [
      "Global round: 306 | Average loss: 0.6980949739615122\n",
      "Global Round: 307\n"
     ]
    },
    {
     "name": "stderr",
     "output_type": "stream",
     "text": [
      "Train Epoch: 307/1001. Iter:   18/  18. Data: 0.061s. Batch: 0.112s. Loss: 0.7091.: 100%|█| 18/18 [00:02<00:00,  8.89it/s]\n"
     ]
    },
    {
     "name": "stdout",
     "output_type": "stream",
     "text": [
      "Global round: 307 | Average loss: 0.6941177944342295\n",
      "Global Round: 308\n"
     ]
    },
    {
     "name": "stderr",
     "output_type": "stream",
     "text": [
      "Train Epoch: 308/1001. Iter:   18/  18. Data: 0.059s. Batch: 0.108s. Loss: 0.6783.: 100%|█| 18/18 [00:01<00:00,  9.27it/s]\n"
     ]
    },
    {
     "name": "stdout",
     "output_type": "stream",
     "text": [
      "Global round: 308 | Average loss: 0.6937477787335714\n",
      "Global Round: 309\n"
     ]
    },
    {
     "name": "stderr",
     "output_type": "stream",
     "text": [
      "Train Epoch: 309/1001. Iter:   18/  18. Data: 0.062s. Batch: 0.113s. Loss: 0.6826.: 100%|█| 18/18 [00:02<00:00,  8.85it/s]\n"
     ]
    },
    {
     "name": "stdout",
     "output_type": "stream",
     "text": [
      "Global round: 309 | Average loss: 0.6989216605822245\n",
      "Global Round: 310\n"
     ]
    },
    {
     "name": "stderr",
     "output_type": "stream",
     "text": [
      "Train Epoch: 310/1001. Iter:   18/  18. Data: 0.064s. Batch: 0.117s. Loss: 0.6912.: 100%|█| 18/18 [00:02<00:00,  8.59it/s]\n"
     ]
    },
    {
     "name": "stdout",
     "output_type": "stream",
     "text": [
      "global epoch 311 saved\n",
      "Global round: 310 | Average loss: 0.6949464082717896\n",
      "Global Round: 311\n"
     ]
    },
    {
     "name": "stderr",
     "output_type": "stream",
     "text": [
      "Train Epoch: 311/1001. Iter:   18/  18. Data: 0.063s. Batch: 0.112s. Loss: 0.6793.: 100%|█| 18/18 [00:02<00:00,  8.95it/s]\n"
     ]
    },
    {
     "name": "stdout",
     "output_type": "stream",
     "text": [
      "Global round: 311 | Average loss: 0.6958184341589609\n",
      "Global Round: 312\n"
     ]
    },
    {
     "name": "stderr",
     "output_type": "stream",
     "text": [
      "Train Epoch: 312/1001. Iter:   18/  18. Data: 0.060s. Batch: 0.115s. Loss: 0.7069.: 100%|█| 18/18 [00:02<00:00,  8.74it/s]\n"
     ]
    },
    {
     "name": "stdout",
     "output_type": "stream",
     "text": [
      "Global round: 312 | Average loss: 0.6924103564686246\n",
      "Global Round: 313\n"
     ]
    },
    {
     "name": "stderr",
     "output_type": "stream",
     "text": [
      "Train Epoch: 313/1001. Iter:   18/  18. Data: 0.059s. Batch: 0.111s. Loss: 0.7234.: 100%|█| 18/18 [00:01<00:00,  9.02it/s]\n"
     ]
    },
    {
     "name": "stdout",
     "output_type": "stream",
     "text": [
      "Global round: 313 | Average loss: 0.6942117214202881\n",
      "Global Round: 314\n"
     ]
    },
    {
     "name": "stderr",
     "output_type": "stream",
     "text": [
      "Train Epoch: 314/1001. Iter:   18/  18. Data: 0.060s. Batch: 0.111s. Loss: 0.6777.: 100%|█| 18/18 [00:02<00:00,  8.97it/s]\n"
     ]
    },
    {
     "name": "stdout",
     "output_type": "stream",
     "text": [
      "Global round: 314 | Average loss: 0.6916734311315749\n",
      "Global Round: 315\n"
     ]
    },
    {
     "name": "stderr",
     "output_type": "stream",
     "text": [
      "Train Epoch: 315/1001. Iter:   18/  18. Data: 0.061s. Batch: 0.114s. Loss: 0.7058.: 100%|█| 18/18 [00:02<00:00,  8.80it/s]\n"
     ]
    },
    {
     "name": "stdout",
     "output_type": "stream",
     "text": [
      "global epoch 316 saved\n",
      "Global round: 315 | Average loss: 0.6911857095029619\n",
      "Global Round: 316\n"
     ]
    },
    {
     "name": "stderr",
     "output_type": "stream",
     "text": [
      "Train Epoch: 316/1001. Iter:   18/  18. Data: 0.063s. Batch: 0.114s. Loss: 0.6811.: 100%|█| 18/18 [00:02<00:00,  8.82it/s]\n"
     ]
    },
    {
     "name": "stdout",
     "output_type": "stream",
     "text": [
      "Global round: 316 | Average loss: 0.6883023546801673\n",
      "Global Round: 317\n"
     ]
    },
    {
     "name": "stderr",
     "output_type": "stream",
     "text": [
      "Train Epoch: 317/1001. Iter:   18/  18. Data: 0.059s. Batch: 0.110s. Loss: 0.6733.: 100%|█| 18/18 [00:01<00:00,  9.08it/s]\n"
     ]
    },
    {
     "name": "stdout",
     "output_type": "stream",
     "text": [
      "Global round: 317 | Average loss: 0.6887384023931291\n",
      "Global Round: 318\n"
     ]
    },
    {
     "name": "stderr",
     "output_type": "stream",
     "text": [
      "Train Epoch: 318/1001. Iter:   18/  18. Data: 0.063s. Batch: 0.114s. Loss: 0.6719.: 100%|█| 18/18 [00:02<00:00,  8.75it/s]\n"
     ]
    },
    {
     "name": "stdout",
     "output_type": "stream",
     "text": [
      "Global round: 318 | Average loss: 0.6878281699286567\n",
      "Global Round: 319\n"
     ]
    },
    {
     "name": "stderr",
     "output_type": "stream",
     "text": [
      "Train Epoch: 319/1001. Iter:   18/  18. Data: 0.065s. Batch: 0.117s. Loss: 0.6947.: 100%|█| 18/18 [00:02<00:00,  8.62it/s]\n"
     ]
    },
    {
     "name": "stdout",
     "output_type": "stream",
     "text": [
      "Global round: 319 | Average loss: 0.6915406982103983\n",
      "Global Round: 320\n"
     ]
    },
    {
     "name": "stderr",
     "output_type": "stream",
     "text": [
      "Train Epoch: 320/1001. Iter:   18/  18. Data: 0.062s. Batch: 0.112s. Loss: 0.7021.: 100%|█| 18/18 [00:02<00:00,  8.96it/s]\n"
     ]
    },
    {
     "name": "stdout",
     "output_type": "stream",
     "text": [
      "global epoch 321 saved\n",
      "Global round: 320 | Average loss: 0.684313545624415\n",
      "Global Round: 321\n"
     ]
    },
    {
     "name": "stderr",
     "output_type": "stream",
     "text": [
      "Train Epoch: 321/1001. Iter:   18/  18. Data: 0.066s. Batch: 0.116s. Loss: 0.6899.: 100%|█| 18/18 [00:02<00:00,  8.69it/s]\n"
     ]
    },
    {
     "name": "stdout",
     "output_type": "stream",
     "text": [
      "Global round: 321 | Average loss: 0.6884457700782352\n",
      "Global Round: 322\n"
     ]
    },
    {
     "name": "stderr",
     "output_type": "stream",
     "text": [
      "Train Epoch: 322/1001. Iter:   18/  18. Data: 0.060s. Batch: 0.110s. Loss: 0.6885.: 100%|█| 18/18 [00:01<00:00,  9.13it/s]\n"
     ]
    },
    {
     "name": "stdout",
     "output_type": "stream",
     "text": [
      "Global round: 322 | Average loss: 0.6897775795724657\n",
      "Global Round: 323\n"
     ]
    },
    {
     "name": "stderr",
     "output_type": "stream",
     "text": [
      "Train Epoch: 323/1001. Iter:   18/  18. Data: 0.064s. Batch: 0.117s. Loss: 0.6939.: 100%|█| 18/18 [00:02<00:00,  8.58it/s]\n"
     ]
    },
    {
     "name": "stdout",
     "output_type": "stream",
     "text": [
      "Global round: 323 | Average loss: 0.6896163953675164\n",
      "Global Round: 324\n"
     ]
    },
    {
     "name": "stderr",
     "output_type": "stream",
     "text": [
      "Train Epoch: 324/1001. Iter:   18/  18. Data: 0.058s. Batch: 0.107s. Loss: 0.6939.: 100%|█| 18/18 [00:01<00:00,  9.32it/s]\n"
     ]
    },
    {
     "name": "stdout",
     "output_type": "stream",
     "text": [
      "Global round: 324 | Average loss: 0.6892025669415792\n",
      "Global Round: 325\n"
     ]
    },
    {
     "name": "stderr",
     "output_type": "stream",
     "text": [
      "Train Epoch: 325/1001. Iter:   18/  18. Data: 0.060s. Batch: 0.112s. Loss: 0.7110.: 100%|█| 18/18 [00:02<00:00,  8.97it/s]\n"
     ]
    },
    {
     "name": "stdout",
     "output_type": "stream",
     "text": [
      "global epoch 326 saved\n",
      "Global round: 325 | Average loss: 0.6850722233454386\n",
      "Global Round: 326\n"
     ]
    },
    {
     "name": "stderr",
     "output_type": "stream",
     "text": [
      "Train Epoch: 326/1001. Iter:   18/  18. Data: 0.064s. Batch: 0.114s. Loss: 0.6696.: 100%|█| 18/18 [00:02<00:00,  8.84it/s]\n"
     ]
    },
    {
     "name": "stdout",
     "output_type": "stream",
     "text": [
      "Global round: 326 | Average loss: 0.6839188635349274\n",
      "Global Round: 327\n"
     ]
    },
    {
     "name": "stderr",
     "output_type": "stream",
     "text": [
      "Train Epoch: 327/1001. Iter:   18/  18. Data: 0.061s. Batch: 0.110s. Loss: 0.6673.: 100%|█| 18/18 [00:01<00:00,  9.06it/s]\n"
     ]
    },
    {
     "name": "stdout",
     "output_type": "stream",
     "text": [
      "Global round: 327 | Average loss: 0.6855115493138632\n",
      "Global Round: 328\n"
     ]
    },
    {
     "name": "stderr",
     "output_type": "stream",
     "text": [
      "Train Epoch: 328/1001. Iter:   18/  18. Data: 0.067s. Batch: 0.117s. Loss: 0.6911.: 100%|█| 18/18 [00:02<00:00,  8.53it/s]\n"
     ]
    },
    {
     "name": "stdout",
     "output_type": "stream",
     "text": [
      "Global round: 328 | Average loss: 0.6804715560542213\n",
      "Global Round: 329\n"
     ]
    },
    {
     "name": "stderr",
     "output_type": "stream",
     "text": [
      "Train Epoch: 329/1001. Iter:   18/  18. Data: 0.061s. Batch: 0.109s. Loss: 0.6785.: 100%|█| 18/18 [00:01<00:00,  9.24it/s]\n"
     ]
    },
    {
     "name": "stdout",
     "output_type": "stream",
     "text": [
      "Global round: 329 | Average loss: 0.6790381272633871\n",
      "Global Round: 330\n"
     ]
    },
    {
     "name": "stderr",
     "output_type": "stream",
     "text": [
      "Train Epoch: 330/1001. Iter:   18/  18. Data: 0.061s. Batch: 0.109s. Loss: 0.7026.: 100%|█| 18/18 [00:01<00:00,  9.18it/s]\n"
     ]
    },
    {
     "name": "stdout",
     "output_type": "stream",
     "text": [
      "global epoch 331 saved\n",
      "Global round: 330 | Average loss: 0.6830943061245812\n",
      "Global Round: 331\n"
     ]
    },
    {
     "name": "stderr",
     "output_type": "stream",
     "text": [
      "Train Epoch: 331/1001. Iter:   18/  18. Data: 0.064s. Batch: 0.117s. Loss: 0.6601.: 100%|█| 18/18 [00:02<00:00,  8.56it/s]\n"
     ]
    },
    {
     "name": "stdout",
     "output_type": "stream",
     "text": [
      "Global round: 331 | Average loss: 0.6832128266493479\n",
      "Global Round: 332\n"
     ]
    },
    {
     "name": "stderr",
     "output_type": "stream",
     "text": [
      "Train Epoch: 332/1001. Iter:   18/  18. Data: 0.059s. Batch: 0.108s. Loss: 0.6678.: 100%|█| 18/18 [00:01<00:00,  9.27it/s]\n"
     ]
    },
    {
     "name": "stdout",
     "output_type": "stream",
     "text": [
      "Global round: 332 | Average loss: 0.67994710471895\n",
      "Global Round: 333\n"
     ]
    },
    {
     "name": "stderr",
     "output_type": "stream",
     "text": [
      "Train Epoch: 333/1001. Iter:   18/  18. Data: 0.060s. Batch: 0.110s. Loss: 0.6782.: 100%|█| 18/18 [00:01<00:00,  9.12it/s]\n"
     ]
    },
    {
     "name": "stdout",
     "output_type": "stream",
     "text": [
      "Global round: 333 | Average loss: 0.6836823456817203\n",
      "Global Round: 334\n"
     ]
    },
    {
     "name": "stderr",
     "output_type": "stream",
     "text": [
      "Train Epoch: 334/1001. Iter:   18/  18. Data: 0.065s. Batch: 0.117s. Loss: 0.6523.: 100%|█| 18/18 [00:02<00:00,  8.57it/s]\n"
     ]
    },
    {
     "name": "stdout",
     "output_type": "stream",
     "text": [
      "Global round: 334 | Average loss: 0.6832644840081533\n",
      "Global Round: 335\n"
     ]
    },
    {
     "name": "stderr",
     "output_type": "stream",
     "text": [
      "Train Epoch: 335/1001. Iter:   18/  18. Data: 0.059s. Batch: 0.109s. Loss: 0.6802.: 100%|█| 18/18 [00:01<00:00,  9.16it/s]\n"
     ]
    },
    {
     "name": "stdout",
     "output_type": "stream",
     "text": [
      "global epoch 336 saved\n",
      "Global round: 335 | Average loss: 0.6776654952102237\n",
      "Global Round: 336\n"
     ]
    },
    {
     "name": "stderr",
     "output_type": "stream",
     "text": [
      "Train Epoch: 336/1001. Iter:   18/  18. Data: 0.061s. Batch: 0.115s. Loss: 0.6878.: 100%|█| 18/18 [00:02<00:00,  8.69it/s]\n"
     ]
    },
    {
     "name": "stdout",
     "output_type": "stream",
     "text": [
      "Global round: 336 | Average loss: 0.6767076419459449\n",
      "Global Round: 337\n"
     ]
    },
    {
     "name": "stderr",
     "output_type": "stream",
     "text": [
      "Train Epoch: 337/1001. Iter:   18/  18. Data: 0.060s. Batch: 0.113s. Loss: 0.6628.: 100%|█| 18/18 [00:02<00:00,  8.84it/s]\n"
     ]
    },
    {
     "name": "stdout",
     "output_type": "stream",
     "text": [
      "Global round: 337 | Average loss: 0.6782120565573374\n",
      "Global Round: 338\n"
     ]
    },
    {
     "name": "stderr",
     "output_type": "stream",
     "text": [
      "Train Epoch: 338/1001. Iter:   18/  18. Data: 0.060s. Batch: 0.111s. Loss: 0.6846.: 100%|█| 18/18 [00:02<00:00,  9.00it/s]\n"
     ]
    },
    {
     "name": "stdout",
     "output_type": "stream",
     "text": [
      "Global round: 338 | Average loss: 0.6755710740884145\n",
      "Global Round: 339\n"
     ]
    },
    {
     "name": "stderr",
     "output_type": "stream",
     "text": [
      "Train Epoch: 339/1001. Iter:   18/  18. Data: 0.060s. Batch: 0.115s. Loss: 0.6646.: 100%|█| 18/18 [00:02<00:00,  8.67it/s]\n"
     ]
    },
    {
     "name": "stdout",
     "output_type": "stream",
     "text": [
      "Global round: 339 | Average loss: 0.6735049287478129\n",
      "Global Round: 340\n"
     ]
    },
    {
     "name": "stderr",
     "output_type": "stream",
     "text": [
      "Train Epoch: 340/1001. Iter:   18/  18. Data: 0.059s. Batch: 0.111s. Loss: 0.6583.: 100%|█| 18/18 [00:01<00:00,  9.02it/s]\n"
     ]
    },
    {
     "name": "stdout",
     "output_type": "stream",
     "text": [
      "global epoch 341 saved\n",
      "Global round: 340 | Average loss: 0.6733779013156891\n",
      "Global Round: 341\n"
     ]
    },
    {
     "name": "stderr",
     "output_type": "stream",
     "text": [
      "Train Epoch: 341/1001. Iter:   18/  18. Data: 0.059s. Batch: 0.108s. Loss: 0.6749.: 100%|█| 18/18 [00:01<00:00,  9.26it/s]\n"
     ]
    },
    {
     "name": "stdout",
     "output_type": "stream",
     "text": [
      "Global round: 341 | Average loss: 0.6779387328359816\n",
      "Global Round: 342\n"
     ]
    },
    {
     "name": "stderr",
     "output_type": "stream",
     "text": [
      "Train Epoch: 342/1001. Iter:   18/  18. Data: 0.064s. Batch: 0.115s. Loss: 0.6939.: 100%|█| 18/18 [00:02<00:00,  8.71it/s]\n"
     ]
    },
    {
     "name": "stdout",
     "output_type": "stream",
     "text": [
      "Global round: 342 | Average loss: 0.6744986606968774\n",
      "Global Round: 343\n"
     ]
    },
    {
     "name": "stderr",
     "output_type": "stream",
     "text": [
      "Train Epoch: 343/1001. Iter:   18/  18. Data: 0.064s. Batch: 0.114s. Loss: 0.6894.: 100%|█| 18/18 [00:02<00:00,  8.80it/s]\n"
     ]
    },
    {
     "name": "stdout",
     "output_type": "stream",
     "text": [
      "Global round: 343 | Average loss: 0.6778384778234694\n",
      "Global Round: 344\n"
     ]
    },
    {
     "name": "stderr",
     "output_type": "stream",
     "text": [
      "Train Epoch: 344/1001. Iter:   18/  18. Data: 0.062s. Batch: 0.115s. Loss: 0.6863.: 100%|█| 18/18 [00:02<00:00,  8.67it/s]\n"
     ]
    },
    {
     "name": "stdout",
     "output_type": "stream",
     "text": [
      "Global round: 344 | Average loss: 0.6758020685778724\n",
      "Global Round: 345\n"
     ]
    },
    {
     "name": "stderr",
     "output_type": "stream",
     "text": [
      "Train Epoch: 345/1001. Iter:   18/  18. Data: 0.065s. Batch: 0.115s. Loss: 0.6906.: 100%|█| 18/18 [00:02<00:00,  8.76it/s]\n"
     ]
    },
    {
     "name": "stdout",
     "output_type": "stream",
     "text": [
      "global epoch 346 saved\n",
      "Global round: 345 | Average loss: 0.6768396827909682\n",
      "Global Round: 346\n"
     ]
    },
    {
     "name": "stderr",
     "output_type": "stream",
     "text": [
      "Train Epoch: 346/1001. Iter:   18/  18. Data: 0.061s. Batch: 0.109s. Loss: 0.6772.: 100%|█| 18/18 [00:01<00:00,  9.20it/s]\n"
     ]
    },
    {
     "name": "stdout",
     "output_type": "stream",
     "text": [
      "Global round: 346 | Average loss: 0.6716509593857659\n",
      "Global Round: 347\n"
     ]
    },
    {
     "name": "stderr",
     "output_type": "stream",
     "text": [
      "Train Epoch: 347/1001. Iter:   18/  18. Data: 0.061s. Batch: 0.113s. Loss: 0.6851.: 100%|█| 18/18 [00:02<00:00,  8.87it/s]\n"
     ]
    },
    {
     "name": "stdout",
     "output_type": "stream",
     "text": [
      "Global round: 347 | Average loss: 0.6762015355957879\n",
      "Global Round: 348\n"
     ]
    },
    {
     "name": "stderr",
     "output_type": "stream",
     "text": [
      "Train Epoch: 348/1001. Iter:   18/  18. Data: 0.061s. Batch: 0.111s. Loss: 0.6881.: 100%|█| 18/18 [00:02<00:00,  8.99it/s]\n"
     ]
    },
    {
     "name": "stdout",
     "output_type": "stream",
     "text": [
      "Global round: 348 | Average loss: 0.6730053921540579\n",
      "Global Round: 349\n"
     ]
    },
    {
     "name": "stderr",
     "output_type": "stream",
     "text": [
      "Train Epoch: 349/1001. Iter:   18/  18. Data: 0.060s. Batch: 0.111s. Loss: 0.6795.: 100%|█| 18/18 [00:02<00:00,  8.98it/s]\n"
     ]
    },
    {
     "name": "stdout",
     "output_type": "stream",
     "text": [
      "Global round: 349 | Average loss: 0.6749518281883664\n",
      "Global Round: 350\n"
     ]
    },
    {
     "name": "stderr",
     "output_type": "stream",
     "text": [
      "Train Epoch: 350/1001. Iter:   18/  18. Data: 0.059s. Batch: 0.110s. Loss: 0.6619.: 100%|█| 18/18 [00:01<00:00,  9.10it/s]\n"
     ]
    },
    {
     "name": "stdout",
     "output_type": "stream",
     "text": [
      "global epoch 351 saved\n",
      "Global round: 350 | Average loss: 0.6743890278869205\n",
      "Global Round: 351\n"
     ]
    },
    {
     "name": "stderr",
     "output_type": "stream",
     "text": [
      "Train Epoch: 351/1001. Iter:   18/  18. Data: 0.063s. Batch: 0.113s. Loss: 0.6599.: 100%|█| 18/18 [00:02<00:00,  8.87it/s]\n"
     ]
    },
    {
     "name": "stdout",
     "output_type": "stream",
     "text": [
      "Global round: 351 | Average loss: 0.6744667920801375\n",
      "Global Round: 352\n"
     ]
    },
    {
     "name": "stderr",
     "output_type": "stream",
     "text": [
      "Train Epoch: 352/1001. Iter:   18/  18. Data: 0.067s. Batch: 0.116s. Loss: 0.6844.: 100%|█| 18/18 [00:02<00:00,  8.59it/s]\n"
     ]
    },
    {
     "name": "stdout",
     "output_type": "stream",
     "text": [
      "Global round: 352 | Average loss: 0.6728639668888516\n",
      "Global Round: 353\n"
     ]
    },
    {
     "name": "stderr",
     "output_type": "stream",
     "text": [
      "Train Epoch: 353/1001. Iter:   18/  18. Data: 0.064s. Batch: 0.114s. Loss: 0.6780.: 100%|█| 18/18 [00:02<00:00,  8.76it/s]\n"
     ]
    },
    {
     "name": "stdout",
     "output_type": "stream",
     "text": [
      "Global round: 353 | Average loss: 0.675868895318773\n",
      "Global Round: 354\n"
     ]
    },
    {
     "name": "stderr",
     "output_type": "stream",
     "text": [
      "Train Epoch: 354/1001. Iter:   18/  18. Data: 0.063s. Batch: 0.112s. Loss: 0.6869.: 100%|█| 18/18 [00:02<00:00,  8.91it/s]\n"
     ]
    },
    {
     "name": "stdout",
     "output_type": "stream",
     "text": [
      "Global round: 354 | Average loss: 0.6732159223821428\n",
      "Global Round: 355\n"
     ]
    },
    {
     "name": "stderr",
     "output_type": "stream",
     "text": [
      "Train Epoch: 355/1001. Iter:   18/  18. Data: 0.064s. Batch: 0.113s. Loss: 0.6721.: 100%|█| 18/18 [00:02<00:00,  8.88it/s]\n"
     ]
    },
    {
     "name": "stdout",
     "output_type": "stream",
     "text": [
      "global epoch 356 saved\n",
      "Global round: 355 | Average loss: 0.6732107864485847\n",
      "Global Round: 356\n"
     ]
    },
    {
     "name": "stderr",
     "output_type": "stream",
     "text": [
      "Train Epoch: 356/1001. Iter:   18/  18. Data: 0.060s. Batch: 0.110s. Loss: 0.6292.: 100%|█| 18/18 [00:01<00:00,  9.11it/s]\n"
     ]
    },
    {
     "name": "stdout",
     "output_type": "stream",
     "text": [
      "Global round: 356 | Average loss: 0.6677970124615563\n",
      "Global Round: 357\n"
     ]
    },
    {
     "name": "stderr",
     "output_type": "stream",
     "text": [
      "Train Epoch: 357/1001. Iter:   18/  18. Data: 0.061s. Batch: 0.113s. Loss: 0.6604.: 100%|█| 18/18 [00:02<00:00,  8.83it/s]\n"
     ]
    },
    {
     "name": "stdout",
     "output_type": "stream",
     "text": [
      "Global round: 357 | Average loss: 0.6711567044258118\n",
      "Global Round: 358\n"
     ]
    },
    {
     "name": "stderr",
     "output_type": "stream",
     "text": [
      "Train Epoch: 358/1001. Iter:   18/  18. Data: 0.065s. Batch: 0.118s. Loss: 0.6824.: 100%|█| 18/18 [00:02<00:00,  8.46it/s]\n"
     ]
    },
    {
     "name": "stdout",
     "output_type": "stream",
     "text": [
      "Global round: 358 | Average loss: 0.6737067202727\n",
      "Global Round: 359\n"
     ]
    },
    {
     "name": "stderr",
     "output_type": "stream",
     "text": [
      "Train Epoch: 359/1001. Iter:   18/  18. Data: 0.062s. Batch: 0.112s. Loss: 0.6667.: 100%|█| 18/18 [00:02<00:00,  8.90it/s]\n"
     ]
    },
    {
     "name": "stdout",
     "output_type": "stream",
     "text": [
      "Global round: 359 | Average loss: 0.6695639921559228\n",
      "Global Round: 360\n"
     ]
    },
    {
     "name": "stderr",
     "output_type": "stream",
     "text": [
      "Train Epoch: 360/1001. Iter:   18/  18. Data: 0.065s. Batch: 0.117s. Loss: 0.6651.: 100%|█| 18/18 [00:02<00:00,  8.53it/s]\n"
     ]
    },
    {
     "name": "stdout",
     "output_type": "stream",
     "text": [
      "global epoch 361 saved\n",
      "Global round: 360 | Average loss: 0.6685156987773048\n",
      "Global Round: 361\n"
     ]
    },
    {
     "name": "stderr",
     "output_type": "stream",
     "text": [
      "Train Epoch: 361/1001. Iter:   18/  18. Data: 0.060s. Batch: 0.111s. Loss: 0.6738.: 100%|█| 18/18 [00:01<00:00,  9.01it/s]\n"
     ]
    },
    {
     "name": "stdout",
     "output_type": "stream",
     "text": [
      "Global round: 361 | Average loss: 0.6736156940460205\n",
      "Global Round: 362\n"
     ]
    },
    {
     "name": "stderr",
     "output_type": "stream",
     "text": [
      "Train Epoch: 362/1001. Iter:   18/  18. Data: 0.059s. Batch: 0.110s. Loss: 0.6609.: 100%|█| 18/18 [00:01<00:00,  9.08it/s]\n"
     ]
    },
    {
     "name": "stdout",
     "output_type": "stream",
     "text": [
      "Global round: 362 | Average loss: 0.6666411095195346\n",
      "Global Round: 363\n"
     ]
    },
    {
     "name": "stderr",
     "output_type": "stream",
     "text": [
      "Train Epoch: 363/1001. Iter:   18/  18. Data: 0.060s. Batch: 0.114s. Loss: 0.6542.: 100%|█| 18/18 [00:02<00:00,  8.76it/s]\n"
     ]
    },
    {
     "name": "stdout",
     "output_type": "stream",
     "text": [
      "Global round: 363 | Average loss: 0.6664183007346259\n",
      "Global Round: 364\n"
     ]
    },
    {
     "name": "stderr",
     "output_type": "stream",
     "text": [
      "Train Epoch: 364/1001. Iter:   18/  18. Data: 0.058s. Batch: 0.110s. Loss: 0.6759.: 100%|█| 18/18 [00:01<00:00,  9.13it/s]\n"
     ]
    },
    {
     "name": "stdout",
     "output_type": "stream",
     "text": [
      "Global round: 364 | Average loss: 0.6677472293376923\n",
      "Global Round: 365\n"
     ]
    },
    {
     "name": "stderr",
     "output_type": "stream",
     "text": [
      "Train Epoch: 365/1001. Iter:   18/  18. Data: 0.059s. Batch: 0.113s. Loss: 0.6674.: 100%|█| 18/18 [00:02<00:00,  8.82it/s]\n"
     ]
    },
    {
     "name": "stdout",
     "output_type": "stream",
     "text": [
      "global epoch 366 saved\n",
      "Global round: 365 | Average loss: 0.6661530998018053\n",
      "Global Round: 366\n"
     ]
    },
    {
     "name": "stderr",
     "output_type": "stream",
     "text": [
      "Train Epoch: 366/1001. Iter:   18/  18. Data: 0.059s. Batch: 0.110s. Loss: 0.6475.: 100%|█| 18/18 [00:01<00:00,  9.12it/s]\n"
     ]
    },
    {
     "name": "stdout",
     "output_type": "stream",
     "text": [
      "Global round: 366 | Average loss: 0.6627306408352323\n",
      "Global Round: 367\n"
     ]
    },
    {
     "name": "stderr",
     "output_type": "stream",
     "text": [
      "Train Epoch: 367/1001. Iter:   18/  18. Data: 0.062s. Batch: 0.112s. Loss: 0.6707.: 100%|█| 18/18 [00:02<00:00,  8.97it/s]\n"
     ]
    },
    {
     "name": "stdout",
     "output_type": "stream",
     "text": [
      "Global round: 367 | Average loss: 0.6642450425359938\n",
      "Global Round: 368\n"
     ]
    },
    {
     "name": "stderr",
     "output_type": "stream",
     "text": [
      "Train Epoch: 368/1001. Iter:   18/  18. Data: 0.062s. Batch: 0.112s. Loss: 0.6646.: 100%|█| 18/18 [00:02<00:00,  8.95it/s]\n"
     ]
    },
    {
     "name": "stdout",
     "output_type": "stream",
     "text": [
      "Global round: 368 | Average loss: 0.6622809734609392\n",
      "Global Round: 369\n"
     ]
    },
    {
     "name": "stderr",
     "output_type": "stream",
     "text": [
      "Train Epoch: 369/1001. Iter:   18/  18. Data: 0.060s. Batch: 0.110s. Loss: 0.6661.: 100%|█| 18/18 [00:01<00:00,  9.10it/s]\n"
     ]
    },
    {
     "name": "stdout",
     "output_type": "stream",
     "text": [
      "Global round: 369 | Average loss: 0.658991449409061\n",
      "Global Round: 370\n"
     ]
    },
    {
     "name": "stderr",
     "output_type": "stream",
     "text": [
      "Train Epoch: 370/1001. Iter:   18/  18. Data: 0.063s. Batch: 0.114s. Loss: 0.6627.: 100%|█| 18/18 [00:02<00:00,  8.77it/s]\n"
     ]
    },
    {
     "name": "stdout",
     "output_type": "stream",
     "text": [
      "global epoch 371 saved\n",
      "Global round: 370 | Average loss: 0.6653575268056657\n",
      "Global Round: 371\n"
     ]
    },
    {
     "name": "stderr",
     "output_type": "stream",
     "text": [
      "Train Epoch: 371/1001. Iter:   18/  18. Data: 0.066s. Batch: 0.119s. Loss: 0.6702.: 100%|█| 18/18 [00:02<00:00,  8.49it/s]\n"
     ]
    },
    {
     "name": "stdout",
     "output_type": "stream",
     "text": [
      "Global round: 371 | Average loss: 0.6632798612117767\n",
      "Global Round: 372\n"
     ]
    },
    {
     "name": "stderr",
     "output_type": "stream",
     "text": [
      "Train Epoch: 372/1001. Iter:   18/  18. Data: 0.060s. Batch: 0.111s. Loss: 0.6528.: 100%|█| 18/18 [00:01<00:00,  9.01it/s]\n"
     ]
    },
    {
     "name": "stdout",
     "output_type": "stream",
     "text": [
      "Global round: 372 | Average loss: 0.6637283563613892\n",
      "Global Round: 373\n"
     ]
    },
    {
     "name": "stderr",
     "output_type": "stream",
     "text": [
      "Train Epoch: 373/1001. Iter:   18/  18. Data: 0.062s. Batch: 0.113s. Loss: 0.6585.: 100%|█| 18/18 [00:02<00:00,  8.83it/s]\n"
     ]
    },
    {
     "name": "stdout",
     "output_type": "stream",
     "text": [
      "Global round: 373 | Average loss: 0.6608330011367798\n",
      "Global Round: 374\n"
     ]
    },
    {
     "name": "stderr",
     "output_type": "stream",
     "text": [
      "Train Epoch: 374/1001. Iter:   18/  18. Data: 0.061s. Batch: 0.111s. Loss: 0.6611.: 100%|█| 18/18 [00:01<00:00,  9.01it/s]\n"
     ]
    },
    {
     "name": "stdout",
     "output_type": "stream",
     "text": [
      "Global round: 374 | Average loss: 0.6628394193119473\n",
      "Global Round: 375\n"
     ]
    },
    {
     "name": "stderr",
     "output_type": "stream",
     "text": [
      "Train Epoch: 375/1001. Iter:   18/  18. Data: 0.059s. Batch: 0.110s. Loss: 0.6579.: 100%|█| 18/18 [00:01<00:00,  9.07it/s]\n"
     ]
    },
    {
     "name": "stdout",
     "output_type": "stream",
     "text": [
      "global epoch 376 saved\n",
      "Global round: 375 | Average loss: 0.6594628724786971\n",
      "Global Round: 376\n"
     ]
    },
    {
     "name": "stderr",
     "output_type": "stream",
     "text": [
      "Train Epoch: 376/1001. Iter:   18/  18. Data: 0.066s. Batch: 0.115s. Loss: 0.6516.: 100%|█| 18/18 [00:02<00:00,  8.76it/s]\n"
     ]
    },
    {
     "name": "stdout",
     "output_type": "stream",
     "text": [
      "Global round: 376 | Average loss: 0.6620025700993009\n",
      "Global Round: 377\n"
     ]
    },
    {
     "name": "stderr",
     "output_type": "stream",
     "text": [
      "Train Epoch: 377/1001. Iter:   18/  18. Data: 0.062s. Batch: 0.110s. Loss: 0.6677.: 100%|█| 18/18 [00:01<00:00,  9.06it/s]\n"
     ]
    },
    {
     "name": "stdout",
     "output_type": "stream",
     "text": [
      "Global round: 377 | Average loss: 0.6612743371062808\n",
      "Global Round: 378\n"
     ]
    },
    {
     "name": "stderr",
     "output_type": "stream",
     "text": [
      "Train Epoch: 378/1001. Iter:   18/  18. Data: 0.062s. Batch: 0.112s. Loss: 0.6585.: 100%|█| 18/18 [00:02<00:00,  8.91it/s]\n"
     ]
    },
    {
     "name": "stdout",
     "output_type": "stream",
     "text": [
      "Global round: 378 | Average loss: 0.6600853867001004\n",
      "Global Round: 379\n"
     ]
    },
    {
     "name": "stderr",
     "output_type": "stream",
     "text": [
      "Train Epoch: 379/1001. Iter:   18/  18. Data: 0.065s. Batch: 0.115s. Loss: 0.6802.: 100%|█| 18/18 [00:02<00:00,  8.65it/s]\n"
     ]
    },
    {
     "name": "stdout",
     "output_type": "stream",
     "text": [
      "Global round: 379 | Average loss: 0.6599185764789581\n",
      "Global Round: 380\n"
     ]
    },
    {
     "name": "stderr",
     "output_type": "stream",
     "text": [
      "Train Epoch: 380/1001. Iter:   18/  18. Data: 0.062s. Batch: 0.111s. Loss: 0.6487.: 100%|█| 18/18 [00:01<00:00,  9.01it/s]\n"
     ]
    },
    {
     "name": "stdout",
     "output_type": "stream",
     "text": [
      "global epoch 381 saved\n",
      "Global round: 380 | Average loss: 0.6614990234375\n",
      "Global Round: 381\n"
     ]
    },
    {
     "name": "stderr",
     "output_type": "stream",
     "text": [
      "Train Epoch: 381/1001. Iter:   18/  18. Data: 0.063s. Batch: 0.115s. Loss: 0.6578.: 100%|█| 18/18 [00:02<00:00,  8.74it/s]\n"
     ]
    },
    {
     "name": "stdout",
     "output_type": "stream",
     "text": [
      "Global round: 381 | Average loss: 0.6567165652910868\n",
      "Global Round: 382\n"
     ]
    },
    {
     "name": "stderr",
     "output_type": "stream",
     "text": [
      "Train Epoch: 382/1001. Iter:   18/  18. Data: 0.063s. Batch: 0.117s. Loss: 0.6376.: 100%|█| 18/18 [00:02<00:00,  8.52it/s]\n"
     ]
    },
    {
     "name": "stdout",
     "output_type": "stream",
     "text": [
      "Global round: 382 | Average loss: 0.6559155815177493\n",
      "Global Round: 383\n"
     ]
    },
    {
     "name": "stderr",
     "output_type": "stream",
     "text": [
      "Train Epoch: 383/1001. Iter:   18/  18. Data: 0.060s. Batch: 0.110s. Loss: 0.6557.: 100%|█| 18/18 [00:01<00:00,  9.06it/s]\n"
     ]
    },
    {
     "name": "stdout",
     "output_type": "stream",
     "text": [
      "Global round: 383 | Average loss: 0.6567566626601749\n",
      "Global Round: 384\n"
     ]
    },
    {
     "name": "stderr",
     "output_type": "stream",
     "text": [
      "Train Epoch: 384/1001. Iter:   18/  18. Data: 0.061s. Batch: 0.113s. Loss: 0.6656.: 100%|█| 18/18 [00:02<00:00,  8.89it/s]\n"
     ]
    },
    {
     "name": "stdout",
     "output_type": "stream",
     "text": [
      "Global round: 384 | Average loss: 0.6567060119575925\n",
      "Global Round: 385\n"
     ]
    },
    {
     "name": "stderr",
     "output_type": "stream",
     "text": [
      "Train Epoch: 385/1001. Iter:   18/  18. Data: 0.059s. Batch: 0.109s. Loss: 0.6753.: 100%|█| 18/18 [00:01<00:00,  9.21it/s]\n"
     ]
    },
    {
     "name": "stdout",
     "output_type": "stream",
     "text": [
      "global epoch 386 saved\n",
      "Global round: 385 | Average loss: 0.6582705941465166\n",
      "Global Round: 386\n"
     ]
    },
    {
     "name": "stderr",
     "output_type": "stream",
     "text": [
      "Train Epoch: 386/1001. Iter:   18/  18. Data: 0.060s. Batch: 0.115s. Loss: 0.6520.: 100%|█| 18/18 [00:02<00:00,  8.69it/s]\n"
     ]
    },
    {
     "name": "stdout",
     "output_type": "stream",
     "text": [
      "Global round: 386 | Average loss: 0.6561375988854302\n",
      "Global Round: 387\n"
     ]
    },
    {
     "name": "stderr",
     "output_type": "stream",
     "text": [
      "Train Epoch: 387/1001. Iter:   18/  18. Data: 0.058s. Batch: 0.108s. Loss: 0.6797.: 100%|█| 18/18 [00:01<00:00,  9.28it/s]\n"
     ]
    },
    {
     "name": "stdout",
     "output_type": "stream",
     "text": [
      "Global round: 387 | Average loss: 0.6521045300695631\n",
      "Global Round: 388\n"
     ]
    },
    {
     "name": "stderr",
     "output_type": "stream",
     "text": [
      "Train Epoch: 388/1001. Iter:   18/  18. Data: 0.058s. Batch: 0.109s. Loss: 0.6489.: 100%|█| 18/18 [00:01<00:00,  9.16it/s]\n"
     ]
    },
    {
     "name": "stdout",
     "output_type": "stream",
     "text": [
      "Global round: 388 | Average loss: 0.6551193098227183\n",
      "Global Round: 389\n"
     ]
    },
    {
     "name": "stderr",
     "output_type": "stream",
     "text": [
      "Train Epoch: 389/1001. Iter:   18/  18. Data: 0.059s. Batch: 0.113s. Loss: 0.6612.: 100%|█| 18/18 [00:02<00:00,  8.87it/s]\n"
     ]
    },
    {
     "name": "stdout",
     "output_type": "stream",
     "text": [
      "Global round: 389 | Average loss: 0.6510528491603004\n",
      "Global Round: 390\n"
     ]
    },
    {
     "name": "stderr",
     "output_type": "stream",
     "text": [
      "Train Epoch: 390/1001. Iter:   18/  18. Data: 0.058s. Batch: 0.110s. Loss: 0.6469.: 100%|█| 18/18 [00:01<00:00,  9.12it/s]\n"
     ]
    },
    {
     "name": "stdout",
     "output_type": "stream",
     "text": [
      "global epoch 391 saved\n",
      "Global round: 390 | Average loss: 0.655050148566564\n",
      "Global Round: 391\n"
     ]
    },
    {
     "name": "stderr",
     "output_type": "stream",
     "text": [
      "Train Epoch: 391/1001. Iter:   18/  18. Data: 0.062s. Batch: 0.112s. Loss: 0.6302.: 100%|█| 18/18 [00:02<00:00,  8.99it/s]\n"
     ]
    },
    {
     "name": "stdout",
     "output_type": "stream",
     "text": [
      "Global round: 391 | Average loss: 0.6532322631941901\n",
      "Global Round: 392\n"
     ]
    },
    {
     "name": "stderr",
     "output_type": "stream",
     "text": [
      "Train Epoch: 392/1001. Iter:   18/  18. Data: 0.062s. Batch: 0.112s. Loss: 0.6521.: 100%|█| 18/18 [00:02<00:00,  8.97it/s]\n"
     ]
    },
    {
     "name": "stdout",
     "output_type": "stream",
     "text": [
      "Global round: 392 | Average loss: 0.6542381776703728\n",
      "Global Round: 393\n"
     ]
    },
    {
     "name": "stderr",
     "output_type": "stream",
     "text": [
      "Train Epoch: 393/1001. Iter:   18/  18. Data: 0.060s. Batch: 0.108s. Loss: 0.6670.: 100%|█| 18/18 [00:01<00:00,  9.22it/s]\n"
     ]
    },
    {
     "name": "stdout",
     "output_type": "stream",
     "text": [
      "Global round: 393 | Average loss: 0.654022733370463\n",
      "Global Round: 394\n"
     ]
    },
    {
     "name": "stderr",
     "output_type": "stream",
     "text": [
      "Train Epoch: 394/1001. Iter:   18/  18. Data: 0.063s. Batch: 0.113s. Loss: 0.6278.: 100%|█| 18/18 [00:02<00:00,  8.86it/s]\n"
     ]
    },
    {
     "name": "stdout",
     "output_type": "stream",
     "text": [
      "Global round: 394 | Average loss: 0.6497973369227515\n",
      "Global Round: 395\n"
     ]
    },
    {
     "name": "stderr",
     "output_type": "stream",
     "text": [
      "Train Epoch: 395/1001. Iter:   18/  18. Data: 0.061s. Batch: 0.110s. Loss: 0.6540.: 100%|█| 18/18 [00:01<00:00,  9.07it/s]\n"
     ]
    },
    {
     "name": "stdout",
     "output_type": "stream",
     "text": [
      "global epoch 396 saved\n",
      "Global round: 395 | Average loss: 0.6494817402627733\n",
      "Global Round: 396\n"
     ]
    },
    {
     "name": "stderr",
     "output_type": "stream",
     "text": [
      "Train Epoch: 396/1001. Iter:   18/  18. Data: 0.062s. Batch: 0.113s. Loss: 0.6655.: 100%|█| 18/18 [00:02<00:00,  8.94it/s]\n"
     ]
    },
    {
     "name": "stdout",
     "output_type": "stream",
     "text": [
      "Global round: 396 | Average loss: 0.6513799793190427\n",
      "Global Round: 397\n"
     ]
    },
    {
     "name": "stderr",
     "output_type": "stream",
     "text": [
      "Train Epoch: 397/1001. Iter:   18/  18. Data: 0.062s. Batch: 0.115s. Loss: 0.6419.: 100%|█| 18/18 [00:02<00:00,  8.67it/s]\n"
     ]
    },
    {
     "name": "stdout",
     "output_type": "stream",
     "text": [
      "Global round: 397 | Average loss: 0.6520936952696906\n",
      "Global Round: 398\n"
     ]
    },
    {
     "name": "stderr",
     "output_type": "stream",
     "text": [
      "Train Epoch: 398/1001. Iter:   18/  18. Data: 0.060s. Batch: 0.110s. Loss: 0.6513.: 100%|█| 18/18 [00:01<00:00,  9.08it/s]\n"
     ]
    },
    {
     "name": "stdout",
     "output_type": "stream",
     "text": [
      "Global round: 398 | Average loss: 0.6481857664055295\n",
      "Global Round: 399\n"
     ]
    },
    {
     "name": "stderr",
     "output_type": "stream",
     "text": [
      "Train Epoch: 399/1001. Iter:   18/  18. Data: 0.063s. Batch: 0.116s. Loss: 0.6422.: 100%|█| 18/18 [00:02<00:00,  8.64it/s]\n"
     ]
    },
    {
     "name": "stdout",
     "output_type": "stream",
     "text": [
      "Global round: 399 | Average loss: 0.6485378775331709\n",
      "Global Round: 400\n"
     ]
    },
    {
     "name": "stderr",
     "output_type": "stream",
     "text": [
      "Train Epoch: 400/1001. Iter:   18/  18. Data: 0.061s. Batch: 0.113s. Loss: 0.6476.: 100%|█| 18/18 [00:02<00:00,  8.81it/s]\n"
     ]
    },
    {
     "name": "stdout",
     "output_type": "stream",
     "text": [
      "global epoch 401 saved\n",
      "Global round: 400 | Average loss: 0.64680282274882\n",
      "Global Round: 401\n"
     ]
    },
    {
     "name": "stderr",
     "output_type": "stream",
     "text": [
      "Train Epoch: 401/1001. Iter:   18/  18. Data: 0.059s. Batch: 0.109s. Loss: 0.6960.: 100%|█| 18/18 [00:01<00:00,  9.24it/s]\n"
     ]
    },
    {
     "name": "stdout",
     "output_type": "stream",
     "text": [
      "Global round: 401 | Average loss: 0.6538729601436191\n",
      "Global Round: 402\n"
     ]
    },
    {
     "name": "stderr",
     "output_type": "stream",
     "text": [
      "Train Epoch: 402/1001. Iter:   18/  18. Data: 0.065s. Batch: 0.114s. Loss: 0.6566.: 100%|█| 18/18 [00:02<00:00,  8.74it/s]\n"
     ]
    },
    {
     "name": "stdout",
     "output_type": "stream",
     "text": [
      "Global round: 402 | Average loss: 0.6481297446621789\n",
      "Global Round: 403\n"
     ]
    },
    {
     "name": "stderr",
     "output_type": "stream",
     "text": [
      "Train Epoch: 403/1001. Iter:   18/  18. Data: 0.060s. Batch: 0.109s. Loss: 0.6430.: 100%|█| 18/18 [00:01<00:00,  9.17it/s]\n"
     ]
    },
    {
     "name": "stdout",
     "output_type": "stream",
     "text": [
      "Global round: 403 | Average loss: 0.65381830268436\n",
      "Global Round: 404\n"
     ]
    },
    {
     "name": "stderr",
     "output_type": "stream",
     "text": [
      "Train Epoch: 404/1001. Iter:   18/  18. Data: 0.064s. Batch: 0.114s. Loss: 0.6680.: 100%|█| 18/18 [00:02<00:00,  8.79it/s]\n"
     ]
    },
    {
     "name": "stdout",
     "output_type": "stream",
     "text": [
      "Global round: 404 | Average loss: 0.6488802466127608\n",
      "Global Round: 405\n"
     ]
    },
    {
     "name": "stderr",
     "output_type": "stream",
     "text": [
      "Train Epoch: 405/1001. Iter:   18/  18. Data: 0.064s. Batch: 0.114s. Loss: 0.6560.: 100%|█| 18/18 [00:02<00:00,  8.79it/s]\n"
     ]
    },
    {
     "name": "stdout",
     "output_type": "stream",
     "text": [
      "global epoch 406 saved\n",
      "Global round: 405 | Average loss: 0.6491375532415178\n",
      "Global Round: 406\n"
     ]
    },
    {
     "name": "stderr",
     "output_type": "stream",
     "text": [
      "Train Epoch: 406/1001. Iter:   18/  18. Data: 0.059s. Batch: 0.111s. Loss: 0.6318.: 100%|█| 18/18 [00:01<00:00,  9.08it/s]\n"
     ]
    },
    {
     "name": "stdout",
     "output_type": "stream",
     "text": [
      "Global round: 406 | Average loss: 0.6494376990530226\n",
      "Global Round: 407\n"
     ]
    },
    {
     "name": "stderr",
     "output_type": "stream",
     "text": [
      "Train Epoch: 407/1001. Iter:   18/  18. Data: 0.060s. Batch: 0.110s. Loss: 0.6401.: 100%|█| 18/18 [00:01<00:00,  9.10it/s]\n"
     ]
    },
    {
     "name": "stdout",
     "output_type": "stream",
     "text": [
      "Global round: 407 | Average loss: 0.6465734508302476\n",
      "Global Round: 408\n"
     ]
    },
    {
     "name": "stderr",
     "output_type": "stream",
     "text": [
      "Train Epoch: 408/1001. Iter:   18/  18. Data: 0.065s. Batch: 0.118s. Loss: 0.6412.: 100%|█| 18/18 [00:02<00:00,  8.52it/s]\n"
     ]
    },
    {
     "name": "stdout",
     "output_type": "stream",
     "text": [
      "Global round: 408 | Average loss: 0.6456623276074728\n",
      "Global Round: 409\n"
     ]
    },
    {
     "name": "stderr",
     "output_type": "stream",
     "text": [
      "Train Epoch: 409/1001. Iter:   18/  18. Data: 0.062s. Batch: 0.112s. Loss: 0.6349.: 100%|█| 18/18 [00:02<00:00,  8.92it/s]\n"
     ]
    },
    {
     "name": "stdout",
     "output_type": "stream",
     "text": [
      "Global round: 409 | Average loss: 0.64594324098693\n",
      "Global Round: 410\n"
     ]
    },
    {
     "name": "stderr",
     "output_type": "stream",
     "text": [
      "Train Epoch: 410/1001. Iter:   18/  18. Data: 0.061s. Batch: 0.113s. Loss: 0.6315.: 100%|█| 18/18 [00:02<00:00,  8.89it/s]\n"
     ]
    },
    {
     "name": "stdout",
     "output_type": "stream",
     "text": [
      "global epoch 411 saved\n",
      "Global round: 410 | Average loss: 0.6469456023640103\n",
      "Global Round: 411\n"
     ]
    },
    {
     "name": "stderr",
     "output_type": "stream",
     "text": [
      "Train Epoch: 411/1001. Iter:   18/  18. Data: 0.059s. Batch: 0.109s. Loss: 0.6357.: 100%|█| 18/18 [00:01<00:00,  9.30it/s]\n"
     ]
    },
    {
     "name": "stdout",
     "output_type": "stream",
     "text": [
      "Global round: 411 | Average loss: 0.6464087698194716\n",
      "Global Round: 412\n"
     ]
    },
    {
     "name": "stderr",
     "output_type": "stream",
     "text": [
      "Train Epoch: 412/1001. Iter:   18/  18. Data: 0.058s. Batch: 0.109s. Loss: 0.6299.: 100%|█| 18/18 [00:01<00:00,  9.20it/s]\n"
     ]
    },
    {
     "name": "stdout",
     "output_type": "stream",
     "text": [
      "Global round: 412 | Average loss: 0.6457982891135745\n",
      "Global Round: 413\n"
     ]
    },
    {
     "name": "stderr",
     "output_type": "stream",
     "text": [
      "Train Epoch: 413/1001. Iter:   18/  18. Data: 0.059s. Batch: 0.115s. Loss: 0.6520.: 100%|█| 18/18 [00:02<00:00,  8.70it/s]\n"
     ]
    },
    {
     "name": "stdout",
     "output_type": "stream",
     "text": [
      "Global round: 413 | Average loss: 0.6432605087757111\n",
      "Global Round: 414\n"
     ]
    },
    {
     "name": "stderr",
     "output_type": "stream",
     "text": [
      "Train Epoch: 414/1001. Iter:   18/  18. Data: 0.058s. Batch: 0.111s. Loss: 0.6755.: 100%|█| 18/18 [00:02<00:00,  8.99it/s]\n"
     ]
    },
    {
     "name": "stdout",
     "output_type": "stream",
     "text": [
      "Global round: 414 | Average loss: 0.6427444318930308\n",
      "Global Round: 415\n"
     ]
    },
    {
     "name": "stderr",
     "output_type": "stream",
     "text": [
      "Train Epoch: 415/1001. Iter:   18/  18. Data: 0.061s. Batch: 0.117s. Loss: 0.6486.: 100%|█| 18/18 [00:02<00:00,  8.61it/s]\n"
     ]
    },
    {
     "name": "stdout",
     "output_type": "stream",
     "text": [
      "global epoch 416 saved\n",
      "Global round: 415 | Average loss: 0.644211620092392\n",
      "Global Round: 416\n"
     ]
    },
    {
     "name": "stderr",
     "output_type": "stream",
     "text": [
      "Train Epoch: 416/1001. Iter:   18/  18. Data: 0.061s. Batch: 0.110s. Loss: 0.6613.: 100%|█| 18/18 [00:01<00:00,  9.18it/s]\n"
     ]
    },
    {
     "name": "stdout",
     "output_type": "stream",
     "text": [
      "Global round: 416 | Average loss: 0.644502987464269\n",
      "Global Round: 417\n"
     ]
    },
    {
     "name": "stderr",
     "output_type": "stream",
     "text": [
      "Train Epoch: 417/1001. Iter:   18/  18. Data: 0.061s. Batch: 0.111s. Loss: 0.6534.: 100%|█| 18/18 [00:01<00:00,  9.00it/s]\n"
     ]
    },
    {
     "name": "stdout",
     "output_type": "stream",
     "text": [
      "Global round: 417 | Average loss: 0.6394371456570096\n",
      "Global Round: 418\n"
     ]
    },
    {
     "name": "stderr",
     "output_type": "stream",
     "text": [
      "Train Epoch: 418/1001. Iter:   18/  18. Data: 0.063s. Batch: 0.114s. Loss: 0.6280.: 100%|█| 18/18 [00:02<00:00,  8.78it/s]\n"
     ]
    },
    {
     "name": "stdout",
     "output_type": "stream",
     "text": [
      "Global round: 418 | Average loss: 0.6430221994717916\n",
      "Global Round: 419\n"
     ]
    },
    {
     "name": "stderr",
     "output_type": "stream",
     "text": [
      "Train Epoch: 419/1001. Iter:   18/  18. Data: 0.061s. Batch: 0.110s. Loss: 0.6367.: 100%|█| 18/18 [00:01<00:00,  9.10it/s]\n"
     ]
    },
    {
     "name": "stdout",
     "output_type": "stream",
     "text": [
      "Global round: 419 | Average loss: 0.6460189786222246\n",
      "Global Round: 420\n"
     ]
    },
    {
     "name": "stderr",
     "output_type": "stream",
     "text": [
      "Train Epoch: 420/1001. Iter:   18/  18. Data: 0.059s. Batch: 0.109s. Loss: 0.6505.: 100%|█| 18/18 [00:01<00:00,  9.18it/s]\n"
     ]
    },
    {
     "name": "stdout",
     "output_type": "stream",
     "text": [
      "global epoch 421 saved\n",
      "Global round: 420 | Average loss: 0.6422349280781217\n",
      "Global Round: 421\n"
     ]
    },
    {
     "name": "stderr",
     "output_type": "stream",
     "text": [
      "Train Epoch: 421/1001. Iter:   18/  18. Data: 0.064s. Batch: 0.116s. Loss: 0.6463.: 100%|█| 18/18 [00:02<00:00,  8.69it/s]\n"
     ]
    },
    {
     "name": "stdout",
     "output_type": "stream",
     "text": [
      "Global round: 421 | Average loss: 0.6453216605716281\n",
      "Global Round: 422\n"
     ]
    },
    {
     "name": "stderr",
     "output_type": "stream",
     "text": [
      "Train Epoch: 422/1001. Iter:   18/  18. Data: 0.058s. Batch: 0.108s. Loss: 0.6583.: 100%|█| 18/18 [00:01<00:00,  9.30it/s]\n"
     ]
    },
    {
     "name": "stdout",
     "output_type": "stream",
     "text": [
      "Global round: 422 | Average loss: 0.641367773214976\n",
      "Global Round: 423\n"
     ]
    },
    {
     "name": "stderr",
     "output_type": "stream",
     "text": [
      "Train Epoch: 423/1001. Iter:   18/  18. Data: 0.059s. Batch: 0.113s. Loss: 0.6373.: 100%|█| 18/18 [00:02<00:00,  8.89it/s]\n"
     ]
    },
    {
     "name": "stdout",
     "output_type": "stream",
     "text": [
      "Global round: 423 | Average loss: 0.6437809003723992\n",
      "Global Round: 424\n"
     ]
    },
    {
     "name": "stderr",
     "output_type": "stream",
     "text": [
      "Train Epoch: 424/1001. Iter:   18/  18. Data: 0.060s. Batch: 0.111s. Loss: 0.6444.: 100%|█| 18/18 [00:02<00:00,  9.00it/s]\n"
     ]
    },
    {
     "name": "stdout",
     "output_type": "stream",
     "text": [
      "Global round: 424 | Average loss: 0.6427998145421346\n",
      "Global Round: 425\n"
     ]
    },
    {
     "name": "stderr",
     "output_type": "stream",
     "text": [
      "Train Epoch: 425/1001. Iter:   18/  18. Data: 0.060s. Batch: 0.111s. Loss: 0.6349.: 100%|█| 18/18 [00:01<00:00,  9.03it/s]\n"
     ]
    },
    {
     "name": "stdout",
     "output_type": "stream",
     "text": [
      "global epoch 426 saved\n",
      "Global round: 425 | Average loss: 0.638813681072659\n",
      "Global Round: 426\n"
     ]
    },
    {
     "name": "stderr",
     "output_type": "stream",
     "text": [
      "Train Epoch: 426/1001. Iter:   18/  18. Data: 0.066s. Batch: 0.117s. Loss: 0.6321.: 100%|█| 18/18 [00:02<00:00,  8.61it/s]\n"
     ]
    },
    {
     "name": "stdout",
     "output_type": "stream",
     "text": [
      "Global round: 426 | Average loss: 0.6425987316502465\n",
      "Global Round: 427\n"
     ]
    },
    {
     "name": "stderr",
     "output_type": "stream",
     "text": [
      "Train Epoch: 427/1001. Iter:   18/  18. Data: 0.066s. Batch: 0.115s. Loss: 0.6406.: 100%|█| 18/18 [00:02<00:00,  8.64it/s]\n"
     ]
    },
    {
     "name": "stdout",
     "output_type": "stream",
     "text": [
      "Global round: 427 | Average loss: 0.6451549364460839\n",
      "Global Round: 428\n"
     ]
    },
    {
     "name": "stderr",
     "output_type": "stream",
     "text": [
      "Train Epoch: 428/1001. Iter:   18/  18. Data: 0.064s. Batch: 0.113s. Loss: 0.6455.: 100%|█| 18/18 [00:02<00:00,  8.87it/s]\n"
     ]
    },
    {
     "name": "stdout",
     "output_type": "stream",
     "text": [
      "Global round: 428 | Average loss: 0.6397614081700643\n",
      "Global Round: 429\n"
     ]
    },
    {
     "name": "stderr",
     "output_type": "stream",
     "text": [
      "Train Epoch: 429/1001. Iter:   18/  18. Data: 0.066s. Batch: 0.117s. Loss: 0.6461.: 100%|█| 18/18 [00:02<00:00,  8.50it/s]\n"
     ]
    },
    {
     "name": "stdout",
     "output_type": "stream",
     "text": [
      "Global round: 429 | Average loss: 0.6392994258138869\n",
      "Global Round: 430\n"
     ]
    },
    {
     "name": "stderr",
     "output_type": "stream",
     "text": [
      "Train Epoch: 430/1001. Iter:   18/  18. Data: 0.061s. Batch: 0.109s. Loss: 0.6151.: 100%|█| 18/18 [00:01<00:00,  9.19it/s]\n"
     ]
    },
    {
     "name": "stdout",
     "output_type": "stream",
     "text": [
      "global epoch 431 saved\n",
      "Global round: 430 | Average loss: 0.6454300781091055\n",
      "Global Round: 431\n"
     ]
    },
    {
     "name": "stderr",
     "output_type": "stream",
     "text": [
      "Train Epoch: 431/1001. Iter:   18/  18. Data: 0.061s. Batch: 0.114s. Loss: 0.6398.: 100%|█| 18/18 [00:02<00:00,  8.81it/s]\n"
     ]
    },
    {
     "name": "stdout",
     "output_type": "stream",
     "text": [
      "Global round: 431 | Average loss: 0.6407764984501733\n",
      "Global Round: 432\n"
     ]
    },
    {
     "name": "stderr",
     "output_type": "stream",
     "text": [
      "Train Epoch: 432/1001. Iter:   18/  18. Data: 0.060s. Batch: 0.109s. Loss: 0.6270.: 100%|█| 18/18 [00:01<00:00,  9.18it/s]\n"
     ]
    },
    {
     "name": "stdout",
     "output_type": "stream",
     "text": [
      "Global round: 432 | Average loss: 0.640948623418808\n",
      "Global Round: 433\n"
     ]
    },
    {
     "name": "stderr",
     "output_type": "stream",
     "text": [
      "Train Epoch: 433/1001. Iter:   18/  18. Data: 0.058s. Batch: 0.108s. Loss: 0.6339.: 100%|█| 18/18 [00:01<00:00,  9.28it/s]\n"
     ]
    },
    {
     "name": "stdout",
     "output_type": "stream",
     "text": [
      "Global round: 433 | Average loss: 0.6391061113940345\n",
      "Global Round: 434\n"
     ]
    },
    {
     "name": "stderr",
     "output_type": "stream",
     "text": [
      "Train Epoch: 434/1001. Iter:   18/  18. Data: 0.061s. Batch: 0.111s. Loss: 0.6402.: 100%|█| 18/18 [00:01<00:00,  9.01it/s]\n"
     ]
    },
    {
     "name": "stdout",
     "output_type": "stream",
     "text": [
      "Global round: 434 | Average loss: 0.6382815639177958\n",
      "Global Round: 435\n"
     ]
    },
    {
     "name": "stderr",
     "output_type": "stream",
     "text": [
      "Train Epoch: 435/1001. Iter:   18/  18. Data: 0.059s. Batch: 0.109s. Loss: 0.6477.: 100%|█| 18/18 [00:01<00:00,  9.18it/s]\n"
     ]
    },
    {
     "name": "stdout",
     "output_type": "stream",
     "text": [
      "global epoch 436 saved\n",
      "Global round: 435 | Average loss: 0.6409809854295518\n",
      "Global Round: 436\n"
     ]
    },
    {
     "name": "stderr",
     "output_type": "stream",
     "text": [
      "Train Epoch: 436/1001. Iter:   18/  18. Data: 0.060s. Batch: 0.111s. Loss: 0.6241.: 100%|█| 18/18 [00:01<00:00,  9.06it/s]\n"
     ]
    },
    {
     "name": "stdout",
     "output_type": "stream",
     "text": [
      "Global round: 436 | Average loss: 0.6396371589766608\n",
      "Global Round: 437\n"
     ]
    },
    {
     "name": "stderr",
     "output_type": "stream",
     "text": [
      "Train Epoch: 437/1001. Iter:   18/  18. Data: 0.059s. Batch: 0.113s. Loss: 0.6249.: 100%|█| 18/18 [00:02<00:00,  8.83it/s]\n"
     ]
    },
    {
     "name": "stdout",
     "output_type": "stream",
     "text": [
      "Global round: 437 | Average loss: 0.641008155213462\n",
      "Global Round: 438\n"
     ]
    },
    {
     "name": "stderr",
     "output_type": "stream",
     "text": [
      "Train Epoch: 438/1001. Iter:   18/  18. Data: 0.062s. Batch: 0.113s. Loss: 0.6184.: 100%|█| 18/18 [00:02<00:00,  8.88it/s]\n"
     ]
    },
    {
     "name": "stdout",
     "output_type": "stream",
     "text": [
      "Global round: 438 | Average loss: 0.6400612129105462\n",
      "Global Round: 439\n"
     ]
    },
    {
     "name": "stderr",
     "output_type": "stream",
     "text": [
      "Train Epoch: 439/1001. Iter:   18/  18. Data: 0.058s. Batch: 0.112s. Loss: 0.6661.: 100%|█| 18/18 [00:02<00:00,  8.96it/s]\n"
     ]
    },
    {
     "name": "stdout",
     "output_type": "stream",
     "text": [
      "Global round: 439 | Average loss: 0.6416974630620744\n",
      "Global Round: 440\n"
     ]
    },
    {
     "name": "stderr",
     "output_type": "stream",
     "text": [
      "Train Epoch: 440/1001. Iter:   18/  18. Data: 0.058s. Batch: 0.111s. Loss: 0.6270.: 100%|█| 18/18 [00:01<00:00,  9.03it/s]\n"
     ]
    },
    {
     "name": "stdout",
     "output_type": "stream",
     "text": [
      "global epoch 441 saved\n",
      "Global round: 440 | Average loss: 0.6372811264461942\n",
      "Global Round: 441\n"
     ]
    },
    {
     "name": "stderr",
     "output_type": "stream",
     "text": [
      "Train Epoch: 441/1001. Iter:   18/  18. Data: 0.062s. Batch: 0.113s. Loss: 0.6140.: 100%|█| 18/18 [00:02<00:00,  8.91it/s]\n"
     ]
    },
    {
     "name": "stdout",
     "output_type": "stream",
     "text": [
      "Global round: 441 | Average loss: 0.6391548315684\n",
      "Global Round: 442\n"
     ]
    },
    {
     "name": "stderr",
     "output_type": "stream",
     "text": [
      "Train Epoch: 442/1001. Iter:   18/  18. Data: 0.064s. Batch: 0.114s. Loss: 0.6444.: 100%|█| 18/18 [00:02<00:00,  8.77it/s]\n"
     ]
    },
    {
     "name": "stdout",
     "output_type": "stream",
     "text": [
      "Global round: 442 | Average loss: 0.6403337220350901\n",
      "Global Round: 443\n"
     ]
    },
    {
     "name": "stderr",
     "output_type": "stream",
     "text": [
      "Train Epoch: 443/1001. Iter:   18/  18. Data: 0.063s. Batch: 0.114s. Loss: 0.6512.: 100%|█| 18/18 [00:02<00:00,  8.74it/s]\n"
     ]
    },
    {
     "name": "stdout",
     "output_type": "stream",
     "text": [
      "Global round: 443 | Average loss: 0.6425169739458296\n",
      "Global Round: 444\n"
     ]
    },
    {
     "name": "stderr",
     "output_type": "stream",
     "text": [
      "Train Epoch: 444/1001. Iter:   18/  18. Data: 0.062s. Batch: 0.111s. Loss: 0.6651.: 100%|█| 18/18 [00:01<00:00,  9.04it/s]\n"
     ]
    },
    {
     "name": "stdout",
     "output_type": "stream",
     "text": [
      "Global round: 444 | Average loss: 0.6381695667902628\n",
      "Global Round: 445\n"
     ]
    },
    {
     "name": "stderr",
     "output_type": "stream",
     "text": [
      "Train Epoch: 445/1001. Iter:   18/  18. Data: 0.063s. Batch: 0.115s. Loss: 0.6088.: 100%|█| 18/18 [00:02<00:00,  8.67it/s]\n"
     ]
    },
    {
     "name": "stdout",
     "output_type": "stream",
     "text": [
      "global epoch 446 saved\n",
      "Global round: 445 | Average loss: 0.6331334147188399\n",
      "Global Round: 446\n"
     ]
    },
    {
     "name": "stderr",
     "output_type": "stream",
     "text": [
      "Train Epoch: 446/1001. Iter:   18/  18. Data: 0.059s. Batch: 0.110s. Loss: 0.6369.: 100%|█| 18/18 [00:01<00:00,  9.20it/s]\n"
     ]
    },
    {
     "name": "stdout",
     "output_type": "stream",
     "text": [
      "Global round: 446 | Average loss: 0.6342286931143867\n",
      "Global Round: 447\n"
     ]
    },
    {
     "name": "stderr",
     "output_type": "stream",
     "text": [
      "Train Epoch: 447/1001. Iter:   18/  18. Data: 0.062s. Batch: 0.115s. Loss: 0.6028.: 100%|█| 18/18 [00:02<00:00,  8.75it/s]\n"
     ]
    },
    {
     "name": "stdout",
     "output_type": "stream",
     "text": [
      "Global round: 447 | Average loss: 0.6330906417634752\n",
      "Global Round: 448\n"
     ]
    },
    {
     "name": "stderr",
     "output_type": "stream",
     "text": [
      "Train Epoch: 448/1001. Iter:   18/  18. Data: 0.059s. Batch: 0.111s. Loss: 0.6393.: 100%|█| 18/18 [00:01<00:00,  9.01it/s]\n"
     ]
    },
    {
     "name": "stdout",
     "output_type": "stream",
     "text": [
      "Global round: 448 | Average loss: 0.6361760298411051\n",
      "Global Round: 449\n"
     ]
    },
    {
     "name": "stderr",
     "output_type": "stream",
     "text": [
      "Train Epoch: 449/1001. Iter:   18/  18. Data: 0.061s. Batch: 0.113s. Loss: 0.6304.: 100%|█| 18/18 [00:02<00:00,  8.89it/s]\n"
     ]
    },
    {
     "name": "stdout",
     "output_type": "stream",
     "text": [
      "Global round: 449 | Average loss: 0.6327037215232849\n",
      "Global Round: 450\n"
     ]
    },
    {
     "name": "stderr",
     "output_type": "stream",
     "text": [
      "Train Epoch: 450/1001. Iter:   18/  18. Data: 0.061s. Batch: 0.115s. Loss: 0.6304.: 100%|█| 18/18 [00:02<00:00,  8.73it/s]\n"
     ]
    },
    {
     "name": "stdout",
     "output_type": "stream",
     "text": [
      "global epoch 451 saved\n",
      "Global round: 450 | Average loss: 0.6341101990805732\n",
      "Global Round: 451\n"
     ]
    },
    {
     "name": "stderr",
     "output_type": "stream",
     "text": [
      "Train Epoch: 451/1001. Iter:   18/  18. Data: 0.063s. Batch: 0.114s. Loss: 0.6247.: 100%|█| 18/18 [00:02<00:00,  8.85it/s]\n"
     ]
    },
    {
     "name": "stdout",
     "output_type": "stream",
     "text": [
      "Global round: 451 | Average loss: 0.6359475288126204\n",
      "Global Round: 452\n"
     ]
    },
    {
     "name": "stderr",
     "output_type": "stream",
     "text": [
      "Train Epoch: 452/1001. Iter:   18/  18. Data: 0.062s. Batch: 0.111s. Loss: 0.6216.: 100%|█| 18/18 [00:01<00:00,  9.02it/s]\n"
     ]
    },
    {
     "name": "stdout",
     "output_type": "stream",
     "text": [
      "Global round: 452 | Average loss: 0.6363202863269382\n",
      "Global Round: 453\n"
     ]
    },
    {
     "name": "stderr",
     "output_type": "stream",
     "text": [
      "Train Epoch: 453/1001. Iter:   18/  18. Data: 0.066s. Batch: 0.116s. Loss: 0.6337.: 100%|█| 18/18 [00:02<00:00,  8.65it/s]\n"
     ]
    },
    {
     "name": "stdout",
     "output_type": "stream",
     "text": [
      "Global round: 453 | Average loss: 0.6363815599017673\n",
      "Global Round: 454\n"
     ]
    },
    {
     "name": "stderr",
     "output_type": "stream",
     "text": [
      "Train Epoch: 454/1001. Iter:   18/  18. Data: 0.060s. Batch: 0.108s. Loss: 0.6232.: 100%|█| 18/18 [00:01<00:00,  9.24it/s]\n"
     ]
    },
    {
     "name": "stdout",
     "output_type": "stream",
     "text": [
      "Global round: 454 | Average loss: 0.6353665292263031\n",
      "Global Round: 455\n"
     ]
    },
    {
     "name": "stderr",
     "output_type": "stream",
     "text": [
      "Train Epoch: 455/1001. Iter:   18/  18. Data: 0.067s. Batch: 0.118s. Loss: 0.6530.: 100%|█| 18/18 [00:02<00:00,  8.49it/s]\n"
     ]
    },
    {
     "name": "stdout",
     "output_type": "stream",
     "text": [
      "global epoch 456 saved\n",
      "Global round: 455 | Average loss: 0.6350232627656724\n",
      "Global Round: 456\n"
     ]
    },
    {
     "name": "stderr",
     "output_type": "stream",
     "text": [
      "Train Epoch: 456/1001. Iter:   18/  18. Data: 0.058s. Batch: 0.110s. Loss: 0.6407.: 100%|█| 18/18 [00:01<00:00,  9.16it/s]\n"
     ]
    },
    {
     "name": "stdout",
     "output_type": "stream",
     "text": [
      "Global round: 456 | Average loss: 0.6367461416456435\n",
      "Global Round: 457\n"
     ]
    },
    {
     "name": "stderr",
     "output_type": "stream",
     "text": [
      "Train Epoch: 457/1001. Iter:   18/  18. Data: 0.062s. Batch: 0.111s. Loss: 0.6240.: 100%|█| 18/18 [00:01<00:00,  9.01it/s]\n"
     ]
    },
    {
     "name": "stdout",
     "output_type": "stream",
     "text": [
      "Global round: 457 | Average loss: 0.6285703347788917\n",
      "Global Round: 458\n"
     ]
    },
    {
     "name": "stderr",
     "output_type": "stream",
     "text": [
      "Train Epoch: 458/1001. Iter:   18/  18. Data: 0.062s. Batch: 0.113s. Loss: 0.6313.: 100%|█| 18/18 [00:02<00:00,  8.85it/s]\n"
     ]
    },
    {
     "name": "stdout",
     "output_type": "stream",
     "text": [
      "Global round: 458 | Average loss: 0.6330795321199629\n",
      "Global Round: 459\n"
     ]
    },
    {
     "name": "stderr",
     "output_type": "stream",
     "text": [
      "Train Epoch: 459/1001. Iter:   18/  18. Data: 0.059s. Batch: 0.109s. Loss: 0.6516.: 100%|█| 18/18 [00:01<00:00,  9.12it/s]\n"
     ]
    },
    {
     "name": "stdout",
     "output_type": "stream",
     "text": [
      "Global round: 459 | Average loss: 0.6337993972831302\n",
      "Global Round: 460\n"
     ]
    },
    {
     "name": "stderr",
     "output_type": "stream",
     "text": [
      "Train Epoch: 460/1001. Iter:   18/  18. Data: 0.063s. Batch: 0.114s. Loss: 0.6472.: 100%|█| 18/18 [00:02<00:00,  8.75it/s]\n"
     ]
    },
    {
     "name": "stdout",
     "output_type": "stream",
     "text": [
      "global epoch 461 saved\n",
      "Global round: 460 | Average loss: 0.6321697963608636\n",
      "Global Round: 461\n"
     ]
    },
    {
     "name": "stderr",
     "output_type": "stream",
     "text": [
      "Train Epoch: 461/1001. Iter:   18/  18. Data: 0.063s. Batch: 0.113s. Loss: 0.6459.: 100%|█| 18/18 [00:02<00:00,  8.92it/s]\n"
     ]
    },
    {
     "name": "stdout",
     "output_type": "stream",
     "text": [
      "Global round: 461 | Average loss: 0.6279719207021925\n",
      "Global Round: 462\n"
     ]
    },
    {
     "name": "stderr",
     "output_type": "stream",
     "text": [
      "Train Epoch: 462/1001. Iter:   18/  18. Data: 0.063s. Batch: 0.117s. Loss: 0.6196.: 100%|█| 18/18 [00:02<00:00,  8.58it/s]\n"
     ]
    },
    {
     "name": "stdout",
     "output_type": "stream",
     "text": [
      "Global round: 462 | Average loss: 0.6254825327131484\n",
      "Global Round: 463\n"
     ]
    },
    {
     "name": "stderr",
     "output_type": "stream",
     "text": [
      "Train Epoch: 463/1001. Iter:   18/  18. Data: 0.060s. Batch: 0.115s. Loss: 0.6485.: 100%|█| 18/18 [00:02<00:00,  8.73it/s]\n"
     ]
    },
    {
     "name": "stdout",
     "output_type": "stream",
     "text": [
      "Global round: 463 | Average loss: 0.6304628451665243\n",
      "Global Round: 464\n"
     ]
    },
    {
     "name": "stderr",
     "output_type": "stream",
     "text": [
      "Train Epoch: 464/1001. Iter:   18/  18. Data: 0.059s. Batch: 0.113s. Loss: 0.6336.: 100%|█| 18/18 [00:02<00:00,  8.87it/s]\n"
     ]
    },
    {
     "name": "stdout",
     "output_type": "stream",
     "text": [
      "Global round: 464 | Average loss: 0.6300267808967166\n",
      "Global Round: 465\n"
     ]
    },
    {
     "name": "stderr",
     "output_type": "stream",
     "text": [
      "Train Epoch: 465/1001. Iter:   18/  18. Data: 0.058s. Batch: 0.108s. Loss: 0.6356.: 100%|█| 18/18 [00:01<00:00,  9.27it/s]\n"
     ]
    },
    {
     "name": "stdout",
     "output_type": "stream",
     "text": [
      "global epoch 466 saved\n",
      "Global round: 465 | Average loss: 0.6311107377211252\n",
      "Global Round: 466\n"
     ]
    },
    {
     "name": "stderr",
     "output_type": "stream",
     "text": [
      "Train Epoch: 466/1001. Iter:   18/  18. Data: 0.064s. Batch: 0.115s. Loss: 0.6230.: 100%|█| 18/18 [00:02<00:00,  8.81it/s]\n"
     ]
    },
    {
     "name": "stdout",
     "output_type": "stream",
     "text": [
      "Global round: 466 | Average loss: 0.6281465126408471\n",
      "Global Round: 467\n"
     ]
    },
    {
     "name": "stderr",
     "output_type": "stream",
     "text": [
      "Train Epoch: 467/1001. Iter:   18/  18. Data: 0.059s. Batch: 0.107s. Loss: 0.6394.: 100%|█| 18/18 [00:01<00:00,  9.34it/s]\n"
     ]
    },
    {
     "name": "stdout",
     "output_type": "stream",
     "text": [
      "Global round: 467 | Average loss: 0.6297297974427541\n",
      "Global Round: 468\n"
     ]
    },
    {
     "name": "stderr",
     "output_type": "stream",
     "text": [
      "Train Epoch: 468/1001. Iter:   18/  18. Data: 0.065s. Batch: 0.116s. Loss: 0.6268.: 100%|█| 18/18 [00:02<00:00,  8.56it/s]\n"
     ]
    },
    {
     "name": "stdout",
     "output_type": "stream",
     "text": [
      "Global round: 468 | Average loss: 0.6312912669446733\n",
      "Global Round: 469\n"
     ]
    },
    {
     "name": "stderr",
     "output_type": "stream",
     "text": [
      "Train Epoch: 469/1001. Iter:   18/  18. Data: 0.060s. Batch: 0.110s. Loss: 0.6234.: 100%|█| 18/18 [00:01<00:00,  9.11it/s]\n"
     ]
    },
    {
     "name": "stdout",
     "output_type": "stream",
     "text": [
      "Global round: 469 | Average loss: 0.6306849055820041\n",
      "Global Round: 470\n"
     ]
    },
    {
     "name": "stderr",
     "output_type": "stream",
     "text": [
      "Train Epoch: 470/1001. Iter:   18/  18. Data: 0.063s. Batch: 0.114s. Loss: 0.6379.: 100%|█| 18/18 [00:02<00:00,  8.76it/s]\n"
     ]
    },
    {
     "name": "stdout",
     "output_type": "stream",
     "text": [
      "global epoch 471 saved\n",
      "Global round: 470 | Average loss: 0.6324901945061154\n",
      "Global Round: 471\n"
     ]
    },
    {
     "name": "stderr",
     "output_type": "stream",
     "text": [
      "Train Epoch: 471/1001. Iter:   18/  18. Data: 0.063s. Batch: 0.114s. Loss: 0.6425.: 100%|█| 18/18 [00:02<00:00,  8.83it/s]\n"
     ]
    },
    {
     "name": "stdout",
     "output_type": "stream",
     "text": [
      "Global round: 471 | Average loss: 0.6350235309865739\n",
      "Global Round: 472\n"
     ]
    },
    {
     "name": "stderr",
     "output_type": "stream",
     "text": [
      "Train Epoch: 472/1001. Iter:   18/  18. Data: 0.059s. Batch: 0.110s. Loss: 0.6106.: 100%|█| 18/18 [00:01<00:00,  9.11it/s]\n"
     ]
    },
    {
     "name": "stdout",
     "output_type": "stream",
     "text": [
      "Global round: 472 | Average loss: 0.6321945852703519\n",
      "Global Round: 473\n"
     ]
    },
    {
     "name": "stderr",
     "output_type": "stream",
     "text": [
      "Train Epoch: 473/1001. Iter:   18/  18. Data: 0.058s. Batch: 0.108s. Loss: 0.6610.: 100%|█| 18/18 [00:01<00:00,  9.23it/s]\n"
     ]
    },
    {
     "name": "stdout",
     "output_type": "stream",
     "text": [
      "Global round: 473 | Average loss: 0.6303903990321689\n",
      "Global Round: 474\n"
     ]
    },
    {
     "name": "stderr",
     "output_type": "stream",
     "text": [
      "Train Epoch: 474/1001. Iter:   18/  18. Data: 0.064s. Batch: 0.116s. Loss: 0.6180.: 100%|█| 18/18 [00:02<00:00,  8.63it/s]\n"
     ]
    },
    {
     "name": "stdout",
     "output_type": "stream",
     "text": [
      "Global round: 474 | Average loss: 0.6335139837529924\n",
      "Global Round: 475\n"
     ]
    },
    {
     "name": "stderr",
     "output_type": "stream",
     "text": [
      "Train Epoch: 475/1001. Iter:   18/  18. Data: 0.059s. Batch: 0.111s. Loss: 0.6396.: 100%|█| 18/18 [00:01<00:00,  9.05it/s]\n"
     ]
    },
    {
     "name": "stdout",
     "output_type": "stream",
     "text": [
      "global epoch 476 saved\n",
      "Global round: 475 | Average loss: 0.6301650471157498\n",
      "Global Round: 476\n"
     ]
    },
    {
     "name": "stderr",
     "output_type": "stream",
     "text": [
      "Train Epoch: 476/1001. Iter:   18/  18. Data: 0.063s. Batch: 0.113s. Loss: 0.6315.: 100%|█| 18/18 [00:02<00:00,  8.91it/s]\n"
     ]
    },
    {
     "name": "stdout",
     "output_type": "stream",
     "text": [
      "Global round: 476 | Average loss: 0.632042172882292\n",
      "Global Round: 477\n"
     ]
    },
    {
     "name": "stderr",
     "output_type": "stream",
     "text": [
      "Train Epoch: 477/1001. Iter:   18/  18. Data: 0.063s. Batch: 0.113s. Loss: 0.6246.: 100%|█| 18/18 [00:02<00:00,  8.82it/s]\n"
     ]
    },
    {
     "name": "stdout",
     "output_type": "stream",
     "text": [
      "Global round: 477 | Average loss: 0.6280226508776346\n",
      "Global Round: 478\n"
     ]
    },
    {
     "name": "stderr",
     "output_type": "stream",
     "text": [
      "Train Epoch: 478/1001. Iter:   18/  18. Data: 0.060s. Batch: 0.109s. Loss: 0.6229.: 100%|█| 18/18 [00:01<00:00,  9.20it/s]\n"
     ]
    },
    {
     "name": "stdout",
     "output_type": "stream",
     "text": [
      "Global round: 478 | Average loss: 0.6342960033151839\n",
      "Global Round: 479\n"
     ]
    },
    {
     "name": "stderr",
     "output_type": "stream",
     "text": [
      "Train Epoch: 479/1001. Iter:   18/  18. Data: 0.065s. Batch: 0.114s. Loss: 0.6041.: 100%|█| 18/18 [00:02<00:00,  8.79it/s]\n"
     ]
    },
    {
     "name": "stdout",
     "output_type": "stream",
     "text": [
      "Global round: 479 | Average loss: 0.6281005905734168\n",
      "Global Round: 480\n"
     ]
    },
    {
     "name": "stderr",
     "output_type": "stream",
     "text": [
      "Train Epoch: 480/1001. Iter:   18/  18. Data: 0.061s. Batch: 0.110s. Loss: 0.6172.: 100%|█| 18/18 [00:01<00:00,  9.06it/s]\n"
     ]
    },
    {
     "name": "stdout",
     "output_type": "stream",
     "text": [
      "global epoch 481 saved\n",
      "Global round: 480 | Average loss: 0.6284451749589708\n",
      "Global Round: 481\n"
     ]
    },
    {
     "name": "stderr",
     "output_type": "stream",
     "text": [
      "Train Epoch: 481/1001. Iter:   18/  18. Data: 0.059s. Batch: 0.110s. Loss: 0.6327.: 100%|█| 18/18 [00:01<00:00,  9.19it/s]\n"
     ]
    },
    {
     "name": "stdout",
     "output_type": "stream",
     "text": [
      "Global round: 481 | Average loss: 0.6234373781416152\n",
      "Global Round: 482\n"
     ]
    },
    {
     "name": "stderr",
     "output_type": "stream",
     "text": [
      "Train Epoch: 482/1001. Iter:   18/  18. Data: 0.064s. Batch: 0.117s. Loss: 0.6066.: 100%|█| 18/18 [00:02<00:00,  8.55it/s]\n"
     ]
    },
    {
     "name": "stdout",
     "output_type": "stream",
     "text": [
      "Global round: 482 | Average loss: 0.6273777650462257\n",
      "Global Round: 483\n"
     ]
    },
    {
     "name": "stderr",
     "output_type": "stream",
     "text": [
      "Train Epoch: 483/1001. Iter:   18/  18. Data: 0.062s. Batch: 0.113s. Loss: 0.6479.: 100%|█| 18/18 [00:02<00:00,  8.84it/s]\n"
     ]
    },
    {
     "name": "stdout",
     "output_type": "stream",
     "text": [
      "Global round: 483 | Average loss: 0.6283992363346947\n",
      "Global Round: 484\n"
     ]
    },
    {
     "name": "stderr",
     "output_type": "stream",
     "text": [
      "Train Epoch: 484/1001. Iter:   18/  18. Data: 0.064s. Batch: 0.117s. Loss: 0.6257.: 100%|█| 18/18 [00:02<00:00,  8.54it/s]\n"
     ]
    },
    {
     "name": "stdout",
     "output_type": "stream",
     "text": [
      "Global round: 484 | Average loss: 0.6301371355851492\n",
      "Global Round: 485\n"
     ]
    },
    {
     "name": "stderr",
     "output_type": "stream",
     "text": [
      "Train Epoch: 485/1001. Iter:   18/  18. Data: 0.060s. Batch: 0.111s. Loss: 0.6448.: 100%|█| 18/18 [00:01<00:00,  9.03it/s]\n"
     ]
    },
    {
     "name": "stdout",
     "output_type": "stream",
     "text": [
      "global epoch 486 saved\n",
      "Global round: 485 | Average loss: 0.6260917948351966\n",
      "Global Round: 486\n"
     ]
    },
    {
     "name": "stderr",
     "output_type": "stream",
     "text": [
      "Train Epoch: 486/1001. Iter:   18/  18. Data: 0.058s. Batch: 0.108s. Loss: 0.6431.: 100%|█| 18/18 [00:01<00:00,  9.34it/s]\n"
     ]
    },
    {
     "name": "stdout",
     "output_type": "stream",
     "text": [
      "Global round: 486 | Average loss: 0.62836887439092\n",
      "Global Round: 487\n"
     ]
    },
    {
     "name": "stderr",
     "output_type": "stream",
     "text": [
      "Train Epoch: 487/1001. Iter:   18/  18. Data: 0.062s. Batch: 0.118s. Loss: 0.6205.: 100%|█| 18/18 [00:02<00:00,  8.49it/s]\n"
     ]
    },
    {
     "name": "stdout",
     "output_type": "stream",
     "text": [
      "Global round: 487 | Average loss: 0.6250536673598819\n",
      "Global Round: 488\n"
     ]
    },
    {
     "name": "stderr",
     "output_type": "stream",
     "text": [
      "Train Epoch: 488/1001. Iter:   18/  18. Data: 0.059s. Batch: 0.110s. Loss: 0.6347.: 100%|█| 18/18 [00:01<00:00,  9.07it/s]\n"
     ]
    },
    {
     "name": "stdout",
     "output_type": "stream",
     "text": [
      "Global round: 488 | Average loss: 0.6242415805657705\n",
      "Global Round: 489\n"
     ]
    },
    {
     "name": "stderr",
     "output_type": "stream",
     "text": [
      "Train Epoch: 489/1001. Iter:   18/  18. Data: 0.061s. Batch: 0.114s. Loss: 0.6070.: 100%|█| 18/18 [00:02<00:00,  8.80it/s]\n"
     ]
    },
    {
     "name": "stdout",
     "output_type": "stream",
     "text": [
      "Global round: 489 | Average loss: 0.6288542283905877\n",
      "Global Round: 490\n"
     ]
    },
    {
     "name": "stderr",
     "output_type": "stream",
     "text": [
      "Train Epoch: 490/1001. Iter:   18/  18. Data: 0.061s. Batch: 0.114s. Loss: 0.6397.: 100%|█| 18/18 [00:02<00:00,  8.81it/s]\n"
     ]
    },
    {
     "name": "stdout",
     "output_type": "stream",
     "text": [
      "global epoch 491 saved\n",
      "Global round: 490 | Average loss: 0.6289729277292887\n",
      "Global Round: 491\n"
     ]
    },
    {
     "name": "stderr",
     "output_type": "stream",
     "text": [
      "Train Epoch: 491/1001. Iter:   18/  18. Data: 0.061s. Batch: 0.111s. Loss: 0.6245.: 100%|█| 18/18 [00:01<00:00,  9.11it/s]\n"
     ]
    },
    {
     "name": "stdout",
     "output_type": "stream",
     "text": [
      "Global round: 491 | Average loss: 0.6288179424073961\n",
      "Global Round: 492\n"
     ]
    },
    {
     "name": "stderr",
     "output_type": "stream",
     "text": [
      "Train Epoch: 492/1001. Iter:   18/  18. Data: 0.065s. Batch: 0.114s. Loss: 0.6264.: 100%|█| 18/18 [00:02<00:00,  8.78it/s]\n"
     ]
    },
    {
     "name": "stdout",
     "output_type": "stream",
     "text": [
      "Global round: 492 | Average loss: 0.6297023793061575\n",
      "Global Round: 493\n"
     ]
    },
    {
     "name": "stderr",
     "output_type": "stream",
     "text": [
      "Train Epoch: 493/1001. Iter:   18/  18. Data: 0.061s. Batch: 0.112s. Loss: 0.6328.: 100%|█| 18/18 [00:02<00:00,  8.95it/s]\n"
     ]
    },
    {
     "name": "stdout",
     "output_type": "stream",
     "text": [
      "Global round: 493 | Average loss: 0.6276214652591281\n",
      "Global Round: 494\n"
     ]
    },
    {
     "name": "stderr",
     "output_type": "stream",
     "text": [
      "Train Epoch: 494/1001. Iter:   18/  18. Data: 0.061s. Batch: 0.111s. Loss: 0.6376.: 100%|█| 18/18 [00:01<00:00,  9.02it/s]\n"
     ]
    },
    {
     "name": "stdout",
     "output_type": "stream",
     "text": [
      "Global round: 494 | Average loss: 0.6270767119195726\n",
      "Global Round: 495\n"
     ]
    },
    {
     "name": "stderr",
     "output_type": "stream",
     "text": [
      "Train Epoch: 495/1001. Iter:   18/  18. Data: 0.063s. Batch: 0.115s. Loss: 0.6001.: 100%|█| 18/18 [00:02<00:00,  8.74it/s]\n"
     ]
    },
    {
     "name": "stdout",
     "output_type": "stream",
     "text": [
      "global epoch 496 saved\n",
      "Global round: 495 | Average loss: 0.6290126409795549\n",
      "Global Round: 496\n"
     ]
    },
    {
     "name": "stderr",
     "output_type": "stream",
     "text": [
      "Train Epoch: 496/1001. Iter:   18/  18. Data: 0.059s. Batch: 0.108s. Loss: 0.6204.: 100%|█| 18/18 [00:01<00:00,  9.32it/s]\n"
     ]
    },
    {
     "name": "stdout",
     "output_type": "stream",
     "text": [
      "Global round: 496 | Average loss: 0.6250341137250265\n",
      "Global Round: 497\n"
     ]
    },
    {
     "name": "stderr",
     "output_type": "stream",
     "text": [
      "Train Epoch: 497/1001. Iter:   18/  18. Data: 0.060s. Batch: 0.112s. Loss: 0.6294.: 100%|█| 18/18 [00:02<00:00,  8.92it/s]\n"
     ]
    },
    {
     "name": "stdout",
     "output_type": "stream",
     "text": [
      "Global round: 497 | Average loss: 0.6285072896215651\n",
      "Global Round: 498\n"
     ]
    },
    {
     "name": "stderr",
     "output_type": "stream",
     "text": [
      "Train Epoch: 498/1001. Iter:   18/  18. Data: 0.059s. Batch: 0.110s. Loss: 0.6305.: 100%|█| 18/18 [00:01<00:00,  9.10it/s]\n"
     ]
    },
    {
     "name": "stdout",
     "output_type": "stream",
     "text": [
      "Global round: 498 | Average loss: 0.6277221143245697\n",
      "Global Round: 499\n"
     ]
    },
    {
     "name": "stderr",
     "output_type": "stream",
     "text": [
      "Train Epoch: 499/1001. Iter:   18/  18. Data: 0.060s. Batch: 0.112s. Loss: 0.6228.: 100%|█| 18/18 [00:02<00:00,  8.92it/s]\n"
     ]
    },
    {
     "name": "stdout",
     "output_type": "stream",
     "text": [
      "Global round: 499 | Average loss: 0.6248194641537137\n",
      "Global Round: 500\n"
     ]
    },
    {
     "name": "stderr",
     "output_type": "stream",
     "text": [
      "Train Epoch: 500/1001. Iter:   18/  18. Data: 0.062s. Batch: 0.115s. Loss: 0.6302.: 100%|█| 18/18 [00:02<00:00,  8.70it/s]\n"
     ]
    },
    {
     "name": "stdout",
     "output_type": "stream",
     "text": [
      "global epoch 501 saved\n",
      "Global round: 500 | Average loss: 0.6259533862272898\n",
      "Global Round: 501\n"
     ]
    },
    {
     "name": "stderr",
     "output_type": "stream",
     "text": [
      "Train Epoch: 501/1001. Iter:   18/  18. Data: 0.066s. Batch: 0.116s. Loss: 0.6386.: 100%|█| 18/18 [00:02<00:00,  8.71it/s]\n"
     ]
    },
    {
     "name": "stdout",
     "output_type": "stream",
     "text": [
      "Global round: 501 | Average loss: 0.6245846582783593\n",
      "Global Round: 502\n"
     ]
    },
    {
     "name": "stderr",
     "output_type": "stream",
     "text": [
      "Train Epoch: 502/1001. Iter:   18/  18. Data: 0.062s. Batch: 0.112s. Loss: 0.6222.: 100%|█| 18/18 [00:02<00:00,  8.96it/s]\n"
     ]
    },
    {
     "name": "stdout",
     "output_type": "stream",
     "text": [
      "Global round: 502 | Average loss: 0.6241124702824487\n",
      "Global Round: 503\n"
     ]
    },
    {
     "name": "stderr",
     "output_type": "stream",
     "text": [
      "Train Epoch: 503/1001. Iter:   18/  18. Data: 0.065s. Batch: 0.115s. Loss: 0.6366.: 100%|█| 18/18 [00:02<00:00,  8.68it/s]\n"
     ]
    },
    {
     "name": "stdout",
     "output_type": "stream",
     "text": [
      "Global round: 503 | Average loss: 0.6243750353654226\n",
      "Global Round: 504\n"
     ]
    },
    {
     "name": "stderr",
     "output_type": "stream",
     "text": [
      "Train Epoch: 504/1001. Iter:   18/  18. Data: 0.060s. Batch: 0.109s. Loss: 0.6254.: 100%|█| 18/18 [00:01<00:00,  9.14it/s]\n"
     ]
    },
    {
     "name": "stdout",
     "output_type": "stream",
     "text": [
      "Global round: 504 | Average loss: 0.6246868305736117\n",
      "Global Round: 505\n"
     ]
    },
    {
     "name": "stderr",
     "output_type": "stream",
     "text": [
      "Train Epoch: 505/1001. Iter:   18/  18. Data: 0.068s. Batch: 0.118s. Loss: 0.6251.: 100%|█| 18/18 [00:02<00:00,  8.50it/s]\n"
     ]
    },
    {
     "name": "stdout",
     "output_type": "stream",
     "text": [
      "global epoch 506 saved\n",
      "Global round: 505 | Average loss: 0.6249730123413934\n",
      "Global Round: 506\n"
     ]
    },
    {
     "name": "stderr",
     "output_type": "stream",
     "text": [
      "Train Epoch: 506/1001. Iter:   18/  18. Data: 0.058s. Batch: 0.110s. Loss: 0.6294.: 100%|█| 18/18 [00:01<00:00,  9.13it/s]\n"
     ]
    },
    {
     "name": "stdout",
     "output_type": "stream",
     "text": [
      "Global round: 506 | Average loss: 0.6240256594287025\n",
      "Global Round: 507\n"
     ]
    },
    {
     "name": "stderr",
     "output_type": "stream",
     "text": [
      "Train Epoch: 507/1001. Iter:   18/  18. Data: 0.061s. Batch: 0.112s. Loss: 0.6323.: 100%|█| 18/18 [00:02<00:00,  8.93it/s]\n"
     ]
    },
    {
     "name": "stdout",
     "output_type": "stream",
     "text": [
      "Global round: 507 | Average loss: 0.6236337655120425\n",
      "Global Round: 508\n"
     ]
    },
    {
     "name": "stderr",
     "output_type": "stream",
     "text": [
      "Train Epoch: 508/1001. Iter:   18/  18. Data: 0.065s. Batch: 0.118s. Loss: 0.6090.: 100%|█| 18/18 [00:02<00:00,  8.48it/s]\n"
     ]
    },
    {
     "name": "stdout",
     "output_type": "stream",
     "text": [
      "Global round: 508 | Average loss: 0.620528045627806\n",
      "Global Round: 509\n"
     ]
    },
    {
     "name": "stderr",
     "output_type": "stream",
     "text": [
      "Train Epoch: 509/1001. Iter:   18/  18. Data: 0.061s. Batch: 0.111s. Loss: 0.6143.: 100%|█| 18/18 [00:02<00:00,  8.97it/s]\n"
     ]
    },
    {
     "name": "stdout",
     "output_type": "stream",
     "text": [
      "Global round: 509 | Average loss: 0.6227434178193411\n",
      "Global Round: 510\n"
     ]
    },
    {
     "name": "stderr",
     "output_type": "stream",
     "text": [
      "Train Epoch: 510/1001. Iter:   18/  18. Data: 0.059s. Batch: 0.109s. Loss: 0.6294.: 100%|█| 18/18 [00:01<00:00,  9.20it/s]\n"
     ]
    },
    {
     "name": "stdout",
     "output_type": "stream",
     "text": [
      "global epoch 511 saved\n",
      "Global round: 510 | Average loss: 0.6235044631693099\n",
      "Global Round: 511\n"
     ]
    },
    {
     "name": "stderr",
     "output_type": "stream",
     "text": [
      "Train Epoch: 511/1001. Iter:   18/  18. Data: 0.063s. Batch: 0.117s. Loss: 0.6308.: 100%|█| 18/18 [00:02<00:00,  8.62it/s]\n"
     ]
    },
    {
     "name": "stdout",
     "output_type": "stream",
     "text": [
      "Global round: 511 | Average loss: 0.623450388511022\n",
      "Global Round: 512\n"
     ]
    },
    {
     "name": "stderr",
     "output_type": "stream",
     "text": [
      "Train Epoch: 512/1001. Iter:   18/  18. Data: 0.061s. Batch: 0.112s. Loss: 0.6146.: 100%|█| 18/18 [00:02<00:00,  8.92it/s]\n"
     ]
    },
    {
     "name": "stdout",
     "output_type": "stream",
     "text": [
      "Global round: 512 | Average loss: 0.6215784781508975\n",
      "Global Round: 513\n"
     ]
    },
    {
     "name": "stderr",
     "output_type": "stream",
     "text": [
      "Train Epoch: 513/1001. Iter:   18/  18. Data: 0.061s. Batch: 0.114s. Loss: 0.6243.: 100%|█| 18/18 [00:02<00:00,  8.76it/s]\n"
     ]
    },
    {
     "name": "stdout",
     "output_type": "stream",
     "text": [
      "Global round: 513 | Average loss: 0.6219892601172129\n",
      "Global Round: 514\n"
     ]
    },
    {
     "name": "stderr",
     "output_type": "stream",
     "text": [
      "Train Epoch: 514/1001. Iter:   18/  18. Data: 0.058s. Batch: 0.110s. Loss: 0.6210.: 100%|█| 18/18 [00:01<00:00,  9.11it/s]\n"
     ]
    },
    {
     "name": "stdout",
     "output_type": "stream",
     "text": [
      "Global round: 514 | Average loss: 0.6229024860594008\n",
      "Global Round: 515\n"
     ]
    },
    {
     "name": "stderr",
     "output_type": "stream",
     "text": [
      "Train Epoch: 515/1001. Iter:   18/  18. Data: 0.058s. Batch: 0.109s. Loss: 0.6257.: 100%|█| 18/18 [00:01<00:00,  9.11it/s]\n"
     ]
    },
    {
     "name": "stdout",
     "output_type": "stream",
     "text": [
      "global epoch 516 saved\n",
      "Global round: 515 | Average loss: 0.6219558583365546\n",
      "Global Round: 516\n"
     ]
    },
    {
     "name": "stderr",
     "output_type": "stream",
     "text": [
      "Train Epoch: 516/1001. Iter:   18/  18. Data: 0.065s. Batch: 0.116s. Loss: 0.6473.: 100%|█| 18/18 [00:02<00:00,  8.75it/s]\n"
     ]
    },
    {
     "name": "stdout",
     "output_type": "stream",
     "text": [
      "Global round: 516 | Average loss: 0.6227708359559377\n",
      "Global Round: 517\n"
     ]
    },
    {
     "name": "stderr",
     "output_type": "stream",
     "text": [
      "Train Epoch: 517/1001. Iter:   18/  18. Data: 0.061s. Batch: 0.111s. Loss: 0.6214.: 100%|█| 18/18 [00:01<00:00,  9.02it/s]\n"
     ]
    },
    {
     "name": "stdout",
     "output_type": "stream",
     "text": [
      "Global round: 517 | Average loss: 0.6230019993252225\n",
      "Global Round: 518\n"
     ]
    },
    {
     "name": "stderr",
     "output_type": "stream",
     "text": [
      "Train Epoch: 518/1001. Iter:   18/  18. Data: 0.060s. Batch: 0.110s. Loss: 0.6298.: 100%|█| 18/18 [00:01<00:00,  9.06it/s]\n"
     ]
    },
    {
     "name": "stdout",
     "output_type": "stream",
     "text": [
      "Global round: 518 | Average loss: 0.620705869462755\n",
      "Global Round: 519\n"
     ]
    },
    {
     "name": "stderr",
     "output_type": "stream",
     "text": [
      "Train Epoch: 519/1001. Iter:   18/  18. Data: 0.061s. Batch: 0.110s. Loss: 0.6081.: 100%|█| 18/18 [00:01<00:00,  9.07it/s]\n"
     ]
    },
    {
     "name": "stdout",
     "output_type": "stream",
     "text": [
      "Global round: 519 | Average loss: 0.6210033496220907\n",
      "Global Round: 520\n"
     ]
    },
    {
     "name": "stderr",
     "output_type": "stream",
     "text": [
      "Train Epoch: 520/1001. Iter:   18/  18. Data: 0.060s. Batch: 0.110s. Loss: 0.6420.: 100%|█| 18/18 [00:01<00:00,  9.13it/s]\n"
     ]
    },
    {
     "name": "stdout",
     "output_type": "stream",
     "text": [
      "global epoch 521 saved\n",
      "Global round: 520 | Average loss: 0.6249173349804349\n",
      "Global Round: 521\n"
     ]
    },
    {
     "name": "stderr",
     "output_type": "stream",
     "text": [
      "Train Epoch: 521/1001. Iter:   18/  18. Data: 0.063s. Batch: 0.116s. Loss: 0.6137.: 100%|█| 18/18 [00:02<00:00,  8.68it/s]\n"
     ]
    },
    {
     "name": "stdout",
     "output_type": "stream",
     "text": [
      "Global round: 521 | Average loss: 0.6214209794998169\n",
      "Global Round: 522\n"
     ]
    },
    {
     "name": "stderr",
     "output_type": "stream",
     "text": [
      "Train Epoch: 522/1001. Iter:   18/  18. Data: 0.062s. Batch: 0.114s. Loss: 0.6300.: 100%|█| 18/18 [00:02<00:00,  8.76it/s]\n"
     ]
    },
    {
     "name": "stdout",
     "output_type": "stream",
     "text": [
      "Global round: 522 | Average loss: 0.6213596529430814\n",
      "Global Round: 523\n"
     ]
    },
    {
     "name": "stderr",
     "output_type": "stream",
     "text": [
      "Train Epoch: 523/1001. Iter:   18/  18. Data: 0.060s. Batch: 0.111s. Loss: 0.6100.: 100%|█| 18/18 [00:01<00:00,  9.02it/s]\n"
     ]
    },
    {
     "name": "stdout",
     "output_type": "stream",
     "text": [
      "Global round: 523 | Average loss: 0.6234209405051337\n",
      "Global Round: 524\n"
     ]
    },
    {
     "name": "stderr",
     "output_type": "stream",
     "text": [
      "Train Epoch: 524/1001. Iter:   18/  18. Data: 0.060s. Batch: 0.113s. Loss: 0.6288.: 100%|█| 18/18 [00:02<00:00,  8.85it/s]\n"
     ]
    },
    {
     "name": "stdout",
     "output_type": "stream",
     "text": [
      "Global round: 524 | Average loss: 0.6253319912486606\n",
      "Global Round: 525\n"
     ]
    },
    {
     "name": "stderr",
     "output_type": "stream",
     "text": [
      "Train Epoch: 525/1001. Iter:   18/  18. Data: 0.060s. Batch: 0.112s. Loss: 0.6418.: 100%|█| 18/18 [00:02<00:00,  8.93it/s]\n"
     ]
    },
    {
     "name": "stdout",
     "output_type": "stream",
     "text": [
      "global epoch 526 saved\n",
      "Global round: 525 | Average loss: 0.6274989048639933\n",
      "Global Round: 526\n"
     ]
    },
    {
     "name": "stderr",
     "output_type": "stream",
     "text": [
      "Train Epoch: 526/1001. Iter:   18/  18. Data: 0.060s. Batch: 0.110s. Loss: 0.6278.: 100%|█| 18/18 [00:01<00:00,  9.13it/s]\n"
     ]
    },
    {
     "name": "stdout",
     "output_type": "stream",
     "text": [
      "Global round: 526 | Average loss: 0.6189842985735999\n",
      "Global Round: 527\n"
     ]
    },
    {
     "name": "stderr",
     "output_type": "stream",
     "text": [
      "Train Epoch: 527/1001. Iter:   18/  18. Data: 0.062s. Batch: 0.110s. Loss: 0.6071.: 100%|█| 18/18 [00:01<00:00,  9.02it/s]\n"
     ]
    },
    {
     "name": "stdout",
     "output_type": "stream",
     "text": [
      "Global round: 527 | Average loss: 0.6225638290246328\n",
      "Global Round: 528\n"
     ]
    },
    {
     "name": "stderr",
     "output_type": "stream",
     "text": [
      "Train Epoch: 528/1001. Iter:   18/  18. Data: 0.065s. Batch: 0.116s. Loss: 0.6391.: 100%|█| 18/18 [00:02<00:00,  8.63it/s]\n"
     ]
    },
    {
     "name": "stdout",
     "output_type": "stream",
     "text": [
      "Global round: 528 | Average loss: 0.6246285637219747\n",
      "Global Round: 529\n"
     ]
    },
    {
     "name": "stderr",
     "output_type": "stream",
     "text": [
      "Train Epoch: 529/1001. Iter:   18/  18. Data: 0.065s. Batch: 0.114s. Loss: 0.6120.: 100%|█| 18/18 [00:02<00:00,  8.77it/s]\n"
     ]
    },
    {
     "name": "stdout",
     "output_type": "stream",
     "text": [
      "Global round: 529 | Average loss: 0.6226202249526978\n",
      "Global Round: 530\n"
     ]
    },
    {
     "name": "stderr",
     "output_type": "stream",
     "text": [
      "Train Epoch: 530/1001. Iter:   18/  18. Data: 0.064s. Batch: 0.114s. Loss: 0.6323.: 100%|█| 18/18 [00:02<00:00,  8.77it/s]\n"
     ]
    },
    {
     "name": "stdout",
     "output_type": "stream",
     "text": [
      "global epoch 531 saved\n",
      "Global round: 530 | Average loss: 0.6207330558035109\n",
      "Global Round: 531\n"
     ]
    },
    {
     "name": "stderr",
     "output_type": "stream",
     "text": [
      "Train Epoch: 531/1001. Iter:   18/  18. Data: 0.061s. Batch: 0.113s. Loss: 0.6225.: 100%|█| 18/18 [00:02<00:00,  8.95it/s]\n"
     ]
    },
    {
     "name": "stdout",
     "output_type": "stream",
     "text": [
      "Global round: 531 | Average loss: 0.6198060380087959\n",
      "Global Round: 532\n"
     ]
    },
    {
     "name": "stderr",
     "output_type": "stream",
     "text": [
      "Train Epoch: 532/1001. Iter:   18/  18. Data: 0.062s. Batch: 0.114s. Loss: 0.6234.: 100%|█| 18/18 [00:02<00:00,  8.78it/s]\n"
     ]
    },
    {
     "name": "stdout",
     "output_type": "stream",
     "text": [
      "Global round: 532 | Average loss: 0.6234622531467013\n",
      "Global Round: 533\n"
     ]
    },
    {
     "name": "stderr",
     "output_type": "stream",
     "text": [
      "Train Epoch: 533/1001. Iter:   18/  18. Data: 0.062s. Batch: 0.113s. Loss: 0.6141.: 100%|█| 18/18 [00:02<00:00,  8.85it/s]\n"
     ]
    },
    {
     "name": "stdout",
     "output_type": "stream",
     "text": [
      "Global round: 533 | Average loss: 0.6203364630540212\n",
      "Global Round: 534\n"
     ]
    },
    {
     "name": "stderr",
     "output_type": "stream",
     "text": [
      "Train Epoch: 534/1001. Iter:   18/  18. Data: 0.061s. Batch: 0.111s. Loss: 0.6345.: 100%|█| 18/18 [00:02<00:00,  8.98it/s]\n"
     ]
    },
    {
     "name": "stdout",
     "output_type": "stream",
     "text": [
      "Global round: 534 | Average loss: 0.6221679713990953\n",
      "Global Round: 535\n"
     ]
    },
    {
     "name": "stderr",
     "output_type": "stream",
     "text": [
      "Train Epoch: 535/1001. Iter:   18/  18. Data: 0.060s. Batch: 0.110s. Loss: 0.6334.: 100%|█| 18/18 [00:01<00:00,  9.08it/s]\n"
     ]
    },
    {
     "name": "stdout",
     "output_type": "stream",
     "text": [
      "global epoch 536 saved\n",
      "Global round: 535 | Average loss: 0.618395984172821\n",
      "Global Round: 536\n"
     ]
    },
    {
     "name": "stderr",
     "output_type": "stream",
     "text": [
      "Train Epoch: 536/1001. Iter:   18/  18. Data: 0.064s. Batch: 0.114s. Loss: 0.6186.: 100%|█| 18/18 [00:02<00:00,  8.81it/s]\n"
     ]
    },
    {
     "name": "stdout",
     "output_type": "stream",
     "text": [
      "Global round: 536 | Average loss: 0.6197637418905894\n",
      "Global Round: 537\n"
     ]
    },
    {
     "name": "stderr",
     "output_type": "stream",
     "text": [
      "Train Epoch: 537/1001. Iter:   18/  18. Data: 0.059s. Batch: 0.113s. Loss: 0.6397.: 100%|█| 18/18 [00:02<00:00,  8.83it/s]\n"
     ]
    },
    {
     "name": "stdout",
     "output_type": "stream",
     "text": [
      "Global round: 537 | Average loss: 0.6244148082203336\n",
      "Global Round: 538\n"
     ]
    },
    {
     "name": "stderr",
     "output_type": "stream",
     "text": [
      "Train Epoch: 538/1001. Iter:   18/  18. Data: 0.060s. Batch: 0.112s. Loss: 0.6194.: 100%|█| 18/18 [00:02<00:00,  8.91it/s]\n"
     ]
    },
    {
     "name": "stdout",
     "output_type": "stream",
     "text": [
      "Global round: 538 | Average loss: 0.6200711958938174\n",
      "Global Round: 539\n"
     ]
    },
    {
     "name": "stderr",
     "output_type": "stream",
     "text": [
      "Train Epoch: 539/1001. Iter:   18/  18. Data: 0.060s. Batch: 0.112s. Loss: 0.6318.: 100%|█| 18/18 [00:02<00:00,  8.93it/s]\n"
     ]
    },
    {
     "name": "stdout",
     "output_type": "stream",
     "text": [
      "Global round: 539 | Average loss: 0.6202806168132358\n",
      "Global Round: 540\n"
     ]
    },
    {
     "name": "stderr",
     "output_type": "stream",
     "text": [
      "Train Epoch: 540/1001. Iter:   18/  18. Data: 0.060s. Batch: 0.114s. Loss: 0.5987.: 100%|█| 18/18 [00:02<00:00,  8.76it/s]\n"
     ]
    },
    {
     "name": "stdout",
     "output_type": "stream",
     "text": [
      "global epoch 541 saved\n",
      "Global round: 540 | Average loss: 0.6186350385348002\n",
      "Global Round: 541\n"
     ]
    },
    {
     "name": "stderr",
     "output_type": "stream",
     "text": [
      "Train Epoch: 541/1001. Iter:   18/  18. Data: 0.061s. Batch: 0.111s. Loss: 0.6196.: 100%|█| 18/18 [00:01<00:00,  9.08it/s]\n"
     ]
    },
    {
     "name": "stdout",
     "output_type": "stream",
     "text": [
      "Global round: 541 | Average loss: 0.6198257870144315\n",
      "Global Round: 542\n"
     ]
    },
    {
     "name": "stderr",
     "output_type": "stream",
     "text": [
      "Train Epoch: 542/1001. Iter:   18/  18. Data: 0.067s. Batch: 0.117s. Loss: 0.6304.: 100%|█| 18/18 [00:02<00:00,  8.61it/s]\n"
     ]
    },
    {
     "name": "stdout",
     "output_type": "stream",
     "text": [
      "Global round: 542 | Average loss: 0.6152126126819186\n",
      "Global Round: 543\n"
     ]
    },
    {
     "name": "stderr",
     "output_type": "stream",
     "text": [
      "Train Epoch: 543/1001. Iter:   18/  18. Data: 0.063s. Batch: 0.115s. Loss: 0.6291.: 100%|█| 18/18 [00:02<00:00,  8.69it/s]\n"
     ]
    },
    {
     "name": "stdout",
     "output_type": "stream",
     "text": [
      "Global round: 543 | Average loss: 0.6164645320839353\n",
      "Global Round: 544\n"
     ]
    },
    {
     "name": "stderr",
     "output_type": "stream",
     "text": [
      "Train Epoch: 544/1001. Iter:   18/  18. Data: 0.061s. Batch: 0.110s. Loss: 0.6105.: 100%|█| 18/18 [00:01<00:00,  9.14it/s]\n"
     ]
    },
    {
     "name": "stdout",
     "output_type": "stream",
     "text": [
      "Global round: 544 | Average loss: 0.6160504420598348\n",
      "Global Round: 545\n"
     ]
    },
    {
     "name": "stderr",
     "output_type": "stream",
     "text": [
      "Train Epoch: 545/1001. Iter:   18/  18. Data: 0.065s. Batch: 0.118s. Loss: 0.6111.: 100%|█| 18/18 [00:02<00:00,  8.50it/s]\n"
     ]
    },
    {
     "name": "stdout",
     "output_type": "stream",
     "text": [
      "global epoch 546 saved\n",
      "Global round: 545 | Average loss: 0.619325555033154\n",
      "Global Round: 546\n"
     ]
    },
    {
     "name": "stderr",
     "output_type": "stream",
     "text": [
      "Train Epoch: 546/1001. Iter:   18/  18. Data: 0.060s. Batch: 0.112s. Loss: 0.6090.: 100%|█| 18/18 [00:01<00:00,  9.02it/s]\n"
     ]
    },
    {
     "name": "stdout",
     "output_type": "stream",
     "text": [
      "Global round: 546 | Average loss: 0.6173271867964003\n",
      "Global Round: 547\n"
     ]
    },
    {
     "name": "stderr",
     "output_type": "stream",
     "text": [
      "Train Epoch: 547/1001. Iter:   18/  18. Data: 0.062s. Batch: 0.114s. Loss: 0.6197.: 100%|█| 18/18 [00:02<00:00,  8.76it/s]\n"
     ]
    },
    {
     "name": "stdout",
     "output_type": "stream",
     "text": [
      "Global round: 547 | Average loss: 0.6144886149300469\n",
      "Global Round: 548\n"
     ]
    },
    {
     "name": "stderr",
     "output_type": "stream",
     "text": [
      "Train Epoch: 548/1001. Iter:   18/  18. Data: 0.061s. Batch: 0.113s. Loss: 0.5940.: 100%|█| 18/18 [00:02<00:00,  8.86it/s]\n"
     ]
    },
    {
     "name": "stdout",
     "output_type": "stream",
     "text": [
      "Global round: 548 | Average loss: 0.6128421293364631\n",
      "Global Round: 549\n"
     ]
    },
    {
     "name": "stderr",
     "output_type": "stream",
     "text": [
      "Train Epoch: 549/1001. Iter:   18/  18. Data: 0.059s. Batch: 0.110s. Loss: 0.6038.: 100%|█| 18/18 [00:01<00:00,  9.09it/s]\n"
     ]
    },
    {
     "name": "stdout",
     "output_type": "stream",
     "text": [
      "Global round: 549 | Average loss: 0.6166394982073042\n",
      "Global Round: 550\n"
     ]
    },
    {
     "name": "stderr",
     "output_type": "stream",
     "text": [
      "Train Epoch: 550/1001. Iter:   18/  18. Data: 0.064s. Batch: 0.118s. Loss: 0.5935.: 100%|█| 18/18 [00:02<00:00,  8.48it/s]\n"
     ]
    },
    {
     "name": "stdout",
     "output_type": "stream",
     "text": [
      "global epoch 551 saved\n",
      "Global round: 550 | Average loss: 0.6155867377916971\n",
      "Global Round: 551\n"
     ]
    },
    {
     "name": "stderr",
     "output_type": "stream",
     "text": [
      "Train Epoch: 551/1001. Iter:   18/  18. Data: 0.061s. Batch: 0.110s. Loss: 0.6018.: 100%|█| 18/18 [00:01<00:00,  9.13it/s]\n"
     ]
    },
    {
     "name": "stdout",
     "output_type": "stream",
     "text": [
      "Global round: 551 | Average loss: 0.6159161958429549\n",
      "Global Round: 552\n"
     ]
    },
    {
     "name": "stderr",
     "output_type": "stream",
     "text": [
      "Train Epoch: 552/1001. Iter:   18/  18. Data: 0.062s. Batch: 0.111s. Loss: 0.6211.: 100%|█| 18/18 [00:02<00:00,  8.96it/s]\n"
     ]
    },
    {
     "name": "stdout",
     "output_type": "stream",
     "text": [
      "Global round: 552 | Average loss: 0.6167939702669779\n",
      "Global Round: 553\n"
     ]
    },
    {
     "name": "stderr",
     "output_type": "stream",
     "text": [
      "Train Epoch: 553/1001. Iter:   18/  18. Data: 0.066s. Batch: 0.116s. Loss: 0.6150.: 100%|█| 18/18 [00:02<00:00,  8.62it/s]\n"
     ]
    },
    {
     "name": "stdout",
     "output_type": "stream",
     "text": [
      "Global round: 553 | Average loss: 0.6150808533032736\n",
      "Global Round: 554\n"
     ]
    },
    {
     "name": "stderr",
     "output_type": "stream",
     "text": [
      "Train Epoch: 554/1001. Iter:   18/  18. Data: 0.060s. Batch: 0.109s. Loss: 0.6170.: 100%|█| 18/18 [00:01<00:00,  9.20it/s]\n"
     ]
    },
    {
     "name": "stdout",
     "output_type": "stream",
     "text": [
      "Global round: 554 | Average loss: 0.6135802533891466\n",
      "Global Round: 555\n"
     ]
    },
    {
     "name": "stderr",
     "output_type": "stream",
     "text": [
      "Train Epoch: 555/1001. Iter:   18/  18. Data: 0.063s. Batch: 0.113s. Loss: 0.6059.: 100%|█| 18/18 [00:02<00:00,  8.87it/s]\n"
     ]
    },
    {
     "name": "stdout",
     "output_type": "stream",
     "text": [
      "global epoch 556 saved\n",
      "Global round: 555 | Average loss: 0.6179992655913035\n",
      "Global Round: 556\n"
     ]
    },
    {
     "name": "stderr",
     "output_type": "stream",
     "text": [
      "Train Epoch: 556/1001. Iter:   18/  18. Data: 0.065s. Batch: 0.116s. Loss: 0.6174.: 100%|█| 18/18 [00:02<00:00,  9.00it/s]\n"
     ]
    },
    {
     "name": "stdout",
     "output_type": "stream",
     "text": [
      "Global round: 556 | Average loss: 0.6160169442494711\n",
      "Global Round: 557\n"
     ]
    },
    {
     "name": "stderr",
     "output_type": "stream",
     "text": [
      "Train Epoch: 557/1001. Iter:   18/  18. Data: 0.063s. Batch: 0.115s. Loss: 0.6255.: 100%|█| 18/18 [00:02<00:00,  8.69it/s]\n"
     ]
    },
    {
     "name": "stdout",
     "output_type": "stream",
     "text": [
      "Global round: 557 | Average loss: 0.6143923534287347\n",
      "Global Round: 558\n"
     ]
    },
    {
     "name": "stderr",
     "output_type": "stream",
     "text": [
      "Train Epoch: 558/1001. Iter:   18/  18. Data: 0.063s. Batch: 0.116s. Loss: 0.6106.: 100%|█| 18/18 [00:02<00:00,  8.65it/s]\n"
     ]
    },
    {
     "name": "stdout",
     "output_type": "stream",
     "text": [
      "Global round: 558 | Average loss: 0.6134379108746847\n",
      "Global Round: 559\n"
     ]
    },
    {
     "name": "stderr",
     "output_type": "stream",
     "text": [
      "Train Epoch: 559/1001. Iter:   18/  18. Data: 0.062s. Batch: 0.114s. Loss: 0.5952.: 100%|█| 18/18 [00:02<00:00,  8.78it/s]\n"
     ]
    },
    {
     "name": "stdout",
     "output_type": "stream",
     "text": [
      "Global round: 559 | Average loss: 0.6155643198225234\n",
      "Global Round: 560\n"
     ]
    },
    {
     "name": "stderr",
     "output_type": "stream",
     "text": [
      "Train Epoch: 560/1001. Iter:   18/  18. Data: 0.060s. Batch: 0.110s. Loss: 0.6096.: 100%|█| 18/18 [00:01<00:00,  9.08it/s]\n"
     ]
    },
    {
     "name": "stdout",
     "output_type": "stream",
     "text": [
      "global epoch 561 saved\n",
      "Global round: 560 | Average loss: 0.6182836029264662\n",
      "Global Round: 561\n"
     ]
    },
    {
     "name": "stderr",
     "output_type": "stream",
     "text": [
      "Train Epoch: 561/1001. Iter:   18/  18. Data: 0.063s. Batch: 0.115s. Loss: 0.6092.: 100%|█| 18/18 [00:02<00:00,  8.75it/s]\n"
     ]
    },
    {
     "name": "stdout",
     "output_type": "stream",
     "text": [
      "Global round: 561 | Average loss: 0.6120799581209818\n",
      "Global Round: 562\n"
     ]
    },
    {
     "name": "stderr",
     "output_type": "stream",
     "text": [
      "Train Epoch: 562/1001. Iter:   18/  18. Data: 0.060s. Batch: 0.112s. Loss: 0.6212.: 100%|█| 18/18 [00:02<00:00,  8.93it/s]\n"
     ]
    },
    {
     "name": "stdout",
     "output_type": "stream",
     "text": [
      "Global round: 562 | Average loss: 0.6119706564479404\n",
      "Global Round: 563\n"
     ]
    },
    {
     "name": "stderr",
     "output_type": "stream",
     "text": [
      "Train Epoch: 563/1001. Iter:   18/  18. Data: 0.063s. Batch: 0.117s. Loss: 0.6164.: 100%|█| 18/18 [00:02<00:00,  8.56it/s]\n"
     ]
    },
    {
     "name": "stdout",
     "output_type": "stream",
     "text": [
      "Global round: 563 | Average loss: 0.6123536990748512\n",
      "Global Round: 564\n"
     ]
    },
    {
     "name": "stderr",
     "output_type": "stream",
     "text": [
      "Train Epoch: 564/1001. Iter:   18/  18. Data: 0.057s. Batch: 0.109s. Loss: 0.6300.: 100%|█| 18/18 [00:01<00:00,  9.18it/s]\n"
     ]
    },
    {
     "name": "stdout",
     "output_type": "stream",
     "text": [
      "Global round: 564 | Average loss: 0.6088827815320756\n",
      "Global Round: 565\n"
     ]
    },
    {
     "name": "stderr",
     "output_type": "stream",
     "text": [
      "Train Epoch: 565/1001. Iter:   18/  18. Data: 0.059s. Batch: 0.111s. Loss: 0.6046.: 100%|█| 18/18 [00:01<00:00,  9.05it/s]\n"
     ]
    },
    {
     "name": "stdout",
     "output_type": "stream",
     "text": [
      "global epoch 566 saved\n",
      "Global round: 565 | Average loss: 0.6132710344261594\n",
      "Global Round: 566\n"
     ]
    },
    {
     "name": "stderr",
     "output_type": "stream",
     "text": [
      "Train Epoch: 566/1001. Iter:   18/  18. Data: 0.062s. Batch: 0.113s. Loss: 0.6264.: 100%|█| 18/18 [00:02<00:00,  8.87it/s]\n"
     ]
    },
    {
     "name": "stdout",
     "output_type": "stream",
     "text": [
      "Global round: 566 | Average loss: 0.6147074235810174\n",
      "Global Round: 567\n"
     ]
    },
    {
     "name": "stderr",
     "output_type": "stream",
     "text": [
      "Train Epoch: 567/1001. Iter:   18/  18. Data: 0.061s. Batch: 0.111s. Loss: 0.6115.: 100%|█| 18/18 [00:01<00:00,  9.05it/s]\n"
     ]
    },
    {
     "name": "stdout",
     "output_type": "stream",
     "text": [
      "Global round: 567 | Average loss: 0.6133850415547689\n",
      "Global Round: 568\n"
     ]
    },
    {
     "name": "stderr",
     "output_type": "stream",
     "text": [
      "Train Epoch: 568/1001. Iter:   18/  18. Data: 0.062s. Batch: 0.111s. Loss: 0.6207.: 100%|█| 18/18 [00:01<00:00,  9.00it/s]\n"
     ]
    },
    {
     "name": "stdout",
     "output_type": "stream",
     "text": [
      "Global round: 568 | Average loss: 0.6120372083452013\n",
      "Global Round: 569\n"
     ]
    },
    {
     "name": "stderr",
     "output_type": "stream",
     "text": [
      "Train Epoch: 569/1001. Iter:   18/  18. Data: 0.065s. Batch: 0.115s. Loss: 0.5905.: 100%|█| 18/18 [00:02<00:00,  8.73it/s]\n"
     ]
    },
    {
     "name": "stdout",
     "output_type": "stream",
     "text": [
      "Global round: 569 | Average loss: 0.6123847365379333\n",
      "Global Round: 570\n"
     ]
    },
    {
     "name": "stderr",
     "output_type": "stream",
     "text": [
      "Train Epoch: 570/1001. Iter:   18/  18. Data: 0.060s. Batch: 0.110s. Loss: 0.6266.: 100%|█| 18/18 [00:01<00:00,  9.06it/s]\n"
     ]
    },
    {
     "name": "stdout",
     "output_type": "stream",
     "text": [
      "global epoch 571 saved\n",
      "Global round: 570 | Average loss: 0.6109994881682925\n",
      "Global Round: 571\n"
     ]
    },
    {
     "name": "stderr",
     "output_type": "stream",
     "text": [
      "Train Epoch: 571/1001. Iter:   18/  18. Data: 0.062s. Batch: 0.113s. Loss: 0.6109.: 100%|█| 18/18 [00:02<00:00,  8.90it/s]\n"
     ]
    },
    {
     "name": "stdout",
     "output_type": "stream",
     "text": [
      "Global round: 571 | Average loss: 0.6099469827281104\n",
      "Global Round: 572\n"
     ]
    },
    {
     "name": "stderr",
     "output_type": "stream",
     "text": [
      "Train Epoch: 572/1001. Iter:   18/  18. Data: 0.060s. Batch: 0.112s. Loss: 0.6073.: 100%|█| 18/18 [00:02<00:00,  8.90it/s]\n"
     ]
    },
    {
     "name": "stdout",
     "output_type": "stream",
     "text": [
      "Global round: 572 | Average loss: 0.6133158405621847\n",
      "Global Round: 573\n"
     ]
    },
    {
     "name": "stderr",
     "output_type": "stream",
     "text": [
      "Train Epoch: 573/1001. Iter:   18/  18. Data: 0.058s. Batch: 0.108s. Loss: 0.6208.: 100%|█| 18/18 [00:01<00:00,  9.25it/s]\n"
     ]
    },
    {
     "name": "stdout",
     "output_type": "stream",
     "text": [
      "Global round: 573 | Average loss: 0.6069666379027896\n",
      "Global Round: 574\n"
     ]
    },
    {
     "name": "stderr",
     "output_type": "stream",
     "text": [
      "Train Epoch: 574/1001. Iter:   18/  18. Data: 0.065s. Batch: 0.118s. Loss: 0.6031.: 100%|█| 18/18 [00:02<00:00,  8.50it/s]\n"
     ]
    },
    {
     "name": "stdout",
     "output_type": "stream",
     "text": [
      "Global round: 574 | Average loss: 0.6073808703157637\n",
      "Global Round: 575\n"
     ]
    },
    {
     "name": "stderr",
     "output_type": "stream",
     "text": [
      "Train Epoch: 575/1001. Iter:   18/  18. Data: 0.063s. Batch: 0.113s. Loss: 0.6196.: 100%|█| 18/18 [00:02<00:00,  8.83it/s]\n"
     ]
    },
    {
     "name": "stdout",
     "output_type": "stream",
     "text": [
      "global epoch 576 saved\n",
      "Global round: 575 | Average loss: 0.6097783148288727\n",
      "Global Round: 576\n"
     ]
    },
    {
     "name": "stderr",
     "output_type": "stream",
     "text": [
      "Train Epoch: 576/1001. Iter:   18/  18. Data: 0.062s. Batch: 0.112s. Loss: 0.6035.: 100%|█| 18/18 [00:02<00:00,  8.91it/s]\n"
     ]
    },
    {
     "name": "stdout",
     "output_type": "stream",
     "text": [
      "Global round: 576 | Average loss: 0.6073832015196482\n",
      "Global Round: 577\n"
     ]
    },
    {
     "name": "stderr",
     "output_type": "stream",
     "text": [
      "Train Epoch: 577/1001. Iter:   18/  18. Data: 0.064s. Batch: 0.112s. Loss: 0.6290.: 100%|█| 18/18 [00:02<00:00,  8.87it/s]\n"
     ]
    },
    {
     "name": "stdout",
     "output_type": "stream",
     "text": [
      "Global round: 577 | Average loss: 0.6051928367879655\n",
      "Global Round: 578\n"
     ]
    },
    {
     "name": "stderr",
     "output_type": "stream",
     "text": [
      "Train Epoch: 578/1001. Iter:   18/  18. Data: 0.063s. Batch: 0.113s. Loss: 0.5983.: 100%|█| 18/18 [00:02<00:00,  8.92it/s]\n"
     ]
    },
    {
     "name": "stdout",
     "output_type": "stream",
     "text": [
      "Global round: 578 | Average loss: 0.6094329787625207\n",
      "Global Round: 579\n"
     ]
    },
    {
     "name": "stderr",
     "output_type": "stream",
     "text": [
      "Train Epoch: 579/1001. Iter:   18/  18. Data: 0.063s. Batch: 0.111s. Loss: 0.5994.: 100%|█| 18/18 [00:02<00:00,  8.99it/s]\n"
     ]
    },
    {
     "name": "stdout",
     "output_type": "stream",
     "text": [
      "Global round: 579 | Average loss: 0.6082829336325327\n",
      "Global Round: 580\n"
     ]
    },
    {
     "name": "stderr",
     "output_type": "stream",
     "text": [
      "Train Epoch: 580/1001. Iter:   18/  18. Data: 0.060s. Batch: 0.109s. Loss: 0.5795.: 100%|█| 18/18 [00:01<00:00,  9.21it/s]\n"
     ]
    },
    {
     "name": "stdout",
     "output_type": "stream",
     "text": [
      "global epoch 581 saved\n",
      "Global round: 580 | Average loss: 0.6066537499427795\n",
      "Global Round: 581\n"
     ]
    },
    {
     "name": "stderr",
     "output_type": "stream",
     "text": [
      "Train Epoch: 581/1001. Iter:   18/  18. Data: 0.061s. Batch: 0.113s. Loss: 0.6033.: 100%|█| 18/18 [00:02<00:00,  8.86it/s]\n"
     ]
    },
    {
     "name": "stdout",
     "output_type": "stream",
     "text": [
      "Global round: 581 | Average loss: 0.6072969569100274\n",
      "Global Round: 582\n"
     ]
    },
    {
     "name": "stderr",
     "output_type": "stream",
     "text": [
      "Train Epoch: 582/1001. Iter:   18/  18. Data: 0.062s. Batch: 0.115s. Loss: 0.5904.: 100%|█| 18/18 [00:02<00:00,  8.71it/s]\n"
     ]
    },
    {
     "name": "stdout",
     "output_type": "stream",
     "text": [
      "Global round: 582 | Average loss: 0.6032766269312965\n",
      "Global Round: 583\n"
     ]
    },
    {
     "name": "stderr",
     "output_type": "stream",
     "text": [
      "Train Epoch: 583/1001. Iter:   18/  18. Data: 0.060s. Batch: 0.110s. Loss: 0.6037.: 100%|█| 18/18 [00:01<00:00,  9.08it/s]\n"
     ]
    },
    {
     "name": "stdout",
     "output_type": "stream",
     "text": [
      "Global round: 583 | Average loss: 0.605561054415173\n",
      "Global Round: 584\n"
     ]
    },
    {
     "name": "stderr",
     "output_type": "stream",
     "text": [
      "Train Epoch: 584/1001. Iter:   18/  18. Data: 0.059s. Batch: 0.110s. Loss: 0.6304.: 100%|█| 18/18 [00:01<00:00,  9.13it/s]\n"
     ]
    },
    {
     "name": "stdout",
     "output_type": "stream",
     "text": [
      "Global round: 584 | Average loss: 0.6093003948529562\n",
      "Global Round: 585\n"
     ]
    },
    {
     "name": "stderr",
     "output_type": "stream",
     "text": [
      "Train Epoch: 585/1001. Iter:   18/  18. Data: 0.062s. Batch: 0.115s. Loss: 0.6101.: 100%|█| 18/18 [00:02<00:00,  8.70it/s]\n"
     ]
    },
    {
     "name": "stdout",
     "output_type": "stream",
     "text": [
      "global epoch 586 saved\n",
      "Global round: 585 | Average loss: 0.6047282881206937\n",
      "Global Round: 586\n"
     ]
    },
    {
     "name": "stderr",
     "output_type": "stream",
     "text": [
      "Train Epoch: 586/1001. Iter:   18/  18. Data: 0.063s. Batch: 0.113s. Loss: 0.6340.: 100%|█| 18/18 [00:02<00:00,  8.89it/s]\n"
     ]
    },
    {
     "name": "stdout",
     "output_type": "stream",
     "text": [
      "Global round: 586 | Average loss: 0.612091600894928\n",
      "Global Round: 587\n"
     ]
    },
    {
     "name": "stderr",
     "output_type": "stream",
     "text": [
      "Train Epoch: 587/1001. Iter:   18/  18. Data: 0.061s. Batch: 0.115s. Loss: 0.6161.: 100%|█| 18/18 [00:02<00:00,  8.71it/s]\n"
     ]
    },
    {
     "name": "stdout",
     "output_type": "stream",
     "text": [
      "Global round: 587 | Average loss: 0.6102664503786299\n",
      "Global Round: 588\n"
     ]
    },
    {
     "name": "stderr",
     "output_type": "stream",
     "text": [
      "Train Epoch: 588/1001. Iter:   18/  18. Data: 0.059s. Batch: 0.111s. Loss: 0.5963.: 100%|█| 18/18 [00:01<00:00,  9.06it/s]\n"
     ]
    },
    {
     "name": "stdout",
     "output_type": "stream",
     "text": [
      "Global round: 588 | Average loss: 0.6056526005268097\n",
      "Global Round: 589\n"
     ]
    },
    {
     "name": "stderr",
     "output_type": "stream",
     "text": [
      "Train Epoch: 589/1001. Iter:   18/  18. Data: 0.057s. Batch: 0.108s. Loss: 0.6203.: 100%|█| 18/18 [00:01<00:00,  9.27it/s]\n"
     ]
    },
    {
     "name": "stdout",
     "output_type": "stream",
     "text": [
      "Global round: 589 | Average loss: 0.6089455220434401\n",
      "Global Round: 590\n"
     ]
    },
    {
     "name": "stderr",
     "output_type": "stream",
     "text": [
      "Train Epoch: 590/1001. Iter:   18/  18. Data: 0.058s. Batch: 0.112s. Loss: 0.5940.: 100%|█| 18/18 [00:02<00:00,  8.94it/s]\n"
     ]
    },
    {
     "name": "stdout",
     "output_type": "stream",
     "text": [
      "global epoch 591 saved\n",
      "Global round: 590 | Average loss: 0.607173826959398\n",
      "Global Round: 591\n"
     ]
    },
    {
     "name": "stderr",
     "output_type": "stream",
     "text": [
      "Train Epoch: 591/1001. Iter:   18/  18. Data: 0.061s. Batch: 0.113s. Loss: 0.6019.: 100%|█| 18/18 [00:02<00:00,  8.87it/s]\n"
     ]
    },
    {
     "name": "stdout",
     "output_type": "stream",
     "text": [
      "Global round: 591 | Average loss: 0.6093762086497413\n",
      "Global Round: 592\n"
     ]
    },
    {
     "name": "stderr",
     "output_type": "stream",
     "text": [
      "Train Epoch: 592/1001. Iter:   18/  18. Data: 0.061s. Batch: 0.113s. Loss: 0.6129.: 100%|█| 18/18 [00:02<00:00,  8.85it/s]\n"
     ]
    },
    {
     "name": "stdout",
     "output_type": "stream",
     "text": [
      "Global round: 592 | Average loss: 0.6094181074036492\n",
      "Global Round: 593\n"
     ]
    },
    {
     "name": "stderr",
     "output_type": "stream",
     "text": [
      "Train Epoch: 593/1001. Iter:   18/  18. Data: 0.064s. Batch: 0.114s. Loss: 0.5956.: 100%|█| 18/18 [00:02<00:00,  8.77it/s]\n"
     ]
    },
    {
     "name": "stdout",
     "output_type": "stream",
     "text": [
      "Global round: 593 | Average loss: 0.6077921258078681\n",
      "Global Round: 594\n"
     ]
    },
    {
     "name": "stderr",
     "output_type": "stream",
     "text": [
      "Train Epoch: 594/1001. Iter:   18/  18. Data: 0.059s. Batch: 0.109s. Loss: 0.5965.: 100%|█| 18/18 [00:01<00:00,  9.19it/s]\n"
     ]
    },
    {
     "name": "stdout",
     "output_type": "stream",
     "text": [
      "Global round: 594 | Average loss: 0.6105318731731839\n",
      "Global Round: 595\n"
     ]
    },
    {
     "name": "stderr",
     "output_type": "stream",
     "text": [
      "Train Epoch: 595/1001. Iter:   18/  18. Data: 0.062s. Batch: 0.111s. Loss: 0.6136.: 100%|█| 18/18 [00:01<00:00,  9.01it/s]\n"
     ]
    },
    {
     "name": "stdout",
     "output_type": "stream",
     "text": [
      "global epoch 596 saved\n",
      "Global round: 595 | Average loss: 0.6078196201059554\n",
      "Global Round: 596\n"
     ]
    },
    {
     "name": "stderr",
     "output_type": "stream",
     "text": [
      "Train Epoch: 596/1001. Iter:   18/  18. Data: 0.059s. Batch: 0.110s. Loss: 0.6077.: 100%|█| 18/18 [00:01<00:00,  9.18it/s]\n"
     ]
    },
    {
     "name": "stdout",
     "output_type": "stream",
     "text": [
      "Global round: 596 | Average loss: 0.6086875034703149\n",
      "Global Round: 597\n"
     ]
    },
    {
     "name": "stderr",
     "output_type": "stream",
     "text": [
      "Train Epoch: 597/1001. Iter:   18/  18. Data: 0.061s. Batch: 0.112s. Loss: 0.6005.: 100%|█| 18/18 [00:02<00:00,  8.92it/s]\n"
     ]
    },
    {
     "name": "stdout",
     "output_type": "stream",
     "text": [
      "Global round: 597 | Average loss: 0.609070337480969\n",
      "Global Round: 598\n"
     ]
    },
    {
     "name": "stderr",
     "output_type": "stream",
     "text": [
      "Train Epoch: 598/1001. Iter:   18/  18. Data: 0.063s. Batch: 0.116s. Loss: 0.6134.: 100%|█| 18/18 [00:02<00:00,  8.61it/s]\n"
     ]
    },
    {
     "name": "stdout",
     "output_type": "stream",
     "text": [
      "Global round: 598 | Average loss: 0.6144632630878024\n",
      "Global Round: 599\n"
     ]
    },
    {
     "name": "stderr",
     "output_type": "stream",
     "text": [
      "Train Epoch: 599/1001. Iter:   18/  18. Data: 0.061s. Batch: 0.113s. Loss: 0.6027.: 100%|█| 18/18 [00:02<00:00,  8.84it/s]\n"
     ]
    },
    {
     "name": "stdout",
     "output_type": "stream",
     "text": [
      "Global round: 599 | Average loss: 0.6031927499506209\n",
      "Global Round: 600\n"
     ]
    },
    {
     "name": "stderr",
     "output_type": "stream",
     "text": [
      "Train Epoch: 600/1001. Iter:   18/  18. Data: 0.059s. Batch: 0.111s. Loss: 0.6054.: 100%|█| 18/18 [00:01<00:00,  9.02it/s]\n"
     ]
    },
    {
     "name": "stdout",
     "output_type": "stream",
     "text": [
      "global epoch 601 saved\n",
      "Global round: 600 | Average loss: 0.6063261131445566\n",
      "Global Round: 601\n"
     ]
    },
    {
     "name": "stderr",
     "output_type": "stream",
     "text": [
      "Train Epoch: 601/1001. Iter:   18/  18. Data: 0.065s. Batch: 0.117s. Loss: 0.6056.: 100%|█| 18/18 [00:02<00:00,  8.60it/s]\n"
     ]
    },
    {
     "name": "stdout",
     "output_type": "stream",
     "text": [
      "Global round: 601 | Average loss: 0.6082961327499814\n",
      "Global Round: 602\n"
     ]
    },
    {
     "name": "stderr",
     "output_type": "stream",
     "text": [
      "Train Epoch: 602/1001. Iter:   18/  18. Data: 0.062s. Batch: 0.110s. Loss: 0.6273.: 100%|█| 18/18 [00:01<00:00,  9.01it/s]\n"
     ]
    },
    {
     "name": "stdout",
     "output_type": "stream",
     "text": [
      "Global round: 602 | Average loss: 0.6072178814146254\n",
      "Global Round: 603\n"
     ]
    },
    {
     "name": "stderr",
     "output_type": "stream",
     "text": [
      "Train Epoch: 603/1001. Iter:   18/  18. Data: 0.064s. Batch: 0.114s. Loss: 0.5991.: 100%|█| 18/18 [00:02<00:00,  8.79it/s]\n"
     ]
    },
    {
     "name": "stdout",
     "output_type": "stream",
     "text": [
      "Global round: 603 | Average loss: 0.605545891655816\n",
      "Global Round: 604\n"
     ]
    },
    {
     "name": "stderr",
     "output_type": "stream",
     "text": [
      "Train Epoch: 604/1001. Iter:   18/  18. Data: 0.064s. Batch: 0.114s. Loss: 0.6080.: 100%|█| 18/18 [00:02<00:00,  8.81it/s]\n"
     ]
    },
    {
     "name": "stdout",
     "output_type": "stream",
     "text": [
      "Global round: 604 | Average loss: 0.6055147217379676\n",
      "Global Round: 605\n"
     ]
    },
    {
     "name": "stderr",
     "output_type": "stream",
     "text": [
      "Train Epoch: 605/1001. Iter:   18/  18. Data: 0.063s. Batch: 0.112s. Loss: 0.6150.: 100%|█| 18/18 [00:02<00:00,  8.88it/s]\n"
     ]
    },
    {
     "name": "stdout",
     "output_type": "stream",
     "text": [
      "global epoch 606 saved\n",
      "Global round: 605 | Average loss: 0.604211711221271\n",
      "Global Round: 606\n"
     ]
    },
    {
     "name": "stderr",
     "output_type": "stream",
     "text": [
      "Train Epoch: 606/1001. Iter:   18/  18. Data: 0.064s. Batch: 0.117s. Loss: 0.5972.: 100%|█| 18/18 [00:02<00:00,  8.63it/s]\n"
     ]
    },
    {
     "name": "stdout",
     "output_type": "stream",
     "text": [
      "Global round: 606 | Average loss: 0.6073356933063931\n",
      "Global Round: 607\n"
     ]
    },
    {
     "name": "stderr",
     "output_type": "stream",
     "text": [
      "Train Epoch: 607/1001. Iter:   18/  18. Data: 0.059s. Batch: 0.108s. Loss: 0.5963.: 100%|█| 18/18 [00:01<00:00,  9.26it/s]\n"
     ]
    },
    {
     "name": "stdout",
     "output_type": "stream",
     "text": [
      "Global round: 607 | Average loss: 0.6031535565853119\n",
      "Global Round: 608\n"
     ]
    },
    {
     "name": "stderr",
     "output_type": "stream",
     "text": [
      "Train Epoch: 608/1001. Iter:   18/  18. Data: 0.062s. Batch: 0.113s. Loss: 0.5914.: 100%|█| 18/18 [00:02<00:00,  8.81it/s]\n"
     ]
    },
    {
     "name": "stdout",
     "output_type": "stream",
     "text": [
      "Global round: 608 | Average loss: 0.6024876038233439\n",
      "Global Round: 609\n"
     ]
    },
    {
     "name": "stderr",
     "output_type": "stream",
     "text": [
      "Train Epoch: 609/1001. Iter:   18/  18. Data: 0.061s. Batch: 0.111s. Loss: 0.6125.: 100%|█| 18/18 [00:01<00:00,  9.07it/s]\n"
     ]
    },
    {
     "name": "stdout",
     "output_type": "stream",
     "text": [
      "Global round: 609 | Average loss: 0.6037733952204386\n",
      "Global Round: 610\n"
     ]
    },
    {
     "name": "stderr",
     "output_type": "stream",
     "text": [
      "Train Epoch: 610/1001. Iter:   18/  18. Data: 0.063s. Batch: 0.114s. Loss: 0.6002.: 100%|█| 18/18 [00:02<00:00,  8.74it/s]\n"
     ]
    },
    {
     "name": "stdout",
     "output_type": "stream",
     "text": [
      "global epoch 611 saved\n",
      "Global round: 610 | Average loss: 0.6026438507768843\n",
      "Global Round: 611\n"
     ]
    },
    {
     "name": "stderr",
     "output_type": "stream",
     "text": [
      "Train Epoch: 611/1001. Iter:   18/  18. Data: 0.061s. Batch: 0.114s. Loss: 0.5963.: 100%|█| 18/18 [00:02<00:00,  8.82it/s]\n"
     ]
    },
    {
     "name": "stdout",
     "output_type": "stream",
     "text": [
      "Global round: 611 | Average loss: 0.6040582756201426\n",
      "Global Round: 612\n"
     ]
    },
    {
     "name": "stderr",
     "output_type": "stream",
     "text": [
      "Train Epoch: 612/1001. Iter:   18/  18. Data: 0.062s. Batch: 0.114s. Loss: 0.5848.: 100%|█| 18/18 [00:02<00:00,  8.80it/s]\n"
     ]
    },
    {
     "name": "stdout",
     "output_type": "stream",
     "text": [
      "Global round: 612 | Average loss: 0.6048599051104652\n",
      "Global Round: 613\n"
     ]
    },
    {
     "name": "stderr",
     "output_type": "stream",
     "text": [
      "Train Epoch: 613/1001. Iter:   18/  18. Data: 0.058s. Batch: 0.110s. Loss: 0.6074.: 100%|█| 18/18 [00:01<00:00,  9.09it/s]\n"
     ]
    },
    {
     "name": "stdout",
     "output_type": "stream",
     "text": [
      "Global round: 613 | Average loss: 0.6006390551726023\n",
      "Global Round: 614\n"
     ]
    },
    {
     "name": "stderr",
     "output_type": "stream",
     "text": [
      "Train Epoch: 614/1001. Iter:   18/  18. Data: 0.058s. Batch: 0.112s. Loss: 0.6000.: 100%|█| 18/18 [00:02<00:00,  8.92it/s]\n"
     ]
    },
    {
     "name": "stdout",
     "output_type": "stream",
     "text": [
      "Global round: 614 | Average loss: 0.5980352097087436\n",
      "Global Round: 615\n"
     ]
    },
    {
     "name": "stderr",
     "output_type": "stream",
     "text": [
      "Train Epoch: 615/1001. Iter:   18/  18. Data: 0.057s. Batch: 0.109s. Loss: 0.5970.: 100%|█| 18/18 [00:01<00:00,  9.18it/s]\n"
     ]
    },
    {
     "name": "stdout",
     "output_type": "stream",
     "text": [
      "global epoch 616 saved\n",
      "Global round: 615 | Average loss: 0.6027783883942498\n",
      "Global Round: 616\n"
     ]
    },
    {
     "name": "stderr",
     "output_type": "stream",
     "text": [
      "Train Epoch: 616/1001. Iter:   18/  18. Data: 0.062s. Batch: 0.113s. Loss: 0.5943.: 100%|█| 18/18 [00:02<00:00,  8.93it/s]\n"
     ]
    },
    {
     "name": "stdout",
     "output_type": "stream",
     "text": [
      "Global round: 616 | Average loss: 0.6023953027195401\n",
      "Global Round: 617\n"
     ]
    },
    {
     "name": "stderr",
     "output_type": "stream",
     "text": [
      "Train Epoch: 617/1001. Iter:   18/  18. Data: 0.063s. Batch: 0.114s. Loss: 0.6002.: 100%|█| 18/18 [00:02<00:00,  8.76it/s]\n"
     ]
    },
    {
     "name": "stdout",
     "output_type": "stream",
     "text": [
      "Global round: 617 | Average loss: 0.6006371180216471\n",
      "Global Round: 618\n"
     ]
    },
    {
     "name": "stderr",
     "output_type": "stream",
     "text": [
      "Train Epoch: 618/1001. Iter:   18/  18. Data: 0.062s. Batch: 0.113s. Loss: 0.5996.: 100%|█| 18/18 [00:02<00:00,  8.85it/s]\n"
     ]
    },
    {
     "name": "stdout",
     "output_type": "stream",
     "text": [
      "Global round: 618 | Average loss: 0.6004505587948693\n",
      "Global Round: 619\n"
     ]
    },
    {
     "name": "stderr",
     "output_type": "stream",
     "text": [
      "Train Epoch: 619/1001. Iter:   18/  18. Data: 0.066s. Batch: 0.117s. Loss: 0.6264.: 100%|█| 18/18 [00:02<00:00,  8.56it/s]\n"
     ]
    },
    {
     "name": "stdout",
     "output_type": "stream",
     "text": [
      "Global round: 619 | Average loss: 0.6007631189293332\n",
      "Global Round: 620\n"
     ]
    },
    {
     "name": "stderr",
     "output_type": "stream",
     "text": [
      "Train Epoch: 620/1001. Iter:   18/  18. Data: 0.059s. Batch: 0.108s. Loss: 0.6429.: 100%|█| 18/18 [00:01<00:00,  9.24it/s]\n"
     ]
    },
    {
     "name": "stdout",
     "output_type": "stream",
     "text": [
      "global epoch 621 saved\n",
      "Global round: 620 | Average loss: 0.6009303397602506\n",
      "Global Round: 621\n"
     ]
    },
    {
     "name": "stderr",
     "output_type": "stream",
     "text": [
      "Train Epoch: 621/1001. Iter:   18/  18. Data: 0.063s. Batch: 0.112s. Loss: 0.5836.: 100%|█| 18/18 [00:02<00:00,  8.98it/s]\n"
     ]
    },
    {
     "name": "stdout",
     "output_type": "stream",
     "text": [
      "Global round: 621 | Average loss: 0.6008334126737382\n",
      "Global Round: 622\n"
     ]
    },
    {
     "name": "stderr",
     "output_type": "stream",
     "text": [
      "Train Epoch: 622/1001. Iter:   18/  18. Data: 0.060s. Batch: 0.113s. Loss: 0.6175.: 100%|█| 18/18 [00:02<00:00,  8.87it/s]\n"
     ]
    },
    {
     "name": "stdout",
     "output_type": "stream",
     "text": [
      "Global round: 622 | Average loss: 0.5976621078120338\n",
      "Global Round: 623\n"
     ]
    },
    {
     "name": "stderr",
     "output_type": "stream",
     "text": [
      "Train Epoch: 623/1001. Iter:   18/  18. Data: 0.063s. Batch: 0.115s. Loss: 0.5940.: 100%|█| 18/18 [00:02<00:00,  8.67it/s]\n"
     ]
    },
    {
     "name": "stdout",
     "output_type": "stream",
     "text": [
      "Global round: 623 | Average loss: 0.593624257379108\n",
      "Global Round: 624\n"
     ]
    },
    {
     "name": "stderr",
     "output_type": "stream",
     "text": [
      "Train Epoch: 624/1001. Iter:   18/  18. Data: 0.060s. Batch: 0.114s. Loss: 0.5911.: 100%|█| 18/18 [00:02<00:00,  8.84it/s]\n"
     ]
    },
    {
     "name": "stdout",
     "output_type": "stream",
     "text": [
      "Global round: 624 | Average loss: 0.5951449109448327\n",
      "Global Round: 625\n"
     ]
    },
    {
     "name": "stderr",
     "output_type": "stream",
     "text": [
      "Train Epoch: 625/1001. Iter:   18/  18. Data: 0.062s. Batch: 0.116s. Loss: 0.6138.: 100%|█| 18/18 [00:02<00:00,  8.63it/s]\n"
     ]
    },
    {
     "name": "stdout",
     "output_type": "stream",
     "text": [
      "global epoch 626 saved\n",
      "Global round: 625 | Average loss: 0.5958775844838884\n",
      "Global Round: 626\n"
     ]
    },
    {
     "name": "stderr",
     "output_type": "stream",
     "text": [
      "Train Epoch: 626/1001. Iter:   18/  18. Data: 0.062s. Batch: 0.114s. Loss: 0.5838.: 100%|█| 18/18 [00:02<00:00,  8.84it/s]\n"
     ]
    },
    {
     "name": "stdout",
     "output_type": "stream",
     "text": [
      "Global round: 626 | Average loss: 0.6012235449420081\n",
      "Global Round: 627\n"
     ]
    },
    {
     "name": "stderr",
     "output_type": "stream",
     "text": [
      "Train Epoch: 627/1001. Iter:   18/  18. Data: 0.064s. Batch: 0.114s. Loss: 0.6081.: 100%|█| 18/18 [00:02<00:00,  8.82it/s]\n"
     ]
    },
    {
     "name": "stdout",
     "output_type": "stream",
     "text": [
      "Global round: 627 | Average loss: 0.6006280713611178\n",
      "Global Round: 628\n"
     ]
    },
    {
     "name": "stderr",
     "output_type": "stream",
     "text": [
      "Train Epoch: 628/1001. Iter:   18/  18. Data: 0.062s. Batch: 0.111s. Loss: 0.6192.: 100%|█| 18/18 [00:02<00:00,  8.98it/s]\n"
     ]
    },
    {
     "name": "stdout",
     "output_type": "stream",
     "text": [
      "Global round: 628 | Average loss: 0.6003403067588806\n",
      "Global Round: 629\n"
     ]
    },
    {
     "name": "stderr",
     "output_type": "stream",
     "text": [
      "Train Epoch: 629/1001. Iter:   18/  18. Data: 0.062s. Batch: 0.110s. Loss: 0.6136.: 100%|█| 18/18 [00:01<00:00,  9.08it/s]\n"
     ]
    },
    {
     "name": "stdout",
     "output_type": "stream",
     "text": [
      "Global round: 629 | Average loss: 0.6035385363631778\n",
      "Global Round: 630\n"
     ]
    },
    {
     "name": "stderr",
     "output_type": "stream",
     "text": [
      "Train Epoch: 630/1001. Iter:   18/  18. Data: 0.065s. Batch: 0.114s. Loss: 0.6115.: 100%|█| 18/18 [00:02<00:00,  8.77it/s]\n"
     ]
    },
    {
     "name": "stdout",
     "output_type": "stream",
     "text": [
      "global epoch 631 saved\n",
      "Global round: 630 | Average loss: 0.5962973038355509\n",
      "Global Round: 631\n"
     ]
    },
    {
     "name": "stderr",
     "output_type": "stream",
     "text": [
      "Train Epoch: 631/1001. Iter:   18/  18. Data: 0.062s. Batch: 0.112s. Loss: 0.5976.: 100%|█| 18/18 [00:02<00:00,  8.97it/s]\n"
     ]
    },
    {
     "name": "stdout",
     "output_type": "stream",
     "text": [
      "Global round: 631 | Average loss: 0.6022528145048354\n",
      "Global Round: 632\n"
     ]
    },
    {
     "name": "stderr",
     "output_type": "stream",
     "text": [
      "Train Epoch: 632/1001. Iter:   18/  18. Data: 0.063s. Batch: 0.114s. Loss: 0.6052.: 100%|█| 18/18 [00:02<00:00,  8.76it/s]\n"
     ]
    },
    {
     "name": "stdout",
     "output_type": "stream",
     "text": [
      "Global round: 632 | Average loss: 0.6022255453798506\n",
      "Global Round: 633\n"
     ]
    },
    {
     "name": "stderr",
     "output_type": "stream",
     "text": [
      "Train Epoch: 633/1001. Iter:   18/  18. Data: 0.059s. Batch: 0.109s. Loss: 0.5995.: 100%|█| 18/18 [00:01<00:00,  9.20it/s]\n"
     ]
    },
    {
     "name": "stdout",
     "output_type": "stream",
     "text": [
      "Global round: 633 | Average loss: 0.6023153762022654\n",
      "Global Round: 634\n"
     ]
    },
    {
     "name": "stderr",
     "output_type": "stream",
     "text": [
      "Train Epoch: 634/1001. Iter:   18/  18. Data: 0.060s. Batch: 0.110s. Loss: 0.6025.: 100%|█| 18/18 [00:01<00:00,  9.11it/s]\n"
     ]
    },
    {
     "name": "stdout",
     "output_type": "stream",
     "text": [
      "Global round: 634 | Average loss: 0.5985646380318536\n",
      "Global Round: 635\n"
     ]
    },
    {
     "name": "stderr",
     "output_type": "stream",
     "text": [
      "Train Epoch: 635/1001. Iter:   18/  18. Data: 0.062s. Batch: 0.113s. Loss: 0.6053.: 100%|█| 18/18 [00:02<00:00,  8.85it/s]\n"
     ]
    },
    {
     "name": "stdout",
     "output_type": "stream",
     "text": [
      "global epoch 636 saved\n",
      "Global round: 635 | Average loss: 0.5970315039157867\n",
      "Global Round: 636\n"
     ]
    },
    {
     "name": "stderr",
     "output_type": "stream",
     "text": [
      "Train Epoch: 636/1001. Iter:   18/  18. Data: 0.063s. Batch: 0.114s. Loss: 0.5969.: 100%|█| 18/18 [00:02<00:00,  8.87it/s]\n"
     ]
    },
    {
     "name": "stdout",
     "output_type": "stream",
     "text": [
      "Global round: 636 | Average loss: 0.5984445148044162\n",
      "Global Round: 637\n"
     ]
    },
    {
     "name": "stderr",
     "output_type": "stream",
     "text": [
      "Train Epoch: 637/1001. Iter:   18/  18. Data: 0.059s. Batch: 0.112s. Loss: 0.6071.: 100%|█| 18/18 [00:02<00:00,  8.93it/s]\n"
     ]
    },
    {
     "name": "stdout",
     "output_type": "stream",
     "text": [
      "Global round: 637 | Average loss: 0.6037720971637301\n",
      "Global Round: 638\n"
     ]
    },
    {
     "name": "stderr",
     "output_type": "stream",
     "text": [
      "Train Epoch: 638/1001. Iter:   18/  18. Data: 0.058s. Batch: 0.110s. Loss: 0.5828.: 100%|█| 18/18 [00:01<00:00,  9.12it/s]\n"
     ]
    },
    {
     "name": "stdout",
     "output_type": "stream",
     "text": [
      "Global round: 638 | Average loss: 0.6027080416679382\n",
      "Global Round: 639\n"
     ]
    },
    {
     "name": "stderr",
     "output_type": "stream",
     "text": [
      "Train Epoch: 639/1001. Iter:   18/  18. Data: 0.058s. Batch: 0.110s. Loss: 0.5816.: 100%|█| 18/18 [00:01<00:00,  9.07it/s]\n"
     ]
    },
    {
     "name": "stdout",
     "output_type": "stream",
     "text": [
      "Global round: 639 | Average loss: 0.597875005669064\n",
      "Global Round: 640\n"
     ]
    },
    {
     "name": "stderr",
     "output_type": "stream",
     "text": [
      "Train Epoch: 640/1001. Iter:   18/  18. Data: 0.058s. Batch: 0.112s. Loss: 0.6002.: 100%|█| 18/18 [00:02<00:00,  8.99it/s]\n"
     ]
    },
    {
     "name": "stdout",
     "output_type": "stream",
     "text": [
      "global epoch 641 saved\n",
      "Global round: 640 | Average loss: 0.6028650138113234\n",
      "Global Round: 641\n"
     ]
    },
    {
     "name": "stderr",
     "output_type": "stream",
     "text": [
      "Train Epoch: 641/1001. Iter:   18/  18. Data: 0.061s. Batch: 0.112s. Loss: 0.6163.: 100%|█| 18/18 [00:01<00:00,  9.03it/s]\n"
     ]
    },
    {
     "name": "stdout",
     "output_type": "stream",
     "text": [
      "Global round: 641 | Average loss: 0.6044636136955686\n",
      "Global Round: 642\n"
     ]
    },
    {
     "name": "stderr",
     "output_type": "stream",
     "text": [
      "Train Epoch: 642/1001. Iter:   18/  18. Data: 0.064s. Batch: 0.115s. Loss: 0.5960.: 100%|█| 18/18 [00:02<00:00,  8.73it/s]\n"
     ]
    },
    {
     "name": "stdout",
     "output_type": "stream",
     "text": [
      "Global round: 642 | Average loss: 0.6019100414382087\n",
      "Global Round: 643\n"
     ]
    },
    {
     "name": "stderr",
     "output_type": "stream",
     "text": [
      "Train Epoch: 643/1001. Iter:   18/  18. Data: 0.064s. Batch: 0.113s. Loss: 0.6062.: 100%|█| 18/18 [00:02<00:00,  8.84it/s]\n"
     ]
    },
    {
     "name": "stdout",
     "output_type": "stream",
     "text": [
      "Global round: 643 | Average loss: 0.6036594543192122\n",
      "Global Round: 644\n"
     ]
    },
    {
     "name": "stderr",
     "output_type": "stream",
     "text": [
      "Train Epoch: 644/1001. Iter:   18/  18. Data: 0.061s. Batch: 0.110s. Loss: 0.5870.: 100%|█| 18/18 [00:01<00:00,  9.09it/s]\n"
     ]
    },
    {
     "name": "stdout",
     "output_type": "stream",
     "text": [
      "Global round: 644 | Average loss: 0.6024664640426636\n",
      "Global Round: 645\n"
     ]
    },
    {
     "name": "stderr",
     "output_type": "stream",
     "text": [
      "Train Epoch: 645/1001. Iter:   18/  18. Data: 0.063s. Batch: 0.113s. Loss: 0.6001.: 100%|█| 18/18 [00:02<00:00,  8.84it/s]\n"
     ]
    },
    {
     "name": "stdout",
     "output_type": "stream",
     "text": [
      "global epoch 646 saved\n",
      "Global round: 645 | Average loss: 0.6012280152903663\n",
      "Global Round: 646\n"
     ]
    },
    {
     "name": "stderr",
     "output_type": "stream",
     "text": [
      "Train Epoch: 646/1001. Iter:   18/  18. Data: 0.062s. Batch: 0.111s. Loss: 0.6044.: 100%|█| 18/18 [00:01<00:00,  9.03it/s]\n"
     ]
    },
    {
     "name": "stdout",
     "output_type": "stream",
     "text": [
      "Global round: 646 | Average loss: 0.6002960304419199\n",
      "Global Round: 647\n"
     ]
    },
    {
     "name": "stderr",
     "output_type": "stream",
     "text": [
      "Train Epoch: 647/1001. Iter:   18/  18. Data: 0.060s. Batch: 0.110s. Loss: 0.6029.: 100%|█| 18/18 [00:01<00:00,  9.12it/s]\n"
     ]
    },
    {
     "name": "stdout",
     "output_type": "stream",
     "text": [
      "Global round: 647 | Average loss: 0.6002332203918033\n",
      "Global Round: 648\n"
     ]
    },
    {
     "name": "stderr",
     "output_type": "stream",
     "text": [
      "Train Epoch: 648/1001. Iter:   18/  18. Data: 0.061s. Batch: 0.113s. Loss: 0.6137.: 100%|█| 18/18 [00:02<00:00,  8.84it/s]\n"
     ]
    },
    {
     "name": "stdout",
     "output_type": "stream",
     "text": [
      "Global round: 648 | Average loss: 0.5959585905075073\n",
      "Global Round: 649\n"
     ]
    },
    {
     "name": "stderr",
     "output_type": "stream",
     "text": [
      "Train Epoch: 649/1001. Iter:   18/  18. Data: 0.068s. Batch: 0.123s. Loss: 0.5909.: 100%|█| 18/18 [00:02<00:00,  8.13it/s]\n"
     ]
    },
    {
     "name": "stdout",
     "output_type": "stream",
     "text": [
      "Global round: 649 | Average loss: 0.5996855199337006\n",
      "Global Round: 650\n"
     ]
    },
    {
     "name": "stderr",
     "output_type": "stream",
     "text": [
      "Train Epoch: 650/1001. Iter:   18/  18. Data: 0.060s. Batch: 0.110s. Loss: 0.5952.: 100%|█| 18/18 [00:01<00:00,  9.07it/s]\n"
     ]
    },
    {
     "name": "stdout",
     "output_type": "stream",
     "text": [
      "global epoch 651 saved\n",
      "Global round: 650 | Average loss: 0.5966503487692939\n",
      "Global Round: 651\n"
     ]
    },
    {
     "name": "stderr",
     "output_type": "stream",
     "text": [
      "Train Epoch: 651/1001. Iter:   18/  18. Data: 0.066s. Batch: 0.115s. Loss: 0.5913.: 100%|█| 18/18 [00:02<00:00,  8.77it/s]\n"
     ]
    },
    {
     "name": "stdout",
     "output_type": "stream",
     "text": [
      "Global round: 651 | Average loss: 0.6017656193839179\n",
      "Global Round: 652\n"
     ]
    },
    {
     "name": "stderr",
     "output_type": "stream",
     "text": [
      "Train Epoch: 652/1001. Iter:   18/  18. Data: 0.060s. Batch: 0.108s. Loss: 0.6021.: 100%|█| 18/18 [00:01<00:00,  9.22it/s]\n"
     ]
    },
    {
     "name": "stdout",
     "output_type": "stream",
     "text": [
      "Global round: 652 | Average loss: 0.5991421308782365\n",
      "Global Round: 653\n"
     ]
    },
    {
     "name": "stderr",
     "output_type": "stream",
     "text": [
      "Train Epoch: 653/1001. Iter:   18/  18. Data: 0.065s. Batch: 0.115s. Loss: 0.5996.: 100%|█| 18/18 [00:02<00:00,  8.70it/s]\n"
     ]
    },
    {
     "name": "stdout",
     "output_type": "stream",
     "text": [
      "Global round: 653 | Average loss: 0.6009772155019972\n",
      "Global Round: 654\n"
     ]
    },
    {
     "name": "stderr",
     "output_type": "stream",
     "text": [
      "Train Epoch: 654/1001. Iter:   18/  18. Data: 0.061s. Batch: 0.109s. Loss: 0.6002.: 100%|█| 18/18 [00:01<00:00,  9.16it/s]\n"
     ]
    },
    {
     "name": "stdout",
     "output_type": "stream",
     "text": [
      "Global round: 654 | Average loss: 0.5978656775421567\n",
      "Global Round: 655\n"
     ]
    },
    {
     "name": "stderr",
     "output_type": "stream",
     "text": [
      "Train Epoch: 655/1001. Iter:   18/  18. Data: 0.061s. Batch: 0.110s. Loss: 0.6108.: 100%|█| 18/18 [00:01<00:00,  9.07it/s]\n"
     ]
    },
    {
     "name": "stdout",
     "output_type": "stream",
     "text": [
      "global epoch 656 saved\n",
      "Global round: 655 | Average loss: 0.6009707881344689\n",
      "Global Round: 656\n"
     ]
    },
    {
     "name": "stderr",
     "output_type": "stream",
     "text": [
      "Train Epoch: 656/1001. Iter:   18/  18. Data: 0.061s. Batch: 0.112s. Loss: 0.5893.: 100%|█| 18/18 [00:02<00:00,  8.95it/s]\n"
     ]
    },
    {
     "name": "stdout",
     "output_type": "stream",
     "text": [
      "Global round: 656 | Average loss: 0.5966307752662234\n",
      "Global Round: 657\n"
     ]
    },
    {
     "name": "stderr",
     "output_type": "stream",
     "text": [
      "Train Epoch: 657/1001. Iter:   18/  18. Data: 0.062s. Batch: 0.113s. Loss: 0.5958.: 100%|█| 18/18 [00:02<00:00,  8.89it/s]\n"
     ]
    },
    {
     "name": "stdout",
     "output_type": "stream",
     "text": [
      "Global round: 657 | Average loss: 0.5967170695463816\n",
      "Global Round: 658\n"
     ]
    },
    {
     "name": "stderr",
     "output_type": "stream",
     "text": [
      "Train Epoch: 658/1001. Iter:   18/  18. Data: 0.059s. Batch: 0.109s. Loss: 0.5998.: 100%|█| 18/18 [00:01<00:00,  9.21it/s]\n"
     ]
    },
    {
     "name": "stdout",
     "output_type": "stream",
     "text": [
      "Global round: 658 | Average loss: 0.5983603232436709\n",
      "Global Round: 659\n"
     ]
    },
    {
     "name": "stderr",
     "output_type": "stream",
     "text": [
      "Train Epoch: 659/1001. Iter:   18/  18. Data: 0.062s. Batch: 0.115s. Loss: 0.5962.: 100%|█| 18/18 [00:02<00:00,  8.69it/s]\n"
     ]
    },
    {
     "name": "stdout",
     "output_type": "stream",
     "text": [
      "Global round: 659 | Average loss: 0.5996987786557939\n",
      "Global Round: 660\n"
     ]
    },
    {
     "name": "stderr",
     "output_type": "stream",
     "text": [
      "Train Epoch: 660/1001. Iter:   18/  18. Data: 0.062s. Batch: 0.113s. Loss: 0.5974.: 100%|█| 18/18 [00:02<00:00,  8.85it/s]\n"
     ]
    },
    {
     "name": "stdout",
     "output_type": "stream",
     "text": [
      "global epoch 661 saved\n",
      "Global round: 660 | Average loss: 0.5973237587345971\n",
      "Global Round: 661\n"
     ]
    },
    {
     "name": "stderr",
     "output_type": "stream",
     "text": [
      "Train Epoch: 661/1001. Iter:   18/  18. Data: 0.058s. Batch: 0.111s. Loss: 0.5961.: 100%|█| 18/18 [00:01<00:00,  9.04it/s]\n"
     ]
    },
    {
     "name": "stdout",
     "output_type": "stream",
     "text": [
      "Global round: 661 | Average loss: 0.5958585242430369\n",
      "Global Round: 662\n"
     ]
    },
    {
     "name": "stderr",
     "output_type": "stream",
     "text": [
      "Train Epoch: 662/1001. Iter:   18/  18. Data: 0.060s. Batch: 0.112s. Loss: 0.6003.: 100%|█| 18/18 [00:02<00:00,  8.87it/s]\n"
     ]
    },
    {
     "name": "stdout",
     "output_type": "stream",
     "text": [
      "Global round: 662 | Average loss: 0.5975447992483774\n",
      "Global Round: 663\n"
     ]
    },
    {
     "name": "stderr",
     "output_type": "stream",
     "text": [
      "Train Epoch: 663/1001. Iter:   18/  18. Data: 0.058s. Batch: 0.110s. Loss: 0.6110.: 100%|█| 18/18 [00:01<00:00,  9.14it/s]\n"
     ]
    },
    {
     "name": "stdout",
     "output_type": "stream",
     "text": [
      "Global round: 663 | Average loss: 0.5986075831784142\n",
      "Global Round: 664\n"
     ]
    },
    {
     "name": "stderr",
     "output_type": "stream",
     "text": [
      "Train Epoch: 664/1001. Iter:   18/  18. Data: 0.061s. Batch: 0.116s. Loss: 0.5921.: 100%|█| 18/18 [00:02<00:00,  8.59it/s]\n"
     ]
    },
    {
     "name": "stdout",
     "output_type": "stream",
     "text": [
      "Global round: 664 | Average loss: 0.5951873626973894\n",
      "Global Round: 665\n"
     ]
    },
    {
     "name": "stderr",
     "output_type": "stream",
     "text": [
      "Train Epoch: 665/1001. Iter:   18/  18. Data: 0.059s. Batch: 0.110s. Loss: 0.5954.: 100%|█| 18/18 [00:01<00:00,  9.12it/s]\n"
     ]
    },
    {
     "name": "stdout",
     "output_type": "stream",
     "text": [
      "global epoch 666 saved\n",
      "Global round: 665 | Average loss: 0.5934661229451498\n",
      "Global Round: 666\n"
     ]
    },
    {
     "name": "stderr",
     "output_type": "stream",
     "text": [
      "Train Epoch: 666/1001. Iter:   18/  18. Data: 0.059s. Batch: 0.109s. Loss: 0.5939.: 100%|█| 18/18 [00:01<00:00,  9.22it/s]\n"
     ]
    },
    {
     "name": "stdout",
     "output_type": "stream",
     "text": [
      "Global round: 666 | Average loss: 0.5929907461007436\n",
      "Global Round: 667\n"
     ]
    },
    {
     "name": "stderr",
     "output_type": "stream",
     "text": [
      "Train Epoch: 667/1001. Iter:   18/  18. Data: 0.064s. Batch: 0.116s. Loss: 0.6047.: 100%|█| 18/18 [00:02<00:00,  8.60it/s]\n"
     ]
    },
    {
     "name": "stdout",
     "output_type": "stream",
     "text": [
      "Global round: 667 | Average loss: 0.5925499233934615\n",
      "Global Round: 668\n"
     ]
    },
    {
     "name": "stderr",
     "output_type": "stream",
     "text": [
      "Train Epoch: 668/1001. Iter:   18/  18. Data: 0.062s. Batch: 0.113s. Loss: 0.6124.: 100%|█| 18/18 [00:02<00:00,  8.91it/s]\n"
     ]
    },
    {
     "name": "stdout",
     "output_type": "stream",
     "text": [
      "Global round: 668 | Average loss: 0.5961657298935784\n",
      "Global Round: 669\n"
     ]
    },
    {
     "name": "stderr",
     "output_type": "stream",
     "text": [
      "Train Epoch: 669/1001. Iter:   18/  18. Data: 0.065s. Batch: 0.117s. Loss: 0.5959.: 100%|█| 18/18 [00:02<00:00,  8.50it/s]\n"
     ]
    },
    {
     "name": "stdout",
     "output_type": "stream",
     "text": [
      "Global round: 669 | Average loss: 0.5931462513075935\n",
      "Global Round: 670\n"
     ]
    },
    {
     "name": "stderr",
     "output_type": "stream",
     "text": [
      "Train Epoch: 670/1001. Iter:   18/  18. Data: 0.059s. Batch: 0.109s. Loss: 0.5721.: 100%|█| 18/18 [00:01<00:00,  9.20it/s]\n"
     ]
    },
    {
     "name": "stdout",
     "output_type": "stream",
     "text": [
      "global epoch 671 saved\n",
      "Global round: 670 | Average loss: 0.5915373331970639\n",
      "Global Round: 671\n"
     ]
    },
    {
     "name": "stderr",
     "output_type": "stream",
     "text": [
      "Train Epoch: 671/1001. Iter:   18/  18. Data: 0.064s. Batch: 0.115s. Loss: 0.5771.: 100%|█| 18/18 [00:02<00:00,  8.80it/s]\n"
     ]
    },
    {
     "name": "stdout",
     "output_type": "stream",
     "text": [
      "Global round: 671 | Average loss: 0.590476757950253\n",
      "Global Round: 672\n"
     ]
    },
    {
     "name": "stderr",
     "output_type": "stream",
     "text": [
      "Train Epoch: 672/1001. Iter:   18/  18. Data: 0.060s. Batch: 0.114s. Loss: 0.5898.: 100%|█| 18/18 [00:02<00:00,  8.79it/s]\n"
     ]
    },
    {
     "name": "stdout",
     "output_type": "stream",
     "text": [
      "Global round: 672 | Average loss: 0.5911523732874129\n",
      "Global Round: 673\n"
     ]
    },
    {
     "name": "stderr",
     "output_type": "stream",
     "text": [
      "Train Epoch: 673/1001. Iter:   18/  18. Data: 0.061s. Batch: 0.112s. Loss: 0.5785.: 100%|█| 18/18 [00:02<00:00,  8.98it/s]\n"
     ]
    },
    {
     "name": "stdout",
     "output_type": "stream",
     "text": [
      "Global round: 673 | Average loss: 0.5925786462095048\n",
      "Global Round: 674\n"
     ]
    },
    {
     "name": "stderr",
     "output_type": "stream",
     "text": [
      "Train Epoch: 674/1001. Iter:   18/  18. Data: 0.062s. Batch: 0.115s. Loss: 0.5852.: 100%|█| 18/18 [00:02<00:00,  8.68it/s]\n"
     ]
    },
    {
     "name": "stdout",
     "output_type": "stream",
     "text": [
      "Global round: 674 | Average loss: 0.5901903079615699\n",
      "Global Round: 675\n"
     ]
    },
    {
     "name": "stderr",
     "output_type": "stream",
     "text": [
      "Train Epoch: 675/1001. Iter:   18/  18. Data: 0.059s. Batch: 0.109s. Loss: 0.5908.: 100%|█| 18/18 [00:01<00:00,  9.15it/s]\n"
     ]
    },
    {
     "name": "stdout",
     "output_type": "stream",
     "text": [
      "global epoch 676 saved\n",
      "Global round: 675 | Average loss: 0.5931954152054257\n",
      "Global Round: 676\n"
     ]
    },
    {
     "name": "stderr",
     "output_type": "stream",
     "text": [
      "Train Epoch: 676/1001. Iter:   18/  18. Data: 0.061s. Batch: 0.112s. Loss: 0.5824.: 100%|█| 18/18 [00:01<00:00,  9.04it/s]\n"
     ]
    },
    {
     "name": "stdout",
     "output_type": "stream",
     "text": [
      "Global round: 676 | Average loss: 0.5915680494573381\n",
      "Global Round: 677\n"
     ]
    },
    {
     "name": "stderr",
     "output_type": "stream",
     "text": [
      "Train Epoch: 677/1001. Iter:   18/  18. Data: 0.069s. Batch: 0.120s. Loss: 0.6043.: 100%|█| 18/18 [00:02<00:00,  8.36it/s]\n"
     ]
    },
    {
     "name": "stdout",
     "output_type": "stream",
     "text": [
      "Global round: 677 | Average loss: 0.5938297278351254\n",
      "Global Round: 678\n"
     ]
    },
    {
     "name": "stderr",
     "output_type": "stream",
     "text": [
      "Train Epoch: 678/1001. Iter:   18/  18. Data: 0.062s. Batch: 0.111s. Loss: 0.5868.: 100%|█| 18/18 [00:01<00:00,  9.01it/s]\n"
     ]
    },
    {
     "name": "stdout",
     "output_type": "stream",
     "text": [
      "Global round: 678 | Average loss: 0.5925710797309875\n",
      "Global Round: 679\n"
     ]
    },
    {
     "name": "stderr",
     "output_type": "stream",
     "text": [
      "Train Epoch: 679/1001. Iter:   18/  18. Data: 0.061s. Batch: 0.110s. Loss: 0.5920.: 100%|█| 18/18 [00:01<00:00,  9.09it/s]\n"
     ]
    },
    {
     "name": "stdout",
     "output_type": "stream",
     "text": [
      "Global round: 679 | Average loss: 0.5883356299665239\n",
      "Global Round: 680\n"
     ]
    },
    {
     "name": "stderr",
     "output_type": "stream",
     "text": [
      "Train Epoch: 680/1001. Iter:   18/  18. Data: 0.063s. Batch: 0.111s. Loss: 0.6046.: 100%|█| 18/18 [00:02<00:00,  8.99it/s]\n"
     ]
    },
    {
     "name": "stdout",
     "output_type": "stream",
     "text": [
      "global epoch 681 saved\n",
      "Global round: 680 | Average loss: 0.5900762677192688\n",
      "Global Round: 681\n"
     ]
    },
    {
     "name": "stderr",
     "output_type": "stream",
     "text": [
      "Train Epoch: 681/1001. Iter:   18/  18. Data: 0.060s. Batch: 0.111s. Loss: 0.5947.: 100%|█| 18/18 [00:01<00:00,  9.04it/s]\n"
     ]
    },
    {
     "name": "stdout",
     "output_type": "stream",
     "text": [
      "Global round: 681 | Average loss: 0.591828230354521\n",
      "Global Round: 682\n"
     ]
    },
    {
     "name": "stderr",
     "output_type": "stream",
     "text": [
      "Train Epoch: 682/1001. Iter:   18/  18. Data: 0.063s. Batch: 0.114s. Loss: 0.6143.: 100%|█| 18/18 [00:02<00:00,  8.79it/s]\n"
     ]
    },
    {
     "name": "stdout",
     "output_type": "stream",
     "text": [
      "Global round: 682 | Average loss: 0.5933478739526536\n",
      "Global Round: 683\n"
     ]
    },
    {
     "name": "stderr",
     "output_type": "stream",
     "text": [
      "Train Epoch: 683/1001. Iter:   18/  18. Data: 0.059s. Batch: 0.109s. Loss: 0.5990.: 100%|█| 18/18 [00:01<00:00,  9.17it/s]\n"
     ]
    },
    {
     "name": "stdout",
     "output_type": "stream",
     "text": [
      "Global round: 683 | Average loss: 0.5936357014709048\n",
      "Global Round: 684\n"
     ]
    },
    {
     "name": "stderr",
     "output_type": "stream",
     "text": [
      "Train Epoch: 684/1001. Iter:   18/  18. Data: 0.062s. Batch: 0.112s. Loss: 0.5999.: 100%|█| 18/18 [00:02<00:00,  8.96it/s]\n"
     ]
    },
    {
     "name": "stdout",
     "output_type": "stream",
     "text": [
      "Global round: 684 | Average loss: 0.5935796797275543\n",
      "Global Round: 685\n"
     ]
    },
    {
     "name": "stderr",
     "output_type": "stream",
     "text": [
      "Train Epoch: 685/1001. Iter:   18/  18. Data: 0.061s. Batch: 0.111s. Loss: 0.6102.: 100%|█| 18/18 [00:02<00:00,  8.98it/s]\n"
     ]
    },
    {
     "name": "stdout",
     "output_type": "stream",
     "text": [
      "global epoch 686 saved\n",
      "Global round: 685 | Average loss: 0.5913656651973724\n",
      "Global Round: 686\n"
     ]
    },
    {
     "name": "stderr",
     "output_type": "stream",
     "text": [
      "Train Epoch: 686/1001. Iter:   18/  18. Data: 0.057s. Batch: 0.106s. Loss: 0.5875.: 100%|█| 18/18 [00:01<00:00,  9.49it/s]\n"
     ]
    },
    {
     "name": "stdout",
     "output_type": "stream",
     "text": [
      "Global round: 686 | Average loss: 0.5943265457948049\n",
      "Global Round: 687\n"
     ]
    },
    {
     "name": "stderr",
     "output_type": "stream",
     "text": [
      "Train Epoch: 687/1001. Iter:   18/  18. Data: 0.055s. Batch: 0.104s. Loss: 0.5784.: 100%|█| 18/18 [00:01<00:00,  9.60it/s]\n"
     ]
    },
    {
     "name": "stdout",
     "output_type": "stream",
     "text": [
      "Global round: 687 | Average loss: 0.5951481892002953\n",
      "Global Round: 688\n"
     ]
    },
    {
     "name": "stderr",
     "output_type": "stream",
     "text": [
      "Train Epoch: 688/1001. Iter:   18/  18. Data: 0.056s. Batch: 0.107s. Loss: 0.6090.: 100%|█| 18/18 [00:01<00:00,  9.37it/s]\n"
     ]
    },
    {
     "name": "stdout",
     "output_type": "stream",
     "text": [
      "Global round: 688 | Average loss: 0.5916083488199446\n",
      "Global Round: 689\n"
     ]
    },
    {
     "name": "stderr",
     "output_type": "stream",
     "text": [
      "Train Epoch: 689/1001. Iter:   18/  18. Data: 0.056s. Batch: 0.105s. Loss: 0.6051.: 100%|█| 18/18 [00:01<00:00,  9.55it/s]\n"
     ]
    },
    {
     "name": "stdout",
     "output_type": "stream",
     "text": [
      "Global round: 689 | Average loss: 0.5914474692609575\n",
      "Global Round: 690\n"
     ]
    },
    {
     "name": "stderr",
     "output_type": "stream",
     "text": [
      "Train Epoch: 690/1001. Iter:   18/  18. Data: 0.056s. Batch: 0.107s. Loss: 0.5936.: 100%|█| 18/18 [00:01<00:00,  9.33it/s]\n"
     ]
    },
    {
     "name": "stdout",
     "output_type": "stream",
     "text": [
      "global epoch 691 saved\n",
      "Global round: 690 | Average loss: 0.5956115358405643\n",
      "Global Round: 691\n"
     ]
    },
    {
     "name": "stderr",
     "output_type": "stream",
     "text": [
      "Train Epoch: 691/1001. Iter:   18/  18. Data: 0.056s. Batch: 0.104s. Loss: 0.6023.: 100%|█| 18/18 [00:01<00:00,  9.67it/s]\n"
     ]
    },
    {
     "name": "stdout",
     "output_type": "stream",
     "text": [
      "Global round: 691 | Average loss: 0.5957950750986735\n",
      "Global Round: 692\n"
     ]
    },
    {
     "name": "stderr",
     "output_type": "stream",
     "text": [
      "Train Epoch: 692/1001. Iter:   18/  18. Data: 0.057s. Batch: 0.103s. Loss: 0.5863.: 100%|█| 18/18 [00:01<00:00,  9.67it/s]\n"
     ]
    },
    {
     "name": "stdout",
     "output_type": "stream",
     "text": [
      "Global round: 692 | Average loss: 0.5909328725602891\n",
      "Global Round: 693\n"
     ]
    },
    {
     "name": "stderr",
     "output_type": "stream",
     "text": [
      "Train Epoch: 693/1001. Iter:   18/  18. Data: 0.059s. Batch: 0.107s. Loss: 0.5880.: 100%|█| 18/18 [00:01<00:00,  9.34it/s]\n"
     ]
    },
    {
     "name": "stdout",
     "output_type": "stream",
     "text": [
      "Global round: 693 | Average loss: 0.5927304724852244\n",
      "Global Round: 694\n"
     ]
    },
    {
     "name": "stderr",
     "output_type": "stream",
     "text": [
      "Train Epoch: 694/1001. Iter:   18/  18. Data: 0.057s. Batch: 0.105s. Loss: 0.5925.: 100%|█| 18/18 [00:01<00:00,  9.56it/s]\n"
     ]
    },
    {
     "name": "stdout",
     "output_type": "stream",
     "text": [
      "Global round: 694 | Average loss: 0.58804742164082\n",
      "Global Round: 695\n"
     ]
    },
    {
     "name": "stderr",
     "output_type": "stream",
     "text": [
      "Train Epoch: 695/1001. Iter:   18/  18. Data: 0.057s. Batch: 0.105s. Loss: 0.5949.: 100%|█| 18/18 [00:01<00:00,  9.54it/s]\n"
     ]
    },
    {
     "name": "stdout",
     "output_type": "stream",
     "text": [
      "global epoch 696 saved\n",
      "Global round: 695 | Average loss: 0.5921741293536292\n",
      "Global Round: 696\n"
     ]
    },
    {
     "name": "stderr",
     "output_type": "stream",
     "text": [
      "Train Epoch: 696/1001. Iter:   18/  18. Data: 0.059s. Batch: 0.108s. Loss: 0.5844.: 100%|█| 18/18 [00:01<00:00,  9.34it/s]\n"
     ]
    },
    {
     "name": "stdout",
     "output_type": "stream",
     "text": [
      "Global round: 696 | Average loss: 0.5891619390911527\n",
      "Global Round: 697\n"
     ]
    },
    {
     "name": "stderr",
     "output_type": "stream",
     "text": [
      "Train Epoch: 697/1001. Iter:   18/  18. Data: 0.057s. Batch: 0.106s. Loss: 0.6146.: 100%|█| 18/18 [00:01<00:00,  9.41it/s]\n"
     ]
    },
    {
     "name": "stdout",
     "output_type": "stream",
     "text": [
      "Global round: 697 | Average loss: 0.5906162394417657\n",
      "Global Round: 698\n"
     ]
    },
    {
     "name": "stderr",
     "output_type": "stream",
     "text": [
      "Train Epoch: 698/1001. Iter:   18/  18. Data: 0.057s. Batch: 0.108s. Loss: 0.5882.: 100%|█| 18/18 [00:01<00:00,  9.28it/s]\n"
     ]
    },
    {
     "name": "stdout",
     "output_type": "stream",
     "text": [
      "Global round: 698 | Average loss: 0.5903254449367523\n",
      "Global Round: 699\n"
     ]
    },
    {
     "name": "stderr",
     "output_type": "stream",
     "text": [
      "Train Epoch: 699/1001. Iter:   18/  18. Data: 0.056s. Batch: 0.104s. Loss: 0.5799.: 100%|█| 18/18 [00:01<00:00,  9.63it/s]\n"
     ]
    },
    {
     "name": "stdout",
     "output_type": "stream",
     "text": [
      "Global round: 699 | Average loss: 0.5877441763877869\n",
      "Global Round: 700\n"
     ]
    },
    {
     "name": "stderr",
     "output_type": "stream",
     "text": [
      "Train Epoch: 700/1001. Iter:   18/  18. Data: 0.056s. Batch: 0.105s. Loss: 0.5751.: 100%|█| 18/18 [00:01<00:00,  9.55it/s]\n"
     ]
    },
    {
     "name": "stdout",
     "output_type": "stream",
     "text": [
      "global epoch 701 saved\n",
      "Global round: 700 | Average loss: 0.5921299788686964\n",
      "Global Round: 701\n"
     ]
    },
    {
     "name": "stderr",
     "output_type": "stream",
     "text": [
      "Train Epoch: 701/1001. Iter:   18/  18. Data: 0.061s. Batch: 0.109s. Loss: 0.5968.: 100%|█| 18/18 [00:01<00:00,  9.17it/s]\n"
     ]
    },
    {
     "name": "stdout",
     "output_type": "stream",
     "text": [
      "Global round: 701 | Average loss: 0.5899174445205264\n",
      "Global Round: 702\n"
     ]
    },
    {
     "name": "stderr",
     "output_type": "stream",
     "text": [
      "Train Epoch: 702/1001. Iter:   18/  18. Data: 0.058s. Batch: 0.107s. Loss: 0.5984.: 100%|█| 18/18 [00:01<00:00,  9.35it/s]\n"
     ]
    },
    {
     "name": "stdout",
     "output_type": "stream",
     "text": [
      "Global round: 702 | Average loss: 0.5921638839774661\n",
      "Global Round: 703\n"
     ]
    },
    {
     "name": "stderr",
     "output_type": "stream",
     "text": [
      "Train Epoch: 703/1001. Iter:   18/  18. Data: 0.058s. Batch: 0.106s. Loss: 0.5931.: 100%|█| 18/18 [00:01<00:00,  9.40it/s]\n"
     ]
    },
    {
     "name": "stdout",
     "output_type": "stream",
     "text": [
      "Global round: 703 | Average loss: 0.5897509819931455\n",
      "Global Round: 704\n"
     ]
    },
    {
     "name": "stderr",
     "output_type": "stream",
     "text": [
      "Train Epoch: 704/1001. Iter:   18/  18. Data: 0.059s. Batch: 0.105s. Loss: 0.5919.: 100%|█| 18/18 [00:01<00:00,  9.50it/s]\n"
     ]
    },
    {
     "name": "stdout",
     "output_type": "stream",
     "text": [
      "Global round: 704 | Average loss: 0.5884184539318085\n",
      "Global Round: 705\n"
     ]
    },
    {
     "name": "stderr",
     "output_type": "stream",
     "text": [
      "Train Epoch: 705/1001. Iter:   18/  18. Data: 0.057s. Batch: 0.102s. Loss: 0.5842.: 100%|█| 18/18 [00:01<00:00,  9.80it/s]\n"
     ]
    },
    {
     "name": "stdout",
     "output_type": "stream",
     "text": [
      "global epoch 706 saved\n",
      "Global round: 705 | Average loss: 0.5906271073553298\n",
      "Global Round: 706\n"
     ]
    },
    {
     "name": "stderr",
     "output_type": "stream",
     "text": [
      "Train Epoch: 706/1001. Iter:   18/  18. Data: 0.058s. Batch: 0.106s. Loss: 0.5984.: 100%|█| 18/18 [00:01<00:00,  9.49it/s]\n"
     ]
    },
    {
     "name": "stdout",
     "output_type": "stream",
     "text": [
      "Global round: 706 | Average loss: 0.5887885789076487\n",
      "Global Round: 707\n"
     ]
    },
    {
     "name": "stderr",
     "output_type": "stream",
     "text": [
      "Train Epoch: 707/1001. Iter:   18/  18. Data: 0.056s. Batch: 0.103s. Loss: 0.5789.: 100%|█| 18/18 [00:01<00:00,  9.73it/s]\n"
     ]
    },
    {
     "name": "stdout",
     "output_type": "stream",
     "text": [
      "Global round: 707 | Average loss: 0.5848809712462955\n",
      "Global Round: 708\n"
     ]
    },
    {
     "name": "stderr",
     "output_type": "stream",
     "text": [
      "Train Epoch: 708/1001. Iter:   18/  18. Data: 0.057s. Batch: 0.105s. Loss: 0.5959.: 100%|█| 18/18 [00:01<00:00,  9.51it/s]\n"
     ]
    },
    {
     "name": "stdout",
     "output_type": "stream",
     "text": [
      "Global round: 708 | Average loss: 0.5865520536899567\n",
      "Global Round: 709\n"
     ]
    },
    {
     "name": "stderr",
     "output_type": "stream",
     "text": [
      "Train Epoch: 709/1001. Iter:   18/  18. Data: 0.059s. Batch: 0.108s. Loss: 0.5931.: 100%|█| 18/18 [00:01<00:00,  9.25it/s]\n"
     ]
    },
    {
     "name": "stdout",
     "output_type": "stream",
     "text": [
      "Global round: 709 | Average loss: 0.5912534462081062\n",
      "Global Round: 710\n"
     ]
    },
    {
     "name": "stderr",
     "output_type": "stream",
     "text": [
      "Train Epoch: 710/1001. Iter:   18/  18. Data: 0.057s. Batch: 0.105s. Loss: 0.5834.: 100%|█| 18/18 [00:01<00:00,  9.55it/s]\n"
     ]
    },
    {
     "name": "stdout",
     "output_type": "stream",
     "text": [
      "global epoch 711 saved\n",
      "Global round: 710 | Average loss: 0.5899224844243791\n",
      "Global Round: 711\n"
     ]
    },
    {
     "name": "stderr",
     "output_type": "stream",
     "text": [
      "Train Epoch: 711/1001. Iter:   18/  18. Data: 0.056s. Batch: 0.106s. Loss: 0.6091.: 100%|█| 18/18 [00:01<00:00,  9.50it/s]\n"
     ]
    },
    {
     "name": "stdout",
     "output_type": "stream",
     "text": [
      "Global round: 711 | Average loss: 0.5928097863992056\n",
      "Global Round: 712\n"
     ]
    },
    {
     "name": "stderr",
     "output_type": "stream",
     "text": [
      "Train Epoch: 712/1001. Iter:   18/  18. Data: 0.055s. Batch: 0.105s. Loss: 0.5939.: 100%|█| 18/18 [00:01<00:00,  9.57it/s]\n"
     ]
    },
    {
     "name": "stdout",
     "output_type": "stream",
     "text": [
      "Global round: 712 | Average loss: 0.5897293587525686\n",
      "Global Round: 713\n"
     ]
    },
    {
     "name": "stderr",
     "output_type": "stream",
     "text": [
      "Train Epoch: 713/1001. Iter:   18/  18. Data: 0.055s. Batch: 0.104s. Loss: 0.6188.: 100%|█| 18/18 [00:01<00:00,  9.59it/s]\n"
     ]
    },
    {
     "name": "stdout",
     "output_type": "stream",
     "text": [
      "Global round: 713 | Average loss: 0.5889114869965447\n",
      "Global Round: 714\n"
     ]
    },
    {
     "name": "stderr",
     "output_type": "stream",
     "text": [
      "Train Epoch: 714/1001. Iter:   18/  18. Data: 0.056s. Batch: 0.107s. Loss: 0.5914.: 100%|█| 18/18 [00:01<00:00,  9.31it/s]\n"
     ]
    },
    {
     "name": "stdout",
     "output_type": "stream",
     "text": [
      "Global round: 714 | Average loss: 0.5891842246055603\n",
      "Global Round: 715\n"
     ]
    },
    {
     "name": "stderr",
     "output_type": "stream",
     "text": [
      "Train Epoch: 715/1001. Iter:   18/  18. Data: 0.055s. Batch: 0.104s. Loss: 0.5852.: 100%|█| 18/18 [00:01<00:00,  9.59it/s]\n"
     ]
    },
    {
     "name": "stdout",
     "output_type": "stream",
     "text": [
      "global epoch 716 saved\n",
      "Global round: 715 | Average loss: 0.5888288352224562\n",
      "Global Round: 716\n"
     ]
    },
    {
     "name": "stderr",
     "output_type": "stream",
     "text": [
      "Train Epoch: 716/1001. Iter:   18/  18. Data: 0.057s. Batch: 0.103s. Loss: 0.5723.: 100%|█| 18/18 [00:01<00:00,  9.77it/s]\n"
     ]
    },
    {
     "name": "stdout",
     "output_type": "stream",
     "text": [
      "Global round: 716 | Average loss: 0.5910814735624526\n",
      "Global Round: 717\n"
     ]
    },
    {
     "name": "stderr",
     "output_type": "stream",
     "text": [
      "Train Epoch: 717/1001. Iter:   18/  18. Data: 0.059s. Batch: 0.105s. Loss: 0.5776.: 100%|█| 18/18 [00:01<00:00,  9.54it/s]\n"
     ]
    },
    {
     "name": "stdout",
     "output_type": "stream",
     "text": [
      "Global round: 717 | Average loss: 0.5916785001754761\n",
      "Global Round: 718\n"
     ]
    },
    {
     "name": "stderr",
     "output_type": "stream",
     "text": [
      "Train Epoch: 718/1001. Iter:   18/  18. Data: 0.057s. Batch: 0.105s. Loss: 0.5976.: 100%|█| 18/18 [00:01<00:00,  9.52it/s]\n"
     ]
    },
    {
     "name": "stdout",
     "output_type": "stream",
     "text": [
      "Global round: 718 | Average loss: 0.5900130205684238\n",
      "Global Round: 719\n"
     ]
    },
    {
     "name": "stderr",
     "output_type": "stream",
     "text": [
      "Train Epoch: 719/1001. Iter:   18/  18. Data: 0.059s. Batch: 0.109s. Loss: 0.6011.: 100%|█| 18/18 [00:01<00:00,  9.14it/s]\n"
     ]
    },
    {
     "name": "stdout",
     "output_type": "stream",
     "text": [
      "Global round: 719 | Average loss: 0.5891233583291372\n",
      "Global Round: 720\n"
     ]
    },
    {
     "name": "stderr",
     "output_type": "stream",
     "text": [
      "Train Epoch: 720/1001. Iter:   18/  18. Data: 0.057s. Batch: 0.105s. Loss: 0.5687.: 100%|█| 18/18 [00:01<00:00,  9.52it/s]\n"
     ]
    },
    {
     "name": "stdout",
     "output_type": "stream",
     "text": [
      "global epoch 721 saved\n",
      "Global round: 720 | Average loss: 0.5889008310106065\n",
      "Global Round: 721\n"
     ]
    },
    {
     "name": "stderr",
     "output_type": "stream",
     "text": [
      "Train Epoch: 721/1001. Iter:   18/  18. Data: 0.058s. Batch: 0.105s. Loss: 0.5945.: 100%|█| 18/18 [00:01<00:00,  9.63it/s]\n"
     ]
    },
    {
     "name": "stdout",
     "output_type": "stream",
     "text": [
      "Global round: 721 | Average loss: 0.5856070386038886\n",
      "Global Round: 722\n"
     ]
    },
    {
     "name": "stderr",
     "output_type": "stream",
     "text": [
      "Train Epoch: 722/1001. Iter:   18/  18. Data: 0.057s. Batch: 0.106s. Loss: 0.5794.: 100%|█| 18/18 [00:01<00:00,  9.46it/s]\n"
     ]
    },
    {
     "name": "stdout",
     "output_type": "stream",
     "text": [
      "Global round: 722 | Average loss: 0.589478098683887\n",
      "Global Round: 723\n"
     ]
    },
    {
     "name": "stderr",
     "output_type": "stream",
     "text": [
      "Train Epoch: 723/1001. Iter:   18/  18. Data: 0.056s. Batch: 0.104s. Loss: 0.6012.: 100%|█| 18/18 [00:01<00:00,  9.65it/s]\n"
     ]
    },
    {
     "name": "stdout",
     "output_type": "stream",
     "text": [
      "Global round: 723 | Average loss: 0.5939866966671414\n",
      "Global Round: 724\n"
     ]
    },
    {
     "name": "stderr",
     "output_type": "stream",
     "text": [
      "Train Epoch: 724/1001. Iter:   18/  18. Data: 0.056s. Batch: 0.104s. Loss: 0.5839.: 100%|█| 18/18 [00:01<00:00,  9.66it/s]\n"
     ]
    },
    {
     "name": "stdout",
     "output_type": "stream",
     "text": [
      "Global round: 724 | Average loss: 0.5940168533060286\n",
      "Global Round: 725\n"
     ]
    },
    {
     "name": "stderr",
     "output_type": "stream",
     "text": [
      "Train Epoch: 725/1001. Iter:   18/  18. Data: 0.057s. Batch: 0.108s. Loss: 0.5907.: 100%|█| 18/18 [00:01<00:00,  9.29it/s]\n"
     ]
    },
    {
     "name": "stdout",
     "output_type": "stream",
     "text": [
      "global epoch 726 saved\n",
      "Global round: 725 | Average loss: 0.5906610290209452\n",
      "Global Round: 726\n"
     ]
    },
    {
     "name": "stderr",
     "output_type": "stream",
     "text": [
      "Train Epoch: 726/1001. Iter:   18/  18. Data: 0.057s. Batch: 0.103s. Loss: 0.5837.: 100%|█| 18/18 [00:01<00:00,  9.76it/s]\n"
     ]
    },
    {
     "name": "stdout",
     "output_type": "stream",
     "text": [
      "Global round: 726 | Average loss: 0.587618907292684\n",
      "Global Round: 727\n"
     ]
    },
    {
     "name": "stderr",
     "output_type": "stream",
     "text": [
      "Train Epoch: 727/1001. Iter:   18/  18. Data: 0.060s. Batch: 0.107s. Loss: 0.5931.: 100%|█| 18/18 [00:01<00:00,  9.33it/s]\n"
     ]
    },
    {
     "name": "stdout",
     "output_type": "stream",
     "text": [
      "Global round: 727 | Average loss: 0.5917353332042694\n",
      "Global Round: 728\n"
     ]
    },
    {
     "name": "stderr",
     "output_type": "stream",
     "text": [
      "Train Epoch: 728/1001. Iter:   18/  18. Data: 0.058s. Batch: 0.105s. Loss: 0.6160.: 100%|█| 18/18 [00:01<00:00,  9.52it/s]\n"
     ]
    },
    {
     "name": "stdout",
     "output_type": "stream",
     "text": [
      "Global round: 728 | Average loss: 0.5885932876004113\n",
      "Global Round: 729\n"
     ]
    },
    {
     "name": "stderr",
     "output_type": "stream",
     "text": [
      "Train Epoch: 729/1001. Iter:   18/  18. Data: 0.058s. Batch: 0.105s. Loss: 0.5886.: 100%|█| 18/18 [00:01<00:00,  9.57it/s]\n"
     ]
    },
    {
     "name": "stdout",
     "output_type": "stream",
     "text": [
      "Global round: 729 | Average loss: 0.5941215025054084\n",
      "Global Round: 730\n"
     ]
    },
    {
     "name": "stderr",
     "output_type": "stream",
     "text": [
      "Train Epoch: 730/1001. Iter:   18/  18. Data: 0.061s. Batch: 0.107s. Loss: 0.6010.: 100%|█| 18/18 [00:01<00:00,  9.32it/s]\n"
     ]
    },
    {
     "name": "stdout",
     "output_type": "stream",
     "text": [
      "global epoch 731 saved\n",
      "Global round: 730 | Average loss: 0.5917065574063195\n",
      "Global Round: 731\n"
     ]
    },
    {
     "name": "stderr",
     "output_type": "stream",
     "text": [
      "Train Epoch: 731/1001. Iter:   18/  18. Data: 0.056s. Batch: 0.105s. Loss: 0.6021.: 100%|█| 18/18 [00:01<00:00,  9.57it/s]\n"
     ]
    },
    {
     "name": "stdout",
     "output_type": "stream",
     "text": [
      "Global round: 731 | Average loss: 0.5907415747642517\n",
      "Global Round: 732\n"
     ]
    },
    {
     "name": "stderr",
     "output_type": "stream",
     "text": [
      "Train Epoch: 732/1001. Iter:   18/  18. Data: 0.056s. Batch: 0.104s. Loss: 0.6053.: 100%|█| 18/18 [00:01<00:00,  9.60it/s]\n"
     ]
    },
    {
     "name": "stdout",
     "output_type": "stream",
     "text": [
      "Global round: 732 | Average loss: 0.588921543624666\n",
      "Global Round: 733\n"
     ]
    },
    {
     "name": "stderr",
     "output_type": "stream",
     "text": [
      "Train Epoch: 733/1001. Iter:   18/  18. Data: 0.059s. Batch: 0.108s. Loss: 0.5985.: 100%|█| 18/18 [00:01<00:00,  9.23it/s]\n"
     ]
    },
    {
     "name": "stdout",
     "output_type": "stream",
     "text": [
      "Global round: 733 | Average loss: 0.5895172655582428\n",
      "Global Round: 734\n"
     ]
    },
    {
     "name": "stderr",
     "output_type": "stream",
     "text": [
      "Train Epoch: 734/1001. Iter:   18/  18. Data: 0.056s. Batch: 0.104s. Loss: 0.5884.: 100%|█| 18/18 [00:01<00:00,  9.63it/s]\n"
     ]
    },
    {
     "name": "stdout",
     "output_type": "stream",
     "text": [
      "Global round: 734 | Average loss: 0.5872490505377451\n",
      "Global Round: 735\n"
     ]
    },
    {
     "name": "stderr",
     "output_type": "stream",
     "text": [
      "Train Epoch: 735/1001. Iter:   18/  18. Data: 0.059s. Batch: 0.108s. Loss: 0.5964.: 100%|█| 18/18 [00:01<00:00,  9.27it/s]\n"
     ]
    },
    {
     "name": "stdout",
     "output_type": "stream",
     "text": [
      "global epoch 736 saved\n",
      "Global round: 735 | Average loss: 0.5858497818311056\n",
      "Global Round: 736\n"
     ]
    },
    {
     "name": "stderr",
     "output_type": "stream",
     "text": [
      "Train Epoch: 736/1001. Iter:   18/  18. Data: 0.057s. Batch: 0.106s. Loss: 0.5859.: 100%|█| 18/18 [00:01<00:00,  9.51it/s]\n"
     ]
    },
    {
     "name": "stdout",
     "output_type": "stream",
     "text": [
      "Global round: 736 | Average loss: 0.5863745146327548\n",
      "Global Round: 737\n"
     ]
    },
    {
     "name": "stderr",
     "output_type": "stream",
     "text": [
      "Train Epoch: 737/1001. Iter:   18/  18. Data: 0.056s. Batch: 0.105s. Loss: 0.5847.: 100%|█| 18/18 [00:01<00:00,  9.54it/s]\n"
     ]
    },
    {
     "name": "stdout",
     "output_type": "stream",
     "text": [
      "Global round: 737 | Average loss: 0.5901308721966214\n",
      "Global Round: 738\n"
     ]
    },
    {
     "name": "stderr",
     "output_type": "stream",
     "text": [
      "Train Epoch: 738/1001. Iter:   18/  18. Data: 0.056s. Batch: 0.106s. Loss: 0.6011.: 100%|█| 18/18 [00:01<00:00,  9.41it/s]\n"
     ]
    },
    {
     "name": "stdout",
     "output_type": "stream",
     "text": [
      "Global round: 738 | Average loss: 0.5902326669957902\n",
      "Global Round: 739\n"
     ]
    },
    {
     "name": "stderr",
     "output_type": "stream",
     "text": [
      "Train Epoch: 739/1001. Iter:   18/  18. Data: 0.056s. Batch: 0.105s. Loss: 0.5844.: 100%|█| 18/18 [00:01<00:00,  9.51it/s]\n"
     ]
    },
    {
     "name": "stdout",
     "output_type": "stream",
     "text": [
      "Global round: 739 | Average loss: 0.5914848347504934\n",
      "Global Round: 740\n"
     ]
    },
    {
     "name": "stderr",
     "output_type": "stream",
     "text": [
      "Train Epoch: 740/1001. Iter:   18/  18. Data: 0.055s. Batch: 0.104s. Loss: 0.5833.: 100%|█| 18/18 [00:01<00:00,  9.58it/s]\n"
     ]
    },
    {
     "name": "stdout",
     "output_type": "stream",
     "text": [
      "global epoch 741 saved\n",
      "Global round: 740 | Average loss: 0.5841148694356283\n",
      "Global Round: 741\n"
     ]
    },
    {
     "name": "stderr",
     "output_type": "stream",
     "text": [
      "Train Epoch: 741/1001. Iter:   18/  18. Data: 0.058s. Batch: 0.104s. Loss: 0.5895.: 100%|█| 18/18 [00:01<00:00,  9.66it/s]\n"
     ]
    },
    {
     "name": "stdout",
     "output_type": "stream",
     "text": [
      "Global round: 741 | Average loss: 0.5893335872226291\n",
      "Global Round: 742\n"
     ]
    },
    {
     "name": "stderr",
     "output_type": "stream",
     "text": [
      "Train Epoch: 742/1001. Iter:   18/  18. Data: 0.057s. Batch: 0.104s. Loss: 0.5728.: 100%|█| 18/18 [00:01<00:00,  9.62it/s]\n"
     ]
    },
    {
     "name": "stdout",
     "output_type": "stream",
     "text": [
      "Global round: 742 | Average loss: 0.5882244441244338\n",
      "Global Round: 743\n"
     ]
    },
    {
     "name": "stderr",
     "output_type": "stream",
     "text": [
      "Train Epoch: 743/1001. Iter:   18/  18. Data: 0.059s. Batch: 0.107s. Loss: 0.5967.: 100%|█| 18/18 [00:01<00:00,  9.34it/s]\n"
     ]
    },
    {
     "name": "stdout",
     "output_type": "stream",
     "text": [
      "Global round: 743 | Average loss: 0.5862450897693634\n",
      "Global Round: 744\n"
     ]
    },
    {
     "name": "stderr",
     "output_type": "stream",
     "text": [
      "Train Epoch: 744/1001. Iter:   18/  18. Data: 0.057s. Batch: 0.105s. Loss: 0.5808.: 100%|█| 18/18 [00:01<00:00,  9.56it/s]\n"
     ]
    },
    {
     "name": "stdout",
     "output_type": "stream",
     "text": [
      "Global round: 744 | Average loss: 0.5882936053805881\n",
      "Global Round: 745\n"
     ]
    },
    {
     "name": "stderr",
     "output_type": "stream",
     "text": [
      "Train Epoch: 745/1001. Iter:   18/  18. Data: 0.057s. Batch: 0.104s. Loss: 0.5908.: 100%|█| 18/18 [00:01<00:00,  9.60it/s]\n"
     ]
    },
    {
     "name": "stdout",
     "output_type": "stream",
     "text": [
      "global epoch 746 saved\n",
      "Global round: 745 | Average loss: 0.5873160892062717\n",
      "Global Round: 746\n"
     ]
    },
    {
     "name": "stderr",
     "output_type": "stream",
     "text": [
      "Train Epoch: 746/1001. Iter:   18/  18. Data: 0.058s. Batch: 0.106s. Loss: 0.5742.: 100%|█| 18/18 [00:01<00:00,  9.55it/s]\n"
     ]
    },
    {
     "name": "stdout",
     "output_type": "stream",
     "text": [
      "Global round: 746 | Average loss: 0.5871172282430861\n",
      "Global Round: 747\n"
     ]
    },
    {
     "name": "stderr",
     "output_type": "stream",
     "text": [
      "Train Epoch: 747/1001. Iter:   18/  18. Data: 0.056s. Batch: 0.104s. Loss: 0.5957.: 100%|█| 18/18 [00:01<00:00,  9.60it/s]\n"
     ]
    },
    {
     "name": "stdout",
     "output_type": "stream",
     "text": [
      "Global round: 747 | Average loss: 0.5886877642737495\n",
      "Global Round: 748\n"
     ]
    },
    {
     "name": "stderr",
     "output_type": "stream",
     "text": [
      "Train Epoch: 748/1001. Iter:   18/  18. Data: 0.057s. Batch: 0.107s. Loss: 0.6127.: 100%|█| 18/18 [00:01<00:00,  9.31it/s]\n"
     ]
    },
    {
     "name": "stdout",
     "output_type": "stream",
     "text": [
      "Global round: 748 | Average loss: 0.5893338918685913\n",
      "Global Round: 749\n"
     ]
    },
    {
     "name": "stderr",
     "output_type": "stream",
     "text": [
      "Train Epoch: 749/1001. Iter:   18/  18. Data: 0.056s. Batch: 0.105s. Loss: 0.5700.: 100%|█| 18/18 [00:01<00:00,  9.56it/s]\n"
     ]
    },
    {
     "name": "stdout",
     "output_type": "stream",
     "text": [
      "Global round: 749 | Average loss: 0.5877794027328491\n",
      "Global Round: 750\n"
     ]
    },
    {
     "name": "stderr",
     "output_type": "stream",
     "text": [
      "Train Epoch: 750/1001. Iter:   18/  18. Data: 0.056s. Batch: 0.105s. Loss: 0.6066.: 100%|█| 18/18 [00:01<00:00,  9.50it/s]\n"
     ]
    },
    {
     "name": "stdout",
     "output_type": "stream",
     "text": [
      "global epoch 751 saved\n",
      "Global round: 750 | Average loss: 0.5896363457043966\n",
      "Global Round: 751\n"
     ]
    },
    {
     "name": "stderr",
     "output_type": "stream",
     "text": [
      "Train Epoch: 751/1001. Iter:   18/  18. Data: 0.061s. Batch: 0.110s. Loss: 0.5901.: 100%|█| 18/18 [00:01<00:00,  9.19it/s]\n"
     ]
    },
    {
     "name": "stdout",
     "output_type": "stream",
     "text": [
      "Global round: 751 | Average loss: 0.5930109156502618\n",
      "Global Round: 752\n"
     ]
    },
    {
     "name": "stderr",
     "output_type": "stream",
     "text": [
      "Train Epoch: 752/1001. Iter:   18/  18. Data: 0.058s. Batch: 0.107s. Loss: 0.5882.: 100%|█| 18/18 [00:01<00:00,  9.35it/s]\n"
     ]
    },
    {
     "name": "stdout",
     "output_type": "stream",
     "text": [
      "Global round: 752 | Average loss: 0.5901275012228224\n",
      "Global Round: 753\n"
     ]
    },
    {
     "name": "stderr",
     "output_type": "stream",
     "text": [
      "Train Epoch: 753/1001. Iter:   18/  18. Data: 0.057s. Batch: 0.104s. Loss: 0.5938.: 100%|█| 18/18 [00:01<00:00,  9.59it/s]\n"
     ]
    },
    {
     "name": "stdout",
     "output_type": "stream",
     "text": [
      "Global round: 753 | Average loss: 0.5878319839636484\n",
      "Global Round: 754\n"
     ]
    },
    {
     "name": "stderr",
     "output_type": "stream",
     "text": [
      "Train Epoch: 754/1001. Iter:   18/  18. Data: 0.059s. Batch: 0.105s. Loss: 0.5951.: 100%|█| 18/18 [00:01<00:00,  9.54it/s]\n"
     ]
    },
    {
     "name": "stdout",
     "output_type": "stream",
     "text": [
      "Global round: 754 | Average loss: 0.5891749693287743\n",
      "Global Round: 755\n"
     ]
    },
    {
     "name": "stderr",
     "output_type": "stream",
     "text": [
      "Train Epoch: 755/1001. Iter:   18/  18. Data: 0.057s. Batch: 0.103s. Loss: 0.5747.: 100%|█| 18/18 [00:01<00:00,  9.73it/s]\n"
     ]
    },
    {
     "name": "stdout",
     "output_type": "stream",
     "text": [
      "global epoch 756 saved\n",
      "Global round: 755 | Average loss: 0.5870901346206665\n",
      "Global Round: 756\n"
     ]
    },
    {
     "name": "stderr",
     "output_type": "stream",
     "text": [
      "Train Epoch: 756/1001. Iter:   18/  18. Data: 0.058s. Batch: 0.105s. Loss: 0.5984.: 100%|█| 18/18 [00:01<00:00,  9.58it/s]\n"
     ]
    },
    {
     "name": "stdout",
     "output_type": "stream",
     "text": [
      "Global round: 756 | Average loss: 0.5845965213245816\n",
      "Global Round: 757\n"
     ]
    },
    {
     "name": "stderr",
     "output_type": "stream",
     "text": [
      "Train Epoch: 757/1001. Iter:   18/  18. Data: 0.056s. Batch: 0.102s. Loss: 0.5974.: 100%|█| 18/18 [00:01<00:00,  9.83it/s]\n"
     ]
    },
    {
     "name": "stdout",
     "output_type": "stream",
     "text": [
      "Global round: 757 | Average loss: 0.5891156925095452\n",
      "Global Round: 758\n"
     ]
    },
    {
     "name": "stderr",
     "output_type": "stream",
     "text": [
      "Train Epoch: 758/1001. Iter:   18/  18. Data: 0.056s. Batch: 0.103s. Loss: 0.5781.: 100%|█| 18/18 [00:01<00:00,  9.76it/s]\n"
     ]
    },
    {
     "name": "stdout",
     "output_type": "stream",
     "text": [
      "Global round: 758 | Average loss: 0.5911718275811937\n",
      "Global Round: 759\n"
     ]
    },
    {
     "name": "stderr",
     "output_type": "stream",
     "text": [
      "Train Epoch: 759/1001. Iter:   18/  18. Data: 0.057s. Batch: 0.105s. Loss: 0.5775.: 100%|█| 18/18 [00:01<00:00,  9.55it/s]\n"
     ]
    },
    {
     "name": "stdout",
     "output_type": "stream",
     "text": [
      "Global round: 759 | Average loss: 0.5918426381217109\n",
      "Global Round: 760\n"
     ]
    },
    {
     "name": "stderr",
     "output_type": "stream",
     "text": [
      "Train Epoch: 760/1001. Iter:   18/  18. Data: 0.056s. Batch: 0.102s. Loss: 0.5985.: 100%|█| 18/18 [00:01<00:00,  9.77it/s]\n"
     ]
    },
    {
     "name": "stdout",
     "output_type": "stream",
     "text": [
      "global epoch 761 saved\n",
      "Global round: 760 | Average loss: 0.589394125673506\n",
      "Global Round: 761\n"
     ]
    },
    {
     "name": "stderr",
     "output_type": "stream",
     "text": [
      "Train Epoch: 761/1001. Iter:   18/  18. Data: 0.056s. Batch: 0.105s. Loss: 0.5893.: 100%|█| 18/18 [00:01<00:00,  9.59it/s]\n"
     ]
    },
    {
     "name": "stdout",
     "output_type": "stream",
     "text": [
      "Global round: 761 | Average loss: 0.5856571197509766\n",
      "Global Round: 762\n"
     ]
    },
    {
     "name": "stderr",
     "output_type": "stream",
     "text": [
      "Train Epoch: 762/1001. Iter:   18/  18. Data: 0.056s. Batch: 0.109s. Loss: 0.5845.: 100%|█| 18/18 [00:01<00:00,  9.17it/s]\n"
     ]
    },
    {
     "name": "stdout",
     "output_type": "stream",
     "text": [
      "Global round: 762 | Average loss: 0.584980222913954\n",
      "Global Round: 763\n"
     ]
    },
    {
     "name": "stderr",
     "output_type": "stream",
     "text": [
      "Train Epoch: 763/1001. Iter:   18/  18. Data: 0.056s. Batch: 0.108s. Loss: 0.5714.: 100%|█| 18/18 [00:01<00:00,  9.29it/s]\n"
     ]
    },
    {
     "name": "stdout",
     "output_type": "stream",
     "text": [
      "Global round: 763 | Average loss: 0.5870051549540626\n",
      "Global Round: 764\n"
     ]
    },
    {
     "name": "stderr",
     "output_type": "stream",
     "text": [
      "Train Epoch: 764/1001. Iter:   18/  18. Data: 0.056s. Batch: 0.110s. Loss: 0.5819.: 100%|█| 18/18 [00:01<00:00,  9.09it/s]\n"
     ]
    },
    {
     "name": "stdout",
     "output_type": "stream",
     "text": [
      "Global round: 764 | Average loss: 0.5869933896594577\n",
      "Global Round: 765\n"
     ]
    },
    {
     "name": "stderr",
     "output_type": "stream",
     "text": [
      "Train Epoch: 765/1001. Iter:   18/  18. Data: 0.056s. Batch: 0.106s. Loss: 0.5936.: 100%|█| 18/18 [00:01<00:00,  9.44it/s]\n"
     ]
    },
    {
     "name": "stdout",
     "output_type": "stream",
     "text": [
      "global epoch 766 saved\n",
      "Global round: 765 | Average loss: 0.5866853959030576\n",
      "Global Round: 766\n"
     ]
    },
    {
     "name": "stderr",
     "output_type": "stream",
     "text": [
      "Train Epoch: 766/1001. Iter:   18/  18. Data: 0.057s. Batch: 0.104s. Loss: 0.5930.: 100%|█| 18/18 [00:01<00:00,  9.74it/s]\n"
     ]
    },
    {
     "name": "stdout",
     "output_type": "stream",
     "text": [
      "Global round: 766 | Average loss: 0.5829504695203569\n",
      "Global Round: 767\n"
     ]
    },
    {
     "name": "stderr",
     "output_type": "stream",
     "text": [
      "Train Epoch: 767/1001. Iter:   18/  18. Data: 0.058s. Batch: 0.105s. Loss: 0.5841.: 100%|█| 18/18 [00:01<00:00,  9.52it/s]\n"
     ]
    },
    {
     "name": "stdout",
     "output_type": "stream",
     "text": [
      "Global round: 767 | Average loss: 0.5880042579438951\n",
      "Global Round: 768\n"
     ]
    },
    {
     "name": "stderr",
     "output_type": "stream",
     "text": [
      "Train Epoch: 768/1001. Iter:   18/  18. Data: 0.057s. Batch: 0.104s. Loss: 0.5748.: 100%|█| 18/18 [00:01<00:00,  9.62it/s]\n"
     ]
    },
    {
     "name": "stdout",
     "output_type": "stream",
     "text": [
      "Global round: 768 | Average loss: 0.5895080731974708\n",
      "Global Round: 769\n"
     ]
    },
    {
     "name": "stderr",
     "output_type": "stream",
     "text": [
      "Train Epoch: 769/1001. Iter:   18/  18. Data: 0.056s. Batch: 0.102s. Loss: 0.5733.: 100%|█| 18/18 [00:01<00:00,  9.78it/s]\n"
     ]
    },
    {
     "name": "stdout",
     "output_type": "stream",
     "text": [
      "Global round: 769 | Average loss: 0.5862090686957041\n",
      "Global Round: 770\n"
     ]
    },
    {
     "name": "stderr",
     "output_type": "stream",
     "text": [
      "Train Epoch: 770/1001. Iter:   18/  18. Data: 0.059s. Batch: 0.105s. Loss: 0.5882.: 100%|█| 18/18 [00:01<00:00,  9.57it/s]\n"
     ]
    },
    {
     "name": "stdout",
     "output_type": "stream",
     "text": [
      "global epoch 771 saved\n",
      "Global round: 770 | Average loss: 0.5883162419001261\n",
      "Global Round: 771\n"
     ]
    },
    {
     "name": "stderr",
     "output_type": "stream",
     "text": [
      "Train Epoch: 771/1001. Iter:   18/  18. Data: 0.056s. Batch: 0.103s. Loss: 0.5793.: 100%|█| 18/18 [00:01<00:00,  9.80it/s]\n"
     ]
    },
    {
     "name": "stdout",
     "output_type": "stream",
     "text": [
      "Global round: 771 | Average loss: 0.5874873002370199\n",
      "Global Round: 772\n"
     ]
    },
    {
     "name": "stderr",
     "output_type": "stream",
     "text": [
      "Train Epoch: 772/1001. Iter:   18/  18. Data: 0.057s. Batch: 0.105s. Loss: 0.5807.: 100%|█| 18/18 [00:01<00:00,  9.53it/s]\n"
     ]
    },
    {
     "name": "stdout",
     "output_type": "stream",
     "text": [
      "Global round: 772 | Average loss: 0.5865301820966933\n",
      "Global Round: 773\n"
     ]
    },
    {
     "name": "stderr",
     "output_type": "stream",
     "text": [
      "Train Epoch: 773/1001. Iter:   18/  18. Data: 0.055s. Batch: 0.102s. Loss: 0.5869.: 100%|█| 18/18 [00:01<00:00,  9.79it/s]\n"
     ]
    },
    {
     "name": "stdout",
     "output_type": "stream",
     "text": [
      "Global round: 773 | Average loss: 0.5860156118869781\n",
      "Global Round: 774\n"
     ]
    },
    {
     "name": "stderr",
     "output_type": "stream",
     "text": [
      "Train Epoch: 774/1001. Iter:   18/  18. Data: 0.055s. Batch: 0.102s. Loss: 0.5913.: 100%|█| 18/18 [00:01<00:00,  9.79it/s]\n"
     ]
    },
    {
     "name": "stdout",
     "output_type": "stream",
     "text": [
      "Global round: 774 | Average loss: 0.5870276292165121\n",
      "Global Round: 775\n"
     ]
    },
    {
     "name": "stderr",
     "output_type": "stream",
     "text": [
      "Train Epoch: 775/1001. Iter:   18/  18. Data: 0.056s. Batch: 0.104s. Loss: 0.5750.: 100%|█| 18/18 [00:01<00:00,  9.61it/s]\n"
     ]
    },
    {
     "name": "stdout",
     "output_type": "stream",
     "text": [
      "global epoch 776 saved\n",
      "Global round: 775 | Average loss: 0.5856005681885613\n",
      "Global Round: 776\n"
     ]
    },
    {
     "name": "stderr",
     "output_type": "stream",
     "text": [
      "Train Epoch: 776/1001. Iter:   18/  18. Data: 0.057s. Batch: 0.103s. Loss: 0.6100.: 100%|█| 18/18 [00:01<00:00,  9.78it/s]\n"
     ]
    },
    {
     "name": "stdout",
     "output_type": "stream",
     "text": [
      "Global round: 776 | Average loss: 0.5868062211407555\n",
      "Global Round: 777\n"
     ]
    },
    {
     "name": "stderr",
     "output_type": "stream",
     "text": [
      "Train Epoch: 777/1001. Iter:   18/  18. Data: 0.058s. Batch: 0.103s. Loss: 0.5876.: 100%|█| 18/18 [00:01<00:00,  9.67it/s]\n"
     ]
    },
    {
     "name": "stdout",
     "output_type": "stream",
     "text": [
      "Global round: 777 | Average loss: 0.5821385350492265\n",
      "Global Round: 778\n"
     ]
    },
    {
     "name": "stderr",
     "output_type": "stream",
     "text": [
      "Train Epoch: 778/1001. Iter:   18/  18. Data: 0.060s. Batch: 0.106s. Loss: 0.5827.: 100%|█| 18/18 [00:01<00:00,  9.43it/s]\n"
     ]
    },
    {
     "name": "stdout",
     "output_type": "stream",
     "text": [
      "Global round: 778 | Average loss: 0.5835204621156057\n",
      "Global Round: 779\n"
     ]
    },
    {
     "name": "stderr",
     "output_type": "stream",
     "text": [
      "Train Epoch: 779/1001. Iter:   18/  18. Data: 0.057s. Batch: 0.103s. Loss: 0.5992.: 100%|█| 18/18 [00:01<00:00,  9.67it/s]\n"
     ]
    },
    {
     "name": "stdout",
     "output_type": "stream",
     "text": [
      "Global round: 779 | Average loss: 0.586395177576277\n",
      "Global Round: 780\n"
     ]
    },
    {
     "name": "stderr",
     "output_type": "stream",
     "text": [
      "Train Epoch: 780/1001. Iter:   18/  18. Data: 0.061s. Batch: 0.107s. Loss: 0.5916.: 100%|█| 18/18 [00:01<00:00,  9.36it/s]\n"
     ]
    },
    {
     "name": "stdout",
     "output_type": "stream",
     "text": [
      "global epoch 781 saved\n",
      "Global round: 780 | Average loss: 0.5845046672556136\n",
      "Global Round: 781\n"
     ]
    },
    {
     "name": "stderr",
     "output_type": "stream",
     "text": [
      "Train Epoch: 781/1001. Iter:   18/  18. Data: 0.056s. Batch: 0.105s. Loss: 0.5894.: 100%|█| 18/18 [00:01<00:00,  9.61it/s]\n"
     ]
    },
    {
     "name": "stdout",
     "output_type": "stream",
     "text": [
      "Global round: 781 | Average loss: 0.5853803058465322\n",
      "Global Round: 782\n"
     ]
    },
    {
     "name": "stderr",
     "output_type": "stream",
     "text": [
      "Train Epoch: 782/1001. Iter:   18/  18. Data: 0.056s. Batch: 0.104s. Loss: 0.5755.: 100%|█| 18/18 [00:01<00:00,  9.61it/s]\n"
     ]
    },
    {
     "name": "stdout",
     "output_type": "stream",
     "text": [
      "Global round: 782 | Average loss: 0.5878075328138139\n",
      "Global Round: 783\n"
     ]
    },
    {
     "name": "stderr",
     "output_type": "stream",
     "text": [
      "Train Epoch: 783/1001. Iter:   18/  18. Data: 0.058s. Batch: 0.108s. Loss: 0.5813.: 100%|█| 18/18 [00:01<00:00,  9.25it/s]\n"
     ]
    },
    {
     "name": "stdout",
     "output_type": "stream",
     "text": [
      "Global round: 783 | Average loss: 0.5849273933304681\n",
      "Global Round: 784\n"
     ]
    },
    {
     "name": "stderr",
     "output_type": "stream",
     "text": [
      "Train Epoch: 784/1001. Iter:   18/  18. Data: 0.057s. Batch: 0.105s. Loss: 0.5813.: 100%|█| 18/18 [00:01<00:00,  9.55it/s]\n"
     ]
    },
    {
     "name": "stdout",
     "output_type": "stream",
     "text": [
      "Global round: 784 | Average loss: 0.5864347914854685\n",
      "Global Round: 785\n"
     ]
    },
    {
     "name": "stderr",
     "output_type": "stream",
     "text": [
      "Train Epoch: 785/1001. Iter:   18/  18. Data: 0.058s. Batch: 0.107s. Loss: 0.5710.: 100%|█| 18/18 [00:01<00:00,  9.32it/s]\n"
     ]
    },
    {
     "name": "stdout",
     "output_type": "stream",
     "text": [
      "global epoch 786 saved\n",
      "Global round: 785 | Average loss: 0.5859114726384481\n",
      "Global Round: 786\n"
     ]
    },
    {
     "name": "stderr",
     "output_type": "stream",
     "text": [
      "Train Epoch: 786/1001. Iter:   18/  18. Data: 0.057s. Batch: 0.104s. Loss: 0.5759.: 100%|█| 18/18 [00:01<00:00,  9.68it/s]\n"
     ]
    },
    {
     "name": "stdout",
     "output_type": "stream",
     "text": [
      "Global round: 786 | Average loss: 0.589346256521013\n",
      "Global Round: 787\n"
     ]
    },
    {
     "name": "stderr",
     "output_type": "stream",
     "text": [
      "Train Epoch: 787/1001. Iter:   18/  18. Data: 0.055s. Batch: 0.104s. Loss: 0.5864.: 100%|█| 18/18 [00:01<00:00,  9.59it/s]\n"
     ]
    },
    {
     "name": "stdout",
     "output_type": "stream",
     "text": [
      "Global round: 787 | Average loss: 0.5850126710202959\n",
      "Global Round: 788\n"
     ]
    },
    {
     "name": "stderr",
     "output_type": "stream",
     "text": [
      "Train Epoch: 788/1001. Iter:   18/  18. Data: 0.056s. Batch: 0.108s. Loss: 0.5998.: 100%|█| 18/18 [00:01<00:00,  9.27it/s]\n"
     ]
    },
    {
     "name": "stdout",
     "output_type": "stream",
     "text": [
      "Global round: 788 | Average loss: 0.5845351914564768\n",
      "Global Round: 789\n"
     ]
    },
    {
     "name": "stderr",
     "output_type": "stream",
     "text": [
      "Train Epoch: 789/1001. Iter:   18/  18. Data: 0.055s. Batch: 0.103s. Loss: 0.5687.: 100%|█| 18/18 [00:01<00:00,  9.74it/s]\n"
     ]
    },
    {
     "name": "stdout",
     "output_type": "stream",
     "text": [
      "Global round: 789 | Average loss: 0.5845137271616194\n",
      "Global Round: 790\n"
     ]
    },
    {
     "name": "stderr",
     "output_type": "stream",
     "text": [
      "Train Epoch: 790/1001. Iter:   18/  18. Data: 0.055s. Batch: 0.102s. Loss: 0.6091.: 100%|█| 18/18 [00:01<00:00,  9.78it/s]\n"
     ]
    },
    {
     "name": "stdout",
     "output_type": "stream",
     "text": [
      "global epoch 791 saved\n",
      "Global round: 790 | Average loss: 0.586219287580914\n",
      "Global Round: 791\n"
     ]
    },
    {
     "name": "stderr",
     "output_type": "stream",
     "text": [
      "Train Epoch: 791/1001. Iter:   18/  18. Data: 0.059s. Batch: 0.106s. Loss: 0.5674.: 100%|█| 18/18 [00:01<00:00,  9.52it/s]\n"
     ]
    },
    {
     "name": "stdout",
     "output_type": "stream",
     "text": [
      "Global round: 791 | Average loss: 0.5821675293975406\n",
      "Global Round: 792\n"
     ]
    },
    {
     "name": "stderr",
     "output_type": "stream",
     "text": [
      "Train Epoch: 792/1001. Iter:   18/  18. Data: 0.057s. Batch: 0.104s. Loss: 0.5875.: 100%|█| 18/18 [00:01<00:00,  9.66it/s]\n"
     ]
    },
    {
     "name": "stdout",
     "output_type": "stream",
     "text": [
      "Global round: 792 | Average loss: 0.5862427784336938\n",
      "Global Round: 793\n"
     ]
    },
    {
     "name": "stderr",
     "output_type": "stream",
     "text": [
      "Train Epoch: 793/1001. Iter:   18/  18. Data: 0.059s. Batch: 0.106s. Loss: 0.5818.: 100%|█| 18/18 [00:01<00:00,  9.45it/s]\n"
     ]
    },
    {
     "name": "stdout",
     "output_type": "stream",
     "text": [
      "Global round: 793 | Average loss: 0.5852496723333994\n",
      "Global Round: 794\n"
     ]
    },
    {
     "name": "stderr",
     "output_type": "stream",
     "text": [
      "Train Epoch: 794/1001. Iter:   18/  18. Data: 0.056s. Batch: 0.102s. Loss: 0.6000.: 100%|█| 18/18 [00:01<00:00,  9.78it/s]\n"
     ]
    },
    {
     "name": "stdout",
     "output_type": "stream",
     "text": [
      "Global round: 794 | Average loss: 0.5871689816315969\n",
      "Global Round: 795\n"
     ]
    },
    {
     "name": "stderr",
     "output_type": "stream",
     "text": [
      "Train Epoch: 795/1001. Iter:   18/  18. Data: 0.056s. Batch: 0.102s. Loss: 0.6050.: 100%|█| 18/18 [00:01<00:00,  9.79it/s]\n"
     ]
    },
    {
     "name": "stdout",
     "output_type": "stream",
     "text": [
      "global epoch 796 saved\n",
      "Global round: 795 | Average loss: 0.5844325323899587\n",
      "Global Round: 796\n"
     ]
    },
    {
     "name": "stderr",
     "output_type": "stream",
     "text": [
      "Train Epoch: 796/1001. Iter:   18/  18. Data: 0.059s. Batch: 0.107s. Loss: 0.6010.: 100%|█| 18/18 [00:01<00:00,  9.45it/s]\n"
     ]
    },
    {
     "name": "stdout",
     "output_type": "stream",
     "text": [
      "Global round: 796 | Average loss: 0.5855645206239488\n",
      "Global Round: 797\n"
     ]
    },
    {
     "name": "stderr",
     "output_type": "stream",
     "text": [
      "Train Epoch: 797/1001. Iter:   18/  18. Data: 0.055s. Batch: 0.103s. Loss: 0.5801.: 100%|█| 18/18 [00:01<00:00,  9.69it/s]\n"
     ]
    },
    {
     "name": "stdout",
     "output_type": "stream",
     "text": [
      "Global round: 797 | Average loss: 0.5839698877599504\n",
      "Global Round: 798\n"
     ]
    },
    {
     "name": "stderr",
     "output_type": "stream",
     "text": [
      "Train Epoch: 798/1001. Iter:   18/  18. Data: 0.056s. Batch: 0.105s. Loss: 0.5762.: 100%|█| 18/18 [00:01<00:00,  9.54it/s]\n"
     ]
    },
    {
     "name": "stdout",
     "output_type": "stream",
     "text": [
      "Global round: 798 | Average loss: 0.584336562289132\n",
      "Global Round: 799\n"
     ]
    },
    {
     "name": "stderr",
     "output_type": "stream",
     "text": [
      "Train Epoch: 799/1001. Iter:   18/  18. Data: 0.058s. Batch: 0.108s. Loss: 0.6136.: 100%|█| 18/18 [00:01<00:00,  9.26it/s]\n"
     ]
    },
    {
     "name": "stdout",
     "output_type": "stream",
     "text": [
      "Global round: 799 | Average loss: 0.5838016966978709\n",
      "Global Round: 800\n"
     ]
    },
    {
     "name": "stderr",
     "output_type": "stream",
     "text": [
      "Train Epoch: 800/1001. Iter:   18/  18. Data: 0.056s. Batch: 0.105s. Loss: 0.5872.: 100%|█| 18/18 [00:01<00:00,  9.56it/s]\n"
     ]
    },
    {
     "name": "stdout",
     "output_type": "stream",
     "text": [
      "global epoch 801 saved\n",
      "Global round: 800 | Average loss: 0.5858447849750519\n",
      "Global Round: 801\n"
     ]
    },
    {
     "name": "stderr",
     "output_type": "stream",
     "text": [
      "Train Epoch: 801/1001. Iter:   18/  18. Data: 0.060s. Batch: 0.108s. Loss: 0.5728.: 100%|█| 18/18 [00:01<00:00,  9.26it/s]\n"
     ]
    },
    {
     "name": "stdout",
     "output_type": "stream",
     "text": [
      "Global round: 801 | Average loss: 0.5829472608036466\n",
      "Global Round: 802\n"
     ]
    },
    {
     "name": "stderr",
     "output_type": "stream",
     "text": [
      "Train Epoch: 802/1001. Iter:   18/  18. Data: 0.058s. Batch: 0.104s. Loss: 0.5799.: 100%|█| 18/18 [00:01<00:00,  9.58it/s]\n"
     ]
    },
    {
     "name": "stdout",
     "output_type": "stream",
     "text": [
      "Global round: 802 | Average loss: 0.5864182379510667\n",
      "Global Round: 803\n"
     ]
    },
    {
     "name": "stderr",
     "output_type": "stream",
     "text": [
      "Train Epoch: 803/1001. Iter:   18/  18. Data: 0.058s. Batch: 0.105s. Loss: 0.5715.: 100%|█| 18/18 [00:01<00:00,  9.50it/s]\n"
     ]
    },
    {
     "name": "stdout",
     "output_type": "stream",
     "text": [
      "Global round: 803 | Average loss: 0.5810498264100816\n",
      "Global Round: 804\n"
     ]
    },
    {
     "name": "stderr",
     "output_type": "stream",
     "text": [
      "Train Epoch: 804/1001. Iter:   18/  18. Data: 0.061s. Batch: 0.107s. Loss: 0.6005.: 100%|█| 18/18 [00:01<00:00,  9.31it/s]\n"
     ]
    },
    {
     "name": "stdout",
     "output_type": "stream",
     "text": [
      "Global round: 804 | Average loss: 0.588151925139957\n",
      "Global Round: 805\n"
     ]
    },
    {
     "name": "stderr",
     "output_type": "stream",
     "text": [
      "Train Epoch: 805/1001. Iter:   18/  18. Data: 0.057s. Batch: 0.103s. Loss: 0.5811.: 100%|█| 18/18 [00:01<00:00,  9.69it/s]\n"
     ]
    },
    {
     "name": "stdout",
     "output_type": "stream",
     "text": [
      "global epoch 806 saved\n",
      "Global round: 805 | Average loss: 0.5834122366375394\n",
      "Global Round: 806\n"
     ]
    },
    {
     "name": "stderr",
     "output_type": "stream",
     "text": [
      "Train Epoch: 806/1001. Iter:   18/  18. Data: 0.056s. Batch: 0.104s. Loss: 0.5817.: 100%|█| 18/18 [00:01<00:00,  9.74it/s]\n"
     ]
    },
    {
     "name": "stdout",
     "output_type": "stream",
     "text": [
      "Global round: 806 | Average loss: 0.5844797326458825\n",
      "Global Round: 807\n"
     ]
    },
    {
     "name": "stderr",
     "output_type": "stream",
     "text": [
      "Train Epoch: 807/1001. Iter:   18/  18. Data: 0.057s. Batch: 0.105s. Loss: 0.5803.: 100%|█| 18/18 [00:01<00:00,  9.57it/s]\n"
     ]
    },
    {
     "name": "stdout",
     "output_type": "stream",
     "text": [
      "Global round: 807 | Average loss: 0.5832003719276853\n",
      "Global Round: 808\n"
     ]
    },
    {
     "name": "stderr",
     "output_type": "stream",
     "text": [
      "Train Epoch: 808/1001. Iter:   18/  18. Data: 0.056s. Batch: 0.103s. Loss: 0.5960.: 100%|█| 18/18 [00:01<00:00,  9.70it/s]\n"
     ]
    },
    {
     "name": "stdout",
     "output_type": "stream",
     "text": [
      "Global round: 808 | Average loss: 0.5838458074463738\n",
      "Global Round: 809\n"
     ]
    },
    {
     "name": "stderr",
     "output_type": "stream",
     "text": [
      "Train Epoch: 809/1001. Iter:   18/  18. Data: 0.058s. Batch: 0.106s. Loss: 0.5982.: 100%|█| 18/18 [00:01<00:00,  9.41it/s]\n"
     ]
    },
    {
     "name": "stdout",
     "output_type": "stream",
     "text": [
      "Global round: 809 | Average loss: 0.5861352417204115\n",
      "Global Round: 810\n"
     ]
    },
    {
     "name": "stderr",
     "output_type": "stream",
     "text": [
      "Train Epoch: 810/1001. Iter:   18/  18. Data: 0.057s. Batch: 0.104s. Loss: 0.6092.: 100%|█| 18/18 [00:01<00:00,  9.59it/s]\n"
     ]
    },
    {
     "name": "stdout",
     "output_type": "stream",
     "text": [
      "global epoch 811 saved\n",
      "Global round: 810 | Average loss: 0.5826899343066745\n",
      "Global Round: 811\n"
     ]
    },
    {
     "name": "stderr",
     "output_type": "stream",
     "text": [
      "Train Epoch: 811/1001. Iter:   18/  18. Data: 0.058s. Batch: 0.105s. Loss: 0.5760.: 100%|█| 18/18 [00:01<00:00,  9.60it/s]\n"
     ]
    },
    {
     "name": "stdout",
     "output_type": "stream",
     "text": [
      "Global round: 811 | Average loss: 0.5843121608098348\n",
      "Global Round: 812\n"
     ]
    },
    {
     "name": "stderr",
     "output_type": "stream",
     "text": [
      "Train Epoch: 812/1001. Iter:   18/  18. Data: 0.055s. Batch: 0.105s. Loss: 0.5603.: 100%|█| 18/18 [00:01<00:00,  9.51it/s]\n"
     ]
    },
    {
     "name": "stdout",
     "output_type": "stream",
     "text": [
      "Global round: 812 | Average loss: 0.5854184495078193\n",
      "Global Round: 813\n"
     ]
    },
    {
     "name": "stderr",
     "output_type": "stream",
     "text": [
      "Train Epoch: 813/1001. Iter:   18/  18. Data: 0.056s. Batch: 0.105s. Loss: 0.6035.: 100%|█| 18/18 [00:01<00:00,  9.56it/s]\n"
     ]
    },
    {
     "name": "stdout",
     "output_type": "stream",
     "text": [
      "Global round: 813 | Average loss: 0.5861993730068207\n",
      "Global Round: 814\n"
     ]
    },
    {
     "name": "stderr",
     "output_type": "stream",
     "text": [
      "Train Epoch: 814/1001. Iter:   18/  18. Data: 0.055s. Batch: 0.105s. Loss: 0.5974.: 100%|█| 18/18 [00:01<00:00,  9.49it/s]\n"
     ]
    },
    {
     "name": "stdout",
     "output_type": "stream",
     "text": [
      "Global round: 814 | Average loss: 0.580434285932117\n",
      "Global Round: 815\n"
     ]
    },
    {
     "name": "stderr",
     "output_type": "stream",
     "text": [
      "Train Epoch: 815/1001. Iter:   18/  18. Data: 0.054s. Batch: 0.102s. Loss: 0.5884.: 100%|█| 18/18 [00:01<00:00,  9.81it/s]\n"
     ]
    },
    {
     "name": "stdout",
     "output_type": "stream",
     "text": [
      "global epoch 816 saved\n",
      "Global round: 815 | Average loss: 0.584257013267941\n",
      "Global Round: 816\n"
     ]
    },
    {
     "name": "stderr",
     "output_type": "stream",
     "text": [
      "Train Epoch: 816/1001. Iter:   18/  18. Data: 0.057s. Batch: 0.104s. Loss: 0.5773.: 100%|█| 18/18 [00:01<00:00,  9.69it/s]\n"
     ]
    },
    {
     "name": "stdout",
     "output_type": "stream",
     "text": [
      "Global round: 816 | Average loss: 0.5811482204331292\n",
      "Global Round: 817\n"
     ]
    },
    {
     "name": "stderr",
     "output_type": "stream",
     "text": [
      "Train Epoch: 817/1001. Iter:   18/  18. Data: 0.059s. Batch: 0.107s. Loss: 0.5583.: 100%|█| 18/18 [00:01<00:00,  9.32it/s]\n"
     ]
    },
    {
     "name": "stdout",
     "output_type": "stream",
     "text": [
      "Global round: 817 | Average loss: 0.5825312170717452\n",
      "Global Round: 818\n"
     ]
    },
    {
     "name": "stderr",
     "output_type": "stream",
     "text": [
      "Train Epoch: 818/1001. Iter:   18/  18. Data: 0.057s. Batch: 0.103s. Loss: 0.5821.: 100%|█| 18/18 [00:01<00:00,  9.66it/s]\n"
     ]
    },
    {
     "name": "stdout",
     "output_type": "stream",
     "text": [
      "Global round: 818 | Average loss: 0.5855297876728905\n",
      "Global Round: 819\n"
     ]
    },
    {
     "name": "stderr",
     "output_type": "stream",
     "text": [
      "Train Epoch: 819/1001. Iter:   18/  18. Data: 0.057s. Batch: 0.103s. Loss: 0.5940.: 100%|█| 18/18 [00:01<00:00,  9.67it/s]\n"
     ]
    },
    {
     "name": "stdout",
     "output_type": "stream",
     "text": [
      "Global round: 819 | Average loss: 0.5817803045113882\n",
      "Global Round: 820\n"
     ]
    },
    {
     "name": "stderr",
     "output_type": "stream",
     "text": [
      "Train Epoch: 820/1001. Iter:   18/  18. Data: 0.060s. Batch: 0.107s. Loss: 0.5894.: 100%|█| 18/18 [00:01<00:00,  9.35it/s]\n"
     ]
    },
    {
     "name": "stdout",
     "output_type": "stream",
     "text": [
      "global epoch 821 saved\n",
      "Global round: 820 | Average loss: 0.5831391414006551\n",
      "Global Round: 821\n"
     ]
    },
    {
     "name": "stderr",
     "output_type": "stream",
     "text": [
      "Train Epoch: 821/1001. Iter:   18/  18. Data: 0.057s. Batch: 0.106s. Loss: 0.5755.: 100%|█| 18/18 [00:01<00:00,  9.51it/s]\n"
     ]
    },
    {
     "name": "stdout",
     "output_type": "stream",
     "text": [
      "Global round: 821 | Average loss: 0.5812781221336789\n",
      "Global Round: 822\n"
     ]
    },
    {
     "name": "stderr",
     "output_type": "stream",
     "text": [
      "Train Epoch: 822/1001. Iter:   18/  18. Data: 0.057s. Batch: 0.108s. Loss: 0.5952.: 100%|█| 18/18 [00:01<00:00,  9.30it/s]\n"
     ]
    },
    {
     "name": "stdout",
     "output_type": "stream",
     "text": [
      "Global round: 822 | Average loss: 0.5803508626090156\n",
      "Global Round: 823\n"
     ]
    },
    {
     "name": "stderr",
     "output_type": "stream",
     "text": [
      "Train Epoch: 823/1001. Iter:   18/  18. Data: 0.057s. Batch: 0.105s. Loss: 0.5848.: 100%|█| 18/18 [00:01<00:00,  9.51it/s]\n"
     ]
    },
    {
     "name": "stdout",
     "output_type": "stream",
     "text": [
      "Global round: 823 | Average loss: 0.5811723868052164\n",
      "Global Round: 824\n"
     ]
    },
    {
     "name": "stderr",
     "output_type": "stream",
     "text": [
      "Train Epoch: 824/1001. Iter:   18/  18. Data: 0.055s. Batch: 0.102s. Loss: 0.5710.: 100%|█| 18/18 [00:01<00:00,  9.76it/s]\n"
     ]
    },
    {
     "name": "stdout",
     "output_type": "stream",
     "text": [
      "Global round: 824 | Average loss: 0.5831135279602475\n",
      "Global Round: 825\n"
     ]
    },
    {
     "name": "stderr",
     "output_type": "stream",
     "text": [
      "Train Epoch: 825/1001. Iter:   18/  18. Data: 0.057s. Batch: 0.107s. Loss: 0.5776.: 100%|█| 18/18 [00:01<00:00,  9.36it/s]\n"
     ]
    },
    {
     "name": "stdout",
     "output_type": "stream",
     "text": [
      "global epoch 826 saved\n",
      "Global round: 825 | Average loss: 0.5806116826004453\n",
      "Global Round: 826\n"
     ]
    },
    {
     "name": "stderr",
     "output_type": "stream",
     "text": [
      "Train Epoch: 826/1001. Iter:   18/  18. Data: 0.058s. Batch: 0.104s. Loss: 0.5890.: 100%|█| 18/18 [00:01<00:00,  9.73it/s]\n"
     ]
    },
    {
     "name": "stdout",
     "output_type": "stream",
     "text": [
      "Global round: 826 | Average loss: 0.5811654296186235\n",
      "Global Round: 827\n"
     ]
    },
    {
     "name": "stderr",
     "output_type": "stream",
     "text": [
      "Train Epoch: 827/1001. Iter:   18/  18. Data: 0.057s. Batch: 0.104s. Loss: 0.6076.: 100%|█| 18/18 [00:01<00:00,  9.65it/s]\n"
     ]
    },
    {
     "name": "stdout",
     "output_type": "stream",
     "text": [
      "Global round: 827 | Average loss: 0.5812483098771837\n",
      "Global Round: 828\n"
     ]
    },
    {
     "name": "stderr",
     "output_type": "stream",
     "text": [
      "Train Epoch: 828/1001. Iter:   18/  18. Data: 0.060s. Batch: 0.106s. Loss: 0.5913.: 100%|█| 18/18 [00:01<00:00,  9.41it/s]\n"
     ]
    },
    {
     "name": "stdout",
     "output_type": "stream",
     "text": [
      "Global round: 828 | Average loss: 0.5852339598867629\n",
      "Global Round: 829\n"
     ]
    },
    {
     "name": "stderr",
     "output_type": "stream",
     "text": [
      "Train Epoch: 829/1001. Iter:   18/  18. Data: 0.058s. Batch: 0.105s. Loss: 0.5724.: 100%|█| 18/18 [00:01<00:00,  9.54it/s]\n"
     ]
    },
    {
     "name": "stdout",
     "output_type": "stream",
     "text": [
      "Global round: 829 | Average loss: 0.5808227823840247\n",
      "Global Round: 830\n"
     ]
    },
    {
     "name": "stderr",
     "output_type": "stream",
     "text": [
      "Train Epoch: 830/1001. Iter:   18/  18. Data: 0.060s. Batch: 0.107s. Loss: 0.5750.: 100%|█| 18/18 [00:01<00:00,  9.32it/s]\n"
     ]
    },
    {
     "name": "stdout",
     "output_type": "stream",
     "text": [
      "global epoch 831 saved\n",
      "Global round: 830 | Average loss: 0.5808243188593123\n",
      "Global Round: 831\n"
     ]
    },
    {
     "name": "stderr",
     "output_type": "stream",
     "text": [
      "Train Epoch: 831/1001. Iter:   18/  18. Data: 0.055s. Batch: 0.102s. Loss: 0.6102.: 100%|█| 18/18 [00:01<00:00,  9.81it/s]\n"
     ]
    },
    {
     "name": "stdout",
     "output_type": "stream",
     "text": [
      "Global round: 831 | Average loss: 0.5802435378233591\n",
      "Global Round: 832\n"
     ]
    },
    {
     "name": "stderr",
     "output_type": "stream",
     "text": [
      "Train Epoch: 832/1001. Iter:   18/  18. Data: 0.056s. Batch: 0.102s. Loss: 0.5691.: 100%|█| 18/18 [00:01<00:00,  9.81it/s]\n"
     ]
    },
    {
     "name": "stdout",
     "output_type": "stream",
     "text": [
      "Global round: 832 | Average loss: 0.5822861856884427\n",
      "Global Round: 833\n"
     ]
    },
    {
     "name": "stderr",
     "output_type": "stream",
     "text": [
      "Train Epoch: 833/1001. Iter:   18/  18. Data: 0.058s. Batch: 0.106s. Loss: 0.5795.: 100%|█| 18/18 [00:01<00:00,  9.48it/s]\n"
     ]
    },
    {
     "name": "stdout",
     "output_type": "stream",
     "text": [
      "Global round: 833 | Average loss: 0.5778211421436734\n",
      "Global Round: 834\n"
     ]
    },
    {
     "name": "stderr",
     "output_type": "stream",
     "text": [
      "Train Epoch: 834/1001. Iter:   18/  18. Data: 0.056s. Batch: 0.102s. Loss: 0.5930.: 100%|█| 18/18 [00:01<00:00,  9.83it/s]\n"
     ]
    },
    {
     "name": "stdout",
     "output_type": "stream",
     "text": [
      "Global round: 834 | Average loss: 0.5802939732869467\n",
      "Global Round: 835\n"
     ]
    },
    {
     "name": "stderr",
     "output_type": "stream",
     "text": [
      "Train Epoch: 835/1001. Iter:   18/  18. Data: 0.056s. Batch: 0.102s. Loss: 0.5948.: 100%|█| 18/18 [00:01<00:00,  9.82it/s]\n"
     ]
    },
    {
     "name": "stdout",
     "output_type": "stream",
     "text": [
      "global epoch 836 saved\n",
      "Global round: 835 | Average loss: 0.5811113284693824\n",
      "Global Round: 836\n"
     ]
    },
    {
     "name": "stderr",
     "output_type": "stream",
     "text": [
      "Train Epoch: 836/1001. Iter:   18/  18. Data: 0.057s. Batch: 0.105s. Loss: 0.5819.: 100%|█| 18/18 [00:01<00:00,  9.59it/s]\n"
     ]
    },
    {
     "name": "stdout",
     "output_type": "stream",
     "text": [
      "Global round: 836 | Average loss: 0.5826156735420227\n",
      "Global Round: 837\n"
     ]
    },
    {
     "name": "stderr",
     "output_type": "stream",
     "text": [
      "Train Epoch: 837/1001. Iter:   18/  18. Data: 0.054s. Batch: 0.102s. Loss: 0.5769.: 100%|█| 18/18 [00:01<00:00,  9.80it/s]\n"
     ]
    },
    {
     "name": "stdout",
     "output_type": "stream",
     "text": [
      "Global round: 837 | Average loss: 0.5824026200506423\n",
      "Global Round: 838\n"
     ]
    },
    {
     "name": "stderr",
     "output_type": "stream",
     "text": [
      "Train Epoch: 838/1001. Iter:   18/  18. Data: 0.055s. Batch: 0.105s. Loss: 0.5724.: 100%|█| 18/18 [00:01<00:00,  9.53it/s]\n"
     ]
    },
    {
     "name": "stdout",
     "output_type": "stream",
     "text": [
      "Global round: 838 | Average loss: 0.5809944272041321\n",
      "Global Round: 839\n"
     ]
    },
    {
     "name": "stderr",
     "output_type": "stream",
     "text": [
      "Train Epoch: 839/1001. Iter:   18/  18. Data: 0.055s. Batch: 0.102s. Loss: 0.5868.: 100%|█| 18/18 [00:01<00:00,  9.81it/s]\n"
     ]
    },
    {
     "name": "stdout",
     "output_type": "stream",
     "text": [
      "Global round: 839 | Average loss: 0.5807355841000875\n",
      "Global Round: 840\n"
     ]
    },
    {
     "name": "stderr",
     "output_type": "stream",
     "text": [
      "Train Epoch: 840/1001. Iter:   18/  18. Data: 0.055s. Batch: 0.104s. Loss: 0.5703.: 100%|█| 18/18 [00:01<00:00,  9.62it/s]\n"
     ]
    },
    {
     "name": "stdout",
     "output_type": "stream",
     "text": [
      "global epoch 841 saved\n",
      "Global round: 840 | Average loss: 0.5813858376608955\n",
      "Global Round: 841\n"
     ]
    },
    {
     "name": "stderr",
     "output_type": "stream",
     "text": [
      "Train Epoch: 841/1001. Iter:   18/  18. Data: 0.061s. Batch: 0.110s. Loss: 0.5782.: 100%|█| 18/18 [00:01<00:00,  9.20it/s]\n"
     ]
    },
    {
     "name": "stdout",
     "output_type": "stream",
     "text": [
      "Global round: 841 | Average loss: 0.585587716764874\n",
      "Global Round: 842\n"
     ]
    },
    {
     "name": "stderr",
     "output_type": "stream",
     "text": [
      "Train Epoch: 842/1001. Iter:   18/  18. Data: 0.058s. Batch: 0.105s. Loss: 0.5942.: 100%|█| 18/18 [00:01<00:00,  9.50it/s]\n"
     ]
    },
    {
     "name": "stdout",
     "output_type": "stream",
     "text": [
      "Global round: 842 | Average loss: 0.5832338631153107\n",
      "Global Round: 843\n"
     ]
    },
    {
     "name": "stderr",
     "output_type": "stream",
     "text": [
      "Train Epoch: 843/1001. Iter:   18/  18. Data: 0.057s. Batch: 0.105s. Loss: 0.5902.: 100%|█| 18/18 [00:01<00:00,  9.54it/s]\n"
     ]
    },
    {
     "name": "stdout",
     "output_type": "stream",
     "text": [
      "Global round: 843 | Average loss: 0.5790859394603305\n",
      "Global Round: 844\n"
     ]
    },
    {
     "name": "stderr",
     "output_type": "stream",
     "text": [
      "Train Epoch: 844/1001. Iter:   18/  18. Data: 0.059s. Batch: 0.107s. Loss: 0.5861.: 100%|█| 18/18 [00:01<00:00,  9.38it/s]\n"
     ]
    },
    {
     "name": "stdout",
     "output_type": "stream",
     "text": [
      "Global round: 844 | Average loss: 0.5814816686842177\n",
      "Global Round: 845\n"
     ]
    },
    {
     "name": "stderr",
     "output_type": "stream",
     "text": [
      "Train Epoch: 845/1001. Iter:   18/  18. Data: 0.056s. Batch: 0.102s. Loss: 0.5620.: 100%|█| 18/18 [00:01<00:00,  9.77it/s]\n"
     ]
    },
    {
     "name": "stdout",
     "output_type": "stream",
     "text": [
      "global epoch 846 saved\n",
      "Global round: 845 | Average loss: 0.5815180738766988\n",
      "Global Round: 846\n"
     ]
    },
    {
     "name": "stderr",
     "output_type": "stream",
     "text": [
      "Train Epoch: 846/1001. Iter:   18/  18. Data: 0.057s. Batch: 0.106s. Loss: 0.5867.: 100%|█| 18/18 [00:01<00:00,  9.55it/s]\n"
     ]
    },
    {
     "name": "stdout",
     "output_type": "stream",
     "text": [
      "Global round: 846 | Average loss: 0.5806342032220628\n",
      "Global Round: 847\n"
     ]
    },
    {
     "name": "stderr",
     "output_type": "stream",
     "text": [
      "Train Epoch: 847/1001. Iter:   18/  18. Data: 0.055s. Batch: 0.102s. Loss: 0.5886.: 100%|█| 18/18 [00:01<00:00,  9.77it/s]\n"
     ]
    },
    {
     "name": "stdout",
     "output_type": "stream",
     "text": [
      "Global round: 847 | Average loss: 0.5850895212756263\n",
      "Global Round: 848\n"
     ]
    },
    {
     "name": "stderr",
     "output_type": "stream",
     "text": [
      "Train Epoch: 848/1001. Iter:   18/  18. Data: 0.056s. Batch: 0.104s. Loss: 0.5955.: 100%|█| 18/18 [00:01<00:00,  9.60it/s]\n"
     ]
    },
    {
     "name": "stdout",
     "output_type": "stream",
     "text": [
      "Global round: 848 | Average loss: 0.5803598165512085\n",
      "Global Round: 849\n"
     ]
    },
    {
     "name": "stderr",
     "output_type": "stream",
     "text": [
      "Train Epoch: 849/1001. Iter:   18/  18. Data: 0.057s. Batch: 0.108s. Loss: 0.5775.: 100%|█| 18/18 [00:01<00:00,  9.28it/s]\n"
     ]
    },
    {
     "name": "stdout",
     "output_type": "stream",
     "text": [
      "Global round: 849 | Average loss: 0.5781295498212179\n",
      "Global Round: 850\n"
     ]
    },
    {
     "name": "stderr",
     "output_type": "stream",
     "text": [
      "Train Epoch: 850/1001. Iter:   18/  18. Data: 0.056s. Batch: 0.107s. Loss: 0.5818.: 100%|█| 18/18 [00:01<00:00,  9.34it/s]\n"
     ]
    },
    {
     "name": "stdout",
     "output_type": "stream",
     "text": [
      "global epoch 851 saved\n",
      "Global round: 850 | Average loss: 0.5846221446990967\n",
      "Global Round: 851\n"
     ]
    },
    {
     "name": "stderr",
     "output_type": "stream",
     "text": [
      "Train Epoch: 851/1001. Iter:   18/  18. Data: 0.057s. Batch: 0.106s. Loss: 0.5954.: 100%|█| 18/18 [00:01<00:00,  9.56it/s]\n"
     ]
    },
    {
     "name": "stdout",
     "output_type": "stream",
     "text": [
      "Global round: 851 | Average loss: 0.5824249883492788\n",
      "Global Round: 852\n"
     ]
    },
    {
     "name": "stderr",
     "output_type": "stream",
     "text": [
      "Train Epoch: 852/1001. Iter:   18/  18. Data: 0.060s. Batch: 0.106s. Loss: 0.5797.: 100%|█| 18/18 [00:01<00:00,  9.41it/s]\n"
     ]
    },
    {
     "name": "stdout",
     "output_type": "stream",
     "text": [
      "Global round: 852 | Average loss: 0.5807494190004137\n",
      "Global Round: 853\n"
     ]
    },
    {
     "name": "stderr",
     "output_type": "stream",
     "text": [
      "Train Epoch: 853/1001. Iter:   18/  18. Data: 0.059s. Batch: 0.106s. Loss: 0.5776.: 100%|█| 18/18 [00:01<00:00,  9.46it/s]\n"
     ]
    },
    {
     "name": "stdout",
     "output_type": "stream",
     "text": [
      "Global round: 853 | Average loss: 0.5842291580306159\n",
      "Global Round: 854\n"
     ]
    },
    {
     "name": "stderr",
     "output_type": "stream",
     "text": [
      "Train Epoch: 854/1001. Iter:   18/  18. Data: 0.060s. Batch: 0.105s. Loss: 0.5654.: 100%|█| 18/18 [00:01<00:00,  9.50it/s]\n"
     ]
    },
    {
     "name": "stdout",
     "output_type": "stream",
     "text": [
      "Global round: 854 | Average loss: 0.5840431054433187\n",
      "Global Round: 855\n"
     ]
    },
    {
     "name": "stderr",
     "output_type": "stream",
     "text": [
      "Train Epoch: 855/1001. Iter:   18/  18. Data: 0.057s. Batch: 0.103s. Loss: 0.5441.: 100%|█| 18/18 [00:01<00:00,  9.75it/s]\n"
     ]
    },
    {
     "name": "stdout",
     "output_type": "stream",
     "text": [
      "global epoch 856 saved\n",
      "Global round: 855 | Average loss: 0.5817467735873328\n",
      "Global Round: 856\n"
     ]
    },
    {
     "name": "stderr",
     "output_type": "stream",
     "text": [
      "Train Epoch: 856/1001. Iter:   18/  18. Data: 0.055s. Batch: 0.103s. Loss: 0.5924.: 100%|█| 18/18 [00:01<00:00,  9.78it/s]\n"
     ]
    },
    {
     "name": "stdout",
     "output_type": "stream",
     "text": [
      "Global round: 856 | Average loss: 0.5801517069339752\n",
      "Global Round: 857\n"
     ]
    },
    {
     "name": "stderr",
     "output_type": "stream",
     "text": [
      "Train Epoch: 857/1001. Iter:   18/  18. Data: 0.058s. Batch: 0.105s. Loss: 0.5915.: 100%|█| 18/18 [00:01<00:00,  9.49it/s]\n"
     ]
    },
    {
     "name": "stdout",
     "output_type": "stream",
     "text": [
      "Global round: 857 | Average loss: 0.5812911854849921\n",
      "Global Round: 858\n"
     ]
    },
    {
     "name": "stderr",
     "output_type": "stream",
     "text": [
      "Train Epoch: 858/1001. Iter:   18/  18. Data: 0.056s. Batch: 0.103s. Loss: 0.5817.: 100%|█| 18/18 [00:01<00:00,  9.75it/s]\n"
     ]
    },
    {
     "name": "stdout",
     "output_type": "stream",
     "text": [
      "Global round: 858 | Average loss: 0.5795039633909861\n",
      "Global Round: 859\n"
     ]
    },
    {
     "name": "stderr",
     "output_type": "stream",
     "text": [
      "Train Epoch: 859/1001. Iter:   18/  18. Data: 0.057s. Batch: 0.105s. Loss: 0.5757.: 100%|█| 18/18 [00:01<00:00,  9.51it/s]\n"
     ]
    },
    {
     "name": "stdout",
     "output_type": "stream",
     "text": [
      "Global round: 859 | Average loss: 0.5824446247683631\n",
      "Global Round: 860\n"
     ]
    },
    {
     "name": "stderr",
     "output_type": "stream",
     "text": [
      "Train Epoch: 860/1001. Iter:   18/  18. Data: 0.056s. Batch: 0.104s. Loss: 0.5766.: 100%|█| 18/18 [00:01<00:00,  9.58it/s]\n"
     ]
    },
    {
     "name": "stdout",
     "output_type": "stream",
     "text": [
      "global epoch 861 saved\n",
      "Global round: 860 | Average loss: 0.5804007715649075\n",
      "Global Round: 861\n"
     ]
    },
    {
     "name": "stderr",
     "output_type": "stream",
     "text": [
      "Train Epoch: 861/1001. Iter:   18/  18. Data: 0.057s. Batch: 0.104s. Loss: 0.5805.: 100%|█| 18/18 [00:01<00:00,  9.74it/s]\n"
     ]
    },
    {
     "name": "stdout",
     "output_type": "stream",
     "text": [
      "Global round: 861 | Average loss: 0.5808527337180244\n",
      "Global Round: 862\n"
     ]
    },
    {
     "name": "stderr",
     "output_type": "stream",
     "text": [
      "Train Epoch: 862/1001. Iter:   18/  18. Data: 0.055s. Batch: 0.107s. Loss: 0.5793.: 100%|█| 18/18 [00:01<00:00,  9.33it/s]\n"
     ]
    },
    {
     "name": "stdout",
     "output_type": "stream",
     "text": [
      "Global round: 862 | Average loss: 0.5799074570337931\n",
      "Global Round: 863\n"
     ]
    },
    {
     "name": "stderr",
     "output_type": "stream",
     "text": [
      "Train Epoch: 863/1001. Iter:   18/  18. Data: 0.055s. Batch: 0.103s. Loss: 0.5972.: 100%|█| 18/18 [00:01<00:00,  9.73it/s]\n"
     ]
    },
    {
     "name": "stdout",
     "output_type": "stream",
     "text": [
      "Global round: 863 | Average loss: 0.5809796651204427\n",
      "Global Round: 864\n"
     ]
    },
    {
     "name": "stderr",
     "output_type": "stream",
     "text": [
      "Train Epoch: 864/1001. Iter:   18/  18. Data: 0.055s. Batch: 0.103s. Loss: 0.5779.: 100%|█| 18/18 [00:01<00:00,  9.69it/s]\n"
     ]
    },
    {
     "name": "stdout",
     "output_type": "stream",
     "text": [
      "Global round: 864 | Average loss: 0.5804878638850318\n",
      "Global Round: 865\n"
     ]
    },
    {
     "name": "stderr",
     "output_type": "stream",
     "text": [
      "Train Epoch: 865/1001. Iter:   18/  18. Data: 0.056s. Batch: 0.107s. Loss: 0.5730.: 100%|█| 18/18 [00:01<00:00,  9.34it/s]\n"
     ]
    },
    {
     "name": "stdout",
     "output_type": "stream",
     "text": [
      "global epoch 866 saved\n",
      "Global round: 865 | Average loss: 0.5784700016180674\n",
      "Global Round: 866\n"
     ]
    },
    {
     "name": "stderr",
     "output_type": "stream",
     "text": [
      "Train Epoch: 866/1001. Iter:   18/  18. Data: 0.058s. Batch: 0.105s. Loss: 0.5987.: 100%|█| 18/18 [00:01<00:00,  9.63it/s]\n"
     ]
    },
    {
     "name": "stdout",
     "output_type": "stream",
     "text": [
      "Global round: 866 | Average loss: 0.5801323586040072\n",
      "Global Round: 867\n"
     ]
    },
    {
     "name": "stderr",
     "output_type": "stream",
     "text": [
      "Train Epoch: 867/1001. Iter:   18/  18. Data: 0.058s. Batch: 0.105s. Loss: 0.5686.: 100%|█| 18/18 [00:01<00:00,  9.54it/s]\n"
     ]
    },
    {
     "name": "stdout",
     "output_type": "stream",
     "text": [
      "Global round: 867 | Average loss: 0.5801362262831794\n",
      "Global Round: 868\n"
     ]
    },
    {
     "name": "stderr",
     "output_type": "stream",
     "text": [
      "Train Epoch: 868/1001. Iter:   18/  18. Data: 0.056s. Batch: 0.103s. Loss: 0.5656.: 100%|█| 18/18 [00:01<00:00,  9.73it/s]\n"
     ]
    },
    {
     "name": "stdout",
     "output_type": "stream",
     "text": [
      "Global round: 868 | Average loss: 0.5768565568659041\n",
      "Global Round: 869\n"
     ]
    },
    {
     "name": "stderr",
     "output_type": "stream",
     "text": [
      "Train Epoch: 869/1001. Iter:   18/  18. Data: 0.057s. Batch: 0.103s. Loss: 0.5615.: 100%|█| 18/18 [00:01<00:00,  9.70it/s]\n"
     ]
    },
    {
     "name": "stdout",
     "output_type": "stream",
     "text": [
      "Global round: 869 | Average loss: 0.5805214246114095\n",
      "Global Round: 870\n"
     ]
    },
    {
     "name": "stderr",
     "output_type": "stream",
     "text": [
      "Train Epoch: 870/1001. Iter:   18/  18. Data: 0.060s. Batch: 0.107s. Loss: 0.5606.: 100%|█| 18/18 [00:01<00:00,  9.31it/s]\n"
     ]
    },
    {
     "name": "stdout",
     "output_type": "stream",
     "text": [
      "global epoch 871 saved\n",
      "Global round: 870 | Average loss: 0.5769166217909919\n",
      "Global Round: 871\n"
     ]
    },
    {
     "name": "stderr",
     "output_type": "stream",
     "text": [
      "Train Epoch: 871/1001. Iter:   18/  18. Data: 0.056s. Batch: 0.104s. Loss: 0.5634.: 100%|█| 18/18 [00:01<00:00,  9.69it/s]\n"
     ]
    },
    {
     "name": "stdout",
     "output_type": "stream",
     "text": [
      "Global round: 871 | Average loss: 0.5757176611158583\n",
      "Global Round: 872\n"
     ]
    },
    {
     "name": "stderr",
     "output_type": "stream",
     "text": [
      "Train Epoch: 872/1001. Iter:   18/  18. Data: 0.055s. Batch: 0.102s. Loss: 0.5832.: 100%|█| 18/18 [00:01<00:00,  9.78it/s]\n"
     ]
    },
    {
     "name": "stdout",
     "output_type": "stream",
     "text": [
      "Global round: 872 | Average loss: 0.5775425367885165\n",
      "Global Round: 873\n"
     ]
    },
    {
     "name": "stderr",
     "output_type": "stream",
     "text": [
      "Train Epoch: 873/1001. Iter:   18/  18. Data: 0.057s. Batch: 0.106s. Loss: 0.5749.: 100%|█| 18/18 [00:01<00:00,  9.41it/s]\n"
     ]
    },
    {
     "name": "stdout",
     "output_type": "stream",
     "text": [
      "Global round: 873 | Average loss: 0.57741978764534\n",
      "Global Round: 874\n"
     ]
    },
    {
     "name": "stderr",
     "output_type": "stream",
     "text": [
      "Train Epoch: 874/1001. Iter:   18/  18. Data: 0.055s. Batch: 0.103s. Loss: 0.5651.: 100%|█| 18/18 [00:01<00:00,  9.72it/s]\n"
     ]
    },
    {
     "name": "stdout",
     "output_type": "stream",
     "text": [
      "Global round: 874 | Average loss: 0.5767282048861185\n",
      "Global Round: 875\n"
     ]
    },
    {
     "name": "stderr",
     "output_type": "stream",
     "text": [
      "Train Epoch: 875/1001. Iter:   18/  18. Data: 0.057s. Batch: 0.109s. Loss: 0.5869.: 100%|█| 18/18 [00:01<00:00,  9.17it/s]\n"
     ]
    },
    {
     "name": "stdout",
     "output_type": "stream",
     "text": [
      "global epoch 876 saved\n",
      "Global round: 875 | Average loss: 0.5728072226047516\n",
      "Global Round: 876\n"
     ]
    },
    {
     "name": "stderr",
     "output_type": "stream",
     "text": [
      "Train Epoch: 876/1001. Iter:   18/  18. Data: 0.058s. Batch: 0.104s. Loss: 0.5719.: 100%|█| 18/18 [00:01<00:00,  9.67it/s]\n"
     ]
    },
    {
     "name": "stdout",
     "output_type": "stream",
     "text": [
      "Global round: 876 | Average loss: 0.5757110151979659\n",
      "Global Round: 877\n"
     ]
    },
    {
     "name": "stderr",
     "output_type": "stream",
     "text": [
      "Train Epoch: 877/1001. Iter:   18/  18. Data: 0.057s. Batch: 0.104s. Loss: 0.5768.: 100%|█| 18/18 [00:01<00:00,  9.66it/s]\n"
     ]
    },
    {
     "name": "stdout",
     "output_type": "stream",
     "text": [
      "Global round: 877 | Average loss: 0.5758145087295108\n",
      "Global Round: 878\n"
     ]
    },
    {
     "name": "stderr",
     "output_type": "stream",
     "text": [
      "Train Epoch: 878/1001. Iter:   18/  18. Data: 0.060s. Batch: 0.106s. Loss: 0.5530.: 100%|█| 18/18 [00:01<00:00,  9.40it/s]\n"
     ]
    },
    {
     "name": "stdout",
     "output_type": "stream",
     "text": [
      "Global round: 878 | Average loss: 0.5731495784388648\n",
      "Global Round: 879\n"
     ]
    },
    {
     "name": "stderr",
     "output_type": "stream",
     "text": [
      "Train Epoch: 879/1001. Iter:   18/  18. Data: 0.057s. Batch: 0.103s. Loss: 0.5806.: 100%|█| 18/18 [00:01<00:00,  9.71it/s]\n"
     ]
    },
    {
     "name": "stdout",
     "output_type": "stream",
     "text": [
      "Global round: 879 | Average loss: 0.5744572381178538\n",
      "Global Round: 880\n"
     ]
    },
    {
     "name": "stderr",
     "output_type": "stream",
     "text": [
      "Train Epoch: 880/1001. Iter:   18/  18. Data: 0.057s. Batch: 0.103s. Loss: 0.5669.: 100%|█| 18/18 [00:01<00:00,  9.70it/s]\n"
     ]
    },
    {
     "name": "stdout",
     "output_type": "stream",
     "text": [
      "global epoch 881 saved\n",
      "Global round: 880 | Average loss: 0.5707669158776602\n",
      "Global Round: 881\n"
     ]
    },
    {
     "name": "stderr",
     "output_type": "stream",
     "text": [
      "Train Epoch: 881/1001. Iter:   18/  18. Data: 0.060s. Batch: 0.107s. Loss: 0.5667.: 100%|█| 18/18 [00:01<00:00,  9.64it/s]\n"
     ]
    },
    {
     "name": "stdout",
     "output_type": "stream",
     "text": [
      "Global round: 881 | Average loss: 0.5725513034396701\n",
      "Global Round: 882\n"
     ]
    },
    {
     "name": "stderr",
     "output_type": "stream",
     "text": [
      "Train Epoch: 882/1001. Iter:   18/  18. Data: 0.056s. Batch: 0.104s. Loss: 0.5589.: 100%|█| 18/18 [00:01<00:00,  9.65it/s]\n"
     ]
    },
    {
     "name": "stdout",
     "output_type": "stream",
     "text": [
      "Global round: 882 | Average loss: 0.5753626624743143\n",
      "Global Round: 883\n"
     ]
    },
    {
     "name": "stderr",
     "output_type": "stream",
     "text": [
      "Train Epoch: 883/1001. Iter:   18/  18. Data: 0.059s. Batch: 0.108s. Loss: 0.5747.: 100%|█| 18/18 [00:01<00:00,  9.25it/s]\n"
     ]
    },
    {
     "name": "stdout",
     "output_type": "stream",
     "text": [
      "Global round: 883 | Average loss: 0.5721986492474874\n",
      "Global Round: 884\n"
     ]
    },
    {
     "name": "stderr",
     "output_type": "stream",
     "text": [
      "Train Epoch: 884/1001. Iter:   18/  18. Data: 0.058s. Batch: 0.106s. Loss: 0.5685.: 100%|█| 18/18 [00:01<00:00,  9.42it/s]\n"
     ]
    },
    {
     "name": "stdout",
     "output_type": "stream",
     "text": [
      "Global round: 884 | Average loss: 0.572794003619088\n",
      "Global Round: 885\n"
     ]
    },
    {
     "name": "stderr",
     "output_type": "stream",
     "text": [
      "Train Epoch: 885/1001. Iter:   18/  18. Data: 0.057s. Batch: 0.104s. Loss: 0.5559.: 100%|█| 18/18 [00:01<00:00,  9.59it/s]\n"
     ]
    },
    {
     "name": "stdout",
     "output_type": "stream",
     "text": [
      "global epoch 886 saved\n",
      "Global round: 885 | Average loss: 0.5706532763110267\n",
      "Global Round: 886\n"
     ]
    },
    {
     "name": "stderr",
     "output_type": "stream",
     "text": [
      "Train Epoch: 886/1001. Iter:   18/  18. Data: 0.059s. Batch: 0.109s. Loss: 0.5775.: 100%|█| 18/18 [00:01<00:00,  9.21it/s]\n"
     ]
    },
    {
     "name": "stdout",
     "output_type": "stream",
     "text": [
      "Global round: 886 | Average loss: 0.5706095993518829\n",
      "Global Round: 887\n"
     ]
    },
    {
     "name": "stderr",
     "output_type": "stream",
     "text": [
      "Train Epoch: 887/1001. Iter:   18/  18. Data: 0.056s. Batch: 0.105s. Loss: 0.5761.: 100%|█| 18/18 [00:01<00:00,  9.50it/s]\n"
     ]
    },
    {
     "name": "stdout",
     "output_type": "stream",
     "text": [
      "Global round: 887 | Average loss: 0.5693273842334747\n",
      "Global Round: 888\n"
     ]
    },
    {
     "name": "stderr",
     "output_type": "stream",
     "text": [
      "Train Epoch: 888/1001. Iter:   18/  18. Data: 0.055s. Batch: 0.105s. Loss: 0.5751.: 100%|█| 18/18 [00:01<00:00,  9.57it/s]\n"
     ]
    },
    {
     "name": "stdout",
     "output_type": "stream",
     "text": [
      "Global round: 888 | Average loss: 0.5683003664016724\n",
      "Global Round: 889\n"
     ]
    },
    {
     "name": "stderr",
     "output_type": "stream",
     "text": [
      "Train Epoch: 889/1001. Iter:   18/  18. Data: 0.056s. Batch: 0.105s. Loss: 0.5624.: 100%|█| 18/18 [00:01<00:00,  9.57it/s]\n"
     ]
    },
    {
     "name": "stdout",
     "output_type": "stream",
     "text": [
      "Global round: 889 | Average loss: 0.5693005555205874\n",
      "Global Round: 890\n"
     ]
    },
    {
     "name": "stderr",
     "output_type": "stream",
     "text": [
      "Train Epoch: 890/1001. Iter:   18/  18. Data: 0.055s. Batch: 0.102s. Loss: 0.5685.: 100%|█| 18/18 [00:01<00:00,  9.77it/s]\n"
     ]
    },
    {
     "name": "stdout",
     "output_type": "stream",
     "text": [
      "global epoch 891 saved\n",
      "Global round: 890 | Average loss: 0.5700678593582578\n",
      "Global Round: 891\n"
     ]
    },
    {
     "name": "stderr",
     "output_type": "stream",
     "text": [
      "Train Epoch: 891/1001. Iter:   18/  18. Data: 0.059s. Batch: 0.108s. Loss: 0.5779.: 100%|█| 18/18 [00:01<00:00,  9.33it/s]\n"
     ]
    },
    {
     "name": "stdout",
     "output_type": "stream",
     "text": [
      "Global round: 891 | Average loss: 0.5673360890812345\n",
      "Global Round: 892\n"
     ]
    },
    {
     "name": "stderr",
     "output_type": "stream",
     "text": [
      "Train Epoch: 892/1001. Iter:   18/  18. Data: 0.057s. Batch: 0.104s. Loss: 0.5690.: 100%|█| 18/18 [00:01<00:00,  9.59it/s]\n"
     ]
    },
    {
     "name": "stdout",
     "output_type": "stream",
     "text": [
      "Global round: 892 | Average loss: 0.5718979040781657\n",
      "Global Round: 893\n"
     ]
    },
    {
     "name": "stderr",
     "output_type": "stream",
     "text": [
      "Train Epoch: 893/1001. Iter:   18/  18. Data: 0.056s. Batch: 0.102s. Loss: 0.5595.: 100%|█| 18/18 [00:01<00:00,  9.83it/s]\n"
     ]
    },
    {
     "name": "stdout",
     "output_type": "stream",
     "text": [
      "Global round: 893 | Average loss: 0.5691817634635501\n",
      "Global Round: 894\n"
     ]
    },
    {
     "name": "stderr",
     "output_type": "stream",
     "text": [
      "Train Epoch: 894/1001. Iter:   18/  18. Data: 0.059s. Batch: 0.106s. Loss: 0.5542.: 100%|█| 18/18 [00:01<00:00,  9.39it/s]\n"
     ]
    },
    {
     "name": "stdout",
     "output_type": "stream",
     "text": [
      "Global round: 894 | Average loss: 0.5658235119448768\n",
      "Global Round: 895\n"
     ]
    },
    {
     "name": "stderr",
     "output_type": "stream",
     "text": [
      "Train Epoch: 895/1001. Iter:   18/  18. Data: 0.057s. Batch: 0.105s. Loss: 0.5610.: 100%|█| 18/18 [00:01<00:00,  9.52it/s]\n"
     ]
    },
    {
     "name": "stdout",
     "output_type": "stream",
     "text": [
      "global epoch 896 saved\n",
      "Global round: 895 | Average loss: 0.5656645794709524\n",
      "Global Round: 896\n"
     ]
    },
    {
     "name": "stderr",
     "output_type": "stream",
     "text": [
      "Train Epoch: 896/1001. Iter:   18/  18. Data: 0.058s. Batch: 0.109s. Loss: 0.5701.: 100%|█| 18/18 [00:01<00:00,  9.29it/s]\n"
     ]
    },
    {
     "name": "stdout",
     "output_type": "stream",
     "text": [
      "Global round: 896 | Average loss: 0.5679808921284146\n",
      "Global Round: 897\n"
     ]
    },
    {
     "name": "stderr",
     "output_type": "stream",
     "text": [
      "Train Epoch: 897/1001. Iter:   18/  18. Data: 0.056s. Batch: 0.105s. Loss: 0.5750.: 100%|█| 18/18 [00:01<00:00,  9.54it/s]\n"
     ]
    },
    {
     "name": "stdout",
     "output_type": "stream",
     "text": [
      "Global round: 897 | Average loss: 0.56446862883038\n",
      "Global Round: 898\n"
     ]
    },
    {
     "name": "stderr",
     "output_type": "stream",
     "text": [
      "Train Epoch: 898/1001. Iter:   18/  18. Data: 0.056s. Batch: 0.103s. Loss: 0.5484.: 100%|█| 18/18 [00:01<00:00,  9.70it/s]\n"
     ]
    },
    {
     "name": "stdout",
     "output_type": "stream",
     "text": [
      "Global round: 898 | Average loss: 0.5611891779634688\n",
      "Global Round: 899\n"
     ]
    },
    {
     "name": "stderr",
     "output_type": "stream",
     "text": [
      "Train Epoch: 899/1001. Iter:   18/  18. Data: 0.057s. Batch: 0.107s. Loss: 0.5522.: 100%|█| 18/18 [00:01<00:00,  9.34it/s]\n"
     ]
    },
    {
     "name": "stdout",
     "output_type": "stream",
     "text": [
      "Global round: 899 | Average loss: 0.5634975201553769\n",
      "Global Round: 900\n"
     ]
    },
    {
     "name": "stderr",
     "output_type": "stream",
     "text": [
      "Train Epoch: 900/1001. Iter:   18/  18. Data: 0.056s. Batch: 0.105s. Loss: 0.5615.: 100%|█| 18/18 [00:01<00:00,  9.56it/s]\n"
     ]
    },
    {
     "name": "stdout",
     "output_type": "stream",
     "text": [
      "global epoch 901 saved\n",
      "Global round: 900 | Average loss: 0.5624571906195747\n",
      "Global Round: 901\n"
     ]
    },
    {
     "name": "stderr",
     "output_type": "stream",
     "text": [
      "Train Epoch: 901/1001. Iter:   18/  18. Data: 0.059s. Batch: 0.105s. Loss: 0.5605.: 100%|█| 18/18 [00:01<00:00,  9.60it/s]\n"
     ]
    },
    {
     "name": "stdout",
     "output_type": "stream",
     "text": [
      "Global round: 901 | Average loss: 0.5604997144805061\n",
      "Global Round: 902\n"
     ]
    },
    {
     "name": "stderr",
     "output_type": "stream",
     "text": [
      "Train Epoch: 902/1001. Iter:   18/  18. Data: 0.061s. Batch: 0.107s. Loss: 0.5384.: 100%|█| 18/18 [00:01<00:00,  9.31it/s]\n"
     ]
    },
    {
     "name": "stdout",
     "output_type": "stream",
     "text": [
      "Global round: 902 | Average loss: 0.5619637933042314\n",
      "Global Round: 903\n"
     ]
    },
    {
     "name": "stderr",
     "output_type": "stream",
     "text": [
      "Train Epoch: 903/1001. Iter:   18/  18. Data: 0.058s. Batch: 0.105s. Loss: 0.5526.: 100%|█| 18/18 [00:01<00:00,  9.52it/s]\n"
     ]
    },
    {
     "name": "stdout",
     "output_type": "stream",
     "text": [
      "Global round: 903 | Average loss: 0.5617147352960374\n",
      "Global Round: 904\n"
     ]
    },
    {
     "name": "stderr",
     "output_type": "stream",
     "text": [
      "Train Epoch: 904/1001. Iter:   18/  18. Data: 0.061s. Batch: 0.108s. Loss: 0.5616.: 100%|█| 18/18 [00:01<00:00,  9.27it/s]\n"
     ]
    },
    {
     "name": "stdout",
     "output_type": "stream",
     "text": [
      "Global round: 904 | Average loss: 0.5601241721047295\n",
      "Global Round: 905\n"
     ]
    },
    {
     "name": "stderr",
     "output_type": "stream",
     "text": [
      "Train Epoch: 905/1001. Iter:   18/  18. Data: 0.057s. Batch: 0.103s. Loss: 0.5526.: 100%|█| 18/18 [00:01<00:00,  9.70it/s]\n"
     ]
    },
    {
     "name": "stdout",
     "output_type": "stream",
     "text": [
      "global epoch 906 saved\n",
      "Global round: 905 | Average loss: 0.5598899092939165\n",
      "Global Round: 906\n"
     ]
    },
    {
     "name": "stderr",
     "output_type": "stream",
     "text": [
      "Train Epoch: 906/1001. Iter:   18/  18. Data: 0.056s. Batch: 0.105s. Loss: 0.5780.: 100%|█| 18/18 [00:01<00:00,  9.64it/s]\n"
     ]
    },
    {
     "name": "stdout",
     "output_type": "stream",
     "text": [
      "Global round: 906 | Average loss: 0.5567391051186455\n",
      "Global Round: 907\n"
     ]
    },
    {
     "name": "stderr",
     "output_type": "stream",
     "text": [
      "Train Epoch: 907/1001. Iter:   18/  18. Data: 0.057s. Batch: 0.105s. Loss: 0.5581.: 100%|█| 18/18 [00:01<00:00,  9.53it/s]\n"
     ]
    },
    {
     "name": "stdout",
     "output_type": "stream",
     "text": [
      "Global round: 907 | Average loss: 0.5571621623304155\n",
      "Global Round: 908\n"
     ]
    },
    {
     "name": "stderr",
     "output_type": "stream",
     "text": [
      "Train Epoch: 908/1001. Iter:   18/  18. Data: 0.057s. Batch: 0.105s. Loss: 0.5541.: 100%|█| 18/18 [00:01<00:00,  9.55it/s]\n"
     ]
    },
    {
     "name": "stdout",
     "output_type": "stream",
     "text": [
      "Global round: 908 | Average loss: 0.5589617358313667\n",
      "Global Round: 909\n"
     ]
    },
    {
     "name": "stderr",
     "output_type": "stream",
     "text": [
      "Train Epoch: 909/1001. Iter:   18/  18. Data: 0.056s. Batch: 0.102s. Loss: 0.5666.: 100%|█| 18/18 [00:01<00:00,  9.83it/s]\n"
     ]
    },
    {
     "name": "stdout",
     "output_type": "stream",
     "text": [
      "Global round: 909 | Average loss: 0.5562342670228746\n",
      "Global Round: 910\n"
     ]
    },
    {
     "name": "stderr",
     "output_type": "stream",
     "text": [
      "Train Epoch: 910/1001. Iter:   18/  18. Data: 0.058s. Batch: 0.105s. Loss: 0.5472.: 100%|█| 18/18 [00:01<00:00,  9.49it/s]\n"
     ]
    },
    {
     "name": "stdout",
     "output_type": "stream",
     "text": [
      "global epoch 911 saved\n",
      "Global round: 910 | Average loss: 0.5565380487177107\n",
      "Global Round: 911\n"
     ]
    },
    {
     "name": "stderr",
     "output_type": "stream",
     "text": [
      "Train Epoch: 911/1001. Iter:   18/  18. Data: 0.057s. Batch: 0.106s. Loss: 0.5492.: 100%|█| 18/18 [00:01<00:00,  9.51it/s]\n"
     ]
    },
    {
     "name": "stdout",
     "output_type": "stream",
     "text": [
      "Global round: 911 | Average loss: 0.5538423260052999\n",
      "Global Round: 912\n"
     ]
    },
    {
     "name": "stderr",
     "output_type": "stream",
     "text": [
      "Train Epoch: 912/1001. Iter:   18/  18. Data: 0.056s. Batch: 0.107s. Loss: 0.5499.: 100%|█| 18/18 [00:01<00:00,  9.37it/s]\n"
     ]
    },
    {
     "name": "stdout",
     "output_type": "stream",
     "text": [
      "Global round: 912 | Average loss: 0.5559183359146118\n",
      "Global Round: 913\n"
     ]
    },
    {
     "name": "stderr",
     "output_type": "stream",
     "text": [
      "Train Epoch: 913/1001. Iter:   18/  18. Data: 0.055s. Batch: 0.104s. Loss: 0.5512.: 100%|█| 18/18 [00:01<00:00,  9.63it/s]\n"
     ]
    },
    {
     "name": "stdout",
     "output_type": "stream",
     "text": [
      "Global round: 913 | Average loss: 0.5501324666870965\n",
      "Global Round: 914\n"
     ]
    },
    {
     "name": "stderr",
     "output_type": "stream",
     "text": [
      "Train Epoch: 914/1001. Iter:   18/  18. Data: 0.055s. Batch: 0.105s. Loss: 0.5399.: 100%|█| 18/18 [00:01<00:00,  9.57it/s]\n"
     ]
    },
    {
     "name": "stdout",
     "output_type": "stream",
     "text": [
      "Global round: 914 | Average loss: 0.5494773122999403\n",
      "Global Round: 915\n"
     ]
    },
    {
     "name": "stderr",
     "output_type": "stream",
     "text": [
      "Train Epoch: 915/1001. Iter:   18/  18. Data: 0.055s. Batch: 0.106s. Loss: 0.5329.: 100%|█| 18/18 [00:01<00:00,  9.48it/s]\n"
     ]
    },
    {
     "name": "stdout",
     "output_type": "stream",
     "text": [
      "global epoch 916 saved\n",
      "Global round: 915 | Average loss: 0.5495963527096642\n",
      "Global Round: 916\n"
     ]
    },
    {
     "name": "stderr",
     "output_type": "stream",
     "text": [
      "Train Epoch: 916/1001. Iter:   18/  18. Data: 0.056s. Batch: 0.103s. Loss: 0.5387.: 100%|█| 18/18 [00:01<00:00,  9.80it/s]\n"
     ]
    },
    {
     "name": "stdout",
     "output_type": "stream",
     "text": [
      "Global round: 916 | Average loss: 0.544475621647305\n",
      "Global Round: 917\n"
     ]
    },
    {
     "name": "stderr",
     "output_type": "stream",
     "text": [
      "Train Epoch: 917/1001. Iter:   18/  18. Data: 0.056s. Batch: 0.103s. Loss: 0.5366.: 100%|█| 18/18 [00:01<00:00,  9.75it/s]\n"
     ]
    },
    {
     "name": "stdout",
     "output_type": "stream",
     "text": [
      "Global round: 917 | Average loss: 0.5496474438243442\n",
      "Global Round: 918\n"
     ]
    },
    {
     "name": "stderr",
     "output_type": "stream",
     "text": [
      "Train Epoch: 918/1001. Iter:   18/  18. Data: 0.059s. Batch: 0.105s. Loss: 0.5489.: 100%|█| 18/18 [00:01<00:00,  9.50it/s]\n"
     ]
    },
    {
     "name": "stdout",
     "output_type": "stream",
     "text": [
      "Global round: 918 | Average loss: 0.5475416945086585\n",
      "Global Round: 919\n"
     ]
    },
    {
     "name": "stderr",
     "output_type": "stream",
     "text": [
      "Train Epoch: 919/1001. Iter:   18/  18. Data: 0.057s. Batch: 0.103s. Loss: 0.5442.: 100%|█| 18/18 [00:01<00:00,  9.74it/s]\n"
     ]
    },
    {
     "name": "stdout",
     "output_type": "stream",
     "text": [
      "Global round: 919 | Average loss: 0.5480157732963562\n",
      "Global Round: 920\n"
     ]
    },
    {
     "name": "stderr",
     "output_type": "stream",
     "text": [
      "Train Epoch: 920/1001. Iter:   18/  18. Data: 0.059s. Batch: 0.106s. Loss: 0.5293.: 100%|█| 18/18 [00:01<00:00,  9.42it/s]\n"
     ]
    },
    {
     "name": "stdout",
     "output_type": "stream",
     "text": [
      "global epoch 921 saved\n",
      "Global round: 920 | Average loss: 0.5518475506040785\n",
      "Global Round: 921\n"
     ]
    },
    {
     "name": "stderr",
     "output_type": "stream",
     "text": [
      "Train Epoch: 921/1001. Iter:   18/  18. Data: 0.057s. Batch: 0.106s. Loss: 0.5553.: 100%|█| 18/18 [00:01<00:00,  9.49it/s]\n"
     ]
    },
    {
     "name": "stdout",
     "output_type": "stream",
     "text": [
      "Global round: 921 | Average loss: 0.5492780672179328\n",
      "Global Round: 922\n"
     ]
    },
    {
     "name": "stderr",
     "output_type": "stream",
     "text": [
      "Train Epoch: 922/1001. Iter:   18/  18. Data: 0.056s. Batch: 0.104s. Loss: 0.5593.: 100%|█| 18/18 [00:01<00:00,  9.59it/s]\n"
     ]
    },
    {
     "name": "stdout",
     "output_type": "stream",
     "text": [
      "Global round: 922 | Average loss: 0.550957053899765\n",
      "Global Round: 923\n"
     ]
    },
    {
     "name": "stderr",
     "output_type": "stream",
     "text": [
      "Train Epoch: 923/1001. Iter:   18/  18. Data: 0.057s. Batch: 0.106s. Loss: 0.5479.: 100%|█| 18/18 [00:01<00:00,  9.42it/s]\n"
     ]
    },
    {
     "name": "stdout",
     "output_type": "stream",
     "text": [
      "Global round: 923 | Average loss: 0.5441142453087701\n",
      "Global Round: 924\n"
     ]
    },
    {
     "name": "stderr",
     "output_type": "stream",
     "text": [
      "Train Epoch: 924/1001. Iter:   18/  18. Data: 0.056s. Batch: 0.103s. Loss: 0.5460.: 100%|█| 18/18 [00:01<00:00,  9.67it/s]\n"
     ]
    },
    {
     "name": "stdout",
     "output_type": "stream",
     "text": [
      "Global round: 924 | Average loss: 0.5494803388913473\n",
      "Global Round: 925\n"
     ]
    },
    {
     "name": "stderr",
     "output_type": "stream",
     "text": [
      "Train Epoch: 925/1001. Iter:   18/  18. Data: 0.057s. Batch: 0.107s. Loss: 0.5355.: 100%|█| 18/18 [00:01<00:00,  9.39it/s]\n"
     ]
    },
    {
     "name": "stdout",
     "output_type": "stream",
     "text": [
      "global epoch 926 saved\n",
      "Global round: 925 | Average loss: 0.5416326291031308\n",
      "Global Round: 926\n"
     ]
    },
    {
     "name": "stderr",
     "output_type": "stream",
     "text": [
      "Train Epoch: 926/1001. Iter:   18/  18. Data: 0.058s. Batch: 0.105s. Loss: 0.5489.: 100%|█| 18/18 [00:01<00:00,  9.53it/s]\n"
     ]
    },
    {
     "name": "stdout",
     "output_type": "stream",
     "text": [
      "Global round: 926 | Average loss: 0.5461179614067078\n",
      "Global Round: 927\n"
     ]
    },
    {
     "name": "stderr",
     "output_type": "stream",
     "text": [
      "Train Epoch: 927/1001. Iter:   18/  18. Data: 0.058s. Batch: 0.105s. Loss: 0.5304.: 100%|█| 18/18 [00:01<00:00,  9.55it/s]\n"
     ]
    },
    {
     "name": "stdout",
     "output_type": "stream",
     "text": [
      "Global round: 927 | Average loss: 0.541394097937478\n",
      "Global Round: 928\n"
     ]
    },
    {
     "name": "stderr",
     "output_type": "stream",
     "text": [
      "Train Epoch: 928/1001. Iter:   18/  18. Data: 0.060s. Batch: 0.109s. Loss: 0.5481.: 100%|█| 18/18 [00:01<00:00,  9.21it/s]\n"
     ]
    },
    {
     "name": "stdout",
     "output_type": "stream",
     "text": [
      "Global round: 928 | Average loss: 0.5459192958143022\n",
      "Global Round: 929\n"
     ]
    },
    {
     "name": "stderr",
     "output_type": "stream",
     "text": [
      "Train Epoch: 929/1001. Iter:   18/  18. Data: 0.057s. Batch: 0.103s. Loss: 0.5251.: 100%|█| 18/18 [00:01<00:00,  9.67it/s]\n"
     ]
    },
    {
     "name": "stdout",
     "output_type": "stream",
     "text": [
      "Global round: 929 | Average loss: 0.5379202895694308\n",
      "Global Round: 930\n"
     ]
    },
    {
     "name": "stderr",
     "output_type": "stream",
     "text": [
      "Train Epoch: 930/1001. Iter:   18/  18. Data: 0.057s. Batch: 0.103s. Loss: 0.5610.: 100%|█| 18/18 [00:01<00:00,  9.75it/s]\n"
     ]
    },
    {
     "name": "stdout",
     "output_type": "stream",
     "text": [
      "global epoch 931 saved\n",
      "Global round: 930 | Average loss: 0.5417477389176687\n",
      "Global Round: 931\n"
     ]
    },
    {
     "name": "stderr",
     "output_type": "stream",
     "text": [
      "Train Epoch: 931/1001. Iter:   18/  18. Data: 0.058s. Batch: 0.106s. Loss: 0.5311.: 100%|█| 18/18 [00:01<00:00,  9.50it/s]\n"
     ]
    },
    {
     "name": "stdout",
     "output_type": "stream",
     "text": [
      "Global round: 931 | Average loss: 0.538592517375946\n",
      "Global Round: 932\n"
     ]
    },
    {
     "name": "stderr",
     "output_type": "stream",
     "text": [
      "Train Epoch: 932/1001. Iter:   18/  18. Data: 0.056s. Batch: 0.101s. Loss: 0.5227.: 100%|█| 18/18 [00:01<00:00,  9.88it/s]\n"
     ]
    },
    {
     "name": "stdout",
     "output_type": "stream",
     "text": [
      "Global round: 932 | Average loss: 0.5403060714403788\n",
      "Global Round: 933\n"
     ]
    },
    {
     "name": "stderr",
     "output_type": "stream",
     "text": [
      "Train Epoch: 933/1001. Iter:   18/  18. Data: 0.058s. Batch: 0.105s. Loss: 0.5494.: 100%|█| 18/18 [00:01<00:00,  9.50it/s]\n"
     ]
    },
    {
     "name": "stdout",
     "output_type": "stream",
     "text": [
      "Global round: 933 | Average loss: 0.5386549532413483\n",
      "Global Round: 934\n"
     ]
    },
    {
     "name": "stderr",
     "output_type": "stream",
     "text": [
      "Train Epoch: 934/1001. Iter:   18/  18. Data: 0.056s. Batch: 0.104s. Loss: 0.5584.: 100%|█| 18/18 [00:01<00:00,  9.61it/s]\n"
     ]
    },
    {
     "name": "stdout",
     "output_type": "stream",
     "text": [
      "Global round: 934 | Average loss: 0.5398447116216024\n",
      "Global Round: 935\n"
     ]
    },
    {
     "name": "stderr",
     "output_type": "stream",
     "text": [
      "Train Epoch: 935/1001. Iter:   18/  18. Data: 0.056s. Batch: 0.104s. Loss: 0.5323.: 100%|█| 18/18 [00:01<00:00,  9.66it/s]\n"
     ]
    },
    {
     "name": "stdout",
     "output_type": "stream",
     "text": [
      "global epoch 936 saved\n",
      "Global round: 935 | Average loss: 0.5372287763489617\n",
      "Global Round: 936\n"
     ]
    },
    {
     "name": "stderr",
     "output_type": "stream",
     "text": [
      "Train Epoch: 936/1001. Iter:   18/  18. Data: 0.058s. Batch: 0.108s. Loss: 0.5352.: 100%|█| 18/18 [00:01<00:00,  9.37it/s]\n"
     ]
    },
    {
     "name": "stdout",
     "output_type": "stream",
     "text": [
      "Global round: 936 | Average loss: 0.5398971670203738\n",
      "Global Round: 937\n"
     ]
    },
    {
     "name": "stderr",
     "output_type": "stream",
     "text": [
      "Train Epoch: 937/1001. Iter:   18/  18. Data: 0.055s. Batch: 0.103s. Loss: 0.5370.: 100%|█| 18/18 [00:01<00:00,  9.71it/s]\n"
     ]
    },
    {
     "name": "stdout",
     "output_type": "stream",
     "text": [
      "Global round: 937 | Average loss: 0.5365734961297777\n",
      "Global Round: 938\n"
     ]
    },
    {
     "name": "stderr",
     "output_type": "stream",
     "text": [
      "Train Epoch: 938/1001. Iter:   18/  18. Data: 0.055s. Batch: 0.103s. Loss: 0.5212.: 100%|█| 18/18 [00:01<00:00,  9.70it/s]\n"
     ]
    },
    {
     "name": "stdout",
     "output_type": "stream",
     "text": [
      "Global round: 938 | Average loss: 0.53723673025767\n",
      "Global Round: 939\n"
     ]
    },
    {
     "name": "stderr",
     "output_type": "stream",
     "text": [
      "Train Epoch: 939/1001. Iter:   18/  18. Data: 0.056s. Batch: 0.106s. Loss: 0.5214.: 100%|█| 18/18 [00:01<00:00,  9.39it/s]\n"
     ]
    },
    {
     "name": "stdout",
     "output_type": "stream",
     "text": [
      "Global round: 939 | Average loss: 0.5371882054540846\n",
      "Global Round: 940\n"
     ]
    },
    {
     "name": "stderr",
     "output_type": "stream",
     "text": [
      "Train Epoch: 940/1001. Iter:   18/  18. Data: 0.054s. Batch: 0.102s. Loss: 0.5428.: 100%|█| 18/18 [00:01<00:00,  9.78it/s]\n"
     ]
    },
    {
     "name": "stdout",
     "output_type": "stream",
     "text": [
      "global epoch 941 saved\n",
      "Global round: 940 | Average loss: 0.5346550676557753\n",
      "Global Round: 941\n"
     ]
    },
    {
     "name": "stderr",
     "output_type": "stream",
     "text": [
      "Train Epoch: 941/1001. Iter:   18/  18. Data: 0.058s. Batch: 0.107s. Loss: 0.5308.: 100%|█| 18/18 [00:01<00:00,  9.45it/s]\n"
     ]
    },
    {
     "name": "stdout",
     "output_type": "stream",
     "text": [
      "Global round: 941 | Average loss: 0.5367116928100586\n",
      "Global Round: 942\n"
     ]
    },
    {
     "name": "stderr",
     "output_type": "stream",
     "text": [
      "Train Epoch: 942/1001. Iter:   18/  18. Data: 0.057s. Batch: 0.104s. Loss: 0.5290.: 100%|█| 18/18 [00:01<00:00,  9.64it/s]\n"
     ]
    },
    {
     "name": "stdout",
     "output_type": "stream",
     "text": [
      "Global round: 942 | Average loss: 0.5363911588986715\n",
      "Global Round: 943\n"
     ]
    },
    {
     "name": "stderr",
     "output_type": "stream",
     "text": [
      "Train Epoch: 943/1001. Iter:   18/  18. Data: 0.057s. Batch: 0.104s. Loss: 0.5177.: 100%|█| 18/18 [00:01<00:00,  9.60it/s]\n"
     ]
    },
    {
     "name": "stdout",
     "output_type": "stream",
     "text": [
      "Global round: 943 | Average loss: 0.5345201475752724\n",
      "Global Round: 944\n"
     ]
    },
    {
     "name": "stderr",
     "output_type": "stream",
     "text": [
      "Train Epoch: 944/1001. Iter:   18/  18. Data: 0.058s. Batch: 0.105s. Loss: 0.5400.: 100%|█| 18/18 [00:01<00:00,  9.51it/s]\n"
     ]
    },
    {
     "name": "stdout",
     "output_type": "stream",
     "text": [
      "Global round: 944 | Average loss: 0.5402326153384315\n",
      "Global Round: 945\n"
     ]
    },
    {
     "name": "stderr",
     "output_type": "stream",
     "text": [
      "Train Epoch: 945/1001. Iter:   18/  18. Data: 0.056s. Batch: 0.102s. Loss: 0.5334.: 100%|█| 18/18 [00:01<00:00,  9.79it/s]\n"
     ]
    },
    {
     "name": "stdout",
     "output_type": "stream",
     "text": [
      "global epoch 946 saved\n",
      "Global round: 945 | Average loss: 0.5365539325608147\n",
      "Global Round: 946\n"
     ]
    },
    {
     "name": "stderr",
     "output_type": "stream",
     "text": [
      "Train Epoch: 946/1001. Iter:   18/  18. Data: 0.058s. Batch: 0.104s. Loss: 0.5114.: 100%|█| 18/18 [00:01<00:00,  9.65it/s]\n"
     ]
    },
    {
     "name": "stdout",
     "output_type": "stream",
     "text": [
      "Global round: 946 | Average loss: 0.5376013252470229\n",
      "Global Round: 947\n"
     ]
    },
    {
     "name": "stderr",
     "output_type": "stream",
     "text": [
      "Train Epoch: 947/1001. Iter:   18/  18. Data: 0.056s. Batch: 0.106s. Loss: 0.5382.: 100%|█| 18/18 [00:01<00:00,  9.48it/s]\n"
     ]
    },
    {
     "name": "stdout",
     "output_type": "stream",
     "text": [
      "Global round: 947 | Average loss: 0.5365734299023946\n",
      "Global Round: 948\n"
     ]
    },
    {
     "name": "stderr",
     "output_type": "stream",
     "text": [
      "Train Epoch: 948/1001. Iter:   18/  18. Data: 0.055s. Batch: 0.103s. Loss: 0.5315.: 100%|█| 18/18 [00:01<00:00,  9.75it/s]\n"
     ]
    },
    {
     "name": "stdout",
     "output_type": "stream",
     "text": [
      "Global round: 948 | Average loss: 0.536635140577952\n",
      "Global Round: 949\n"
     ]
    },
    {
     "name": "stderr",
     "output_type": "stream",
     "text": [
      "Train Epoch: 949/1001. Iter:   18/  18. Data: 0.056s. Batch: 0.106s. Loss: 0.5142.: 100%|█| 18/18 [00:01<00:00,  9.45it/s]\n"
     ]
    },
    {
     "name": "stdout",
     "output_type": "stream",
     "text": [
      "Global round: 949 | Average loss: 0.5382292966047922\n",
      "Global Round: 950\n"
     ]
    },
    {
     "name": "stderr",
     "output_type": "stream",
     "text": [
      "Train Epoch: 950/1001. Iter:   18/  18. Data: 0.056s. Batch: 0.105s. Loss: 0.5446.: 100%|█| 18/18 [00:01<00:00,  9.54it/s]\n"
     ]
    },
    {
     "name": "stdout",
     "output_type": "stream",
     "text": [
      "global epoch 951 saved\n",
      "Global round: 950 | Average loss: 0.5384369691212972\n",
      "Global Round: 951\n"
     ]
    },
    {
     "name": "stderr",
     "output_type": "stream",
     "text": [
      "Train Epoch: 951/1001. Iter:   18/  18. Data: 0.058s. Batch: 0.103s. Loss: 0.5342.: 100%|█| 18/18 [00:01<00:00,  9.75it/s]\n"
     ]
    },
    {
     "name": "stdout",
     "output_type": "stream",
     "text": [
      "Global round: 951 | Average loss: 0.5348619255754683\n",
      "Global Round: 952\n"
     ]
    },
    {
     "name": "stderr",
     "output_type": "stream",
     "text": [
      "Train Epoch: 952/1001. Iter:   18/  18. Data: 0.061s. Batch: 0.109s. Loss: 0.5364.: 100%|█| 18/18 [00:01<00:00,  9.20it/s]\n"
     ]
    },
    {
     "name": "stdout",
     "output_type": "stream",
     "text": [
      "Global round: 952 | Average loss: 0.5365091065565745\n",
      "Global Round: 953\n"
     ]
    },
    {
     "name": "stderr",
     "output_type": "stream",
     "text": [
      "Train Epoch: 953/1001. Iter:   18/  18. Data: 0.058s. Batch: 0.105s. Loss: 0.5333.: 100%|█| 18/18 [00:01<00:00,  9.55it/s]\n"
     ]
    },
    {
     "name": "stdout",
     "output_type": "stream",
     "text": [
      "Global round: 953 | Average loss: 0.5351093908150991\n",
      "Global Round: 954\n"
     ]
    },
    {
     "name": "stderr",
     "output_type": "stream",
     "text": [
      "Train Epoch: 954/1001. Iter:   18/  18. Data: 0.058s. Batch: 0.105s. Loss: 0.5377.: 100%|█| 18/18 [00:01<00:00,  9.56it/s]\n"
     ]
    },
    {
     "name": "stdout",
     "output_type": "stream",
     "text": [
      "Global round: 954 | Average loss: 0.5324996378686693\n",
      "Global Round: 955\n"
     ]
    },
    {
     "name": "stderr",
     "output_type": "stream",
     "text": [
      "Train Epoch: 955/1001. Iter:   18/  18. Data: 0.061s. Batch: 0.107s. Loss: 0.5259.: 100%|█| 18/18 [00:01<00:00,  9.31it/s]\n"
     ]
    },
    {
     "name": "stdout",
     "output_type": "stream",
     "text": [
      "global epoch 956 saved\n",
      "Global round: 955 | Average loss: 0.531730506155226\n",
      "Global Round: 956\n"
     ]
    },
    {
     "name": "stderr",
     "output_type": "stream",
     "text": [
      "Train Epoch: 956/1001. Iter:   18/  18. Data: 0.057s. Batch: 0.104s. Loss: 0.5459.: 100%|█| 18/18 [00:01<00:00,  9.63it/s]\n"
     ]
    },
    {
     "name": "stdout",
     "output_type": "stream",
     "text": [
      "Global round: 956 | Average loss: 0.5307776398128934\n",
      "Global Round: 957\n"
     ]
    },
    {
     "name": "stderr",
     "output_type": "stream",
     "text": [
      "Train Epoch: 957/1001. Iter:   18/  18. Data: 0.057s. Batch: 0.105s. Loss: 0.5623.: 100%|█| 18/18 [00:01<00:00,  9.52it/s]\n"
     ]
    },
    {
     "name": "stdout",
     "output_type": "stream",
     "text": [
      "Global round: 957 | Average loss: 0.5357876850499047\n",
      "Global Round: 958\n"
     ]
    },
    {
     "name": "stderr",
     "output_type": "stream",
     "text": [
      "Train Epoch: 958/1001. Iter:   18/  18. Data: 0.057s. Batch: 0.104s. Loss: 0.5277.: 100%|█| 18/18 [00:01<00:00,  9.60it/s]\n"
     ]
    },
    {
     "name": "stdout",
     "output_type": "stream",
     "text": [
      "Global round: 958 | Average loss: 0.5340012510617574\n",
      "Global Round: 959\n"
     ]
    },
    {
     "name": "stderr",
     "output_type": "stream",
     "text": [
      "Train Epoch: 959/1001. Iter:   18/  18. Data: 0.057s. Batch: 0.105s. Loss: 0.5332.: 100%|█| 18/18 [00:01<00:00,  9.55it/s]\n"
     ]
    },
    {
     "name": "stdout",
     "output_type": "stream",
     "text": [
      "Global round: 959 | Average loss: 0.5332800183031294\n",
      "Global Round: 960\n"
     ]
    },
    {
     "name": "stderr",
     "output_type": "stream",
     "text": [
      "Train Epoch: 960/1001. Iter:   18/  18. Data: 0.058s. Batch: 0.108s. Loss: 0.5304.: 100%|█| 18/18 [00:01<00:00,  9.29it/s]\n"
     ]
    },
    {
     "name": "stdout",
     "output_type": "stream",
     "text": [
      "global epoch 961 saved\n",
      "Global round: 960 | Average loss: 0.5350380506780412\n",
      "Global Round: 961\n"
     ]
    },
    {
     "name": "stderr",
     "output_type": "stream",
     "text": [
      "Train Epoch: 961/1001. Iter:   18/  18. Data: 0.058s. Batch: 0.106s. Loss: 0.5281.: 100%|█| 18/18 [00:01<00:00,  9.55it/s]\n"
     ]
    },
    {
     "name": "stdout",
     "output_type": "stream",
     "text": [
      "Global round: 961 | Average loss: 0.5314613746272193\n",
      "Global Round: 962\n"
     ]
    },
    {
     "name": "stderr",
     "output_type": "stream",
     "text": [
      "Train Epoch: 962/1001. Iter:   18/  18. Data: 0.055s. Batch: 0.106s. Loss: 0.5269.: 100%|█| 18/18 [00:01<00:00,  9.43it/s]\n"
     ]
    },
    {
     "name": "stdout",
     "output_type": "stream",
     "text": [
      "Global round: 962 | Average loss: 0.5307436055607266\n",
      "Global Round: 963\n"
     ]
    },
    {
     "name": "stderr",
     "output_type": "stream",
     "text": [
      "Train Epoch: 963/1001. Iter:   18/  18. Data: 0.054s. Batch: 0.102s. Loss: 0.5151.: 100%|█| 18/18 [00:01<00:00,  9.81it/s]\n"
     ]
    },
    {
     "name": "stdout",
     "output_type": "stream",
     "text": [
      "Global round: 963 | Average loss: 0.532268527481291\n",
      "Global Round: 964\n"
     ]
    },
    {
     "name": "stderr",
     "output_type": "stream",
     "text": [
      "Train Epoch: 964/1001. Iter:   18/  18. Data: 0.055s. Batch: 0.103s. Loss: 0.5284.: 100%|█| 18/18 [00:01<00:00,  9.72it/s]\n"
     ]
    },
    {
     "name": "stdout",
     "output_type": "stream",
     "text": [
      "Global round: 964 | Average loss: 0.5318527983294593\n",
      "Global Round: 965\n"
     ]
    },
    {
     "name": "stderr",
     "output_type": "stream",
     "text": [
      "Train Epoch: 965/1001. Iter:   18/  18. Data: 0.055s. Batch: 0.105s. Loss: 0.5418.: 100%|█| 18/18 [00:01<00:00,  9.52it/s]\n"
     ]
    },
    {
     "name": "stdout",
     "output_type": "stream",
     "text": [
      "global epoch 966 saved\n",
      "Global round: 965 | Average loss: 0.5314074224895902\n",
      "Global Round: 966\n"
     ]
    },
    {
     "name": "stderr",
     "output_type": "stream",
     "text": [
      "Train Epoch: 966/1001. Iter:   18/  18. Data: 0.056s. Batch: 0.104s. Loss: 0.5438.: 100%|█| 18/18 [00:01<00:00,  9.67it/s]\n"
     ]
    },
    {
     "name": "stdout",
     "output_type": "stream",
     "text": [
      "Global round: 966 | Average loss: 0.5319410595628951\n",
      "Global Round: 967\n"
     ]
    },
    {
     "name": "stderr",
     "output_type": "stream",
     "text": [
      "Train Epoch: 967/1001. Iter:   18/  18. Data: 0.057s. Batch: 0.105s. Loss: 0.5239.: 100%|█| 18/18 [00:01<00:00,  9.55it/s]\n"
     ]
    },
    {
     "name": "stdout",
     "output_type": "stream",
     "text": [
      "Global round: 967 | Average loss: 0.5313282907009125\n",
      "Global Round: 968\n"
     ]
    },
    {
     "name": "stderr",
     "output_type": "stream",
     "text": [
      "Train Epoch: 968/1001. Iter:   18/  18. Data: 0.059s. Batch: 0.106s. Loss: 0.5278.: 100%|█| 18/18 [00:01<00:00,  9.43it/s]\n"
     ]
    },
    {
     "name": "stdout",
     "output_type": "stream",
     "text": [
      "Global round: 968 | Average loss: 0.5312601692146726\n",
      "Global Round: 969\n"
     ]
    },
    {
     "name": "stderr",
     "output_type": "stream",
     "text": [
      "Train Epoch: 969/1001. Iter:   18/  18. Data: 0.057s. Batch: 0.104s. Loss: 0.5363.: 100%|█| 18/18 [00:01<00:00,  9.58it/s]\n"
     ]
    },
    {
     "name": "stdout",
     "output_type": "stream",
     "text": [
      "Global round: 969 | Average loss: 0.5311040315363142\n",
      "Global Round: 970\n"
     ]
    },
    {
     "name": "stderr",
     "output_type": "stream",
     "text": [
      "Train Epoch: 970/1001. Iter:   18/  18. Data: 0.060s. Batch: 0.108s. Loss: 0.5554.: 100%|█| 18/18 [00:01<00:00,  9.26it/s]\n"
     ]
    },
    {
     "name": "stdout",
     "output_type": "stream",
     "text": [
      "global epoch 971 saved\n",
      "Global round: 970 | Average loss: 0.5337589350011613\n",
      "Global Round: 971\n"
     ]
    },
    {
     "name": "stderr",
     "output_type": "stream",
     "text": [
      "Train Epoch: 971/1001. Iter:   18/  18. Data: 0.059s. Batch: 0.105s. Loss: 0.5408.: 100%|█| 18/18 [00:01<00:00,  9.58it/s]\n"
     ]
    },
    {
     "name": "stdout",
     "output_type": "stream",
     "text": [
      "Global round: 971 | Average loss: 0.5347892145315806\n",
      "Global Round: 972\n"
     ]
    },
    {
     "name": "stderr",
     "output_type": "stream",
     "text": [
      "Train Epoch: 972/1001. Iter:   18/  18. Data: 0.057s. Batch: 0.105s. Loss: 0.5401.: 100%|█| 18/18 [00:01<00:00,  9.53it/s]\n"
     ]
    },
    {
     "name": "stdout",
     "output_type": "stream",
     "text": [
      "Global round: 972 | Average loss: 0.5313629574245877\n",
      "Global Round: 973\n"
     ]
    },
    {
     "name": "stderr",
     "output_type": "stream",
     "text": [
      "Train Epoch: 973/1001. Iter:   18/  18. Data: 0.057s. Batch: 0.106s. Loss: 0.5391.: 100%|█| 18/18 [00:01<00:00,  9.47it/s]\n"
     ]
    },
    {
     "name": "stdout",
     "output_type": "stream",
     "text": [
      "Global round: 973 | Average loss: 0.5328409605556064\n",
      "Global Round: 974\n"
     ]
    },
    {
     "name": "stderr",
     "output_type": "stream",
     "text": [
      "Train Epoch: 974/1001. Iter:   18/  18. Data: 0.056s. Batch: 0.103s. Loss: 0.5164.: 100%|█| 18/18 [00:01<00:00,  9.67it/s]\n"
     ]
    },
    {
     "name": "stdout",
     "output_type": "stream",
     "text": [
      "Global round: 974 | Average loss: 0.5310485131210751\n",
      "Global Round: 975\n"
     ]
    },
    {
     "name": "stderr",
     "output_type": "stream",
     "text": [
      "Train Epoch: 975/1001. Iter:   18/  18. Data: 0.057s. Batch: 0.106s. Loss: 0.5301.: 100%|█| 18/18 [00:01<00:00,  9.47it/s]\n"
     ]
    },
    {
     "name": "stdout",
     "output_type": "stream",
     "text": [
      "global epoch 976 saved\n",
      "Global round: 975 | Average loss: 0.5360136694378324\n",
      "Global Round: 976\n"
     ]
    },
    {
     "name": "stderr",
     "output_type": "stream",
     "text": [
      "Train Epoch: 976/1001. Iter:   18/  18. Data: 0.061s. Batch: 0.107s. Loss: 0.5251.: 100%|█| 18/18 [00:01<00:00,  9.42it/s]\n"
     ]
    },
    {
     "name": "stdout",
     "output_type": "stream",
     "text": [
      "Global round: 976 | Average loss: 0.5300309724277921\n",
      "Global Round: 977\n"
     ]
    },
    {
     "name": "stderr",
     "output_type": "stream",
     "text": [
      "Train Epoch: 977/1001. Iter:   18/  18. Data: 0.059s. Batch: 0.107s. Loss: 0.5373.: 100%|█| 18/18 [00:01<00:00,  9.37it/s]\n"
     ]
    },
    {
     "name": "stdout",
     "output_type": "stream",
     "text": [
      "Global round: 977 | Average loss: 0.5292307171556685\n",
      "Global Round: 978\n"
     ]
    },
    {
     "name": "stderr",
     "output_type": "stream",
     "text": [
      "Train Epoch: 978/1001. Iter:   18/  18. Data: 0.061s. Batch: 0.107s. Loss: 0.5171.: 100%|█| 18/18 [00:01<00:00,  9.31it/s]\n"
     ]
    },
    {
     "name": "stdout",
     "output_type": "stream",
     "text": [
      "Global round: 978 | Average loss: 0.5296241243680319\n",
      "Global Round: 979\n"
     ]
    },
    {
     "name": "stderr",
     "output_type": "stream",
     "text": [
      "Train Epoch: 979/1001. Iter:   18/  18. Data: 0.058s. Batch: 0.106s. Loss: 0.5387.: 100%|█| 18/18 [00:01<00:00,  9.47it/s]\n"
     ]
    },
    {
     "name": "stdout",
     "output_type": "stream",
     "text": [
      "Global round: 979 | Average loss: 0.5320530169539981\n",
      "Global Round: 980\n"
     ]
    },
    {
     "name": "stderr",
     "output_type": "stream",
     "text": [
      "Train Epoch: 980/1001. Iter:   18/  18. Data: 0.058s. Batch: 0.106s. Loss: 0.5291.: 100%|█| 18/18 [00:01<00:00,  9.47it/s]\n"
     ]
    },
    {
     "name": "stdout",
     "output_type": "stream",
     "text": [
      "global epoch 981 saved\n",
      "Global round: 980 | Average loss: 0.5302188396453857\n",
      "Global Round: 981\n"
     ]
    },
    {
     "name": "stderr",
     "output_type": "stream",
     "text": [
      "Train Epoch: 981/1001. Iter:   18/  18. Data: 0.059s. Batch: 0.107s. Loss: 0.5151.: 100%|█| 18/18 [00:01<00:00,  9.43it/s]\n"
     ]
    },
    {
     "name": "stdout",
     "output_type": "stream",
     "text": [
      "Global round: 981 | Average loss: 0.52875640657213\n",
      "Global Round: 982\n"
     ]
    },
    {
     "name": "stderr",
     "output_type": "stream",
     "text": [
      "Train Epoch: 982/1001. Iter:   18/  18. Data: 0.056s. Batch: 0.103s. Loss: 0.5362.: 100%|█| 18/18 [00:01<00:00,  9.71it/s]\n"
     ]
    },
    {
     "name": "stdout",
     "output_type": "stream",
     "text": [
      "Global round: 982 | Average loss: 0.5282365696297752\n",
      "Global Round: 983\n"
     ]
    },
    {
     "name": "stderr",
     "output_type": "stream",
     "text": [
      "Train Epoch: 983/1001. Iter:   18/  18. Data: 0.056s. Batch: 0.102s. Loss: 0.5353.: 100%|█| 18/18 [00:01<00:00,  9.78it/s]\n"
     ]
    },
    {
     "name": "stdout",
     "output_type": "stream",
     "text": [
      "Global round: 983 | Average loss: 0.5303548276424408\n",
      "Global Round: 984\n"
     ]
    },
    {
     "name": "stderr",
     "output_type": "stream",
     "text": [
      "Train Epoch: 984/1001. Iter:   18/  18. Data: 0.057s. Batch: 0.105s. Loss: 0.5231.: 100%|█| 18/18 [00:01<00:00,  9.57it/s]\n"
     ]
    },
    {
     "name": "stdout",
     "output_type": "stream",
     "text": [
      "Global round: 984 | Average loss: 0.5294544729921553\n",
      "Global Round: 985\n"
     ]
    },
    {
     "name": "stderr",
     "output_type": "stream",
     "text": [
      "Train Epoch: 985/1001. Iter:   18/  18. Data: 0.056s. Batch: 0.102s. Loss: 0.5227.: 100%|█| 18/18 [00:01<00:00,  9.79it/s]\n"
     ]
    },
    {
     "name": "stdout",
     "output_type": "stream",
     "text": [
      "global epoch 986 saved\n",
      "Global round: 985 | Average loss: 0.5291925569375356\n",
      "Global Round: 986\n"
     ]
    },
    {
     "name": "stderr",
     "output_type": "stream",
     "text": [
      "Train Epoch: 986/1001. Iter:   18/  18. Data: 0.056s. Batch: 0.105s. Loss: 0.5274.: 100%|█| 18/18 [00:01<00:00,  9.56it/s]\n"
     ]
    },
    {
     "name": "stdout",
     "output_type": "stream",
     "text": [
      "Global round: 986 | Average loss: 0.5287809272607168\n",
      "Global Round: 987\n"
     ]
    },
    {
     "name": "stderr",
     "output_type": "stream",
     "text": [
      "Train Epoch: 987/1001. Iter:   18/  18. Data: 0.055s. Batch: 0.103s. Loss: 0.5317.: 100%|█| 18/18 [00:01<00:00,  9.74it/s]\n"
     ]
    },
    {
     "name": "stdout",
     "output_type": "stream",
     "text": [
      "Global round: 987 | Average loss: 0.5249504645665487\n",
      "Global Round: 988\n"
     ]
    },
    {
     "name": "stderr",
     "output_type": "stream",
     "text": [
      "Train Epoch: 988/1001. Iter:   18/  18. Data: 0.055s. Batch: 0.103s. Loss: 0.5345.: 100%|█| 18/18 [00:01<00:00,  9.67it/s]\n"
     ]
    },
    {
     "name": "stdout",
     "output_type": "stream",
     "text": [
      "Global round: 988 | Average loss: 0.5272777875264486\n",
      "Global Round: 989\n"
     ]
    },
    {
     "name": "stderr",
     "output_type": "stream",
     "text": [
      "Train Epoch: 989/1001. Iter:   18/  18. Data: 0.055s. Batch: 0.105s. Loss: 0.5403.: 100%|█| 18/18 [00:01<00:00,  9.51it/s]\n"
     ]
    },
    {
     "name": "stdout",
     "output_type": "stream",
     "text": [
      "Global round: 989 | Average loss: 0.527079678244061\n",
      "Global Round: 990\n"
     ]
    },
    {
     "name": "stderr",
     "output_type": "stream",
     "text": [
      "Train Epoch: 990/1001. Iter:   18/  18. Data: 0.055s. Batch: 0.102s. Loss: 0.5091.: 100%|█| 18/18 [00:01<00:00,  9.78it/s]\n"
     ]
    },
    {
     "name": "stdout",
     "output_type": "stream",
     "text": [
      "global epoch 991 saved\n",
      "Global round: 990 | Average loss: 0.5291672050952911\n",
      "Global Round: 991\n"
     ]
    },
    {
     "name": "stderr",
     "output_type": "stream",
     "text": [
      "Train Epoch: 991/1001. Iter:   18/  18. Data: 0.056s. Batch: 0.104s. Loss: 0.5377.: 100%|█| 18/18 [00:01<00:00,  9.63it/s]\n"
     ]
    },
    {
     "name": "stdout",
     "output_type": "stream",
     "text": [
      "Global round: 991 | Average loss: 0.5322231815920936\n",
      "Global Round: 992\n"
     ]
    },
    {
     "name": "stderr",
     "output_type": "stream",
     "text": [
      "Train Epoch: 992/1001. Iter:   18/  18. Data: 0.059s. Batch: 0.108s. Loss: 0.5173.: 100%|█| 18/18 [00:01<00:00,  9.30it/s]\n"
     ]
    },
    {
     "name": "stdout",
     "output_type": "stream",
     "text": [
      "Global round: 992 | Average loss: 0.5273716549078623\n",
      "Global Round: 993\n"
     ]
    },
    {
     "name": "stderr",
     "output_type": "stream",
     "text": [
      "Train Epoch: 993/1001. Iter:   18/  18. Data: 0.057s. Batch: 0.102s. Loss: 0.5309.: 100%|█| 18/18 [00:01<00:00,  9.78it/s]\n"
     ]
    },
    {
     "name": "stdout",
     "output_type": "stream",
     "text": [
      "Global round: 993 | Average loss: 0.52852949168947\n",
      "Global Round: 994\n"
     ]
    },
    {
     "name": "stderr",
     "output_type": "stream",
     "text": [
      "Train Epoch: 994/1001. Iter:   18/  18. Data: 0.059s. Batch: 0.106s. Loss: 0.5461.: 100%|█| 18/18 [00:01<00:00,  9.44it/s]\n"
     ]
    },
    {
     "name": "stdout",
     "output_type": "stream",
     "text": [
      "Global round: 994 | Average loss: 0.5312183565563626\n",
      "Global Round: 995\n"
     ]
    },
    {
     "name": "stderr",
     "output_type": "stream",
     "text": [
      "Train Epoch: 995/1001. Iter:   18/  18. Data: 0.057s. Batch: 0.103s. Loss: 0.5376.: 100%|█| 18/18 [00:01<00:00,  9.71it/s]\n"
     ]
    },
    {
     "name": "stdout",
     "output_type": "stream",
     "text": [
      "global epoch 996 saved\n",
      "Global round: 995 | Average loss: 0.5300321678320566\n",
      "Global Round: 996\n"
     ]
    },
    {
     "name": "stderr",
     "output_type": "stream",
     "text": [
      "Train Epoch: 996/1001. Iter:   18/  18. Data: 0.059s. Batch: 0.105s. Loss: 0.5546.: 100%|█| 18/18 [00:01<00:00,  9.56it/s]\n"
     ]
    },
    {
     "name": "stdout",
     "output_type": "stream",
     "text": [
      "Global round: 996 | Average loss: 0.5317054390907288\n",
      "Global Round: 997\n"
     ]
    },
    {
     "name": "stderr",
     "output_type": "stream",
     "text": [
      "Train Epoch: 997/1001. Iter:   18/  18. Data: 0.056s. Batch: 0.106s. Loss: 0.5415.: 100%|█| 18/18 [00:01<00:00,  9.47it/s]\n"
     ]
    },
    {
     "name": "stdout",
     "output_type": "stream",
     "text": [
      "Global round: 997 | Average loss: 0.5247841974099478\n",
      "Global Round: 998\n"
     ]
    },
    {
     "name": "stderr",
     "output_type": "stream",
     "text": [
      "Train Epoch: 998/1001. Iter:   18/  18. Data: 0.056s. Batch: 0.104s. Loss: 0.5326.: 100%|█| 18/18 [00:01<00:00,  9.64it/s]\n"
     ]
    },
    {
     "name": "stdout",
     "output_type": "stream",
     "text": [
      "Global round: 998 | Average loss: 0.5269387794865502\n",
      "Global Round: 999\n"
     ]
    },
    {
     "name": "stderr",
     "output_type": "stream",
     "text": [
      "Train Epoch: 999/1001. Iter:   18/  18. Data: 0.057s. Batch: 0.108s. Loss: 0.5050.: 100%|█| 18/18 [00:01<00:00,  9.23it/s]\n"
     ]
    },
    {
     "name": "stdout",
     "output_type": "stream",
     "text": [
      "Global round: 999 | Average loss: 0.5255127714739906\n",
      "Global Round: 1000\n"
     ]
    },
    {
     "name": "stderr",
     "output_type": "stream",
     "text": [
      "Train Epoch: 1000/1001. Iter:   18/  18. Data: 0.056s. Batch: 0.104s. Loss: 0.5348.: 100%|█| 18/18 [00:01<00:00,  9.58it/s"
     ]
    },
    {
     "name": "stdout",
     "output_type": "stream",
     "text": [
      "global epoch 1001 saved\n",
      "Global round: 1000 | Average loss: 0.5232490400473276\n",
      "Training Done!\n",
      "Total time taken to Train: 0.025857210159301758\n"
     ]
    },
    {
     "name": "stderr",
     "output_type": "stream",
     "text": [
      "\n"
     ]
    }
   ],
   "source": [
    "trained_model, train_loss = training(client_models, server_model, optimizer_server, optimizer_clients, H[0], H[4], H[5], H[1], H[2], H[3], plot_str,\n",
    "                             \"green\")"
   ]
  },
  {
   "cell_type": "code",
   "execution_count": 29,
   "metadata": {
    "execution": {
     "iopub.execute_input": "2024-06-17T14:43:59.596401Z",
     "iopub.status.busy": "2024-06-17T14:43:59.596259Z",
     "iopub.status.idle": "2024-06-17T14:43:59.598671Z",
     "shell.execute_reply": "2024-06-17T14:43:59.598480Z",
     "shell.execute_reply.started": "2024-06-17T14:43:59.596387Z"
    },
    "id": "h5St42vvK2Jj",
    "tags": []
   },
   "outputs": [],
   "source": [
    "torch.save(client_model.online_encoder.cpu().state_dict(), save_path + \"_final.pt\")"
   ]
  },
  {
   "cell_type": "code",
   "execution_count": 30,
   "metadata": {
    "execution": {
     "iopub.execute_input": "2024-06-17T14:43:59.599055Z",
     "iopub.status.busy": "2024-06-17T14:43:59.598960Z",
     "iopub.status.idle": "2024-06-17T14:43:59.845055Z",
     "shell.execute_reply": "2024-06-17T14:43:59.844826Z",
     "shell.execute_reply.started": "2024-06-17T14:43:59.599048Z"
    }
   },
   "outputs": [
    {
     "data": {
      "image/png": "[encoded data removed]",
      "text/plain": [
       "<Figure size 640x480 with 1 Axes>"
      ]
     },
     "metadata": {},
     "output_type": "display_data"
    }
   ],
   "source": [
    "import matplotlib.pyplot as plt\n",
    "\n",
    "plt.plot(train_loss)\n",
    "plt.xlabel('epochs')\n",
    "plt.ylabel('Loss')\n",
    "plt.title('Training Loss Curve')\n",
    "plt.show()"
   ]
  },
  {
   "cell_type": "code",
   "execution_count": 31,
   "metadata": {
    "execution": {
     "iopub.execute_input": "2024-06-17T14:43:59.845490Z",
     "iopub.status.busy": "2024-06-17T14:43:59.845394Z",
     "iopub.status.idle": "2024-06-17T14:43:59.849229Z",
     "shell.execute_reply": "2024-06-17T14:43:59.849007Z",
     "shell.execute_reply.started": "2024-06-17T14:43:59.845481Z"
    }
   },
   "outputs": [
    {
     "data": {
      "text/plain": [
       "Reusing TensorBoard on port 7055 (pid 122596), started 1 day, 1:16:50 ago. (Use '!kill 122596' to kill it.)"
      ]
     },
     "metadata": {},
     "output_type": "display_data"
    },
    {
     "data": {
      "text/html": [
       "\n",
       "      <iframe id=\"tensorboard-frame-55513cb362256025\" width=\"100%\" height=\"800\" frameborder=\"0\">\n",
       "      </iframe>\n",
       "      <script>\n",
       "        (function() {\n",
       "          const frame = document.getElementById(\"tensorboard-frame-55513cb362256025\");\n",
       "          const url = new URL(\"/\", window.location);\n",
       "          const port = 7055;\n",
       "          if (port) {\n",
       "            url.port = port;\n",
       "          }\n",
       "          frame.src = url;\n",
       "        })();\n",
       "      </script>\n",
       "    "
      ],
      "text/plain": [
       "<IPython.core.display.HTML object>"
      ]
     },
     "metadata": {},
     "output_type": "display_data"
    }
   ],
   "source": [
    "%load_ext tensorboard\n",
    "\n",
    "%tensorboard --logdir=logs//SplitFSSLMaxpool_resnet18 --bind_all --port=7055"
   ]
  },
  {
   "cell_type": "markdown",
   "metadata": {
    "id": "q0p7mnJRATN1"
   },
   "source": [
    "## Fine-tune"
   ]
  },
  {
   "cell_type": "code",
   "execution_count": 32,
   "metadata": {
    "execution": {
     "iopub.execute_input": "2024-06-17T14:43:59.849558Z",
     "iopub.status.busy": "2024-06-17T14:43:59.849488Z",
     "iopub.status.idle": "2024-06-17T14:43:59.856787Z",
     "shell.execute_reply": "2024-06-17T14:43:59.856572Z",
     "shell.execute_reply.started": "2024-06-17T14:43:59.849551Z"
    },
    "id": "BN1W-y3ZAGDq",
    "tags": []
   },
   "outputs": [],
   "source": [
    "import os\n",
    "import argparse\n",
    "import pickle\n",
    "from collections import defaultdict\n",
    "import numpy as np\n",
    "import torch\n",
    "import torch.nn as nn \n",
    "from torch.utils.data import SequentialSampler\n",
    "from torchvision import datasets, models, transforms"
   ]
  },
  {
   "cell_type": "code",
   "execution_count": 33,
   "metadata": {
    "execution": {
     "iopub.execute_input": "2024-06-17T14:43:59.857341Z",
     "iopub.status.busy": "2024-06-17T14:43:59.857096Z",
     "iopub.status.idle": "2024-06-17T14:43:59.859503Z",
     "shell.execute_reply": "2024-06-17T14:43:59.859248Z",
     "shell.execute_reply.started": "2024-06-17T14:43:59.857331Z"
    },
    "id": "OUl_bMdHAWqT",
    "tags": []
   },
   "outputs": [
    {
     "data": {
      "text/plain": [
       "device(type='cuda', index=0)"
      ]
     },
     "execution_count": 33,
     "metadata": {},
     "output_type": "execute_result"
    }
   ],
   "source": [
    "device = torch.device(\"cuda:0\") if torch.cuda.is_available() else torch.device(\"cpu\")\n",
    "device"
   ]
  },
  {
   "cell_type": "code",
   "execution_count": 34,
   "metadata": {
    "execution": {
     "iopub.execute_input": "2024-06-17T14:43:59.859966Z",
     "iopub.status.busy": "2024-06-17T14:43:59.859814Z",
     "iopub.status.idle": "2024-06-17T14:43:59.863220Z",
     "shell.execute_reply": "2024-06-17T14:43:59.863025Z",
     "shell.execute_reply.started": "2024-06-17T14:43:59.859957Z"
    }
   },
   "outputs": [],
   "source": [
    "def distribute_noniid_testdata_label(labels, num_users, noniid_ratio = 0.55, num_class = 10):\n",
    "    allnum = len(labels)\n",
    "    num_imgs_per_client = int(allnum / num_users / num_class)\n",
    "    \n",
    "    noniid_ratio_other = float(0.45/9)\n",
    "    targets = np.array(labels)\n",
    "    targetsid = set(range(allnum))\n",
    "    testdict = {i: [] for i in range(num_users)}\n",
    "    classesdict = {i: [] for i in range(num_class)}\n",
    "    for y in range(num_class):  \n",
    "        idx = np.where(targets == y)[0]\n",
    "        classesdict[i].extend(idx)\n",
    "        for i in range(num_users):\n",
    "            if (i%10) == y:\n",
    "                temp = np.random.choice(idx, int(num_imgs_per_client*noniid_ratio), replace=False)\n",
    "            else:\n",
    "                temp = np.random.choice(idx, int(num_imgs_per_client*noniid_ratio_other), replace=False)\n",
    "            \n",
    "            # print(f\"class {y} client {i} train: {len(tidx)} fin: {len(fidx)}\")\n",
    "            # finedict[i] = np.concatenate((finedict[i], fidx), axis=0)\n",
    "            # traindict[i] = np.concatenate((traindict[i], tidx), axis=0)\n",
    "            testdict[i].extend(temp)\n",
    "            idx = np.setdiff1d(idx, temp)\n",
    "            \n",
    "    for i in range(num_users):\n",
    "        testdict[i] = np.array(testdict[i], dtype=object).flatten()\n",
    "\n",
    "    return testdict, classesdict"
   ]
  },
  {
   "cell_type": "code",
   "execution_count": 35,
   "metadata": {
    "execution": {
     "iopub.execute_input": "2024-06-17T14:43:59.863627Z",
     "iopub.status.busy": "2024-06-17T14:43:59.863479Z",
     "iopub.status.idle": "2024-06-17T14:43:59.866447Z",
     "shell.execute_reply": "2024-06-17T14:43:59.866261Z",
     "shell.execute_reply.started": "2024-06-17T14:43:59.863620Z"
    },
    "tags": []
   },
   "outputs": [],
   "source": [
    "def noniid_testdata_label(labels, num_users, noniid_ratio = 0.2, num_class = 10):\n",
    "    num_class_per_client = int(noniid_ratio * num_class)\n",
    "    \n",
    "    num_shards, num_imgs = num_class_per_client * num_users, int(len(labels)/num_users/num_class_per_client)\n",
    "\n",
    "    idx_shard = np.array([i for i in range(num_shards)])\n",
    "    idx_shard = idx_shard % num_class\n",
    "    dict_users_labeled = {i: [] for i in range(num_users)}\n",
    "    dict_classes_labeled = {i: [] for i in range(num_class)}\n",
    "    labels_np = np.array(labels)\n",
    "    for i in range(num_users):\n",
    "        rand_set = idx_shard[i*num_class_per_client:(i+1)*num_class_per_client]\n",
    "        for rand in rand_set:\n",
    "            idx = np.where(labels_np == rand)[0]\n",
    "            idx = np.random.choice(idx, num_imgs, replace=False)\n",
    "            dict_users_labeled[i].extend(idx)\n",
    "        dict_users_labeled[i] = set(np.array(dict_users_labeled[i]))\n",
    "    \n",
    "    for i in range(num_class):                                           \n",
    "        idx = np.where(labels_np == i)[0]\n",
    "        dict_classes_labeled[i].extend(idx)\n",
    "        dict_classes_labeled[i] = set(np.array(dict_classes_labeled[i]))\n",
    "\n",
    "    return dict_users_labeled, dict_classes_labeled"
   ]
  },
  {
   "cell_type": "code",
   "execution_count": 36,
   "metadata": {
    "execution": {
     "iopub.execute_input": "2024-06-17T14:43:59.866860Z",
     "iopub.status.busy": "2024-06-17T14:43:59.866713Z",
     "iopub.status.idle": "2024-06-17T14:43:59.870865Z",
     "shell.execute_reply": "2024-06-17T14:43:59.870679Z",
     "shell.execute_reply.started": "2024-06-17T14:43:59.866852Z"
    },
    "id": "54szmDzEAXrS",
    "tags": []
   },
   "outputs": [],
   "source": [
    "def inference(loader, model, device):\n",
    "    feature_vector = []\n",
    "    labels_vector = []\n",
    "    for step, (x, y) in enumerate(loader):\n",
    "        x = x.to(device)\n",
    "\n",
    "        # get encoding\n",
    "        with torch.no_grad():\n",
    "            h = model(x)\n",
    "\n",
    "        h = h.squeeze()\n",
    "        h = h.detach()\n",
    "\n",
    "        feature_vector.extend(h.cpu().detach().numpy())\n",
    "        labels_vector.extend(y.numpy())\n",
    "\n",
    "        if step % 5 == 0:\n",
    "            print(f\"Step [{step}/{len(loader)}]\\t Computing features...\")\n",
    "\n",
    "    feature_vector = np.array(feature_vector)\n",
    "    labels_vector = np.array(labels_vector)\n",
    "    print(\"Features shape {}\".format(feature_vector.shape))\n",
    "    return feature_vector, labels_vector\n",
    "\n",
    "def get_features(model, train_loader, test_loader, device):\n",
    "    train_X, train_y = inference(train_loader, model, device)\n",
    "    test_X, test_y = inference(test_loader, model, device)\n",
    "    return train_X, train_y, test_X, test_y\n",
    "\n",
    "\n",
    "def create_data_loaders_from_arrays(X_train, y_train, X_test, y_test, test_y_dict, classes_dict, batch_size):\n",
    "    train = torch.utils.data.TensorDataset(\n",
    "        torch.from_numpy(X_train), torch.from_numpy(y_train)\n",
    "    )\n",
    "    # Fine tuning by all CIFAR10 training data\n",
    "    train_loader = torch.utils.data.DataLoader(\n",
    "        train, batch_size=batch_size, shuffle=False\n",
    "    )\n",
    "    \n",
    "    test = torch.utils.data.TensorDataset(\n",
    "        torch.from_numpy(X_test), torch.from_numpy(y_test)\n",
    "    )\n",
    "    testing_loader_list = []\n",
    "    training_loader_list = []\n",
    "    testing_classloader_list = []\n",
    "    # Fine tuning by split CIFAR10 training data\n",
    "    # for i in range(len(train_dict)):\n",
    "    #     training_subset = DatasetSplit(train, train_dict[i])\n",
    "    #     train_loader = torch.utils.data.DataLoader(\n",
    "    #         training_subset, batch_size=batch_size, shuffle=False\n",
    "    #     )\n",
    "    #     training_loader_list.append(train_loader)\n",
    "    for i in range(len(test_y_dict)):\n",
    "        testing_subset = DatasetSplit(test, test_y_dict[i])\n",
    "        test_loader = torch.utils.data.DataLoader(\n",
    "            testing_subset, batch_size=batch_size, shuffle=False\n",
    "        )\n",
    "        testing_loader_list.append(test_loader)\n",
    "    for i in range(len(classes_dict)):\n",
    "        testing_subset = DatasetSplit(test, classes_dict[i])\n",
    "        test_loader = torch.utils.data.DataLoader(\n",
    "            testing_subset, batch_size=batch_size, shuffle=False\n",
    "        )\n",
    "        testing_classloader_list.append(test_loader)\n",
    "        \n",
    "    return train_loader, testing_loader_list, testing_classloader_list"
   ]
  },
  {
   "cell_type": "code",
   "execution_count": 37,
   "metadata": {
    "execution": {
     "iopub.execute_input": "2024-06-17T14:43:59.871189Z",
     "iopub.status.busy": "2024-06-17T14:43:59.871117Z",
     "iopub.status.idle": "2024-06-17T14:43:59.936155Z",
     "shell.execute_reply": "2024-06-17T14:43:59.935888Z",
     "shell.execute_reply.started": "2024-06-17T14:43:59.871182Z"
    },
    "id": "eGo1vx4oAZBq",
    "tags": []
   },
   "outputs": [
    {
     "ename": "NameError",
     "evalue": "name 'TransformsSimCLR' is not defined",
     "output_type": "error",
     "traceback": [
      "\u001b[0;31m---------------------------------------------------------------------------\u001b[0m",
      "\u001b[0;31mNameError\u001b[0m                                 Traceback (most recent call last)",
      "\u001b[0;32m/tmp/ipykernel_165687/600472095.py\u001b[0m in \u001b[0;36m<module>\u001b[0;34m\u001b[0m\n\u001b[1;32m      2\u001b[0m         \u001b[0;34m\"./data\"\u001b[0m\u001b[0;34m,\u001b[0m\u001b[0;34m\u001b[0m\u001b[0;34m\u001b[0m\u001b[0m\n\u001b[1;32m      3\u001b[0m         \u001b[0mdownload\u001b[0m\u001b[0;34m=\u001b[0m\u001b[0;32mTrue\u001b[0m\u001b[0;34m,\u001b[0m\u001b[0;34m\u001b[0m\u001b[0;34m\u001b[0m\u001b[0m\n\u001b[0;32m----> 4\u001b[0;31m         \u001b[0mtransform\u001b[0m\u001b[0;34m=\u001b[0m\u001b[0mTransformsSimCLR\u001b[0m\u001b[0;34m(\u001b[0m\u001b[0msize\u001b[0m\u001b[0;34m=\u001b[0m\u001b[0;36m32\u001b[0m\u001b[0;34m)\u001b[0m\u001b[0;34m.\u001b[0m\u001b[0mtest_transform\u001b[0m\u001b[0;34m,\u001b[0m\u001b[0;34m\u001b[0m\u001b[0;34m\u001b[0m\u001b[0m\n\u001b[0m\u001b[1;32m      5\u001b[0m     )\n\u001b[1;32m      6\u001b[0m \u001b[0;34m\u001b[0m\u001b[0m\n",
      "\u001b[0;31mNameError\u001b[0m: name 'TransformsSimCLR' is not defined"
     ]
    }
   ],
   "source": [
    "train_dataset = datasets.CIFAR10(\n",
    "        \"./data\",\n",
    "        download=True,\n",
    "        transform=TransformsSimCLR(size=32).test_transform,\n",
    "    )\n",
    "\n",
    "test_dataset = datasets.CIFAR10(\n",
    "    \"./data\",\n",
    "    train=False,\n",
    "    download=True,\n",
    "    transform=TransformsSimCLR(size=32).test_transform,\n",
    ")\n",
    "indices = torch.randperm(len(train_dataset))[:int(len(train_dataset)* data_portion)]\n",
    "train_dataset = torch.utils.data.Subset(train_dataset, indices)\n",
    "\n",
    "indices = torch.randperm(len(test_dataset))[:int(len(test_dataset)* data_portion)]\n",
    "test_dataset = torch.utils.data.Subset(test_dataset, indices)"
   ]
  },
  {
   "cell_type": "code",
   "execution_count": null,
   "metadata": {
    "execution": {
     "iopub.status.busy": "2024-06-17T14:43:59.936368Z",
     "iopub.status.idle": "2024-06-17T14:43:59.936460Z",
     "shell.execute_reply": "2024-06-17T14:43:59.936418Z",
     "shell.execute_reply.started": "2024-06-17T14:43:59.936414Z"
    },
    "id": "3ibbS94hAch0",
    "tags": []
   },
   "outputs": [],
   "source": [
    "train_loader = torch.utils.data.DataLoader(\n",
    "        train_dataset,\n",
    "        batch_size=128,\n",
    "        drop_last=True,\n",
    "        num_workers=4,\n",
    "    )\n",
    "    \n",
    "test_loader = torch.utils.data.DataLoader(\n",
    "    test_dataset,\n",
    "    batch_size=128,\n",
    "    drop_last=False,\n",
    "    num_workers=4,\n",
    ")"
   ]
  },
  {
   "cell_type": "code",
   "execution_count": null,
   "metadata": {
    "execution": {
     "iopub.status.busy": "2024-06-17T14:43:59.936751Z",
     "iopub.status.idle": "2024-06-17T14:43:59.936842Z",
     "shell.execute_reply": "2024-06-17T14:43:59.936802Z",
     "shell.execute_reply.started": "2024-06-17T14:43:59.936798Z"
    },
    "id": "tUMnBtPAAf6S",
    "tags": []
   },
   "outputs": [],
   "source": [
    "noniid_ratio = 0.55\n",
    "batch_size = 20\n",
    "resnet = ResNet18(num_classes=10)\n",
    "resnet.fc = MLP(resnet.feature_dim, 2048, 4096)\n",
    "# resnet.load_state_dict(torch.load(f\"./model/SplitFSSL_resnet18/resnet18_cifar10_noniid_{batch_size}_{noniid_ratio}_0904_final.pt\", map_location=device))\n",
    "# resnet.load_state_dict(torch.load(save_path + \"_final.pt\", map_location=device))\n",
    "resnet.load_state_dict(torch.load(save_path + f\"_200_epoch.pt\", map_location=device))\n",
    "resnet = resnet.to(device)"
   ]
  },
  {
   "cell_type": "code",
   "execution_count": null,
   "metadata": {
    "execution": {
     "iopub.status.busy": "2024-06-17T14:43:59.937073Z",
     "iopub.status.idle": "2024-06-17T14:43:59.937160Z",
     "shell.execute_reply": "2024-06-17T14:43:59.937121Z",
     "shell.execute_reply.started": "2024-06-17T14:43:59.937116Z"
    },
    "id": "na9oWl4sAmei",
    "tags": []
   },
   "outputs": [],
   "source": [
    "num_features = list(resnet.children())[-1].in_features\n",
    "num_features"
   ]
  },
  {
   "cell_type": "code",
   "execution_count": null,
   "metadata": {
    "execution": {
     "iopub.status.busy": "2024-06-17T14:43:59.937431Z",
     "iopub.status.idle": "2024-06-17T14:43:59.937513Z",
     "shell.execute_reply": "2024-06-17T14:43:59.937475Z",
     "shell.execute_reply.started": "2024-06-17T14:43:59.937472Z"
    },
    "id": "sWOiFSGEAoSG",
    "tags": []
   },
   "outputs": [],
   "source": [
    "# throw away fc layer\n",
    "resnet = nn.Sequential(*list(resnet.children())[:-1])\n",
    "n_classes = 10 # CIFAR-10 has 10 classes\n",
    "\n",
    "# fine-tune model\n",
    "logreg = nn.Sequential(nn.Linear(num_features, n_classes))\n",
    "logreg = logreg.to(device)"
   ]
  },
  {
   "cell_type": "code",
   "execution_count": null,
   "metadata": {
    "execution": {
     "iopub.status.busy": "2024-06-17T14:43:59.937781Z",
     "iopub.status.idle": "2024-06-17T14:43:59.937863Z",
     "shell.execute_reply": "2024-06-17T14:43:59.937824Z",
     "shell.execute_reply.started": "2024-06-17T14:43:59.937820Z"
    },
    "id": "rhLmcYVdApqU",
    "tags": []
   },
   "outputs": [],
   "source": [
    "epochs = 200\n",
    "# loss / optimizer\n",
    "criterion = nn.CrossEntropyLoss()\n",
    "optimizer = torch.optim.Adam(params=logreg.parameters(), lr=0.001)\n",
    "# scheduler = torch.optim.lr_scheduler.CosineAnnealingLR(optimizer, 200)"
   ]
  },
  {
   "cell_type": "code",
   "execution_count": null,
   "metadata": {
    "execution": {
     "iopub.status.busy": "2024-06-17T14:43:59.938136Z",
     "iopub.status.idle": "2024-06-17T14:43:59.938219Z",
     "shell.execute_reply": "2024-06-17T14:43:59.938181Z",
     "shell.execute_reply.started": "2024-06-17T14:43:59.938177Z"
    },
    "id": "NTRLN7xMAuuG",
    "tags": []
   },
   "outputs": [],
   "source": [
    "print(\"Creating features from pre-trained model\")\n",
    "(train_X, train_y, test_X, test_y) = get_features(\n",
    "    resnet, train_dataset, test_loader, device\n",
    ")"
   ]
  },
  {
   "cell_type": "code",
   "execution_count": null,
   "metadata": {
    "execution": {
     "iopub.status.busy": "2024-06-17T14:43:59.938444Z",
     "iopub.status.idle": "2024-06-17T14:43:59.938533Z",
     "shell.execute_reply": "2024-06-17T14:43:59.938488Z",
     "shell.execute_reply.started": "2024-06-17T14:43:59.938485Z"
    },
    "tags": []
   },
   "outputs": [],
   "source": [
    "test_y_dict, classes_dict = noniid_testdata_label(test_y, client_num, noniid_ratio, num_class=10)\n",
    "train_loader, test_loader, class_loader = create_data_loaders_from_arrays(\n",
    "    train_X, train_y, test_X, test_y, test_y_dict, classes_dict, 2048\n",
    ")"
   ]
  },
  {
   "cell_type": "code",
   "execution_count": null,
   "metadata": {
    "execution": {
     "iopub.status.busy": "2024-06-17T14:43:59.938785Z",
     "iopub.status.idle": "2024-06-17T14:43:59.938867Z",
     "shell.execute_reply": "2024-06-17T14:43:59.938829Z",
     "shell.execute_reply.started": "2024-06-17T14:43:59.938825Z"
    },
    "id": "emGRcsnbDZxe",
    "tags": []
   },
   "outputs": [],
   "source": [
    "# Train fine-tuned model\n",
    "logreg.train()\n",
    "\n",
    "p_bar = tqdm(range(epochs))\n",
    "for epoch in range(epochs):\n",
    "    # metrics = defaultdict(list)\n",
    "    acctol = []\n",
    "    losses = []\n",
    "    for step, (h, y) in enumerate(train_loader):\n",
    "        h = h.to(device)\n",
    "        y = y.to(device)\n",
    "\n",
    "        outputs = logreg(h)\n",
    "\n",
    "        loss = criterion(outputs, y)\n",
    "        optimizer.zero_grad()\n",
    "        loss.backward()\n",
    "        optimizer.step()\n",
    "\n",
    "        # calculate accuracy and save metrics\n",
    "        accuracy = (outputs.argmax(1) == y).sum().item() / y.size(0) * 100\n",
    "        acctol.append(accuracy)\n",
    "        losses.append(loss.item())\n",
    "        # metrics[\"Loss/train\"].append(loss.item())\n",
    "        # metrics[\"Accuracy/train\"].append(accuracy)\n",
    "    acctol = np.array(acctol)\n",
    "    losses = np.array(losses)\n",
    "    p_bar.set_description(\"Train Epoch: {epoch}/{epochs:4}.Loss: {loss:.4f}.Accuracy: {acc:.4f}.\".format(\n",
    "            epoch=epoch,\n",
    "            epochs=epochs,\n",
    "            loss=losses.mean(),\n",
    "            acc=acctol.mean()))\n",
    "    p_bar.update()\n",
    "    # print(f\"Epoch [{epoch}/{epochs}]: \" + \"\\t\".join([f\"{k}: {np.array(v).mean()}\" for k, v in metrics.items()]))\n",
    "p_bar.close()\n"
   ]
  },
  {
   "cell_type": "code",
   "execution_count": null,
   "metadata": {
    "execution": {
     "iopub.status.busy": "2024-06-17T14:43:59.939129Z",
     "iopub.status.idle": "2024-06-17T14:43:59.939210Z",
     "shell.execute_reply": "2024-06-17T14:43:59.939173Z",
     "shell.execute_reply.started": "2024-06-17T14:43:59.939169Z"
    },
    "id": "FfZjgJkeDtrt",
    "tags": []
   },
   "outputs": [],
   "source": [
    " # Test fine-tuned model\n",
    "logreg.eval()\n",
    "acctol = []\n",
    "for idx in range(len(test_loader)):\n",
    "    print(\"### Calculating final testing performance ###\")\n",
    "    metrics = defaultdict(list)\n",
    "    # for idx in range(len(test_loader)):\n",
    "    acc = []\n",
    "    for step, (h, y) in enumerate(test_loader[idx]):\n",
    "        h = h.to(device)\n",
    "        y = y.to(device)\n",
    "\n",
    "        outputs = logreg(h)\n",
    "\n",
    "        # calculate accuracy and save metrics\n",
    "        accuracy = (outputs.argmax(1) == y).sum().item() / y.size(0) * 100\n",
    "        acc.append(accuracy)\n",
    "        metrics[\"Accuracy/test\"].append(accuracy)\n",
    "    acc = np.array(acc)\n",
    "    acctol.append(acc.mean())\n",
    "    print(f\"Client {idx} : Accuracy {acc.mean()}\")\n",
    "    \n",
    "acctol = np.array(acctol)\n",
    "print(f\"Final test performance(noniid_ratio : {noniid_ratio}): Accuracy  : {acctol.mean()}\")\n",
    "print(f\"Final test performance(noniid_ratio : {noniid_ratio}): \" + \"\\t\".join([f\"Fairness: {acctol.std()}\" for k, v in metrics.items()]))\n",
    "\n",
    "    \n",
    "    \n"
   ]
  },
  {
   "cell_type": "code",
   "execution_count": null,
   "metadata": {
    "execution": {
     "iopub.status.busy": "2024-06-17T14:43:59.939416Z",
     "iopub.status.idle": "2024-06-17T14:43:59.939498Z",
     "shell.execute_reply": "2024-06-17T14:43:59.939461Z",
     "shell.execute_reply.started": "2024-06-17T14:43:59.939457Z"
    },
    "tags": []
   },
   "outputs": [],
   "source": [
    "logreg.eval()\n",
    "label = []\n",
    "predict = []\n",
    "print(\"### Calculating classes testing performance ###\")\n",
    "metrics = defaultdict(list)\n",
    "acctol = []\n",
    "for idx in range(len(class_loader)):\n",
    "    acc = []\n",
    "    for step, (h, y) in enumerate(class_loader[idx]):\n",
    "        h = h.to(device)\n",
    "        y = y.to(device)\n",
    "        \n",
    "\n",
    "        outputs = logreg(h)\n",
    "        \n",
    "        predict.append(outputs.argmax(1))\n",
    "        label.append(y)\n",
    "\n",
    "        # calculate accuracy and save metrics\n",
    "        accuracy = (outputs.argmax(1) == y).sum().item() / y.size(0) * 100\n",
    "        acc.append(accuracy)\n",
    "        metrics[\"Accuracy/test\"].append(accuracy)\n",
    "    acc = np.array(acc)\n",
    "    acctol.append(acc.mean())\n",
    "    print(f\"Class {idx} : Accuracy {acc.mean()}\")\n",
    "acctol = np.array(acctol)\n",
    "print(f\"Final test performance: \" + \"\\t\".join([f\"{k}: {acctol.mean()}\" for k, v in metrics.items()]))\n",
    "print(f\"Final test performance: \" + \"\\t\".join([f\"Fairness: {acctol.std()}\" for k, v in metrics.items()]))\n"
   ]
  },
  {
   "cell_type": "code",
   "execution_count": null,
   "metadata": {
    "tags": []
   },
   "outputs": [],
   "source": []
  },
  {
   "cell_type": "code",
   "execution_count": null,
   "metadata": {
    "execution": {
     "iopub.status.busy": "2024-06-17T14:43:59.939753Z",
     "iopub.status.idle": "2024-06-17T14:43:59.939832Z",
     "shell.execute_reply": "2024-06-17T14:43:59.939794Z",
     "shell.execute_reply.started": "2024-06-17T14:43:59.939790Z"
    },
    "tags": []
   },
   "outputs": [],
   "source": [
    "test_dataset = datasets.CIFAR10(\n",
    "    \"./data\",\n",
    "    train=False,\n",
    "    download=True,\n",
    "    transform=TransformsSimCLR(size=64).test_transform,\n",
    ")"
   ]
  },
  {
   "cell_type": "code",
   "execution_count": null,
   "metadata": {
    "execution": {
     "iopub.status.busy": "2024-06-17T14:43:59.940134Z",
     "iopub.status.idle": "2024-06-17T14:43:59.940217Z",
     "shell.execute_reply": "2024-06-17T14:43:59.940179Z",
     "shell.execute_reply.started": "2024-06-17T14:43:59.940175Z"
    },
    "tags": []
   },
   "outputs": [],
   "source": [
    "import torchvision.transforms as transforms\n",
    "from PIL import Image\n",
    "import matplotlib.pyplot as plt\n",
    "\n",
    "fig, axes = plt.subplots(1, 10, figsize=(10, 4))\n",
    "label_id = np.array(test_dataset.targets)\n",
    "idx = np.where(label_id == i)[0]\n",
    "for i in range(10):\n",
    "    idx = np.where(label_id == i)[0]\n",
    "    tensor_data = test_dataset[idx[3]][0]\n",
    "    tensor_to_pil = transforms.ToPILImage()\n",
    "    pil_image = tensor_to_pil(tensor_data)\n",
    "    axes[i].imshow(pil_image, cmap='gray')\n",
    "    axes[i].set_title(test_dataset[idx[0]][1])    \n",
    "\n",
    "\n",
    "# 調整子圖之間的間距\n",
    "plt.tight_layout()\n",
    "\n",
    "# 顯示圖形\n",
    "plt.show()"
   ]
  },
  {
   "cell_type": "code",
   "execution_count": null,
   "metadata": {
    "execution": {
     "iopub.status.busy": "2024-06-17T14:43:59.940594Z",
     "iopub.status.idle": "2024-06-17T14:43:59.940781Z",
     "shell.execute_reply": "2024-06-17T14:43:59.940696Z",
     "shell.execute_reply.started": "2024-06-17T14:43:59.940687Z"
    }
   },
   "outputs": [],
   "source": [
    "import seaborn "
   ]
  }
 ],
 "metadata": {
  "accelerator": "GPU",
  "colab": {
   "machine_shape": "hm",
   "provenance": []
  },
  "kernelspec": {
   "display_name": "Python [conda env:.conda-splitfedssl]",
   "language": "python",
   "name": "conda-env-.conda-splitfedssl-py"
  },
  "language_info": {
   "codemirror_mode": {
    "name": "ipython",
    "version": 3
   },
   "file_extension": ".py",
   "mimetype": "text/x-python",
   "name": "python",
   "nbconvert_exporter": "python",
   "pygments_lexer": "ipython3",
   "version": "3.7.16"
  }
 },
 "nbformat": 4,
 "nbformat_minor": 4
}
