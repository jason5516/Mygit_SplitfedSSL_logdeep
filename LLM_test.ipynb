{
 "cells": [
  {
   "cell_type": "markdown",
   "id": "d6e1d4f2-b18a-4a7a-8265-0558201ccef6",
   "metadata": {
    "execution": {
     "iopub.execute_input": "2024-06-28T07:03:28.562254Z",
     "iopub.status.busy": "2024-06-28T07:03:28.562106Z",
     "iopub.status.idle": "2024-06-28T07:03:29.818386Z",
     "shell.execute_reply": "2024-06-28T07:03:29.818069Z",
     "shell.execute_reply.started": "2024-06-28T07:03:28.562244Z"
    }
   },
   "source": [
    "## Test Code"
   ]
  },
  {
   "cell_type": "code",
   "execution_count": 1,
   "id": "24ac2549-0cd4-4cfa-b7bc-a34158058710",
   "metadata": {
    "execution": {
     "iopub.execute_input": "2024-07-01T16:33:43.516143Z",
     "iopub.status.busy": "2024-07-01T16:33:43.516064Z",
     "iopub.status.idle": "2024-07-01T16:33:44.686078Z",
     "shell.execute_reply": "2024-07-01T16:33:44.685724Z",
     "shell.execute_reply.started": "2024-07-01T16:33:43.516134Z"
    }
   },
   "outputs": [
    {
     "name": "stderr",
     "output_type": "stream",
     "text": [
      "/home/haken/.conda/envs/fedllm/lib/python3.9/site-packages/tqdm/auto.py:21: TqdmWarning: IProgress not found. Please update jupyter and ipywidgets. See https://ipywidgets.readthedocs.io/en/stable/user_install.html\n",
      "  from .autonotebook import tqdm as notebook_tqdm\n"
     ]
    }
   ],
   "source": [
    "import torch\n",
    "import copy\n",
    "import numpy as np\n",
    "# import evaluate\n",
    "\n",
    "from datasets import load_dataset, load_metric\n",
    "from transformers import AutoTokenizer, GPT2ForSequenceClassification, Trainer, TrainingArguments\n",
    "from transformers import DataCollatorWithPadding\n",
    "from peft import LoraConfig, get_peft_model"
   ]
  },
  {
   "cell_type": "code",
   "execution_count": 2,
   "id": "f01af4d8-5f7f-4008-8134-0e54b4f5817e",
   "metadata": {
    "execution": {
     "iopub.execute_input": "2024-07-01T16:33:44.686984Z",
     "iopub.status.busy": "2024-07-01T16:33:44.686803Z",
     "iopub.status.idle": "2024-07-01T16:33:51.943370Z",
     "shell.execute_reply": "2024-07-01T16:33:51.943011Z",
     "shell.execute_reply.started": "2024-07-01T16:33:44.686974Z"
    }
   },
   "outputs": [],
   "source": [
    "# 加載 IMDB 資料集\n",
    "# dataset = load_dataset(\"imdb\")\n",
    "dataset = load_dataset(\"glue\", \"mrpc\")\n",
    "\n",
    "# 初始化 GPT-2 的 tokenizer 並設置 padding token\n",
    "tokenizer = AutoTokenizer.from_pretrained(\"gpt2\", use_fast=True)\n",
    "tokenizer.pad_token = tokenizer.eos_token\n",
    "data_collator = DataCollatorWithPadding(tokenizer=tokenizer)\n",
    "\n",
    "# 定義 tokenization 函數\n",
    "def tokenize_function(examples):\n",
    "    # return tokenizer(examples[\"text\"], padding=\"max_length\", truncation=True, max_length=512)\n",
    "    # return tokenizer(examples[\"sentence1\"], examples[\"sentence2\"], padding=\"max_length\", truncation=True, max_length=128)\n",
    "    return tokenizer(examples[\"sentence1\"], examples[\"sentence2\"], truncation=True, max_length=128)\n",
    "\n",
    "# 對資料集進行 tokenization\n",
    "tokenized_datasets = dataset.map(tokenize_function, batched=True)\n",
    "\n",
    "# 移除無用的列，只保留 input_ids 和 labels\n",
    "# tokenized_datasets = tokenized_datasets.remove_columns([\"text\"])\n",
    "tokenized_datasets = tokenized_datasets.remove_columns([\"sentence1\", \"sentence2\", \"idx\"])\n",
    "tokenized_datasets = tokenized_datasets.rename_column(\"label\", \"labels\")\n",
    "tokenized_datasets.set_format(\"torch\")"
   ]
  },
  {
   "cell_type": "code",
   "execution_count": 3,
   "id": "153b7af1-c5a3-4261-8919-0296762070d6",
   "metadata": {
    "execution": {
     "iopub.execute_input": "2024-07-01T16:33:51.943828Z",
     "iopub.status.busy": "2024-07-01T16:33:51.943742Z",
     "iopub.status.idle": "2024-07-01T16:33:51.956354Z",
     "shell.execute_reply": "2024-07-01T16:33:51.956167Z",
     "shell.execute_reply.started": "2024-07-01T16:33:51.943819Z"
    }
   },
   "outputs": [],
   "source": [
    "client_num = 5\n",
    "client_datasets = [{} for i in range(client_num)]\n",
    "for data in tokenized_datasets:\n",
    "    # 获取训练集\n",
    "    data_dataset = tokenized_datasets[data]\n",
    "    \n",
    "    # 假设我们要将训练集拆分为两个子集\n",
    "    split_ratio = 0.2\n",
    "    split_index = int(len(data_dataset) * split_ratio)\n",
    "    \n",
    "    # 创建两个训练数据集\n",
    "    for i in range(client_num):\n",
    "        client_datasets[i][data] = data_dataset.select(range(i*split_index,(i+1)*split_index))"
   ]
  },
  {
   "cell_type": "code",
   "execution_count": 4,
   "id": "52e40816-e99b-4507-b762-0bda0211dc90",
   "metadata": {
    "execution": {
     "iopub.execute_input": "2024-07-01T16:33:51.956715Z",
     "iopub.status.busy": "2024-07-01T16:33:51.956632Z",
     "iopub.status.idle": "2024-07-01T16:33:52.620631Z",
     "shell.execute_reply": "2024-07-01T16:33:52.620297Z",
     "shell.execute_reply.started": "2024-07-01T16:33:51.956707Z"
    }
   },
   "outputs": [
    {
     "name": "stderr",
     "output_type": "stream",
     "text": [
      "/home/haken/.conda/envs/fedllm/lib/python3.9/site-packages/transformers/training_args.py:1494: FutureWarning: `evaluation_strategy` is deprecated and will be removed in version 4.46 of 🤗 Transformers. Use `eval_strategy` instead\n",
      "  warnings.warn(\n",
      "Some weights of GPT2ForSequenceClassification were not initialized from the model checkpoint at gpt2 and are newly initialized: ['score.weight']\n",
      "You should probably TRAIN this model on a down-stream task to be able to use it for predictions and inference.\n",
      "/home/haken/.conda/envs/fedllm/lib/python3.9/site-packages/peft/tuners/lora/layer.py:1119: UserWarning: fan_in_fan_out is set to False but the target module is `Conv1D`. Setting fan_in_fan_out to True.\n",
      "  warnings.warn(\n"
     ]
    }
   ],
   "source": [
    "# 設置 LoRA 配置\n",
    "lora_config = LoraConfig(\n",
    "    r=8,  # Rank\n",
    "    lora_alpha=32,\n",
    "    lora_dropout=0.1,\n",
    "    bias=\"none\",\n",
    ")\n",
    "\n",
    "# 訓練參數設置\n",
    "training_args = TrainingArguments(\n",
    "    output_dir=\"./llm_models/gpt2_LoRA/server\",\n",
    "    evaluation_strategy=\"epoch\",\n",
    "    learning_rate=2e-5,\n",
    "    per_device_train_batch_size=4,\n",
    "    per_device_eval_batch_size=4,\n",
    "    num_train_epochs=1,\n",
    "    weight_decay=0.01,\n",
    "    logging_dir=\"./logs\",\n",
    ")\n",
    "\n",
    "# 加載 GPT-2 模型並設置 padding token id\n",
    "model = GPT2ForSequenceClassification.from_pretrained(\"gpt2\", num_labels=2)\n",
    "model.config.pad_token_id = model.config.eos_token_id\n",
    "\n",
    "# 使用 LoRA 配置模型\n",
    "peftmodel = get_peft_model(model, lora_config)\n",
    "# client_models = [copy.deepcopy(peft_model) for idx in range(client_num)]"
   ]
  },
  {
   "cell_type": "code",
   "execution_count": 6,
   "id": "1209f2c0",
   "metadata": {},
   "outputs": [
    {
     "data": {
      "text/html": [],
      "text/plain": [
       "<IPython.core.display.HTML object>"
      ]
     },
     "metadata": {},
     "output_type": "display_data"
    },
    {
     "name": "stdout",
     "output_type": "stream",
     "text": [
      "{'accuracy': 0.3356521739130435}\n"
     ]
    }
   ],
   "source": [
    "trainer = Trainer(\n",
    "    model=model,\n",
    "    args=training_args,\n",
    "    train_dataset=tokenized_datasets[\"train\"],\n",
    "    eval_dataset=tokenized_datasets[\"test\"],\n",
    "    data_collator=data_collator,\n",
    ")\n",
    "\n",
    "# accuracy_metric = evaluate.load(\"accuracy\")\n",
    "accuracy_metric = load_metric(\"accuracy\")\n",
    "predictions = trainer.predict(tokenized_datasets[\"test\"])\n",
    "pred = np.argmax(predictions.predictions, axis=-1)\n",
    "accuracy = accuracy_metric.compute(predictions=pred, references=predictions.label_ids)\n",
    "print(accuracy)"
   ]
  },
  {
   "cell_type": "code",
   "execution_count": 7,
   "id": "682b451a",
   "metadata": {},
   "outputs": [
    {
     "data": {
      "text/html": [
       "\n",
       "    <div>\n",
       "      \n",
       "      <progress value='917' max='917' style='width:300px; height:20px; vertical-align: middle;'></progress>\n",
       "      [917/917 00:19, Epoch 1/1]\n",
       "    </div>\n",
       "    <table border=\"1\" class=\"dataframe\">\n",
       "  <thead>\n",
       " <tr style=\"text-align: left;\">\n",
       "      <th>Epoch</th>\n",
       "      <th>Training Loss</th>\n",
       "      <th>Validation Loss</th>\n",
       "    </tr>\n",
       "  </thead>\n",
       "  <tbody>\n",
       "    <tr>\n",
       "      <td>1</td>\n",
       "      <td>0.897600</td>\n",
       "      <td>No log</td>\n",
       "    </tr>\n",
       "  </tbody>\n",
       "</table><p>"
      ],
      "text/plain": [
       "<IPython.core.display.HTML object>"
      ]
     },
     "metadata": {},
     "output_type": "display_data"
    },
    {
     "data": {
      "text/plain": [
       "TrainOutput(global_step=917, training_loss=0.8059116975041746, metrics={'train_runtime': 19.482, 'train_samples_per_second': 188.277, 'train_steps_per_second': 47.069, 'total_flos': 118990871986176.0, 'train_loss': 0.8059116975041746, 'epoch': 1.0})"
      ]
     },
     "execution_count": 7,
     "metadata": {},
     "output_type": "execute_result"
    }
   ],
   "source": [
    "trainer = Trainer(\n",
    "    model=peftmodel,\n",
    "    args=training_args,\n",
    "    train_dataset=tokenized_datasets[\"train\"],\n",
    "    eval_dataset=tokenized_datasets[\"test\"],\n",
    "    data_collator=data_collator,\n",
    ")\n",
    "trainer.train()"
   ]
  },
  {
   "cell_type": "code",
   "execution_count": 8,
   "id": "f406d4d9",
   "metadata": {},
   "outputs": [
    {
     "data": {
      "text/html": [
       "\n",
       "    <div>\n",
       "      \n",
       "      <progress value='6' max='432' style='width:300px; height:20px; vertical-align: middle;'></progress>\n",
       "      [  6/432 00:00 < 00:02, 146.25 it/s]\n",
       "    </div>\n",
       "    "
      ],
      "text/plain": [
       "<IPython.core.display.HTML object>"
      ]
     },
     "metadata": {},
     "output_type": "display_data"
    },
    {
     "name": "stdout",
     "output_type": "stream",
     "text": [
      "{'accuracy': 0.6782608695652174}\n"
     ]
    }
   ],
   "source": [
    "trainer = Trainer(\n",
    "    model=model,\n",
    "    args=training_args,\n",
    "    train_dataset=tokenized_datasets[\"train\"],\n",
    "    eval_dataset=tokenized_datasets[\"test\"],\n",
    "    data_collator=data_collator,\n",
    ")\n",
    "predictions = trainer.predict(tokenized_datasets[\"test\"])\n",
    "pred = np.argmax(predictions.predictions, axis=-1)\n",
    "accuracy = accuracy_metric.compute(predictions=pred, references=predictions.label_ids)\n",
    "print(accuracy)"
   ]
  },
  {
   "cell_type": "code",
   "execution_count": 18,
   "id": "05221b8e",
   "metadata": {},
   "outputs": [
    {
     "name": "stderr",
     "output_type": "stream",
     "text": [
      "Some weights of GPT2ForSequenceClassification were not initialized from the model checkpoint at gpt2 and are newly initialized: ['score.weight']\n",
      "You should probably TRAIN this model on a down-stream task to be able to use it for predictions and inference.\n"
     ]
    }
   ],
   "source": [
    "# load adapter model\n",
    "from peft import PeftConfig, PeftModel\n",
    "\n",
    "model = GPT2ForSequenceClassification.from_pretrained(\"gpt2\", num_labels=2)\n",
    "\n",
    "config = PeftConfig.from_pretrained(\"./llm_models\")\n",
    "model = PeftModel.from_pretrained(model, \"./llm_models\")"
   ]
  },
  {
   "cell_type": "code",
   "execution_count": 7,
   "id": "14649a17-6d62-4cb6-af87-2a20b7f3c0d6",
   "metadata": {
    "execution": {
     "iopub.execute_input": "2024-07-01T16:33:54.066063Z",
     "iopub.status.busy": "2024-07-01T16:33:54.065819Z",
     "iopub.status.idle": "2024-07-01T17:47:02.853703Z",
     "shell.execute_reply": "2024-07-01T17:47:02.853413Z",
     "shell.execute_reply.started": "2024-07-01T16:33:54.066046Z"
    }
   },
   "outputs": [
    {
     "name": "stdout",
     "output_type": "stream",
     "text": [
      "------------epoch 0------------\n",
      "-- client0 training--\n"
     ]
    },
    {
     "data": {
      "text/html": [
       "\n",
       "    <div>\n",
       "      \n",
       "      <progress value='1250' max='1250' style='width:300px; height:20px; vertical-align: middle;'></progress>\n",
       "      [1250/1250 05:40, Epoch 1/1]\n",
       "    </div>\n",
       "    <table border=\"1\" class=\"dataframe\">\n",
       "  <thead>\n",
       " <tr style=\"text-align: left;\">\n",
       "      <th>Epoch</th>\n",
       "      <th>Training Loss</th>\n",
       "      <th>Validation Loss</th>\n",
       "    </tr>\n",
       "  </thead>\n",
       "  <tbody>\n",
       "    <tr>\n",
       "      <td>1</td>\n",
       "      <td>0.004100</td>\n",
       "      <td>No log</td>\n",
       "    </tr>\n",
       "  </tbody>\n",
       "</table><p>"
      ],
      "text/plain": [
       "<IPython.core.display.HTML object>"
      ]
     },
     "metadata": {},
     "output_type": "display_data"
    },
    {
     "data": {
      "text/html": [
       "\n",
       "    <div>\n",
       "      \n",
       "      <progress value='1250' max='1250' style='width:300px; height:20px; vertical-align: middle;'></progress>\n",
       "      [1250/1250 01:38]\n",
       "    </div>\n",
       "    "
      ],
      "text/plain": [
       "<IPython.core.display.HTML object>"
      ]
     },
     "metadata": {},
     "output_type": "display_data"
    },
    {
     "name": "stdout",
     "output_type": "stream",
     "text": [
      "{'eval_runtime': 98.544, 'eval_samples_per_second': 50.739, 'eval_steps_per_second': 12.685, 'epoch': 1.0}\n",
      "-- client1 training--\n"
     ]
    },
    {
     "data": {
      "text/html": [
       "\n",
       "    <div>\n",
       "      \n",
       "      <progress value='1250' max='1250' style='width:300px; height:20px; vertical-align: middle;'></progress>\n",
       "      [1250/1250 05:40, Epoch 1/1]\n",
       "    </div>\n",
       "    <table border=\"1\" class=\"dataframe\">\n",
       "  <thead>\n",
       " <tr style=\"text-align: left;\">\n",
       "      <th>Epoch</th>\n",
       "      <th>Training Loss</th>\n",
       "      <th>Validation Loss</th>\n",
       "    </tr>\n",
       "  </thead>\n",
       "  <tbody>\n",
       "    <tr>\n",
       "      <td>1</td>\n",
       "      <td>0.021100</td>\n",
       "      <td>No log</td>\n",
       "    </tr>\n",
       "  </tbody>\n",
       "</table><p>"
      ],
      "text/plain": [
       "<IPython.core.display.HTML object>"
      ]
     },
     "metadata": {},
     "output_type": "display_data"
    },
    {
     "data": {
      "text/html": [
       "\n",
       "    <div>\n",
       "      \n",
       "      <progress value='1250' max='1250' style='width:300px; height:20px; vertical-align: middle;'></progress>\n",
       "      [1250/1250 01:38]\n",
       "    </div>\n",
       "    "
      ],
      "text/plain": [
       "<IPython.core.display.HTML object>"
      ]
     },
     "metadata": {},
     "output_type": "display_data"
    },
    {
     "name": "stdout",
     "output_type": "stream",
     "text": [
      "{'eval_runtime': 98.7369, 'eval_samples_per_second': 50.64, 'eval_steps_per_second': 12.66, 'epoch': 1.0}\n",
      "-- client2 training--\n"
     ]
    },
    {
     "data": {
      "text/html": [
       "\n",
       "    <div>\n",
       "      \n",
       "      <progress value='1250' max='1250' style='width:300px; height:20px; vertical-align: middle;'></progress>\n",
       "      [1250/1250 05:40, Epoch 1/1]\n",
       "    </div>\n",
       "    <table border=\"1\" class=\"dataframe\">\n",
       "  <thead>\n",
       " <tr style=\"text-align: left;\">\n",
       "      <th>Epoch</th>\n",
       "      <th>Training Loss</th>\n",
       "      <th>Validation Loss</th>\n",
       "    </tr>\n",
       "  </thead>\n",
       "  <tbody>\n",
       "    <tr>\n",
       "      <td>1</td>\n",
       "      <td>1.300500</td>\n",
       "      <td>No log</td>\n",
       "    </tr>\n",
       "  </tbody>\n",
       "</table><p>"
      ],
      "text/plain": [
       "<IPython.core.display.HTML object>"
      ]
     },
     "metadata": {},
     "output_type": "display_data"
    },
    {
     "data": {
      "text/html": [
       "\n",
       "    <div>\n",
       "      \n",
       "      <progress value='1250' max='1250' style='width:300px; height:20px; vertical-align: middle;'></progress>\n",
       "      [1250/1250 01:37]\n",
       "    </div>\n",
       "    "
      ],
      "text/plain": [
       "<IPython.core.display.HTML object>"
      ]
     },
     "metadata": {},
     "output_type": "display_data"
    },
    {
     "name": "stdout",
     "output_type": "stream",
     "text": [
      "{'eval_runtime': 98.0281, 'eval_samples_per_second': 51.006, 'eval_steps_per_second': 12.751, 'epoch': 1.0}\n",
      "-- client3 training--\n"
     ]
    },
    {
     "data": {
      "text/html": [
       "\n",
       "    <div>\n",
       "      \n",
       "      <progress value='1250' max='1250' style='width:300px; height:20px; vertical-align: middle;'></progress>\n",
       "      [1250/1250 05:40, Epoch 1/1]\n",
       "    </div>\n",
       "    <table border=\"1\" class=\"dataframe\">\n",
       "  <thead>\n",
       " <tr style=\"text-align: left;\">\n",
       "      <th>Epoch</th>\n",
       "      <th>Training Loss</th>\n",
       "      <th>Validation Loss</th>\n",
       "    </tr>\n",
       "  </thead>\n",
       "  <tbody>\n",
       "    <tr>\n",
       "      <td>1</td>\n",
       "      <td>0.256300</td>\n",
       "      <td>No log</td>\n",
       "    </tr>\n",
       "  </tbody>\n",
       "</table><p>"
      ],
      "text/plain": [
       "<IPython.core.display.HTML object>"
      ]
     },
     "metadata": {},
     "output_type": "display_data"
    },
    {
     "data": {
      "text/html": [
       "\n",
       "    <div>\n",
       "      \n",
       "      <progress value='1250' max='1250' style='width:300px; height:20px; vertical-align: middle;'></progress>\n",
       "      [1250/1250 01:38]\n",
       "    </div>\n",
       "    "
      ],
      "text/plain": [
       "<IPython.core.display.HTML object>"
      ]
     },
     "metadata": {},
     "output_type": "display_data"
    },
    {
     "name": "stdout",
     "output_type": "stream",
     "text": [
      "{'eval_runtime': 98.6184, 'eval_samples_per_second': 50.7, 'eval_steps_per_second': 12.675, 'epoch': 1.0}\n",
      "-- client4 training--\n"
     ]
    },
    {
     "data": {
      "text/html": [
       "\n",
       "    <div>\n",
       "      \n",
       "      <progress value='1250' max='1250' style='width:300px; height:20px; vertical-align: middle;'></progress>\n",
       "      [1250/1250 05:39, Epoch 1/1]\n",
       "    </div>\n",
       "    <table border=\"1\" class=\"dataframe\">\n",
       "  <thead>\n",
       " <tr style=\"text-align: left;\">\n",
       "      <th>Epoch</th>\n",
       "      <th>Training Loss</th>\n",
       "      <th>Validation Loss</th>\n",
       "    </tr>\n",
       "  </thead>\n",
       "  <tbody>\n",
       "    <tr>\n",
       "      <td>1</td>\n",
       "      <td>0.228600</td>\n",
       "      <td>No log</td>\n",
       "    </tr>\n",
       "  </tbody>\n",
       "</table><p>"
      ],
      "text/plain": [
       "<IPython.core.display.HTML object>"
      ]
     },
     "metadata": {},
     "output_type": "display_data"
    },
    {
     "data": {
      "text/html": [
       "\n",
       "    <div>\n",
       "      \n",
       "      <progress value='1250' max='1250' style='width:300px; height:20px; vertical-align: middle;'></progress>\n",
       "      [1250/1250 01:38]\n",
       "    </div>\n",
       "    "
      ],
      "text/plain": [
       "<IPython.core.display.HTML object>"
      ]
     },
     "metadata": {},
     "output_type": "display_data"
    },
    {
     "name": "stdout",
     "output_type": "stream",
     "text": [
      "{'eval_runtime': 98.2421, 'eval_samples_per_second': 50.895, 'eval_steps_per_second': 12.724, 'epoch': 1.0}\n",
      "------------epoch 1------------\n",
      "-- client0 training--\n"
     ]
    },
    {
     "data": {
      "text/html": [
       "\n",
       "    <div>\n",
       "      \n",
       "      <progress value='1250' max='1250' style='width:300px; height:20px; vertical-align: middle;'></progress>\n",
       "      [1250/1250 05:39, Epoch 1/1]\n",
       "    </div>\n",
       "    <table border=\"1\" class=\"dataframe\">\n",
       "  <thead>\n",
       " <tr style=\"text-align: left;\">\n",
       "      <th>Epoch</th>\n",
       "      <th>Training Loss</th>\n",
       "      <th>Validation Loss</th>\n",
       "    </tr>\n",
       "  </thead>\n",
       "  <tbody>\n",
       "    <tr>\n",
       "      <td>1</td>\n",
       "      <td>0.005300</td>\n",
       "      <td>No log</td>\n",
       "    </tr>\n",
       "  </tbody>\n",
       "</table><p>"
      ],
      "text/plain": [
       "<IPython.core.display.HTML object>"
      ]
     },
     "metadata": {},
     "output_type": "display_data"
    },
    {
     "data": {
      "text/html": [
       "\n",
       "    <div>\n",
       "      \n",
       "      <progress value='1250' max='1250' style='width:300px; height:20px; vertical-align: middle;'></progress>\n",
       "      [1250/1250 01:38]\n",
       "    </div>\n",
       "    "
      ],
      "text/plain": [
       "<IPython.core.display.HTML object>"
      ]
     },
     "metadata": {},
     "output_type": "display_data"
    },
    {
     "name": "stdout",
     "output_type": "stream",
     "text": [
      "{'eval_runtime': 98.2673, 'eval_samples_per_second': 50.882, 'eval_steps_per_second': 12.72, 'epoch': 1.0}\n",
      "-- client1 training--\n"
     ]
    },
    {
     "data": {
      "text/html": [
       "\n",
       "    <div>\n",
       "      \n",
       "      <progress value='1250' max='1250' style='width:300px; height:20px; vertical-align: middle;'></progress>\n",
       "      [1250/1250 05:39, Epoch 1/1]\n",
       "    </div>\n",
       "    <table border=\"1\" class=\"dataframe\">\n",
       "  <thead>\n",
       " <tr style=\"text-align: left;\">\n",
       "      <th>Epoch</th>\n",
       "      <th>Training Loss</th>\n",
       "      <th>Validation Loss</th>\n",
       "    </tr>\n",
       "  </thead>\n",
       "  <tbody>\n",
       "    <tr>\n",
       "      <td>1</td>\n",
       "      <td>0.023200</td>\n",
       "      <td>No log</td>\n",
       "    </tr>\n",
       "  </tbody>\n",
       "</table><p>"
      ],
      "text/plain": [
       "<IPython.core.display.HTML object>"
      ]
     },
     "metadata": {},
     "output_type": "display_data"
    },
    {
     "data": {
      "text/html": [
       "\n",
       "    <div>\n",
       "      \n",
       "      <progress value='1250' max='1250' style='width:300px; height:20px; vertical-align: middle;'></progress>\n",
       "      [1250/1250 01:38]\n",
       "    </div>\n",
       "    "
      ],
      "text/plain": [
       "<IPython.core.display.HTML object>"
      ]
     },
     "metadata": {},
     "output_type": "display_data"
    },
    {
     "name": "stdout",
     "output_type": "stream",
     "text": [
      "{'eval_runtime': 98.2746, 'eval_samples_per_second': 50.878, 'eval_steps_per_second': 12.719, 'epoch': 1.0}\n",
      "-- client2 training--\n"
     ]
    },
    {
     "data": {
      "text/html": [
       "\n",
       "    <div>\n",
       "      \n",
       "      <progress value='1250' max='1250' style='width:300px; height:20px; vertical-align: middle;'></progress>\n",
       "      [1250/1250 05:39, Epoch 1/1]\n",
       "    </div>\n",
       "    <table border=\"1\" class=\"dataframe\">\n",
       "  <thead>\n",
       " <tr style=\"text-align: left;\">\n",
       "      <th>Epoch</th>\n",
       "      <th>Training Loss</th>\n",
       "      <th>Validation Loss</th>\n",
       "    </tr>\n",
       "  </thead>\n",
       "  <tbody>\n",
       "    <tr>\n",
       "      <td>1</td>\n",
       "      <td>0.825100</td>\n",
       "      <td>No log</td>\n",
       "    </tr>\n",
       "  </tbody>\n",
       "</table><p>"
      ],
      "text/plain": [
       "<IPython.core.display.HTML object>"
      ]
     },
     "metadata": {},
     "output_type": "display_data"
    },
    {
     "data": {
      "text/html": [
       "\n",
       "    <div>\n",
       "      \n",
       "      <progress value='1250' max='1250' style='width:300px; height:20px; vertical-align: middle;'></progress>\n",
       "      [1250/1250 01:38]\n",
       "    </div>\n",
       "    "
      ],
      "text/plain": [
       "<IPython.core.display.HTML object>"
      ]
     },
     "metadata": {},
     "output_type": "display_data"
    },
    {
     "name": "stdout",
     "output_type": "stream",
     "text": [
      "{'eval_runtime': 98.2637, 'eval_samples_per_second': 50.884, 'eval_steps_per_second': 12.721, 'epoch': 1.0}\n",
      "-- client3 training--\n"
     ]
    },
    {
     "data": {
      "text/html": [
       "\n",
       "    <div>\n",
       "      \n",
       "      <progress value='1250' max='1250' style='width:300px; height:20px; vertical-align: middle;'></progress>\n",
       "      [1250/1250 05:39, Epoch 1/1]\n",
       "    </div>\n",
       "    <table border=\"1\" class=\"dataframe\">\n",
       "  <thead>\n",
       " <tr style=\"text-align: left;\">\n",
       "      <th>Epoch</th>\n",
       "      <th>Training Loss</th>\n",
       "      <th>Validation Loss</th>\n",
       "    </tr>\n",
       "  </thead>\n",
       "  <tbody>\n",
       "    <tr>\n",
       "      <td>1</td>\n",
       "      <td>0.015100</td>\n",
       "      <td>No log</td>\n",
       "    </tr>\n",
       "  </tbody>\n",
       "</table><p>"
      ],
      "text/plain": [
       "<IPython.core.display.HTML object>"
      ]
     },
     "metadata": {},
     "output_type": "display_data"
    },
    {
     "data": {
      "text/html": [
       "\n",
       "    <div>\n",
       "      \n",
       "      <progress value='1250' max='1250' style='width:300px; height:20px; vertical-align: middle;'></progress>\n",
       "      [1250/1250 01:38]\n",
       "    </div>\n",
       "    "
      ],
      "text/plain": [
       "<IPython.core.display.HTML object>"
      ]
     },
     "metadata": {},
     "output_type": "display_data"
    },
    {
     "name": "stdout",
     "output_type": "stream",
     "text": [
      "{'eval_runtime': 98.2439, 'eval_samples_per_second': 50.894, 'eval_steps_per_second': 12.723, 'epoch': 1.0}\n",
      "-- client4 training--\n"
     ]
    },
    {
     "data": {
      "text/html": [
       "\n",
       "    <div>\n",
       "      \n",
       "      <progress value='1250' max='1250' style='width:300px; height:20px; vertical-align: middle;'></progress>\n",
       "      [1250/1250 05:39, Epoch 1/1]\n",
       "    </div>\n",
       "    <table border=\"1\" class=\"dataframe\">\n",
       "  <thead>\n",
       " <tr style=\"text-align: left;\">\n",
       "      <th>Epoch</th>\n",
       "      <th>Training Loss</th>\n",
       "      <th>Validation Loss</th>\n",
       "    </tr>\n",
       "  </thead>\n",
       "  <tbody>\n",
       "    <tr>\n",
       "      <td>1</td>\n",
       "      <td>0.020400</td>\n",
       "      <td>No log</td>\n",
       "    </tr>\n",
       "  </tbody>\n",
       "</table><p>"
      ],
      "text/plain": [
       "<IPython.core.display.HTML object>"
      ]
     },
     "metadata": {},
     "output_type": "display_data"
    },
    {
     "data": {
      "text/html": [
       "\n",
       "    <div>\n",
       "      \n",
       "      <progress value='1250' max='1250' style='width:300px; height:20px; vertical-align: middle;'></progress>\n",
       "      [1250/1250 01:38]\n",
       "    </div>\n",
       "    "
      ],
      "text/plain": [
       "<IPython.core.display.HTML object>"
      ]
     },
     "metadata": {},
     "output_type": "display_data"
    },
    {
     "name": "stdout",
     "output_type": "stream",
     "text": [
      "{'eval_runtime': 98.2649, 'eval_samples_per_second': 50.883, 'eval_steps_per_second': 12.721, 'epoch': 1.0}\n"
     ]
    }
   ],
   "source": [
    "client_weights = [1/client_num for i in range(client_num)]\n",
    "global_epochs = 2\n",
    "\n",
    "for epoch in range(global_epochs):\n",
    "    print(f\"------------epoch {epoch}------------\")\n",
    "    for c_idx, c_model in enumerate(client_models):\n",
    "        print(f\"-- client{c_idx} training--\")\n",
    "        \n",
    "        trainer = Trainer(\n",
    "            model=c_model,\n",
    "            args=training_args,\n",
    "            train_dataset=client_datasets[c_idx][\"train\"],\n",
    "            eval_dataset=client_datasets[c_idx][\"test\"],\n",
    "            compute_metrics=compute_metrics,\n",
    "            data_collator=data_collator,\n",
    "        )\n",
    "        \n",
    "        trainer.train()\n",
    "        # trainer.evaluate()\n",
    "        evaluation_results = trainer.evaluate()\n",
    "        print(evaluation_results)\n",
    "\n",
    "    # aggregate model trainable parameters(adapter)\n",
    "    with torch.no_grad():\n",
    "        for key, param in peft_model.named_parameters():\n",
    "            if param.requires_grad:\n",
    "                temp = torch.zeros_like(param).cuda()\n",
    "                for client_idx in range(client_num):\n",
    "                    temp += client_weights[client_idx] * client_models[client_idx].state_dict()[key]                 \n",
    "                peft_model.state_dict()[key].data.copy_(temp)\n",
    "                for client_idx in range(client_num):\n",
    "                    client_models[client_idx].state_dict()[key].data.copy_(peft_model.state_dict()[key])\n",
    "    \n",
    "    for c_idx, c_model in enumerate(client_models):\n",
    "        trainer = Trainer(\n",
    "            model=c_model,\n",
    "            args=training_args,\n",
    "            train_dataset=client_datasets[c_idx][\"train\"],\n",
    "            eval_dataset=client_datasets[c_idx][\"test\"],\n",
    "            compute_metrics=compute_metrics,\n",
    "            # data_collator=data_collator,\n",
    "        )\n",
    "        "
   ]
  },
  {
   "cell_type": "code",
   "execution_count": 8,
   "id": "7cdb99b9-a998-4fd5-89cc-0b59d0d7a0f0",
   "metadata": {
    "execution": {
     "iopub.execute_input": "2024-07-01T17:47:02.854138Z",
     "iopub.status.busy": "2024-07-01T17:47:02.854053Z",
     "iopub.status.idle": "2024-07-01T17:47:02.856166Z",
     "shell.execute_reply": "2024-07-01T17:47:02.855995Z",
     "shell.execute_reply.started": "2024-07-01T17:47:02.854129Z"
    }
   },
   "outputs": [
    {
     "data": {
      "text/plain": [
       "'\\ntrainer = Trainer(\\n    model=peft_model,\\n    args=training_args,\\n    train_dataset=tokenized_datasets[\"train\"],\\n    eval_dataset=tokenized_datasets[\"test\"],\\n    compute_metrics=compute_metrics,\\n    # data_collator=data_collator,\\n)\\n'"
      ]
     },
     "execution_count": 8,
     "metadata": {},
     "output_type": "execute_result"
    }
   ],
   "source": [
    "\"\"\"\n",
    "trainer = Trainer(\n",
    "    model=peft_model,\n",
    "    args=training_args,\n",
    "    train_dataset=tokenized_datasets[\"train\"],\n",
    "    eval_dataset=tokenized_datasets[\"test\"],\n",
    "    compute_metrics=compute_metrics,\n",
    "    # data_collator=data_collator,\n",
    ")\n",
    "\"\"\""
   ]
  },
  {
   "cell_type": "code",
   "execution_count": 9,
   "id": "06cf867a-e0df-45df-a727-6856c40eee11",
   "metadata": {
    "execution": {
     "iopub.execute_input": "2024-07-01T17:47:02.856505Z",
     "iopub.status.busy": "2024-07-01T17:47:02.856428Z",
     "iopub.status.idle": "2024-07-01T17:47:02.866947Z",
     "shell.execute_reply": "2024-07-01T17:47:02.866731Z",
     "shell.execute_reply.started": "2024-07-01T17:47:02.856498Z"
    }
   },
   "outputs": [],
   "source": [
    "# 開始訓練\n",
    "# trainer.train()"
   ]
  }
 ],
 "metadata": {
  "kernelspec": {
   "display_name": "fedllm",
   "language": "python",
   "name": "python3"
  },
  "language_info": {
   "codemirror_mode": {
    "name": "ipython",
    "version": 3
   },
   "file_extension": ".py",
   "mimetype": "text/x-python",
   "name": "python",
   "nbconvert_exporter": "python",
   "pygments_lexer": "ipython3",
   "version": "3.9.7"
  }
 },
 "nbformat": 4,
 "nbformat_minor": 5
}
