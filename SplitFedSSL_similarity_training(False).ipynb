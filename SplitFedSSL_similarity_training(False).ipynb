{
 "cells": [
  {
   "cell_type": "code",
   "execution_count": 1,
   "id": "6019755a-5e31-4c2b-80ac-c9f5798085e0",
   "metadata": {
    "execution": {
     "iopub.execute_input": "2024-06-17T19:40:21.401411Z",
     "iopub.status.busy": "2024-06-17T19:40:21.401329Z",
     "iopub.status.idle": "2024-06-17T19:40:22.340830Z",
     "shell.execute_reply": "2024-06-17T19:40:22.340506Z",
     "shell.execute_reply.started": "2024-06-17T19:40:21.401401Z"
    }
   },
   "outputs": [],
   "source": [
    "import os\n",
    "os.environ[\"CUDA_VISIBLE_DEVICES\"] = \"0\"\n",
    "from functools import wraps\n",
    "import numpy as np\n",
    "import copy\n",
    "import random\n",
    "import torch\n",
    "import time\n",
    "\n",
    "from torch.utils.data import Dataset, DataLoader\n",
    "from torchvision import transforms, utils, datasets\n",
    "from utils.utils import *\n",
    "from utils.training import *\n",
    "# from utils.training_batch import *\n",
    "from utils.model import *\n",
    "from utils.BYOL_models import *\n",
    "from utils.similarity import *"
   ]
  },
  {
   "cell_type": "code",
   "execution_count": 2,
   "id": "e80c59c2-06ba-466e-bb29-679c3e2e6438",
   "metadata": {
    "execution": {
     "iopub.execute_input": "2024-06-17T19:40:22.341595Z",
     "iopub.status.busy": "2024-06-17T19:40:22.341463Z",
     "iopub.status.idle": "2024-06-17T19:40:22.344883Z",
     "shell.execute_reply": "2024-06-17T19:40:22.344658Z",
     "shell.execute_reply.started": "2024-06-17T19:40:22.341586Z"
    }
   },
   "outputs": [],
   "source": [
    "from logdeep.models.lstm import deeplog, loganomaly, robustlog\n",
    "from logdeep.tools.predict import Predicter\n",
    "from logdeep.tools.train import Trainer\n",
    "from logdeep.tools.utils import *\n",
    "from logdeep.dataset.mylog import log_dataset\n",
    "# from logdeep.dataset.log import log_dataset\n",
    "from logdeep.dataset.sample import sliding_window, session_window\n",
    "from logdeep.tools.utils import (save_parameters, seed_everything,\n",
    "                                 train_val_split)"
   ]
  },
  {
   "cell_type": "code",
   "execution_count": 3,
   "id": "146c62cf-2edd-4327-b4f5-b483c0762717",
   "metadata": {
    "execution": {
     "iopub.execute_input": "2024-06-17T19:40:22.345222Z",
     "iopub.status.busy": "2024-06-17T19:40:22.345142Z",
     "iopub.status.idle": "2024-06-17T19:40:22.353143Z",
     "shell.execute_reply": "2024-06-17T19:40:22.352973Z",
     "shell.execute_reply.started": "2024-06-17T19:40:22.345215Z"
    }
   },
   "outputs": [],
   "source": [
    "# ('mnist', 'femnist', 'fmnist', 'cifar10', 'cifar100', 'svhn')\n",
    "data_path = \"./data\"\n",
    "# dataset = \"cifar10\"\n",
    "# ('noniid-labeldir', 'noniid-label#2', 'noniid-label#3','iid', 'default') default only for femnist\n",
    "partition = \"iid\"\n",
    "client_num = 5\n",
    "batch_size = 512\n",
    "test_batch = 250\n",
    "sim_weight = False\n",
    "\n",
    "# Hyperparameters_List (H) = [rounds, number_of_clients, number_of_training_rounds_local, local_batch_size, lr_client, aggregation_frequence]\n",
    "\n",
    "global_epochs = 1000\n",
    "# global_epochs = 3\n",
    "lr = 3e-4\n",
    "dirichlet_beta = 0.4\n",
    "norm = 'bn'\n",
    "# every (avg_freq) epochs doing one aggregation\n",
    "avg_freq = 10\n",
    "# avg_freq = \"exp\"\n",
    "\n",
    "# save_path = f\"./model/SplitFSSLMaxpool_resnet18/resnet18Maxpooling_cifar10_{batch_size}_{partition}_{client_num}\"\n",
    "# save_path = f\"./model/SplitFSSL_BYOL_Avg25times/resnet18Maxpooling_cifar10_{batch_size}_{avg_freq}_{partition}_{client_num}\"\n",
    "# save_path = f\"./model/SplitFSSL_BYOL32_DifAvgtimes_0229/resnet18Maxpooling_{dataset}_{batch_size}_{avg_freq}_{partition}_{client_num}\"\n",
    "save_path = f\"./model/SplitFSSL_similarity_deeplog/resnet18Maxpooling_sim_weight({sim_weight})_{batch_size}_{avg_freq}_{partition}_{client_num}\"\n",
    "H = [global_epochs, client_num, batch_size, lr, avg_freq]"
   ]
  },
  {
   "cell_type": "code",
   "execution_count": 4,
   "id": "7efb3114-9bbf-46a2-9127-9d1c9e2cc860",
   "metadata": {
    "execution": {
     "iopub.execute_input": "2024-06-17T19:40:22.353458Z",
     "iopub.status.busy": "2024-06-17T19:40:22.353378Z",
     "iopub.status.idle": "2024-06-17T19:40:22.355711Z",
     "shell.execute_reply": "2024-06-17T19:40:22.355271Z",
     "shell.execute_reply.started": "2024-06-17T19:40:22.353451Z"
    }
   },
   "outputs": [],
   "source": [
    "logoptions = dict()\n",
    "logoptions['data_dir'] = './data/'\n",
    "logoptions['window_size'] = 10\n",
    "# logoptions['device'] = \"cpu\"\n",
    "\n",
    "# Smaple\n",
    "logoptions['sample'] = \"sliding_window\"\n",
    "logoptions['window_size'] = 10  # if fix_window\n",
    "\n",
    "# Features\n",
    "logoptions['sequentials'] = True\n",
    "logoptions['quantitatives'] = False\n",
    "logoptions['semantics'] = False\n",
    "logoptions['feature_num'] = sum(\n",
    "    [logoptions['sequentials'], logoptions['quantitatives'], logoptions['semantics']])"
   ]
  },
  {
   "cell_type": "code",
   "execution_count": 5,
   "id": "c498396e-192b-40cb-90c4-2aef85b90648",
   "metadata": {
    "execution": {
     "iopub.execute_input": "2024-06-17T19:40:22.356057Z",
     "iopub.status.busy": "2024-06-17T19:40:22.355986Z",
     "iopub.status.idle": "2024-06-17T19:40:22.706765Z",
     "shell.execute_reply": "2024-06-17T19:40:22.706436Z",
     "shell.execute_reply.started": "2024-06-17T19:40:22.356050Z"
    }
   },
   "outputs": [
    {
     "name": "stdout",
     "output_type": "stream",
     "text": [
      "File ./data/hdfs/hdfs_train, number of sessions 4855\n",
      "number of client 0 seqs 9548\n",
      "number of client 1 seqs 9273\n",
      "number of client 2 seqs 9301\n",
      "number of client 3 seqs 9272\n",
      "number of client 4 seqs 9181\n",
      "Shared data number of seqs 262\n"
     ]
    }
   ],
   "source": [
    "if logoptions['sample'] == 'sliding_window':\n",
    "    train_logs, train_labels = sliding_window(logoptions['data_dir'],\n",
    "                                              datatype='train',\n",
    "                                              window_size=logoptions['window_size'],\n",
    "                                              clientnum = client_num)\n",
    "    share_logs, share_labels = sliding_window(logoptions['data_dir'],\n",
    "                                              datatype='share',\n",
    "                                              window_size=logoptions['window_size'],\n",
    "                                              clientnum = client_num)\n",
    "    # val_logs, val_labels = sliding_window(logoptions['data_dir'],\n",
    "    #                                       datatype='val',\n",
    "    #                                       window_size=logoptions['window_size'],\n",
    "    #                                       clientnum = client_num)\n",
    "elif logoptions['sample'] == 'session_window':\n",
    "    train_logs, train_labels = session_window(logoptions['data_dir'],\n",
    "                                              datatype='train')\n",
    "    # val_logs, val_labels = session_window(logoptions['data_dir'],\n",
    "    #                                       datatype='val')\n",
    "else:\n",
    "    raise NotImplementedError"
   ]
  },
  {
   "cell_type": "code",
   "execution_count": 6,
   "id": "65c36fbf-5f62-4b6c-966f-aba9e003ac82",
   "metadata": {
    "execution": {
     "iopub.execute_input": "2024-06-17T19:40:22.707187Z",
     "iopub.status.busy": "2024-06-17T19:40:22.707109Z",
     "iopub.status.idle": "2024-06-17T19:40:22.709671Z",
     "shell.execute_reply": "2024-06-17T19:40:22.709464Z",
     "shell.execute_reply.started": "2024-06-17T19:40:22.707179Z"
    }
   },
   "outputs": [],
   "source": [
    "train_dataset = []\n",
    "# valid_dataset = []\n",
    "for trainlog, label in zip(train_logs, train_labels):\n",
    "    dataset = log_dataset(logs=trainlog,\n",
    "                                labels=label,\n",
    "                                seq=logoptions['sequentials'],\n",
    "                                quan=logoptions['quantitatives'],\n",
    "                                sem=logoptions['semantics'])\n",
    "    train_dataset.append(dataset)\n",
    "    \n",
    "\n",
    "\n",
    "shared_dataset = log_dataset(logs=share_logs,\n",
    "                      labels=share_labels,\n",
    "                      seq=logoptions['sequentials'],\n",
    "                      quan=logoptions['quantitatives'],\n",
    "                      sem=logoptions['semantics'])\n",
    "    \n",
    "# for vallog, label in zip(val_logs, val_labels):  \n",
    "#     dataset = log_dataset(logs=vallog,\n",
    "#                                 labels=label,\n",
    "#                                 seq=logoptions['sequentials'],\n",
    "#                                 quan=logoptions['quantitatives'],\n",
    "#                                 sem=logoptions['semantics'])\n",
    "#     valid_dataset.append(dataset)"
   ]
  },
  {
   "cell_type": "code",
   "execution_count": 7,
   "id": "2724255c-b013-4392-8bea-4a71bcd92578",
   "metadata": {
    "execution": {
     "iopub.execute_input": "2024-06-17T19:40:22.710883Z",
     "iopub.status.busy": "2024-06-17T19:40:22.710740Z",
     "iopub.status.idle": "2024-06-17T19:40:22.720459Z",
     "shell.execute_reply": "2024-06-17T19:40:22.720263Z",
     "shell.execute_reply.started": "2024-06-17T19:40:22.710876Z"
    }
   },
   "outputs": [
    {
     "data": {
      "text/plain": [
       "9548"
      ]
     },
     "execution_count": 7,
     "metadata": {},
     "output_type": "execute_result"
    }
   ],
   "source": [
    "len(train_dataset[0])"
   ]
  },
  {
   "cell_type": "code",
   "execution_count": 8,
   "id": "6f37ba47-711d-45c5-bb9c-c6fc1a99ec4b",
   "metadata": {
    "execution": {
     "iopub.execute_input": "2024-06-17T19:40:22.720891Z",
     "iopub.status.busy": "2024-06-17T19:40:22.720820Z",
     "iopub.status.idle": "2024-06-17T19:40:22.723376Z",
     "shell.execute_reply": "2024-06-17T19:40:22.722974Z",
     "shell.execute_reply.started": "2024-06-17T19:40:22.720885Z"
    }
   },
   "outputs": [],
   "source": [
    "train_loader_list = []\n",
    "# valid_loader = []\n",
    "for dataset in train_dataset:\n",
    "    loader = DataLoader(dataset,\n",
    "                        batch_size=batch_size,\n",
    "                        shuffle=True,\n",
    "                        pin_memory=True,\n",
    "                        drop_last=True)\n",
    "    train_loader_list.append(loader)\n",
    "\n",
    "shared_data_loader = DataLoader(shared_dataset,\n",
    "                        batch_size=128,\n",
    "                        shuffle=True,\n",
    "                        pin_memory=True,\n",
    "                        drop_last=True)\n",
    "# for dataset in valid_dataset:\n",
    "#     loader = DataLoader(dataset,\n",
    "#                         batch_size=batch_size,\n",
    "#                         shuffle=False,\n",
    "#                         pin_memory=True)\n",
    "#     valid_loader.append(loader)"
   ]
  },
  {
   "cell_type": "code",
   "execution_count": 9,
   "id": "65e62922-5a58-41ab-9686-061864a6e95e",
   "metadata": {
    "execution": {
     "iopub.execute_input": "2024-06-17T19:40:22.723683Z",
     "iopub.status.busy": "2024-06-17T19:40:22.723615Z",
     "iopub.status.idle": "2024-06-17T19:40:22.725307Z",
     "shell.execute_reply": "2024-06-17T19:40:22.725060Z",
     "shell.execute_reply.started": "2024-06-17T19:40:22.723676Z"
    }
   },
   "outputs": [],
   "source": [
    "# cls_count = np.zeros([10,client_num], dtype=int)\n",
    "# for k in range(client_num):\n",
    "#     for i in traindata_cls_counts[k]:\n",
    "#         cls_count[i][k] = traindata_cls_counts[k][i]\n",
    "\n",
    "# class_names = ['airplane', 'automobile', 'bird', 'cat', 'deer', 'dog', 'frog', 'horse', 'ship', 'truck']\n",
    "# plt.figure(figsize=(6,6))\n",
    "# sns.heatmap(cls_count, yticklabels=class_names, square=False,annot=True,fmt='d',linecolor='white',cmap='Blues',linewidths=1.5)\n",
    "# plt.xlabel('client',fontsize=20)\n",
    "# plt.ylabel('class',fontsize=20)\n",
    "# plt.show()"
   ]
  },
  {
   "cell_type": "code",
   "execution_count": 10,
   "id": "05a99ffb-6f36-4833-8a64-68f4a80b2346",
   "metadata": {
    "execution": {
     "iopub.execute_input": "2024-06-17T19:40:22.725775Z",
     "iopub.status.busy": "2024-06-17T19:40:22.725673Z",
     "iopub.status.idle": "2024-06-17T19:40:23.329252Z",
     "shell.execute_reply": "2024-06-17T19:40:23.328936Z",
     "shell.execute_reply.started": "2024-06-17T19:40:22.725766Z"
    }
   },
   "outputs": [],
   "source": [
    "net = deeplog(input_size=1, hidden_size=64, num_layers=2, num_keys=28)\n",
    "client_model = BYOL_Client(net=net, projection_size=28, projection_hidden_size=64)\n",
    "server_model = BYOL_Server(projection_size=28, projection_hidden_size=64)\n",
    "client_model_test = BYOL_Client(net=net, projection_size=28, projection_hidden_size=64)\n",
    "\n",
    "# client_model = BYOL_Client()\n",
    "# server_model = BYOL_Server()\n",
    "server_model.cuda()\n",
    "\n",
    "client_weights = [1/5 for i in range(client_num)]\n",
    "client_simweights = [[1 for i in range(client_num)] for i in range(client_num)]\n",
    "client_models = [copy.deepcopy(client_model).cuda() for idx in range(client_num)]\n",
    "client_tempmodels = [copy.deepcopy(client_model) for idx in range(client_num)]\n",
    "\n",
    "# server_models = [copy.deepcopy(server_model).cuda() for idx in range(client_num)]\n",
    "\n",
    "optimizer_server = torch.optim.Adam(server_model.parameters(), lr = H[3]) \n",
    "optimizer_clients = [torch.optim.Adam(client_models[i].parameters(), lr = H[3]) for i in range(len(client_models))]"
   ]
  },
  {
   "cell_type": "code",
   "execution_count": 11,
   "id": "5c644b42-5080-4a2b-b0a9-63f454a7bf0d",
   "metadata": {
    "execution": {
     "iopub.execute_input": "2024-06-17T19:40:23.329787Z",
     "iopub.status.busy": "2024-06-17T19:40:23.329664Z",
     "iopub.status.idle": "2024-06-17T19:40:23.332156Z",
     "shell.execute_reply": "2024-06-17T19:40:23.331939Z",
     "shell.execute_reply.started": "2024-06-17T19:40:23.329774Z"
    }
   },
   "outputs": [
    {
     "data": {
      "text/plain": [
       "BYOL_Client(\n",
       "  (online_encoder): deeplog(\n",
       "    (lstm): LSTM(1, 64, num_layers=2, batch_first=True)\n",
       "    (fc): MLP(\n",
       "      (net): Sequential(\n",
       "        (0): Linear(in_features=64, out_features=64, bias=True)\n",
       "        (1): BatchNorm1d(64, eps=1e-05, momentum=0.1, affine=True, track_running_stats=True)\n",
       "        (2): ReLU(inplace=True)\n",
       "        (3): Linear(in_features=64, out_features=28, bias=True)\n",
       "      )\n",
       "    )\n",
       "  )\n",
       ")"
      ]
     },
     "execution_count": 11,
     "metadata": {},
     "output_type": "execute_result"
    }
   ],
   "source": [
    "client_model"
   ]
  },
  {
   "cell_type": "code",
   "execution_count": 12,
   "id": "ed712eea-8fbc-49fa-a819-7c2d39a99f36",
   "metadata": {
    "execution": {
     "iopub.execute_input": "2024-06-17T19:40:23.332691Z",
     "iopub.status.busy": "2024-06-17T19:40:23.332476Z",
     "iopub.status.idle": "2024-06-17T19:40:23.341535Z",
     "shell.execute_reply": "2024-06-17T19:40:23.341327Z",
     "shell.execute_reply.started": "2024-06-17T19:40:23.332678Z"
    }
   },
   "outputs": [],
   "source": [
    "# clients_pred_per_label = {idx: [] for idx in range(5)}\n",
    "# for batch_idx, (data, _, target) in enumerate(shared_data_loader):\n",
    "#     data, target = data.cuda(), target\n",
    "#     for idx in range(5): \n",
    "\n",
    "#         net = copy.deepcopy(nn.Sequential(*list(clients[idx].online_encoder.children())[:-1]))\n",
    "#         # net = copy.deepcopy(client_models[idx].online_encoder)\n",
    "#         net.cuda()\n",
    "#         net.eval()\n",
    "#         # clients[idx].eval()\n",
    "    \n",
    "#         output = net(data)\n",
    "#         pred = output.data\n",
    "        \n",
    "    \n",
    "#         clients_pred_per_label[idx].append(pred)"
   ]
  },
  {
   "cell_type": "code",
   "execution_count": 13,
   "id": "9265f961-8bdb-4603-906e-f00de80d6009",
   "metadata": {
    "execution": {
     "iopub.execute_input": "2024-06-17T19:40:23.342074Z",
     "iopub.status.busy": "2024-06-17T19:40:23.341849Z",
     "iopub.status.idle": "2024-06-17T19:40:23.343643Z",
     "shell.execute_reply": "2024-06-17T19:40:23.343449Z",
     "shell.execute_reply.started": "2024-06-17T19:40:23.342060Z"
    }
   },
   "outputs": [],
   "source": [
    "epoch = 0\n",
    "# checkpath = save_path + \"/checkpoint.pth.tar\" \n",
    "# checkpoint = torch.load(checkpath)\n",
    "# epoch = checkpoint['glepoch']\n",
    "# print(epoch)\n",
    "# optimizer_server.load_state_dict(checkpoint['optimizer'][0])\n",
    "# if sim_weight:\n",
    "#     for clientidx in range(client_num):\n",
    "#         client_models[clientidx].online_encoder.load_state_dict(checkpoint['state_dict'][clientidx])\n",
    "# else:\n",
    "#     for localmodel in client_models:\n",
    "#         localmodel.online_encoder.load_state_dict(checkpoint['state_dict'])\n",
    "\n",
    "# for clientidx in range(client_num):\n",
    "#     optimizer_clients[clientidx].load_state_dict(checkpoint['optimizer'][clientidx+1])"
   ]
  },
  {
   "cell_type": "code",
   "execution_count": 14,
   "id": "fcb5e381-da78-4fc0-9bd8-aac7aac4cc28",
   "metadata": {
    "execution": {
     "iopub.execute_input": "2024-06-17T19:40:23.344381Z",
     "iopub.status.busy": "2024-06-17T19:40:23.344273Z",
     "iopub.status.idle": "2024-06-17T19:40:23.356921Z",
     "shell.execute_reply": "2024-06-17T19:40:23.356719Z",
     "shell.execute_reply.started": "2024-06-17T19:40:23.344374Z"
    }
   },
   "outputs": [],
   "source": [
    "\n",
    "def training(client_models, server_model, optimizer_server, optimizer_clients, rounds, batch_size, avg_freq):\n",
    "   \n",
    "    # training loss\n",
    "    train_loss = []\n",
    "    test_loss = []\n",
    "    test_accuracy = []\n",
    "    best_accuracy = 0\n",
    "    avg_times = 0\n",
    "    # measure time\n",
    "    start = time.time()\n",
    "    pre_clients_features = None\n",
    "    feature_sim_dict = {}\n",
    "    \n",
    "    \n",
    "    writer = SummaryWriter(f'logs/SplitFSSL_BYOL32_similarity_feature0423/resnet18Maxpooling_cifar10_{batch_size}_{avg_freq}_{partition}_{client_num}')\n",
    "    # writer = SummaryWriter(f'logs/SplitFSSL_BYOL_Avg25times/resnet18Maxpooling_cifar10_{batch_size}_{avg_freq}_{partition}_{client_num}')\n",
    "    global_step = 0\n",
    "    for curr_round in range(epoch, rounds+1):\n",
    "        metrics = defaultdict(list)\n",
    "        print(f\"Global Round:\", curr_round)\n",
    "        w, local_loss = [], []\n",
    "        \n",
    "        num_batch = 0\n",
    "        for i in train_loader_list:\n",
    "            if num_batch < len(i):\n",
    "                num_batch = len(i)\n",
    "                \n",
    "        train_iter = []\n",
    "        for i in train_loader_list:\n",
    "            train_iter.append(iter(i))\n",
    "            \n",
    "        batch_time = AverageMeter()\n",
    "        data_time = AverageMeter()\n",
    "        p_bar = tqdm(range(num_batch))\n",
    "\n",
    "        # 聚合頻率參數成指數成長\n",
    "        # alpha = expavg_times(curr_round)\n",
    "        # 聚合頻率參數線性數成長\n",
    "        # alpha = linear_growth(curr_round)\n",
    "        # 聚合頻率參數成固定參數\n",
    "        alpha = avg_freq\n",
    "        \n",
    "        for batch in range(num_batch):\n",
    "            # print(\"0>\", time.time() - start)\n",
    "            optimizer_zero_grads(optimizer_server, optimizer_clients)\n",
    "            \n",
    "            online_proj_one_list = [None for _ in range(client_num)]\n",
    "            online_proj_two_list = [None for _ in range(client_num)]\n",
    "            target_proj_one_list = [None for _ in range(client_num)]\n",
    "            target_proj_two_list = [None for _ in range(client_num)]\n",
    "\n",
    "            # client forward\n",
    "            # select 5 client to join training\n",
    "            s_clients = []\n",
    "            s_clients = range(client_num)\n",
    "            # s_clients = random.sample(range(client_num), 6)\n",
    "            # print(\"1>\", time.time() - start)\n",
    "            for i, client_id in enumerate(s_clients):\n",
    "                # print(\"Client: \",i)\n",
    "                # Compute a local update\n",
    "                # print(i, \"0>\", time.time() - start)\n",
    "                img1, img2, _ = next_data_batch(train_iter[client_id], train_loader_list[client_id])\n",
    "                \n",
    "                img1 = img1.cuda()\n",
    "                img2 = img2.cuda()\n",
    "                \n",
    "                data_time.update(time.time() - start)\n",
    "                # print(i, \"1>\", time.time() - start)\n",
    "                # pass to client model\n",
    "                # print(\"pass to client model\")\n",
    "                client_models[client_id].train()\n",
    "                # print(i, \"2>\", time.time() - start)\n",
    "                online_proj_one, online_proj_two, target_proj_one, target_proj_two = client_models[client_id](img1, img2)\n",
    "                # print(i, \"3>\", time.time() - start)\n",
    "                \n",
    "                # store representations\n",
    "                online_proj_one_list[i] = online_proj_one\n",
    "                online_proj_two_list[i] = online_proj_two\n",
    "                target_proj_one_list[i] = target_proj_one\n",
    "                target_proj_two_list[i] = target_proj_two\n",
    "                  \n",
    "\n",
    "            \n",
    "            # stack representations\n",
    "            stack_online_proj_one = torch.cat(online_proj_one_list, dim = 0)\n",
    "            stack_online_proj_two = torch.cat(online_proj_two_list, dim = 0)\n",
    "            stack_target_proj_one = torch.cat(target_proj_one_list, dim = 0)\n",
    "            stack_target_proj_two = torch.cat(target_proj_two_list, dim = 0)\n",
    "\n",
    "            # print(\">\", time.time() - start)\n",
    "            stack_online_proj_one, stack_online_proj_two, stack_target_proj_one, stack_target_proj_two = stack_online_proj_one.cuda(), stack_online_proj_two.cuda(), stack_target_proj_one.cuda(), stack_target_proj_two.cuda()\n",
    "            \n",
    "            # server computes\n",
    "            # print(\"server computes\")\n",
    "            online_proj_one_grad, online_proj_two_grad, loss = train_server(stack_online_proj_one.detach(), stack_online_proj_two.detach(), stack_target_proj_one, stack_target_proj_two, server_model)\n",
    "            local_loss.append((loss.item()))\n",
    "            optimizer_server.step()\n",
    "            # print(time.time() - start)\n",
    "            # distribute gradients to clients\n",
    "            # online_proj_one_grad, online_proj_two_grad = online_proj_one_grad.cpu(), online_proj_two_grad.cpu()\n",
    "            gradient_dict_one = {key: [] for key in range(client_num)}\n",
    "            gradient_dict_two = {key: [] for key in range(client_num)}\n",
    "            \n",
    "            for j in range(client_num):\n",
    "                gradient_dict_one[j] = online_proj_one_grad[j*batch_size:(j+1)*batch_size, :]\n",
    "                gradient_dict_two[j] = online_proj_two_grad[j*batch_size:(j+1)*batch_size, :]\n",
    "                \n",
    "            # breakpoint()\n",
    "            for i, client_id in enumerate(s_clients):\n",
    "                online_proj_one_list[i].backward(gradient_dict_one[i])\n",
    "                online_proj_two_list[i].backward(gradient_dict_two[i])\n",
    "                optimizer_clients[client_id].step()\n",
    "                client_models[client_id].update_moving_average()\n",
    "            \n",
    "            # if (batch+1)%10 == 0:\n",
    "            #     print(f\"Step [{batch}/{num_batch}]:\\tLoss: {loss.item()}\")\n",
    "            \n",
    "            del img1, img2\n",
    "            writer.add_scalar(\"Loss/train_step\", loss, global_step)\n",
    "            metrics[\"Loss/train\"].append(loss.item())\n",
    "            global_step += 1\n",
    "            \n",
    "            batch_time.update(time.time() - start)\n",
    "            start = time.time()\n",
    "            #=======================================set p_bar description=======================================================\n",
    "            p_bar.set_description(\"Train Epoch: {epoch}/{epochs:4}. Iter: {batch:4}/{iter:4}. Data: {data:.3f}s. alpha: {ep_alpha}. Batch: {bt:.3f}s. Loss: {loss:.4f}.\".format(\n",
    "                    epoch=curr_round,\n",
    "                    epochs=rounds,\n",
    "                    batch=batch + 1,\n",
    "                    iter=num_batch,\n",
    "                    data=data_time.avg,\n",
    "                    ep_alpha = alpha,\n",
    "                    bt=batch_time.avg,\n",
    "                    loss=loss.item()))\n",
    "            p_bar.update()\n",
    "            #=======================================set p_bar description=======================================================\n",
    "            # in 32 batch size will have 250 batches, if aggregate per 10 batches will have 25 aggerations in one epoch\n",
    "            # in 64 batch size will have 125 batches, if aggregate per 5 batches will have 25 aggerations in one epoch\n",
    "            if batch == num_batch - 1 or ((batch+1) % alpha == 0):\n",
    "                \n",
    "                # calculate similarity matrix\n",
    "                if avg_times % 10 == 0:\n",
    "                    clients_similarity, mat_sim, clients_features = similarity_mat(save_path, curr_round, avg_times, s_clients, client_models, shared_data_loader, \n",
    "                                                            nclasses=28, nsamples=256)\n",
    "                    \n",
    "                    if pre_clients_features == None:\n",
    "                        pre_clients_features = clients_features\n",
    "                    else:\n",
    "                        # 計算每個client與上次features的相似度\n",
    "                        # breakpoint()\n",
    "                        feature_sim_dict[curr_round] = cos_similarity(pre_clients_features, clients_features)\n",
    "                        pre_clients_features = clients_features\n",
    "                        print(f\"epoch {curr_round} similarity : {feature_sim_dict[curr_round]}\")\n",
    "                    # 用softmax運算\n",
    "                    # for i in range(client_num):\n",
    "                    #     w = clients_similarity[i]\n",
    "                    #     weight = torch.softmax(torch.tensor(w), dim=0)\n",
    "                    #     client_simweights[i] = weight\n",
    "                        \n",
    "                    for i in range(client_num):\n",
    "                        weights_sum = np.sum(clients_similarity[i])\n",
    "                        for k, w in enumerate(clients_similarity[i]):\n",
    "                            client_simweights[i][k] = w / weights_sum\n",
    "\n",
    "                    # for idx, w in enumerate(client_simweights):\n",
    "                    #     print(f\"client {idx} weight : {w}, sum : {np.sum(w)}\")\n",
    "            \n",
    "                # print(\"aggregate batch\", batch)\n",
    "                avg_times += 1\n",
    "                with torch.no_grad():\n",
    "                    # aggregate client models\n",
    "                    # for key, param in model.named_parameters():\n",
    "                    #     if param.requires_grad:\n",
    "                    for key in client_model.state_dict().keys():\n",
    "                        if \"running\" in key or \"num_batches\" in key:\n",
    "                            continue\n",
    "                        if sim_weight:\n",
    "                            # 計算每個client的聚合權重\n",
    "                            for client_idx in s_clients:\n",
    "                                temp = torch.zeros_like(client_model.state_dict()[key]).to('cuda')\n",
    "                                for i in s_clients:\n",
    "                                    temp += client_simweights[client_idx][i] * client_models[i].state_dict()[key]                        \n",
    "                                client_tempmodels[client_idx].state_dict()[key].data.copy_(temp)\n",
    "                            for client_idx in range(len(client_models)):\n",
    "                                client_models[client_idx].state_dict()[key].data.copy_(client_tempmodels[client_idx].state_dict()[key])\n",
    "                            \n",
    "                        \n",
    "                        else:\n",
    "                            temp = torch.zeros_like(client_model.state_dict()[key]).to('cuda')\n",
    "                            for client_idx in s_clients:\n",
    "                                temp += client_weights[client_idx] * client_models[client_idx].state_dict()[key]                        \n",
    "                            client_model.state_dict()[key].data.copy_(temp)\n",
    "                            for client_idx in range(len(client_models)):\n",
    "                                # temp = 0.8 * client_model.state_dict()[key].to('cuda') + 0.2 * client_models[client_idx].state_dict()[key]\n",
    "                                # client_models[client_idx].state_dict()[key].data.copy_(temp)\n",
    "                                client_models[client_idx].state_dict()[key].data.copy_(client_model.state_dict()[key])\n",
    "                            \n",
    "    \n",
    "        \n",
    "        p_bar.close()\n",
    "        # scheduler_server.step()\n",
    "        for k, v in metrics.items():\n",
    "            writer.add_scalar(k, np.array(v).mean(), curr_round)\n",
    "\n",
    "\n",
    "        # loss\n",
    "        loss_avg = sum(local_loss) / len(local_loss)\n",
    "        train_loss.append(loss_avg)\n",
    "        if curr_round % 5 == 0:\n",
    "            optimizer_dict = []\n",
    "            optimizer_dict.append(optimizer_server.state_dict())            \n",
    "            for client_idx in range(client_num):\n",
    "                optimizer_dict.append(optimizer_clients[client_idx].state_dict())\n",
    "            if sim_weight:\n",
    "                state_dict = []\n",
    "                for cid in range(client_num):\n",
    "                    state_dict.append(client_models[cid].online_encoder.cpu().state_dict())\n",
    "                    client_models[cid].to('cuda')\n",
    "            else:\n",
    "                state_dict = client_model.online_encoder.cpu().state_dict()\n",
    "            save_checkpoint({\n",
    "                'glepoch': curr_round+1,\n",
    "                'state_dict': state_dict,\n",
    "                'optimizer': optimizer_dict,\n",
    "                'feature_dict': feature_sim_dict,\n",
    "            }, save_path)\n",
    "        if curr_round % 100 == 0:\n",
    "            if sim_weight:\n",
    "                if not os.path.exists(save_path + f\"/epoch_{curr_round}\"):\n",
    "                    os.makedirs(save_path + f\"/epoch_{curr_round}\")\n",
    "                for cid in range(client_num):\n",
    "                    torch.save(client_models[cid].online_encoder.cpu().state_dict(), save_path + f\"/epoch_{curr_round}/client_{cid}.pt\")\n",
    "                    client_models[cid].to('cuda')      \n",
    "            else:\n",
    "                torch.save(client_model.online_encoder.cpu().state_dict(), save_path + f\"_{curr_round}_epoch.pt\")\n",
    "        \n",
    "        \n",
    "        print(f\"Global round: {curr_round} | Average loss: {loss_avg}\")\n",
    "        # print('best_accuracy:', best_accuracy, '---Round:', curr_round, '---lr', lr, '----localEpocs--', E)\n",
    "\n",
    "    end = time.time()\n",
    "   \n",
    "    print(\"Training Done!\")\n",
    "    print(\"Total time taken to Train: {}\".format(end - start))\n",
    "    print(f\"Total average times : {avg_times}\")\n",
    "\n",
    "    return client_models, client_model, train_loss"
   ]
  },
  {
   "cell_type": "code",
   "execution_count": 15,
   "id": "80b93bb8-f32b-49c8-92bb-94958603dd6e",
   "metadata": {
    "execution": {
     "iopub.execute_input": "2024-06-17T19:40:23.357526Z",
     "iopub.status.busy": "2024-06-17T19:40:23.357235Z",
     "iopub.status.idle": "2024-06-17T19:40:23.359170Z",
     "shell.execute_reply": "2024-06-17T19:40:23.358930Z",
     "shell.execute_reply.started": "2024-06-17T19:40:23.357513Z"
    }
   },
   "outputs": [
    {
     "name": "stdout",
     "output_type": "stream",
     "text": [
      "./model/SplitFSSL_similarity_deeplog/resnet18Maxpooling_sim_weight(False)_512_10_iid_5\n"
     ]
    }
   ],
   "source": [
    "print(save_path)"
   ]
  },
  {
   "cell_type": "code",
   "execution_count": 16,
   "id": "4590367d-8fcf-47bd-80b6-8dbc4ffff96c",
   "metadata": {
    "execution": {
     "iopub.execute_input": "2024-06-17T19:40:23.359680Z",
     "iopub.status.busy": "2024-06-17T19:40:23.359474Z",
     "iopub.status.idle": "2024-06-17T20:13:41.448259Z",
     "shell.execute_reply": "2024-06-17T20:13:41.448039Z",
     "shell.execute_reply.started": "2024-06-17T19:40:23.359667Z"
    },
    "scrolled": true
   },
   "outputs": [
    {
     "name": "stdout",
     "output_type": "stream",
     "text": [
      "Global Round: 0\n"
     ]
    },
    {
     "name": "stderr",
     "output_type": "stream",
     "text": [
      "  0%|                                                                                              | 0/18 [00:00<?, ?it/s]/home/haken/.conda/envs/splitfedssl/lib/python3.7/site-packages/torch/nn/modules/rnn.py:775: UserWarning: RNN module weights are not part of single contiguous chunk of memory. This means they need to be compacted at every call, possibly greatly increasing memory usage. To compact weights again call flatten_parameters(). (Triggered internally at ../aten/src/ATen/native/cudnn/RNN.cpp:968.)\n",
      "  self.dropout, self.training, self.bidirectional, self.batch_first)\n",
      "Train Epoch: 0/1000. Iter:   18/  18. Data: 0.066s. alpha: 10. Batch: 0.117s. Loss: 2.6425.: 100%|█| 18/18 [00:02<00:00,  \n"
     ]
    },
    {
     "name": "stdout",
     "output_type": "stream",
     "text": [
      "Global round: 0 | Average loss: 3.238271329138014\n",
      "Global Round: 1\n"
     ]
    },
    {
     "name": "stderr",
     "output_type": "stream",
     "text": [
      "Train Epoch: 1/1000. Iter:   18/  18. Data: 0.060s. alpha: 10. Batch: 0.111s. Loss: 1.7888.: 100%|█| 18/18 [00:01<00:00,  \n"
     ]
    },
    {
     "name": "stdout",
     "output_type": "stream",
     "text": [
      "Global round: 1 | Average loss: 2.1439544757207236\n",
      "Global Round: 2\n"
     ]
    },
    {
     "name": "stderr",
     "output_type": "stream",
     "text": [
      "Train Epoch: 2/1000. Iter:   18/  18. Data: 0.062s. alpha: 10. Batch: 0.113s. Loss: 1.4180.: 100%|█| 18/18 [00:02<00:00,  \n"
     ]
    },
    {
     "name": "stdout",
     "output_type": "stream",
     "text": [
      "Global round: 2 | Average loss: 1.5679548581441243\n",
      "Global Round: 3\n"
     ]
    },
    {
     "name": "stderr",
     "output_type": "stream",
     "text": [
      "Train Epoch: 3/1000. Iter:   18/  18. Data: 0.059s. alpha: 10. Batch: 0.109s. Loss: 1.2930.: 100%|█| 18/18 [00:01<00:00,  \n"
     ]
    },
    {
     "name": "stdout",
     "output_type": "stream",
     "text": [
      "Global round: 3 | Average loss: 1.3383083608415391\n",
      "Global Round: 4\n"
     ]
    },
    {
     "name": "stderr",
     "output_type": "stream",
     "text": [
      "Train Epoch: 4/1000. Iter:   18/  18. Data: 0.058s. alpha: 10. Batch: 0.109s. Loss: 1.2292.: 100%|█| 18/18 [00:01<00:00,  \n"
     ]
    },
    {
     "name": "stdout",
     "output_type": "stream",
     "text": [
      "Global round: 4 | Average loss: 1.2450635698106554\n",
      "Global Round: 5\n"
     ]
    },
    {
     "name": "stderr",
     "output_type": "stream",
     "text": [
      "Train Epoch: 5/1000. Iter:   11/  18. Data: 0.069s. alpha: 10. Batch: 0.117s. Loss: 1.1783.:  61%|▌| 11/18 [00:01<00:01,  "
     ]
    },
    {
     "name": "stdout",
     "output_type": "stream",
     "text": [
      "epoch 5 similarity : [0.14526964724063873, 0.1530669778585434, 0.15901905298233032, 0.1658957600593567, 0.15702879428863525]\n"
     ]
    },
    {
     "name": "stderr",
     "output_type": "stream",
     "text": [
      "Train Epoch: 5/1000. Iter:   18/  18. Data: 0.064s. alpha: 10. Batch: 0.112s. Loss: 1.1975.: 100%|█| 18/18 [00:02<00:00,  \n"
     ]
    },
    {
     "name": "stdout",
     "output_type": "stream",
     "text": [
      "Global round: 5 | Average loss: 1.1959574686156378\n",
      "Global Round: 6\n"
     ]
    },
    {
     "name": "stderr",
     "output_type": "stream",
     "text": [
      "Train Epoch: 6/1000. Iter:   18/  18. Data: 0.059s. alpha: 10. Batch: 0.110s. Loss: 1.1621.: 100%|█| 18/18 [00:01<00:00,  \n"
     ]
    },
    {
     "name": "stdout",
     "output_type": "stream",
     "text": [
      "Global round: 6 | Average loss: 1.1618798706266615\n",
      "Global Round: 7\n"
     ]
    },
    {
     "name": "stderr",
     "output_type": "stream",
     "text": [
      "Train Epoch: 7/1000. Iter:   18/  18. Data: 0.058s. alpha: 10. Batch: 0.111s. Loss: 1.1437.: 100%|█| 18/18 [00:01<00:00,  \n"
     ]
    },
    {
     "name": "stdout",
     "output_type": "stream",
     "text": [
      "Global round: 7 | Average loss: 1.143316196070777\n",
      "Global Round: 8\n"
     ]
    },
    {
     "name": "stderr",
     "output_type": "stream",
     "text": [
      "Train Epoch: 8/1000. Iter:   18/  18. Data: 0.061s. alpha: 10. Batch: 0.113s. Loss: 1.1263.: 100%|█| 18/18 [00:02<00:00,  \n"
     ]
    },
    {
     "name": "stdout",
     "output_type": "stream",
     "text": [
      "Global round: 8 | Average loss: 1.1304796073171828\n",
      "Global Round: 9\n"
     ]
    },
    {
     "name": "stderr",
     "output_type": "stream",
     "text": [
      "Train Epoch: 9/1000. Iter:   18/  18. Data: 0.061s. alpha: 10. Batch: 0.109s. Loss: 1.1440.: 100%|█| 18/18 [00:01<00:00,  \n"
     ]
    },
    {
     "name": "stdout",
     "output_type": "stream",
     "text": [
      "Global round: 9 | Average loss: 1.1210307677586873\n",
      "Global Round: 10\n"
     ]
    },
    {
     "name": "stderr",
     "output_type": "stream",
     "text": [
      "Train Epoch: 10/1000. Iter:   11/  18. Data: 0.070s. alpha: 10. Batch: 0.122s. Loss: 1.1640.:  61%|▌| 11/18 [00:01<00:01, "
     ]
    },
    {
     "name": "stdout",
     "output_type": "stream",
     "text": [
      "epoch 10 similarity : [0.21501842141151428, 0.2162293940782547, 0.23067700862884521, 0.2218872308731079, 0.2194829136133194]\n"
     ]
    },
    {
     "name": "stderr",
     "output_type": "stream",
     "text": [
      "Train Epoch: 10/1000. Iter:   18/  18. Data: 0.065s. alpha: 10. Batch: 0.115s. Loss: 1.0924.: 100%|█| 18/18 [00:02<00:00, \n"
     ]
    },
    {
     "name": "stdout",
     "output_type": "stream",
     "text": [
      "Global round: 10 | Average loss: 1.1043248640166388\n",
      "Global Round: 11\n"
     ]
    },
    {
     "name": "stderr",
     "output_type": "stream",
     "text": [
      "Train Epoch: 11/1000. Iter:   18/  18. Data: 0.060s. alpha: 10. Batch: 0.111s. Loss: 1.0586.: 100%|█| 18/18 [00:01<00:00, \n"
     ]
    },
    {
     "name": "stdout",
     "output_type": "stream",
     "text": [
      "Global round: 11 | Average loss: 1.096914099322425\n",
      "Global Round: 12\n"
     ]
    },
    {
     "name": "stderr",
     "output_type": "stream",
     "text": [
      "Train Epoch: 12/1000. Iter:   18/  18. Data: 0.061s. alpha: 10. Batch: 0.110s. Loss: 1.0900.: 100%|█| 18/18 [00:01<00:00, \n"
     ]
    },
    {
     "name": "stdout",
     "output_type": "stream",
     "text": [
      "Global round: 12 | Average loss: 1.0902855926089816\n",
      "Global Round: 13\n"
     ]
    },
    {
     "name": "stderr",
     "output_type": "stream",
     "text": [
      "Train Epoch: 13/1000. Iter:   18/  18. Data: 0.059s. alpha: 10. Batch: 0.108s. Loss: 1.0800.: 100%|█| 18/18 [00:01<00:00, \n"
     ]
    },
    {
     "name": "stdout",
     "output_type": "stream",
     "text": [
      "Global round: 13 | Average loss: 1.0761016938421462\n",
      "Global Round: 14\n"
     ]
    },
    {
     "name": "stderr",
     "output_type": "stream",
     "text": [
      "Train Epoch: 14/1000. Iter:   18/  18. Data: 0.061s. alpha: 10. Batch: 0.113s. Loss: 1.0523.: 100%|█| 18/18 [00:02<00:00, \n"
     ]
    },
    {
     "name": "stdout",
     "output_type": "stream",
     "text": [
      "Global round: 14 | Average loss: 1.0678544375631545\n",
      "Global Round: 15\n"
     ]
    },
    {
     "name": "stderr",
     "output_type": "stream",
     "text": [
      "Train Epoch: 15/1000. Iter:   11/  18. Data: 0.066s. alpha: 10. Batch: 0.115s. Loss: 1.0591.:  61%|▌| 11/18 [00:01<00:00, "
     ]
    },
    {
     "name": "stdout",
     "output_type": "stream",
     "text": [
      "epoch 15 similarity : [0.16288502514362335, 0.1665065586566925, 0.17867103219032288, 0.17305584251880646, 0.1640034019947052]\n"
     ]
    },
    {
     "name": "stderr",
     "output_type": "stream",
     "text": [
      "Train Epoch: 15/1000. Iter:   18/  18. Data: 0.065s. alpha: 10. Batch: 0.115s. Loss: 1.0866.: 100%|█| 18/18 [00:02<00:00, \n"
     ]
    },
    {
     "name": "stdout",
     "output_type": "stream",
     "text": [
      "Global round: 15 | Average loss: 1.0636770327885945\n",
      "Global Round: 16\n"
     ]
    },
    {
     "name": "stderr",
     "output_type": "stream",
     "text": [
      "Train Epoch: 16/1000. Iter:   18/  18. Data: 0.059s. alpha: 10. Batch: 0.110s. Loss: 1.0491.: 100%|█| 18/18 [00:01<00:00, \n"
     ]
    },
    {
     "name": "stdout",
     "output_type": "stream",
     "text": [
      "Global round: 16 | Average loss: 1.04763349559572\n",
      "Global Round: 17\n"
     ]
    },
    {
     "name": "stderr",
     "output_type": "stream",
     "text": [
      "Train Epoch: 17/1000. Iter:   18/  18. Data: 0.060s. alpha: 10. Batch: 0.110s. Loss: 1.0178.: 100%|█| 18/18 [00:01<00:00, \n"
     ]
    },
    {
     "name": "stdout",
     "output_type": "stream",
     "text": [
      "Global round: 17 | Average loss: 1.045026229487525\n",
      "Global Round: 18\n"
     ]
    },
    {
     "name": "stderr",
     "output_type": "stream",
     "text": [
      "Train Epoch: 18/1000. Iter:   18/  18. Data: 0.059s. alpha: 10. Batch: 0.110s. Loss: 1.0096.: 100%|█| 18/18 [00:01<00:00, \n"
     ]
    },
    {
     "name": "stdout",
     "output_type": "stream",
     "text": [
      "Global round: 18 | Average loss: 1.0252361363834805\n",
      "Global Round: 19\n"
     ]
    },
    {
     "name": "stderr",
     "output_type": "stream",
     "text": [
      "Train Epoch: 19/1000. Iter:   18/  18. Data: 0.061s. alpha: 10. Batch: 0.110s. Loss: 1.0144.: 100%|█| 18/18 [00:01<00:00, \n"
     ]
    },
    {
     "name": "stdout",
     "output_type": "stream",
     "text": [
      "Global round: 19 | Average loss: 1.0249516699049208\n",
      "Global Round: 20\n"
     ]
    },
    {
     "name": "stderr",
     "output_type": "stream",
     "text": [
      "Train Epoch: 20/1000. Iter:   11/  18. Data: 0.069s. alpha: 10. Batch: 0.120s. Loss: 1.0339.:  61%|▌| 11/18 [00:01<00:00, "
     ]
    },
    {
     "name": "stdout",
     "output_type": "stream",
     "text": [
      "epoch 20 similarity : [0.2808581590652466, 0.28019171953201294, 0.2885054349899292, 0.2897907793521881, 0.276785284280777]\n"
     ]
    },
    {
     "name": "stderr",
     "output_type": "stream",
     "text": [
      "Train Epoch: 20/1000. Iter:   18/  18. Data: 0.067s. alpha: 10. Batch: 0.118s. Loss: 1.0299.: 100%|█| 18/18 [00:02<00:00, \n"
     ]
    },
    {
     "name": "stdout",
     "output_type": "stream",
     "text": [
      "Global round: 20 | Average loss: 1.0085083444913228\n",
      "Global Round: 21\n"
     ]
    },
    {
     "name": "stderr",
     "output_type": "stream",
     "text": [
      "Train Epoch: 21/1000. Iter:   18/  18. Data: 0.060s. alpha: 10. Batch: 0.110s. Loss: 0.9916.: 100%|█| 18/18 [00:01<00:00, \n"
     ]
    },
    {
     "name": "stdout",
     "output_type": "stream",
     "text": [
      "Global round: 21 | Average loss: 1.0007966491911147\n",
      "Global Round: 22\n"
     ]
    },
    {
     "name": "stderr",
     "output_type": "stream",
     "text": [
      "Train Epoch: 22/1000. Iter:   18/  18. Data: 0.059s. alpha: 10. Batch: 0.109s. Loss: 1.0033.: 100%|█| 18/18 [00:01<00:00, \n"
     ]
    },
    {
     "name": "stdout",
     "output_type": "stream",
     "text": [
      "Global round: 22 | Average loss: 0.9955998924043443\n",
      "Global Round: 23\n"
     ]
    },
    {
     "name": "stderr",
     "output_type": "stream",
     "text": [
      "Train Epoch: 23/1000. Iter:   18/  18. Data: 0.057s. alpha: 10. Batch: 0.107s. Loss: 1.0013.: 100%|█| 18/18 [00:01<00:00, \n"
     ]
    },
    {
     "name": "stdout",
     "output_type": "stream",
     "text": [
      "Global round: 23 | Average loss: 0.9894182052877214\n",
      "Global Round: 24\n"
     ]
    },
    {
     "name": "stderr",
     "output_type": "stream",
     "text": [
      "Train Epoch: 24/1000. Iter:   18/  18. Data: 0.060s. alpha: 10. Batch: 0.108s. Loss: 0.9491.: 100%|█| 18/18 [00:01<00:00, \n"
     ]
    },
    {
     "name": "stdout",
     "output_type": "stream",
     "text": [
      "Global round: 24 | Average loss: 0.9856169720490774\n",
      "Global Round: 25\n"
     ]
    },
    {
     "name": "stderr",
     "output_type": "stream",
     "text": [
      "Train Epoch: 25/1000. Iter:   11/  18. Data: 0.067s. alpha: 10. Batch: 0.118s. Loss: 1.0004.:  61%|▌| 11/18 [00:01<00:00, "
     ]
    },
    {
     "name": "stdout",
     "output_type": "stream",
     "text": [
      "epoch 25 similarity : [0.20374815165996552, 0.19292181730270386, 0.19639213383197784, 0.20358681678771973, 0.17905394732952118]\n"
     ]
    },
    {
     "name": "stderr",
     "output_type": "stream",
     "text": [
      "Train Epoch: 25/1000. Iter:   18/  18. Data: 0.063s. alpha: 10. Batch: 0.116s. Loss: 0.9367.: 100%|█| 18/18 [00:02<00:00, \n"
     ]
    },
    {
     "name": "stdout",
     "output_type": "stream",
     "text": [
      "Global round: 25 | Average loss: 0.9774943722618951\n",
      "Global Round: 26\n"
     ]
    },
    {
     "name": "stderr",
     "output_type": "stream",
     "text": [
      "Train Epoch: 26/1000. Iter:   18/  18. Data: 0.060s. alpha: 10. Batch: 0.108s. Loss: 0.9533.: 100%|█| 18/18 [00:01<00:00, \n"
     ]
    },
    {
     "name": "stdout",
     "output_type": "stream",
     "text": [
      "Global round: 26 | Average loss: 0.9731492466396756\n",
      "Global Round: 27\n"
     ]
    },
    {
     "name": "stderr",
     "output_type": "stream",
     "text": [
      "Train Epoch: 27/1000. Iter:   18/  18. Data: 0.058s. alpha: 10. Batch: 0.108s. Loss: 0.9700.: 100%|█| 18/18 [00:01<00:00, \n"
     ]
    },
    {
     "name": "stdout",
     "output_type": "stream",
     "text": [
      "Global round: 27 | Average loss: 0.9690379202365875\n",
      "Global Round: 28\n"
     ]
    },
    {
     "name": "stderr",
     "output_type": "stream",
     "text": [
      "Train Epoch: 28/1000. Iter:   18/  18. Data: 0.060s. alpha: 10. Batch: 0.108s. Loss: 0.9492.: 100%|█| 18/18 [00:01<00:00, \n"
     ]
    },
    {
     "name": "stdout",
     "output_type": "stream",
     "text": [
      "Global round: 28 | Average loss: 0.9561531709300147\n",
      "Global Round: 29\n"
     ]
    },
    {
     "name": "stderr",
     "output_type": "stream",
     "text": [
      "Train Epoch: 29/1000. Iter:   18/  18. Data: 0.059s. alpha: 10. Batch: 0.108s. Loss: 0.9356.: 100%|█| 18/18 [00:01<00:00, \n"
     ]
    },
    {
     "name": "stdout",
     "output_type": "stream",
     "text": [
      "Global round: 29 | Average loss: 0.9441811641057333\n",
      "Global Round: 30\n"
     ]
    },
    {
     "name": "stderr",
     "output_type": "stream",
     "text": [
      "Train Epoch: 30/1000. Iter:   11/  18. Data: 0.067s. alpha: 10. Batch: 0.120s. Loss: 0.9378.:  61%|▌| 11/18 [00:01<00:00, "
     ]
    },
    {
     "name": "stdout",
     "output_type": "stream",
     "text": [
      "epoch 30 similarity : [0.17062720656394958, 0.17301328480243683, 0.17207463085651398, 0.1670382022857666, 0.16339020431041718]\n"
     ]
    },
    {
     "name": "stderr",
     "output_type": "stream",
     "text": [
      "Train Epoch: 30/1000. Iter:   18/  18. Data: 0.063s. alpha: 10. Batch: 0.115s. Loss: 0.9108.: 100%|█| 18/18 [00:02<00:00, \n"
     ]
    },
    {
     "name": "stdout",
     "output_type": "stream",
     "text": [
      "Global round: 30 | Average loss: 0.9477083086967468\n",
      "Global Round: 31\n"
     ]
    },
    {
     "name": "stderr",
     "output_type": "stream",
     "text": [
      "Train Epoch: 31/1000. Iter:   18/  18. Data: 0.064s. alpha: 10. Batch: 0.113s. Loss: 0.9340.: 100%|█| 18/18 [00:02<00:00, \n"
     ]
    },
    {
     "name": "stdout",
     "output_type": "stream",
     "text": [
      "Global round: 31 | Average loss: 0.9439808428287506\n",
      "Global Round: 32\n"
     ]
    },
    {
     "name": "stderr",
     "output_type": "stream",
     "text": [
      "Train Epoch: 32/1000. Iter:   18/  18. Data: 0.058s. alpha: 10. Batch: 0.108s. Loss: 0.9315.: 100%|█| 18/18 [00:01<00:00, \n"
     ]
    },
    {
     "name": "stdout",
     "output_type": "stream",
     "text": [
      "Global round: 32 | Average loss: 0.9389121664894952\n",
      "Global Round: 33\n"
     ]
    },
    {
     "name": "stderr",
     "output_type": "stream",
     "text": [
      "Train Epoch: 33/1000. Iter:   18/  18. Data: 0.060s. alpha: 10. Batch: 0.110s. Loss: 0.9371.: 100%|█| 18/18 [00:01<00:00, \n"
     ]
    },
    {
     "name": "stdout",
     "output_type": "stream",
     "text": [
      "Global round: 33 | Average loss: 0.9291887482007345\n",
      "Global Round: 34\n"
     ]
    },
    {
     "name": "stderr",
     "output_type": "stream",
     "text": [
      "Train Epoch: 34/1000. Iter:   18/  18. Data: 0.059s. alpha: 10. Batch: 0.110s. Loss: 0.9115.: 100%|█| 18/18 [00:01<00:00, \n"
     ]
    },
    {
     "name": "stdout",
     "output_type": "stream",
     "text": [
      "Global round: 34 | Average loss: 0.9202589028411441\n",
      "Global Round: 35\n"
     ]
    },
    {
     "name": "stderr",
     "output_type": "stream",
     "text": [
      "Train Epoch: 35/1000. Iter:   11/  18. Data: 0.071s. alpha: 10. Batch: 0.120s. Loss: 0.8948.:  61%|▌| 11/18 [00:01<00:00, "
     ]
    },
    {
     "name": "stdout",
     "output_type": "stream",
     "text": [
      "epoch 35 similarity : [0.2048124074935913, 0.21298393607139587, 0.2129032462835312, 0.21359454095363617, 0.2025981992483139]\n"
     ]
    },
    {
     "name": "stderr",
     "output_type": "stream",
     "text": [
      "Train Epoch: 35/1000. Iter:   18/  18. Data: 0.066s. alpha: 10. Batch: 0.115s. Loss: 0.9456.: 100%|█| 18/18 [00:02<00:00, \n"
     ]
    },
    {
     "name": "stdout",
     "output_type": "stream",
     "text": [
      "Global round: 35 | Average loss: 0.9212684333324432\n",
      "Global Round: 36\n"
     ]
    },
    {
     "name": "stderr",
     "output_type": "stream",
     "text": [
      "Train Epoch: 36/1000. Iter:   18/  18. Data: 0.060s. alpha: 10. Batch: 0.111s. Loss: 0.9125.: 100%|█| 18/18 [00:01<00:00, \n"
     ]
    },
    {
     "name": "stdout",
     "output_type": "stream",
     "text": [
      "Global round: 36 | Average loss: 0.915155698855718\n",
      "Global Round: 37\n"
     ]
    },
    {
     "name": "stderr",
     "output_type": "stream",
     "text": [
      "Train Epoch: 37/1000. Iter:   18/  18. Data: 0.064s. alpha: 10. Batch: 0.113s. Loss: 0.8873.: 100%|█| 18/18 [00:02<00:00, \n"
     ]
    },
    {
     "name": "stdout",
     "output_type": "stream",
     "text": [
      "Global round: 37 | Average loss: 0.9175446662637923\n",
      "Global Round: 38\n"
     ]
    },
    {
     "name": "stderr",
     "output_type": "stream",
     "text": [
      "Train Epoch: 38/1000. Iter:   18/  18. Data: 0.060s. alpha: 10. Batch: 0.111s. Loss: 0.9337.: 100%|█| 18/18 [00:01<00:00, \n"
     ]
    },
    {
     "name": "stdout",
     "output_type": "stream",
     "text": [
      "Global round: 38 | Average loss: 0.9231084916326735\n",
      "Global Round: 39\n"
     ]
    },
    {
     "name": "stderr",
     "output_type": "stream",
     "text": [
      "Train Epoch: 39/1000. Iter:   18/  18. Data: 0.058s. alpha: 10. Batch: 0.111s. Loss: 0.9307.: 100%|█| 18/18 [00:01<00:00, \n"
     ]
    },
    {
     "name": "stdout",
     "output_type": "stream",
     "text": [
      "Global round: 39 | Average loss: 0.9173493948247697\n",
      "Global Round: 40\n"
     ]
    },
    {
     "name": "stderr",
     "output_type": "stream",
     "text": [
      "Train Epoch: 40/1000. Iter:   11/  18. Data: 0.070s. alpha: 10. Batch: 0.119s. Loss: 0.9105.:  61%|▌| 11/18 [00:01<00:01, "
     ]
    },
    {
     "name": "stdout",
     "output_type": "stream",
     "text": [
      "epoch 40 similarity : [0.2117423266172409, 0.21140407025814056, 0.21106569468975067, 0.22782737016677856, 0.22171737253665924]\n"
     ]
    },
    {
     "name": "stderr",
     "output_type": "stream",
     "text": [
      "Train Epoch: 40/1000. Iter:   18/  18. Data: 0.064s. alpha: 10. Batch: 0.114s. Loss: 0.9101.: 100%|█| 18/18 [00:02<00:00, \n"
     ]
    },
    {
     "name": "stdout",
     "output_type": "stream",
     "text": [
      "Global round: 40 | Average loss: 0.9136899444792006\n",
      "Global Round: 41\n"
     ]
    },
    {
     "name": "stderr",
     "output_type": "stream",
     "text": [
      "Train Epoch: 41/1000. Iter:   18/  18. Data: 0.059s. alpha: 10. Batch: 0.111s. Loss: 0.9417.: 100%|█| 18/18 [00:01<00:00, \n"
     ]
    },
    {
     "name": "stdout",
     "output_type": "stream",
     "text": [
      "Global round: 41 | Average loss: 0.911475247806973\n",
      "Global Round: 42\n"
     ]
    },
    {
     "name": "stderr",
     "output_type": "stream",
     "text": [
      "Train Epoch: 42/1000. Iter:   18/  18. Data: 0.058s. alpha: 10. Batch: 0.110s. Loss: 0.9234.: 100%|█| 18/18 [00:01<00:00, \n"
     ]
    },
    {
     "name": "stdout",
     "output_type": "stream",
     "text": [
      "Global round: 42 | Average loss: 0.9106656544738345\n",
      "Global Round: 43\n"
     ]
    },
    {
     "name": "stderr",
     "output_type": "stream",
     "text": [
      "Train Epoch: 43/1000. Iter:   18/  18. Data: 0.062s. alpha: 10. Batch: 0.114s. Loss: 0.9184.: 100%|█| 18/18 [00:02<00:00, \n"
     ]
    },
    {
     "name": "stdout",
     "output_type": "stream",
     "text": [
      "Global round: 43 | Average loss: 0.9167435235447354\n",
      "Global Round: 44\n"
     ]
    },
    {
     "name": "stderr",
     "output_type": "stream",
     "text": [
      "Train Epoch: 44/1000. Iter:   18/  18. Data: 0.061s. alpha: 10. Batch: 0.109s. Loss: 0.9426.: 100%|█| 18/18 [00:01<00:00, \n"
     ]
    },
    {
     "name": "stdout",
     "output_type": "stream",
     "text": [
      "Global round: 44 | Average loss: 0.9118684033552805\n",
      "Global Round: 45\n"
     ]
    },
    {
     "name": "stderr",
     "output_type": "stream",
     "text": [
      "Train Epoch: 45/1000. Iter:   11/  18. Data: 0.070s. alpha: 10. Batch: 0.121s. Loss: 0.9249.:  61%|▌| 11/18 [00:01<00:01, "
     ]
    },
    {
     "name": "stdout",
     "output_type": "stream",
     "text": [
      "epoch 45 similarity : [0.10781993716955185, 0.1130104511976242, 0.12734360992908478, 0.10504185408353806, 0.10548648983240128]\n"
     ]
    },
    {
     "name": "stderr",
     "output_type": "stream",
     "text": [
      "Train Epoch: 45/1000. Iter:   18/  18. Data: 0.065s. alpha: 10. Batch: 0.115s. Loss: 0.9163.: 100%|█| 18/18 [00:02<00:00, \n"
     ]
    },
    {
     "name": "stdout",
     "output_type": "stream",
     "text": [
      "Global round: 45 | Average loss: 0.9122602807150947\n",
      "Global Round: 46\n"
     ]
    },
    {
     "name": "stderr",
     "output_type": "stream",
     "text": [
      "Train Epoch: 46/1000. Iter:   18/  18. Data: 0.059s. alpha: 10. Batch: 0.108s. Loss: 0.9120.: 100%|█| 18/18 [00:01<00:00, \n"
     ]
    },
    {
     "name": "stdout",
     "output_type": "stream",
     "text": [
      "Global round: 46 | Average loss: 0.9165904654396905\n",
      "Global Round: 47\n"
     ]
    },
    {
     "name": "stderr",
     "output_type": "stream",
     "text": [
      "Train Epoch: 47/1000. Iter:   18/  18. Data: 0.060s. alpha: 10. Batch: 0.108s. Loss: 0.9203.: 100%|█| 18/18 [00:01<00:00, \n"
     ]
    },
    {
     "name": "stdout",
     "output_type": "stream",
     "text": [
      "Global round: 47 | Average loss: 0.9129885832468668\n",
      "Global Round: 48\n"
     ]
    },
    {
     "name": "stderr",
     "output_type": "stream",
     "text": [
      "Train Epoch: 48/1000. Iter:   18/  18. Data: 0.060s. alpha: 10. Batch: 0.111s. Loss: 0.9310.: 100%|█| 18/18 [00:01<00:00, \n"
     ]
    },
    {
     "name": "stdout",
     "output_type": "stream",
     "text": [
      "Global round: 48 | Average loss: 0.9169923232661353\n",
      "Global Round: 49\n"
     ]
    },
    {
     "name": "stderr",
     "output_type": "stream",
     "text": [
      "Train Epoch: 49/1000. Iter:   18/  18. Data: 0.061s. alpha: 10. Batch: 0.111s. Loss: 0.9084.: 100%|█| 18/18 [00:01<00:00, \n"
     ]
    },
    {
     "name": "stdout",
     "output_type": "stream",
     "text": [
      "Global round: 49 | Average loss: 0.9155827164649963\n",
      "Global Round: 50\n"
     ]
    },
    {
     "name": "stderr",
     "output_type": "stream",
     "text": [
      "Train Epoch: 50/1000. Iter:   11/  18. Data: 0.065s. alpha: 10. Batch: 0.112s. Loss: 0.9192.:  61%|▌| 11/18 [00:01<00:00, "
     ]
    },
    {
     "name": "stdout",
     "output_type": "stream",
     "text": [
      "epoch 50 similarity : [0.17985396087169647, 0.17877022922039032, 0.1865336000919342, 0.17364636063575745, 0.16886986792087555]\n"
     ]
    },
    {
     "name": "stderr",
     "output_type": "stream",
     "text": [
      "Train Epoch: 50/1000. Iter:   18/  18. Data: 0.064s. alpha: 10. Batch: 0.112s. Loss: 0.8808.: 100%|█| 18/18 [00:02<00:00, \n"
     ]
    },
    {
     "name": "stdout",
     "output_type": "stream",
     "text": [
      "Global round: 50 | Average loss: 0.9125464095009698\n",
      "Global Round: 51\n"
     ]
    },
    {
     "name": "stderr",
     "output_type": "stream",
     "text": [
      "Train Epoch: 51/1000. Iter:   18/  18. Data: 0.058s. alpha: 10. Batch: 0.108s. Loss: 0.8969.: 100%|█| 18/18 [00:01<00:00, \n"
     ]
    },
    {
     "name": "stdout",
     "output_type": "stream",
     "text": [
      "Global round: 51 | Average loss: 0.9183360305097368\n",
      "Global Round: 52\n"
     ]
    },
    {
     "name": "stderr",
     "output_type": "stream",
     "text": [
      "Train Epoch: 52/1000. Iter:   18/  18. Data: 0.060s. alpha: 10. Batch: 0.108s. Loss: 0.9116.: 100%|█| 18/18 [00:01<00:00, \n"
     ]
    },
    {
     "name": "stdout",
     "output_type": "stream",
     "text": [
      "Global round: 52 | Average loss: 0.9156079755889045\n",
      "Global Round: 53\n"
     ]
    },
    {
     "name": "stderr",
     "output_type": "stream",
     "text": [
      "Train Epoch: 53/1000. Iter:   18/  18. Data: 0.059s. alpha: 10. Batch: 0.108s. Loss: 0.9355.: 100%|█| 18/18 [00:01<00:00, \n"
     ]
    },
    {
     "name": "stdout",
     "output_type": "stream",
     "text": [
      "Global round: 53 | Average loss: 0.9185955491330888\n",
      "Global Round: 54\n"
     ]
    },
    {
     "name": "stderr",
     "output_type": "stream",
     "text": [
      "Train Epoch: 54/1000. Iter:   18/  18. Data: 0.060s. alpha: 10. Batch: 0.108s. Loss: 0.9096.: 100%|█| 18/18 [00:01<00:00, \n"
     ]
    },
    {
     "name": "stdout",
     "output_type": "stream",
     "text": [
      "Global round: 54 | Average loss: 0.9134566055403815\n",
      "Global Round: 55\n"
     ]
    },
    {
     "name": "stderr",
     "output_type": "stream",
     "text": [
      "Train Epoch: 55/1000. Iter:   11/  18. Data: 0.069s. alpha: 10. Batch: 0.120s. Loss: 0.9455.:  61%|▌| 11/18 [00:01<00:00, "
     ]
    },
    {
     "name": "stdout",
     "output_type": "stream",
     "text": [
      "epoch 55 similarity : [0.13816766440868378, 0.14164966344833374, 0.15656380355358124, 0.1480795294046402, 0.13136671483516693]\n"
     ]
    },
    {
     "name": "stderr",
     "output_type": "stream",
     "text": [
      "Train Epoch: 55/1000. Iter:   18/  18. Data: 0.067s. alpha: 10. Batch: 0.117s. Loss: 0.9171.: 100%|█| 18/18 [00:02<00:00, \n"
     ]
    },
    {
     "name": "stdout",
     "output_type": "stream",
     "text": [
      "Global round: 55 | Average loss: 0.9266955388916863\n",
      "Global Round: 56\n"
     ]
    },
    {
     "name": "stderr",
     "output_type": "stream",
     "text": [
      "Train Epoch: 56/1000. Iter:   18/  18. Data: 0.060s. alpha: 10. Batch: 0.109s. Loss: 0.9309.: 100%|█| 18/18 [00:01<00:00, \n"
     ]
    },
    {
     "name": "stdout",
     "output_type": "stream",
     "text": [
      "Global round: 56 | Average loss: 0.9109001755714417\n",
      "Global Round: 57\n"
     ]
    },
    {
     "name": "stderr",
     "output_type": "stream",
     "text": [
      "Train Epoch: 57/1000. Iter:   18/  18. Data: 0.060s. alpha: 10. Batch: 0.109s. Loss: 0.9467.: 100%|█| 18/18 [00:01<00:00, \n"
     ]
    },
    {
     "name": "stdout",
     "output_type": "stream",
     "text": [
      "Global round: 57 | Average loss: 0.9205505384339226\n",
      "Global Round: 58\n"
     ]
    },
    {
     "name": "stderr",
     "output_type": "stream",
     "text": [
      "Train Epoch: 58/1000. Iter:   18/  18. Data: 0.059s. alpha: 10. Batch: 0.109s. Loss: 0.9259.: 100%|█| 18/18 [00:01<00:00, \n"
     ]
    },
    {
     "name": "stdout",
     "output_type": "stream",
     "text": [
      "Global round: 58 | Average loss: 0.9175605343447791\n",
      "Global Round: 59\n"
     ]
    },
    {
     "name": "stderr",
     "output_type": "stream",
     "text": [
      "Train Epoch: 59/1000. Iter:   18/  18. Data: 0.060s. alpha: 10. Batch: 0.110s. Loss: 0.9274.: 100%|█| 18/18 [00:01<00:00, \n"
     ]
    },
    {
     "name": "stdout",
     "output_type": "stream",
     "text": [
      "Global round: 59 | Average loss: 0.9195130666097006\n",
      "Global Round: 60\n"
     ]
    },
    {
     "name": "stderr",
     "output_type": "stream",
     "text": [
      "Train Epoch: 60/1000. Iter:   11/  18. Data: 0.068s. alpha: 10. Batch: 0.120s. Loss: 0.8988.:  61%|▌| 11/18 [00:01<00:00, "
     ]
    },
    {
     "name": "stdout",
     "output_type": "stream",
     "text": [
      "epoch 60 similarity : [0.1673627644777298, 0.1734900027513504, 0.17455650866031647, 0.1807039976119995, 0.16845491528511047]\n"
     ]
    },
    {
     "name": "stderr",
     "output_type": "stream",
     "text": [
      "Train Epoch: 60/1000. Iter:   18/  18. Data: 0.064s. alpha: 10. Batch: 0.118s. Loss: 0.9156.: 100%|█| 18/18 [00:02<00:00, \n"
     ]
    },
    {
     "name": "stdout",
     "output_type": "stream",
     "text": [
      "Global round: 60 | Average loss: 0.9164340794086456\n",
      "Global Round: 61\n"
     ]
    },
    {
     "name": "stderr",
     "output_type": "stream",
     "text": [
      "Train Epoch: 61/1000. Iter:   18/  18. Data: 0.061s. alpha: 10. Batch: 0.111s. Loss: 0.9287.: 100%|█| 18/18 [00:01<00:00, \n"
     ]
    },
    {
     "name": "stdout",
     "output_type": "stream",
     "text": [
      "Global round: 61 | Average loss: 0.9078393148051368\n",
      "Global Round: 62\n"
     ]
    },
    {
     "name": "stderr",
     "output_type": "stream",
     "text": [
      "Train Epoch: 62/1000. Iter:   18/  18. Data: 0.059s. alpha: 10. Batch: 0.110s. Loss: 0.9067.: 100%|█| 18/18 [00:01<00:00, \n"
     ]
    },
    {
     "name": "stdout",
     "output_type": "stream",
     "text": [
      "Global round: 62 | Average loss: 0.9165249268213908\n",
      "Global Round: 63\n"
     ]
    },
    {
     "name": "stderr",
     "output_type": "stream",
     "text": [
      "Train Epoch: 63/1000. Iter:   18/  18. Data: 0.061s. alpha: 10. Batch: 0.110s. Loss: 0.9246.: 100%|█| 18/18 [00:01<00:00, \n"
     ]
    },
    {
     "name": "stdout",
     "output_type": "stream",
     "text": [
      "Global round: 63 | Average loss: 0.9109869367546506\n",
      "Global Round: 64\n"
     ]
    },
    {
     "name": "stderr",
     "output_type": "stream",
     "text": [
      "Train Epoch: 64/1000. Iter:   18/  18. Data: 0.059s. alpha: 10. Batch: 0.109s. Loss: 0.9505.: 100%|█| 18/18 [00:01<00:00, \n"
     ]
    },
    {
     "name": "stdout",
     "output_type": "stream",
     "text": [
      "Global round: 64 | Average loss: 0.9237801432609558\n",
      "Global Round: 65\n"
     ]
    },
    {
     "name": "stderr",
     "output_type": "stream",
     "text": [
      "Train Epoch: 65/1000. Iter:   11/  18. Data: 0.066s. alpha: 10. Batch: 0.118s. Loss: 0.9232.:  61%|▌| 11/18 [00:01<00:00, "
     ]
    },
    {
     "name": "stdout",
     "output_type": "stream",
     "text": [
      "epoch 65 similarity : [0.15558524429798126, 0.16431397199630737, 0.15861442685127258, 0.1619172841310501, 0.15834732353687286]\n"
     ]
    },
    {
     "name": "stderr",
     "output_type": "stream",
     "text": [
      "Train Epoch: 65/1000. Iter:   18/  18. Data: 0.062s. alpha: 10. Batch: 0.113s. Loss: 0.8862.: 100%|█| 18/18 [00:02<00:00, \n"
     ]
    },
    {
     "name": "stdout",
     "output_type": "stream",
     "text": [
      "Global round: 65 | Average loss: 0.9194795423083835\n",
      "Global Round: 66\n"
     ]
    },
    {
     "name": "stderr",
     "output_type": "stream",
     "text": [
      "Train Epoch: 66/1000. Iter:   18/  18. Data: 0.064s. alpha: 10. Batch: 0.113s. Loss: 0.9311.: 100%|█| 18/18 [00:02<00:00, \n"
     ]
    },
    {
     "name": "stdout",
     "output_type": "stream",
     "text": [
      "Global round: 66 | Average loss: 0.9086136288113065\n",
      "Global Round: 67\n"
     ]
    },
    {
     "name": "stderr",
     "output_type": "stream",
     "text": [
      "Train Epoch: 67/1000. Iter:   18/  18. Data: 0.057s. alpha: 10. Batch: 0.108s. Loss: 0.9435.: 100%|█| 18/18 [00:01<00:00, \n"
     ]
    },
    {
     "name": "stdout",
     "output_type": "stream",
     "text": [
      "Global round: 67 | Average loss: 0.9094151159127554\n",
      "Global Round: 68\n"
     ]
    },
    {
     "name": "stderr",
     "output_type": "stream",
     "text": [
      "Train Epoch: 68/1000. Iter:   18/  18. Data: 0.060s. alpha: 10. Batch: 0.108s. Loss: 0.9627.: 100%|█| 18/18 [00:01<00:00, \n"
     ]
    },
    {
     "name": "stdout",
     "output_type": "stream",
     "text": [
      "Global round: 68 | Average loss: 0.9188735087712606\n",
      "Global Round: 69\n"
     ]
    },
    {
     "name": "stderr",
     "output_type": "stream",
     "text": [
      "Train Epoch: 69/1000. Iter:   18/  18. Data: 0.058s. alpha: 10. Batch: 0.108s. Loss: 0.8969.: 100%|█| 18/18 [00:01<00:00, \n"
     ]
    },
    {
     "name": "stdout",
     "output_type": "stream",
     "text": [
      "Global round: 69 | Average loss: 0.912043958902359\n",
      "Global Round: 70\n"
     ]
    },
    {
     "name": "stderr",
     "output_type": "stream",
     "text": [
      "Train Epoch: 70/1000. Iter:   11/  18. Data: 0.071s. alpha: 10. Batch: 0.120s. Loss: 0.9153.:  61%|▌| 11/18 [00:01<00:00, "
     ]
    },
    {
     "name": "stdout",
     "output_type": "stream",
     "text": [
      "epoch 70 similarity : [0.13498349487781525, 0.14170101284980774, 0.13734358549118042, 0.13147369027137756, 0.13536503911018372]\n"
     ]
    },
    {
     "name": "stderr",
     "output_type": "stream",
     "text": [
      "Train Epoch: 70/1000. Iter:   18/  18. Data: 0.065s. alpha: 10. Batch: 0.114s. Loss: 0.8938.: 100%|█| 18/18 [00:02<00:00, \n"
     ]
    },
    {
     "name": "stdout",
     "output_type": "stream",
     "text": [
      "Global round: 70 | Average loss: 0.9057153960069021\n",
      "Global Round: 71\n"
     ]
    },
    {
     "name": "stderr",
     "output_type": "stream",
     "text": [
      "Train Epoch: 71/1000. Iter:   18/  18. Data: 0.060s. alpha: 10. Batch: 0.111s. Loss: 0.9072.: 100%|█| 18/18 [00:01<00:00, \n"
     ]
    },
    {
     "name": "stdout",
     "output_type": "stream",
     "text": [
      "Global round: 71 | Average loss: 0.9144381748305427\n",
      "Global Round: 72\n"
     ]
    },
    {
     "name": "stderr",
     "output_type": "stream",
     "text": [
      "Train Epoch: 72/1000. Iter:   18/  18. Data: 0.065s. alpha: 10. Batch: 0.114s. Loss: 0.9284.: 100%|█| 18/18 [00:02<00:00, \n"
     ]
    },
    {
     "name": "stdout",
     "output_type": "stream",
     "text": [
      "Global round: 72 | Average loss: 0.9112376305792067\n",
      "Global Round: 73\n"
     ]
    },
    {
     "name": "stderr",
     "output_type": "stream",
     "text": [
      "Train Epoch: 73/1000. Iter:   18/  18. Data: 0.060s. alpha: 10. Batch: 0.110s. Loss: 0.8897.: 100%|█| 18/18 [00:01<00:00, \n"
     ]
    },
    {
     "name": "stdout",
     "output_type": "stream",
     "text": [
      "Global round: 73 | Average loss: 0.9049290551079644\n",
      "Global Round: 74\n"
     ]
    },
    {
     "name": "stderr",
     "output_type": "stream",
     "text": [
      "Train Epoch: 74/1000. Iter:   18/  18. Data: 0.058s. alpha: 10. Batch: 0.109s. Loss: 0.9276.: 100%|█| 18/18 [00:01<00:00, \n"
     ]
    },
    {
     "name": "stdout",
     "output_type": "stream",
     "text": [
      "Global round: 74 | Average loss: 0.9048154552777609\n",
      "Global Round: 75\n"
     ]
    },
    {
     "name": "stderr",
     "output_type": "stream",
     "text": [
      "Train Epoch: 75/1000. Iter:   11/  18. Data: 0.070s. alpha: 10. Batch: 0.119s. Loss: 0.9088.:  61%|▌| 11/18 [00:01<00:01, "
     ]
    },
    {
     "name": "stdout",
     "output_type": "stream",
     "text": [
      "epoch 75 similarity : [0.21520674228668213, 0.22047902643680573, 0.21514439582824707, 0.2163505256175995, 0.22016359865665436]\n"
     ]
    },
    {
     "name": "stderr",
     "output_type": "stream",
     "text": [
      "Train Epoch: 75/1000. Iter:   18/  18. Data: 0.065s. alpha: 10. Batch: 0.113s. Loss: 0.8866.: 100%|█| 18/18 [00:02<00:00, \n"
     ]
    },
    {
     "name": "stdout",
     "output_type": "stream",
     "text": [
      "Global round: 75 | Average loss: 0.8971859647168053\n",
      "Global Round: 76\n"
     ]
    },
    {
     "name": "stderr",
     "output_type": "stream",
     "text": [
      "Train Epoch: 76/1000. Iter:   18/  18. Data: 0.059s. alpha: 10. Batch: 0.110s. Loss: 0.8666.: 100%|█| 18/18 [00:01<00:00, \n"
     ]
    },
    {
     "name": "stdout",
     "output_type": "stream",
     "text": [
      "Global round: 76 | Average loss: 0.8998811410533057\n",
      "Global Round: 77\n"
     ]
    },
    {
     "name": "stderr",
     "output_type": "stream",
     "text": [
      "Train Epoch: 77/1000. Iter:   18/  18. Data: 0.059s. alpha: 10. Batch: 0.110s. Loss: 0.9028.: 100%|█| 18/18 [00:01<00:00, \n"
     ]
    },
    {
     "name": "stdout",
     "output_type": "stream",
     "text": [
      "Global round: 77 | Average loss: 0.8979040616088443\n",
      "Global Round: 78\n"
     ]
    },
    {
     "name": "stderr",
     "output_type": "stream",
     "text": [
      "Train Epoch: 78/1000. Iter:   18/  18. Data: 0.062s. alpha: 10. Batch: 0.114s. Loss: 0.8824.: 100%|█| 18/18 [00:02<00:00, \n"
     ]
    },
    {
     "name": "stdout",
     "output_type": "stream",
     "text": [
      "Global round: 78 | Average loss: 0.8988752232657539\n",
      "Global Round: 79\n"
     ]
    },
    {
     "name": "stderr",
     "output_type": "stream",
     "text": [
      "Train Epoch: 79/1000. Iter:   18/  18. Data: 0.062s. alpha: 10. Batch: 0.112s. Loss: 0.8866.: 100%|█| 18/18 [00:02<00:00, \n"
     ]
    },
    {
     "name": "stdout",
     "output_type": "stream",
     "text": [
      "Global round: 79 | Average loss: 0.8984077970186869\n",
      "Global Round: 80\n"
     ]
    },
    {
     "name": "stderr",
     "output_type": "stream",
     "text": [
      "Train Epoch: 80/1000. Iter:   11/  18. Data: 0.071s. alpha: 10. Batch: 0.121s. Loss: 0.8936.:  61%|▌| 11/18 [00:01<00:01, "
     ]
    },
    {
     "name": "stdout",
     "output_type": "stream",
     "text": [
      "epoch 80 similarity : [0.2031150609254837, 0.20602095127105713, 0.2042016088962555, 0.21932509541511536, 0.21943354606628418]\n"
     ]
    },
    {
     "name": "stderr",
     "output_type": "stream",
     "text": [
      "Train Epoch: 80/1000. Iter:   18/  18. Data: 0.065s. alpha: 10. Batch: 0.114s. Loss: 0.9088.: 100%|█| 18/18 [00:02<00:00, \n"
     ]
    },
    {
     "name": "stdout",
     "output_type": "stream",
     "text": [
      "Global round: 80 | Average loss: 0.8926889300346375\n",
      "Global Round: 81\n"
     ]
    },
    {
     "name": "stderr",
     "output_type": "stream",
     "text": [
      "Train Epoch: 81/1000. Iter:   18/  18. Data: 0.059s. alpha: 10. Batch: 0.108s. Loss: 0.8978.: 100%|█| 18/18 [00:01<00:00, \n"
     ]
    },
    {
     "name": "stdout",
     "output_type": "stream",
     "text": [
      "Global round: 81 | Average loss: 0.8914946152104272\n",
      "Global Round: 82\n"
     ]
    },
    {
     "name": "stderr",
     "output_type": "stream",
     "text": [
      "Train Epoch: 82/1000. Iter:   18/  18. Data: 0.060s. alpha: 10. Batch: 0.108s. Loss: 0.8643.: 100%|█| 18/18 [00:01<00:00, \n"
     ]
    },
    {
     "name": "stdout",
     "output_type": "stream",
     "text": [
      "Global round: 82 | Average loss: 0.8869150016042922\n",
      "Global Round: 83\n"
     ]
    },
    {
     "name": "stderr",
     "output_type": "stream",
     "text": [
      "Train Epoch: 83/1000. Iter:   18/  18. Data: 0.059s. alpha: 10. Batch: 0.109s. Loss: 0.8777.: 100%|█| 18/18 [00:01<00:00, \n"
     ]
    },
    {
     "name": "stdout",
     "output_type": "stream",
     "text": [
      "Global round: 83 | Average loss: 0.8916581273078918\n",
      "Global Round: 84\n"
     ]
    },
    {
     "name": "stderr",
     "output_type": "stream",
     "text": [
      "Train Epoch: 84/1000. Iter:   18/  18. Data: 0.061s. alpha: 10. Batch: 0.113s. Loss: 0.8795.: 100%|█| 18/18 [00:02<00:00, \n"
     ]
    },
    {
     "name": "stdout",
     "output_type": "stream",
     "text": [
      "Global round: 84 | Average loss: 0.88962608244684\n",
      "Global Round: 85\n"
     ]
    },
    {
     "name": "stderr",
     "output_type": "stream",
     "text": [
      "Train Epoch: 85/1000. Iter:   11/  18. Data: 0.066s. alpha: 10. Batch: 0.115s. Loss: 0.8690.:  61%|▌| 11/18 [00:01<00:00, "
     ]
    },
    {
     "name": "stdout",
     "output_type": "stream",
     "text": [
      "epoch 85 similarity : [0.19668421149253845, 0.20143158733844757, 0.20343436300754547, 0.2047194540500641, 0.20529811084270477]\n"
     ]
    },
    {
     "name": "stderr",
     "output_type": "stream",
     "text": [
      "Train Epoch: 85/1000. Iter:   18/  18. Data: 0.065s. alpha: 10. Batch: 0.116s. Loss: 0.8979.: 100%|█| 18/18 [00:02<00:00, \n"
     ]
    },
    {
     "name": "stdout",
     "output_type": "stream",
     "text": [
      "Global round: 85 | Average loss: 0.8844681514634026\n",
      "Global Round: 86\n"
     ]
    },
    {
     "name": "stderr",
     "output_type": "stream",
     "text": [
      "Train Epoch: 86/1000. Iter:   18/  18. Data: 0.059s. alpha: 10. Batch: 0.111s. Loss: 0.8768.: 100%|█| 18/18 [00:01<00:00, \n"
     ]
    },
    {
     "name": "stdout",
     "output_type": "stream",
     "text": [
      "Global round: 86 | Average loss: 0.8833341267373827\n",
      "Global Round: 87\n"
     ]
    },
    {
     "name": "stderr",
     "output_type": "stream",
     "text": [
      "Train Epoch: 87/1000. Iter:   18/  18. Data: 0.061s. alpha: 10. Batch: 0.111s. Loss: 0.9043.: 100%|█| 18/18 [00:01<00:00, \n"
     ]
    },
    {
     "name": "stdout",
     "output_type": "stream",
     "text": [
      "Global round: 87 | Average loss: 0.8836377660433451\n",
      "Global Round: 88\n"
     ]
    },
    {
     "name": "stderr",
     "output_type": "stream",
     "text": [
      "Train Epoch: 88/1000. Iter:   18/  18. Data: 0.060s. alpha: 10. Batch: 0.111s. Loss: 0.9184.: 100%|█| 18/18 [00:01<00:00, \n"
     ]
    },
    {
     "name": "stdout",
     "output_type": "stream",
     "text": [
      "Global round: 88 | Average loss: 0.8852258490191566\n",
      "Global Round: 89\n"
     ]
    },
    {
     "name": "stderr",
     "output_type": "stream",
     "text": [
      "Train Epoch: 89/1000. Iter:   18/  18. Data: 0.062s. alpha: 10. Batch: 0.111s. Loss: 0.8776.: 100%|█| 18/18 [00:01<00:00, \n"
     ]
    },
    {
     "name": "stdout",
     "output_type": "stream",
     "text": [
      "Global round: 89 | Average loss: 0.8818911380238004\n",
      "Global Round: 90\n"
     ]
    },
    {
     "name": "stderr",
     "output_type": "stream",
     "text": [
      "Train Epoch: 90/1000. Iter:   11/  18. Data: 0.068s. alpha: 10. Batch: 0.119s. Loss: 0.8865.:  61%|▌| 11/18 [00:01<00:00, "
     ]
    },
    {
     "name": "stdout",
     "output_type": "stream",
     "text": [
      "epoch 90 similarity : [0.18047623336315155, 0.1919557750225067, 0.19036920368671417, 0.19752804934978485, 0.19192063808441162]\n"
     ]
    },
    {
     "name": "stderr",
     "output_type": "stream",
     "text": [
      "Train Epoch: 90/1000. Iter:   18/  18. Data: 0.066s. alpha: 10. Batch: 0.117s. Loss: 0.8895.: 100%|█| 18/18 [00:02<00:00, \n"
     ]
    },
    {
     "name": "stdout",
     "output_type": "stream",
     "text": [
      "Global round: 90 | Average loss: 0.8839678400092654\n",
      "Global Round: 91\n"
     ]
    },
    {
     "name": "stderr",
     "output_type": "stream",
     "text": [
      "Train Epoch: 91/1000. Iter:   18/  18. Data: 0.059s. alpha: 10. Batch: 0.108s. Loss: 0.8831.: 100%|█| 18/18 [00:01<00:00, \n"
     ]
    },
    {
     "name": "stdout",
     "output_type": "stream",
     "text": [
      "Global round: 91 | Average loss: 0.8786174952983856\n",
      "Global Round: 92\n"
     ]
    },
    {
     "name": "stderr",
     "output_type": "stream",
     "text": [
      "Train Epoch: 92/1000. Iter:   18/  18. Data: 0.059s. alpha: 10. Batch: 0.108s. Loss: 0.8650.: 100%|█| 18/18 [00:01<00:00, \n"
     ]
    },
    {
     "name": "stdout",
     "output_type": "stream",
     "text": [
      "Global round: 92 | Average loss: 0.8693185018168555\n",
      "Global Round: 93\n"
     ]
    },
    {
     "name": "stderr",
     "output_type": "stream",
     "text": [
      "Train Epoch: 93/1000. Iter:   18/  18. Data: 0.058s. alpha: 10. Batch: 0.110s. Loss: 0.8432.: 100%|█| 18/18 [00:01<00:00, \n"
     ]
    },
    {
     "name": "stdout",
     "output_type": "stream",
     "text": [
      "Global round: 93 | Average loss: 0.8770538369814554\n",
      "Global Round: 94\n"
     ]
    },
    {
     "name": "stderr",
     "output_type": "stream",
     "text": [
      "Train Epoch: 94/1000. Iter:   18/  18. Data: 0.060s. alpha: 10. Batch: 0.110s. Loss: 0.8912.: 100%|█| 18/18 [00:01<00:00, \n"
     ]
    },
    {
     "name": "stdout",
     "output_type": "stream",
     "text": [
      "Global round: 94 | Average loss: 0.8726871543460422\n",
      "Global Round: 95\n"
     ]
    },
    {
     "name": "stderr",
     "output_type": "stream",
     "text": [
      "Train Epoch: 95/1000. Iter:   11/  18. Data: 0.068s. alpha: 10. Batch: 0.120s. Loss: 0.8570.:  61%|▌| 11/18 [00:01<00:00, "
     ]
    },
    {
     "name": "stdout",
     "output_type": "stream",
     "text": [
      "epoch 95 similarity : [0.15998134016990662, 0.17072035372257233, 0.16828733682632446, 0.16859908401966095, 0.17346522212028503]\n"
     ]
    },
    {
     "name": "stderr",
     "output_type": "stream",
     "text": [
      "Train Epoch: 95/1000. Iter:   18/  18. Data: 0.064s. alpha: 10. Batch: 0.118s. Loss: 0.8698.: 100%|█| 18/18 [00:02<00:00, \n"
     ]
    },
    {
     "name": "stdout",
     "output_type": "stream",
     "text": [
      "Global round: 95 | Average loss: 0.8655965891149309\n",
      "Global Round: 96\n"
     ]
    },
    {
     "name": "stderr",
     "output_type": "stream",
     "text": [
      "Train Epoch: 96/1000. Iter:   18/  18. Data: 0.061s. alpha: 10. Batch: 0.110s. Loss: 0.8720.: 100%|█| 18/18 [00:01<00:00, \n"
     ]
    },
    {
     "name": "stdout",
     "output_type": "stream",
     "text": [
      "Global round: 96 | Average loss: 0.8668121496836344\n",
      "Global Round: 97\n"
     ]
    },
    {
     "name": "stderr",
     "output_type": "stream",
     "text": [
      "Train Epoch: 97/1000. Iter:   18/  18. Data: 0.059s. alpha: 10. Batch: 0.112s. Loss: 0.8766.: 100%|█| 18/18 [00:02<00:00, \n"
     ]
    },
    {
     "name": "stdout",
     "output_type": "stream",
     "text": [
      "Global round: 97 | Average loss: 0.863093505303065\n",
      "Global Round: 98\n"
     ]
    },
    {
     "name": "stderr",
     "output_type": "stream",
     "text": [
      "Train Epoch: 98/1000. Iter:   18/  18. Data: 0.061s. alpha: 10. Batch: 0.110s. Loss: 0.8654.: 100%|█| 18/18 [00:01<00:00, \n"
     ]
    },
    {
     "name": "stdout",
     "output_type": "stream",
     "text": [
      "Global round: 98 | Average loss: 0.8645163708262973\n",
      "Global Round: 99\n"
     ]
    },
    {
     "name": "stderr",
     "output_type": "stream",
     "text": [
      "Train Epoch: 99/1000. Iter:   18/  18. Data: 0.060s. alpha: 10. Batch: 0.110s. Loss: 0.8210.: 100%|█| 18/18 [00:01<00:00, \n"
     ]
    },
    {
     "name": "stdout",
     "output_type": "stream",
     "text": [
      "Global round: 99 | Average loss: 0.8589935236506991\n",
      "Global Round: 100\n"
     ]
    },
    {
     "name": "stderr",
     "output_type": "stream",
     "text": [
      "Train Epoch: 100/1000. Iter:   11/  18. Data: 0.066s. alpha: 10. Batch: 0.118s. Loss: 0.8514.:  61%|▌| 11/18 [00:01<00:00,"
     ]
    },
    {
     "name": "stdout",
     "output_type": "stream",
     "text": [
      "epoch 100 similarity : [0.2009507417678833, 0.21389122307300568, 0.21539586782455444, 0.2033151239156723, 0.21582326292991638]\n"
     ]
    },
    {
     "name": "stderr",
     "output_type": "stream",
     "text": [
      "Train Epoch: 100/1000. Iter:   18/  18. Data: 0.062s. alpha: 10. Batch: 0.113s. Loss: 0.8896.: 100%|█| 18/18 [00:02<00:00,\n"
     ]
    },
    {
     "name": "stdout",
     "output_type": "stream",
     "text": [
      "Global round: 100 | Average loss: 0.8682490852144029\n",
      "Global Round: 101\n"
     ]
    },
    {
     "name": "stderr",
     "output_type": "stream",
     "text": [
      "Train Epoch: 101/1000. Iter:   18/  18. Data: 0.064s. alpha: 10. Batch: 0.114s. Loss: 0.8890.: 100%|█| 18/18 [00:02<00:00,\n"
     ]
    },
    {
     "name": "stdout",
     "output_type": "stream",
     "text": [
      "Global round: 101 | Average loss: 0.8616122470961677\n",
      "Global Round: 102\n"
     ]
    },
    {
     "name": "stderr",
     "output_type": "stream",
     "text": [
      "Train Epoch: 102/1000. Iter:   18/  18. Data: 0.058s. alpha: 10. Batch: 0.109s. Loss: 0.8849.: 100%|█| 18/18 [00:01<00:00,\n"
     ]
    },
    {
     "name": "stdout",
     "output_type": "stream",
     "text": [
      "Global round: 102 | Average loss: 0.8635288543171353\n",
      "Global Round: 103\n"
     ]
    },
    {
     "name": "stderr",
     "output_type": "stream",
     "text": [
      "Train Epoch: 103/1000. Iter:   18/  18. Data: 0.060s. alpha: 10. Batch: 0.108s. Loss: 0.8496.: 100%|█| 18/18 [00:01<00:00,\n"
     ]
    },
    {
     "name": "stdout",
     "output_type": "stream",
     "text": [
      "Global round: 103 | Average loss: 0.8613017665015327\n",
      "Global Round: 104\n"
     ]
    },
    {
     "name": "stderr",
     "output_type": "stream",
     "text": [
      "Train Epoch: 104/1000. Iter:   18/  18. Data: 0.059s. alpha: 10. Batch: 0.109s. Loss: 0.8518.: 100%|█| 18/18 [00:01<00:00,\n"
     ]
    },
    {
     "name": "stdout",
     "output_type": "stream",
     "text": [
      "Global round: 104 | Average loss: 0.8603454265329573\n",
      "Global Round: 105\n"
     ]
    },
    {
     "name": "stderr",
     "output_type": "stream",
     "text": [
      "Train Epoch: 105/1000. Iter:   11/  18. Data: 0.071s. alpha: 10. Batch: 0.119s. Loss: 0.8741.:  61%|▌| 11/18 [00:01<00:00,"
     ]
    },
    {
     "name": "stdout",
     "output_type": "stream",
     "text": [
      "epoch 105 similarity : [0.223638653755188, 0.23304635286331177, 0.2323552370071411, 0.23271282017230988, 0.2319817990064621]\n"
     ]
    },
    {
     "name": "stderr",
     "output_type": "stream",
     "text": [
      "Train Epoch: 105/1000. Iter:   18/  18. Data: 0.065s. alpha: 10. Batch: 0.113s. Loss: 0.8715.: 100%|█| 18/18 [00:02<00:00,\n"
     ]
    },
    {
     "name": "stdout",
     "output_type": "stream",
     "text": [
      "Global round: 105 | Average loss: 0.8577671117252774\n",
      "Global Round: 106\n"
     ]
    },
    {
     "name": "stderr",
     "output_type": "stream",
     "text": [
      "Train Epoch: 106/1000. Iter:   18/  18. Data: 0.060s. alpha: 10. Batch: 0.110s. Loss: 0.8801.: 100%|█| 18/18 [00:01<00:00,\n"
     ]
    },
    {
     "name": "stdout",
     "output_type": "stream",
     "text": [
      "Global round: 106 | Average loss: 0.856353180276023\n",
      "Global Round: 107\n"
     ]
    },
    {
     "name": "stderr",
     "output_type": "stream",
     "text": [
      "Train Epoch: 107/1000. Iter:   18/  18. Data: 0.064s. alpha: 10. Batch: 0.115s. Loss: 0.8432.: 100%|█| 18/18 [00:02<00:00,\n"
     ]
    },
    {
     "name": "stdout",
     "output_type": "stream",
     "text": [
      "Global round: 107 | Average loss: 0.8518165085050795\n",
      "Global Round: 108\n"
     ]
    },
    {
     "name": "stderr",
     "output_type": "stream",
     "text": [
      "Train Epoch: 108/1000. Iter:   18/  18. Data: 0.059s. alpha: 10. Batch: 0.109s. Loss: 0.8469.: 100%|█| 18/18 [00:01<00:00,\n"
     ]
    },
    {
     "name": "stdout",
     "output_type": "stream",
     "text": [
      "Global round: 108 | Average loss: 0.8526507682270474\n",
      "Global Round: 109\n"
     ]
    },
    {
     "name": "stderr",
     "output_type": "stream",
     "text": [
      "Train Epoch: 109/1000. Iter:   18/  18. Data: 0.057s. alpha: 10. Batch: 0.108s. Loss: 0.8540.: 100%|█| 18/18 [00:01<00:00,\n"
     ]
    },
    {
     "name": "stdout",
     "output_type": "stream",
     "text": [
      "Global round: 109 | Average loss: 0.8521880838606093\n",
      "Global Round: 110\n"
     ]
    },
    {
     "name": "stderr",
     "output_type": "stream",
     "text": [
      "Train Epoch: 110/1000. Iter:   11/  18. Data: 0.069s. alpha: 10. Batch: 0.118s. Loss: 0.8761.:  61%|▌| 11/18 [00:01<00:01,"
     ]
    },
    {
     "name": "stdout",
     "output_type": "stream",
     "text": [
      "epoch 110 similarity : [0.19585031270980835, 0.20247775316238403, 0.20168529450893402, 0.2060878723859787, 0.21090658009052277]\n"
     ]
    },
    {
     "name": "stderr",
     "output_type": "stream",
     "text": [
      "Train Epoch: 110/1000. Iter:   18/  18. Data: 0.064s. alpha: 10. Batch: 0.113s. Loss: 0.8571.: 100%|█| 18/18 [00:02<00:00,\n"
     ]
    },
    {
     "name": "stdout",
     "output_type": "stream",
     "text": [
      "Global round: 110 | Average loss: 0.8556918104489645\n",
      "Global Round: 111\n"
     ]
    },
    {
     "name": "stderr",
     "output_type": "stream",
     "text": [
      "Train Epoch: 111/1000. Iter:   18/  18. Data: 0.059s. alpha: 10. Batch: 0.110s. Loss: 0.8679.: 100%|█| 18/18 [00:01<00:00,\n"
     ]
    },
    {
     "name": "stdout",
     "output_type": "stream",
     "text": [
      "Global round: 111 | Average loss: 0.8493629495302836\n",
      "Global Round: 112\n"
     ]
    },
    {
     "name": "stderr",
     "output_type": "stream",
     "text": [
      "Train Epoch: 112/1000. Iter:   18/  18. Data: 0.058s. alpha: 10. Batch: 0.109s. Loss: 0.8865.: 100%|█| 18/18 [00:01<00:00,\n"
     ]
    },
    {
     "name": "stdout",
     "output_type": "stream",
     "text": [
      "Global round: 112 | Average loss: 0.8386691245767806\n",
      "Global Round: 113\n"
     ]
    },
    {
     "name": "stderr",
     "output_type": "stream",
     "text": [
      "Train Epoch: 113/1000. Iter:   18/  18. Data: 0.061s. alpha: 10. Batch: 0.113s. Loss: 0.8428.: 100%|█| 18/18 [00:02<00:00,\n"
     ]
    },
    {
     "name": "stdout",
     "output_type": "stream",
     "text": [
      "Global round: 113 | Average loss: 0.8462830351458656\n",
      "Global Round: 114\n"
     ]
    },
    {
     "name": "stderr",
     "output_type": "stream",
     "text": [
      "Train Epoch: 114/1000. Iter:   18/  18. Data: 0.062s. alpha: 10. Batch: 0.112s. Loss: 0.7778.: 100%|█| 18/18 [00:02<00:00,\n"
     ]
    },
    {
     "name": "stdout",
     "output_type": "stream",
     "text": [
      "Global round: 114 | Average loss: 0.8378717369503446\n",
      "Global Round: 115\n"
     ]
    },
    {
     "name": "stderr",
     "output_type": "stream",
     "text": [
      "Train Epoch: 115/1000. Iter:   11/  18. Data: 0.070s. alpha: 10. Batch: 0.119s. Loss: 0.8312.:  61%|▌| 11/18 [00:01<00:01,"
     ]
    },
    {
     "name": "stdout",
     "output_type": "stream",
     "text": [
      "epoch 115 similarity : [0.1883884072303772, 0.18851689994335175, 0.19642814993858337, 0.1914239376783371, 0.20581966638565063]\n"
     ]
    },
    {
     "name": "stderr",
     "output_type": "stream",
     "text": [
      "Train Epoch: 115/1000. Iter:   18/  18. Data: 0.065s. alpha: 10. Batch: 0.114s. Loss: 0.8499.: 100%|█| 18/18 [00:02<00:00,\n"
     ]
    },
    {
     "name": "stdout",
     "output_type": "stream",
     "text": [
      "Global round: 115 | Average loss: 0.8439824283123016\n",
      "Global Round: 116\n"
     ]
    },
    {
     "name": "stderr",
     "output_type": "stream",
     "text": [
      "Train Epoch: 116/1000. Iter:   18/  18. Data: 0.060s. alpha: 10. Batch: 0.111s. Loss: 0.8037.: 100%|█| 18/18 [00:01<00:00,\n"
     ]
    },
    {
     "name": "stdout",
     "output_type": "stream",
     "text": [
      "Global round: 116 | Average loss: 0.8361117674244775\n",
      "Global Round: 117\n"
     ]
    },
    {
     "name": "stderr",
     "output_type": "stream",
     "text": [
      "Train Epoch: 117/1000. Iter:   18/  18. Data: 0.061s. alpha: 10. Batch: 0.110s. Loss: 0.8462.: 100%|█| 18/18 [00:01<00:00,\n"
     ]
    },
    {
     "name": "stdout",
     "output_type": "stream",
     "text": [
      "Global round: 117 | Average loss: 0.8387099570698209\n",
      "Global Round: 118\n"
     ]
    },
    {
     "name": "stderr",
     "output_type": "stream",
     "text": [
      "Train Epoch: 118/1000. Iter:   18/  18. Data: 0.059s. alpha: 10. Batch: 0.109s. Loss: 0.8178.: 100%|█| 18/18 [00:01<00:00,\n"
     ]
    },
    {
     "name": "stdout",
     "output_type": "stream",
     "text": [
      "Global round: 118 | Average loss: 0.835903137922287\n",
      "Global Round: 119\n"
     ]
    },
    {
     "name": "stderr",
     "output_type": "stream",
     "text": [
      "Train Epoch: 119/1000. Iter:   18/  18. Data: 0.061s. alpha: 10. Batch: 0.112s. Loss: 0.8196.: 100%|█| 18/18 [00:02<00:00,\n"
     ]
    },
    {
     "name": "stdout",
     "output_type": "stream",
     "text": [
      "Global round: 119 | Average loss: 0.8361747496657901\n",
      "Global Round: 120\n"
     ]
    },
    {
     "name": "stderr",
     "output_type": "stream",
     "text": [
      "Train Epoch: 120/1000. Iter:   11/  18. Data: 0.065s. alpha: 10. Batch: 0.113s. Loss: 0.8463.:  61%|▌| 11/18 [00:01<00:00,"
     ]
    },
    {
     "name": "stdout",
     "output_type": "stream",
     "text": [
      "epoch 120 similarity : [0.18619275093078613, 0.17459973692893982, 0.18772517144680023, 0.17673026025295258, 0.18299859762191772]\n"
     ]
    },
    {
     "name": "stderr",
     "output_type": "stream",
     "text": [
      "Train Epoch: 120/1000. Iter:   18/  18. Data: 0.064s. alpha: 10. Batch: 0.113s. Loss: 0.8265.: 100%|█| 18/18 [00:02<00:00,\n"
     ]
    },
    {
     "name": "stdout",
     "output_type": "stream",
     "text": [
      "Global round: 120 | Average loss: 0.8355340196026696\n",
      "Global Round: 121\n"
     ]
    },
    {
     "name": "stderr",
     "output_type": "stream",
     "text": [
      "Train Epoch: 121/1000. Iter:   18/  18. Data: 0.059s. alpha: 10. Batch: 0.110s. Loss: 0.8219.: 100%|█| 18/18 [00:01<00:00,\n"
     ]
    },
    {
     "name": "stdout",
     "output_type": "stream",
     "text": [
      "Global round: 121 | Average loss: 0.839740965101454\n",
      "Global Round: 122\n"
     ]
    },
    {
     "name": "stderr",
     "output_type": "stream",
     "text": [
      "Train Epoch: 122/1000. Iter:   18/  18. Data: 0.059s. alpha: 10. Batch: 0.107s. Loss: 0.8291.: 100%|█| 18/18 [00:01<00:00,\n"
     ]
    },
    {
     "name": "stdout",
     "output_type": "stream",
     "text": [
      "Global round: 122 | Average loss: 0.8316928909884559\n",
      "Global Round: 123\n"
     ]
    },
    {
     "name": "stderr",
     "output_type": "stream",
     "text": [
      "Train Epoch: 123/1000. Iter:   18/  18. Data: 0.058s. alpha: 10. Batch: 0.107s. Loss: 0.8183.: 100%|█| 18/18 [00:01<00:00,\n"
     ]
    },
    {
     "name": "stdout",
     "output_type": "stream",
     "text": [
      "Global round: 123 | Average loss: 0.8301658795939552\n",
      "Global Round: 124\n"
     ]
    },
    {
     "name": "stderr",
     "output_type": "stream",
     "text": [
      "Train Epoch: 124/1000. Iter:   18/  18. Data: 0.061s. alpha: 10. Batch: 0.108s. Loss: 0.8457.: 100%|█| 18/18 [00:01<00:00,\n"
     ]
    },
    {
     "name": "stdout",
     "output_type": "stream",
     "text": [
      "Global round: 124 | Average loss: 0.8299022614955902\n",
      "Global Round: 125\n"
     ]
    },
    {
     "name": "stderr",
     "output_type": "stream",
     "text": [
      "Train Epoch: 125/1000. Iter:   11/  18. Data: 0.069s. alpha: 10. Batch: 0.119s. Loss: 0.7985.:  61%|▌| 11/18 [00:01<00:00,"
     ]
    },
    {
     "name": "stdout",
     "output_type": "stream",
     "text": [
      "epoch 125 similarity : [0.21805676817893982, 0.20580558478832245, 0.2128843516111374, 0.21565139293670654, 0.21017737686634064]\n"
     ]
    },
    {
     "name": "stderr",
     "output_type": "stream",
     "text": [
      "Train Epoch: 125/1000. Iter:   18/  18. Data: 0.067s. alpha: 10. Batch: 0.117s. Loss: 0.8259.: 100%|█| 18/18 [00:02<00:00,\n"
     ]
    },
    {
     "name": "stdout",
     "output_type": "stream",
     "text": [
      "Global round: 125 | Average loss: 0.8314845893118117\n",
      "Global Round: 126\n"
     ]
    },
    {
     "name": "stderr",
     "output_type": "stream",
     "text": [
      "Train Epoch: 126/1000. Iter:   18/  18. Data: 0.060s. alpha: 10. Batch: 0.109s. Loss: 0.8361.: 100%|█| 18/18 [00:01<00:00,\n"
     ]
    },
    {
     "name": "stdout",
     "output_type": "stream",
     "text": [
      "Global round: 126 | Average loss: 0.8328455090522766\n",
      "Global Round: 127\n"
     ]
    },
    {
     "name": "stderr",
     "output_type": "stream",
     "text": [
      "Train Epoch: 127/1000. Iter:   18/  18. Data: 0.059s. alpha: 10. Batch: 0.109s. Loss: 0.8533.: 100%|█| 18/18 [00:01<00:00,\n"
     ]
    },
    {
     "name": "stdout",
     "output_type": "stream",
     "text": [
      "Global round: 127 | Average loss: 0.8231213457054563\n",
      "Global Round: 128\n"
     ]
    },
    {
     "name": "stderr",
     "output_type": "stream",
     "text": [
      "Train Epoch: 128/1000. Iter:   18/  18. Data: 0.058s. alpha: 10. Batch: 0.108s. Loss: 0.8226.: 100%|█| 18/18 [00:01<00:00,\n"
     ]
    },
    {
     "name": "stdout",
     "output_type": "stream",
     "text": [
      "Global round: 128 | Average loss: 0.8263169725735983\n",
      "Global Round: 129\n"
     ]
    },
    {
     "name": "stderr",
     "output_type": "stream",
     "text": [
      "Train Epoch: 129/1000. Iter:   18/  18. Data: 0.060s. alpha: 10. Batch: 0.108s. Loss: 0.7983.: 100%|█| 18/18 [00:01<00:00,\n"
     ]
    },
    {
     "name": "stdout",
     "output_type": "stream",
     "text": [
      "Global round: 129 | Average loss: 0.8228924406899346\n",
      "Global Round: 130\n"
     ]
    },
    {
     "name": "stderr",
     "output_type": "stream",
     "text": [
      "Train Epoch: 130/1000. Iter:   11/  18. Data: 0.068s. alpha: 10. Batch: 0.121s. Loss: 0.8144.:  61%|▌| 11/18 [00:01<00:00,"
     ]
    },
    {
     "name": "stdout",
     "output_type": "stream",
     "text": [
      "epoch 130 similarity : [0.17740267515182495, 0.16246479749679565, 0.17230132222175598, 0.18373245000839233, 0.16862495243549347]\n"
     ]
    },
    {
     "name": "stderr",
     "output_type": "stream",
     "text": [
      "Train Epoch: 130/1000. Iter:   18/  18. Data: 0.064s. alpha: 10. Batch: 0.119s. Loss: 0.8254.: 100%|█| 18/18 [00:02<00:00,\n"
     ]
    },
    {
     "name": "stdout",
     "output_type": "stream",
     "text": [
      "Global round: 130 | Average loss: 0.8295857244067721\n",
      "Global Round: 131\n"
     ]
    },
    {
     "name": "stderr",
     "output_type": "stream",
     "text": [
      "Train Epoch: 131/1000. Iter:   18/  18. Data: 0.060s. alpha: 10. Batch: 0.108s. Loss: 0.8274.: 100%|█| 18/18 [00:01<00:00,\n"
     ]
    },
    {
     "name": "stdout",
     "output_type": "stream",
     "text": [
      "Global round: 131 | Average loss: 0.8329770598146651\n",
      "Global Round: 132\n"
     ]
    },
    {
     "name": "stderr",
     "output_type": "stream",
     "text": [
      "Train Epoch: 132/1000. Iter:   18/  18. Data: 0.058s. alpha: 10. Batch: 0.108s. Loss: 0.8477.: 100%|█| 18/18 [00:01<00:00,\n"
     ]
    },
    {
     "name": "stdout",
     "output_type": "stream",
     "text": [
      "Global round: 132 | Average loss: 0.8279795746008555\n",
      "Global Round: 133\n"
     ]
    },
    {
     "name": "stderr",
     "output_type": "stream",
     "text": [
      "Train Epoch: 133/1000. Iter:   18/  18. Data: 0.060s. alpha: 10. Batch: 0.108s. Loss: 0.8352.: 100%|█| 18/18 [00:01<00:00,\n"
     ]
    },
    {
     "name": "stdout",
     "output_type": "stream",
     "text": [
      "Global round: 133 | Average loss: 0.8195771674315134\n",
      "Global Round: 134\n"
     ]
    },
    {
     "name": "stderr",
     "output_type": "stream",
     "text": [
      "Train Epoch: 134/1000. Iter:   18/  18. Data: 0.060s. alpha: 10. Batch: 0.110s. Loss: 0.8540.: 100%|█| 18/18 [00:01<00:00,\n"
     ]
    },
    {
     "name": "stdout",
     "output_type": "stream",
     "text": [
      "Global round: 134 | Average loss: 0.824520531627867\n",
      "Global Round: 135\n"
     ]
    },
    {
     "name": "stderr",
     "output_type": "stream",
     "text": [
      "Train Epoch: 135/1000. Iter:   11/  18. Data: 0.067s. alpha: 10. Batch: 0.120s. Loss: 0.8145.:  61%|▌| 11/18 [00:01<00:00,"
     ]
    },
    {
     "name": "stdout",
     "output_type": "stream",
     "text": [
      "epoch 135 similarity : [0.16452717781066895, 0.17110323905944824, 0.1670626401901245, 0.17453283071517944, 0.1717778742313385]\n"
     ]
    },
    {
     "name": "stderr",
     "output_type": "stream",
     "text": [
      "Train Epoch: 135/1000. Iter:   18/  18. Data: 0.063s. alpha: 10. Batch: 0.114s. Loss: 0.8170.: 100%|█| 18/18 [00:02<00:00,\n"
     ]
    },
    {
     "name": "stdout",
     "output_type": "stream",
     "text": [
      "Global round: 135 | Average loss: 0.8184895184304979\n",
      "Global Round: 136\n"
     ]
    },
    {
     "name": "stderr",
     "output_type": "stream",
     "text": [
      "Train Epoch: 136/1000. Iter:   18/  18. Data: 0.064s. alpha: 10. Batch: 0.113s. Loss: 0.8410.: 100%|█| 18/18 [00:02<00:00,\n"
     ]
    },
    {
     "name": "stdout",
     "output_type": "stream",
     "text": [
      "Global round: 136 | Average loss: 0.8213123612933688\n",
      "Global Round: 137\n"
     ]
    },
    {
     "name": "stderr",
     "output_type": "stream",
     "text": [
      "Train Epoch: 137/1000. Iter:   18/  18. Data: 0.058s. alpha: 10. Batch: 0.109s. Loss: 0.8374.: 100%|█| 18/18 [00:01<00:00,\n"
     ]
    },
    {
     "name": "stdout",
     "output_type": "stream",
     "text": [
      "Global round: 137 | Average loss: 0.8259532517857022\n",
      "Global Round: 138\n"
     ]
    },
    {
     "name": "stderr",
     "output_type": "stream",
     "text": [
      "Train Epoch: 138/1000. Iter:   18/  18. Data: 0.060s. alpha: 10. Batch: 0.109s. Loss: 0.8235.: 100%|█| 18/18 [00:01<00:00,\n"
     ]
    },
    {
     "name": "stdout",
     "output_type": "stream",
     "text": [
      "Global round: 138 | Average loss: 0.8120622469319237\n",
      "Global Round: 139\n"
     ]
    },
    {
     "name": "stderr",
     "output_type": "stream",
     "text": [
      "Train Epoch: 139/1000. Iter:   18/  18. Data: 0.058s. alpha: 10. Batch: 0.108s. Loss: 0.8386.: 100%|█| 18/18 [00:01<00:00,\n"
     ]
    },
    {
     "name": "stdout",
     "output_type": "stream",
     "text": [
      "Global round: 139 | Average loss: 0.8176282511817085\n",
      "Global Round: 140\n"
     ]
    },
    {
     "name": "stderr",
     "output_type": "stream",
     "text": [
      "Train Epoch: 140/1000. Iter:   11/  18. Data: 0.071s. alpha: 10. Batch: 0.119s. Loss: 0.8131.:  61%|▌| 11/18 [00:01<00:00,"
     ]
    },
    {
     "name": "stdout",
     "output_type": "stream",
     "text": [
      "epoch 140 similarity : [0.1969766765832901, 0.20545192062854767, 0.20528782904148102, 0.19879694283008575, 0.2185005396604538]\n"
     ]
    },
    {
     "name": "stderr",
     "output_type": "stream",
     "text": [
      "Train Epoch: 140/1000. Iter:   18/  18. Data: 0.066s. alpha: 10. Batch: 0.114s. Loss: 0.8434.: 100%|█| 18/18 [00:02<00:00,\n"
     ]
    },
    {
     "name": "stdout",
     "output_type": "stream",
     "text": [
      "Global round: 140 | Average loss: 0.8205834031105042\n",
      "Global Round: 141\n"
     ]
    },
    {
     "name": "stderr",
     "output_type": "stream",
     "text": [
      "Train Epoch: 141/1000. Iter:   18/  18. Data: 0.060s. alpha: 10. Batch: 0.111s. Loss: 0.8264.: 100%|█| 18/18 [00:01<00:00,\n"
     ]
    },
    {
     "name": "stdout",
     "output_type": "stream",
     "text": [
      "Global round: 141 | Average loss: 0.8166300422615476\n",
      "Global Round: 142\n"
     ]
    },
    {
     "name": "stderr",
     "output_type": "stream",
     "text": [
      "Train Epoch: 142/1000. Iter:   18/  18. Data: 0.066s. alpha: 10. Batch: 0.115s. Loss: 0.8827.: 100%|█| 18/18 [00:02<00:00,\n"
     ]
    },
    {
     "name": "stdout",
     "output_type": "stream",
     "text": [
      "Global round: 142 | Average loss: 0.8179627027776506\n",
      "Global Round: 143\n"
     ]
    },
    {
     "name": "stderr",
     "output_type": "stream",
     "text": [
      "Train Epoch: 143/1000. Iter:   18/  18. Data: 0.060s. alpha: 10. Batch: 0.110s. Loss: 0.7892.: 100%|█| 18/18 [00:01<00:00,\n"
     ]
    },
    {
     "name": "stdout",
     "output_type": "stream",
     "text": [
      "Global round: 143 | Average loss: 0.8175771170192294\n",
      "Global Round: 144\n"
     ]
    },
    {
     "name": "stderr",
     "output_type": "stream",
     "text": [
      "Train Epoch: 144/1000. Iter:   18/  18. Data: 0.059s. alpha: 10. Batch: 0.110s. Loss: 0.8111.: 100%|█| 18/18 [00:01<00:00,\n"
     ]
    },
    {
     "name": "stdout",
     "output_type": "stream",
     "text": [
      "Global round: 144 | Average loss: 0.816261887550354\n",
      "Global Round: 145\n"
     ]
    },
    {
     "name": "stderr",
     "output_type": "stream",
     "text": [
      "Train Epoch: 145/1000. Iter:   11/  18. Data: 0.069s. alpha: 10. Batch: 0.118s. Loss: 0.8322.:  61%|▌| 11/18 [00:01<00:01,"
     ]
    },
    {
     "name": "stdout",
     "output_type": "stream",
     "text": [
      "epoch 145 similarity : [0.1729045957326889, 0.1652265191078186, 0.18317976593971252, 0.16837340593338013, 0.1778058409690857]\n"
     ]
    },
    {
     "name": "stderr",
     "output_type": "stream",
     "text": [
      "Train Epoch: 145/1000. Iter:   18/  18. Data: 0.064s. alpha: 10. Batch: 0.113s. Loss: 0.8115.: 100%|█| 18/18 [00:02<00:00,\n"
     ]
    },
    {
     "name": "stdout",
     "output_type": "stream",
     "text": [
      "Global round: 145 | Average loss: 0.8215934402412839\n",
      "Global Round: 146\n"
     ]
    },
    {
     "name": "stderr",
     "output_type": "stream",
     "text": [
      "Train Epoch: 146/1000. Iter:   18/  18. Data: 0.058s. alpha: 10. Batch: 0.109s. Loss: 0.7991.: 100%|█| 18/18 [00:01<00:00,\n"
     ]
    },
    {
     "name": "stdout",
     "output_type": "stream",
     "text": [
      "Global round: 146 | Average loss: 0.8130050665802426\n",
      "Global Round: 147\n"
     ]
    },
    {
     "name": "stderr",
     "output_type": "stream",
     "text": [
      "Train Epoch: 147/1000. Iter:   18/  18. Data: 0.059s. alpha: 10. Batch: 0.110s. Loss: 0.8276.: 100%|█| 18/18 [00:01<00:00,\n"
     ]
    },
    {
     "name": "stdout",
     "output_type": "stream",
     "text": [
      "Global round: 147 | Average loss: 0.8213285075293647\n",
      "Global Round: 148\n"
     ]
    },
    {
     "name": "stderr",
     "output_type": "stream",
     "text": [
      "Train Epoch: 148/1000. Iter:   18/  18. Data: 0.061s. alpha: 10. Batch: 0.111s. Loss: 0.8037.: 100%|█| 18/18 [00:01<00:00,\n"
     ]
    },
    {
     "name": "stdout",
     "output_type": "stream",
     "text": [
      "Global round: 148 | Average loss: 0.8193340864446428\n",
      "Global Round: 149\n"
     ]
    },
    {
     "name": "stderr",
     "output_type": "stream",
     "text": [
      "Train Epoch: 149/1000. Iter:   18/  18. Data: 0.061s. alpha: 10. Batch: 0.109s. Loss: 0.8531.: 100%|█| 18/18 [00:01<00:00,\n"
     ]
    },
    {
     "name": "stdout",
     "output_type": "stream",
     "text": [
      "Global round: 149 | Average loss: 0.8216578596168094\n",
      "Global Round: 150\n"
     ]
    },
    {
     "name": "stderr",
     "output_type": "stream",
     "text": [
      "Train Epoch: 150/1000. Iter:   11/  18. Data: 0.070s. alpha: 10. Batch: 0.119s. Loss: 0.8230.:  61%|▌| 11/18 [00:01<00:01,"
     ]
    },
    {
     "name": "stdout",
     "output_type": "stream",
     "text": [
      "epoch 150 similarity : [0.17001740634441376, 0.16591955721378326, 0.18778754770755768, 0.17419487237930298, 0.16106437146663666]\n"
     ]
    },
    {
     "name": "stderr",
     "output_type": "stream",
     "text": [
      "Train Epoch: 150/1000. Iter:   18/  18. Data: 0.065s. alpha: 10. Batch: 0.113s. Loss: 0.8016.: 100%|█| 18/18 [00:02<00:00,\n"
     ]
    },
    {
     "name": "stdout",
     "output_type": "stream",
     "text": [
      "Global round: 150 | Average loss: 0.8129025730821822\n",
      "Global Round: 151\n"
     ]
    },
    {
     "name": "stderr",
     "output_type": "stream",
     "text": [
      "Train Epoch: 151/1000. Iter:   18/  18. Data: 0.059s. alpha: 10. Batch: 0.109s. Loss: 0.7919.: 100%|█| 18/18 [00:01<00:00,\n"
     ]
    },
    {
     "name": "stdout",
     "output_type": "stream",
     "text": [
      "Global round: 151 | Average loss: 0.8098008400864072\n",
      "Global Round: 152\n"
     ]
    },
    {
     "name": "stderr",
     "output_type": "stream",
     "text": [
      "Train Epoch: 152/1000. Iter:   18/  18. Data: 0.062s. alpha: 10. Batch: 0.112s. Loss: 0.7815.: 100%|█| 18/18 [00:02<00:00,\n"
     ]
    },
    {
     "name": "stdout",
     "output_type": "stream",
     "text": [
      "Global round: 152 | Average loss: 0.8091011908319261\n",
      "Global Round: 153\n"
     ]
    },
    {
     "name": "stderr",
     "output_type": "stream",
     "text": [
      "Train Epoch: 153/1000. Iter:   18/  18. Data: 0.060s. alpha: 10. Batch: 0.110s. Loss: 0.8155.: 100%|█| 18/18 [00:01<00:00,\n"
     ]
    },
    {
     "name": "stdout",
     "output_type": "stream",
     "text": [
      "Global round: 153 | Average loss: 0.8141232364707522\n",
      "Global Round: 154\n"
     ]
    },
    {
     "name": "stderr",
     "output_type": "stream",
     "text": [
      "Train Epoch: 154/1000. Iter:   18/  18. Data: 0.061s. alpha: 10. Batch: 0.113s. Loss: 0.8069.: 100%|█| 18/18 [00:02<00:00,\n"
     ]
    },
    {
     "name": "stdout",
     "output_type": "stream",
     "text": [
      "Global round: 154 | Average loss: 0.8064366214805179\n",
      "Global Round: 155\n"
     ]
    },
    {
     "name": "stderr",
     "output_type": "stream",
     "text": [
      "Train Epoch: 155/1000. Iter:   11/  18. Data: 0.066s. alpha: 10. Batch: 0.114s. Loss: 0.8268.:  61%|▌| 11/18 [00:01<00:00,"
     ]
    },
    {
     "name": "stdout",
     "output_type": "stream",
     "text": [
      "epoch 155 similarity : [0.17691779136657715, 0.1854565292596817, 0.19606924057006836, 0.18553651869297028, 0.1867809146642685]\n"
     ]
    },
    {
     "name": "stderr",
     "output_type": "stream",
     "text": [
      "Train Epoch: 155/1000. Iter:   18/  18. Data: 0.065s. alpha: 10. Batch: 0.115s. Loss: 0.7961.: 100%|█| 18/18 [00:02<00:00,\n"
     ]
    },
    {
     "name": "stdout",
     "output_type": "stream",
     "text": [
      "Global round: 155 | Average loss: 0.8083604408635033\n",
      "Global Round: 156\n"
     ]
    },
    {
     "name": "stderr",
     "output_type": "stream",
     "text": [
      "Train Epoch: 156/1000. Iter:   18/  18. Data: 0.059s. alpha: 10. Batch: 0.110s. Loss: 0.8181.: 100%|█| 18/18 [00:01<00:00,\n"
     ]
    },
    {
     "name": "stdout",
     "output_type": "stream",
     "text": [
      "Global round: 156 | Average loss: 0.8116595844427744\n",
      "Global Round: 157\n"
     ]
    },
    {
     "name": "stderr",
     "output_type": "stream",
     "text": [
      "Train Epoch: 157/1000. Iter:   18/  18. Data: 0.060s. alpha: 10. Batch: 0.108s. Loss: 0.8137.: 100%|█| 18/18 [00:01<00:00,\n"
     ]
    },
    {
     "name": "stdout",
     "output_type": "stream",
     "text": [
      "Global round: 157 | Average loss: 0.8055659135182699\n",
      "Global Round: 158\n"
     ]
    },
    {
     "name": "stderr",
     "output_type": "stream",
     "text": [
      "Train Epoch: 158/1000. Iter:   18/  18. Data: 0.059s. alpha: 10. Batch: 0.109s. Loss: 0.8085.: 100%|█| 18/18 [00:01<00:00,\n"
     ]
    },
    {
     "name": "stdout",
     "output_type": "stream",
     "text": [
      "Global round: 158 | Average loss: 0.8005489971902635\n",
      "Global Round: 159\n"
     ]
    },
    {
     "name": "stderr",
     "output_type": "stream",
     "text": [
      "Train Epoch: 159/1000. Iter:   18/  18. Data: 0.060s. alpha: 10. Batch: 0.108s. Loss: 0.7869.: 100%|█| 18/18 [00:01<00:00,\n"
     ]
    },
    {
     "name": "stdout",
     "output_type": "stream",
     "text": [
      "Global round: 159 | Average loss: 0.8118298616674211\n",
      "Global Round: 160\n"
     ]
    },
    {
     "name": "stderr",
     "output_type": "stream",
     "text": [
      "Train Epoch: 160/1000. Iter:   11/  18. Data: 0.068s. alpha: 10. Batch: 0.118s. Loss: 0.8284.:  61%|▌| 11/18 [00:01<00:00,"
     ]
    },
    {
     "name": "stdout",
     "output_type": "stream",
     "text": [
      "epoch 160 similarity : [0.14675092697143555, 0.14840465784072876, 0.16514553129673004, 0.16115303337574005, 0.16508165001869202]\n"
     ]
    },
    {
     "name": "stderr",
     "output_type": "stream",
     "text": [
      "Train Epoch: 160/1000. Iter:   18/  18. Data: 0.067s. alpha: 10. Batch: 0.116s. Loss: 0.8091.: 100%|█| 18/18 [00:02<00:00,\n"
     ]
    },
    {
     "name": "stdout",
     "output_type": "stream",
     "text": [
      "Global round: 160 | Average loss: 0.8117683198716905\n",
      "Global Round: 161\n"
     ]
    },
    {
     "name": "stderr",
     "output_type": "stream",
     "text": [
      "Train Epoch: 161/1000. Iter:   18/  18. Data: 0.060s. alpha: 10. Batch: 0.110s. Loss: 0.8339.: 100%|█| 18/18 [00:01<00:00,\n"
     ]
    },
    {
     "name": "stdout",
     "output_type": "stream",
     "text": [
      "Global round: 161 | Average loss: 0.8091258274184333\n",
      "Global Round: 162\n"
     ]
    },
    {
     "name": "stderr",
     "output_type": "stream",
     "text": [
      "Train Epoch: 162/1000. Iter:   18/  18. Data: 0.059s. alpha: 10. Batch: 0.109s. Loss: 0.7906.: 100%|█| 18/18 [00:01<00:00,\n"
     ]
    },
    {
     "name": "stdout",
     "output_type": "stream",
     "text": [
      "Global round: 162 | Average loss: 0.8098725312285953\n",
      "Global Round: 163\n"
     ]
    },
    {
     "name": "stderr",
     "output_type": "stream",
     "text": [
      "Train Epoch: 163/1000. Iter:   18/  18. Data: 0.058s. alpha: 10. Batch: 0.109s. Loss: 0.8166.: 100%|█| 18/18 [00:01<00:00,\n"
     ]
    },
    {
     "name": "stdout",
     "output_type": "stream",
     "text": [
      "Global round: 163 | Average loss: 0.8073117799229093\n",
      "Global Round: 164\n"
     ]
    },
    {
     "name": "stderr",
     "output_type": "stream",
     "text": [
      "Train Epoch: 164/1000. Iter:   18/  18. Data: 0.061s. alpha: 10. Batch: 0.110s. Loss: 0.7820.: 100%|█| 18/18 [00:01<00:00,\n"
     ]
    },
    {
     "name": "stdout",
     "output_type": "stream",
     "text": [
      "Global round: 164 | Average loss: 0.8021574450863732\n",
      "Global Round: 165\n"
     ]
    },
    {
     "name": "stderr",
     "output_type": "stream",
     "text": [
      "Train Epoch: 165/1000. Iter:   11/  18. Data: 0.068s. alpha: 10. Batch: 0.121s. Loss: 0.8257.:  61%|▌| 11/18 [00:01<00:00,"
     ]
    },
    {
     "name": "stdout",
     "output_type": "stream",
     "text": [
      "epoch 165 similarity : [0.1880263388156891, 0.17686845362186432, 0.18678489327430725, 0.1842942237854004, 0.19039545953273773]\n"
     ]
    },
    {
     "name": "stderr",
     "output_type": "stream",
     "text": [
      "Train Epoch: 165/1000. Iter:   18/  18. Data: 0.065s. alpha: 10. Batch: 0.119s. Loss: 0.8078.: 100%|█| 18/18 [00:02<00:00,\n"
     ]
    },
    {
     "name": "stdout",
     "output_type": "stream",
     "text": [
      "Global round: 165 | Average loss: 0.805018424987793\n",
      "Global Round: 166\n"
     ]
    },
    {
     "name": "stderr",
     "output_type": "stream",
     "text": [
      "Train Epoch: 166/1000. Iter:   18/  18. Data: 0.062s. alpha: 10. Batch: 0.111s. Loss: 0.7915.: 100%|█| 18/18 [00:01<00:00,\n"
     ]
    },
    {
     "name": "stdout",
     "output_type": "stream",
     "text": [
      "Global round: 166 | Average loss: 0.8012868728902605\n",
      "Global Round: 167\n"
     ]
    },
    {
     "name": "stderr",
     "output_type": "stream",
     "text": [
      "Train Epoch: 167/1000. Iter:   18/  18. Data: 0.059s. alpha: 10. Batch: 0.110s. Loss: 0.8175.: 100%|█| 18/18 [00:01<00:00,\n"
     ]
    },
    {
     "name": "stdout",
     "output_type": "stream",
     "text": [
      "Global round: 167 | Average loss: 0.8027024269104004\n",
      "Global Round: 168\n"
     ]
    },
    {
     "name": "stderr",
     "output_type": "stream",
     "text": [
      "Train Epoch: 168/1000. Iter:   18/  18. Data: 0.062s. alpha: 10. Batch: 0.111s. Loss: 0.7984.: 100%|█| 18/18 [00:01<00:00,\n"
     ]
    },
    {
     "name": "stdout",
     "output_type": "stream",
     "text": [
      "Global round: 168 | Average loss: 0.8000728454854753\n",
      "Global Round: 169\n"
     ]
    },
    {
     "name": "stderr",
     "output_type": "stream",
     "text": [
      "Train Epoch: 169/1000. Iter:   18/  18. Data: 0.060s. alpha: 10. Batch: 0.111s. Loss: 0.7801.: 100%|█| 18/18 [00:01<00:00,\n"
     ]
    },
    {
     "name": "stdout",
     "output_type": "stream",
     "text": [
      "Global round: 169 | Average loss: 0.7949111097388797\n",
      "Global Round: 170\n"
     ]
    },
    {
     "name": "stderr",
     "output_type": "stream",
     "text": [
      "Train Epoch: 170/1000. Iter:   11/  18. Data: 0.067s. alpha: 10. Batch: 0.121s. Loss: 0.7871.:  61%|▌| 11/18 [00:01<00:00,"
     ]
    },
    {
     "name": "stdout",
     "output_type": "stream",
     "text": [
      "epoch 170 similarity : [0.21210387349128723, 0.20395371317863464, 0.2079417109489441, 0.20149430632591248, 0.2087099701166153]\n"
     ]
    },
    {
     "name": "stderr",
     "output_type": "stream",
     "text": [
      "Train Epoch: 170/1000. Iter:   18/  18. Data: 0.063s. alpha: 10. Batch: 0.115s. Loss: 0.8158.: 100%|█| 18/18 [00:02<00:00,\n"
     ]
    },
    {
     "name": "stdout",
     "output_type": "stream",
     "text": [
      "Global round: 170 | Average loss: 0.8000361555152469\n",
      "Global Round: 171\n"
     ]
    },
    {
     "name": "stderr",
     "output_type": "stream",
     "text": [
      "Train Epoch: 171/1000. Iter:   18/  18. Data: 0.064s. alpha: 10. Batch: 0.114s. Loss: 0.7938.: 100%|█| 18/18 [00:02<00:00,\n"
     ]
    },
    {
     "name": "stdout",
     "output_type": "stream",
     "text": [
      "Global round: 171 | Average loss: 0.7919301920466952\n",
      "Global Round: 172\n"
     ]
    },
    {
     "name": "stderr",
     "output_type": "stream",
     "text": [
      "Train Epoch: 172/1000. Iter:   18/  18. Data: 0.058s. alpha: 10. Batch: 0.109s. Loss: 0.8169.: 100%|█| 18/18 [00:01<00:00,\n"
     ]
    },
    {
     "name": "stdout",
     "output_type": "stream",
     "text": [
      "Global round: 172 | Average loss: 0.7921281556288401\n",
      "Global Round: 173\n"
     ]
    },
    {
     "name": "stderr",
     "output_type": "stream",
     "text": [
      "Train Epoch: 173/1000. Iter:   18/  18. Data: 0.060s. alpha: 10. Batch: 0.108s. Loss: 0.7746.: 100%|█| 18/18 [00:01<00:00,\n"
     ]
    },
    {
     "name": "stdout",
     "output_type": "stream",
     "text": [
      "Global round: 173 | Average loss: 0.7879360814889272\n",
      "Global Round: 174\n"
     ]
    },
    {
     "name": "stderr",
     "output_type": "stream",
     "text": [
      "Train Epoch: 174/1000. Iter:   18/  18. Data: 0.059s. alpha: 10. Batch: 0.110s. Loss: 0.7783.: 100%|█| 18/18 [00:01<00:00,\n"
     ]
    },
    {
     "name": "stdout",
     "output_type": "stream",
     "text": [
      "Global round: 174 | Average loss: 0.7917418777942657\n",
      "Global Round: 175\n"
     ]
    },
    {
     "name": "stderr",
     "output_type": "stream",
     "text": [
      "Train Epoch: 175/1000. Iter:   11/  18. Data: 0.071s. alpha: 10. Batch: 0.120s. Loss: 0.7887.:  61%|▌| 11/18 [00:01<00:00,"
     ]
    },
    {
     "name": "stdout",
     "output_type": "stream",
     "text": [
      "epoch 175 similarity : [0.1952166110277176, 0.20168931782245636, 0.2086409628391266, 0.20555028319358826, 0.200215682387352]\n"
     ]
    },
    {
     "name": "stderr",
     "output_type": "stream",
     "text": [
      "Train Epoch: 175/1000. Iter:   18/  18. Data: 0.066s. alpha: 10. Batch: 0.115s. Loss: 0.7806.: 100%|█| 18/18 [00:02<00:00,\n"
     ]
    },
    {
     "name": "stdout",
     "output_type": "stream",
     "text": [
      "Global round: 175 | Average loss: 0.7918559047910902\n",
      "Global Round: 176\n"
     ]
    },
    {
     "name": "stderr",
     "output_type": "stream",
     "text": [
      "Train Epoch: 176/1000. Iter:   18/  18. Data: 0.060s. alpha: 10. Batch: 0.111s. Loss: 0.7561.: 100%|█| 18/18 [00:01<00:00,\n"
     ]
    },
    {
     "name": "stdout",
     "output_type": "stream",
     "text": [
      "Global round: 176 | Average loss: 0.790940072801378\n",
      "Global Round: 177\n"
     ]
    },
    {
     "name": "stderr",
     "output_type": "stream",
     "text": [
      "Train Epoch: 177/1000. Iter:   18/  18. Data: 0.065s. alpha: 10. Batch: 0.114s. Loss: 0.7639.: 100%|█| 18/18 [00:02<00:00,\n"
     ]
    },
    {
     "name": "stdout",
     "output_type": "stream",
     "text": [
      "Global round: 177 | Average loss: 0.7878330250581106\n",
      "Global Round: 178\n"
     ]
    },
    {
     "name": "stderr",
     "output_type": "stream",
     "text": [
      "Train Epoch: 178/1000. Iter:   18/  18. Data: 0.060s. alpha: 10. Batch: 0.110s. Loss: 0.7662.: 100%|█| 18/18 [00:01<00:00,\n"
     ]
    },
    {
     "name": "stdout",
     "output_type": "stream",
     "text": [
      "Global round: 178 | Average loss: 0.791314164797465\n",
      "Global Round: 179\n"
     ]
    },
    {
     "name": "stderr",
     "output_type": "stream",
     "text": [
      "Train Epoch: 179/1000. Iter:   18/  18. Data: 0.059s. alpha: 10. Batch: 0.110s. Loss: 0.7864.: 100%|█| 18/18 [00:01<00:00,\n"
     ]
    },
    {
     "name": "stdout",
     "output_type": "stream",
     "text": [
      "Global round: 179 | Average loss: 0.7817254000239902\n",
      "Global Round: 180\n"
     ]
    },
    {
     "name": "stderr",
     "output_type": "stream",
     "text": [
      "Train Epoch: 180/1000. Iter:   11/  18. Data: 0.070s. alpha: 10. Batch: 0.120s. Loss: 0.7909.:  61%|▌| 11/18 [00:01<00:01,"
     ]
    },
    {
     "name": "stdout",
     "output_type": "stream",
     "text": [
      "epoch 180 similarity : [0.2449679672718048, 0.2453872561454773, 0.2621505558490753, 0.2459971308708191, 0.2582676112651825]\n"
     ]
    },
    {
     "name": "stderr",
     "output_type": "stream",
     "text": [
      "Train Epoch: 180/1000. Iter:   18/  18. Data: 0.065s. alpha: 10. Batch: 0.114s. Loss: 0.7721.: 100%|█| 18/18 [00:02<00:00,\n"
     ]
    },
    {
     "name": "stdout",
     "output_type": "stream",
     "text": [
      "Global round: 180 | Average loss: 0.7838537163204617\n",
      "Global Round: 181\n"
     ]
    },
    {
     "name": "stderr",
     "output_type": "stream",
     "text": [
      "Train Epoch: 181/1000. Iter:   18/  18. Data: 0.059s. alpha: 10. Batch: 0.109s. Loss: 0.8306.: 100%|█| 18/18 [00:01<00:00,\n"
     ]
    },
    {
     "name": "stdout",
     "output_type": "stream",
     "text": [
      "Global round: 181 | Average loss: 0.7868534425894419\n",
      "Global Round: 182\n"
     ]
    },
    {
     "name": "stderr",
     "output_type": "stream",
     "text": [
      "Train Epoch: 182/1000. Iter:   18/  18. Data: 0.058s. alpha: 10. Batch: 0.109s. Loss: 0.7355.: 100%|█| 18/18 [00:01<00:00,\n"
     ]
    },
    {
     "name": "stdout",
     "output_type": "stream",
     "text": [
      "Global round: 182 | Average loss: 0.785227421257231\n",
      "Global Round: 183\n"
     ]
    },
    {
     "name": "stderr",
     "output_type": "stream",
     "text": [
      "Train Epoch: 183/1000. Iter:   18/  18. Data: 0.062s. alpha: 10. Batch: 0.113s. Loss: 0.7781.: 100%|█| 18/18 [00:02<00:00,\n"
     ]
    },
    {
     "name": "stdout",
     "output_type": "stream",
     "text": [
      "Global round: 183 | Average loss: 0.7820128566688962\n",
      "Global Round: 184\n"
     ]
    },
    {
     "name": "stderr",
     "output_type": "stream",
     "text": [
      "Train Epoch: 184/1000. Iter:   18/  18. Data: 0.061s. alpha: 10. Batch: 0.109s. Loss: 0.7797.: 100%|█| 18/18 [00:01<00:00,\n"
     ]
    },
    {
     "name": "stdout",
     "output_type": "stream",
     "text": [
      "Global round: 184 | Average loss: 0.7821958462397257\n",
      "Global Round: 185\n"
     ]
    },
    {
     "name": "stderr",
     "output_type": "stream",
     "text": [
      "Train Epoch: 185/1000. Iter:   11/  18. Data: 0.070s. alpha: 10. Batch: 0.119s. Loss: 0.7580.:  61%|▌| 11/18 [00:01<00:01,"
     ]
    },
    {
     "name": "stdout",
     "output_type": "stream",
     "text": [
      "epoch 185 similarity : [0.1439245194196701, 0.1413506418466568, 0.15302446484565735, 0.13779953122138977, 0.14366544783115387]\n"
     ]
    },
    {
     "name": "stderr",
     "output_type": "stream",
     "text": [
      "Train Epoch: 185/1000. Iter:   18/  18. Data: 0.065s. alpha: 10. Batch: 0.113s. Loss: 0.7803.: 100%|█| 18/18 [00:02<00:00,\n"
     ]
    },
    {
     "name": "stdout",
     "output_type": "stream",
     "text": [
      "Global round: 185 | Average loss: 0.7859988080130683\n",
      "Global Round: 186\n"
     ]
    },
    {
     "name": "stderr",
     "output_type": "stream",
     "text": [
      "Train Epoch: 186/1000. Iter:   18/  18. Data: 0.059s. alpha: 10. Batch: 0.109s. Loss: 0.8075.: 100%|█| 18/18 [00:01<00:00,\n"
     ]
    },
    {
     "name": "stdout",
     "output_type": "stream",
     "text": [
      "Global round: 186 | Average loss: 0.7802424960666232\n",
      "Global Round: 187\n"
     ]
    },
    {
     "name": "stderr",
     "output_type": "stream",
     "text": [
      "Train Epoch: 187/1000. Iter:   18/  18. Data: 0.062s. alpha: 10. Batch: 0.110s. Loss: 0.7787.: 100%|█| 18/18 [00:01<00:00,\n"
     ]
    },
    {
     "name": "stdout",
     "output_type": "stream",
     "text": [
      "Global round: 187 | Average loss: 0.781208465496699\n",
      "Global Round: 188\n"
     ]
    },
    {
     "name": "stderr",
     "output_type": "stream",
     "text": [
      "Train Epoch: 188/1000. Iter:   18/  18. Data: 0.059s. alpha: 10. Batch: 0.109s. Loss: 0.7794.: 100%|█| 18/18 [00:01<00:00,\n"
     ]
    },
    {
     "name": "stdout",
     "output_type": "stream",
     "text": [
      "Global round: 188 | Average loss: 0.7838848100768195\n",
      "Global Round: 189\n"
     ]
    },
    {
     "name": "stderr",
     "output_type": "stream",
     "text": [
      "Train Epoch: 189/1000. Iter:   18/  18. Data: 0.061s. alpha: 10. Batch: 0.113s. Loss: 0.7480.: 100%|█| 18/18 [00:02<00:00,\n"
     ]
    },
    {
     "name": "stdout",
     "output_type": "stream",
     "text": [
      "Global round: 189 | Average loss: 0.7802451021141477\n",
      "Global Round: 190\n"
     ]
    },
    {
     "name": "stderr",
     "output_type": "stream",
     "text": [
      "Train Epoch: 190/1000. Iter:   11/  18. Data: 0.065s. alpha: 10. Batch: 0.114s. Loss: 0.7699.:  61%|▌| 11/18 [00:01<00:00,"
     ]
    },
    {
     "name": "stdout",
     "output_type": "stream",
     "text": [
      "epoch 190 similarity : [0.19446887075901031, 0.21184541285037994, 0.20948085188865662, 0.19801510870456696, 0.20889733731746674]\n"
     ]
    },
    {
     "name": "stderr",
     "output_type": "stream",
     "text": [
      "Train Epoch: 190/1000. Iter:   18/  18. Data: 0.064s. alpha: 10. Batch: 0.114s. Loss: 0.7605.: 100%|█| 18/18 [00:02<00:00,\n"
     ]
    },
    {
     "name": "stdout",
     "output_type": "stream",
     "text": [
      "Global round: 190 | Average loss: 0.7811249163415697\n",
      "Global Round: 191\n"
     ]
    },
    {
     "name": "stderr",
     "output_type": "stream",
     "text": [
      "Train Epoch: 191/1000. Iter:   18/  18. Data: 0.058s. alpha: 10. Batch: 0.109s. Loss: 0.7629.: 100%|█| 18/18 [00:01<00:00,\n"
     ]
    },
    {
     "name": "stdout",
     "output_type": "stream",
     "text": [
      "Global round: 191 | Average loss: 0.7810278866026137\n",
      "Global Round: 192\n"
     ]
    },
    {
     "name": "stderr",
     "output_type": "stream",
     "text": [
      "Train Epoch: 192/1000. Iter:   18/  18. Data: 0.060s. alpha: 10. Batch: 0.109s. Loss: 0.7576.: 100%|█| 18/18 [00:01<00:00,\n"
     ]
    },
    {
     "name": "stdout",
     "output_type": "stream",
     "text": [
      "Global round: 192 | Average loss: 0.7749868631362915\n",
      "Global Round: 193\n"
     ]
    },
    {
     "name": "stderr",
     "output_type": "stream",
     "text": [
      "Train Epoch: 193/1000. Iter:   18/  18. Data: 0.059s. alpha: 10. Batch: 0.109s. Loss: 0.7543.: 100%|█| 18/18 [00:01<00:00,\n"
     ]
    },
    {
     "name": "stdout",
     "output_type": "stream",
     "text": [
      "Global round: 193 | Average loss: 0.7750085923406813\n",
      "Global Round: 194\n"
     ]
    },
    {
     "name": "stderr",
     "output_type": "stream",
     "text": [
      "Train Epoch: 194/1000. Iter:   18/  18. Data: 0.061s. alpha: 10. Batch: 0.109s. Loss: 0.7710.: 100%|█| 18/18 [00:01<00:00,\n"
     ]
    },
    {
     "name": "stdout",
     "output_type": "stream",
     "text": [
      "Global round: 194 | Average loss: 0.7749374210834503\n",
      "Global Round: 195\n"
     ]
    },
    {
     "name": "stderr",
     "output_type": "stream",
     "text": [
      "Train Epoch: 195/1000. Iter:   11/  18. Data: 0.069s. alpha: 10. Batch: 0.119s. Loss: 0.7555.:  61%|▌| 11/18 [00:01<00:00,"
     ]
    },
    {
     "name": "stdout",
     "output_type": "stream",
     "text": [
      "epoch 195 similarity : [0.15196923911571503, 0.14453783631324768, 0.1595744490623474, 0.1380195915699005, 0.1422850489616394]\n"
     ]
    },
    {
     "name": "stderr",
     "output_type": "stream",
     "text": [
      "Train Epoch: 195/1000. Iter:   18/  18. Data: 0.067s. alpha: 10. Batch: 0.117s. Loss: 0.7891.: 100%|█| 18/18 [00:02<00:00,\n"
     ]
    },
    {
     "name": "stdout",
     "output_type": "stream",
     "text": [
      "Global round: 195 | Average loss: 0.7750317222542233\n",
      "Global Round: 196\n"
     ]
    },
    {
     "name": "stderr",
     "output_type": "stream",
     "text": [
      "Train Epoch: 196/1000. Iter:   18/  18. Data: 0.060s. alpha: 10. Batch: 0.109s. Loss: 0.7577.: 100%|█| 18/18 [00:01<00:00,\n"
     ]
    },
    {
     "name": "stdout",
     "output_type": "stream",
     "text": [
      "Global round: 196 | Average loss: 0.7733706302113004\n",
      "Global Round: 197\n"
     ]
    },
    {
     "name": "stderr",
     "output_type": "stream",
     "text": [
      "Train Epoch: 197/1000. Iter:   18/  18. Data: 0.059s. alpha: 10. Batch: 0.108s. Loss: 0.7659.: 100%|█| 18/18 [00:01<00:00,\n"
     ]
    },
    {
     "name": "stdout",
     "output_type": "stream",
     "text": [
      "Global round: 197 | Average loss: 0.7734217345714569\n",
      "Global Round: 198\n"
     ]
    },
    {
     "name": "stderr",
     "output_type": "stream",
     "text": [
      "Train Epoch: 198/1000. Iter:   18/  18. Data: 0.058s. alpha: 10. Batch: 0.109s. Loss: 0.7702.: 100%|█| 18/18 [00:01<00:00,\n"
     ]
    },
    {
     "name": "stdout",
     "output_type": "stream",
     "text": [
      "Global round: 198 | Average loss: 0.770076205333074\n",
      "Global Round: 199\n"
     ]
    },
    {
     "name": "stderr",
     "output_type": "stream",
     "text": [
      "Train Epoch: 199/1000. Iter:   18/  18. Data: 0.060s. alpha: 10. Batch: 0.109s. Loss: 0.7663.: 100%|█| 18/18 [00:01<00:00,\n"
     ]
    },
    {
     "name": "stdout",
     "output_type": "stream",
     "text": [
      "Global round: 199 | Average loss: 0.7671991255548265\n",
      "Global Round: 200\n"
     ]
    },
    {
     "name": "stderr",
     "output_type": "stream",
     "text": [
      "Train Epoch: 200/1000. Iter:   11/  18. Data: 0.068s. alpha: 10. Batch: 0.119s. Loss: 0.7767.:  61%|▌| 11/18 [00:01<00:00,"
     ]
    },
    {
     "name": "stdout",
     "output_type": "stream",
     "text": [
      "epoch 200 similarity : [0.22472363710403442, 0.21844692528247833, 0.23817668855190277, 0.21778862178325653, 0.21858805418014526]\n"
     ]
    },
    {
     "name": "stderr",
     "output_type": "stream",
     "text": [
      "Train Epoch: 200/1000. Iter:   18/  18. Data: 0.064s. alpha: 10. Batch: 0.116s. Loss: 0.7455.: 100%|█| 18/18 [00:02<00:00,\n"
     ]
    },
    {
     "name": "stdout",
     "output_type": "stream",
     "text": [
      "Global round: 200 | Average loss: 0.7657883399062686\n",
      "Global Round: 201\n"
     ]
    },
    {
     "name": "stderr",
     "output_type": "stream",
     "text": [
      "Train Epoch: 201/1000. Iter:   18/  18. Data: 0.061s. alpha: 10. Batch: 0.109s. Loss: 0.7575.: 100%|█| 18/18 [00:01<00:00,\n"
     ]
    },
    {
     "name": "stdout",
     "output_type": "stream",
     "text": [
      "Global round: 201 | Average loss: 0.76891314652231\n",
      "Global Round: 202\n"
     ]
    },
    {
     "name": "stderr",
     "output_type": "stream",
     "text": [
      "Train Epoch: 202/1000. Iter:   18/  18. Data: 0.059s. alpha: 10. Batch: 0.110s. Loss: 0.7791.: 100%|█| 18/18 [00:01<00:00,\n"
     ]
    },
    {
     "name": "stdout",
     "output_type": "stream",
     "text": [
      "Global round: 202 | Average loss: 0.7643779251310561\n",
      "Global Round: 203\n"
     ]
    },
    {
     "name": "stderr",
     "output_type": "stream",
     "text": [
      "Train Epoch: 203/1000. Iter:   18/  18. Data: 0.061s. alpha: 10. Batch: 0.110s. Loss: 0.7683.: 100%|█| 18/18 [00:01<00:00,\n"
     ]
    },
    {
     "name": "stdout",
     "output_type": "stream",
     "text": [
      "Global round: 203 | Average loss: 0.7666606605052948\n",
      "Global Round: 204\n"
     ]
    },
    {
     "name": "stderr",
     "output_type": "stream",
     "text": [
      "Train Epoch: 204/1000. Iter:   18/  18. Data: 0.059s. alpha: 10. Batch: 0.109s. Loss: 0.7596.: 100%|█| 18/18 [00:01<00:00,\n"
     ]
    },
    {
     "name": "stdout",
     "output_type": "stream",
     "text": [
      "Global round: 204 | Average loss: 0.7678794430361854\n",
      "Global Round: 205\n"
     ]
    },
    {
     "name": "stderr",
     "output_type": "stream",
     "text": [
      "Train Epoch: 205/1000. Iter:   11/  18. Data: 0.066s. alpha: 10. Batch: 0.118s. Loss: 0.7574.:  61%|▌| 11/18 [00:01<00:00,"
     ]
    },
    {
     "name": "stdout",
     "output_type": "stream",
     "text": [
      "epoch 205 similarity : [0.10307937860488892, 0.08858075737953186, 0.10949122905731201, 0.0976266860961914, 0.112075574696064]\n"
     ]
    },
    {
     "name": "stderr",
     "output_type": "stream",
     "text": [
      "Train Epoch: 205/1000. Iter:   18/  18. Data: 0.062s. alpha: 10. Batch: 0.112s. Loss: 0.7725.: 100%|█| 18/18 [00:02<00:00,\n"
     ]
    },
    {
     "name": "stdout",
     "output_type": "stream",
     "text": [
      "Global round: 205 | Average loss: 0.7700974278979831\n",
      "Global Round: 206\n"
     ]
    },
    {
     "name": "stderr",
     "output_type": "stream",
     "text": [
      "Train Epoch: 206/1000. Iter:   18/  18. Data: 0.063s. alpha: 10. Batch: 0.112s. Loss: 0.7719.: 100%|█| 18/18 [00:02<00:00,\n"
     ]
    },
    {
     "name": "stdout",
     "output_type": "stream",
     "text": [
      "Global round: 206 | Average loss: 0.7639098034964668\n",
      "Global Round: 207\n"
     ]
    },
    {
     "name": "stderr",
     "output_type": "stream",
     "text": [
      "Train Epoch: 207/1000. Iter:   18/  18. Data: 0.058s. alpha: 10. Batch: 0.108s. Loss: 0.7928.: 100%|█| 18/18 [00:01<00:00,\n"
     ]
    },
    {
     "name": "stdout",
     "output_type": "stream",
     "text": [
      "Global round: 207 | Average loss: 0.7726551989714304\n",
      "Global Round: 208\n"
     ]
    },
    {
     "name": "stderr",
     "output_type": "stream",
     "text": [
      "Train Epoch: 208/1000. Iter:   18/  18. Data: 0.061s. alpha: 10. Batch: 0.110s. Loss: 0.7719.: 100%|█| 18/18 [00:01<00:00,\n"
     ]
    },
    {
     "name": "stdout",
     "output_type": "stream",
     "text": [
      "Global round: 208 | Average loss: 0.76808762550354\n",
      "Global Round: 209\n"
     ]
    },
    {
     "name": "stderr",
     "output_type": "stream",
     "text": [
      "Train Epoch: 209/1000. Iter:   18/  18. Data: 0.059s. alpha: 10. Batch: 0.110s. Loss: 0.7706.: 100%|█| 18/18 [00:01<00:00,\n"
     ]
    },
    {
     "name": "stdout",
     "output_type": "stream",
     "text": [
      "Global round: 209 | Average loss: 0.7639976011382209\n",
      "Global Round: 210\n"
     ]
    },
    {
     "name": "stderr",
     "output_type": "stream",
     "text": [
      "Train Epoch: 210/1000. Iter:   11/  18. Data: 0.071s. alpha: 10. Batch: 0.120s. Loss: 0.7633.:  61%|▌| 11/18 [00:01<00:00,"
     ]
    },
    {
     "name": "stdout",
     "output_type": "stream",
     "text": [
      "epoch 210 similarity : [0.1535668522119522, 0.14426811039447784, 0.1702156811952591, 0.16829343140125275, 0.165998175740242]\n"
     ]
    },
    {
     "name": "stderr",
     "output_type": "stream",
     "text": [
      "Train Epoch: 210/1000. Iter:   18/  18. Data: 0.066s. alpha: 10. Batch: 0.114s. Loss: 0.8069.: 100%|█| 18/18 [00:02<00:00,\n"
     ]
    },
    {
     "name": "stdout",
     "output_type": "stream",
     "text": [
      "Global round: 210 | Average loss: 0.7677067915598551\n",
      "Global Round: 211\n"
     ]
    },
    {
     "name": "stderr",
     "output_type": "stream",
     "text": [
      "Train Epoch: 211/1000. Iter:   18/  18. Data: 0.059s. alpha: 10. Batch: 0.111s. Loss: 0.7636.: 100%|█| 18/18 [00:01<00:00,\n"
     ]
    },
    {
     "name": "stdout",
     "output_type": "stream",
     "text": [
      "Global round: 211 | Average loss: 0.7648861342006259\n",
      "Global Round: 212\n"
     ]
    },
    {
     "name": "stderr",
     "output_type": "stream",
     "text": [
      "Train Epoch: 212/1000. Iter:   18/  18. Data: 0.064s. alpha: 10. Batch: 0.113s. Loss: 0.7533.: 100%|█| 18/18 [00:02<00:00,\n"
     ]
    },
    {
     "name": "stdout",
     "output_type": "stream",
     "text": [
      "Global round: 212 | Average loss: 0.7655759288205041\n",
      "Global Round: 213\n"
     ]
    },
    {
     "name": "stderr",
     "output_type": "stream",
     "text": [
      "Train Epoch: 213/1000. Iter:   18/  18. Data: 0.059s. alpha: 10. Batch: 0.109s. Loss: 0.7703.: 100%|█| 18/18 [00:01<00:00,\n"
     ]
    },
    {
     "name": "stdout",
     "output_type": "stream",
     "text": [
      "Global round: 213 | Average loss: 0.7611107495095994\n",
      "Global Round: 214\n"
     ]
    },
    {
     "name": "stderr",
     "output_type": "stream",
     "text": [
      "Train Epoch: 214/1000. Iter:   18/  18. Data: 0.058s. alpha: 10. Batch: 0.108s. Loss: 0.7837.: 100%|█| 18/18 [00:01<00:00,\n"
     ]
    },
    {
     "name": "stdout",
     "output_type": "stream",
     "text": [
      "Global round: 214 | Average loss: 0.7629649738470713\n",
      "Global Round: 215\n"
     ]
    },
    {
     "name": "stderr",
     "output_type": "stream",
     "text": [
      "Train Epoch: 215/1000. Iter:   11/  18. Data: 0.070s. alpha: 10. Batch: 0.119s. Loss: 0.7879.:  61%|▌| 11/18 [00:01<00:01,"
     ]
    },
    {
     "name": "stdout",
     "output_type": "stream",
     "text": [
      "epoch 215 similarity : [0.20023757219314575, 0.19987685978412628, 0.21867673099040985, 0.20271123945713043, 0.20789098739624023]\n"
     ]
    },
    {
     "name": "stderr",
     "output_type": "stream",
     "text": [
      "Train Epoch: 215/1000. Iter:   18/  18. Data: 0.065s. alpha: 10. Batch: 0.113s. Loss: 0.7465.: 100%|█| 18/18 [00:02<00:00,\n"
     ]
    },
    {
     "name": "stdout",
     "output_type": "stream",
     "text": [
      "Global round: 215 | Average loss: 0.762164615922504\n",
      "Global Round: 216\n"
     ]
    },
    {
     "name": "stderr",
     "output_type": "stream",
     "text": [
      "Train Epoch: 216/1000. Iter:   18/  18. Data: 0.058s. alpha: 10. Batch: 0.109s. Loss: 0.7484.: 100%|█| 18/18 [00:01<00:00,\n"
     ]
    },
    {
     "name": "stdout",
     "output_type": "stream",
     "text": [
      "Global round: 216 | Average loss: 0.7585189441839854\n",
      "Global Round: 217\n"
     ]
    },
    {
     "name": "stderr",
     "output_type": "stream",
     "text": [
      "Train Epoch: 217/1000. Iter:   18/  18. Data: 0.057s. alpha: 10. Batch: 0.107s. Loss: 0.7628.: 100%|█| 18/18 [00:01<00:00,\n"
     ]
    },
    {
     "name": "stdout",
     "output_type": "stream",
     "text": [
      "Global round: 217 | Average loss: 0.7565142777231004\n",
      "Global Round: 218\n"
     ]
    },
    {
     "name": "stderr",
     "output_type": "stream",
     "text": [
      "Train Epoch: 218/1000. Iter:   18/  18. Data: 0.061s. alpha: 10. Batch: 0.114s. Loss: 0.7629.: 100%|█| 18/18 [00:02<00:00,\n"
     ]
    },
    {
     "name": "stdout",
     "output_type": "stream",
     "text": [
      "Global round: 218 | Average loss: 0.7655778328577677\n",
      "Global Round: 219\n"
     ]
    },
    {
     "name": "stderr",
     "output_type": "stream",
     "text": [
      "Train Epoch: 219/1000. Iter:   18/  18. Data: 0.060s. alpha: 10. Batch: 0.107s. Loss: 0.7653.: 100%|█| 18/18 [00:01<00:00,\n"
     ]
    },
    {
     "name": "stdout",
     "output_type": "stream",
     "text": [
      "Global round: 219 | Average loss: 0.7611560722192129\n",
      "Global Round: 220\n"
     ]
    },
    {
     "name": "stderr",
     "output_type": "stream",
     "text": [
      "Train Epoch: 220/1000. Iter:   11/  18. Data: 0.069s. alpha: 10. Batch: 0.118s. Loss: 0.7586.:  61%|▌| 11/18 [00:01<00:01,"
     ]
    },
    {
     "name": "stdout",
     "output_type": "stream",
     "text": [
      "epoch 220 similarity : [0.21878598630428314, 0.22234489023685455, 0.23033306002616882, 0.21369697153568268, 0.22497569024562836]\n"
     ]
    },
    {
     "name": "stderr",
     "output_type": "stream",
     "text": [
      "Train Epoch: 220/1000. Iter:   18/  18. Data: 0.064s. alpha: 10. Batch: 0.113s. Loss: 0.7821.: 100%|█| 18/18 [00:02<00:00,\n"
     ]
    },
    {
     "name": "stdout",
     "output_type": "stream",
     "text": [
      "Global round: 220 | Average loss: 0.7624354064464569\n",
      "Global Round: 221\n"
     ]
    },
    {
     "name": "stderr",
     "output_type": "stream",
     "text": [
      "Train Epoch: 221/1000. Iter:   18/  18. Data: 0.059s. alpha: 10. Batch: 0.110s. Loss: 0.7274.: 100%|█| 18/18 [00:01<00:00,\n"
     ]
    },
    {
     "name": "stdout",
     "output_type": "stream",
     "text": [
      "Global round: 221 | Average loss: 0.7571735911899142\n",
      "Global Round: 222\n"
     ]
    },
    {
     "name": "stderr",
     "output_type": "stream",
     "text": [
      "Train Epoch: 222/1000. Iter:   18/  18. Data: 0.061s. alpha: 10. Batch: 0.109s. Loss: 0.7582.: 100%|█| 18/18 [00:01<00:00,\n"
     ]
    },
    {
     "name": "stdout",
     "output_type": "stream",
     "text": [
      "Global round: 222 | Average loss: 0.7611307005087534\n",
      "Global Round: 223\n"
     ]
    },
    {
     "name": "stderr",
     "output_type": "stream",
     "text": [
      "Train Epoch: 223/1000. Iter:   18/  18. Data: 0.060s. alpha: 10. Batch: 0.110s. Loss: 0.7468.: 100%|█| 18/18 [00:01<00:00,\n"
     ]
    },
    {
     "name": "stdout",
     "output_type": "stream",
     "text": [
      "Global round: 223 | Average loss: 0.753745824098587\n",
      "Global Round: 224\n"
     ]
    },
    {
     "name": "stderr",
     "output_type": "stream",
     "text": [
      "Train Epoch: 224/1000. Iter:   18/  18. Data: 0.061s. alpha: 10. Batch: 0.114s. Loss: 0.7339.: 100%|█| 18/18 [00:02<00:00,\n"
     ]
    },
    {
     "name": "stdout",
     "output_type": "stream",
     "text": [
      "Global round: 224 | Average loss: 0.7592214081022475\n",
      "Global Round: 225\n"
     ]
    },
    {
     "name": "stderr",
     "output_type": "stream",
     "text": [
      "Train Epoch: 225/1000. Iter:   11/  18. Data: 0.066s. alpha: 10. Batch: 0.114s. Loss: 0.7462.:  61%|▌| 11/18 [00:01<00:00,"
     ]
    },
    {
     "name": "stdout",
     "output_type": "stream",
     "text": [
      "epoch 225 similarity : [0.15635403990745544, 0.14915624260902405, 0.17447558045387268, 0.15250325202941895, 0.16530324518680573]\n"
     ]
    },
    {
     "name": "stderr",
     "output_type": "stream",
     "text": [
      "Train Epoch: 225/1000. Iter:   18/  18. Data: 0.064s. alpha: 10. Batch: 0.114s. Loss: 0.7763.: 100%|█| 18/18 [00:02<00:00,\n"
     ]
    },
    {
     "name": "stdout",
     "output_type": "stream",
     "text": [
      "Global round: 225 | Average loss: 0.7564442190859053\n",
      "Global Round: 226\n"
     ]
    },
    {
     "name": "stderr",
     "output_type": "stream",
     "text": [
      "Train Epoch: 226/1000. Iter:   18/  18. Data: 0.059s. alpha: 10. Batch: 0.110s. Loss: 0.7403.: 100%|█| 18/18 [00:01<00:00,\n"
     ]
    },
    {
     "name": "stdout",
     "output_type": "stream",
     "text": [
      "Global round: 226 | Average loss: 0.7487868699762557\n",
      "Global Round: 227\n"
     ]
    },
    {
     "name": "stderr",
     "output_type": "stream",
     "text": [
      "Train Epoch: 227/1000. Iter:   18/  18. Data: 0.061s. alpha: 10. Batch: 0.110s. Loss: 0.7397.: 100%|█| 18/18 [00:01<00:00,\n"
     ]
    },
    {
     "name": "stdout",
     "output_type": "stream",
     "text": [
      "Global round: 227 | Average loss: 0.7568269305759006\n",
      "Global Round: 228\n"
     ]
    },
    {
     "name": "stderr",
     "output_type": "stream",
     "text": [
      "Train Epoch: 228/1000. Iter:   18/  18. Data: 0.059s. alpha: 10. Batch: 0.109s. Loss: 0.7443.: 100%|█| 18/18 [00:01<00:00,\n"
     ]
    },
    {
     "name": "stdout",
     "output_type": "stream",
     "text": [
      "Global round: 228 | Average loss: 0.7547825872898102\n",
      "Global Round: 229\n"
     ]
    },
    {
     "name": "stderr",
     "output_type": "stream",
     "text": [
      "Train Epoch: 229/1000. Iter:   18/  18. Data: 0.061s. alpha: 10. Batch: 0.108s. Loss: 0.7405.: 100%|█| 18/18 [00:01<00:00,\n"
     ]
    },
    {
     "name": "stdout",
     "output_type": "stream",
     "text": [
      "Global round: 229 | Average loss: 0.7466332349512312\n",
      "Global Round: 230\n"
     ]
    },
    {
     "name": "stderr",
     "output_type": "stream",
     "text": [
      "Train Epoch: 230/1000. Iter:   11/  18. Data: 0.068s. alpha: 10. Batch: 0.118s. Loss: 0.7420.:  61%|▌| 11/18 [00:01<00:00,"
     ]
    },
    {
     "name": "stdout",
     "output_type": "stream",
     "text": [
      "epoch 230 similarity : [0.13824574649333954, 0.14856596291065216, 0.17651815712451935, 0.15834252536296844, 0.1654057800769806]\n"
     ]
    },
    {
     "name": "stderr",
     "output_type": "stream",
     "text": [
      "Train Epoch: 230/1000. Iter:   18/  18. Data: 0.066s. alpha: 10. Batch: 0.116s. Loss: 0.7565.: 100%|█| 18/18 [00:02<00:00,\n"
     ]
    },
    {
     "name": "stdout",
     "output_type": "stream",
     "text": [
      "Global round: 230 | Average loss: 0.7493962248166403\n",
      "Global Round: 231\n"
     ]
    },
    {
     "name": "stderr",
     "output_type": "stream",
     "text": [
      "Train Epoch: 231/1000. Iter:   18/  18. Data: 0.060s. alpha: 10. Batch: 0.109s. Loss: 0.7679.: 100%|█| 18/18 [00:01<00:00,\n"
     ]
    },
    {
     "name": "stdout",
     "output_type": "stream",
     "text": [
      "Global round: 231 | Average loss: 0.7533047596613566\n",
      "Global Round: 232\n"
     ]
    },
    {
     "name": "stderr",
     "output_type": "stream",
     "text": [
      "Train Epoch: 232/1000. Iter:   18/  18. Data: 0.059s. alpha: 10. Batch: 0.109s. Loss: 0.7200.: 100%|█| 18/18 [00:01<00:00,\n"
     ]
    },
    {
     "name": "stdout",
     "output_type": "stream",
     "text": [
      "Global round: 232 | Average loss: 0.753710561328464\n",
      "Global Round: 233\n"
     ]
    },
    {
     "name": "stderr",
     "output_type": "stream",
     "text": [
      "Train Epoch: 233/1000. Iter:   18/  18. Data: 0.057s. alpha: 10. Batch: 0.107s. Loss: 0.7268.: 100%|█| 18/18 [00:01<00:00,\n"
     ]
    },
    {
     "name": "stdout",
     "output_type": "stream",
     "text": [
      "Global round: 233 | Average loss: 0.7462677326467302\n",
      "Global Round: 234\n"
     ]
    },
    {
     "name": "stderr",
     "output_type": "stream",
     "text": [
      "Train Epoch: 234/1000. Iter:   18/  18. Data: 0.060s. alpha: 10. Batch: 0.109s. Loss: 0.7527.: 100%|█| 18/18 [00:01<00:00,\n"
     ]
    },
    {
     "name": "stdout",
     "output_type": "stream",
     "text": [
      "Global round: 234 | Average loss: 0.7488100926081339\n",
      "Global Round: 235\n"
     ]
    },
    {
     "name": "stderr",
     "output_type": "stream",
     "text": [
      "Train Epoch: 235/1000. Iter:   11/  18. Data: 0.068s. alpha: 10. Batch: 0.120s. Loss: 0.7568.:  61%|▌| 11/18 [00:01<00:00,"
     ]
    },
    {
     "name": "stdout",
     "output_type": "stream",
     "text": [
      "epoch 235 similarity : [0.14125463366508484, 0.14975857734680176, 0.169975146651268, 0.14702783524990082, 0.16612422466278076]\n"
     ]
    },
    {
     "name": "stderr",
     "output_type": "stream",
     "text": [
      "Train Epoch: 235/1000. Iter:   18/  18. Data: 0.064s. alpha: 10. Batch: 0.118s. Loss: 0.7374.: 100%|█| 18/18 [00:02<00:00,\n"
     ]
    },
    {
     "name": "stdout",
     "output_type": "stream",
     "text": [
      "Global round: 235 | Average loss: 0.7518212331665887\n",
      "Global Round: 236\n"
     ]
    },
    {
     "name": "stderr",
     "output_type": "stream",
     "text": [
      "Train Epoch: 236/1000. Iter:   18/  18. Data: 0.061s. alpha: 10. Batch: 0.110s. Loss: 0.7415.: 100%|█| 18/18 [00:01<00:00,\n"
     ]
    },
    {
     "name": "stdout",
     "output_type": "stream",
     "text": [
      "Global round: 236 | Average loss: 0.7481999430391524\n",
      "Global Round: 237\n"
     ]
    },
    {
     "name": "stderr",
     "output_type": "stream",
     "text": [
      "Train Epoch: 237/1000. Iter:   18/  18. Data: 0.059s. alpha: 10. Batch: 0.110s. Loss: 0.7376.: 100%|█| 18/18 [00:01<00:00,\n"
     ]
    },
    {
     "name": "stdout",
     "output_type": "stream",
     "text": [
      "Global round: 237 | Average loss: 0.7500438888867696\n",
      "Global Round: 238\n"
     ]
    },
    {
     "name": "stderr",
     "output_type": "stream",
     "text": [
      "Train Epoch: 238/1000. Iter:   18/  18. Data: 0.061s. alpha: 10. Batch: 0.109s. Loss: 0.7488.: 100%|█| 18/18 [00:01<00:00,\n"
     ]
    },
    {
     "name": "stdout",
     "output_type": "stream",
     "text": [
      "Global round: 238 | Average loss: 0.7503979106744131\n",
      "Global Round: 239\n"
     ]
    },
    {
     "name": "stderr",
     "output_type": "stream",
     "text": [
      "Train Epoch: 239/1000. Iter:   18/  18. Data: 0.060s. alpha: 10. Batch: 0.111s. Loss: 0.7531.: 100%|█| 18/18 [00:01<00:00,\n"
     ]
    },
    {
     "name": "stdout",
     "output_type": "stream",
     "text": [
      "Global round: 239 | Average loss: 0.7521909905804528\n",
      "Global Round: 240\n"
     ]
    },
    {
     "name": "stderr",
     "output_type": "stream",
     "text": [
      "Train Epoch: 240/1000. Iter:   11/  18. Data: 0.065s. alpha: 10. Batch: 0.117s. Loss: 0.7504.:  61%|▌| 11/18 [00:01<00:00,"
     ]
    },
    {
     "name": "stdout",
     "output_type": "stream",
     "text": [
      "epoch 240 similarity : [0.08152751624584198, 0.06556132435798645, 0.0838744193315506, 0.06170886382460594, 0.09843159466981888]\n"
     ]
    },
    {
     "name": "stderr",
     "output_type": "stream",
     "text": [
      "Train Epoch: 240/1000. Iter:   18/  18. Data: 0.062s. alpha: 10. Batch: 0.113s. Loss: 0.7580.: 100%|█| 18/18 [00:02<00:00,\n"
     ]
    },
    {
     "name": "stdout",
     "output_type": "stream",
     "text": [
      "Global round: 240 | Average loss: 0.7503063281377157\n",
      "Global Round: 241\n"
     ]
    },
    {
     "name": "stderr",
     "output_type": "stream",
     "text": [
      "Train Epoch: 241/1000. Iter:   18/  18. Data: 0.064s. alpha: 10. Batch: 0.116s. Loss: 0.7356.: 100%|█| 18/18 [00:02<00:00,\n"
     ]
    },
    {
     "name": "stdout",
     "output_type": "stream",
     "text": [
      "Global round: 241 | Average loss: 0.7480669054720137\n",
      "Global Round: 242\n"
     ]
    },
    {
     "name": "stderr",
     "output_type": "stream",
     "text": [
      "Train Epoch: 242/1000. Iter:   18/  18. Data: 0.059s. alpha: 10. Batch: 0.112s. Loss: 0.7551.: 100%|█| 18/18 [00:02<00:00,\n"
     ]
    },
    {
     "name": "stdout",
     "output_type": "stream",
     "text": [
      "Global round: 242 | Average loss: 0.7429850697517395\n",
      "Global Round: 243\n"
     ]
    },
    {
     "name": "stderr",
     "output_type": "stream",
     "text": [
      "Train Epoch: 243/1000. Iter:   18/  18. Data: 0.060s. alpha: 10. Batch: 0.111s. Loss: 0.7673.: 100%|█| 18/18 [00:02<00:00,\n"
     ]
    },
    {
     "name": "stdout",
     "output_type": "stream",
     "text": [
      "Global round: 243 | Average loss: 0.752074744966295\n",
      "Global Round: 244\n"
     ]
    },
    {
     "name": "stderr",
     "output_type": "stream",
     "text": [
      "Train Epoch: 244/1000. Iter:   18/  18. Data: 0.059s. alpha: 10. Batch: 0.110s. Loss: 0.7659.: 100%|█| 18/18 [00:01<00:00,\n"
     ]
    },
    {
     "name": "stdout",
     "output_type": "stream",
     "text": [
      "Global round: 244 | Average loss: 0.7429015702671475\n",
      "Global Round: 245\n"
     ]
    },
    {
     "name": "stderr",
     "output_type": "stream",
     "text": [
      "Train Epoch: 245/1000. Iter:   11/  18. Data: 0.071s. alpha: 10. Batch: 0.120s. Loss: 0.7510.:  61%|▌| 11/18 [00:01<00:00,"
     ]
    },
    {
     "name": "stdout",
     "output_type": "stream",
     "text": [
      "epoch 245 similarity : [0.13833054900169373, 0.13546837866306305, 0.13130435347557068, 0.139322429895401, 0.1570834368467331]\n"
     ]
    },
    {
     "name": "stderr",
     "output_type": "stream",
     "text": [
      "Train Epoch: 245/1000. Iter:   18/  18. Data: 0.066s. alpha: 10. Batch: 0.114s. Loss: 0.7337.: 100%|█| 18/18 [00:02<00:00,\n"
     ]
    },
    {
     "name": "stdout",
     "output_type": "stream",
     "text": [
      "Global round: 245 | Average loss: 0.7497617999712626\n",
      "Global Round: 246\n"
     ]
    },
    {
     "name": "stderr",
     "output_type": "stream",
     "text": [
      "Train Epoch: 246/1000. Iter:   18/  18. Data: 0.059s. alpha: 10. Batch: 0.109s. Loss: 0.7625.: 100%|█| 18/18 [00:01<00:00,\n"
     ]
    },
    {
     "name": "stdout",
     "output_type": "stream",
     "text": [
      "Global round: 246 | Average loss: 0.7546448442671034\n",
      "Global Round: 247\n"
     ]
    },
    {
     "name": "stderr",
     "output_type": "stream",
     "text": [
      "Train Epoch: 247/1000. Iter:   18/  18. Data: 0.064s. alpha: 10. Batch: 0.114s. Loss: 0.7429.: 100%|█| 18/18 [00:02<00:00,\n"
     ]
    },
    {
     "name": "stdout",
     "output_type": "stream",
     "text": [
      "Global round: 247 | Average loss: 0.7480357355541654\n",
      "Global Round: 248\n"
     ]
    },
    {
     "name": "stderr",
     "output_type": "stream",
     "text": [
      "Train Epoch: 248/1000. Iter:   18/  18. Data: 0.059s. alpha: 10. Batch: 0.111s. Loss: 0.7471.: 100%|█| 18/18 [00:01<00:00,\n"
     ]
    },
    {
     "name": "stdout",
     "output_type": "stream",
     "text": [
      "Global round: 248 | Average loss: 0.7459383242660098\n",
      "Global Round: 249\n"
     ]
    },
    {
     "name": "stderr",
     "output_type": "stream",
     "text": [
      "Train Epoch: 249/1000. Iter:   18/  18. Data: 0.058s. alpha: 10. Batch: 0.110s. Loss: 0.7386.: 100%|█| 18/18 [00:01<00:00,\n"
     ]
    },
    {
     "name": "stdout",
     "output_type": "stream",
     "text": [
      "Global round: 249 | Average loss: 0.741627014345593\n",
      "Global Round: 250\n"
     ]
    },
    {
     "name": "stderr",
     "output_type": "stream",
     "text": [
      "Train Epoch: 250/1000. Iter:   11/  18. Data: 0.070s. alpha: 10. Batch: 0.120s. Loss: 0.7557.:  61%|▌| 11/18 [00:01<00:01,"
     ]
    },
    {
     "name": "stdout",
     "output_type": "stream",
     "text": [
      "epoch 250 similarity : [0.13122595846652985, 0.13443638384342194, 0.13389813899993896, 0.13439519703388214, 0.142035111784935]\n"
     ]
    },
    {
     "name": "stderr",
     "output_type": "stream",
     "text": [
      "Train Epoch: 250/1000. Iter:   18/  18. Data: 0.065s. alpha: 10. Batch: 0.114s. Loss: 0.7641.: 100%|█| 18/18 [00:02<00:00,\n"
     ]
    },
    {
     "name": "stdout",
     "output_type": "stream",
     "text": [
      "Global round: 250 | Average loss: 0.7461143003569709\n",
      "Global Round: 251\n"
     ]
    },
    {
     "name": "stderr",
     "output_type": "stream",
     "text": [
      "Train Epoch: 251/1000. Iter:   18/  18. Data: 0.059s. alpha: 10. Batch: 0.111s. Loss: 0.7241.: 100%|█| 18/18 [00:01<00:00,\n"
     ]
    },
    {
     "name": "stdout",
     "output_type": "stream",
     "text": [
      "Global round: 251 | Average loss: 0.7435557709799873\n",
      "Global Round: 252\n"
     ]
    },
    {
     "name": "stderr",
     "output_type": "stream",
     "text": [
      "Train Epoch: 252/1000. Iter:   18/  18. Data: 0.059s. alpha: 10. Batch: 0.110s. Loss: 0.7579.: 100%|█| 18/18 [00:01<00:00,\n"
     ]
    },
    {
     "name": "stdout",
     "output_type": "stream",
     "text": [
      "Global round: 252 | Average loss: 0.7430238558186425\n",
      "Global Round: 253\n"
     ]
    },
    {
     "name": "stderr",
     "output_type": "stream",
     "text": [
      "Train Epoch: 253/1000. Iter:   18/  18. Data: 0.062s. alpha: 10. Batch: 0.112s. Loss: 0.7478.: 100%|█| 18/18 [00:02<00:00,\n"
     ]
    },
    {
     "name": "stdout",
     "output_type": "stream",
     "text": [
      "Global round: 253 | Average loss: 0.7410225205951266\n",
      "Global Round: 254\n"
     ]
    },
    {
     "name": "stderr",
     "output_type": "stream",
     "text": [
      "Train Epoch: 254/1000. Iter:   18/  18. Data: 0.061s. alpha: 10. Batch: 0.110s. Loss: 0.7495.: 100%|█| 18/18 [00:01<00:00,\n"
     ]
    },
    {
     "name": "stdout",
     "output_type": "stream",
     "text": [
      "Global round: 254 | Average loss: 0.7449196411503686\n",
      "Global Round: 255\n"
     ]
    },
    {
     "name": "stderr",
     "output_type": "stream",
     "text": [
      "Train Epoch: 255/1000. Iter:   11/  18. Data: 0.070s. alpha: 10. Batch: 0.121s. Loss: 0.7323.:  61%|▌| 11/18 [00:01<00:01,"
     ]
    },
    {
     "name": "stdout",
     "output_type": "stream",
     "text": [
      "epoch 255 similarity : [0.17203345894813538, 0.15820841491222382, 0.16830119490623474, 0.1699533760547638, 0.17016729712486267]\n"
     ]
    },
    {
     "name": "stderr",
     "output_type": "stream",
     "text": [
      "Train Epoch: 255/1000. Iter:   18/  18. Data: 0.065s. alpha: 10. Batch: 0.114s. Loss: 0.7486.: 100%|█| 18/18 [00:02<00:00,\n"
     ]
    },
    {
     "name": "stdout",
     "output_type": "stream",
     "text": [
      "Global round: 255 | Average loss: 0.7400402757856581\n",
      "Global Round: 256\n"
     ]
    },
    {
     "name": "stderr",
     "output_type": "stream",
     "text": [
      "Train Epoch: 256/1000. Iter:   18/  18. Data: 0.060s. alpha: 10. Batch: 0.111s. Loss: 0.7294.: 100%|█| 18/18 [00:01<00:00,\n"
     ]
    },
    {
     "name": "stdout",
     "output_type": "stream",
     "text": [
      "Global round: 256 | Average loss: 0.7345111204518212\n",
      "Global Round: 257\n"
     ]
    },
    {
     "name": "stderr",
     "output_type": "stream",
     "text": [
      "Train Epoch: 257/1000. Iter:   18/  18. Data: 0.060s. alpha: 10. Batch: 0.107s. Loss: 0.7432.: 100%|█| 18/18 [00:01<00:00,\n"
     ]
    },
    {
     "name": "stdout",
     "output_type": "stream",
     "text": [
      "Global round: 257 | Average loss: 0.7346289091640048\n",
      "Global Round: 258\n"
     ]
    },
    {
     "name": "stderr",
     "output_type": "stream",
     "text": [
      "Train Epoch: 258/1000. Iter:   18/  18. Data: 0.059s. alpha: 10. Batch: 0.108s. Loss: 0.7665.: 100%|█| 18/18 [00:01<00:00,\n"
     ]
    },
    {
     "name": "stdout",
     "output_type": "stream",
     "text": [
      "Global round: 258 | Average loss: 0.7365893423557281\n",
      "Global Round: 259\n"
     ]
    },
    {
     "name": "stderr",
     "output_type": "stream",
     "text": [
      "Train Epoch: 259/1000. Iter:   18/  18. Data: 0.060s. alpha: 10. Batch: 0.111s. Loss: 0.7106.: 100%|█| 18/18 [00:01<00:00,\n"
     ]
    },
    {
     "name": "stdout",
     "output_type": "stream",
     "text": [
      "Global round: 259 | Average loss: 0.7395367390579648\n",
      "Global Round: 260\n"
     ]
    },
    {
     "name": "stderr",
     "output_type": "stream",
     "text": [
      "Train Epoch: 260/1000. Iter:   11/  18. Data: 0.065s. alpha: 10. Batch: 0.113s. Loss: 0.7215.:  61%|▌| 11/18 [00:01<00:00,"
     ]
    },
    {
     "name": "stdout",
     "output_type": "stream",
     "text": [
      "epoch 260 similarity : [0.1411406695842743, 0.13258600234985352, 0.14663377404212952, 0.15079037845134735, 0.14585469663143158]\n"
     ]
    },
    {
     "name": "stderr",
     "output_type": "stream",
     "text": [
      "Train Epoch: 260/1000. Iter:   18/  18. Data: 0.063s. alpha: 10. Batch: 0.113s. Loss: 0.7722.: 100%|█| 18/18 [00:02<00:00,\n"
     ]
    },
    {
     "name": "stdout",
     "output_type": "stream",
     "text": [
      "Global round: 260 | Average loss: 0.7327761318948534\n",
      "Global Round: 261\n"
     ]
    },
    {
     "name": "stderr",
     "output_type": "stream",
     "text": [
      "Train Epoch: 261/1000. Iter:   18/  18. Data: 0.059s. alpha: 10. Batch: 0.112s. Loss: 0.6975.: 100%|█| 18/18 [00:01<00:00,\n"
     ]
    },
    {
     "name": "stdout",
     "output_type": "stream",
     "text": [
      "Global round: 261 | Average loss: 0.7323409484492408\n",
      "Global Round: 262\n"
     ]
    },
    {
     "name": "stderr",
     "output_type": "stream",
     "text": [
      "Train Epoch: 262/1000. Iter:   18/  18. Data: 0.061s. alpha: 10. Batch: 0.111s. Loss: 0.7273.: 100%|█| 18/18 [00:02<00:00,\n"
     ]
    },
    {
     "name": "stdout",
     "output_type": "stream",
     "text": [
      "Global round: 262 | Average loss: 0.735842314031389\n",
      "Global Round: 263\n"
     ]
    },
    {
     "name": "stderr",
     "output_type": "stream",
     "text": [
      "Train Epoch: 263/1000. Iter:   18/  18. Data: 0.059s. alpha: 10. Batch: 0.111s. Loss: 0.7472.: 100%|█| 18/18 [00:01<00:00,\n"
     ]
    },
    {
     "name": "stdout",
     "output_type": "stream",
     "text": [
      "Global round: 263 | Average loss: 0.732806964053048\n",
      "Global Round: 264\n"
     ]
    },
    {
     "name": "stderr",
     "output_type": "stream",
     "text": [
      "Train Epoch: 264/1000. Iter:   18/  18. Data: 0.061s. alpha: 10. Batch: 0.109s. Loss: 0.7335.: 100%|█| 18/18 [00:01<00:00,\n"
     ]
    },
    {
     "name": "stdout",
     "output_type": "stream",
     "text": [
      "Global round: 264 | Average loss: 0.7362273302343156\n",
      "Global Round: 265\n"
     ]
    },
    {
     "name": "stderr",
     "output_type": "stream",
     "text": [
      "Train Epoch: 265/1000. Iter:   11/  18. Data: 0.068s. alpha: 10. Batch: 0.118s. Loss: 0.7509.:  61%|▌| 11/18 [00:01<00:00,"
     ]
    },
    {
     "name": "stdout",
     "output_type": "stream",
     "text": [
      "epoch 265 similarity : [0.14624343812465668, 0.14038003981113434, 0.16139376163482666, 0.1427386850118637, 0.15392601490020752]\n"
     ]
    },
    {
     "name": "stderr",
     "output_type": "stream",
     "text": [
      "Train Epoch: 265/1000. Iter:   18/  18. Data: 0.066s. alpha: 10. Batch: 0.115s. Loss: 0.7119.: 100%|█| 18/18 [00:02<00:00,\n"
     ]
    },
    {
     "name": "stdout",
     "output_type": "stream",
     "text": [
      "Global round: 265 | Average loss: 0.7311858601040311\n",
      "Global Round: 266\n"
     ]
    },
    {
     "name": "stderr",
     "output_type": "stream",
     "text": [
      "Train Epoch: 266/1000. Iter:   18/  18. Data: 0.060s. alpha: 10. Batch: 0.109s. Loss: 0.7102.: 100%|█| 18/18 [00:01<00:00,\n"
     ]
    },
    {
     "name": "stdout",
     "output_type": "stream",
     "text": [
      "Global round: 266 | Average loss: 0.729088564713796\n",
      "Global Round: 267\n"
     ]
    },
    {
     "name": "stderr",
     "output_type": "stream",
     "text": [
      "Train Epoch: 267/1000. Iter:   18/  18. Data: 0.061s. alpha: 10. Batch: 0.113s. Loss: 0.7480.: 100%|█| 18/18 [00:02<00:00,\n"
     ]
    },
    {
     "name": "stdout",
     "output_type": "stream",
     "text": [
      "Global round: 267 | Average loss: 0.7325107322798835\n",
      "Global Round: 268\n"
     ]
    },
    {
     "name": "stderr",
     "output_type": "stream",
     "text": [
      "Train Epoch: 268/1000. Iter:   18/  18. Data: 0.058s. alpha: 10. Batch: 0.110s. Loss: 0.7233.: 100%|█| 18/18 [00:01<00:00,\n"
     ]
    },
    {
     "name": "stdout",
     "output_type": "stream",
     "text": [
      "Global round: 268 | Average loss: 0.7358382874064975\n",
      "Global Round: 269\n"
     ]
    },
    {
     "name": "stderr",
     "output_type": "stream",
     "text": [
      "Train Epoch: 269/1000. Iter:   18/  18. Data: 0.060s. alpha: 10. Batch: 0.109s. Loss: 0.7283.: 100%|█| 18/18 [00:01<00:00,\n"
     ]
    },
    {
     "name": "stdout",
     "output_type": "stream",
     "text": [
      "Global round: 269 | Average loss: 0.7268154786692725\n",
      "Global Round: 270\n"
     ]
    },
    {
     "name": "stderr",
     "output_type": "stream",
     "text": [
      "Train Epoch: 270/1000. Iter:   11/  18. Data: 0.068s. alpha: 10. Batch: 0.120s. Loss: 0.7197.:  61%|▌| 11/18 [00:01<00:00,"
     ]
    },
    {
     "name": "stdout",
     "output_type": "stream",
     "text": [
      "epoch 270 similarity : [0.1644425392150879, 0.1708233803510666, 0.18774864077568054, 0.1623239666223526, 0.17600293457508087]\n"
     ]
    },
    {
     "name": "stderr",
     "output_type": "stream",
     "text": [
      "Train Epoch: 270/1000. Iter:   18/  18. Data: 0.064s. alpha: 10. Batch: 0.117s. Loss: 0.7401.: 100%|█| 18/18 [00:02<00:00,\n"
     ]
    },
    {
     "name": "stdout",
     "output_type": "stream",
     "text": [
      "Global round: 270 | Average loss: 0.7291865150133768\n",
      "Global Round: 271\n"
     ]
    },
    {
     "name": "stderr",
     "output_type": "stream",
     "text": [
      "Train Epoch: 271/1000. Iter:   18/  18. Data: 0.061s. alpha: 10. Batch: 0.110s. Loss: 0.7234.: 100%|█| 18/18 [00:01<00:00,\n"
     ]
    },
    {
     "name": "stdout",
     "output_type": "stream",
     "text": [
      "Global round: 271 | Average loss: 0.7262929280598959\n",
      "Global Round: 272\n"
     ]
    },
    {
     "name": "stderr",
     "output_type": "stream",
     "text": [
      "Train Epoch: 272/1000. Iter:   18/  18. Data: 0.058s. alpha: 10. Batch: 0.108s. Loss: 0.7327.: 100%|█| 18/18 [00:01<00:00,\n"
     ]
    },
    {
     "name": "stdout",
     "output_type": "stream",
     "text": [
      "Global round: 272 | Average loss: 0.7286322249306573\n",
      "Global Round: 273\n"
     ]
    },
    {
     "name": "stderr",
     "output_type": "stream",
     "text": [
      "Train Epoch: 273/1000. Iter:   18/  18. Data: 0.061s. alpha: 10. Batch: 0.109s. Loss: 0.7271.: 100%|█| 18/18 [00:01<00:00,\n"
     ]
    },
    {
     "name": "stdout",
     "output_type": "stream",
     "text": [
      "Global round: 273 | Average loss: 0.7330847084522247\n",
      "Global Round: 274\n"
     ]
    },
    {
     "name": "stderr",
     "output_type": "stream",
     "text": [
      "Train Epoch: 274/1000. Iter:   18/  18. Data: 0.059s. alpha: 10. Batch: 0.108s. Loss: 0.7254.: 100%|█| 18/18 [00:01<00:00,\n"
     ]
    },
    {
     "name": "stdout",
     "output_type": "stream",
     "text": [
      "Global round: 274 | Average loss: 0.726916210518943\n",
      "Global Round: 275\n"
     ]
    },
    {
     "name": "stderr",
     "output_type": "stream",
     "text": [
      "Train Epoch: 275/1000. Iter:   11/  18. Data: 0.067s. alpha: 10. Batch: 0.120s. Loss: 0.7239.:  61%|▌| 11/18 [00:01<00:00,"
     ]
    },
    {
     "name": "stdout",
     "output_type": "stream",
     "text": [
      "epoch 275 similarity : [0.10333026945590973, 0.11462506651878357, 0.11720279604196548, 0.12294996529817581, 0.11042305082082748]\n"
     ]
    },
    {
     "name": "stderr",
     "output_type": "stream",
     "text": [
      "Train Epoch: 275/1000. Iter:   18/  18. Data: 0.063s. alpha: 10. Batch: 0.115s. Loss: 0.7261.: 100%|█| 18/18 [00:02<00:00,\n"
     ]
    },
    {
     "name": "stdout",
     "output_type": "stream",
     "text": [
      "Global round: 275 | Average loss: 0.7321476141611735\n",
      "Global Round: 276\n"
     ]
    },
    {
     "name": "stderr",
     "output_type": "stream",
     "text": [
      "Train Epoch: 276/1000. Iter:   18/  18. Data: 0.064s. alpha: 10. Batch: 0.114s. Loss: 0.7091.: 100%|█| 18/18 [00:02<00:00,\n"
     ]
    },
    {
     "name": "stdout",
     "output_type": "stream",
     "text": [
      "Global round: 276 | Average loss: 0.7285117937458886\n",
      "Global Round: 277\n"
     ]
    },
    {
     "name": "stderr",
     "output_type": "stream",
     "text": [
      "Train Epoch: 277/1000. Iter:   18/  18. Data: 0.058s. alpha: 10. Batch: 0.109s. Loss: 0.7178.: 100%|█| 18/18 [00:01<00:00,\n"
     ]
    },
    {
     "name": "stdout",
     "output_type": "stream",
     "text": [
      "Global round: 277 | Average loss: 0.7232385940021939\n",
      "Global Round: 278\n"
     ]
    },
    {
     "name": "stderr",
     "output_type": "stream",
     "text": [
      "Train Epoch: 278/1000. Iter:   18/  18. Data: 0.060s. alpha: 10. Batch: 0.108s. Loss: 0.7036.: 100%|█| 18/18 [00:01<00:00,\n"
     ]
    },
    {
     "name": "stdout",
     "output_type": "stream",
     "text": [
      "Global round: 278 | Average loss: 0.7240917980670929\n",
      "Global Round: 279\n"
     ]
    },
    {
     "name": "stderr",
     "output_type": "stream",
     "text": [
      "Train Epoch: 279/1000. Iter:   18/  18. Data: 0.059s. alpha: 10. Batch: 0.109s. Loss: 0.7160.: 100%|█| 18/18 [00:01<00:00,\n"
     ]
    },
    {
     "name": "stdout",
     "output_type": "stream",
     "text": [
      "Global round: 279 | Average loss: 0.7231560713715024\n",
      "Global Round: 280\n"
     ]
    },
    {
     "name": "stderr",
     "output_type": "stream",
     "text": [
      "Train Epoch: 280/1000. Iter:   11/  18. Data: 0.071s. alpha: 10. Batch: 0.119s. Loss: 0.7304.:  61%|▌| 11/18 [00:01<00:00,"
     ]
    },
    {
     "name": "stdout",
     "output_type": "stream",
     "text": [
      "epoch 280 similarity : [0.11515875160694122, 0.1253836303949356, 0.1263980269432068, 0.12759387493133545, 0.12859758734703064]\n"
     ]
    },
    {
     "name": "stderr",
     "output_type": "stream",
     "text": [
      "Train Epoch: 280/1000. Iter:   18/  18. Data: 0.066s. alpha: 10. Batch: 0.115s. Loss: 0.7116.: 100%|█| 18/18 [00:02<00:00,\n"
     ]
    },
    {
     "name": "stdout",
     "output_type": "stream",
     "text": [
      "Global round: 280 | Average loss: 0.7278166876898872\n",
      "Global Round: 281\n"
     ]
    },
    {
     "name": "stderr",
     "output_type": "stream",
     "text": [
      "Train Epoch: 281/1000. Iter:   18/  18. Data: 0.059s. alpha: 10. Batch: 0.109s. Loss: 0.7356.: 100%|█| 18/18 [00:01<00:00,\n"
     ]
    },
    {
     "name": "stdout",
     "output_type": "stream",
     "text": [
      "Global round: 281 | Average loss: 0.7283476293087006\n",
      "Global Round: 282\n"
     ]
    },
    {
     "name": "stderr",
     "output_type": "stream",
     "text": [
      "Train Epoch: 282/1000. Iter:   18/  18. Data: 0.064s. alpha: 10. Batch: 0.111s. Loss: 0.7229.: 100%|█| 18/18 [00:01<00:00,\n"
     ]
    },
    {
     "name": "stdout",
     "output_type": "stream",
     "text": [
      "Global round: 282 | Average loss: 0.7228945659266578\n",
      "Global Round: 283\n"
     ]
    },
    {
     "name": "stderr",
     "output_type": "stream",
     "text": [
      "Train Epoch: 283/1000. Iter:   18/  18. Data: 0.059s. alpha: 10. Batch: 0.108s. Loss: 0.6990.: 100%|█| 18/18 [00:01<00:00,\n"
     ]
    },
    {
     "name": "stdout",
     "output_type": "stream",
     "text": [
      "Global round: 283 | Average loss: 0.7209814124637179\n",
      "Global Round: 284\n"
     ]
    },
    {
     "name": "stderr",
     "output_type": "stream",
     "text": [
      "Train Epoch: 284/1000. Iter:   18/  18. Data: 0.058s. alpha: 10. Batch: 0.108s. Loss: 0.7235.: 100%|█| 18/18 [00:01<00:00,\n"
     ]
    },
    {
     "name": "stdout",
     "output_type": "stream",
     "text": [
      "Global round: 284 | Average loss: 0.7195735706223382\n",
      "Global Round: 285\n"
     ]
    },
    {
     "name": "stderr",
     "output_type": "stream",
     "text": [
      "Train Epoch: 285/1000. Iter:   11/  18. Data: 0.070s. alpha: 10. Batch: 0.119s. Loss: 0.7076.:  61%|▌| 11/18 [00:01<00:01,"
     ]
    },
    {
     "name": "stdout",
     "output_type": "stream",
     "text": [
      "epoch 285 similarity : [0.2360524833202362, 0.24596551060676575, 0.25481149554252625, 0.24020172655582428, 0.24518170952796936]\n"
     ]
    },
    {
     "name": "stderr",
     "output_type": "stream",
     "text": [
      "Train Epoch: 285/1000. Iter:   18/  18. Data: 0.065s. alpha: 10. Batch: 0.114s. Loss: 0.7181.: 100%|█| 18/18 [00:02<00:00,\n"
     ]
    },
    {
     "name": "stdout",
     "output_type": "stream",
     "text": [
      "Global round: 285 | Average loss: 0.7186391154925028\n",
      "Global Round: 286\n"
     ]
    },
    {
     "name": "stderr",
     "output_type": "stream",
     "text": [
      "Train Epoch: 286/1000. Iter:   18/  18. Data: 0.059s. alpha: 10. Batch: 0.110s. Loss: 0.6992.: 100%|█| 18/18 [00:01<00:00,\n"
     ]
    },
    {
     "name": "stdout",
     "output_type": "stream",
     "text": [
      "Global round: 286 | Average loss: 0.722059451871448\n",
      "Global Round: 287\n"
     ]
    },
    {
     "name": "stderr",
     "output_type": "stream",
     "text": [
      "Train Epoch: 287/1000. Iter:   18/  18. Data: 0.058s. alpha: 10. Batch: 0.108s. Loss: 0.7280.: 100%|█| 18/18 [00:01<00:00,\n"
     ]
    },
    {
     "name": "stdout",
     "output_type": "stream",
     "text": [
      "Global round: 287 | Average loss: 0.7204599347379472\n",
      "Global Round: 288\n"
     ]
    },
    {
     "name": "stderr",
     "output_type": "stream",
     "text": [
      "Train Epoch: 288/1000. Iter:   18/  18. Data: 0.062s. alpha: 10. Batch: 0.113s. Loss: 0.6949.: 100%|█| 18/18 [00:02<00:00,\n"
     ]
    },
    {
     "name": "stdout",
     "output_type": "stream",
     "text": [
      "Global round: 288 | Average loss: 0.7194932897885641\n",
      "Global Round: 289\n"
     ]
    },
    {
     "name": "stderr",
     "output_type": "stream",
     "text": [
      "Train Epoch: 289/1000. Iter:   18/  18. Data: 0.061s. alpha: 10. Batch: 0.110s. Loss: 0.7096.: 100%|█| 18/18 [00:01<00:00,\n"
     ]
    },
    {
     "name": "stdout",
     "output_type": "stream",
     "text": [
      "Global round: 289 | Average loss: 0.714555005232493\n",
      "Global Round: 290\n"
     ]
    },
    {
     "name": "stderr",
     "output_type": "stream",
     "text": [
      "Train Epoch: 290/1000. Iter:   11/  18. Data: 0.070s. alpha: 10. Batch: 0.120s. Loss: 0.7175.:  61%|▌| 11/18 [00:01<00:01,"
     ]
    },
    {
     "name": "stdout",
     "output_type": "stream",
     "text": [
      "epoch 290 similarity : [0.12905390560626984, 0.12470093369483948, 0.13847187161445618, 0.1261949986219406, 0.12660588324069977]\n"
     ]
    },
    {
     "name": "stderr",
     "output_type": "stream",
     "text": [
      "Train Epoch: 290/1000. Iter:   18/  18. Data: 0.064s. alpha: 10. Batch: 0.114s. Loss: 0.7377.: 100%|█| 18/18 [00:02<00:00,\n"
     ]
    },
    {
     "name": "stdout",
     "output_type": "stream",
     "text": [
      "Global round: 290 | Average loss: 0.7214006880919138\n",
      "Global Round: 291\n"
     ]
    },
    {
     "name": "stderr",
     "output_type": "stream",
     "text": [
      "Train Epoch: 291/1000. Iter:   18/  18. Data: 0.060s. alpha: 10. Batch: 0.110s. Loss: 0.6907.: 100%|█| 18/18 [00:01<00:00,\n"
     ]
    },
    {
     "name": "stdout",
     "output_type": "stream",
     "text": [
      "Global round: 291 | Average loss: 0.716896653175354\n",
      "Global Round: 292\n"
     ]
    },
    {
     "name": "stderr",
     "output_type": "stream",
     "text": [
      "Train Epoch: 292/1000. Iter:   18/  18. Data: 0.061s. alpha: 10. Batch: 0.110s. Loss: 0.7165.: 100%|█| 18/18 [00:01<00:00,\n"
     ]
    },
    {
     "name": "stdout",
     "output_type": "stream",
     "text": [
      "Global round: 292 | Average loss: 0.7166172630257077\n",
      "Global Round: 293\n"
     ]
    },
    {
     "name": "stderr",
     "output_type": "stream",
     "text": [
      "Train Epoch: 293/1000. Iter:   18/  18. Data: 0.059s. alpha: 10. Batch: 0.109s. Loss: 0.7096.: 100%|█| 18/18 [00:01<00:00,\n"
     ]
    },
    {
     "name": "stdout",
     "output_type": "stream",
     "text": [
      "Global round: 293 | Average loss: 0.7168329192532433\n",
      "Global Round: 294\n"
     ]
    },
    {
     "name": "stderr",
     "output_type": "stream",
     "text": [
      "Train Epoch: 294/1000. Iter:   18/  18. Data: 0.061s. alpha: 10. Batch: 0.113s. Loss: 0.7018.: 100%|█| 18/18 [00:02<00:00,\n"
     ]
    },
    {
     "name": "stdout",
     "output_type": "stream",
     "text": [
      "Global round: 294 | Average loss: 0.7146506210168203\n",
      "Global Round: 295\n"
     ]
    },
    {
     "name": "stderr",
     "output_type": "stream",
     "text": [
      "Train Epoch: 295/1000. Iter:   11/  18. Data: 0.066s. alpha: 10. Batch: 0.114s. Loss: 0.7138.:  61%|▌| 11/18 [00:01<00:00,"
     ]
    },
    {
     "name": "stdout",
     "output_type": "stream",
     "text": [
      "epoch 295 similarity : [0.1612475961446762, 0.16641512513160706, 0.17873413860797882, 0.16429929435253143, 0.1656087189912796]\n"
     ]
    },
    {
     "name": "stderr",
     "output_type": "stream",
     "text": [
      "Train Epoch: 295/1000. Iter:   18/  18. Data: 0.064s. alpha: 10. Batch: 0.114s. Loss: 0.7042.: 100%|█| 18/18 [00:02<00:00,\n"
     ]
    },
    {
     "name": "stdout",
     "output_type": "stream",
     "text": [
      "Global round: 295 | Average loss: 0.7093750437100729\n",
      "Global Round: 296\n"
     ]
    },
    {
     "name": "stderr",
     "output_type": "stream",
     "text": [
      "Train Epoch: 296/1000. Iter:   18/  18. Data: 0.059s. alpha: 10. Batch: 0.110s. Loss: 0.7109.: 100%|█| 18/18 [00:01<00:00,\n"
     ]
    },
    {
     "name": "stdout",
     "output_type": "stream",
     "text": [
      "Global round: 296 | Average loss: 0.7181113229857551\n",
      "Global Round: 297\n"
     ]
    },
    {
     "name": "stderr",
     "output_type": "stream",
     "text": [
      "Train Epoch: 297/1000. Iter:   18/  18. Data: 0.061s. alpha: 10. Batch: 0.110s. Loss: 0.6945.: 100%|█| 18/18 [00:01<00:00,\n"
     ]
    },
    {
     "name": "stdout",
     "output_type": "stream",
     "text": [
      "Global round: 297 | Average loss: 0.7169469098250071\n",
      "Global Round: 298\n"
     ]
    },
    {
     "name": "stderr",
     "output_type": "stream",
     "text": [
      "Train Epoch: 298/1000. Iter:   18/  18. Data: 0.059s. alpha: 10. Batch: 0.110s. Loss: 0.6972.: 100%|█| 18/18 [00:01<00:00,\n"
     ]
    },
    {
     "name": "stdout",
     "output_type": "stream",
     "text": [
      "Global round: 298 | Average loss: 0.7097349464893341\n",
      "Global Round: 299\n"
     ]
    },
    {
     "name": "stderr",
     "output_type": "stream",
     "text": [
      "Train Epoch: 299/1000. Iter:   18/  18. Data: 0.061s. alpha: 10. Batch: 0.110s. Loss: 0.7066.: 100%|█| 18/18 [00:01<00:00,\n"
     ]
    },
    {
     "name": "stdout",
     "output_type": "stream",
     "text": [
      "Global round: 299 | Average loss: 0.71356134613355\n",
      "Global Round: 300\n"
     ]
    },
    {
     "name": "stderr",
     "output_type": "stream",
     "text": [
      "Train Epoch: 300/1000. Iter:   11/  18. Data: 0.069s. alpha: 10. Batch: 0.120s. Loss: 0.7351.:  61%|▌| 11/18 [00:01<00:00,"
     ]
    },
    {
     "name": "stdout",
     "output_type": "stream",
     "text": [
      "epoch 300 similarity : [0.19361330568790436, 0.19364389777183533, 0.20185919106006622, 0.19333475828170776, 0.1924007087945938]\n"
     ]
    },
    {
     "name": "stderr",
     "output_type": "stream",
     "text": [
      "Train Epoch: 300/1000. Iter:   18/  18. Data: 0.067s. alpha: 10. Batch: 0.118s. Loss: 0.6983.: 100%|█| 18/18 [00:02<00:00,\n"
     ]
    },
    {
     "name": "stdout",
     "output_type": "stream",
     "text": [
      "Global round: 300 | Average loss: 0.7102371652921041\n",
      "Global Round: 301\n"
     ]
    },
    {
     "name": "stderr",
     "output_type": "stream",
     "text": [
      "Train Epoch: 301/1000. Iter:   18/  18. Data: 0.061s. alpha: 10. Batch: 0.111s. Loss: 0.7077.: 100%|█| 18/18 [00:01<00:00,\n"
     ]
    },
    {
     "name": "stdout",
     "output_type": "stream",
     "text": [
      "Global round: 301 | Average loss: 0.7096450858645968\n",
      "Global Round: 302\n"
     ]
    },
    {
     "name": "stderr",
     "output_type": "stream",
     "text": [
      "Train Epoch: 302/1000. Iter:   18/  18. Data: 0.060s. alpha: 10. Batch: 0.110s. Loss: 0.6992.: 100%|█| 18/18 [00:01<00:00,\n"
     ]
    },
    {
     "name": "stdout",
     "output_type": "stream",
     "text": [
      "Global round: 302 | Average loss: 0.7071544031302134\n",
      "Global Round: 303\n"
     ]
    },
    {
     "name": "stderr",
     "output_type": "stream",
     "text": [
      "Train Epoch: 303/1000. Iter:   18/  18. Data: 0.059s. alpha: 10. Batch: 0.111s. Loss: 0.7075.: 100%|█| 18/18 [00:01<00:00,\n"
     ]
    },
    {
     "name": "stdout",
     "output_type": "stream",
     "text": [
      "Global round: 303 | Average loss: 0.7112056281831529\n",
      "Global Round: 304\n"
     ]
    },
    {
     "name": "stderr",
     "output_type": "stream",
     "text": [
      "Train Epoch: 304/1000. Iter:   18/  18. Data: 0.060s. alpha: 10. Batch: 0.110s. Loss: 0.7199.: 100%|█| 18/18 [00:01<00:00,\n"
     ]
    },
    {
     "name": "stdout",
     "output_type": "stream",
     "text": [
      "Global round: 304 | Average loss: 0.7071161833074358\n",
      "Global Round: 305\n"
     ]
    },
    {
     "name": "stderr",
     "output_type": "stream",
     "text": [
      "Train Epoch: 305/1000. Iter:   11/  18. Data: 0.068s. alpha: 10. Batch: 0.120s. Loss: 0.7214.:  61%|▌| 11/18 [00:01<00:00,"
     ]
    },
    {
     "name": "stdout",
     "output_type": "stream",
     "text": [
      "epoch 305 similarity : [0.18071629106998444, 0.1845708191394806, 0.20191872119903564, 0.19967606663703918, 0.19305254518985748]\n"
     ]
    },
    {
     "name": "stderr",
     "output_type": "stream",
     "text": [
      "Train Epoch: 305/1000. Iter:   18/  18. Data: 0.064s. alpha: 10. Batch: 0.118s. Loss: 0.6943.: 100%|█| 18/18 [00:02<00:00,\n"
     ]
    },
    {
     "name": "stdout",
     "output_type": "stream",
     "text": [
      "Global round: 305 | Average loss: 0.7103065351645151\n",
      "Global Round: 306\n"
     ]
    },
    {
     "name": "stderr",
     "output_type": "stream",
     "text": [
      "Train Epoch: 306/1000. Iter:   18/  18. Data: 0.061s. alpha: 10. Batch: 0.110s. Loss: 0.6701.: 100%|█| 18/18 [00:01<00:00,\n"
     ]
    },
    {
     "name": "stdout",
     "output_type": "stream",
     "text": [
      "Global round: 306 | Average loss: 0.7077996035416921\n",
      "Global Round: 307\n"
     ]
    },
    {
     "name": "stderr",
     "output_type": "stream",
     "text": [
      "Train Epoch: 307/1000. Iter:   18/  18. Data: 0.059s. alpha: 10. Batch: 0.109s. Loss: 0.7282.: 100%|█| 18/18 [00:01<00:00,\n"
     ]
    },
    {
     "name": "stdout",
     "output_type": "stream",
     "text": [
      "Global round: 307 | Average loss: 0.7071587443351746\n",
      "Global Round: 308\n"
     ]
    },
    {
     "name": "stderr",
     "output_type": "stream",
     "text": [
      "Train Epoch: 308/1000. Iter:   18/  18. Data: 0.061s. alpha: 10. Batch: 0.109s. Loss: 0.6815.: 100%|█| 18/18 [00:01<00:00,\n"
     ]
    },
    {
     "name": "stdout",
     "output_type": "stream",
     "text": [
      "Global round: 308 | Average loss: 0.7037763098875681\n",
      "Global Round: 309\n"
     ]
    },
    {
     "name": "stderr",
     "output_type": "stream",
     "text": [
      "Train Epoch: 309/1000. Iter:   18/  18. Data: 0.059s. alpha: 10. Batch: 0.108s. Loss: 0.6845.: 100%|█| 18/18 [00:01<00:00,\n"
     ]
    },
    {
     "name": "stdout",
     "output_type": "stream",
     "text": [
      "Global round: 309 | Average loss: 0.7077664037545522\n",
      "Global Round: 310\n"
     ]
    },
    {
     "name": "stderr",
     "output_type": "stream",
     "text": [
      "Train Epoch: 310/1000. Iter:   11/  18. Data: 0.066s. alpha: 10. Batch: 0.118s. Loss: 0.7342.:  61%|▌| 11/18 [00:01<00:00,"
     ]
    },
    {
     "name": "stdout",
     "output_type": "stream",
     "text": [
      "epoch 310 similarity : [0.12840907275676727, 0.1311519593000412, 0.14859409630298615, 0.13727861642837524, 0.13398036360740662]\n"
     ]
    },
    {
     "name": "stderr",
     "output_type": "stream",
     "text": [
      "Train Epoch: 310/1000. Iter:   18/  18. Data: 0.062s. alpha: 10. Batch: 0.113s. Loss: 0.7032.: 100%|█| 18/18 [00:02<00:00,\n"
     ]
    },
    {
     "name": "stdout",
     "output_type": "stream",
     "text": [
      "Global round: 310 | Average loss: 0.7011930843194326\n",
      "Global Round: 311\n"
     ]
    },
    {
     "name": "stderr",
     "output_type": "stream",
     "text": [
      "Train Epoch: 311/1000. Iter:   18/  18. Data: 0.064s. alpha: 10. Batch: 0.113s. Loss: 0.6886.: 100%|█| 18/18 [00:02<00:00,\n"
     ]
    },
    {
     "name": "stdout",
     "output_type": "stream",
     "text": [
      "Global round: 311 | Average loss: 0.7061795790990194\n",
      "Global Round: 312\n"
     ]
    },
    {
     "name": "stderr",
     "output_type": "stream",
     "text": [
      "Train Epoch: 312/1000. Iter:   18/  18. Data: 0.058s. alpha: 10. Batch: 0.109s. Loss: 0.6940.: 100%|█| 18/18 [00:01<00:00,\n"
     ]
    },
    {
     "name": "stdout",
     "output_type": "stream",
     "text": [
      "Global round: 312 | Average loss: 0.6998179290029738\n",
      "Global Round: 313\n"
     ]
    },
    {
     "name": "stderr",
     "output_type": "stream",
     "text": [
      "Train Epoch: 313/1000. Iter:   18/  18. Data: 0.060s. alpha: 10. Batch: 0.110s. Loss: 0.7105.: 100%|█| 18/18 [00:01<00:00,\n"
     ]
    },
    {
     "name": "stdout",
     "output_type": "stream",
     "text": [
      "Global round: 313 | Average loss: 0.701026976108551\n",
      "Global Round: 314\n"
     ]
    },
    {
     "name": "stderr",
     "output_type": "stream",
     "text": [
      "Train Epoch: 314/1000. Iter:   18/  18. Data: 0.059s. alpha: 10. Batch: 0.109s. Loss: 0.6898.: 100%|█| 18/18 [00:01<00:00,\n"
     ]
    },
    {
     "name": "stdout",
     "output_type": "stream",
     "text": [
      "Global round: 314 | Average loss: 0.6956667966312833\n",
      "Global Round: 315\n"
     ]
    },
    {
     "name": "stderr",
     "output_type": "stream",
     "text": [
      "Train Epoch: 315/1000. Iter:   11/  18. Data: 0.071s. alpha: 10. Batch: 0.119s. Loss: 0.7411.:  61%|▌| 11/18 [00:01<00:00,"
     ]
    },
    {
     "name": "stdout",
     "output_type": "stream",
     "text": [
      "epoch 315 similarity : [0.13890381157398224, 0.14464059472084045, 0.16039133071899414, 0.16066189110279083, 0.15602654218673706]\n"
     ]
    },
    {
     "name": "stderr",
     "output_type": "stream",
     "text": [
      "Train Epoch: 315/1000. Iter:   18/  18. Data: 0.065s. alpha: 10. Batch: 0.114s. Loss: 0.7249.: 100%|█| 18/18 [00:02<00:00,\n"
     ]
    },
    {
     "name": "stdout",
     "output_type": "stream",
     "text": [
      "Global round: 315 | Average loss: 0.6990892224841647\n",
      "Global Round: 316\n"
     ]
    },
    {
     "name": "stderr",
     "output_type": "stream",
     "text": [
      "Train Epoch: 316/1000. Iter:   18/  18. Data: 0.059s. alpha: 10. Batch: 0.108s. Loss: 0.7190.: 100%|█| 18/18 [00:01<00:00,\n"
     ]
    },
    {
     "name": "stdout",
     "output_type": "stream",
     "text": [
      "Global round: 316 | Average loss: 0.700405607620875\n",
      "Global Round: 317\n"
     ]
    },
    {
     "name": "stderr",
     "output_type": "stream",
     "text": [
      "Train Epoch: 317/1000. Iter:   18/  18. Data: 0.064s. alpha: 10. Batch: 0.112s. Loss: 0.7122.: 100%|█| 18/18 [00:02<00:00,\n"
     ]
    },
    {
     "name": "stdout",
     "output_type": "stream",
     "text": [
      "Global round: 317 | Average loss: 0.698109530740314\n",
      "Global Round: 318\n"
     ]
    },
    {
     "name": "stderr",
     "output_type": "stream",
     "text": [
      "Train Epoch: 318/1000. Iter:   18/  18. Data: 0.059s. alpha: 10. Batch: 0.108s. Loss: 0.7000.: 100%|█| 18/18 [00:01<00:00,\n"
     ]
    },
    {
     "name": "stdout",
     "output_type": "stream",
     "text": [
      "Global round: 318 | Average loss: 0.699166112475925\n",
      "Global Round: 319\n"
     ]
    },
    {
     "name": "stderr",
     "output_type": "stream",
     "text": [
      "Train Epoch: 319/1000. Iter:   18/  18. Data: 0.058s. alpha: 10. Batch: 0.108s. Loss: 0.7050.: 100%|█| 18/18 [00:01<00:00,\n"
     ]
    },
    {
     "name": "stdout",
     "output_type": "stream",
     "text": [
      "Global round: 319 | Average loss: 0.6972306006484561\n",
      "Global Round: 320\n"
     ]
    },
    {
     "name": "stderr",
     "output_type": "stream",
     "text": [
      "Train Epoch: 320/1000. Iter:   11/  18. Data: 0.070s. alpha: 10. Batch: 0.119s. Loss: 0.6680.:  61%|▌| 11/18 [00:01<00:01,"
     ]
    },
    {
     "name": "stdout",
     "output_type": "stream",
     "text": [
      "epoch 320 similarity : [0.16462184488773346, 0.16921687126159668, 0.18966363370418549, 0.17730523645877838, 0.17904169857501984]\n"
     ]
    },
    {
     "name": "stderr",
     "output_type": "stream",
     "text": [
      "Train Epoch: 320/1000. Iter:   18/  18. Data: 0.065s. alpha: 10. Batch: 0.113s. Loss: 0.6784.: 100%|█| 18/18 [00:02<00:00,\n"
     ]
    },
    {
     "name": "stdout",
     "output_type": "stream",
     "text": [
      "Global round: 320 | Average loss: 0.6936635606818728\n",
      "Global Round: 321\n"
     ]
    },
    {
     "name": "stderr",
     "output_type": "stream",
     "text": [
      "Train Epoch: 321/1000. Iter:   18/  18. Data: 0.060s. alpha: 10. Batch: 0.111s. Loss: 0.7323.: 100%|█| 18/18 [00:01<00:00,\n"
     ]
    },
    {
     "name": "stdout",
     "output_type": "stream",
     "text": [
      "Global round: 321 | Average loss: 0.6981973085138533\n",
      "Global Round: 322\n"
     ]
    },
    {
     "name": "stderr",
     "output_type": "stream",
     "text": [
      "Train Epoch: 322/1000. Iter:   18/  18. Data: 0.058s. alpha: 10. Batch: 0.110s. Loss: 0.6711.: 100%|█| 18/18 [00:01<00:00,\n"
     ]
    },
    {
     "name": "stdout",
     "output_type": "stream",
     "text": [
      "Global round: 322 | Average loss: 0.6961481471856436\n",
      "Global Round: 323\n"
     ]
    },
    {
     "name": "stderr",
     "output_type": "stream",
     "text": [
      "Train Epoch: 323/1000. Iter:   18/  18. Data: 0.062s. alpha: 10. Batch: 0.114s. Loss: 0.6902.: 100%|█| 18/18 [00:02<00:00,\n"
     ]
    },
    {
     "name": "stdout",
     "output_type": "stream",
     "text": [
      "Global round: 323 | Average loss: 0.6970538993676504\n",
      "Global Round: 324\n"
     ]
    },
    {
     "name": "stderr",
     "output_type": "stream",
     "text": [
      "Train Epoch: 324/1000. Iter:   18/  18. Data: 0.061s. alpha: 10. Batch: 0.112s. Loss: 0.7077.: 100%|█| 18/18 [00:02<00:00,\n"
     ]
    },
    {
     "name": "stdout",
     "output_type": "stream",
     "text": [
      "Global round: 324 | Average loss: 0.695023215479321\n",
      "Global Round: 325\n"
     ]
    },
    {
     "name": "stderr",
     "output_type": "stream",
     "text": [
      "Train Epoch: 325/1000. Iter:   11/  18. Data: 0.071s. alpha: 10. Batch: 0.123s. Loss: 0.6693.:  61%|▌| 11/18 [00:01<00:01,"
     ]
    },
    {
     "name": "stdout",
     "output_type": "stream",
     "text": [
      "epoch 325 similarity : [0.16006501019001007, 0.16721399128437042, 0.1807721108198166, 0.17298923432826996, 0.1744057536125183]\n"
     ]
    },
    {
     "name": "stderr",
     "output_type": "stream",
     "text": [
      "Train Epoch: 325/1000. Iter:   18/  18. Data: 0.065s. alpha: 10. Batch: 0.115s. Loss: 0.6947.: 100%|█| 18/18 [00:02<00:00,\n"
     ]
    },
    {
     "name": "stdout",
     "output_type": "stream",
     "text": [
      "Global round: 325 | Average loss: 0.6949313547876146\n",
      "Global Round: 326\n"
     ]
    },
    {
     "name": "stderr",
     "output_type": "stream",
     "text": [
      "Train Epoch: 326/1000. Iter:   18/  18. Data: 0.059s. alpha: 10. Batch: 0.110s. Loss: 0.6837.: 100%|█| 18/18 [00:01<00:00,\n"
     ]
    },
    {
     "name": "stdout",
     "output_type": "stream",
     "text": [
      "Global round: 326 | Average loss: 0.6931776569949256\n",
      "Global Round: 327\n"
     ]
    },
    {
     "name": "stderr",
     "output_type": "stream",
     "text": [
      "Train Epoch: 327/1000. Iter:   18/  18. Data: 0.061s. alpha: 10. Batch: 0.111s. Loss: 0.6855.: 100%|█| 18/18 [00:01<00:00,\n"
     ]
    },
    {
     "name": "stdout",
     "output_type": "stream",
     "text": [
      "Global round: 327 | Average loss: 0.6940827601485782\n",
      "Global Round: 328\n"
     ]
    },
    {
     "name": "stderr",
     "output_type": "stream",
     "text": [
      "Train Epoch: 328/1000. Iter:   18/  18. Data: 0.059s. alpha: 10. Batch: 0.109s. Loss: 0.6740.: 100%|█| 18/18 [00:01<00:00,\n"
     ]
    },
    {
     "name": "stdout",
     "output_type": "stream",
     "text": [
      "Global round: 328 | Average loss: 0.6882658302783966\n",
      "Global Round: 329\n"
     ]
    },
    {
     "name": "stderr",
     "output_type": "stream",
     "text": [
      "Train Epoch: 329/1000. Iter:   18/  18. Data: 0.061s. alpha: 10. Batch: 0.113s. Loss: 0.6890.: 100%|█| 18/18 [00:02<00:00,\n"
     ]
    },
    {
     "name": "stdout",
     "output_type": "stream",
     "text": [
      "Global round: 329 | Average loss: 0.6902791129218208\n",
      "Global Round: 330\n"
     ]
    },
    {
     "name": "stderr",
     "output_type": "stream",
     "text": [
      "Train Epoch: 330/1000. Iter:   11/  18. Data: 0.065s. alpha: 10. Batch: 0.113s. Loss: 0.6746.:  61%|▌| 11/18 [00:01<00:00,"
     ]
    },
    {
     "name": "stdout",
     "output_type": "stream",
     "text": [
      "epoch 330 similarity : [0.12009427696466446, 0.1258547306060791, 0.13053874671459198, 0.13145288825035095, 0.12684904038906097]\n"
     ]
    },
    {
     "name": "stderr",
     "output_type": "stream",
     "text": [
      "Train Epoch: 330/1000. Iter:   18/  18. Data: 0.064s. alpha: 10. Batch: 0.113s. Loss: 0.6887.: 100%|█| 18/18 [00:02<00:00,\n"
     ]
    },
    {
     "name": "stdout",
     "output_type": "stream",
     "text": [
      "Global round: 330 | Average loss: 0.6896693143579695\n",
      "Global Round: 331\n"
     ]
    },
    {
     "name": "stderr",
     "output_type": "stream",
     "text": [
      "Train Epoch: 331/1000. Iter:   18/  18. Data: 0.059s. alpha: 10. Batch: 0.110s. Loss: 0.6865.: 100%|█| 18/18 [00:01<00:00,\n"
     ]
    },
    {
     "name": "stdout",
     "output_type": "stream",
     "text": [
      "Global round: 331 | Average loss: 0.69121543235249\n",
      "Global Round: 332\n"
     ]
    },
    {
     "name": "stderr",
     "output_type": "stream",
     "text": [
      "Train Epoch: 332/1000. Iter:   18/  18. Data: 0.061s. alpha: 10. Batch: 0.110s. Loss: 0.6997.: 100%|█| 18/18 [00:01<00:00,\n"
     ]
    },
    {
     "name": "stdout",
     "output_type": "stream",
     "text": [
      "Global round: 332 | Average loss: 0.6849203606446584\n",
      "Global Round: 333\n"
     ]
    },
    {
     "name": "stderr",
     "output_type": "stream",
     "text": [
      "Train Epoch: 333/1000. Iter:   18/  18. Data: 0.059s. alpha: 10. Batch: 0.109s. Loss: 0.6797.: 100%|█| 18/18 [00:01<00:00,\n"
     ]
    },
    {
     "name": "stdout",
     "output_type": "stream",
     "text": [
      "Global round: 333 | Average loss: 0.6910337441497378\n",
      "Global Round: 334\n"
     ]
    },
    {
     "name": "stderr",
     "output_type": "stream",
     "text": [
      "Train Epoch: 334/1000. Iter:   18/  18. Data: 0.061s. alpha: 10. Batch: 0.110s. Loss: 0.6698.: 100%|█| 18/18 [00:01<00:00,\n"
     ]
    },
    {
     "name": "stdout",
     "output_type": "stream",
     "text": [
      "Global round: 334 | Average loss: 0.6841190854708353\n",
      "Global Round: 335\n"
     ]
    },
    {
     "name": "stderr",
     "output_type": "stream",
     "text": [
      "Train Epoch: 335/1000. Iter:   11/  18. Data: 0.069s. alpha: 10. Batch: 0.119s. Loss: 0.6898.:  61%|▌| 11/18 [00:01<00:00,"
     ]
    },
    {
     "name": "stdout",
     "output_type": "stream",
     "text": [
      "epoch 335 similarity : [0.17138855159282684, 0.1880211979150772, 0.18241748213768005, 0.1767958402633667, 0.1787397861480713]\n"
     ]
    },
    {
     "name": "stderr",
     "output_type": "stream",
     "text": [
      "Train Epoch: 335/1000. Iter:   18/  18. Data: 0.067s. alpha: 10. Batch: 0.117s. Loss: 0.6852.: 100%|█| 18/18 [00:02<00:00,\n"
     ]
    },
    {
     "name": "stdout",
     "output_type": "stream",
     "text": [
      "Global round: 335 | Average loss: 0.6865275601545969\n",
      "Global Round: 336\n"
     ]
    },
    {
     "name": "stderr",
     "output_type": "stream",
     "text": [
      "Train Epoch: 336/1000. Iter:   18/  18. Data: 0.060s. alpha: 10. Batch: 0.109s. Loss: 0.6625.: 100%|█| 18/18 [00:01<00:00,\n"
     ]
    },
    {
     "name": "stdout",
     "output_type": "stream",
     "text": [
      "Global round: 336 | Average loss: 0.6847888264391158\n",
      "Global Round: 337\n"
     ]
    },
    {
     "name": "stderr",
     "output_type": "stream",
     "text": [
      "Train Epoch: 337/1000. Iter:   18/  18. Data: 0.059s. alpha: 10. Batch: 0.108s. Loss: 0.6663.: 100%|█| 18/18 [00:01<00:00,\n"
     ]
    },
    {
     "name": "stdout",
     "output_type": "stream",
     "text": [
      "Global round: 337 | Average loss: 0.6776801711983151\n",
      "Global Round: 338\n"
     ]
    },
    {
     "name": "stderr",
     "output_type": "stream",
     "text": [
      "Train Epoch: 338/1000. Iter:   18/  18. Data: 0.058s. alpha: 10. Batch: 0.109s. Loss: 0.6704.: 100%|█| 18/18 [00:01<00:00,\n"
     ]
    },
    {
     "name": "stdout",
     "output_type": "stream",
     "text": [
      "Global round: 338 | Average loss: 0.6821230053901672\n",
      "Global Round: 339\n"
     ]
    },
    {
     "name": "stderr",
     "output_type": "stream",
     "text": [
      "Train Epoch: 339/1000. Iter:   18/  18. Data: 0.061s. alpha: 10. Batch: 0.110s. Loss: 0.6830.: 100%|█| 18/18 [00:01<00:00,\n"
     ]
    },
    {
     "name": "stdout",
     "output_type": "stream",
     "text": [
      "Global round: 339 | Average loss: 0.6826208465629153\n",
      "Global Round: 340\n"
     ]
    },
    {
     "name": "stderr",
     "output_type": "stream",
     "text": [
      "Train Epoch: 340/1000. Iter:   11/  18. Data: 0.068s. alpha: 10. Batch: 0.120s. Loss: 0.6684.:  61%|▌| 11/18 [00:01<00:00,"
     ]
    },
    {
     "name": "stdout",
     "output_type": "stream",
     "text": [
      "epoch 340 similarity : [0.18764212727546692, 0.1909235268831253, 0.19897964596748352, 0.19459833204746246, 0.18789184093475342]\n"
     ]
    },
    {
     "name": "stderr",
     "output_type": "stream",
     "text": [
      "Train Epoch: 340/1000. Iter:   18/  18. Data: 0.064s. alpha: 10. Batch: 0.118s. Loss: 0.6913.: 100%|█| 18/18 [00:02<00:00,\n"
     ]
    },
    {
     "name": "stdout",
     "output_type": "stream",
     "text": [
      "Global round: 340 | Average loss: 0.6828674938943651\n",
      "Global Round: 341\n"
     ]
    },
    {
     "name": "stderr",
     "output_type": "stream",
     "text": [
      "Train Epoch: 341/1000. Iter:   18/  18. Data: 0.061s. alpha: 10. Batch: 0.110s. Loss: 0.6754.: 100%|█| 18/18 [00:01<00:00,\n"
     ]
    },
    {
     "name": "stdout",
     "output_type": "stream",
     "text": [
      "Global round: 341 | Average loss: 0.6829713947243161\n",
      "Global Round: 342\n"
     ]
    },
    {
     "name": "stderr",
     "output_type": "stream",
     "text": [
      "Train Epoch: 342/1000. Iter:   18/  18. Data: 0.058s. alpha: 10. Batch: 0.108s. Loss: 0.6977.: 100%|█| 18/18 [00:01<00:00,\n"
     ]
    },
    {
     "name": "stdout",
     "output_type": "stream",
     "text": [
      "Global round: 342 | Average loss: 0.6802641981177859\n",
      "Global Round: 343\n"
     ]
    },
    {
     "name": "stderr",
     "output_type": "stream",
     "text": [
      "Train Epoch: 343/1000. Iter:   18/  18. Data: 0.061s. alpha: 10. Batch: 0.109s. Loss: 0.6605.: 100%|█| 18/18 [00:01<00:00,\n"
     ]
    },
    {
     "name": "stdout",
     "output_type": "stream",
     "text": [
      "Global round: 343 | Average loss: 0.6772168013784621\n",
      "Global Round: 344\n"
     ]
    },
    {
     "name": "stderr",
     "output_type": "stream",
     "text": [
      "Train Epoch: 344/1000. Iter:   18/  18. Data: 0.060s. alpha: 10. Batch: 0.109s. Loss: 0.6664.: 100%|█| 18/18 [00:01<00:00,\n"
     ]
    },
    {
     "name": "stdout",
     "output_type": "stream",
     "text": [
      "Global round: 344 | Average loss: 0.6805991894669003\n",
      "Global Round: 345\n"
     ]
    },
    {
     "name": "stderr",
     "output_type": "stream",
     "text": [
      "Train Epoch: 345/1000. Iter:   11/  18. Data: 0.067s. alpha: 10. Batch: 0.119s. Loss: 0.6744.:  61%|▌| 11/18 [00:01<00:00,"
     ]
    },
    {
     "name": "stdout",
     "output_type": "stream",
     "text": [
      "epoch 345 similarity : [0.12676991522312164, 0.13773173093795776, 0.14695139229297638, 0.13661713898181915, 0.1206652820110321]\n"
     ]
    },
    {
     "name": "stderr",
     "output_type": "stream",
     "text": [
      "Train Epoch: 345/1000. Iter:   18/  18. Data: 0.063s. alpha: 10. Batch: 0.113s. Loss: 0.6795.: 100%|█| 18/18 [00:02<00:00,\n"
     ]
    },
    {
     "name": "stdout",
     "output_type": "stream",
     "text": [
      "Global round: 345 | Average loss: 0.6805276870727539\n",
      "Global Round: 346\n"
     ]
    },
    {
     "name": "stderr",
     "output_type": "stream",
     "text": [
      "Train Epoch: 346/1000. Iter:   18/  18. Data: 0.063s. alpha: 10. Batch: 0.114s. Loss: 0.6824.: 100%|█| 18/18 [00:02<00:00,\n"
     ]
    },
    {
     "name": "stdout",
     "output_type": "stream",
     "text": [
      "Global round: 346 | Average loss: 0.6820062597592672\n",
      "Global Round: 347\n"
     ]
    },
    {
     "name": "stderr",
     "output_type": "stream",
     "text": [
      "Train Epoch: 347/1000. Iter:   18/  18. Data: 0.058s. alpha: 10. Batch: 0.110s. Loss: 0.7015.: 100%|█| 18/18 [00:01<00:00,\n"
     ]
    },
    {
     "name": "stdout",
     "output_type": "stream",
     "text": [
      "Global round: 347 | Average loss: 0.6808712383111318\n",
      "Global Round: 348\n"
     ]
    },
    {
     "name": "stderr",
     "output_type": "stream",
     "text": [
      "Train Epoch: 348/1000. Iter:   18/  18. Data: 0.060s. alpha: 10. Batch: 0.109s. Loss: 0.6875.: 100%|█| 18/18 [00:01<00:00,\n"
     ]
    },
    {
     "name": "stdout",
     "output_type": "stream",
     "text": [
      "Global round: 348 | Average loss: 0.6801871491803063\n",
      "Global Round: 349\n"
     ]
    },
    {
     "name": "stderr",
     "output_type": "stream",
     "text": [
      "Train Epoch: 349/1000. Iter:   18/  18. Data: 0.059s. alpha: 10. Batch: 0.109s. Loss: 0.6954.: 100%|█| 18/18 [00:01<00:00,\n"
     ]
    },
    {
     "name": "stdout",
     "output_type": "stream",
     "text": [
      "Global round: 349 | Average loss: 0.675938198963801\n",
      "Global Round: 350\n"
     ]
    },
    {
     "name": "stderr",
     "output_type": "stream",
     "text": [
      "Train Epoch: 350/1000. Iter:   11/  18. Data: 0.072s. alpha: 10. Batch: 0.121s. Loss: 0.6796.:  61%|▌| 11/18 [00:01<00:00,"
     ]
    },
    {
     "name": "stdout",
     "output_type": "stream",
     "text": [
      "epoch 350 similarity : [0.17267785966396332, 0.1820247769355774, 0.18991219997406006, 0.17618288099765778, 0.17468447983264923]\n"
     ]
    },
    {
     "name": "stderr",
     "output_type": "stream",
     "text": [
      "Train Epoch: 350/1000. Iter:   18/  18. Data: 0.066s. alpha: 10. Batch: 0.115s. Loss: 0.6829.: 100%|█| 18/18 [00:02<00:00,\n"
     ]
    },
    {
     "name": "stdout",
     "output_type": "stream",
     "text": [
      "Global round: 350 | Average loss: 0.6759180658393436\n",
      "Global Round: 351\n"
     ]
    },
    {
     "name": "stderr",
     "output_type": "stream",
     "text": [
      "Train Epoch: 351/1000. Iter:   18/  18. Data: 0.060s. alpha: 10. Batch: 0.110s. Loss: 0.6954.: 100%|█| 18/18 [00:01<00:00,\n"
     ]
    },
    {
     "name": "stdout",
     "output_type": "stream",
     "text": [
      "Global round: 351 | Average loss: 0.6760711934831407\n",
      "Global Round: 352\n"
     ]
    },
    {
     "name": "stderr",
     "output_type": "stream",
     "text": [
      "Train Epoch: 352/1000. Iter:   18/  18. Data: 0.064s. alpha: 10. Batch: 0.113s. Loss: 0.6757.: 100%|█| 18/18 [00:02<00:00,\n"
     ]
    },
    {
     "name": "stdout",
     "output_type": "stream",
     "text": [
      "Global round: 352 | Average loss: 0.6777729524506463\n",
      "Global Round: 353\n"
     ]
    },
    {
     "name": "stderr",
     "output_type": "stream",
     "text": [
      "Train Epoch: 353/1000. Iter:   18/  18. Data: 0.059s. alpha: 10. Batch: 0.109s. Loss: 0.6659.: 100%|█| 18/18 [00:01<00:00,\n"
     ]
    },
    {
     "name": "stdout",
     "output_type": "stream",
     "text": [
      "Global round: 353 | Average loss: 0.6697788569662306\n",
      "Global Round: 354\n"
     ]
    },
    {
     "name": "stderr",
     "output_type": "stream",
     "text": [
      "Train Epoch: 354/1000. Iter:   18/  18. Data: 0.058s. alpha: 10. Batch: 0.108s. Loss: 0.6692.: 100%|█| 18/18 [00:01<00:00,\n"
     ]
    },
    {
     "name": "stdout",
     "output_type": "stream",
     "text": [
      "Global round: 354 | Average loss: 0.6785351004865434\n",
      "Global Round: 355\n"
     ]
    },
    {
     "name": "stderr",
     "output_type": "stream",
     "text": [
      "Train Epoch: 355/1000. Iter:   11/  18. Data: 0.070s. alpha: 10. Batch: 0.120s. Loss: 0.6640.:  61%|▌| 11/18 [00:01<00:01,"
     ]
    },
    {
     "name": "stdout",
     "output_type": "stream",
     "text": [
      "epoch 355 similarity : [0.15770581364631653, 0.17198793590068817, 0.17002147436141968, 0.16985349357128143, 0.16012510657310486]\n"
     ]
    },
    {
     "name": "stderr",
     "output_type": "stream",
     "text": [
      "Train Epoch: 355/1000. Iter:   18/  18. Data: 0.065s. alpha: 10. Batch: 0.114s. Loss: 0.6895.: 100%|█| 18/18 [00:02<00:00,\n"
     ]
    },
    {
     "name": "stdout",
     "output_type": "stream",
     "text": [
      "Global round: 355 | Average loss: 0.6744722988870409\n",
      "Global Round: 356\n"
     ]
    },
    {
     "name": "stderr",
     "output_type": "stream",
     "text": [
      "Train Epoch: 356/1000. Iter:   18/  18. Data: 0.059s. alpha: 10. Batch: 0.110s. Loss: 0.6632.: 100%|█| 18/18 [00:01<00:00,\n"
     ]
    },
    {
     "name": "stdout",
     "output_type": "stream",
     "text": [
      "Global round: 356 | Average loss: 0.6688487761550479\n",
      "Global Round: 357\n"
     ]
    },
    {
     "name": "stderr",
     "output_type": "stream",
     "text": [
      "Train Epoch: 357/1000. Iter:   18/  18. Data: 0.059s. alpha: 10. Batch: 0.110s. Loss: 0.6560.: 100%|█| 18/18 [00:01<00:00,\n"
     ]
    },
    {
     "name": "stdout",
     "output_type": "stream",
     "text": [
      "Global round: 357 | Average loss: 0.6726694570647346\n",
      "Global Round: 358\n"
     ]
    },
    {
     "name": "stderr",
     "output_type": "stream",
     "text": [
      "Train Epoch: 358/1000. Iter:   18/  18. Data: 0.061s. alpha: 10. Batch: 0.112s. Loss: 0.6682.: 100%|█| 18/18 [00:02<00:00,\n"
     ]
    },
    {
     "name": "stdout",
     "output_type": "stream",
     "text": [
      "Global round: 358 | Average loss: 0.6715395053227743\n",
      "Global Round: 359\n"
     ]
    },
    {
     "name": "stderr",
     "output_type": "stream",
     "text": [
      "Train Epoch: 359/1000. Iter:   18/  18. Data: 0.062s. alpha: 10. Batch: 0.112s. Loss: 0.6744.: 100%|█| 18/18 [00:02<00:00,\n"
     ]
    },
    {
     "name": "stdout",
     "output_type": "stream",
     "text": [
      "Global round: 359 | Average loss: 0.6699124574661255\n",
      "Global Round: 360\n"
     ]
    },
    {
     "name": "stderr",
     "output_type": "stream",
     "text": [
      "Train Epoch: 360/1000. Iter:   11/  18. Data: 0.071s. alpha: 10. Batch: 0.122s. Loss: 0.6780.:  61%|▌| 11/18 [00:01<00:01,"
     ]
    },
    {
     "name": "stdout",
     "output_type": "stream",
     "text": [
      "epoch 360 similarity : [0.12256234884262085, 0.134673073887825, 0.13808557391166687, 0.13861611485481262, 0.11875852197408676]\n"
     ]
    },
    {
     "name": "stderr",
     "output_type": "stream",
     "text": [
      "Train Epoch: 360/1000. Iter:   18/  18. Data: 0.065s. alpha: 10. Batch: 0.115s. Loss: 0.6487.: 100%|█| 18/18 [00:02<00:00,\n"
     ]
    },
    {
     "name": "stdout",
     "output_type": "stream",
     "text": [
      "Global round: 360 | Average loss: 0.6697276168399386\n",
      "Global Round: 361\n"
     ]
    },
    {
     "name": "stderr",
     "output_type": "stream",
     "text": [
      "Train Epoch: 361/1000. Iter:   18/  18. Data: 0.059s. alpha: 10. Batch: 0.110s. Loss: 0.6927.: 100%|█| 18/18 [00:01<00:00,\n"
     ]
    },
    {
     "name": "stdout",
     "output_type": "stream",
     "text": [
      "Global round: 361 | Average loss: 0.6705467965867784\n",
      "Global Round: 362\n"
     ]
    },
    {
     "name": "stderr",
     "output_type": "stream",
     "text": [
      "Train Epoch: 362/1000. Iter:   18/  18. Data: 0.061s. alpha: 10. Batch: 0.108s. Loss: 0.6588.: 100%|█| 18/18 [00:01<00:00,\n"
     ]
    },
    {
     "name": "stdout",
     "output_type": "stream",
     "text": [
      "Global round: 362 | Average loss: 0.6720867090755038\n",
      "Global Round: 363\n"
     ]
    },
    {
     "name": "stderr",
     "output_type": "stream",
     "text": [
      "Train Epoch: 363/1000. Iter:   18/  18. Data: 0.060s. alpha: 10. Batch: 0.109s. Loss: 0.6553.: 100%|█| 18/18 [00:01<00:00,\n"
     ]
    },
    {
     "name": "stdout",
     "output_type": "stream",
     "text": [
      "Global round: 363 | Average loss: 0.6710798839728037\n",
      "Global Round: 364\n"
     ]
    },
    {
     "name": "stderr",
     "output_type": "stream",
     "text": [
      "Train Epoch: 364/1000. Iter:   18/  18. Data: 0.061s. alpha: 10. Batch: 0.112s. Loss: 0.6725.: 100%|█| 18/18 [00:02<00:00,\n"
     ]
    },
    {
     "name": "stdout",
     "output_type": "stream",
     "text": [
      "Global round: 364 | Average loss: 0.6687939067681631\n",
      "Global Round: 365\n"
     ]
    },
    {
     "name": "stderr",
     "output_type": "stream",
     "text": [
      "Train Epoch: 365/1000. Iter:   11/  18. Data: 0.065s. alpha: 10. Batch: 0.113s. Loss: 0.6838.:  61%|▌| 11/18 [00:01<00:00,"
     ]
    },
    {
     "name": "stdout",
     "output_type": "stream",
     "text": [
      "epoch 365 similarity : [0.15297560393810272, 0.16320031881332397, 0.16527307033538818, 0.16176818311214447, 0.15451829135417938]\n"
     ]
    },
    {
     "name": "stderr",
     "output_type": "stream",
     "text": [
      "Train Epoch: 365/1000. Iter:   18/  18. Data: 0.064s. alpha: 10. Batch: 0.115s. Loss: 0.6925.: 100%|█| 18/18 [00:02<00:00,\n"
     ]
    },
    {
     "name": "stdout",
     "output_type": "stream",
     "text": [
      "Global round: 365 | Average loss: 0.6669335265954336\n",
      "Global Round: 366\n"
     ]
    },
    {
     "name": "stderr",
     "output_type": "stream",
     "text": [
      "Train Epoch: 366/1000. Iter:   18/  18. Data: 0.059s. alpha: 10. Batch: 0.111s. Loss: 0.6522.: 100%|█| 18/18 [00:01<00:00,\n"
     ]
    },
    {
     "name": "stdout",
     "output_type": "stream",
     "text": [
      "Global round: 366 | Average loss: 0.6649239096376631\n",
      "Global Round: 367\n"
     ]
    },
    {
     "name": "stderr",
     "output_type": "stream",
     "text": [
      "Train Epoch: 367/1000. Iter:   18/  18. Data: 0.061s. alpha: 10. Batch: 0.110s. Loss: 0.6637.: 100%|█| 18/18 [00:01<00:00,\n"
     ]
    },
    {
     "name": "stdout",
     "output_type": "stream",
     "text": [
      "Global round: 367 | Average loss: 0.6675187415546842\n",
      "Global Round: 368\n"
     ]
    },
    {
     "name": "stderr",
     "output_type": "stream",
     "text": [
      "Train Epoch: 368/1000. Iter:   18/  18. Data: 0.060s. alpha: 10. Batch: 0.111s. Loss: 0.6583.: 100%|█| 18/18 [00:02<00:00,\n"
     ]
    },
    {
     "name": "stdout",
     "output_type": "stream",
     "text": [
      "Global round: 368 | Average loss: 0.6660289631949531\n",
      "Global Round: 369\n"
     ]
    },
    {
     "name": "stderr",
     "output_type": "stream",
     "text": [
      "Train Epoch: 369/1000. Iter:   18/  18. Data: 0.062s. alpha: 10. Batch: 0.111s. Loss: 0.6705.: 100%|█| 18/18 [00:02<00:00,\n"
     ]
    },
    {
     "name": "stdout",
     "output_type": "stream",
     "text": [
      "Global round: 369 | Average loss: 0.6695839431550767\n",
      "Global Round: 370\n"
     ]
    },
    {
     "name": "stderr",
     "output_type": "stream",
     "text": [
      "Train Epoch: 370/1000. Iter:   11/  18. Data: 0.070s. alpha: 10. Batch: 0.121s. Loss: 0.6544.:  61%|▌| 11/18 [00:01<00:00,"
     ]
    },
    {
     "name": "stdout",
     "output_type": "stream",
     "text": [
      "epoch 370 similarity : [0.08931156247854233, 0.09938235580921173, 0.11790356785058975, 0.10344869643449783, 0.09824148565530777]\n"
     ]
    },
    {
     "name": "stderr",
     "output_type": "stream",
     "text": [
      "Train Epoch: 370/1000. Iter:   18/  18. Data: 0.068s. alpha: 10. Batch: 0.119s. Loss: 0.6569.: 100%|█| 18/18 [00:02<00:00,\n"
     ]
    },
    {
     "name": "stdout",
     "output_type": "stream",
     "text": [
      "Global round: 370 | Average loss: 0.664084275563558\n",
      "Global Round: 371\n"
     ]
    },
    {
     "name": "stderr",
     "output_type": "stream",
     "text": [
      "Train Epoch: 371/1000. Iter:   18/  18. Data: 0.061s. alpha: 10. Batch: 0.112s. Loss: 0.6706.: 100%|█| 18/18 [00:01<00:00,\n"
     ]
    },
    {
     "name": "stdout",
     "output_type": "stream",
     "text": [
      "Global round: 371 | Average loss: 0.6672070191966163\n",
      "Global Round: 372\n"
     ]
    },
    {
     "name": "stderr",
     "output_type": "stream",
     "text": [
      "Train Epoch: 372/1000. Iter:   18/  18. Data: 0.060s. alpha: 10. Batch: 0.111s. Loss: 0.6805.: 100%|█| 18/18 [00:01<00:00,\n"
     ]
    },
    {
     "name": "stdout",
     "output_type": "stream",
     "text": [
      "Global round: 372 | Average loss: 0.6694430708885193\n",
      "Global Round: 373\n"
     ]
    },
    {
     "name": "stderr",
     "output_type": "stream",
     "text": [
      "Train Epoch: 373/1000. Iter:   18/  18. Data: 0.058s. alpha: 10. Batch: 0.108s. Loss: 0.6544.: 100%|█| 18/18 [00:01<00:00,\n"
     ]
    },
    {
     "name": "stdout",
     "output_type": "stream",
     "text": [
      "Global round: 373 | Average loss: 0.6640531520048777\n",
      "Global Round: 374\n"
     ]
    },
    {
     "name": "stderr",
     "output_type": "stream",
     "text": [
      "Train Epoch: 374/1000. Iter:   18/  18. Data: 0.060s. alpha: 10. Batch: 0.108s. Loss: 0.6969.: 100%|█| 18/18 [00:01<00:00,\n"
     ]
    },
    {
     "name": "stdout",
     "output_type": "stream",
     "text": [
      "Global round: 374 | Average loss: 0.6673237714502547\n",
      "Global Round: 375\n"
     ]
    },
    {
     "name": "stderr",
     "output_type": "stream",
     "text": [
      "Train Epoch: 375/1000. Iter:   11/  18. Data: 0.068s. alpha: 10. Batch: 0.120s. Loss: 0.6637.:  61%|▌| 11/18 [00:01<00:00,"
     ]
    },
    {
     "name": "stdout",
     "output_type": "stream",
     "text": [
      "epoch 375 similarity : [0.11214598268270493, 0.13031764328479767, 0.14183537662029266, 0.12813986837863922, 0.12828658521175385]\n"
     ]
    },
    {
     "name": "stderr",
     "output_type": "stream",
     "text": [
      "Train Epoch: 375/1000. Iter:   18/  18. Data: 0.064s. alpha: 10. Batch: 0.118s. Loss: 0.6698.: 100%|█| 18/18 [00:02<00:00,\n"
     ]
    },
    {
     "name": "stdout",
     "output_type": "stream",
     "text": [
      "Global round: 375 | Average loss: 0.6675829291343689\n",
      "Global Round: 376\n"
     ]
    },
    {
     "name": "stderr",
     "output_type": "stream",
     "text": [
      "Train Epoch: 376/1000. Iter:   18/  18. Data: 0.060s. alpha: 10. Batch: 0.109s. Loss: 0.6653.: 100%|█| 18/18 [00:01<00:00,\n"
     ]
    },
    {
     "name": "stdout",
     "output_type": "stream",
     "text": [
      "Global round: 376 | Average loss: 0.6644634140862359\n",
      "Global Round: 377\n"
     ]
    },
    {
     "name": "stderr",
     "output_type": "stream",
     "text": [
      "Train Epoch: 377/1000. Iter:   18/  18. Data: 0.059s. alpha: 10. Batch: 0.109s. Loss: 0.6799.: 100%|█| 18/18 [00:01<00:00,\n"
     ]
    },
    {
     "name": "stdout",
     "output_type": "stream",
     "text": [
      "Global round: 377 | Average loss: 0.6622569097412957\n",
      "Global Round: 378\n"
     ]
    },
    {
     "name": "stderr",
     "output_type": "stream",
     "text": [
      "Train Epoch: 378/1000. Iter:   18/  18. Data: 0.061s. alpha: 10. Batch: 0.109s. Loss: 0.6554.: 100%|█| 18/18 [00:01<00:00,\n"
     ]
    },
    {
     "name": "stdout",
     "output_type": "stream",
     "text": [
      "Global round: 378 | Average loss: 0.6623399489455752\n",
      "Global Round: 379\n"
     ]
    },
    {
     "name": "stderr",
     "output_type": "stream",
     "text": [
      "Train Epoch: 379/1000. Iter:   18/  18. Data: 0.060s. alpha: 10. Batch: 0.110s. Loss: 0.6499.: 100%|█| 18/18 [00:01<00:00,\n"
     ]
    },
    {
     "name": "stdout",
     "output_type": "stream",
     "text": [
      "Global round: 379 | Average loss: 0.6677391992674934\n",
      "Global Round: 380\n"
     ]
    },
    {
     "name": "stderr",
     "output_type": "stream",
     "text": [
      "Train Epoch: 380/1000. Iter:   11/  18. Data: 0.068s. alpha: 10. Batch: 0.121s. Loss: 0.6832.:  61%|▌| 11/18 [00:01<00:00,"
     ]
    },
    {
     "name": "stdout",
     "output_type": "stream",
     "text": [
      "epoch 380 similarity : [0.20592057704925537, 0.20960496366024017, 0.22882850468158722, 0.21971771121025085, 0.22045046091079712]\n"
     ]
    },
    {
     "name": "stderr",
     "output_type": "stream",
     "text": [
      "Train Epoch: 380/1000. Iter:   18/  18. Data: 0.064s. alpha: 10. Batch: 0.115s. Loss: 0.6689.: 100%|█| 18/18 [00:02<00:00,\n"
     ]
    },
    {
     "name": "stdout",
     "output_type": "stream",
     "text": [
      "Global round: 380 | Average loss: 0.6665375232696533\n",
      "Global Round: 381\n"
     ]
    },
    {
     "name": "stderr",
     "output_type": "stream",
     "text": [
      "Train Epoch: 381/1000. Iter:   18/  18. Data: 0.064s. alpha: 10. Batch: 0.114s. Loss: 0.6680.: 100%|█| 18/18 [00:02<00:00,\n"
     ]
    },
    {
     "name": "stdout",
     "output_type": "stream",
     "text": [
      "Global round: 381 | Average loss: 0.660904950565762\n",
      "Global Round: 382\n"
     ]
    },
    {
     "name": "stderr",
     "output_type": "stream",
     "text": [
      "Train Epoch: 382/1000. Iter:   18/  18. Data: 0.058s. alpha: 10. Batch: 0.109s. Loss: 0.6901.: 100%|█| 18/18 [00:01<00:00,\n"
     ]
    },
    {
     "name": "stdout",
     "output_type": "stream",
     "text": [
      "Global round: 382 | Average loss: 0.6613209247589111\n",
      "Global Round: 383\n"
     ]
    },
    {
     "name": "stderr",
     "output_type": "stream",
     "text": [
      "Train Epoch: 383/1000. Iter:   18/  18. Data: 0.059s. alpha: 10. Batch: 0.108s. Loss: 0.6758.: 100%|█| 18/18 [00:01<00:00,\n"
     ]
    },
    {
     "name": "stdout",
     "output_type": "stream",
     "text": [
      "Global round: 383 | Average loss: 0.6637689173221588\n",
      "Global Round: 384\n"
     ]
    },
    {
     "name": "stderr",
     "output_type": "stream",
     "text": [
      "Train Epoch: 384/1000. Iter:   18/  18. Data: 0.058s. alpha: 10. Batch: 0.108s. Loss: 0.6939.: 100%|█| 18/18 [00:01<00:00,\n"
     ]
    },
    {
     "name": "stdout",
     "output_type": "stream",
     "text": [
      "Global round: 384 | Average loss: 0.665015654431449\n",
      "Global Round: 385\n"
     ]
    },
    {
     "name": "stderr",
     "output_type": "stream",
     "text": [
      "Train Epoch: 385/1000. Iter:   11/  18. Data: 0.071s. alpha: 10. Batch: 0.119s. Loss: 0.6313.:  61%|▌| 11/18 [00:01<00:00,"
     ]
    },
    {
     "name": "stdout",
     "output_type": "stream",
     "text": [
      "epoch 385 similarity : [0.16265591979026794, 0.1470934897661209, 0.16298474371433258, 0.1546178013086319, 0.15608856081962585]\n"
     ]
    },
    {
     "name": "stderr",
     "output_type": "stream",
     "text": [
      "Train Epoch: 385/1000. Iter:   18/  18. Data: 0.065s. alpha: 10. Batch: 0.114s. Loss: 0.6520.: 100%|█| 18/18 [00:02<00:00,\n"
     ]
    },
    {
     "name": "stdout",
     "output_type": "stream",
     "text": [
      "Global round: 385 | Average loss: 0.661471833785375\n",
      "Global Round: 386\n"
     ]
    },
    {
     "name": "stderr",
     "output_type": "stream",
     "text": [
      "Train Epoch: 386/1000. Iter:   18/  18. Data: 0.060s. alpha: 10. Batch: 0.111s. Loss: 0.6635.: 100%|█| 18/18 [00:01<00:00,\n"
     ]
    },
    {
     "name": "stdout",
     "output_type": "stream",
     "text": [
      "Global round: 386 | Average loss: 0.6627179450458951\n",
      "Global Round: 387\n"
     ]
    },
    {
     "name": "stderr",
     "output_type": "stream",
     "text": [
      "Train Epoch: 387/1000. Iter:   18/  18. Data: 0.065s. alpha: 10. Batch: 0.114s. Loss: 0.6714.: 100%|█| 18/18 [00:02<00:00,\n"
     ]
    },
    {
     "name": "stdout",
     "output_type": "stream",
     "text": [
      "Global round: 387 | Average loss: 0.6631016598807441\n",
      "Global Round: 388\n"
     ]
    },
    {
     "name": "stderr",
     "output_type": "stream",
     "text": [
      "Train Epoch: 388/1000. Iter:   18/  18. Data: 0.059s. alpha: 10. Batch: 0.109s. Loss: 0.6492.: 100%|█| 18/18 [00:01<00:00,\n"
     ]
    },
    {
     "name": "stdout",
     "output_type": "stream",
     "text": [
      "Global round: 388 | Average loss: 0.6601637866761949\n",
      "Global Round: 389\n"
     ]
    },
    {
     "name": "stderr",
     "output_type": "stream",
     "text": [
      "Train Epoch: 389/1000. Iter:   18/  18. Data: 0.057s. alpha: 10. Batch: 0.107s. Loss: 0.6522.: 100%|█| 18/18 [00:01<00:00,\n"
     ]
    },
    {
     "name": "stdout",
     "output_type": "stream",
     "text": [
      "Global round: 389 | Average loss: 0.6593535509374406\n",
      "Global Round: 390\n"
     ]
    },
    {
     "name": "stderr",
     "output_type": "stream",
     "text": [
      "Train Epoch: 390/1000. Iter:   11/  18. Data: 0.070s. alpha: 10. Batch: 0.119s. Loss: 0.6421.:  61%|▌| 11/18 [00:01<00:01,"
     ]
    },
    {
     "name": "stdout",
     "output_type": "stream",
     "text": [
      "epoch 390 similarity : [0.18695460259914398, 0.17689262330532074, 0.18636035919189453, 0.18403223156929016, 0.18697971105575562]\n"
     ]
    },
    {
     "name": "stderr",
     "output_type": "stream",
     "text": [
      "Train Epoch: 390/1000. Iter:   18/  18. Data: 0.065s. alpha: 10. Batch: 0.114s. Loss: 0.6709.: 100%|█| 18/18 [00:02<00:00,\n"
     ]
    },
    {
     "name": "stdout",
     "output_type": "stream",
     "text": [
      "Global round: 390 | Average loss: 0.6585126916567484\n",
      "Global Round: 391\n"
     ]
    },
    {
     "name": "stderr",
     "output_type": "stream",
     "text": [
      "Train Epoch: 391/1000. Iter:   18/  18. Data: 0.059s. alpha: 10. Batch: 0.110s. Loss: 0.6308.: 100%|█| 18/18 [00:01<00:00,\n"
     ]
    },
    {
     "name": "stdout",
     "output_type": "stream",
     "text": [
      "Global round: 391 | Average loss: 0.6568974355856577\n",
      "Global Round: 392\n"
     ]
    },
    {
     "name": "stderr",
     "output_type": "stream",
     "text": [
      "Train Epoch: 392/1000. Iter:   18/  18. Data: 0.058s. alpha: 10. Batch: 0.110s. Loss: 0.6514.: 100%|█| 18/18 [00:01<00:00,\n"
     ]
    },
    {
     "name": "stdout",
     "output_type": "stream",
     "text": [
      "Global round: 392 | Average loss: 0.6613967484898038\n",
      "Global Round: 393\n"
     ]
    },
    {
     "name": "stderr",
     "output_type": "stream",
     "text": [
      "Train Epoch: 393/1000. Iter:   18/  18. Data: 0.062s. alpha: 10. Batch: 0.113s. Loss: 0.6607.: 100%|█| 18/18 [00:02<00:00,\n"
     ]
    },
    {
     "name": "stdout",
     "output_type": "stream",
     "text": [
      "Global round: 393 | Average loss: 0.6581664317184024\n",
      "Global Round: 394\n"
     ]
    },
    {
     "name": "stderr",
     "output_type": "stream",
     "text": [
      "Train Epoch: 394/1000. Iter:   18/  18. Data: 0.060s. alpha: 10. Batch: 0.108s. Loss: 0.6585.: 100%|█| 18/18 [00:01<00:00,\n"
     ]
    },
    {
     "name": "stdout",
     "output_type": "stream",
     "text": [
      "Global round: 394 | Average loss: 0.6582522226704491\n",
      "Global Round: 395\n"
     ]
    },
    {
     "name": "stderr",
     "output_type": "stream",
     "text": [
      "Train Epoch: 395/1000. Iter:   11/  18. Data: 0.070s. alpha: 10. Batch: 0.118s. Loss: 0.6558.:  61%|▌| 11/18 [00:01<00:01,"
     ]
    },
    {
     "name": "stdout",
     "output_type": "stream",
     "text": [
      "epoch 395 similarity : [0.17833846807479858, 0.19258861243724823, 0.20750175416469574, 0.18667908012866974, 0.19281050562858582]\n"
     ]
    },
    {
     "name": "stderr",
     "output_type": "stream",
     "text": [
      "Train Epoch: 395/1000. Iter:   18/  18. Data: 0.065s. alpha: 10. Batch: 0.113s. Loss: 0.6529.: 100%|█| 18/18 [00:02<00:00,\n"
     ]
    },
    {
     "name": "stdout",
     "output_type": "stream",
     "text": [
      "Global round: 395 | Average loss: 0.6596541669633653\n",
      "Global Round: 396\n"
     ]
    },
    {
     "name": "stderr",
     "output_type": "stream",
     "text": [
      "Train Epoch: 396/1000. Iter:   18/  18. Data: 0.059s. alpha: 10. Batch: 0.109s. Loss: 0.6355.: 100%|█| 18/18 [00:01<00:00,\n"
     ]
    },
    {
     "name": "stdout",
     "output_type": "stream",
     "text": [
      "Global round: 396 | Average loss: 0.6587852736314138\n",
      "Global Round: 397\n"
     ]
    },
    {
     "name": "stderr",
     "output_type": "stream",
     "text": [
      "Train Epoch: 397/1000. Iter:   18/  18. Data: 0.060s. alpha: 10. Batch: 0.108s. Loss: 0.6491.: 100%|█| 18/18 [00:01<00:00,\n"
     ]
    },
    {
     "name": "stdout",
     "output_type": "stream",
     "text": [
      "Global round: 397 | Average loss: 0.6575432982709672\n",
      "Global Round: 398\n"
     ]
    },
    {
     "name": "stderr",
     "output_type": "stream",
     "text": [
      "Train Epoch: 398/1000. Iter:   18/  18. Data: 0.059s. alpha: 10. Batch: 0.108s. Loss: 0.6628.: 100%|█| 18/18 [00:01<00:00,\n"
     ]
    },
    {
     "name": "stdout",
     "output_type": "stream",
     "text": [
      "Global round: 398 | Average loss: 0.6533794071939256\n",
      "Global Round: 399\n"
     ]
    },
    {
     "name": "stderr",
     "output_type": "stream",
     "text": [
      "Train Epoch: 399/1000. Iter:   18/  18. Data: 0.061s. alpha: 10. Batch: 0.112s. Loss: 0.6509.: 100%|█| 18/18 [00:02<00:00,\n"
     ]
    },
    {
     "name": "stdout",
     "output_type": "stream",
     "text": [
      "Global round: 399 | Average loss: 0.6578123437033759\n",
      "Global Round: 400\n"
     ]
    },
    {
     "name": "stderr",
     "output_type": "stream",
     "text": [
      "Train Epoch: 400/1000. Iter:   11/  18. Data: 0.065s. alpha: 10. Batch: 0.112s. Loss: 0.6474.:  61%|▌| 11/18 [00:01<00:00,"
     ]
    },
    {
     "name": "stdout",
     "output_type": "stream",
     "text": [
      "epoch 400 similarity : [0.16431592404842377, 0.1731976419687271, 0.17954041063785553, 0.17964480817317963, 0.1715226024389267]\n"
     ]
    },
    {
     "name": "stderr",
     "output_type": "stream",
     "text": [
      "Train Epoch: 400/1000. Iter:   18/  18. Data: 0.064s. alpha: 10. Batch: 0.113s. Loss: 0.6483.: 100%|█| 18/18 [00:02<00:00,\n"
     ]
    },
    {
     "name": "stdout",
     "output_type": "stream",
     "text": [
      "Global round: 400 | Average loss: 0.6563328736358218\n",
      "Global Round: 401\n"
     ]
    },
    {
     "name": "stderr",
     "output_type": "stream",
     "text": [
      "Train Epoch: 401/1000. Iter:   18/  18. Data: 0.059s. alpha: 10. Batch: 0.110s. Loss: 0.6422.: 100%|█| 18/18 [00:01<00:00,\n"
     ]
    },
    {
     "name": "stdout",
     "output_type": "stream",
     "text": [
      "Global round: 401 | Average loss: 0.6533801787429385\n",
      "Global Round: 402\n"
     ]
    },
    {
     "name": "stderr",
     "output_type": "stream",
     "text": [
      "Train Epoch: 402/1000. Iter:   18/  18. Data: 0.060s. alpha: 10. Batch: 0.109s. Loss: 0.6737.: 100%|█| 18/18 [00:01<00:00,\n"
     ]
    },
    {
     "name": "stdout",
     "output_type": "stream",
     "text": [
      "Global round: 402 | Average loss: 0.654065685139762\n",
      "Global Round: 403\n"
     ]
    },
    {
     "name": "stderr",
     "output_type": "stream",
     "text": [
      "Train Epoch: 403/1000. Iter:   18/  18. Data: 0.059s. alpha: 10. Batch: 0.109s. Loss: 0.6584.: 100%|█| 18/18 [00:01<00:00,\n"
     ]
    },
    {
     "name": "stdout",
     "output_type": "stream",
     "text": [
      "Global round: 403 | Average loss: 0.652089559369617\n",
      "Global Round: 404\n"
     ]
    },
    {
     "name": "stderr",
     "output_type": "stream",
     "text": [
      "Train Epoch: 404/1000. Iter:   18/  18. Data: 0.061s. alpha: 10. Batch: 0.109s. Loss: 0.6607.: 100%|█| 18/18 [00:01<00:00,\n"
     ]
    },
    {
     "name": "stdout",
     "output_type": "stream",
     "text": [
      "Global round: 404 | Average loss: 0.6555085645781623\n",
      "Global Round: 405\n"
     ]
    },
    {
     "name": "stderr",
     "output_type": "stream",
     "text": [
      "Train Epoch: 405/1000. Iter:   11/  18. Data: 0.069s. alpha: 10. Batch: 0.119s. Loss: 0.6511.:  61%|▌| 11/18 [00:01<00:00,"
     ]
    },
    {
     "name": "stdout",
     "output_type": "stream",
     "text": [
      "epoch 405 similarity : [0.17631447315216064, 0.1816379874944687, 0.1855812966823578, 0.1883380115032196, 0.19112645089626312]\n"
     ]
    },
    {
     "name": "stderr",
     "output_type": "stream",
     "text": [
      "Train Epoch: 405/1000. Iter:   18/  18. Data: 0.068s. alpha: 10. Batch: 0.118s. Loss: 0.6412.: 100%|█| 18/18 [00:02<00:00,\n"
     ]
    },
    {
     "name": "stdout",
     "output_type": "stream",
     "text": [
      "Global round: 405 | Average loss: 0.6510327027903663\n",
      "Global Round: 406\n"
     ]
    },
    {
     "name": "stderr",
     "output_type": "stream",
     "text": [
      "Train Epoch: 406/1000. Iter:   18/  18. Data: 0.061s. alpha: 10. Batch: 0.111s. Loss: 0.6546.: 100%|█| 18/18 [00:01<00:00,\n"
     ]
    },
    {
     "name": "stdout",
     "output_type": "stream",
     "text": [
      "Global round: 406 | Average loss: 0.6532919075753953\n",
      "Global Round: 407\n"
     ]
    },
    {
     "name": "stderr",
     "output_type": "stream",
     "text": [
      "Train Epoch: 407/1000. Iter:   18/  18. Data: 0.060s. alpha: 10. Batch: 0.111s. Loss: 0.6648.: 100%|█| 18/18 [00:01<00:00,\n"
     ]
    },
    {
     "name": "stdout",
     "output_type": "stream",
     "text": [
      "Global round: 407 | Average loss: 0.6539279719193777\n",
      "Global Round: 408\n"
     ]
    },
    {
     "name": "stderr",
     "output_type": "stream",
     "text": [
      "Train Epoch: 408/1000. Iter:   18/  18. Data: 0.059s. alpha: 10. Batch: 0.110s. Loss: 0.6426.: 100%|█| 18/18 [00:01<00:00,\n"
     ]
    },
    {
     "name": "stdout",
     "output_type": "stream",
     "text": [
      "Global round: 408 | Average loss: 0.6544042196538713\n",
      "Global Round: 409\n"
     ]
    },
    {
     "name": "stderr",
     "output_type": "stream",
     "text": [
      "Train Epoch: 409/1000. Iter:   18/  18. Data: 0.060s. alpha: 10. Batch: 0.109s. Loss: 0.6573.: 100%|█| 18/18 [00:01<00:00,\n"
     ]
    },
    {
     "name": "stdout",
     "output_type": "stream",
     "text": [
      "Global round: 409 | Average loss: 0.6539324223995209\n",
      "Global Round: 410\n"
     ]
    },
    {
     "name": "stderr",
     "output_type": "stream",
     "text": [
      "Train Epoch: 410/1000. Iter:   11/  18. Data: 0.068s. alpha: 10. Batch: 0.119s. Loss: 0.6562.:  61%|▌| 11/18 [00:01<00:00,"
     ]
    },
    {
     "name": "stdout",
     "output_type": "stream",
     "text": [
      "epoch 410 similarity : [0.08782164752483368, 0.10641377419233322, 0.11715862900018692, 0.10569319874048233, 0.11014789342880249]\n"
     ]
    },
    {
     "name": "stderr",
     "output_type": "stream",
     "text": [
      "Train Epoch: 410/1000. Iter:   18/  18. Data: 0.064s. alpha: 10. Batch: 0.118s. Loss: 0.6690.: 100%|█| 18/18 [00:02<00:00,\n"
     ]
    },
    {
     "name": "stdout",
     "output_type": "stream",
     "text": [
      "Global round: 410 | Average loss: 0.652911040518019\n",
      "Global Round: 411\n"
     ]
    },
    {
     "name": "stderr",
     "output_type": "stream",
     "text": [
      "Train Epoch: 411/1000. Iter:   18/  18. Data: 0.062s. alpha: 10. Batch: 0.111s. Loss: 0.6464.: 100%|█| 18/18 [00:01<00:00,\n"
     ]
    },
    {
     "name": "stdout",
     "output_type": "stream",
     "text": [
      "Global round: 411 | Average loss: 0.6529875099658966\n",
      "Global Round: 412\n"
     ]
    },
    {
     "name": "stderr",
     "output_type": "stream",
     "text": [
      "Train Epoch: 412/1000. Iter:   18/  18. Data: 0.059s. alpha: 10. Batch: 0.109s. Loss: 0.6544.: 100%|█| 18/18 [00:01<00:00,\n"
     ]
    },
    {
     "name": "stdout",
     "output_type": "stream",
     "text": [
      "Global round: 412 | Average loss: 0.6525405678484175\n",
      "Global Round: 413\n"
     ]
    },
    {
     "name": "stderr",
     "output_type": "stream",
     "text": [
      "Train Epoch: 413/1000. Iter:   18/  18. Data: 0.061s. alpha: 10. Batch: 0.109s. Loss: 0.6526.: 100%|█| 18/18 [00:01<00:00,\n"
     ]
    },
    {
     "name": "stdout",
     "output_type": "stream",
     "text": [
      "Global round: 413 | Average loss: 0.6463881797260709\n",
      "Global Round: 414\n"
     ]
    },
    {
     "name": "stderr",
     "output_type": "stream",
     "text": [
      "Train Epoch: 414/1000. Iter:   18/  18. Data: 0.060s. alpha: 10. Batch: 0.109s. Loss: 0.6595.: 100%|█| 18/18 [00:01<00:00,\n"
     ]
    },
    {
     "name": "stdout",
     "output_type": "stream",
     "text": [
      "Global round: 414 | Average loss: 0.6494323843055301\n",
      "Global Round: 415\n"
     ]
    },
    {
     "name": "stderr",
     "output_type": "stream",
     "text": [
      "Train Epoch: 415/1000. Iter:   11/  18. Data: 0.066s. alpha: 10. Batch: 0.119s. Loss: 0.6359.:  61%|▌| 11/18 [00:01<00:00,"
     ]
    },
    {
     "name": "stdout",
     "output_type": "stream",
     "text": [
      "epoch 415 similarity : [0.18141324818134308, 0.17824362218379974, 0.18207299709320068, 0.17816048860549927, 0.17578700184822083]\n"
     ]
    },
    {
     "name": "stderr",
     "output_type": "stream",
     "text": [
      "Train Epoch: 415/1000. Iter:   18/  18. Data: 0.063s. alpha: 10. Batch: 0.114s. Loss: 0.6192.: 100%|█| 18/18 [00:02<00:00,\n"
     ]
    },
    {
     "name": "stdout",
     "output_type": "stream",
     "text": [
      "Global round: 415 | Average loss: 0.6505522264374627\n",
      "Global Round: 416\n"
     ]
    },
    {
     "name": "stderr",
     "output_type": "stream",
     "text": [
      "Train Epoch: 416/1000. Iter:   18/  18. Data: 0.064s. alpha: 10. Batch: 0.114s. Loss: 0.6532.: 100%|█| 18/18 [00:02<00:00,\n"
     ]
    },
    {
     "name": "stdout",
     "output_type": "stream",
     "text": [
      "Global round: 416 | Average loss: 0.6517808039983114\n",
      "Global Round: 417\n"
     ]
    },
    {
     "name": "stderr",
     "output_type": "stream",
     "text": [
      "Train Epoch: 417/1000. Iter:   18/  18. Data: 0.058s. alpha: 10. Batch: 0.111s. Loss: 0.6356.: 100%|█| 18/18 [00:01<00:00,\n"
     ]
    },
    {
     "name": "stdout",
     "output_type": "stream",
     "text": [
      "Global round: 417 | Average loss: 0.6516298088762495\n",
      "Global Round: 418\n"
     ]
    },
    {
     "name": "stderr",
     "output_type": "stream",
     "text": [
      "Train Epoch: 418/1000. Iter:   18/  18. Data: 0.061s. alpha: 10. Batch: 0.109s. Loss: 0.6288.: 100%|█| 18/18 [00:01<00:00,\n"
     ]
    },
    {
     "name": "stdout",
     "output_type": "stream",
     "text": [
      "Global round: 418 | Average loss: 0.6493271523051791\n",
      "Global Round: 419\n"
     ]
    },
    {
     "name": "stderr",
     "output_type": "stream",
     "text": [
      "Train Epoch: 419/1000. Iter:   18/  18. Data: 0.058s. alpha: 10. Batch: 0.109s. Loss: 0.6396.: 100%|█| 18/18 [00:01<00:00,\n"
     ]
    },
    {
     "name": "stdout",
     "output_type": "stream",
     "text": [
      "Global round: 419 | Average loss: 0.6511391599973043\n",
      "Global Round: 420\n"
     ]
    },
    {
     "name": "stderr",
     "output_type": "stream",
     "text": [
      "Train Epoch: 420/1000. Iter:   11/  18. Data: 0.070s. alpha: 10. Batch: 0.118s. Loss: 0.6451.:  61%|▌| 11/18 [00:01<00:00,"
     ]
    },
    {
     "name": "stdout",
     "output_type": "stream",
     "text": [
      "epoch 420 similarity : [0.2298397421836853, 0.2139383852481842, 0.22682054340839386, 0.2216322273015976, 0.21080803871154785]\n"
     ]
    },
    {
     "name": "stderr",
     "output_type": "stream",
     "text": [
      "Train Epoch: 420/1000. Iter:   18/  18. Data: 0.065s. alpha: 10. Batch: 0.112s. Loss: 0.6209.: 100%|█| 18/18 [00:02<00:00,\n"
     ]
    },
    {
     "name": "stdout",
     "output_type": "stream",
     "text": [
      "Global round: 420 | Average loss: 0.651843421989017\n",
      "Global Round: 421\n"
     ]
    },
    {
     "name": "stderr",
     "output_type": "stream",
     "text": [
      "Train Epoch: 421/1000. Iter:   18/  18. Data: 0.059s. alpha: 10. Batch: 0.109s. Loss: 0.6503.: 100%|█| 18/18 [00:01<00:00,\n"
     ]
    },
    {
     "name": "stdout",
     "output_type": "stream",
     "text": [
      "Global round: 421 | Average loss: 0.6501653790473938\n",
      "Global Round: 422\n"
     ]
    },
    {
     "name": "stderr",
     "output_type": "stream",
     "text": [
      "Train Epoch: 422/1000. Iter:   18/  18. Data: 0.064s. alpha: 10. Batch: 0.112s. Loss: 0.6424.: 100%|█| 18/18 [00:02<00:00,\n"
     ]
    },
    {
     "name": "stdout",
     "output_type": "stream",
     "text": [
      "Global round: 422 | Average loss: 0.649862117237515\n",
      "Global Round: 423\n"
     ]
    },
    {
     "name": "stderr",
     "output_type": "stream",
     "text": [
      "Train Epoch: 423/1000. Iter:   18/  18. Data: 0.060s. alpha: 10. Batch: 0.110s. Loss: 0.6712.: 100%|█| 18/18 [00:01<00:00,\n"
     ]
    },
    {
     "name": "stdout",
     "output_type": "stream",
     "text": [
      "Global round: 423 | Average loss: 0.6509343650605943\n",
      "Global Round: 424\n"
     ]
    },
    {
     "name": "stderr",
     "output_type": "stream",
     "text": [
      "Train Epoch: 424/1000. Iter:   18/  18. Data: 0.058s. alpha: 10. Batch: 0.109s. Loss: 0.6492.: 100%|█| 18/18 [00:01<00:00,\n"
     ]
    },
    {
     "name": "stdout",
     "output_type": "stream",
     "text": [
      "Global round: 424 | Average loss: 0.6459477908081479\n",
      "Global Round: 425\n"
     ]
    },
    {
     "name": "stderr",
     "output_type": "stream",
     "text": [
      "Train Epoch: 425/1000. Iter:   11/  18. Data: 0.070s. alpha: 10. Batch: 0.119s. Loss: 0.6371.:  61%|▌| 11/18 [00:01<00:01,"
     ]
    },
    {
     "name": "stdout",
     "output_type": "stream",
     "text": [
      "epoch 425 similarity : [0.16566680371761322, 0.15916243195533752, 0.17639490962028503, 0.1761305183172226, 0.16107051074504852]\n"
     ]
    },
    {
     "name": "stderr",
     "output_type": "stream",
     "text": [
      "Train Epoch: 425/1000. Iter:   18/  18. Data: 0.065s. alpha: 10. Batch: 0.113s. Loss: 0.6537.: 100%|█| 18/18 [00:02<00:00,\n"
     ]
    },
    {
     "name": "stdout",
     "output_type": "stream",
     "text": [
      "Global round: 425 | Average loss: 0.6467330091529422\n",
      "Global Round: 426\n"
     ]
    },
    {
     "name": "stderr",
     "output_type": "stream",
     "text": [
      "Train Epoch: 426/1000. Iter:   18/  18. Data: 0.059s. alpha: 10. Batch: 0.110s. Loss: 0.6261.: 100%|█| 18/18 [00:01<00:00,\n"
     ]
    },
    {
     "name": "stdout",
     "output_type": "stream",
     "text": [
      "Global round: 426 | Average loss: 0.6496927274598016\n",
      "Global Round: 427\n"
     ]
    },
    {
     "name": "stderr",
     "output_type": "stream",
     "text": [
      "Train Epoch: 427/1000. Iter:   18/  18. Data: 0.058s. alpha: 10. Batch: 0.109s. Loss: 0.6704.: 100%|█| 18/18 [00:01<00:00,\n"
     ]
    },
    {
     "name": "stdout",
     "output_type": "stream",
     "text": [
      "Global round: 427 | Average loss: 0.6526161233584086\n",
      "Global Round: 428\n"
     ]
    },
    {
     "name": "stderr",
     "output_type": "stream",
     "text": [
      "Train Epoch: 428/1000. Iter:   18/  18. Data: 0.062s. alpha: 10. Batch: 0.112s. Loss: 0.6352.: 100%|█| 18/18 [00:02<00:00,\n"
     ]
    },
    {
     "name": "stdout",
     "output_type": "stream",
     "text": [
      "Global round: 428 | Average loss: 0.6462124784787496\n",
      "Global Round: 429\n"
     ]
    },
    {
     "name": "stderr",
     "output_type": "stream",
     "text": [
      "Train Epoch: 429/1000. Iter:   18/  18. Data: 0.061s. alpha: 10. Batch: 0.109s. Loss: 0.6467.: 100%|█| 18/18 [00:01<00:00,\n"
     ]
    },
    {
     "name": "stdout",
     "output_type": "stream",
     "text": [
      "Global round: 429 | Average loss: 0.6504570609993405\n",
      "Global Round: 430\n"
     ]
    },
    {
     "name": "stderr",
     "output_type": "stream",
     "text": [
      "Train Epoch: 430/1000. Iter:   11/  18. Data: 0.070s. alpha: 10. Batch: 0.119s. Loss: 0.6259.:  61%|▌| 11/18 [00:01<00:01,"
     ]
    },
    {
     "name": "stdout",
     "output_type": "stream",
     "text": [
      "epoch 430 similarity : [0.1764339953660965, 0.18011729419231415, 0.18772800266742706, 0.19783705472946167, 0.18436112999916077]\n"
     ]
    },
    {
     "name": "stderr",
     "output_type": "stream",
     "text": [
      "Train Epoch: 430/1000. Iter:   18/  18. Data: 0.065s. alpha: 10. Batch: 0.113s. Loss: 0.6479.: 100%|█| 18/18 [00:02<00:00,\n"
     ]
    },
    {
     "name": "stdout",
     "output_type": "stream",
     "text": [
      "Global round: 430 | Average loss: 0.6510060992505815\n",
      "Global Round: 431\n"
     ]
    },
    {
     "name": "stderr",
     "output_type": "stream",
     "text": [
      "Train Epoch: 431/1000. Iter:   18/  18. Data: 0.060s. alpha: 10. Batch: 0.110s. Loss: 0.6438.: 100%|█| 18/18 [00:01<00:00,\n"
     ]
    },
    {
     "name": "stdout",
     "output_type": "stream",
     "text": [
      "Global round: 431 | Average loss: 0.6469293567869399\n",
      "Global Round: 432\n"
     ]
    },
    {
     "name": "stderr",
     "output_type": "stream",
     "text": [
      "Train Epoch: 432/1000. Iter:   18/  18. Data: 0.061s. alpha: 10. Batch: 0.109s. Loss: 0.6514.: 100%|█| 18/18 [00:01<00:00,\n"
     ]
    },
    {
     "name": "stdout",
     "output_type": "stream",
     "text": [
      "Global round: 432 | Average loss: 0.6459823780589633\n",
      "Global Round: 433\n"
     ]
    },
    {
     "name": "stderr",
     "output_type": "stream",
     "text": [
      "Train Epoch: 433/1000. Iter:   18/  18. Data: 0.060s. alpha: 10. Batch: 0.110s. Loss: 0.6306.: 100%|█| 18/18 [00:01<00:00,\n"
     ]
    },
    {
     "name": "stdout",
     "output_type": "stream",
     "text": [
      "Global round: 433 | Average loss: 0.6472665667533875\n",
      "Global Round: 434\n"
     ]
    },
    {
     "name": "stderr",
     "output_type": "stream",
     "text": [
      "Train Epoch: 434/1000. Iter:   18/  18. Data: 0.061s. alpha: 10. Batch: 0.114s. Loss: 0.6561.: 100%|█| 18/18 [00:02<00:00,\n"
     ]
    },
    {
     "name": "stdout",
     "output_type": "stream",
     "text": [
      "Global round: 434 | Average loss: 0.6443479590945773\n",
      "Global Round: 435\n"
     ]
    },
    {
     "name": "stderr",
     "output_type": "stream",
     "text": [
      "Train Epoch: 435/1000. Iter:   11/  18. Data: 0.066s. alpha: 10. Batch: 0.117s. Loss: 0.6463.:  61%|▌| 11/18 [00:01<00:00,"
     ]
    },
    {
     "name": "stdout",
     "output_type": "stream",
     "text": [
      "epoch 435 similarity : [0.14146021008491516, 0.1391414850950241, 0.14646823704242706, 0.14433297514915466, 0.14146991074085236]\n"
     ]
    },
    {
     "name": "stderr",
     "output_type": "stream",
     "text": [
      "Train Epoch: 435/1000. Iter:   18/  18. Data: 0.064s. alpha: 10. Batch: 0.117s. Loss: 0.6403.: 100%|█| 18/18 [00:02<00:00,\n"
     ]
    },
    {
     "name": "stdout",
     "output_type": "stream",
     "text": [
      "Global round: 435 | Average loss: 0.645775642659929\n",
      "Global Round: 436\n"
     ]
    },
    {
     "name": "stderr",
     "output_type": "stream",
     "text": [
      "Train Epoch: 436/1000. Iter:   18/  18. Data: 0.059s. alpha: 10. Batch: 0.112s. Loss: 0.6122.: 100%|█| 18/18 [00:01<00:00,\n"
     ]
    },
    {
     "name": "stdout",
     "output_type": "stream",
     "text": [
      "Global round: 436 | Average loss: 0.6450365020169152\n",
      "Global Round: 437\n"
     ]
    },
    {
     "name": "stderr",
     "output_type": "stream",
     "text": [
      "Train Epoch: 437/1000. Iter:   18/  18. Data: 0.060s. alpha: 10. Batch: 0.110s. Loss: 0.6554.: 100%|█| 18/18 [00:01<00:00,\n"
     ]
    },
    {
     "name": "stdout",
     "output_type": "stream",
     "text": [
      "Global round: 437 | Average loss: 0.643583807680342\n",
      "Global Round: 438\n"
     ]
    },
    {
     "name": "stderr",
     "output_type": "stream",
     "text": [
      "Train Epoch: 438/1000. Iter:   18/  18. Data: 0.059s. alpha: 10. Batch: 0.110s. Loss: 0.6614.: 100%|█| 18/18 [00:01<00:00,\n"
     ]
    },
    {
     "name": "stdout",
     "output_type": "stream",
     "text": [
      "Global round: 438 | Average loss: 0.6451300217045678\n",
      "Global Round: 439\n"
     ]
    },
    {
     "name": "stderr",
     "output_type": "stream",
     "text": [
      "Train Epoch: 439/1000. Iter:   18/  18. Data: 0.061s. alpha: 10. Batch: 0.109s. Loss: 0.6309.: 100%|█| 18/18 [00:01<00:00,\n"
     ]
    },
    {
     "name": "stdout",
     "output_type": "stream",
     "text": [
      "Global round: 439 | Average loss: 0.6434064308802286\n",
      "Global Round: 440\n"
     ]
    },
    {
     "name": "stderr",
     "output_type": "stream",
     "text": [
      "Train Epoch: 440/1000. Iter:   11/  18. Data: 0.069s. alpha: 10. Batch: 0.119s. Loss: 0.6573.:  61%|▌| 11/18 [00:01<00:00,"
     ]
    },
    {
     "name": "stdout",
     "output_type": "stream",
     "text": [
      "epoch 440 similarity : [0.13157252967357635, 0.13437704741954803, 0.14862608909606934, 0.1463063806295395, 0.13969163596630096]\n"
     ]
    },
    {
     "name": "stderr",
     "output_type": "stream",
     "text": [
      "Train Epoch: 440/1000. Iter:   18/  18. Data: 0.067s. alpha: 10. Batch: 0.117s. Loss: 0.6290.: 100%|█| 18/18 [00:02<00:00,\n"
     ]
    },
    {
     "name": "stdout",
     "output_type": "stream",
     "text": [
      "Global round: 440 | Average loss: 0.6419699324501885\n",
      "Global Round: 441\n"
     ]
    },
    {
     "name": "stderr",
     "output_type": "stream",
     "text": [
      "Train Epoch: 441/1000. Iter:   18/  18. Data: 0.060s. alpha: 10. Batch: 0.110s. Loss: 0.6396.: 100%|█| 18/18 [00:01<00:00,\n"
     ]
    },
    {
     "name": "stdout",
     "output_type": "stream",
     "text": [
      "Global round: 441 | Average loss: 0.6432483096917471\n",
      "Global Round: 442\n"
     ]
    },
    {
     "name": "stderr",
     "output_type": "stream",
     "text": [
      "Train Epoch: 442/1000. Iter:   18/  18. Data: 0.060s. alpha: 10. Batch: 0.109s. Loss: 0.6487.: 100%|█| 18/18 [00:01<00:00,\n"
     ]
    },
    {
     "name": "stdout",
     "output_type": "stream",
     "text": [
      "Global round: 442 | Average loss: 0.6420765850279067\n",
      "Global Round: 443\n"
     ]
    },
    {
     "name": "stderr",
     "output_type": "stream",
     "text": [
      "Train Epoch: 443/1000. Iter:   18/  18. Data: 0.059s. alpha: 10. Batch: 0.110s. Loss: 0.6545.: 100%|█| 18/18 [00:01<00:00,\n"
     ]
    },
    {
     "name": "stdout",
     "output_type": "stream",
     "text": [
      "Global round: 443 | Average loss: 0.6436698304282295\n",
      "Global Round: 444\n"
     ]
    },
    {
     "name": "stderr",
     "output_type": "stream",
     "text": [
      "Train Epoch: 444/1000. Iter:   18/  18. Data: 0.061s. alpha: 10. Batch: 0.111s. Loss: 0.6303.: 100%|█| 18/18 [00:02<00:00,\n"
     ]
    },
    {
     "name": "stdout",
     "output_type": "stream",
     "text": [
      "Global round: 444 | Average loss: 0.6436558597617679\n",
      "Global Round: 445\n"
     ]
    },
    {
     "name": "stderr",
     "output_type": "stream",
     "text": [
      "Train Epoch: 445/1000. Iter:   11/  18. Data: 0.068s. alpha: 10. Batch: 0.120s. Loss: 0.6655.:  61%|▌| 11/18 [00:01<00:00,"
     ]
    },
    {
     "name": "stdout",
     "output_type": "stream",
     "text": [
      "epoch 445 similarity : [0.1514439582824707, 0.16933169960975647, 0.16714999079704285, 0.16711339354515076, 0.1769288331270218]\n"
     ]
    },
    {
     "name": "stderr",
     "output_type": "stream",
     "text": [
      "Train Epoch: 445/1000. Iter:   18/  18. Data: 0.065s. alpha: 10. Batch: 0.118s. Loss: 0.6456.: 100%|█| 18/18 [00:02<00:00,\n"
     ]
    },
    {
     "name": "stdout",
     "output_type": "stream",
     "text": [
      "Global round: 445 | Average loss: 0.6442829734749265\n",
      "Global Round: 446\n"
     ]
    },
    {
     "name": "stderr",
     "output_type": "stream",
     "text": [
      "Train Epoch: 446/1000. Iter:   18/  18. Data: 0.061s. alpha: 10. Batch: 0.111s. Loss: 0.6727.: 100%|█| 18/18 [00:01<00:00,\n"
     ]
    },
    {
     "name": "stdout",
     "output_type": "stream",
     "text": [
      "Global round: 446 | Average loss: 0.6436233189370897\n",
      "Global Round: 447\n"
     ]
    },
    {
     "name": "stderr",
     "output_type": "stream",
     "text": [
      "Train Epoch: 447/1000. Iter:   18/  18. Data: 0.059s. alpha: 10. Batch: 0.109s. Loss: 0.6463.: 100%|█| 18/18 [00:01<00:00,\n"
     ]
    },
    {
     "name": "stdout",
     "output_type": "stream",
     "text": [
      "Global round: 447 | Average loss: 0.6389925744798448\n",
      "Global Round: 448\n"
     ]
    },
    {
     "name": "stderr",
     "output_type": "stream",
     "text": [
      "Train Epoch: 448/1000. Iter:   18/  18. Data: 0.061s. alpha: 10. Batch: 0.108s. Loss: 0.6240.: 100%|█| 18/18 [00:01<00:00,\n"
     ]
    },
    {
     "name": "stdout",
     "output_type": "stream",
     "text": [
      "Global round: 448 | Average loss: 0.6418150100443099\n",
      "Global Round: 449\n"
     ]
    },
    {
     "name": "stderr",
     "output_type": "stream",
     "text": [
      "Train Epoch: 449/1000. Iter:   18/  18. Data: 0.059s. alpha: 10. Batch: 0.108s. Loss: 0.6486.: 100%|█| 18/18 [00:01<00:00,\n"
     ]
    },
    {
     "name": "stdout",
     "output_type": "stream",
     "text": [
      "Global round: 449 | Average loss: 0.6418240898185306\n",
      "Global Round: 450\n"
     ]
    },
    {
     "name": "stderr",
     "output_type": "stream",
     "text": [
      "Train Epoch: 450/1000. Iter:   11/  18. Data: 0.066s. alpha: 10. Batch: 0.119s. Loss: 0.6469.:  61%|▌| 11/18 [00:01<00:00,"
     ]
    },
    {
     "name": "stdout",
     "output_type": "stream",
     "text": [
      "epoch 450 similarity : [0.1775817573070526, 0.18905550241470337, 0.18390385806560516, 0.1780761033296585, 0.18706193566322327]\n"
     ]
    },
    {
     "name": "stderr",
     "output_type": "stream",
     "text": [
      "Train Epoch: 450/1000. Iter:   18/  18. Data: 0.062s. alpha: 10. Batch: 0.113s. Loss: 0.6382.: 100%|█| 18/18 [00:02<00:00,\n"
     ]
    },
    {
     "name": "stdout",
     "output_type": "stream",
     "text": [
      "Global round: 450 | Average loss: 0.6420589851008521\n",
      "Global Round: 451\n"
     ]
    },
    {
     "name": "stderr",
     "output_type": "stream",
     "text": [
      "Train Epoch: 451/1000. Iter:   18/  18. Data: 0.063s. alpha: 10. Batch: 0.114s. Loss: 0.6689.: 100%|█| 18/18 [00:02<00:00,\n"
     ]
    },
    {
     "name": "stdout",
     "output_type": "stream",
     "text": [
      "Global round: 451 | Average loss: 0.6434194346268972\n",
      "Global Round: 452\n"
     ]
    },
    {
     "name": "stderr",
     "output_type": "stream",
     "text": [
      "Train Epoch: 452/1000. Iter:   18/  18. Data: 0.058s. alpha: 10. Batch: 0.108s. Loss: 0.6427.: 100%|█| 18/18 [00:01<00:00,\n"
     ]
    },
    {
     "name": "stdout",
     "output_type": "stream",
     "text": [
      "Global round: 452 | Average loss: 0.643024742603302\n",
      "Global Round: 453\n"
     ]
    },
    {
     "name": "stderr",
     "output_type": "stream",
     "text": [
      "Train Epoch: 453/1000. Iter:   18/  18. Data: 0.059s. alpha: 10. Batch: 0.107s. Loss: 0.6502.: 100%|█| 18/18 [00:01<00:00,\n"
     ]
    },
    {
     "name": "stdout",
     "output_type": "stream",
     "text": [
      "Global round: 453 | Average loss: 0.6383050117227766\n",
      "Global Round: 454\n"
     ]
    },
    {
     "name": "stderr",
     "output_type": "stream",
     "text": [
      "Train Epoch: 454/1000. Iter:   18/  18. Data: 0.059s. alpha: 10. Batch: 0.109s. Loss: 0.6332.: 100%|█| 18/18 [00:01<00:00,\n"
     ]
    },
    {
     "name": "stdout",
     "output_type": "stream",
     "text": [
      "Global round: 454 | Average loss: 0.6394886506928338\n",
      "Global Round: 455\n"
     ]
    },
    {
     "name": "stderr",
     "output_type": "stream",
     "text": [
      "Train Epoch: 455/1000. Iter:   11/  18. Data: 0.070s. alpha: 10. Batch: 0.118s. Loss: 0.6618.:  61%|▌| 11/18 [00:01<00:00,"
     ]
    },
    {
     "name": "stdout",
     "output_type": "stream",
     "text": [
      "epoch 455 similarity : [0.116055428981781, 0.1267462968826294, 0.1279984414577484, 0.1170026957988739, 0.1175399124622345]\n"
     ]
    },
    {
     "name": "stderr",
     "output_type": "stream",
     "text": [
      "Train Epoch: 455/1000. Iter:   18/  18. Data: 0.065s. alpha: 10. Batch: 0.112s. Loss: 0.6752.: 100%|█| 18/18 [00:02<00:00,\n"
     ]
    },
    {
     "name": "stdout",
     "output_type": "stream",
     "text": [
      "Global round: 455 | Average loss: 0.6447109149561988\n",
      "Global Round: 456\n"
     ]
    },
    {
     "name": "stderr",
     "output_type": "stream",
     "text": [
      "Train Epoch: 456/1000. Iter:   18/  18. Data: 0.059s. alpha: 10. Batch: 0.108s. Loss: 0.6280.: 100%|█| 18/18 [00:01<00:00,\n"
     ]
    },
    {
     "name": "stdout",
     "output_type": "stream",
     "text": [
      "Global round: 456 | Average loss: 0.6344203551610311\n",
      "Global Round: 457\n"
     ]
    },
    {
     "name": "stderr",
     "output_type": "stream",
     "text": [
      "Train Epoch: 457/1000. Iter:   18/  18. Data: 0.065s. alpha: 10. Batch: 0.114s. Loss: 0.6425.: 100%|█| 18/18 [00:02<00:00,\n"
     ]
    },
    {
     "name": "stdout",
     "output_type": "stream",
     "text": [
      "Global round: 457 | Average loss: 0.6384905444251167\n",
      "Global Round: 458\n"
     ]
    },
    {
     "name": "stderr",
     "output_type": "stream",
     "text": [
      "Train Epoch: 458/1000. Iter:   18/  18. Data: 0.060s. alpha: 10. Batch: 0.110s. Loss: 0.6267.: 100%|█| 18/18 [00:01<00:00,\n"
     ]
    },
    {
     "name": "stdout",
     "output_type": "stream",
     "text": [
      "Global round: 458 | Average loss: 0.6424745553069644\n",
      "Global Round: 459\n"
     ]
    },
    {
     "name": "stderr",
     "output_type": "stream",
     "text": [
      "Train Epoch: 459/1000. Iter:   18/  18. Data: 0.058s. alpha: 10. Batch: 0.108s. Loss: 0.6413.: 100%|█| 18/18 [00:01<00:00,\n"
     ]
    },
    {
     "name": "stdout",
     "output_type": "stream",
     "text": [
      "Global round: 459 | Average loss: 0.6385771698421903\n",
      "Global Round: 460\n"
     ]
    },
    {
     "name": "stderr",
     "output_type": "stream",
     "text": [
      "Train Epoch: 460/1000. Iter:   11/  18. Data: 0.070s. alpha: 10. Batch: 0.119s. Loss: 0.6219.:  61%|▌| 11/18 [00:01<00:01,"
     ]
    },
    {
     "name": "stdout",
     "output_type": "stream",
     "text": [
      "epoch 460 similarity : [0.1808348298072815, 0.18159423768520355, 0.20012910664081573, 0.1809045374393463, 0.18078075349330902]\n"
     ]
    },
    {
     "name": "stderr",
     "output_type": "stream",
     "text": [
      "Train Epoch: 460/1000. Iter:   18/  18. Data: 0.065s. alpha: 10. Batch: 0.114s. Loss: 0.6318.: 100%|█| 18/18 [00:02<00:00,\n"
     ]
    },
    {
     "name": "stdout",
     "output_type": "stream",
     "text": [
      "Global round: 460 | Average loss: 0.6357027424706353\n",
      "Global Round: 461\n"
     ]
    },
    {
     "name": "stderr",
     "output_type": "stream",
     "text": [
      "Train Epoch: 461/1000. Iter:   18/  18. Data: 0.059s. alpha: 10. Batch: 0.111s. Loss: 0.6130.: 100%|█| 18/18 [00:01<00:00,\n"
     ]
    },
    {
     "name": "stdout",
     "output_type": "stream",
     "text": [
      "Global round: 461 | Average loss: 0.6331982745064629\n",
      "Global Round: 462\n"
     ]
    },
    {
     "name": "stderr",
     "output_type": "stream",
     "text": [
      "Train Epoch: 462/1000. Iter:   18/  18. Data: 0.059s. alpha: 10. Batch: 0.111s. Loss: 0.6057.: 100%|█| 18/18 [00:02<00:00,\n"
     ]
    },
    {
     "name": "stdout",
     "output_type": "stream",
     "text": [
      "Global round: 462 | Average loss: 0.6354631748464372\n",
      "Global Round: 463\n"
     ]
    },
    {
     "name": "stderr",
     "output_type": "stream",
     "text": [
      "Train Epoch: 463/1000. Iter:   18/  18. Data: 0.062s. alpha: 10. Batch: 0.114s. Loss: 0.6559.: 100%|█| 18/18 [00:02<00:00,\n"
     ]
    },
    {
     "name": "stdout",
     "output_type": "stream",
     "text": [
      "Global round: 463 | Average loss: 0.6329118145836724\n",
      "Global Round: 464\n"
     ]
    },
    {
     "name": "stderr",
     "output_type": "stream",
     "text": [
      "Train Epoch: 464/1000. Iter:   18/  18. Data: 0.062s. alpha: 10. Batch: 0.111s. Loss: 0.6370.: 100%|█| 18/18 [00:02<00:00,\n"
     ]
    },
    {
     "name": "stdout",
     "output_type": "stream",
     "text": [
      "Global round: 464 | Average loss: 0.6364376809861925\n",
      "Global Round: 465\n"
     ]
    },
    {
     "name": "stderr",
     "output_type": "stream",
     "text": [
      "Train Epoch: 465/1000. Iter:   11/  18. Data: 0.071s. alpha: 10. Batch: 0.122s. Loss: 0.6467.:  61%|▌| 11/18 [00:01<00:01,"
     ]
    },
    {
     "name": "stdout",
     "output_type": "stream",
     "text": [
      "epoch 465 similarity : [0.16605737805366516, 0.16310864686965942, 0.17374475300312042, 0.1702413707971573, 0.16100364923477173]\n"
     ]
    },
    {
     "name": "stderr",
     "output_type": "stream",
     "text": [
      "Train Epoch: 465/1000. Iter:   18/  18. Data: 0.065s. alpha: 10. Batch: 0.115s. Loss: 0.6471.: 100%|█| 18/18 [00:02<00:00,\n"
     ]
    },
    {
     "name": "stdout",
     "output_type": "stream",
     "text": [
      "Global round: 465 | Average loss: 0.6328529980447557\n",
      "Global Round: 466\n"
     ]
    },
    {
     "name": "stderr",
     "output_type": "stream",
     "text": [
      "Train Epoch: 466/1000. Iter:   18/  18. Data: 0.059s. alpha: 10. Batch: 0.109s. Loss: 0.6429.: 100%|█| 18/18 [00:01<00:00,\n"
     ]
    },
    {
     "name": "stdout",
     "output_type": "stream",
     "text": [
      "Global round: 466 | Average loss: 0.6354978117677901\n",
      "Global Round: 467\n"
     ]
    },
    {
     "name": "stderr",
     "output_type": "stream",
     "text": [
      "Train Epoch: 467/1000. Iter:   18/  18. Data: 0.060s. alpha: 10. Batch: 0.108s. Loss: 0.6607.: 100%|█| 18/18 [00:01<00:00,\n"
     ]
    },
    {
     "name": "stdout",
     "output_type": "stream",
     "text": [
      "Global round: 467 | Average loss: 0.6348042090733846\n",
      "Global Round: 468\n"
     ]
    },
    {
     "name": "stderr",
     "output_type": "stream",
     "text": [
      "Train Epoch: 468/1000. Iter:   18/  18. Data: 0.059s. alpha: 10. Batch: 0.109s. Loss: 0.6397.: 100%|█| 18/18 [00:01<00:00,\n"
     ]
    },
    {
     "name": "stdout",
     "output_type": "stream",
     "text": [
      "Global round: 468 | Average loss: 0.6340948243935903\n",
      "Global Round: 469\n"
     ]
    },
    {
     "name": "stderr",
     "output_type": "stream",
     "text": [
      "Train Epoch: 469/1000. Iter:   18/  18. Data: 0.061s. alpha: 10. Batch: 0.112s. Loss: 0.6255.: 100%|█| 18/18 [00:02<00:00,\n"
     ]
    },
    {
     "name": "stdout",
     "output_type": "stream",
     "text": [
      "Global round: 469 | Average loss: 0.6350677311420441\n",
      "Global Round: 470\n"
     ]
    },
    {
     "name": "stderr",
     "output_type": "stream",
     "text": [
      "Train Epoch: 470/1000. Iter:   11/  18. Data: 0.065s. alpha: 10. Batch: 0.113s. Loss: 0.6027.:  61%|▌| 11/18 [00:01<00:00,"
     ]
    },
    {
     "name": "stdout",
     "output_type": "stream",
     "text": [
      "epoch 470 similarity : [0.145919069647789, 0.15244819223880768, 0.1555795520544052, 0.15445883572101593, 0.1551893651485443]\n"
     ]
    },
    {
     "name": "stderr",
     "output_type": "stream",
     "text": [
      "Train Epoch: 470/1000. Iter:   18/  18. Data: 0.064s. alpha: 10. Batch: 0.113s. Loss: 0.6426.: 100%|█| 18/18 [00:02<00:00,\n"
     ]
    },
    {
     "name": "stdout",
     "output_type": "stream",
     "text": [
      "Global round: 470 | Average loss: 0.6341478625933329\n",
      "Global Round: 471\n"
     ]
    },
    {
     "name": "stderr",
     "output_type": "stream",
     "text": [
      "Train Epoch: 471/1000. Iter:   18/  18. Data: 0.059s. alpha: 10. Batch: 0.110s. Loss: 0.6218.: 100%|█| 18/18 [00:01<00:00,\n"
     ]
    },
    {
     "name": "stdout",
     "output_type": "stream",
     "text": [
      "Global round: 471 | Average loss: 0.6351586083571116\n",
      "Global Round: 472\n"
     ]
    },
    {
     "name": "stderr",
     "output_type": "stream",
     "text": [
      "Train Epoch: 472/1000. Iter:   18/  18. Data: 0.060s. alpha: 10. Batch: 0.109s. Loss: 0.6373.: 100%|█| 18/18 [00:01<00:00,\n"
     ]
    },
    {
     "name": "stdout",
     "output_type": "stream",
     "text": [
      "Global round: 472 | Average loss: 0.6335726711485121\n",
      "Global Round: 473\n"
     ]
    },
    {
     "name": "stderr",
     "output_type": "stream",
     "text": [
      "Train Epoch: 473/1000. Iter:   18/  18. Data: 0.059s. alpha: 10. Batch: 0.109s. Loss: 0.6430.: 100%|█| 18/18 [00:01<00:00,\n"
     ]
    },
    {
     "name": "stdout",
     "output_type": "stream",
     "text": [
      "Global round: 473 | Average loss: 0.6339472168021731\n",
      "Global Round: 474\n"
     ]
    },
    {
     "name": "stderr",
     "output_type": "stream",
     "text": [
      "Train Epoch: 474/1000. Iter:   18/  18. Data: 0.061s. alpha: 10. Batch: 0.109s. Loss: 0.6367.: 100%|█| 18/18 [00:01<00:00,\n"
     ]
    },
    {
     "name": "stdout",
     "output_type": "stream",
     "text": [
      "Global round: 474 | Average loss: 0.6330444746547275\n",
      "Global Round: 475\n"
     ]
    },
    {
     "name": "stderr",
     "output_type": "stream",
     "text": [
      "Train Epoch: 475/1000. Iter:   11/  18. Data: 0.069s. alpha: 10. Batch: 0.119s. Loss: 0.6542.:  61%|▌| 11/18 [00:01<00:00,"
     ]
    },
    {
     "name": "stdout",
     "output_type": "stream",
     "text": [
      "epoch 475 similarity : [0.13346907496452332, 0.1376091092824936, 0.15377217531204224, 0.14026136696338654, 0.1425469070672989]\n"
     ]
    },
    {
     "name": "stderr",
     "output_type": "stream",
     "text": [
      "Train Epoch: 475/1000. Iter:   18/  18. Data: 0.067s. alpha: 10. Batch: 0.117s. Loss: 0.6204.: 100%|█| 18/18 [00:02<00:00,\n"
     ]
    },
    {
     "name": "stdout",
     "output_type": "stream",
     "text": [
      "Global round: 475 | Average loss: 0.6342399583922492\n",
      "Global Round: 476\n"
     ]
    },
    {
     "name": "stderr",
     "output_type": "stream",
     "text": [
      "Train Epoch: 476/1000. Iter:   18/  18. Data: 0.061s. alpha: 10. Batch: 0.111s. Loss: 0.6296.: 100%|█| 18/18 [00:01<00:00,\n"
     ]
    },
    {
     "name": "stdout",
     "output_type": "stream",
     "text": [
      "Global round: 476 | Average loss: 0.62900443871816\n",
      "Global Round: 477\n"
     ]
    },
    {
     "name": "stderr",
     "output_type": "stream",
     "text": [
      "Train Epoch: 477/1000. Iter:   18/  18. Data: 0.059s. alpha: 10. Batch: 0.109s. Loss: 0.6147.: 100%|█| 18/18 [00:01<00:00,\n"
     ]
    },
    {
     "name": "stdout",
     "output_type": "stream",
     "text": [
      "Global round: 477 | Average loss: 0.6335362924469842\n",
      "Global Round: 478\n"
     ]
    },
    {
     "name": "stderr",
     "output_type": "stream",
     "text": [
      "Train Epoch: 478/1000. Iter:   18/  18. Data: 0.058s. alpha: 10. Batch: 0.108s. Loss: 0.6291.: 100%|█| 18/18 [00:01<00:00,\n"
     ]
    },
    {
     "name": "stdout",
     "output_type": "stream",
     "text": [
      "Global round: 478 | Average loss: 0.6329968273639679\n",
      "Global Round: 479\n"
     ]
    },
    {
     "name": "stderr",
     "output_type": "stream",
     "text": [
      "Train Epoch: 479/1000. Iter:   18/  18. Data: 0.060s. alpha: 10. Batch: 0.108s. Loss: 0.6047.: 100%|█| 18/18 [00:01<00:00,\n"
     ]
    },
    {
     "name": "stdout",
     "output_type": "stream",
     "text": [
      "Global round: 479 | Average loss: 0.6305762628714243\n",
      "Global Round: 480\n"
     ]
    },
    {
     "name": "stderr",
     "output_type": "stream",
     "text": [
      "Train Epoch: 480/1000. Iter:   11/  18. Data: 0.068s. alpha: 10. Batch: 0.122s. Loss: 0.6435.:  61%|▌| 11/18 [00:01<00:00,"
     ]
    },
    {
     "name": "stdout",
     "output_type": "stream",
     "text": [
      "epoch 480 similarity : [0.14093706011772156, 0.15456387400627136, 0.1399136483669281, 0.14121651649475098, 0.14249491691589355]\n"
     ]
    },
    {
     "name": "stderr",
     "output_type": "stream",
     "text": [
      "Train Epoch: 480/1000. Iter:   18/  18. Data: 0.064s. alpha: 10. Batch: 0.118s. Loss: 0.6332.: 100%|█| 18/18 [00:02<00:00,\n"
     ]
    },
    {
     "name": "stdout",
     "output_type": "stream",
     "text": [
      "Global round: 480 | Average loss: 0.6324121885829501\n",
      "Global Round: 481\n"
     ]
    },
    {
     "name": "stderr",
     "output_type": "stream",
     "text": [
      "Train Epoch: 481/1000. Iter:   18/  18. Data: 0.060s. alpha: 10. Batch: 0.108s. Loss: 0.6209.: 100%|█| 18/18 [00:01<00:00,\n"
     ]
    },
    {
     "name": "stdout",
     "output_type": "stream",
     "text": [
      "Global round: 481 | Average loss: 0.6302866306569841\n",
      "Global Round: 482\n"
     ]
    },
    {
     "name": "stderr",
     "output_type": "stream",
     "text": [
      "Train Epoch: 482/1000. Iter:   18/  18. Data: 0.058s. alpha: 10. Batch: 0.108s. Loss: 0.6196.: 100%|█| 18/18 [00:01<00:00,\n"
     ]
    },
    {
     "name": "stdout",
     "output_type": "stream",
     "text": [
      "Global round: 482 | Average loss: 0.6280352142122057\n",
      "Global Round: 483\n"
     ]
    },
    {
     "name": "stderr",
     "output_type": "stream",
     "text": [
      "Train Epoch: 483/1000. Iter:   18/  18. Data: 0.060s. alpha: 10. Batch: 0.108s. Loss: 0.6408.: 100%|█| 18/18 [00:01<00:00,\n"
     ]
    },
    {
     "name": "stdout",
     "output_type": "stream",
     "text": [
      "Global round: 483 | Average loss: 0.6300409336884817\n",
      "Global Round: 484\n"
     ]
    },
    {
     "name": "stderr",
     "output_type": "stream",
     "text": [
      "Train Epoch: 484/1000. Iter:   18/  18. Data: 0.059s. alpha: 10. Batch: 0.109s. Loss: 0.6392.: 100%|█| 18/18 [00:01<00:00,\n"
     ]
    },
    {
     "name": "stdout",
     "output_type": "stream",
     "text": [
      "Global round: 484 | Average loss: 0.628886706299252\n",
      "Global Round: 485\n"
     ]
    },
    {
     "name": "stderr",
     "output_type": "stream",
     "text": [
      "Train Epoch: 485/1000. Iter:   11/  18. Data: 0.067s. alpha: 10. Batch: 0.120s. Loss: 0.6291.:  61%|▌| 11/18 [00:01<00:00,"
     ]
    },
    {
     "name": "stdout",
     "output_type": "stream",
     "text": [
      "epoch 485 similarity : [0.14794448018074036, 0.17066600918769836, 0.16998320817947388, 0.1474592387676239, 0.154392808675766]\n"
     ]
    },
    {
     "name": "stderr",
     "output_type": "stream",
     "text": [
      "Train Epoch: 485/1000. Iter:   18/  18. Data: 0.062s. alpha: 10. Batch: 0.114s. Loss: 0.6297.: 100%|█| 18/18 [00:02<00:00,\n"
     ]
    },
    {
     "name": "stdout",
     "output_type": "stream",
     "text": [
      "Global round: 485 | Average loss: 0.6281543572743734\n",
      "Global Round: 486\n"
     ]
    },
    {
     "name": "stderr",
     "output_type": "stream",
     "text": [
      "Train Epoch: 486/1000. Iter:   18/  18. Data: 0.064s. alpha: 10. Batch: 0.113s. Loss: 0.6225.: 100%|█| 18/18 [00:02<00:00,\n"
     ]
    },
    {
     "name": "stdout",
     "output_type": "stream",
     "text": [
      "Global round: 486 | Average loss: 0.6290929317474365\n",
      "Global Round: 487\n"
     ]
    },
    {
     "name": "stderr",
     "output_type": "stream",
     "text": [
      "Train Epoch: 487/1000. Iter:   18/  18. Data: 0.058s. alpha: 10. Batch: 0.109s. Loss: 0.6129.: 100%|█| 18/18 [00:01<00:00,\n"
     ]
    },
    {
     "name": "stdout",
     "output_type": "stream",
     "text": [
      "Global round: 487 | Average loss: 0.6279962062835693\n",
      "Global Round: 488\n"
     ]
    },
    {
     "name": "stderr",
     "output_type": "stream",
     "text": [
      "Train Epoch: 488/1000. Iter:   18/  18. Data: 0.060s. alpha: 10. Batch: 0.109s. Loss: 0.6138.: 100%|█| 18/18 [00:01<00:00,\n"
     ]
    },
    {
     "name": "stdout",
     "output_type": "stream",
     "text": [
      "Global round: 488 | Average loss: 0.6299551957183414\n",
      "Global Round: 489\n"
     ]
    },
    {
     "name": "stderr",
     "output_type": "stream",
     "text": [
      "Train Epoch: 489/1000. Iter:   18/  18. Data: 0.059s. alpha: 10. Batch: 0.109s. Loss: 0.6248.: 100%|█| 18/18 [00:01<00:00,\n"
     ]
    },
    {
     "name": "stdout",
     "output_type": "stream",
     "text": [
      "Global round: 489 | Average loss: 0.627559502919515\n",
      "Global Round: 490\n"
     ]
    },
    {
     "name": "stderr",
     "output_type": "stream",
     "text": [
      "Train Epoch: 490/1000. Iter:   11/  18. Data: 0.071s. alpha: 10. Batch: 0.119s. Loss: 0.6369.:  61%|▌| 11/18 [00:01<00:00,"
     ]
    },
    {
     "name": "stdout",
     "output_type": "stream",
     "text": [
      "epoch 490 similarity : [0.12191277742385864, 0.13906486332416534, 0.13232168555259705, 0.1260906606912613, 0.145736426115036]\n"
     ]
    },
    {
     "name": "stderr",
     "output_type": "stream",
     "text": [
      "Train Epoch: 490/1000. Iter:   18/  18. Data: 0.065s. alpha: 10. Batch: 0.113s. Loss: 0.6097.: 100%|█| 18/18 [00:02<00:00,\n"
     ]
    },
    {
     "name": "stdout",
     "output_type": "stream",
     "text": [
      "Global round: 490 | Average loss: 0.6310438281959958\n",
      "Global Round: 491\n"
     ]
    },
    {
     "name": "stderr",
     "output_type": "stream",
     "text": [
      "Train Epoch: 491/1000. Iter:   18/  18. Data: 0.059s. alpha: 10. Batch: 0.111s. Loss: 0.6183.: 100%|█| 18/18 [00:01<00:00,\n"
     ]
    },
    {
     "name": "stdout",
     "output_type": "stream",
     "text": [
      "Global round: 491 | Average loss: 0.6298263569672903\n",
      "Global Round: 492\n"
     ]
    },
    {
     "name": "stderr",
     "output_type": "stream",
     "text": [
      "Train Epoch: 492/1000. Iter:   18/  18. Data: 0.064s. alpha: 10. Batch: 0.114s. Loss: 0.6445.: 100%|█| 18/18 [00:02<00:00,\n"
     ]
    },
    {
     "name": "stdout",
     "output_type": "stream",
     "text": [
      "Global round: 492 | Average loss: 0.6272364060084025\n",
      "Global Round: 493\n"
     ]
    },
    {
     "name": "stderr",
     "output_type": "stream",
     "text": [
      "Train Epoch: 493/1000. Iter:   18/  18. Data: 0.058s. alpha: 10. Batch: 0.110s. Loss: 0.6459.: 100%|█| 18/18 [00:01<00:00,\n"
     ]
    },
    {
     "name": "stdout",
     "output_type": "stream",
     "text": [
      "Global round: 493 | Average loss: 0.62936888800727\n",
      "Global Round: 494\n"
     ]
    },
    {
     "name": "stderr",
     "output_type": "stream",
     "text": [
      "Train Epoch: 494/1000. Iter:   18/  18. Data: 0.058s. alpha: 10. Batch: 0.110s. Loss: 0.6357.: 100%|█| 18/18 [00:01<00:00,\n"
     ]
    },
    {
     "name": "stdout",
     "output_type": "stream",
     "text": [
      "Global round: 494 | Average loss: 0.6293668614493476\n",
      "Global Round: 495\n"
     ]
    },
    {
     "name": "stderr",
     "output_type": "stream",
     "text": [
      "Train Epoch: 495/1000. Iter:   11/  18. Data: 0.070s. alpha: 10. Batch: 0.121s. Loss: 0.6217.:  61%|▌| 11/18 [00:01<00:01,"
     ]
    },
    {
     "name": "stdout",
     "output_type": "stream",
     "text": [
      "epoch 495 similarity : [0.20139485597610474, 0.21907325088977814, 0.2191534787416458, 0.21598608791828156, 0.20619256794452667]\n"
     ]
    },
    {
     "name": "stderr",
     "output_type": "stream",
     "text": [
      "Train Epoch: 495/1000. Iter:   18/  18. Data: 0.064s. alpha: 10. Batch: 0.114s. Loss: 0.6390.: 100%|█| 18/18 [00:02<00:00,\n"
     ]
    },
    {
     "name": "stdout",
     "output_type": "stream",
     "text": [
      "Global round: 495 | Average loss: 0.6306312448448606\n",
      "Global Round: 496\n"
     ]
    },
    {
     "name": "stderr",
     "output_type": "stream",
     "text": [
      "Train Epoch: 496/1000. Iter:   18/  18. Data: 0.059s. alpha: 10. Batch: 0.110s. Loss: 0.6225.: 100%|█| 18/18 [00:01<00:00,\n"
     ]
    },
    {
     "name": "stdout",
     "output_type": "stream",
     "text": [
      "Global round: 496 | Average loss: 0.6273832619190216\n",
      "Global Round: 497\n"
     ]
    },
    {
     "name": "stderr",
     "output_type": "stream",
     "text": [
      "Train Epoch: 497/1000. Iter:   18/  18. Data: 0.058s. alpha: 10. Batch: 0.109s. Loss: 0.6087.: 100%|█| 18/18 [00:01<00:00,\n"
     ]
    },
    {
     "name": "stdout",
     "output_type": "stream",
     "text": [
      "Global round: 497 | Average loss: 0.6271703574392531\n",
      "Global Round: 498\n"
     ]
    },
    {
     "name": "stderr",
     "output_type": "stream",
     "text": [
      "Train Epoch: 498/1000. Iter:   18/  18. Data: 0.062s. alpha: 10. Batch: 0.112s. Loss: 0.6422.: 100%|█| 18/18 [00:02<00:00,\n"
     ]
    },
    {
     "name": "stdout",
     "output_type": "stream",
     "text": [
      "Global round: 498 | Average loss: 0.6251198053359985\n",
      "Global Round: 499\n"
     ]
    },
    {
     "name": "stderr",
     "output_type": "stream",
     "text": [
      "Train Epoch: 499/1000. Iter:   18/  18. Data: 0.061s. alpha: 10. Batch: 0.108s. Loss: 0.6357.: 100%|█| 18/18 [00:01<00:00,\n"
     ]
    },
    {
     "name": "stdout",
     "output_type": "stream",
     "text": [
      "Global round: 499 | Average loss: 0.630013538731469\n",
      "Global Round: 500\n"
     ]
    },
    {
     "name": "stderr",
     "output_type": "stream",
     "text": [
      "Train Epoch: 500/1000. Iter:   11/  18. Data: 0.070s. alpha: 10. Batch: 0.119s. Loss: 0.6390.:  61%|▌| 11/18 [00:01<00:01,"
     ]
    },
    {
     "name": "stdout",
     "output_type": "stream",
     "text": [
      "epoch 500 similarity : [0.10686249285936356, 0.11923544108867645, 0.11006531864404678, 0.1104397401213646, 0.1068957969546318]\n"
     ]
    },
    {
     "name": "stderr",
     "output_type": "stream",
     "text": [
      "Train Epoch: 500/1000. Iter:   18/  18. Data: 0.064s. alpha: 10. Batch: 0.113s. Loss: 0.5990.: 100%|█| 18/18 [00:02<00:00,\n"
     ]
    },
    {
     "name": "stdout",
     "output_type": "stream",
     "text": [
      "Global round: 500 | Average loss: 0.6217554608980814\n",
      "Global Round: 501\n"
     ]
    },
    {
     "name": "stderr",
     "output_type": "stream",
     "text": [
      "Train Epoch: 501/1000. Iter:   18/  18. Data: 0.060s. alpha: 10. Batch: 0.110s. Loss: 0.6231.: 100%|█| 18/18 [00:01<00:00,\n"
     ]
    },
    {
     "name": "stdout",
     "output_type": "stream",
     "text": [
      "Global round: 501 | Average loss: 0.6231733825471666\n",
      "Global Round: 502\n"
     ]
    },
    {
     "name": "stderr",
     "output_type": "stream",
     "text": [
      "Train Epoch: 502/1000. Iter:   18/  18. Data: 0.061s. alpha: 10. Batch: 0.109s. Loss: 0.6360.: 100%|█| 18/18 [00:01<00:00,\n"
     ]
    },
    {
     "name": "stdout",
     "output_type": "stream",
     "text": [
      "Global round: 502 | Average loss: 0.6260954141616821\n",
      "Global Round: 503\n"
     ]
    },
    {
     "name": "stderr",
     "output_type": "stream",
     "text": [
      "Train Epoch: 503/1000. Iter:   18/  18. Data: 0.060s. alpha: 10. Batch: 0.110s. Loss: 0.6307.: 100%|█| 18/18 [00:01<00:00,\n"
     ]
    },
    {
     "name": "stdout",
     "output_type": "stream",
     "text": [
      "Global round: 503 | Average loss: 0.627751479546229\n",
      "Global Round: 504\n"
     ]
    },
    {
     "name": "stderr",
     "output_type": "stream",
     "text": [
      "Train Epoch: 504/1000. Iter:   18/  18. Data: 0.061s. alpha: 10. Batch: 0.114s. Loss: 0.6344.: 100%|█| 18/18 [00:02<00:00,\n"
     ]
    },
    {
     "name": "stdout",
     "output_type": "stream",
     "text": [
      "Global round: 504 | Average loss: 0.6255033413569132\n",
      "Global Round: 505\n"
     ]
    },
    {
     "name": "stderr",
     "output_type": "stream",
     "text": [
      "Train Epoch: 505/1000. Iter:   11/  18. Data: 0.066s. alpha: 10. Batch: 0.114s. Loss: 0.6139.:  61%|▌| 11/18 [00:01<00:00,"
     ]
    },
    {
     "name": "stdout",
     "output_type": "stream",
     "text": [
      "epoch 505 similarity : [0.11049271374940872, 0.11453696340322495, 0.1225426122546196, 0.11417815834283829, 0.11646407842636108]\n"
     ]
    },
    {
     "name": "stderr",
     "output_type": "stream",
     "text": [
      "Train Epoch: 505/1000. Iter:   18/  18. Data: 0.064s. alpha: 10. Batch: 0.115s. Loss: 0.6372.: 100%|█| 18/18 [00:02<00:00,\n"
     ]
    },
    {
     "name": "stdout",
     "output_type": "stream",
     "text": [
      "Global round: 505 | Average loss: 0.6229501697752211\n",
      "Global Round: 506\n"
     ]
    },
    {
     "name": "stderr",
     "output_type": "stream",
     "text": [
      "Train Epoch: 506/1000. Iter:   18/  18. Data: 0.059s. alpha: 10. Batch: 0.111s. Loss: 0.6168.: 100%|█| 18/18 [00:01<00:00,\n"
     ]
    },
    {
     "name": "stdout",
     "output_type": "stream",
     "text": [
      "Global round: 506 | Average loss: 0.6251981291506026\n",
      "Global Round: 507\n"
     ]
    },
    {
     "name": "stderr",
     "output_type": "stream",
     "text": [
      "Train Epoch: 507/1000. Iter:   18/  18. Data: 0.060s. alpha: 10. Batch: 0.110s. Loss: 0.6431.: 100%|█| 18/18 [00:01<00:00,\n"
     ]
    },
    {
     "name": "stdout",
     "output_type": "stream",
     "text": [
      "Global round: 507 | Average loss: 0.6205829812420739\n",
      "Global Round: 508\n"
     ]
    },
    {
     "name": "stderr",
     "output_type": "stream",
     "text": [
      "Train Epoch: 508/1000. Iter:   18/  18. Data: 0.059s. alpha: 10. Batch: 0.110s. Loss: 0.6355.: 100%|█| 18/18 [00:01<00:00,\n"
     ]
    },
    {
     "name": "stdout",
     "output_type": "stream",
     "text": [
      "Global round: 508 | Average loss: 0.6280272139443291\n",
      "Global Round: 509\n"
     ]
    },
    {
     "name": "stderr",
     "output_type": "stream",
     "text": [
      "Train Epoch: 509/1000. Iter:   18/  18. Data: 0.061s. alpha: 10. Batch: 0.110s. Loss: 0.6253.: 100%|█| 18/18 [00:01<00:00,\n"
     ]
    },
    {
     "name": "stdout",
     "output_type": "stream",
     "text": [
      "Global round: 509 | Average loss: 0.621122744348314\n",
      "Global Round: 510\n"
     ]
    },
    {
     "name": "stderr",
     "output_type": "stream",
     "text": [
      "Train Epoch: 510/1000. Iter:   11/  18. Data: 0.068s. alpha: 10. Batch: 0.118s. Loss: 0.6055.:  61%|▌| 11/18 [00:01<00:00,"
     ]
    },
    {
     "name": "stdout",
     "output_type": "stream",
     "text": [
      "epoch 510 similarity : [0.10611595213413239, 0.10143890231847763, 0.1303321123123169, 0.11485350877046585, 0.1207854151725769]\n"
     ]
    },
    {
     "name": "stderr",
     "output_type": "stream",
     "text": [
      "Train Epoch: 510/1000. Iter:   18/  18. Data: 0.066s. alpha: 10. Batch: 0.116s. Loss: 0.5975.: 100%|█| 18/18 [00:02<00:00,\n"
     ]
    },
    {
     "name": "stdout",
     "output_type": "stream",
     "text": [
      "Global round: 510 | Average loss: 0.6235414246718088\n",
      "Global Round: 511\n"
     ]
    },
    {
     "name": "stderr",
     "output_type": "stream",
     "text": [
      "Train Epoch: 511/1000. Iter:   18/  18. Data: 0.059s. alpha: 10. Batch: 0.108s. Loss: 0.6342.: 100%|█| 18/18 [00:01<00:00,\n"
     ]
    },
    {
     "name": "stdout",
     "output_type": "stream",
     "text": [
      "Global round: 511 | Average loss: 0.6211576461791992\n",
      "Global Round: 512\n"
     ]
    },
    {
     "name": "stderr",
     "output_type": "stream",
     "text": [
      "Train Epoch: 512/1000. Iter:   18/  18. Data: 0.059s. alpha: 10. Batch: 0.107s. Loss: 0.6282.: 100%|█| 18/18 [00:01<00:00,\n"
     ]
    },
    {
     "name": "stdout",
     "output_type": "stream",
     "text": [
      "Global round: 512 | Average loss: 0.6221447885036469\n",
      "Global Round: 513\n"
     ]
    },
    {
     "name": "stderr",
     "output_type": "stream",
     "text": [
      "Train Epoch: 513/1000. Iter:   18/  18. Data: 0.058s. alpha: 10. Batch: 0.108s. Loss: 0.6206.: 100%|█| 18/18 [00:01<00:00,\n"
     ]
    },
    {
     "name": "stdout",
     "output_type": "stream",
     "text": [
      "Global round: 513 | Average loss: 0.6204682224326663\n",
      "Global Round: 514\n"
     ]
    },
    {
     "name": "stderr",
     "output_type": "stream",
     "text": [
      "Train Epoch: 514/1000. Iter:   18/  18. Data: 0.059s. alpha: 10. Batch: 0.107s. Loss: 0.6234.: 100%|█| 18/18 [00:01<00:00,\n"
     ]
    },
    {
     "name": "stdout",
     "output_type": "stream",
     "text": [
      "Global round: 514 | Average loss: 0.623194052113427\n",
      "Global Round: 515\n"
     ]
    },
    {
     "name": "stderr",
     "output_type": "stream",
     "text": [
      "Train Epoch: 515/1000. Iter:   11/  18. Data: 0.067s. alpha: 10. Batch: 0.119s. Loss: 0.6419.:  61%|▌| 11/18 [00:01<00:00,"
     ]
    },
    {
     "name": "stdout",
     "output_type": "stream",
     "text": [
      "epoch 515 similarity : [0.15698593854904175, 0.148827463388443, 0.17825748026371002, 0.16837753355503082, 0.16170676052570343]\n"
     ]
    },
    {
     "name": "stderr",
     "output_type": "stream",
     "text": [
      "Train Epoch: 515/1000. Iter:   18/  18. Data: 0.064s. alpha: 10. Batch: 0.118s. Loss: 0.6175.: 100%|█| 18/18 [00:02<00:00,\n"
     ]
    },
    {
     "name": "stdout",
     "output_type": "stream",
     "text": [
      "Global round: 515 | Average loss: 0.623363024658627\n",
      "Global Round: 516\n"
     ]
    },
    {
     "name": "stderr",
     "output_type": "stream",
     "text": [
      "Train Epoch: 516/1000. Iter:   18/  18. Data: 0.061s. alpha: 10. Batch: 0.110s. Loss: 0.6462.: 100%|█| 18/18 [00:01<00:00,\n"
     ]
    },
    {
     "name": "stdout",
     "output_type": "stream",
     "text": [
      "Global round: 516 | Average loss: 0.621657927831014\n",
      "Global Round: 517\n"
     ]
    },
    {
     "name": "stderr",
     "output_type": "stream",
     "text": [
      "Train Epoch: 517/1000. Iter:   18/  18. Data: 0.058s. alpha: 10. Batch: 0.108s. Loss: 0.6152.: 100%|█| 18/18 [00:01<00:00,\n"
     ]
    },
    {
     "name": "stdout",
     "output_type": "stream",
     "text": [
      "Global round: 517 | Average loss: 0.6156778832276663\n",
      "Global Round: 518\n"
     ]
    },
    {
     "name": "stderr",
     "output_type": "stream",
     "text": [
      "Train Epoch: 518/1000. Iter:   18/  18. Data: 0.061s. alpha: 10. Batch: 0.109s. Loss: 0.6076.: 100%|█| 18/18 [00:01<00:00,\n"
     ]
    },
    {
     "name": "stdout",
     "output_type": "stream",
     "text": [
      "Global round: 518 | Average loss: 0.620624903175566\n",
      "Global Round: 519\n"
     ]
    },
    {
     "name": "stderr",
     "output_type": "stream",
     "text": [
      "Train Epoch: 519/1000. Iter:   18/  18. Data: 0.060s. alpha: 10. Batch: 0.110s. Loss: 0.6308.: 100%|█| 18/18 [00:01<00:00,\n"
     ]
    },
    {
     "name": "stdout",
     "output_type": "stream",
     "text": [
      "Global round: 519 | Average loss: 0.6183739205201467\n",
      "Global Round: 520\n"
     ]
    },
    {
     "name": "stderr",
     "output_type": "stream",
     "text": [
      "Train Epoch: 520/1000. Iter:   11/  18. Data: 0.066s. alpha: 10. Batch: 0.119s. Loss: 0.6156.:  61%|▌| 11/18 [00:01<00:00,"
     ]
    },
    {
     "name": "stdout",
     "output_type": "stream",
     "text": [
      "epoch 520 similarity : [0.13755840063095093, 0.12693141400814056, 0.14966624975204468, 0.13616278767585754, 0.14083044230937958]\n"
     ]
    },
    {
     "name": "stderr",
     "output_type": "stream",
     "text": [
      "Train Epoch: 520/1000. Iter:   18/  18. Data: 0.062s. alpha: 10. Batch: 0.114s. Loss: 0.6316.: 100%|█| 18/18 [00:02<00:00,\n"
     ]
    },
    {
     "name": "stdout",
     "output_type": "stream",
     "text": [
      "Global round: 520 | Average loss: 0.6188287933667501\n",
      "Global Round: 521\n"
     ]
    },
    {
     "name": "stderr",
     "output_type": "stream",
     "text": [
      "Train Epoch: 521/1000. Iter:   18/  18. Data: 0.064s. alpha: 10. Batch: 0.115s. Loss: 0.6266.: 100%|█| 18/18 [00:02<00:00,\n"
     ]
    },
    {
     "name": "stdout",
     "output_type": "stream",
     "text": [
      "Global round: 521 | Average loss: 0.6272530423270332\n",
      "Global Round: 522\n"
     ]
    },
    {
     "name": "stderr",
     "output_type": "stream",
     "text": [
      "Train Epoch: 522/1000. Iter:   18/  18. Data: 0.059s. alpha: 10. Batch: 0.112s. Loss: 0.6143.: 100%|█| 18/18 [00:02<00:00,\n"
     ]
    },
    {
     "name": "stdout",
     "output_type": "stream",
     "text": [
      "Global round: 522 | Average loss: 0.616758171055052\n",
      "Global Round: 523\n"
     ]
    },
    {
     "name": "stderr",
     "output_type": "stream",
     "text": [
      "Train Epoch: 523/1000. Iter:   18/  18. Data: 0.060s. alpha: 10. Batch: 0.109s. Loss: 0.5972.: 100%|█| 18/18 [00:01<00:00,\n"
     ]
    },
    {
     "name": "stdout",
     "output_type": "stream",
     "text": [
      "Global round: 523 | Average loss: 0.6219049228562249\n",
      "Global Round: 524\n"
     ]
    },
    {
     "name": "stderr",
     "output_type": "stream",
     "text": [
      "Train Epoch: 524/1000. Iter:   18/  18. Data: 0.059s. alpha: 10. Batch: 0.110s. Loss: 0.6031.: 100%|█| 18/18 [00:01<00:00,\n"
     ]
    },
    {
     "name": "stdout",
     "output_type": "stream",
     "text": [
      "Global round: 524 | Average loss: 0.6182476017210219\n",
      "Global Round: 525\n"
     ]
    },
    {
     "name": "stderr",
     "output_type": "stream",
     "text": [
      "Train Epoch: 525/1000. Iter:   11/  18. Data: 0.071s. alpha: 10. Batch: 0.118s. Loss: 0.6137.:  61%|▌| 11/18 [00:01<00:00,"
     ]
    },
    {
     "name": "stdout",
     "output_type": "stream",
     "text": [
      "epoch 525 similarity : [0.12211798876523972, 0.12205668538808823, 0.1282907873392105, 0.12159322947263718, 0.11637534201145172]\n"
     ]
    },
    {
     "name": "stderr",
     "output_type": "stream",
     "text": [
      "Train Epoch: 525/1000. Iter:   18/  18. Data: 0.065s. alpha: 10. Batch: 0.113s. Loss: 0.6123.: 100%|█| 18/18 [00:02<00:00,\n"
     ]
    },
    {
     "name": "stdout",
     "output_type": "stream",
     "text": [
      "Global round: 525 | Average loss: 0.6175503896342384\n",
      "Global Round: 526\n"
     ]
    },
    {
     "name": "stderr",
     "output_type": "stream",
     "text": [
      "Train Epoch: 526/1000. Iter:   18/  18. Data: 0.060s. alpha: 10. Batch: 0.110s. Loss: 0.6068.: 100%|█| 18/18 [00:01<00:00,\n"
     ]
    },
    {
     "name": "stdout",
     "output_type": "stream",
     "text": [
      "Global round: 526 | Average loss: 0.6164883408281538\n",
      "Global Round: 527\n"
     ]
    },
    {
     "name": "stderr",
     "output_type": "stream",
     "text": [
      "Train Epoch: 527/1000. Iter:   18/  18. Data: 0.064s. alpha: 10. Batch: 0.113s. Loss: 0.6240.: 100%|█| 18/18 [00:02<00:00,\n"
     ]
    },
    {
     "name": "stdout",
     "output_type": "stream",
     "text": [
      "Global round: 527 | Average loss: 0.6165528860357072\n",
      "Global Round: 528\n"
     ]
    },
    {
     "name": "stderr",
     "output_type": "stream",
     "text": [
      "Train Epoch: 528/1000. Iter:   18/  18. Data: 0.060s. alpha: 10. Batch: 0.112s. Loss: 0.6226.: 100%|█| 18/18 [00:02<00:00,\n"
     ]
    },
    {
     "name": "stdout",
     "output_type": "stream",
     "text": [
      "Global round: 528 | Average loss: 0.6174726453092363\n",
      "Global Round: 529\n"
     ]
    },
    {
     "name": "stderr",
     "output_type": "stream",
     "text": [
      "Train Epoch: 529/1000. Iter:   18/  18. Data: 0.058s. alpha: 10. Batch: 0.110s. Loss: 0.6389.: 100%|█| 18/18 [00:01<00:00,\n"
     ]
    },
    {
     "name": "stdout",
     "output_type": "stream",
     "text": [
      "Global round: 529 | Average loss: 0.6224053932560815\n",
      "Global Round: 530\n"
     ]
    },
    {
     "name": "stderr",
     "output_type": "stream",
     "text": [
      "Train Epoch: 530/1000. Iter:   11/  18. Data: 0.069s. alpha: 10. Batch: 0.119s. Loss: 0.6051.:  61%|▌| 11/18 [00:01<00:01,"
     ]
    },
    {
     "name": "stdout",
     "output_type": "stream",
     "text": [
      "epoch 530 similarity : [0.14149096608161926, 0.15635892748832703, 0.15213052928447723, 0.14836977422237396, 0.1512150913476944]\n"
     ]
    },
    {
     "name": "stderr",
     "output_type": "stream",
     "text": [
      "Train Epoch: 530/1000. Iter:   18/  18. Data: 0.064s. alpha: 10. Batch: 0.113s. Loss: 0.6227.: 100%|█| 18/18 [00:02<00:00,\n"
     ]
    },
    {
     "name": "stdout",
     "output_type": "stream",
     "text": [
      "Global round: 530 | Average loss: 0.615336130062739\n",
      "Global Round: 531\n"
     ]
    },
    {
     "name": "stderr",
     "output_type": "stream",
     "text": [
      "Train Epoch: 531/1000. Iter:   18/  18. Data: 0.060s. alpha: 10. Batch: 0.111s. Loss: 0.6140.: 100%|█| 18/18 [00:01<00:00,\n"
     ]
    },
    {
     "name": "stdout",
     "output_type": "stream",
     "text": [
      "Global round: 531 | Average loss: 0.61729520228174\n",
      "Global Round: 532\n"
     ]
    },
    {
     "name": "stderr",
     "output_type": "stream",
     "text": [
      "Train Epoch: 532/1000. Iter:   18/  18. Data: 0.058s. alpha: 10. Batch: 0.110s. Loss: 0.6066.: 100%|█| 18/18 [00:01<00:00,\n"
     ]
    },
    {
     "name": "stdout",
     "output_type": "stream",
     "text": [
      "Global round: 532 | Average loss: 0.611444377236896\n",
      "Global Round: 533\n"
     ]
    },
    {
     "name": "stderr",
     "output_type": "stream",
     "text": [
      "Train Epoch: 533/1000. Iter:   18/  18. Data: 0.061s. alpha: 10. Batch: 0.113s. Loss: 0.6188.: 100%|█| 18/18 [00:02<00:00,\n"
     ]
    },
    {
     "name": "stdout",
     "output_type": "stream",
     "text": [
      "Global round: 533 | Average loss: 0.6180487109555138\n",
      "Global Round: 534\n"
     ]
    },
    {
     "name": "stderr",
     "output_type": "stream",
     "text": [
      "Train Epoch: 534/1000. Iter:   18/  18. Data: 0.061s. alpha: 10. Batch: 0.109s. Loss: 0.5946.: 100%|█| 18/18 [00:01<00:00,\n"
     ]
    },
    {
     "name": "stdout",
     "output_type": "stream",
     "text": [
      "Global round: 534 | Average loss: 0.6112225751082102\n",
      "Global Round: 535\n"
     ]
    },
    {
     "name": "stderr",
     "output_type": "stream",
     "text": [
      "Train Epoch: 535/1000. Iter:   11/  18. Data: 0.070s. alpha: 10. Batch: 0.119s. Loss: 0.6130.:  61%|▌| 11/18 [00:01<00:01,"
     ]
    },
    {
     "name": "stdout",
     "output_type": "stream",
     "text": [
      "epoch 535 similarity : [0.1418502926826477, 0.16063611209392548, 0.15040653944015503, 0.1584128737449646, 0.1535652130842209]\n"
     ]
    },
    {
     "name": "stderr",
     "output_type": "stream",
     "text": [
      "Train Epoch: 535/1000. Iter:   18/  18. Data: 0.065s. alpha: 10. Batch: 0.114s. Loss: 0.6236.: 100%|█| 18/18 [00:02<00:00,\n"
     ]
    },
    {
     "name": "stdout",
     "output_type": "stream",
     "text": [
      "Global round: 535 | Average loss: 0.613323860698276\n",
      "Global Round: 536\n"
     ]
    },
    {
     "name": "stderr",
     "output_type": "stream",
     "text": [
      "Train Epoch: 536/1000. Iter:   18/  18. Data: 0.059s. alpha: 10. Batch: 0.110s. Loss: 0.6103.: 100%|█| 18/18 [00:01<00:00,\n"
     ]
    },
    {
     "name": "stdout",
     "output_type": "stream",
     "text": [
      "Global round: 536 | Average loss: 0.6151163677374522\n",
      "Global Round: 537\n"
     ]
    },
    {
     "name": "stderr",
     "output_type": "stream",
     "text": [
      "Train Epoch: 537/1000. Iter:   18/  18. Data: 0.060s. alpha: 10. Batch: 0.108s. Loss: 0.6032.: 100%|█| 18/18 [00:01<00:00,\n"
     ]
    },
    {
     "name": "stdout",
     "output_type": "stream",
     "text": [
      "Global round: 537 | Average loss: 0.6120607621139951\n",
      "Global Round: 538\n"
     ]
    },
    {
     "name": "stderr",
     "output_type": "stream",
     "text": [
      "Train Epoch: 538/1000. Iter:   18/  18. Data: 0.059s. alpha: 10. Batch: 0.108s. Loss: 0.6342.: 100%|█| 18/18 [00:01<00:00,\n"
     ]
    },
    {
     "name": "stdout",
     "output_type": "stream",
     "text": [
      "Global round: 538 | Average loss: 0.6194146838453081\n",
      "Global Round: 539\n"
     ]
    },
    {
     "name": "stderr",
     "output_type": "stream",
     "text": [
      "Train Epoch: 539/1000. Iter:   18/  18. Data: 0.060s. alpha: 10. Batch: 0.111s. Loss: 0.6084.: 100%|█| 18/18 [00:01<00:00,\n"
     ]
    },
    {
     "name": "stdout",
     "output_type": "stream",
     "text": [
      "Global round: 539 | Average loss: 0.6073242326577505\n",
      "Global Round: 540\n"
     ]
    },
    {
     "name": "stderr",
     "output_type": "stream",
     "text": [
      "Train Epoch: 540/1000. Iter:   11/  18. Data: 0.066s. alpha: 10. Batch: 0.115s. Loss: 0.6314.:  61%|▌| 11/18 [00:01<00:00,"
     ]
    },
    {
     "name": "stdout",
     "output_type": "stream",
     "text": [
      "epoch 540 similarity : [0.1623663306236267, 0.1618446558713913, 0.16256338357925415, 0.1678425371646881, 0.15970641374588013]\n"
     ]
    },
    {
     "name": "stderr",
     "output_type": "stream",
     "text": [
      "Train Epoch: 540/1000. Iter:   18/  18. Data: 0.064s. alpha: 10. Batch: 0.114s. Loss: 0.5915.: 100%|█| 18/18 [00:02<00:00,\n"
     ]
    },
    {
     "name": "stdout",
     "output_type": "stream",
     "text": [
      "Global round: 540 | Average loss: 0.6091550721062554\n",
      "Global Round: 541\n"
     ]
    },
    {
     "name": "stderr",
     "output_type": "stream",
     "text": [
      "Train Epoch: 541/1000. Iter:   18/  18. Data: 0.059s. alpha: 10. Batch: 0.109s. Loss: 0.6108.: 100%|█| 18/18 [00:01<00:00,\n"
     ]
    },
    {
     "name": "stdout",
     "output_type": "stream",
     "text": [
      "Global round: 541 | Average loss: 0.6106056504779391\n",
      "Global Round: 542\n"
     ]
    },
    {
     "name": "stderr",
     "output_type": "stream",
     "text": [
      "Train Epoch: 542/1000. Iter:   18/  18. Data: 0.060s. alpha: 10. Batch: 0.108s. Loss: 0.6276.: 100%|█| 18/18 [00:01<00:00,\n"
     ]
    },
    {
     "name": "stdout",
     "output_type": "stream",
     "text": [
      "Global round: 542 | Average loss: 0.6114256978034973\n",
      "Global Round: 543\n"
     ]
    },
    {
     "name": "stderr",
     "output_type": "stream",
     "text": [
      "Train Epoch: 543/1000. Iter:   18/  18. Data: 0.058s. alpha: 10. Batch: 0.107s. Loss: 0.5983.: 100%|█| 18/18 [00:01<00:00,\n"
     ]
    },
    {
     "name": "stdout",
     "output_type": "stream",
     "text": [
      "Global round: 543 | Average loss: 0.6104603244198693\n",
      "Global Round: 544\n"
     ]
    },
    {
     "name": "stderr",
     "output_type": "stream",
     "text": [
      "Train Epoch: 544/1000. Iter:   18/  18. Data: 0.061s. alpha: 10. Batch: 0.108s. Loss: 0.6057.: 100%|█| 18/18 [00:01<00:00,\n"
     ]
    },
    {
     "name": "stdout",
     "output_type": "stream",
     "text": [
      "Global round: 544 | Average loss: 0.6099752022160424\n",
      "Global Round: 545\n"
     ]
    },
    {
     "name": "stderr",
     "output_type": "stream",
     "text": [
      "Train Epoch: 545/1000. Iter:   11/  18. Data: 0.069s. alpha: 10. Batch: 0.121s. Loss: 0.6253.:  61%|▌| 11/18 [00:01<00:00,"
     ]
    },
    {
     "name": "stdout",
     "output_type": "stream",
     "text": [
      "epoch 545 similarity : [0.13593871891498566, 0.15373443067073822, 0.14829564094543457, 0.15232697129249573, 0.14287661015987396]\n"
     ]
    },
    {
     "name": "stderr",
     "output_type": "stream",
     "text": [
      "Train Epoch: 545/1000. Iter:   18/  18. Data: 0.068s. alpha: 10. Batch: 0.120s. Loss: 0.6213.: 100%|█| 18/18 [00:02<00:00,\n"
     ]
    },
    {
     "name": "stdout",
     "output_type": "stream",
     "text": [
      "Global round: 545 | Average loss: 0.6117402480708228\n",
      "Global Round: 546\n"
     ]
    },
    {
     "name": "stderr",
     "output_type": "stream",
     "text": [
      "Train Epoch: 546/1000. Iter:   18/  18. Data: 0.061s. alpha: 10. Batch: 0.114s. Loss: 0.6056.: 100%|█| 18/18 [00:02<00:00,\n"
     ]
    },
    {
     "name": "stdout",
     "output_type": "stream",
     "text": [
      "Global round: 546 | Average loss: 0.6077297164334191\n",
      "Global Round: 547\n"
     ]
    },
    {
     "name": "stderr",
     "output_type": "stream",
     "text": [
      "Train Epoch: 547/1000. Iter:   18/  18. Data: 0.059s. alpha: 10. Batch: 0.108s. Loss: 0.6004.: 100%|█| 18/18 [00:01<00:00,\n"
     ]
    },
    {
     "name": "stdout",
     "output_type": "stream",
     "text": [
      "Global round: 547 | Average loss: 0.6118677225377824\n",
      "Global Round: 548\n"
     ]
    },
    {
     "name": "stderr",
     "output_type": "stream",
     "text": [
      "Train Epoch: 548/1000. Iter:   18/  18. Data: 0.058s. alpha: 10. Batch: 0.109s. Loss: 0.6089.: 100%|█| 18/18 [00:01<00:00,\n"
     ]
    },
    {
     "name": "stdout",
     "output_type": "stream",
     "text": [
      "Global round: 548 | Average loss: 0.6063800123002794\n",
      "Global Round: 549\n"
     ]
    },
    {
     "name": "stderr",
     "output_type": "stream",
     "text": [
      "Train Epoch: 549/1000. Iter:   18/  18. Data: 0.061s. alpha: 10. Batch: 0.110s. Loss: 0.6166.: 100%|█| 18/18 [00:01<00:00,\n"
     ]
    },
    {
     "name": "stdout",
     "output_type": "stream",
     "text": [
      "Global round: 549 | Average loss: 0.6109324461883969\n",
      "Global Round: 550\n"
     ]
    },
    {
     "name": "stderr",
     "output_type": "stream",
     "text": [
      "Train Epoch: 550/1000. Iter:   11/  18. Data: 0.068s. alpha: 10. Batch: 0.119s. Loss: 0.5961.:  61%|▌| 11/18 [00:01<00:00,"
     ]
    },
    {
     "name": "stdout",
     "output_type": "stream",
     "text": [
      "epoch 550 similarity : [0.21467767655849457, 0.22097693383693695, 0.22139297425746918, 0.22106009721755981, 0.2235678732395172]\n"
     ]
    },
    {
     "name": "stderr",
     "output_type": "stream",
     "text": [
      "Train Epoch: 550/1000. Iter:   18/  18. Data: 0.064s. alpha: 10. Batch: 0.117s. Loss: 0.6191.: 100%|█| 18/18 [00:02<00:00,\n"
     ]
    },
    {
     "name": "stdout",
     "output_type": "stream",
     "text": [
      "Global round: 550 | Average loss: 0.6096065706676908\n",
      "Global Round: 551\n"
     ]
    },
    {
     "name": "stderr",
     "output_type": "stream",
     "text": [
      "Train Epoch: 551/1000. Iter:   18/  18. Data: 0.061s. alpha: 10. Batch: 0.109s. Loss: 0.6054.: 100%|█| 18/18 [00:01<00:00,\n"
     ]
    },
    {
     "name": "stdout",
     "output_type": "stream",
     "text": [
      "Global round: 551 | Average loss: 0.6052642928229438\n",
      "Global Round: 552\n"
     ]
    },
    {
     "name": "stderr",
     "output_type": "stream",
     "text": [
      "Train Epoch: 552/1000. Iter:   18/  18. Data: 0.058s. alpha: 10. Batch: 0.108s. Loss: 0.6177.: 100%|█| 18/18 [00:01<00:00,\n"
     ]
    },
    {
     "name": "stdout",
     "output_type": "stream",
     "text": [
      "Global round: 552 | Average loss: 0.6035379237598844\n",
      "Global Round: 553\n"
     ]
    },
    {
     "name": "stderr",
     "output_type": "stream",
     "text": [
      "Train Epoch: 553/1000. Iter:   18/  18. Data: 0.060s. alpha: 10. Batch: 0.108s. Loss: 0.6169.: 100%|█| 18/18 [00:01<00:00,\n"
     ]
    },
    {
     "name": "stdout",
     "output_type": "stream",
     "text": [
      "Global round: 553 | Average loss: 0.6091213623682658\n",
      "Global Round: 554\n"
     ]
    },
    {
     "name": "stderr",
     "output_type": "stream",
     "text": [
      "Train Epoch: 554/1000. Iter:   18/  18. Data: 0.059s. alpha: 10. Batch: 0.109s. Loss: 0.6088.: 100%|█| 18/18 [00:01<00:00,\n"
     ]
    },
    {
     "name": "stdout",
     "output_type": "stream",
     "text": [
      "Global round: 554 | Average loss: 0.607245233323839\n",
      "Global Round: 555\n"
     ]
    },
    {
     "name": "stderr",
     "output_type": "stream",
     "text": [
      "Train Epoch: 555/1000. Iter:   11/  18. Data: 0.067s. alpha: 10. Batch: 0.121s. Loss: 0.6063.:  61%|▌| 11/18 [00:01<00:00,"
     ]
    },
    {
     "name": "stdout",
     "output_type": "stream",
     "text": [
      "epoch 555 similarity : [0.1854122132062912, 0.19023443758487701, 0.19132502377033234, 0.19259925186634064, 0.18900591135025024]\n"
     ]
    },
    {
     "name": "stderr",
     "output_type": "stream",
     "text": [
      "Train Epoch: 555/1000. Iter:   18/  18. Data: 0.063s. alpha: 10. Batch: 0.115s. Loss: 0.5971.: 100%|█| 18/18 [00:02<00:00,\n"
     ]
    },
    {
     "name": "stdout",
     "output_type": "stream",
     "text": [
      "Global round: 555 | Average loss: 0.6048300266265869\n",
      "Global Round: 556\n"
     ]
    },
    {
     "name": "stderr",
     "output_type": "stream",
     "text": [
      "Train Epoch: 556/1000. Iter:   18/  18. Data: 0.064s. alpha: 10. Batch: 0.115s. Loss: 0.6301.: 100%|█| 18/18 [00:02<00:00,\n"
     ]
    },
    {
     "name": "stdout",
     "output_type": "stream",
     "text": [
      "Global round: 556 | Average loss: 0.6084037820498148\n",
      "Global Round: 557\n"
     ]
    },
    {
     "name": "stderr",
     "output_type": "stream",
     "text": [
      "Train Epoch: 557/1000. Iter:   18/  18. Data: 0.058s. alpha: 10. Batch: 0.110s. Loss: 0.6039.: 100%|█| 18/18 [00:01<00:00,\n"
     ]
    },
    {
     "name": "stdout",
     "output_type": "stream",
     "text": [
      "Global round: 557 | Average loss: 0.6036060452461243\n",
      "Global Round: 558\n"
     ]
    },
    {
     "name": "stderr",
     "output_type": "stream",
     "text": [
      "Train Epoch: 558/1000. Iter:   18/  18. Data: 0.060s. alpha: 10. Batch: 0.110s. Loss: 0.5981.: 100%|█| 18/18 [00:01<00:00,\n"
     ]
    },
    {
     "name": "stdout",
     "output_type": "stream",
     "text": [
      "Global round: 558 | Average loss: 0.6063429050975375\n",
      "Global Round: 559\n"
     ]
    },
    {
     "name": "stderr",
     "output_type": "stream",
     "text": [
      "Train Epoch: 559/1000. Iter:   18/  18. Data: 0.059s. alpha: 10. Batch: 0.109s. Loss: 0.6147.: 100%|█| 18/18 [00:01<00:00,\n"
     ]
    },
    {
     "name": "stdout",
     "output_type": "stream",
     "text": [
      "Global round: 559 | Average loss: 0.6058680944972568\n",
      "Global Round: 560\n"
     ]
    },
    {
     "name": "stderr",
     "output_type": "stream",
     "text": [
      "Train Epoch: 560/1000. Iter:   11/  18. Data: 0.070s. alpha: 10. Batch: 0.118s. Loss: 0.6119.:  61%|▌| 11/18 [00:01<00:00,"
     ]
    },
    {
     "name": "stdout",
     "output_type": "stream",
     "text": [
      "epoch 560 similarity : [0.21567553281784058, 0.2289910614490509, 0.22706973552703857, 0.2243584543466568, 0.22048214077949524]\n"
     ]
    },
    {
     "name": "stderr",
     "output_type": "stream",
     "text": [
      "Train Epoch: 560/1000. Iter:   18/  18. Data: 0.065s. alpha: 10. Batch: 0.112s. Loss: 0.5995.: 100%|█| 18/18 [00:02<00:00,\n"
     ]
    },
    {
     "name": "stdout",
     "output_type": "stream",
     "text": [
      "Global round: 560 | Average loss: 0.605145083533393\n",
      "Global Round: 561\n"
     ]
    },
    {
     "name": "stderr",
     "output_type": "stream",
     "text": [
      "Train Epoch: 561/1000. Iter:   18/  18. Data: 0.060s. alpha: 10. Batch: 0.111s. Loss: 0.6076.: 100%|█| 18/18 [00:01<00:00,\n"
     ]
    },
    {
     "name": "stdout",
     "output_type": "stream",
     "text": [
      "Global round: 561 | Average loss: 0.5995999276638031\n",
      "Global Round: 562\n"
     ]
    },
    {
     "name": "stderr",
     "output_type": "stream",
     "text": [
      "Train Epoch: 562/1000. Iter:   18/  18. Data: 0.065s. alpha: 10. Batch: 0.115s. Loss: 0.5949.: 100%|█| 18/18 [00:02<00:00,\n"
     ]
    },
    {
     "name": "stdout",
     "output_type": "stream",
     "text": [
      "Global round: 562 | Average loss: 0.6038242677847544\n",
      "Global Round: 563\n"
     ]
    },
    {
     "name": "stderr",
     "output_type": "stream",
     "text": [
      "Train Epoch: 563/1000. Iter:   18/  18. Data: 0.059s. alpha: 10. Batch: 0.110s. Loss: 0.6204.: 100%|█| 18/18 [00:01<00:00,\n"
     ]
    },
    {
     "name": "stdout",
     "output_type": "stream",
     "text": [
      "Global round: 563 | Average loss: 0.6039401292800903\n",
      "Global Round: 564\n"
     ]
    },
    {
     "name": "stderr",
     "output_type": "stream",
     "text": [
      "Train Epoch: 564/1000. Iter:   18/  18. Data: 0.057s. alpha: 10. Batch: 0.107s. Loss: 0.6176.: 100%|█| 18/18 [00:01<00:00,\n"
     ]
    },
    {
     "name": "stdout",
     "output_type": "stream",
     "text": [
      "Global round: 564 | Average loss: 0.6014270848698087\n",
      "Global Round: 565\n"
     ]
    },
    {
     "name": "stderr",
     "output_type": "stream",
     "text": [
      "Train Epoch: 565/1000. Iter:   11/  18. Data: 0.069s. alpha: 10. Batch: 0.117s. Loss: 0.5846.:  61%|▌| 11/18 [00:01<00:01,"
     ]
    },
    {
     "name": "stdout",
     "output_type": "stream",
     "text": [
      "epoch 565 similarity : [0.219533771276474, 0.23057004809379578, 0.2320663183927536, 0.22177264094352722, 0.22764642536640167]\n"
     ]
    },
    {
     "name": "stderr",
     "output_type": "stream",
     "text": [
      "Train Epoch: 565/1000. Iter:   18/  18. Data: 0.064s. alpha: 10. Batch: 0.113s. Loss: 0.6180.: 100%|█| 18/18 [00:02<00:00,\n"
     ]
    },
    {
     "name": "stdout",
     "output_type": "stream",
     "text": [
      "Global round: 565 | Average loss: 0.6031103399064806\n",
      "Global Round: 566\n"
     ]
    },
    {
     "name": "stderr",
     "output_type": "stream",
     "text": [
      "Train Epoch: 566/1000. Iter:   18/  18. Data: 0.059s. alpha: 10. Batch: 0.112s. Loss: 0.6068.: 100%|█| 18/18 [00:01<00:00,\n"
     ]
    },
    {
     "name": "stdout",
     "output_type": "stream",
     "text": [
      "Global round: 566 | Average loss: 0.6024277243349287\n",
      "Global Round: 567\n"
     ]
    },
    {
     "name": "stderr",
     "output_type": "stream",
     "text": [
      "Train Epoch: 567/1000. Iter:   18/  18. Data: 0.058s. alpha: 10. Batch: 0.108s. Loss: 0.5988.: 100%|█| 18/18 [00:01<00:00,\n"
     ]
    },
    {
     "name": "stdout",
     "output_type": "stream",
     "text": [
      "Global round: 567 | Average loss: 0.6018055114481184\n",
      "Global Round: 568\n"
     ]
    },
    {
     "name": "stderr",
     "output_type": "stream",
     "text": [
      "Train Epoch: 568/1000. Iter:   18/  18. Data: 0.061s. alpha: 10. Batch: 0.111s. Loss: 0.6171.: 100%|█| 18/18 [00:01<00:00,\n"
     ]
    },
    {
     "name": "stdout",
     "output_type": "stream",
     "text": [
      "Global round: 568 | Average loss: 0.6007042129834493\n",
      "Global Round: 569\n"
     ]
    },
    {
     "name": "stderr",
     "output_type": "stream",
     "text": [
      "Train Epoch: 569/1000. Iter:   18/  18. Data: 0.061s. alpha: 10. Batch: 0.108s. Loss: 0.5883.: 100%|█| 18/18 [00:01<00:00,\n"
     ]
    },
    {
     "name": "stdout",
     "output_type": "stream",
     "text": [
      "Global round: 569 | Average loss: 0.5985127521885766\n",
      "Global Round: 570\n"
     ]
    },
    {
     "name": "stderr",
     "output_type": "stream",
     "text": [
      "Train Epoch: 570/1000. Iter:   11/  18. Data: 0.070s. alpha: 10. Batch: 0.118s. Loss: 0.6075.:  61%|▌| 11/18 [00:01<00:01,"
     ]
    },
    {
     "name": "stdout",
     "output_type": "stream",
     "text": [
      "epoch 570 similarity : [0.1665339320898056, 0.16523964703083038, 0.17557165026664734, 0.17557252943515778, 0.17864029109477997]\n"
     ]
    },
    {
     "name": "stderr",
     "output_type": "stream",
     "text": [
      "Train Epoch: 570/1000. Iter:   18/  18. Data: 0.064s. alpha: 10. Batch: 0.112s. Loss: 0.6008.: 100%|█| 18/18 [00:02<00:00,\n"
     ]
    },
    {
     "name": "stdout",
     "output_type": "stream",
     "text": [
      "Global round: 570 | Average loss: 0.6014697651068369\n",
      "Global Round: 571\n"
     ]
    },
    {
     "name": "stderr",
     "output_type": "stream",
     "text": [
      "Train Epoch: 571/1000. Iter:   18/  18. Data: 0.060s. alpha: 10. Batch: 0.110s. Loss: 0.6277.: 100%|█| 18/18 [00:01<00:00,\n"
     ]
    },
    {
     "name": "stdout",
     "output_type": "stream",
     "text": [
      "Global round: 571 | Average loss: 0.6057421598169539\n",
      "Global Round: 572\n"
     ]
    },
    {
     "name": "stderr",
     "output_type": "stream",
     "text": [
      "Train Epoch: 572/1000. Iter:   18/  18. Data: 0.061s. alpha: 10. Batch: 0.109s. Loss: 0.5825.: 100%|█| 18/18 [00:01<00:00,\n"
     ]
    },
    {
     "name": "stdout",
     "output_type": "stream",
     "text": [
      "Global round: 572 | Average loss: 0.6035205721855164\n",
      "Global Round: 573\n"
     ]
    },
    {
     "name": "stderr",
     "output_type": "stream",
     "text": [
      "Train Epoch: 573/1000. Iter:   18/  18. Data: 0.060s. alpha: 10. Batch: 0.109s. Loss: 0.5939.: 100%|█| 18/18 [00:01<00:00,\n"
     ]
    },
    {
     "name": "stdout",
     "output_type": "stream",
     "text": [
      "Global round: 573 | Average loss: 0.5971474150816599\n",
      "Global Round: 574\n"
     ]
    },
    {
     "name": "stderr",
     "output_type": "stream",
     "text": [
      "Train Epoch: 574/1000. Iter:   18/  18. Data: 0.061s. alpha: 10. Batch: 0.113s. Loss: 0.6033.: 100%|█| 18/18 [00:02<00:00,\n"
     ]
    },
    {
     "name": "stdout",
     "output_type": "stream",
     "text": [
      "Global round: 574 | Average loss: 0.6043415069580078\n",
      "Global Round: 575\n"
     ]
    },
    {
     "name": "stderr",
     "output_type": "stream",
     "text": [
      "Train Epoch: 575/1000. Iter:   11/  18. Data: 0.066s. alpha: 10. Batch: 0.114s. Loss: 0.6051.:  61%|▌| 11/18 [00:01<00:00,"
     ]
    },
    {
     "name": "stdout",
     "output_type": "stream",
     "text": [
      "epoch 575 similarity : [0.19380654394626617, 0.1969958245754242, 0.20196126401424408, 0.19571223855018616, 0.1986699104309082]\n"
     ]
    },
    {
     "name": "stderr",
     "output_type": "stream",
     "text": [
      "Train Epoch: 575/1000. Iter:   18/  18. Data: 0.064s. alpha: 10. Batch: 0.114s. Loss: 0.5813.: 100%|█| 18/18 [00:02<00:00,\n"
     ]
    },
    {
     "name": "stdout",
     "output_type": "stream",
     "text": [
      "Global round: 575 | Average loss: 0.6018876996305254\n",
      "Global Round: 576\n"
     ]
    },
    {
     "name": "stderr",
     "output_type": "stream",
     "text": [
      "Train Epoch: 576/1000. Iter:   18/  18. Data: 0.059s. alpha: 10. Batch: 0.111s. Loss: 0.6065.: 100%|█| 18/18 [00:01<00:00,\n"
     ]
    },
    {
     "name": "stdout",
     "output_type": "stream",
     "text": [
      "Global round: 576 | Average loss: 0.60101960433854\n",
      "Global Round: 577\n"
     ]
    },
    {
     "name": "stderr",
     "output_type": "stream",
     "text": [
      "Train Epoch: 577/1000. Iter:   18/  18. Data: 0.062s. alpha: 10. Batch: 0.112s. Loss: 0.6053.: 100%|█| 18/18 [00:02<00:00,\n"
     ]
    },
    {
     "name": "stdout",
     "output_type": "stream",
     "text": [
      "Global round: 577 | Average loss: 0.60150436229176\n",
      "Global Round: 578\n"
     ]
    },
    {
     "name": "stderr",
     "output_type": "stream",
     "text": [
      "Train Epoch: 578/1000. Iter:   18/  18. Data: 0.059s. alpha: 10. Batch: 0.109s. Loss: 0.6039.: 100%|█| 18/18 [00:01<00:00,\n"
     ]
    },
    {
     "name": "stdout",
     "output_type": "stream",
     "text": [
      "Global round: 578 | Average loss: 0.6020288566748301\n",
      "Global Round: 579\n"
     ]
    },
    {
     "name": "stderr",
     "output_type": "stream",
     "text": [
      "Train Epoch: 579/1000. Iter:   18/  18. Data: 0.061s. alpha: 10. Batch: 0.110s. Loss: 0.5894.: 100%|█| 18/18 [00:01<00:00,\n"
     ]
    },
    {
     "name": "stdout",
     "output_type": "stream",
     "text": [
      "Global round: 579 | Average loss: 0.5991192724969652\n",
      "Global Round: 580\n"
     ]
    },
    {
     "name": "stderr",
     "output_type": "stream",
     "text": [
      "Train Epoch: 580/1000. Iter:   11/  18. Data: 0.070s. alpha: 10. Batch: 0.121s. Loss: 0.5927.:  61%|▌| 11/18 [00:01<00:00,"
     ]
    },
    {
     "name": "stdout",
     "output_type": "stream",
     "text": [
      "epoch 580 similarity : [0.19439248740673065, 0.20233534276485443, 0.2078274041414261, 0.1995687037706375, 0.19744819402694702]\n"
     ]
    },
    {
     "name": "stderr",
     "output_type": "stream",
     "text": [
      "Train Epoch: 580/1000. Iter:   18/  18. Data: 0.067s. alpha: 10. Batch: 0.118s. Loss: 0.5998.: 100%|█| 18/18 [00:02<00:00,\n"
     ]
    },
    {
     "name": "stdout",
     "output_type": "stream",
     "text": [
      "Global round: 580 | Average loss: 0.5996661451127794\n",
      "Global Round: 581\n"
     ]
    },
    {
     "name": "stderr",
     "output_type": "stream",
     "text": [
      "Train Epoch: 581/1000. Iter:   18/  18. Data: 0.061s. alpha: 10. Batch: 0.110s. Loss: 0.5565.: 100%|█| 18/18 [00:01<00:00,\n"
     ]
    },
    {
     "name": "stdout",
     "output_type": "stream",
     "text": [
      "Global round: 581 | Average loss: 0.5982401669025421\n",
      "Global Round: 582\n"
     ]
    },
    {
     "name": "stderr",
     "output_type": "stream",
     "text": [
      "Train Epoch: 582/1000. Iter:   18/  18. Data: 0.060s. alpha: 10. Batch: 0.110s. Loss: 0.6015.: 100%|█| 18/18 [00:01<00:00,\n"
     ]
    },
    {
     "name": "stdout",
     "output_type": "stream",
     "text": [
      "Global round: 582 | Average loss: 0.5988551245795356\n",
      "Global Round: 583\n"
     ]
    },
    {
     "name": "stderr",
     "output_type": "stream",
     "text": [
      "Train Epoch: 583/1000. Iter:   18/  18. Data: 0.059s. alpha: 10. Batch: 0.110s. Loss: 0.5955.: 100%|█| 18/18 [00:01<00:00,\n"
     ]
    },
    {
     "name": "stdout",
     "output_type": "stream",
     "text": [
      "Global round: 583 | Average loss: 0.598235074016783\n",
      "Global Round: 584\n"
     ]
    },
    {
     "name": "stderr",
     "output_type": "stream",
     "text": [
      "Train Epoch: 584/1000. Iter:   18/  18. Data: 0.061s. alpha: 10. Batch: 0.112s. Loss: 0.6034.: 100%|█| 18/18 [00:02<00:00,\n"
     ]
    },
    {
     "name": "stdout",
     "output_type": "stream",
     "text": [
      "Global round: 584 | Average loss: 0.6000126567151811\n",
      "Global Round: 585\n"
     ]
    },
    {
     "name": "stderr",
     "output_type": "stream",
     "text": [
      "Train Epoch: 585/1000. Iter:   11/  18. Data: 0.068s. alpha: 10. Batch: 0.122s. Loss: 0.5778.:  61%|▌| 11/18 [00:01<00:00,"
     ]
    },
    {
     "name": "stdout",
     "output_type": "stream",
     "text": [
      "epoch 585 similarity : [0.18469880521297455, 0.18629036843776703, 0.19933739304542542, 0.19792583584785461, 0.19438548386096954]\n"
     ]
    },
    {
     "name": "stderr",
     "output_type": "stream",
     "text": [
      "Train Epoch: 585/1000. Iter:   18/  18. Data: 0.064s. alpha: 10. Batch: 0.120s. Loss: 0.5659.: 100%|█| 18/18 [00:02<00:00,\n"
     ]
    },
    {
     "name": "stdout",
     "output_type": "stream",
     "text": [
      "Global round: 585 | Average loss: 0.5950444936752319\n",
      "Global Round: 586\n"
     ]
    },
    {
     "name": "stderr",
     "output_type": "stream",
     "text": [
      "Train Epoch: 586/1000. Iter:   18/  18. Data: 0.061s. alpha: 10. Batch: 0.112s. Loss: 0.5832.: 100%|█| 18/18 [00:01<00:00,\n"
     ]
    },
    {
     "name": "stdout",
     "output_type": "stream",
     "text": [
      "Global round: 586 | Average loss: 0.5972137550512949\n",
      "Global Round: 587\n"
     ]
    },
    {
     "name": "stderr",
     "output_type": "stream",
     "text": [
      "Train Epoch: 587/1000. Iter:   18/  18. Data: 0.059s. alpha: 10. Batch: 0.110s. Loss: 0.5847.: 100%|█| 18/18 [00:01<00:00,\n"
     ]
    },
    {
     "name": "stdout",
     "output_type": "stream",
     "text": [
      "Global round: 587 | Average loss: 0.5948212775919173\n",
      "Global Round: 588\n"
     ]
    },
    {
     "name": "stderr",
     "output_type": "stream",
     "text": [
      "Train Epoch: 588/1000. Iter:   18/  18. Data: 0.061s. alpha: 10. Batch: 0.110s. Loss: 0.6208.: 100%|█| 18/18 [00:01<00:00,\n"
     ]
    },
    {
     "name": "stdout",
     "output_type": "stream",
     "text": [
      "Global round: 588 | Average loss: 0.6005440718597836\n",
      "Global Round: 589\n"
     ]
    },
    {
     "name": "stderr",
     "output_type": "stream",
     "text": [
      "Train Epoch: 589/1000. Iter:   18/  18. Data: 0.059s. alpha: 10. Batch: 0.108s. Loss: 0.5930.: 100%|█| 18/18 [00:01<00:00,\n"
     ]
    },
    {
     "name": "stdout",
     "output_type": "stream",
     "text": [
      "Global round: 589 | Average loss: 0.5993856655226814\n",
      "Global Round: 590\n"
     ]
    },
    {
     "name": "stderr",
     "output_type": "stream",
     "text": [
      "Train Epoch: 590/1000. Iter:   11/  18. Data: 0.066s. alpha: 10. Batch: 0.117s. Loss: 0.5985.:  61%|▌| 11/18 [00:01<00:00,"
     ]
    },
    {
     "name": "stdout",
     "output_type": "stream",
     "text": [
      "epoch 590 similarity : [0.15866757929325104, 0.15570388734340668, 0.1628272384405136, 0.1676105409860611, 0.1569272130727768]\n"
     ]
    },
    {
     "name": "stderr",
     "output_type": "stream",
     "text": [
      "Train Epoch: 590/1000. Iter:   18/  18. Data: 0.062s. alpha: 10. Batch: 0.112s. Loss: 0.5903.: 100%|█| 18/18 [00:02<00:00,\n"
     ]
    },
    {
     "name": "stdout",
     "output_type": "stream",
     "text": [
      "Global round: 590 | Average loss: 0.5902588268121084\n",
      "Global Round: 591\n"
     ]
    },
    {
     "name": "stderr",
     "output_type": "stream",
     "text": [
      "Train Epoch: 591/1000. Iter:   18/  18. Data: 0.064s. alpha: 10. Batch: 0.113s. Loss: 0.6316.: 100%|█| 18/18 [00:02<00:00,\n"
     ]
    },
    {
     "name": "stdout",
     "output_type": "stream",
     "text": [
      "Global round: 591 | Average loss: 0.5986041261090173\n",
      "Global Round: 592\n"
     ]
    },
    {
     "name": "stderr",
     "output_type": "stream",
     "text": [
      "Train Epoch: 592/1000. Iter:   18/  18. Data: 0.058s. alpha: 10. Batch: 0.109s. Loss: 0.6103.: 100%|█| 18/18 [00:01<00:00,\n"
     ]
    },
    {
     "name": "stdout",
     "output_type": "stream",
     "text": [
      "Global round: 592 | Average loss: 0.5951016611523099\n",
      "Global Round: 593\n"
     ]
    },
    {
     "name": "stderr",
     "output_type": "stream",
     "text": [
      "Train Epoch: 593/1000. Iter:   18/  18. Data: 0.061s. alpha: 10. Batch: 0.110s. Loss: 0.6048.: 100%|█| 18/18 [00:01<00:00,\n"
     ]
    },
    {
     "name": "stdout",
     "output_type": "stream",
     "text": [
      "Global round: 593 | Average loss: 0.5988231930467818\n",
      "Global Round: 594\n"
     ]
    },
    {
     "name": "stderr",
     "output_type": "stream",
     "text": [
      "Train Epoch: 594/1000. Iter:   18/  18. Data: 0.059s. alpha: 10. Batch: 0.110s. Loss: 0.5900.: 100%|█| 18/18 [00:01<00:00,\n"
     ]
    },
    {
     "name": "stdout",
     "output_type": "stream",
     "text": [
      "Global round: 594 | Average loss: 0.5940319067902036\n",
      "Global Round: 595\n"
     ]
    },
    {
     "name": "stderr",
     "output_type": "stream",
     "text": [
      "Train Epoch: 595/1000. Iter:   11/  18. Data: 0.071s. alpha: 10. Batch: 0.122s. Loss: 0.5964.:  61%|▌| 11/18 [00:01<00:00,"
     ]
    },
    {
     "name": "stdout",
     "output_type": "stream",
     "text": [
      "epoch 595 similarity : [0.13039647042751312, 0.14895033836364746, 0.14118865132331848, 0.14960654079914093, 0.13343775272369385]\n"
     ]
    },
    {
     "name": "stderr",
     "output_type": "stream",
     "text": [
      "Train Epoch: 595/1000. Iter:   18/  18. Data: 0.065s. alpha: 10. Batch: 0.116s. Loss: 0.5998.: 100%|█| 18/18 [00:02<00:00,\n"
     ]
    },
    {
     "name": "stdout",
     "output_type": "stream",
     "text": [
      "Global round: 595 | Average loss: 0.596998542547226\n",
      "Global Round: 596\n"
     ]
    },
    {
     "name": "stderr",
     "output_type": "stream",
     "text": [
      "Train Epoch: 596/1000. Iter:   18/  18. Data: 0.059s. alpha: 10. Batch: 0.109s. Loss: 0.6002.: 100%|█| 18/18 [00:01<00:00,\n"
     ]
    },
    {
     "name": "stdout",
     "output_type": "stream",
     "text": [
      "Global round: 596 | Average loss: 0.5939138730367025\n",
      "Global Round: 597\n"
     ]
    },
    {
     "name": "stderr",
     "output_type": "stream",
     "text": [
      "Train Epoch: 597/1000. Iter:   18/  18. Data: 0.063s. alpha: 10. Batch: 0.111s. Loss: 0.5898.: 100%|█| 18/18 [00:01<00:00,\n"
     ]
    },
    {
     "name": "stdout",
     "output_type": "stream",
     "text": [
      "Global round: 597 | Average loss: 0.5943698419464959\n",
      "Global Round: 598\n"
     ]
    },
    {
     "name": "stderr",
     "output_type": "stream",
     "text": [
      "Train Epoch: 598/1000. Iter:   18/  18. Data: 0.059s. alpha: 10. Batch: 0.108s. Loss: 0.5725.: 100%|█| 18/18 [00:01<00:00,\n"
     ]
    },
    {
     "name": "stdout",
     "output_type": "stream",
     "text": [
      "Global round: 598 | Average loss: 0.5900609427028232\n",
      "Global Round: 599\n"
     ]
    },
    {
     "name": "stderr",
     "output_type": "stream",
     "text": [
      "Train Epoch: 599/1000. Iter:   18/  18. Data: 0.057s. alpha: 10. Batch: 0.107s. Loss: 0.5857.: 100%|█| 18/18 [00:01<00:00,\n"
     ]
    },
    {
     "name": "stdout",
     "output_type": "stream",
     "text": [
      "Global round: 599 | Average loss: 0.5953965418868594\n",
      "Global Round: 600\n"
     ]
    },
    {
     "name": "stderr",
     "output_type": "stream",
     "text": [
      "Train Epoch: 600/1000. Iter:   11/  18. Data: 0.069s. alpha: 10. Batch: 0.118s. Loss: 0.5889.:  61%|▌| 11/18 [00:01<00:01,"
     ]
    },
    {
     "name": "stdout",
     "output_type": "stream",
     "text": [
      "epoch 600 similarity : [0.12182305753231049, 0.13653352856636047, 0.1427755206823349, 0.13872338831424713, 0.1279696226119995]\n"
     ]
    },
    {
     "name": "stderr",
     "output_type": "stream",
     "text": [
      "Train Epoch: 600/1000. Iter:   18/  18. Data: 0.064s. alpha: 10. Batch: 0.113s. Loss: 0.5948.: 100%|█| 18/18 [00:02<00:00,\n"
     ]
    },
    {
     "name": "stdout",
     "output_type": "stream",
     "text": [
      "Global round: 600 | Average loss: 0.5953683522012498\n",
      "Global Round: 601\n"
     ]
    },
    {
     "name": "stderr",
     "output_type": "stream",
     "text": [
      "Train Epoch: 601/1000. Iter:   18/  18. Data: 0.058s. alpha: 10. Batch: 0.109s. Loss: 0.5714.: 100%|█| 18/18 [00:01<00:00,\n"
     ]
    },
    {
     "name": "stdout",
     "output_type": "stream",
     "text": [
      "Global round: 601 | Average loss: 0.5934324098957909\n",
      "Global Round: 602\n"
     ]
    },
    {
     "name": "stderr",
     "output_type": "stream",
     "text": [
      "Train Epoch: 602/1000. Iter:   18/  18. Data: 0.058s. alpha: 10. Batch: 0.109s. Loss: 0.5914.: 100%|█| 18/18 [00:01<00:00,\n"
     ]
    },
    {
     "name": "stdout",
     "output_type": "stream",
     "text": [
      "Global round: 602 | Average loss: 0.5920680993133121\n",
      "Global Round: 603\n"
     ]
    },
    {
     "name": "stderr",
     "output_type": "stream",
     "text": [
      "Train Epoch: 603/1000. Iter:   18/  18. Data: 0.061s. alpha: 10. Batch: 0.111s. Loss: 0.5900.: 100%|█| 18/18 [00:02<00:00,\n"
     ]
    },
    {
     "name": "stdout",
     "output_type": "stream",
     "text": [
      "Global round: 603 | Average loss: 0.5932313634289635\n",
      "Global Round: 604\n"
     ]
    },
    {
     "name": "stderr",
     "output_type": "stream",
     "text": [
      "Train Epoch: 604/1000. Iter:   18/  18. Data: 0.061s. alpha: 10. Batch: 0.109s. Loss: 0.5733.: 100%|█| 18/18 [00:01<00:00,\n"
     ]
    },
    {
     "name": "stdout",
     "output_type": "stream",
     "text": [
      "Global round: 604 | Average loss: 0.5930076175265842\n",
      "Global Round: 605\n"
     ]
    },
    {
     "name": "stderr",
     "output_type": "stream",
     "text": [
      "Train Epoch: 605/1000. Iter:   11/  18. Data: 0.070s. alpha: 10. Batch: 0.119s. Loss: 0.5966.:  61%|▌| 11/18 [00:01<00:01,"
     ]
    },
    {
     "name": "stdout",
     "output_type": "stream",
     "text": [
      "epoch 605 similarity : [0.08296894282102585, 0.09148680418729782, 0.11049898713827133, 0.0911668911576271, 0.09203315526247025]\n"
     ]
    },
    {
     "name": "stderr",
     "output_type": "stream",
     "text": [
      "Train Epoch: 605/1000. Iter:   18/  18. Data: 0.065s. alpha: 10. Batch: 0.113s. Loss: 0.5914.: 100%|█| 18/18 [00:02<00:00,\n"
     ]
    },
    {
     "name": "stdout",
     "output_type": "stream",
     "text": [
      "Global round: 605 | Average loss: 0.595400893025928\n",
      "Global Round: 606\n"
     ]
    },
    {
     "name": "stderr",
     "output_type": "stream",
     "text": [
      "Train Epoch: 606/1000. Iter:   18/  18. Data: 0.060s. alpha: 10. Batch: 0.110s. Loss: 0.5995.: 100%|█| 18/18 [00:01<00:00,\n"
     ]
    },
    {
     "name": "stdout",
     "output_type": "stream",
     "text": [
      "Global round: 606 | Average loss: 0.5955295794539981\n",
      "Global Round: 607\n"
     ]
    },
    {
     "name": "stderr",
     "output_type": "stream",
     "text": [
      "Train Epoch: 607/1000. Iter:   18/  18. Data: 0.061s. alpha: 10. Batch: 0.110s. Loss: 0.5902.: 100%|█| 18/18 [00:01<00:00,\n"
     ]
    },
    {
     "name": "stdout",
     "output_type": "stream",
     "text": [
      "Global round: 607 | Average loss: 0.5903347531954447\n",
      "Global Round: 608\n"
     ]
    },
    {
     "name": "stderr",
     "output_type": "stream",
     "text": [
      "Train Epoch: 608/1000. Iter:   18/  18. Data: 0.059s. alpha: 10. Batch: 0.110s. Loss: 0.6334.: 100%|█| 18/18 [00:01<00:00,\n"
     ]
    },
    {
     "name": "stdout",
     "output_type": "stream",
     "text": [
      "Global round: 608 | Average loss: 0.5935598545604281\n",
      "Global Round: 609\n"
     ]
    },
    {
     "name": "stderr",
     "output_type": "stream",
     "text": [
      "Train Epoch: 609/1000. Iter:   18/  18. Data: 0.060s. alpha: 10. Batch: 0.111s. Loss: 0.5995.: 100%|█| 18/18 [00:01<00:00,\n"
     ]
    },
    {
     "name": "stdout",
     "output_type": "stream",
     "text": [
      "Global round: 609 | Average loss: 0.5894001225630442\n",
      "Global Round: 610\n"
     ]
    },
    {
     "name": "stderr",
     "output_type": "stream",
     "text": [
      "Train Epoch: 610/1000. Iter:   11/  18. Data: 0.064s. alpha: 10. Batch: 0.112s. Loss: 0.5908.:  61%|▌| 11/18 [00:01<00:00,"
     ]
    },
    {
     "name": "stdout",
     "output_type": "stream",
     "text": [
      "epoch 610 similarity : [0.188663512468338, 0.19273553788661957, 0.21287408471107483, 0.1909981369972229, 0.1932755410671234]\n"
     ]
    },
    {
     "name": "stderr",
     "output_type": "stream",
     "text": [
      "Train Epoch: 610/1000. Iter:   18/  18. Data: 0.063s. alpha: 10. Batch: 0.112s. Loss: 0.5901.: 100%|█| 18/18 [00:02<00:00,\n"
     ]
    },
    {
     "name": "stdout",
     "output_type": "stream",
     "text": [
      "Global round: 610 | Average loss: 0.5907433099216886\n",
      "Global Round: 611\n"
     ]
    },
    {
     "name": "stderr",
     "output_type": "stream",
     "text": [
      "Train Epoch: 611/1000. Iter:   18/  18. Data: 0.058s. alpha: 10. Batch: 0.109s. Loss: 0.5808.: 100%|█| 18/18 [00:01<00:00,\n"
     ]
    },
    {
     "name": "stdout",
     "output_type": "stream",
     "text": [
      "Global round: 611 | Average loss: 0.5890647570292155\n",
      "Global Round: 612\n"
     ]
    },
    {
     "name": "stderr",
     "output_type": "stream",
     "text": [
      "Train Epoch: 612/1000. Iter:   18/  18. Data: 0.060s. alpha: 10. Batch: 0.108s. Loss: 0.6055.: 100%|█| 18/18 [00:01<00:00,\n"
     ]
    },
    {
     "name": "stdout",
     "output_type": "stream",
     "text": [
      "Global round: 612 | Average loss: 0.5911910997496711\n",
      "Global Round: 613\n"
     ]
    },
    {
     "name": "stderr",
     "output_type": "stream",
     "text": [
      "Train Epoch: 613/1000. Iter:   18/  18. Data: 0.059s. alpha: 10. Batch: 0.109s. Loss: 0.5952.: 100%|█| 18/18 [00:01<00:00,\n"
     ]
    },
    {
     "name": "stdout",
     "output_type": "stream",
     "text": [
      "Global round: 613 | Average loss: 0.586436884270774\n",
      "Global Round: 614\n"
     ]
    },
    {
     "name": "stderr",
     "output_type": "stream",
     "text": [
      "Train Epoch: 614/1000. Iter:   18/  18. Data: 0.061s. alpha: 10. Batch: 0.108s. Loss: 0.6034.: 100%|█| 18/18 [00:01<00:00,\n"
     ]
    },
    {
     "name": "stdout",
     "output_type": "stream",
     "text": [
      "Global round: 614 | Average loss: 0.5908064444859823\n",
      "Global Round: 615\n"
     ]
    },
    {
     "name": "stderr",
     "output_type": "stream",
     "text": [
      "Train Epoch: 615/1000. Iter:   11/  18. Data: 0.069s. alpha: 10. Batch: 0.118s. Loss: 0.6010.:  61%|▌| 11/18 [00:01<00:00,"
     ]
    },
    {
     "name": "stdout",
     "output_type": "stream",
     "text": [
      "epoch 615 similarity : [0.11888466775417328, 0.11791171133518219, 0.1292833536863327, 0.1273285448551178, 0.11682780086994171]\n"
     ]
    },
    {
     "name": "stderr",
     "output_type": "stream",
     "text": [
      "Train Epoch: 615/1000. Iter:   18/  18. Data: 0.067s. alpha: 10. Batch: 0.116s. Loss: 0.5969.: 100%|█| 18/18 [00:02<00:00,\n"
     ]
    },
    {
     "name": "stdout",
     "output_type": "stream",
     "text": [
      "Global round: 615 | Average loss: 0.5894653929604424\n",
      "Global Round: 616\n"
     ]
    },
    {
     "name": "stderr",
     "output_type": "stream",
     "text": [
      "Train Epoch: 616/1000. Iter:   18/  18. Data: 0.060s. alpha: 10. Batch: 0.110s. Loss: 0.5853.: 100%|█| 18/18 [00:01<00:00,\n"
     ]
    },
    {
     "name": "stdout",
     "output_type": "stream",
     "text": [
      "Global round: 616 | Average loss: 0.5908670226732889\n",
      "Global Round: 617\n"
     ]
    },
    {
     "name": "stderr",
     "output_type": "stream",
     "text": [
      "Train Epoch: 617/1000. Iter:   18/  18. Data: 0.060s. alpha: 10. Batch: 0.110s. Loss: 0.5748.: 100%|█| 18/18 [00:01<00:00,\n"
     ]
    },
    {
     "name": "stdout",
     "output_type": "stream",
     "text": [
      "Global round: 617 | Average loss: 0.5887157056066725\n",
      "Global Round: 618\n"
     ]
    },
    {
     "name": "stderr",
     "output_type": "stream",
     "text": [
      "Train Epoch: 618/1000. Iter:   18/  18. Data: 0.059s. alpha: 10. Batch: 0.110s. Loss: 0.6012.: 100%|█| 18/18 [00:01<00:00,\n"
     ]
    },
    {
     "name": "stdout",
     "output_type": "stream",
     "text": [
      "Global round: 618 | Average loss: 0.5905397203233507\n",
      "Global Round: 619\n"
     ]
    },
    {
     "name": "stderr",
     "output_type": "stream",
     "text": [
      "Train Epoch: 619/1000. Iter:   18/  18. Data: 0.060s. alpha: 10. Batch: 0.109s. Loss: 0.5866.: 100%|█| 18/18 [00:01<00:00,\n"
     ]
    },
    {
     "name": "stdout",
     "output_type": "stream",
     "text": [
      "Global round: 619 | Average loss: 0.5853512750731574\n",
      "Global Round: 620\n"
     ]
    },
    {
     "name": "stderr",
     "output_type": "stream",
     "text": [
      "Train Epoch: 620/1000. Iter:   11/  18. Data: 0.066s. alpha: 10. Batch: 0.117s. Loss: 0.5815.:  61%|▌| 11/18 [00:01<00:00,"
     ]
    },
    {
     "name": "stdout",
     "output_type": "stream",
     "text": [
      "epoch 620 similarity : [0.1782141774892807, 0.18237051367759705, 0.1788892149925232, 0.18621453642845154, 0.1803237795829773]\n"
     ]
    },
    {
     "name": "stderr",
     "output_type": "stream",
     "text": [
      "Train Epoch: 620/1000. Iter:   18/  18. Data: 0.063s. alpha: 10. Batch: 0.115s. Loss: 0.5995.: 100%|█| 18/18 [00:02<00:00,\n"
     ]
    },
    {
     "name": "stdout",
     "output_type": "stream",
     "text": [
      "Global round: 620 | Average loss: 0.5861728290716807\n",
      "Global Round: 621\n"
     ]
    },
    {
     "name": "stderr",
     "output_type": "stream",
     "text": [
      "Train Epoch: 621/1000. Iter:   18/  18. Data: 0.060s. alpha: 10. Batch: 0.108s. Loss: 0.6049.: 100%|█| 18/18 [00:01<00:00,\n"
     ]
    },
    {
     "name": "stdout",
     "output_type": "stream",
     "text": [
      "Global round: 621 | Average loss: 0.5879778265953064\n",
      "Global Round: 622\n"
     ]
    },
    {
     "name": "stderr",
     "output_type": "stream",
     "text": [
      "Train Epoch: 622/1000. Iter:   18/  18. Data: 0.058s. alpha: 10. Batch: 0.107s. Loss: 0.6141.: 100%|█| 18/18 [00:01<00:00,\n"
     ]
    },
    {
     "name": "stdout",
     "output_type": "stream",
     "text": [
      "Global round: 622 | Average loss: 0.5910211304823557\n",
      "Global Round: 623\n"
     ]
    },
    {
     "name": "stderr",
     "output_type": "stream",
     "text": [
      "Train Epoch: 623/1000. Iter:   18/  18. Data: 0.061s. alpha: 10. Batch: 0.109s. Loss: 0.5671.: 100%|█| 18/18 [00:01<00:00,\n"
     ]
    },
    {
     "name": "stdout",
     "output_type": "stream",
     "text": [
      "Global round: 623 | Average loss: 0.5836898419592116\n",
      "Global Round: 624\n"
     ]
    },
    {
     "name": "stderr",
     "output_type": "stream",
     "text": [
      "Train Epoch: 624/1000. Iter:   18/  18. Data: 0.059s. alpha: 10. Batch: 0.109s. Loss: 0.5898.: 100%|█| 18/18 [00:01<00:00,\n"
     ]
    },
    {
     "name": "stdout",
     "output_type": "stream",
     "text": [
      "Global round: 624 | Average loss: 0.5853085749679141\n",
      "Global Round: 625\n"
     ]
    },
    {
     "name": "stderr",
     "output_type": "stream",
     "text": [
      "Train Epoch: 625/1000. Iter:   11/  18. Data: 0.065s. alpha: 10. Batch: 0.117s. Loss: 0.5988.:  61%|▌| 11/18 [00:01<00:00,"
     ]
    },
    {
     "name": "stdout",
     "output_type": "stream",
     "text": [
      "epoch 625 similarity : [0.1701539158821106, 0.18477697670459747, 0.18231140077114105, 0.18208076059818268, 0.175152987241745]\n"
     ]
    },
    {
     "name": "stderr",
     "output_type": "stream",
     "text": [
      "Train Epoch: 625/1000. Iter:   18/  18. Data: 0.061s. alpha: 10. Batch: 0.111s. Loss: 0.5808.: 100%|█| 18/18 [00:02<00:00,\n"
     ]
    },
    {
     "name": "stdout",
     "output_type": "stream",
     "text": [
      "Global round: 625 | Average loss: 0.5876773297786713\n",
      "Global Round: 626\n"
     ]
    },
    {
     "name": "stderr",
     "output_type": "stream",
     "text": [
      "Train Epoch: 626/1000. Iter:   18/  18. Data: 0.063s. alpha: 10. Batch: 0.114s. Loss: 0.5868.: 100%|█| 18/18 [00:02<00:00,\n"
     ]
    },
    {
     "name": "stdout",
     "output_type": "stream",
     "text": [
      "Global round: 626 | Average loss: 0.5871230959892273\n",
      "Global Round: 627\n"
     ]
    },
    {
     "name": "stderr",
     "output_type": "stream",
     "text": [
      "Train Epoch: 627/1000. Iter:   18/  18. Data: 0.058s. alpha: 10. Batch: 0.108s. Loss: 0.5960.: 100%|█| 18/18 [00:01<00:00,\n"
     ]
    },
    {
     "name": "stdout",
     "output_type": "stream",
     "text": [
      "Global round: 627 | Average loss: 0.582421236568027\n",
      "Global Round: 628\n"
     ]
    },
    {
     "name": "stderr",
     "output_type": "stream",
     "text": [
      "Train Epoch: 628/1000. Iter:   18/  18. Data: 0.060s. alpha: 10. Batch: 0.109s. Loss: 0.5938.: 100%|█| 18/18 [00:01<00:00,\n"
     ]
    },
    {
     "name": "stdout",
     "output_type": "stream",
     "text": [
      "Global round: 628 | Average loss: 0.5833330220646329\n",
      "Global Round: 629\n"
     ]
    },
    {
     "name": "stderr",
     "output_type": "stream",
     "text": [
      "Train Epoch: 629/1000. Iter:   18/  18. Data: 0.059s. alpha: 10. Batch: 0.111s. Loss: 0.5950.: 100%|█| 18/18 [00:02<00:00,\n"
     ]
    },
    {
     "name": "stdout",
     "output_type": "stream",
     "text": [
      "Global round: 629 | Average loss: 0.5876130296124352\n",
      "Global Round: 630\n"
     ]
    },
    {
     "name": "stderr",
     "output_type": "stream",
     "text": [
      "Train Epoch: 630/1000. Iter:   11/  18. Data: 0.071s. alpha: 10. Batch: 0.122s. Loss: 0.6059.:  61%|▌| 11/18 [00:01<00:00,"
     ]
    },
    {
     "name": "stdout",
     "output_type": "stream",
     "text": [
      "epoch 630 similarity : [0.14765502512454987, 0.1544172316789627, 0.1743931621313095, 0.16103026270866394, 0.16127271950244904]\n"
     ]
    },
    {
     "name": "stderr",
     "output_type": "stream",
     "text": [
      "Train Epoch: 630/1000. Iter:   18/  18. Data: 0.065s. alpha: 10. Batch: 0.116s. Loss: 0.5837.: 100%|█| 18/18 [00:02<00:00,\n"
     ]
    },
    {
     "name": "stdout",
     "output_type": "stream",
     "text": [
      "Global round: 630 | Average loss: 0.5872625046306186\n",
      "Global Round: 631\n"
     ]
    },
    {
     "name": "stderr",
     "output_type": "stream",
     "text": [
      "Train Epoch: 631/1000. Iter:   18/  18. Data: 0.059s. alpha: 10. Batch: 0.111s. Loss: 0.5963.: 100%|█| 18/18 [00:01<00:00,\n"
     ]
    },
    {
     "name": "stdout",
     "output_type": "stream",
     "text": [
      "Global round: 631 | Average loss: 0.5876188410653008\n",
      "Global Round: 632\n"
     ]
    },
    {
     "name": "stderr",
     "output_type": "stream",
     "text": [
      "Train Epoch: 632/1000. Iter:   18/  18. Data: 0.064s. alpha: 10. Batch: 0.112s. Loss: 0.5999.: 100%|█| 18/18 [00:02<00:00,\n"
     ]
    },
    {
     "name": "stdout",
     "output_type": "stream",
     "text": [
      "Global round: 632 | Average loss: 0.5889715419875251\n",
      "Global Round: 633\n"
     ]
    },
    {
     "name": "stderr",
     "output_type": "stream",
     "text": [
      "Train Epoch: 633/1000. Iter:   18/  18. Data: 0.058s. alpha: 10. Batch: 0.107s. Loss: 0.5704.: 100%|█| 18/18 [00:01<00:00,\n"
     ]
    },
    {
     "name": "stdout",
     "output_type": "stream",
     "text": [
      "Global round: 633 | Average loss: 0.5860154198275672\n",
      "Global Round: 634\n"
     ]
    },
    {
     "name": "stderr",
     "output_type": "stream",
     "text": [
      "Train Epoch: 634/1000. Iter:   18/  18. Data: 0.057s. alpha: 10. Batch: 0.107s. Loss: 0.5912.: 100%|█| 18/18 [00:01<00:00,\n"
     ]
    },
    {
     "name": "stdout",
     "output_type": "stream",
     "text": [
      "Global round: 634 | Average loss: 0.5863821605841318\n",
      "Global Round: 635\n"
     ]
    },
    {
     "name": "stderr",
     "output_type": "stream",
     "text": [
      "Train Epoch: 635/1000. Iter:   11/  18. Data: 0.070s. alpha: 10. Batch: 0.118s. Loss: 0.5796.:  61%|▌| 11/18 [00:01<00:01,"
     ]
    },
    {
     "name": "stdout",
     "output_type": "stream",
     "text": [
      "epoch 635 similarity : [0.15736141800880432, 0.16126945614814758, 0.1857423633337021, 0.1740349978208542, 0.16673532128334045]\n"
     ]
    },
    {
     "name": "stderr",
     "output_type": "stream",
     "text": [
      "Train Epoch: 635/1000. Iter:   18/  18. Data: 0.064s. alpha: 10. Batch: 0.113s. Loss: 0.5626.: 100%|█| 18/18 [00:02<00:00,\n"
     ]
    },
    {
     "name": "stdout",
     "output_type": "stream",
     "text": [
      "Global round: 635 | Average loss: 0.584358231888877\n",
      "Global Round: 636\n"
     ]
    },
    {
     "name": "stderr",
     "output_type": "stream",
     "text": [
      "Train Epoch: 636/1000. Iter:   18/  18. Data: 0.059s. alpha: 10. Batch: 0.110s. Loss: 0.5627.: 100%|█| 18/18 [00:01<00:00,\n"
     ]
    },
    {
     "name": "stdout",
     "output_type": "stream",
     "text": [
      "Global round: 636 | Average loss: 0.5859013762738969\n",
      "Global Round: 637\n"
     ]
    },
    {
     "name": "stderr",
     "output_type": "stream",
     "text": [
      "Train Epoch: 637/1000. Iter:   18/  18. Data: 0.058s. alpha: 10. Batch: 0.108s. Loss: 0.6029.: 100%|█| 18/18 [00:01<00:00,\n"
     ]
    },
    {
     "name": "stdout",
     "output_type": "stream",
     "text": [
      "Global round: 637 | Average loss: 0.5886582169267867\n",
      "Global Round: 638\n"
     ]
    },
    {
     "name": "stderr",
     "output_type": "stream",
     "text": [
      "Train Epoch: 638/1000. Iter:   18/  18. Data: 0.062s. alpha: 10. Batch: 0.114s. Loss: 0.5774.: 100%|█| 18/18 [00:02<00:00,\n"
     ]
    },
    {
     "name": "stdout",
     "output_type": "stream",
     "text": [
      "Global round: 638 | Average loss: 0.5843294163544973\n",
      "Global Round: 639\n"
     ]
    },
    {
     "name": "stderr",
     "output_type": "stream",
     "text": [
      "Train Epoch: 639/1000. Iter:   18/  18. Data: 0.061s. alpha: 10. Batch: 0.109s. Loss: 0.5688.: 100%|█| 18/18 [00:01<00:00,\n"
     ]
    },
    {
     "name": "stdout",
     "output_type": "stream",
     "text": [
      "Global round: 639 | Average loss: 0.5818981462054782\n",
      "Global Round: 640\n"
     ]
    },
    {
     "name": "stderr",
     "output_type": "stream",
     "text": [
      "Train Epoch: 640/1000. Iter:   11/  18. Data: 0.070s. alpha: 10. Batch: 0.120s. Loss: 0.5956.:  61%|▌| 11/18 [00:01<00:01,"
     ]
    },
    {
     "name": "stdout",
     "output_type": "stream",
     "text": [
      "epoch 640 similarity : [0.18032027781009674, 0.18451136350631714, 0.19614426791667938, 0.19591417908668518, 0.18470972776412964]\n"
     ]
    },
    {
     "name": "stderr",
     "output_type": "stream",
     "text": [
      "Train Epoch: 640/1000. Iter:   18/  18. Data: 0.065s. alpha: 10. Batch: 0.114s. Loss: 0.5632.: 100%|█| 18/18 [00:02<00:00,\n"
     ]
    },
    {
     "name": "stdout",
     "output_type": "stream",
     "text": [
      "Global round: 640 | Average loss: 0.5836805601914724\n",
      "Global Round: 641\n"
     ]
    },
    {
     "name": "stderr",
     "output_type": "stream",
     "text": [
      "Train Epoch: 641/1000. Iter:   18/  18. Data: 0.059s. alpha: 10. Batch: 0.110s. Loss: 0.5870.: 100%|█| 18/18 [00:01<00:00,\n"
     ]
    },
    {
     "name": "stdout",
     "output_type": "stream",
     "text": [
      "Global round: 641 | Average loss: 0.5803618795341916\n",
      "Global Round: 642\n"
     ]
    },
    {
     "name": "stderr",
     "output_type": "stream",
     "text": [
      "Train Epoch: 642/1000. Iter:   18/  18. Data: 0.061s. alpha: 10. Batch: 0.110s. Loss: 0.5890.: 100%|█| 18/18 [00:01<00:00,\n"
     ]
    },
    {
     "name": "stdout",
     "output_type": "stream",
     "text": [
      "Global round: 642 | Average loss: 0.5865069594648149\n",
      "Global Round: 643\n"
     ]
    },
    {
     "name": "stderr",
     "output_type": "stream",
     "text": [
      "Train Epoch: 643/1000. Iter:   18/  18. Data: 0.059s. alpha: 10. Batch: 0.107s. Loss: 0.5774.: 100%|█| 18/18 [00:01<00:00,\n"
     ]
    },
    {
     "name": "stdout",
     "output_type": "stream",
     "text": [
      "Global round: 643 | Average loss: 0.5853355626265208\n",
      "Global Round: 644\n"
     ]
    },
    {
     "name": "stderr",
     "output_type": "stream",
     "text": [
      "Train Epoch: 644/1000. Iter:   18/  18. Data: 0.061s. alpha: 10. Batch: 0.114s. Loss: 0.5804.: 100%|█| 18/18 [00:02<00:00,\n"
     ]
    },
    {
     "name": "stdout",
     "output_type": "stream",
     "text": [
      "Global round: 644 | Average loss: 0.5801042219003042\n",
      "Global Round: 645\n"
     ]
    },
    {
     "name": "stderr",
     "output_type": "stream",
     "text": [
      "Train Epoch: 645/1000. Iter:   11/  18. Data: 0.066s. alpha: 10. Batch: 0.115s. Loss: 0.5965.:  61%|▌| 11/18 [00:01<00:00,"
     ]
    },
    {
     "name": "stdout",
     "output_type": "stream",
     "text": [
      "epoch 645 similarity : [0.16135573387145996, 0.17542007565498352, 0.17866764962673187, 0.17206208407878876, 0.16757406294345856]\n"
     ]
    },
    {
     "name": "stderr",
     "output_type": "stream",
     "text": [
      "Train Epoch: 645/1000. Iter:   18/  18. Data: 0.064s. alpha: 10. Batch: 0.115s. Loss: 0.5693.: 100%|█| 18/18 [00:02<00:00,\n"
     ]
    },
    {
     "name": "stdout",
     "output_type": "stream",
     "text": [
      "Global round: 645 | Average loss: 0.5840404298570421\n",
      "Global Round: 646\n"
     ]
    },
    {
     "name": "stderr",
     "output_type": "stream",
     "text": [
      "Train Epoch: 646/1000. Iter:   18/  18. Data: 0.058s. alpha: 10. Batch: 0.110s. Loss: 0.5830.: 100%|█| 18/18 [00:01<00:00,\n"
     ]
    },
    {
     "name": "stdout",
     "output_type": "stream",
     "text": [
      "Global round: 646 | Average loss: 0.5830824540721046\n",
      "Global Round: 647\n"
     ]
    },
    {
     "name": "stderr",
     "output_type": "stream",
     "text": [
      "Train Epoch: 647/1000. Iter:   18/  18. Data: 0.060s. alpha: 10. Batch: 0.110s. Loss: 0.5842.: 100%|█| 18/18 [00:01<00:00,\n"
     ]
    },
    {
     "name": "stdout",
     "output_type": "stream",
     "text": [
      "Global round: 647 | Average loss: 0.58224023381869\n",
      "Global Round: 648\n"
     ]
    },
    {
     "name": "stderr",
     "output_type": "stream",
     "text": [
      "Train Epoch: 648/1000. Iter:   18/  18. Data: 0.059s. alpha: 10. Batch: 0.110s. Loss: 0.5857.: 100%|█| 18/18 [00:01<00:00,\n"
     ]
    },
    {
     "name": "stdout",
     "output_type": "stream",
     "text": [
      "Global round: 648 | Average loss: 0.5795208877987332\n",
      "Global Round: 649\n"
     ]
    },
    {
     "name": "stderr",
     "output_type": "stream",
     "text": [
      "Train Epoch: 649/1000. Iter:   18/  18. Data: 0.061s. alpha: 10. Batch: 0.110s. Loss: 0.5957.: 100%|█| 18/18 [00:01<00:00,\n"
     ]
    },
    {
     "name": "stdout",
     "output_type": "stream",
     "text": [
      "Global round: 649 | Average loss: 0.5820591019259559\n",
      "Global Round: 650\n"
     ]
    },
    {
     "name": "stderr",
     "output_type": "stream",
     "text": [
      "Train Epoch: 650/1000. Iter:   11/  18. Data: 0.069s. alpha: 10. Batch: 0.120s. Loss: 0.5841.:  61%|▌| 11/18 [00:01<00:00,"
     ]
    },
    {
     "name": "stdout",
     "output_type": "stream",
     "text": [
      "epoch 650 similarity : [0.20891505479812622, 0.23146852850914001, 0.22479857504367828, 0.22455419600009918, 0.21598997712135315]\n"
     ]
    },
    {
     "name": "stderr",
     "output_type": "stream",
     "text": [
      "Train Epoch: 650/1000. Iter:   18/  18. Data: 0.067s. alpha: 10. Batch: 0.117s. Loss: 0.6102.: 100%|█| 18/18 [00:02<00:00,\n"
     ]
    },
    {
     "name": "stdout",
     "output_type": "stream",
     "text": [
      "Global round: 650 | Average loss: 0.5875074730979072\n",
      "Global Round: 651\n"
     ]
    },
    {
     "name": "stderr",
     "output_type": "stream",
     "text": [
      "Train Epoch: 651/1000. Iter:   18/  18. Data: 0.060s. alpha: 10. Batch: 0.109s. Loss: 0.5859.: 100%|█| 18/18 [00:01<00:00,\n"
     ]
    },
    {
     "name": "stdout",
     "output_type": "stream",
     "text": [
      "Global round: 651 | Average loss: 0.5808674097061157\n",
      "Global Round: 652\n"
     ]
    },
    {
     "name": "stderr",
     "output_type": "stream",
     "text": [
      "Train Epoch: 652/1000. Iter:   18/  18. Data: 0.060s. alpha: 10. Batch: 0.111s. Loss: 0.5775.: 100%|█| 18/18 [00:02<00:00,\n"
     ]
    },
    {
     "name": "stdout",
     "output_type": "stream",
     "text": [
      "Global round: 652 | Average loss: 0.5856201218234168\n",
      "Global Round: 653\n"
     ]
    },
    {
     "name": "stderr",
     "output_type": "stream",
     "text": [
      "Train Epoch: 653/1000. Iter:   18/  18. Data: 0.058s. alpha: 10. Batch: 0.110s. Loss: 0.6026.: 100%|█| 18/18 [00:01<00:00,\n"
     ]
    },
    {
     "name": "stdout",
     "output_type": "stream",
     "text": [
      "Global round: 653 | Average loss: 0.5826856891314188\n",
      "Global Round: 654\n"
     ]
    },
    {
     "name": "stderr",
     "output_type": "stream",
     "text": [
      "Train Epoch: 654/1000. Iter:   18/  18. Data: 0.060s. alpha: 10. Batch: 0.109s. Loss: 0.5892.: 100%|█| 18/18 [00:01<00:00,\n"
     ]
    },
    {
     "name": "stdout",
     "output_type": "stream",
     "text": [
      "Global round: 654 | Average loss: 0.5872360567251841\n",
      "Global Round: 655\n"
     ]
    },
    {
     "name": "stderr",
     "output_type": "stream",
     "text": [
      "Train Epoch: 655/1000. Iter:   11/  18. Data: 0.068s. alpha: 10. Batch: 0.121s. Loss: 0.5998.:  61%|▌| 11/18 [00:01<00:00,"
     ]
    },
    {
     "name": "stdout",
     "output_type": "stream",
     "text": [
      "epoch 655 similarity : [0.12611442804336548, 0.1429557353258133, 0.14893002808094025, 0.1456838697195053, 0.1350446343421936]\n"
     ]
    },
    {
     "name": "stderr",
     "output_type": "stream",
     "text": [
      "Train Epoch: 655/1000. Iter:   18/  18. Data: 0.064s. alpha: 10. Batch: 0.119s. Loss: 0.5659.: 100%|█| 18/18 [00:02<00:00,\n"
     ]
    },
    {
     "name": "stdout",
     "output_type": "stream",
     "text": [
      "Global round: 655 | Average loss: 0.581039180358251\n",
      "Global Round: 656\n"
     ]
    },
    {
     "name": "stderr",
     "output_type": "stream",
     "text": [
      "Train Epoch: 656/1000. Iter:   18/  18. Data: 0.061s. alpha: 10. Batch: 0.112s. Loss: 0.5673.: 100%|█| 18/18 [00:02<00:00,\n"
     ]
    },
    {
     "name": "stdout",
     "output_type": "stream",
     "text": [
      "Global round: 656 | Average loss: 0.5806960264841715\n",
      "Global Round: 657\n"
     ]
    },
    {
     "name": "stderr",
     "output_type": "stream",
     "text": [
      "Train Epoch: 657/1000. Iter:   18/  18. Data: 0.059s. alpha: 10. Batch: 0.111s. Loss: 0.6025.: 100%|█| 18/18 [00:01<00:00,\n"
     ]
    },
    {
     "name": "stdout",
     "output_type": "stream",
     "text": [
      "Global round: 657 | Average loss: 0.5811846454938253\n",
      "Global Round: 658\n"
     ]
    },
    {
     "name": "stderr",
     "output_type": "stream",
     "text": [
      "Train Epoch: 658/1000. Iter:   18/  18. Data: 0.061s. alpha: 10. Batch: 0.109s. Loss: 0.6113.: 100%|█| 18/18 [00:01<00:00,\n"
     ]
    },
    {
     "name": "stdout",
     "output_type": "stream",
     "text": [
      "Global round: 658 | Average loss: 0.5837216907077365\n",
      "Global Round: 659\n"
     ]
    },
    {
     "name": "stderr",
     "output_type": "stream",
     "text": [
      "Train Epoch: 659/1000. Iter:   18/  18. Data: 0.060s. alpha: 10. Batch: 0.109s. Loss: 0.5784.: 100%|█| 18/18 [00:01<00:00,\n"
     ]
    },
    {
     "name": "stdout",
     "output_type": "stream",
     "text": [
      "Global round: 659 | Average loss: 0.5839103791448805\n",
      "Global Round: 660\n"
     ]
    },
    {
     "name": "stderr",
     "output_type": "stream",
     "text": [
      "Train Epoch: 660/1000. Iter:   11/  18. Data: 0.066s. alpha: 10. Batch: 0.119s. Loss: 0.5851.:  61%|▌| 11/18 [00:01<00:00,"
     ]
    },
    {
     "name": "stdout",
     "output_type": "stream",
     "text": [
      "epoch 660 similarity : [0.07265624403953552, 0.0868050828576088, 0.09837962687015533, 0.09033332765102386, 0.0797397643327713]\n"
     ]
    },
    {
     "name": "stderr",
     "output_type": "stream",
     "text": [
      "Train Epoch: 660/1000. Iter:   18/  18. Data: 0.063s. alpha: 10. Batch: 0.114s. Loss: 0.5880.: 100%|█| 18/18 [00:02<00:00,\n"
     ]
    },
    {
     "name": "stdout",
     "output_type": "stream",
     "text": [
      "Global round: 660 | Average loss: 0.5828028619289398\n",
      "Global Round: 661\n"
     ]
    },
    {
     "name": "stderr",
     "output_type": "stream",
     "text": [
      "Train Epoch: 661/1000. Iter:   18/  18. Data: 0.064s. alpha: 10. Batch: 0.114s. Loss: 0.5769.: 100%|█| 18/18 [00:02<00:00,\n"
     ]
    },
    {
     "name": "stdout",
     "output_type": "stream",
     "text": [
      "Global round: 661 | Average loss: 0.5771375099817911\n",
      "Global Round: 662\n"
     ]
    },
    {
     "name": "stderr",
     "output_type": "stream",
     "text": [
      "Train Epoch: 662/1000. Iter:   18/  18. Data: 0.058s. alpha: 10. Batch: 0.110s. Loss: 0.5740.: 100%|█| 18/18 [00:01<00:00,\n"
     ]
    },
    {
     "name": "stdout",
     "output_type": "stream",
     "text": [
      "Global round: 662 | Average loss: 0.5841270552741157\n",
      "Global Round: 663\n"
     ]
    },
    {
     "name": "stderr",
     "output_type": "stream",
     "text": [
      "Train Epoch: 663/1000. Iter:   18/  18. Data: 0.060s. alpha: 10. Batch: 0.110s. Loss: 0.5765.: 100%|█| 18/18 [00:01<00:00,\n"
     ]
    },
    {
     "name": "stdout",
     "output_type": "stream",
     "text": [
      "Global round: 663 | Average loss: 0.5809381405512491\n",
      "Global Round: 664\n"
     ]
    },
    {
     "name": "stderr",
     "output_type": "stream",
     "text": [
      "Train Epoch: 664/1000. Iter:   18/  18. Data: 0.058s. alpha: 10. Batch: 0.108s. Loss: 0.5567.: 100%|█| 18/18 [00:01<00:00,\n"
     ]
    },
    {
     "name": "stdout",
     "output_type": "stream",
     "text": [
      "Global round: 664 | Average loss: 0.5798388322194418\n",
      "Global Round: 665\n"
     ]
    },
    {
     "name": "stderr",
     "output_type": "stream",
     "text": [
      "Train Epoch: 665/1000. Iter:   11/  18. Data: 0.071s. alpha: 10. Batch: 0.121s. Loss: 0.5756.:  61%|▌| 11/18 [00:01<00:00,"
     ]
    },
    {
     "name": "stdout",
     "output_type": "stream",
     "text": [
      "epoch 665 similarity : [0.15908338129520416, 0.16536983847618103, 0.1778290718793869, 0.16496381163597107, 0.16195900738239288]\n"
     ]
    },
    {
     "name": "stderr",
     "output_type": "stream",
     "text": [
      "Train Epoch: 665/1000. Iter:   18/  18. Data: 0.065s. alpha: 10. Batch: 0.115s. Loss: 0.5957.: 100%|█| 18/18 [00:02<00:00,\n"
     ]
    },
    {
     "name": "stdout",
     "output_type": "stream",
     "text": [
      "Global round: 665 | Average loss: 0.5791876282956865\n",
      "Global Round: 666\n"
     ]
    },
    {
     "name": "stderr",
     "output_type": "stream",
     "text": [
      "Train Epoch: 666/1000. Iter:   18/  18. Data: 0.059s. alpha: 10. Batch: 0.108s. Loss: 0.5537.: 100%|█| 18/18 [00:01<00:00,\n"
     ]
    },
    {
     "name": "stdout",
     "output_type": "stream",
     "text": [
      "Global round: 666 | Average loss: 0.5798811117808024\n",
      "Global Round: 667\n"
     ]
    },
    {
     "name": "stderr",
     "output_type": "stream",
     "text": [
      "Train Epoch: 667/1000. Iter:   18/  18. Data: 0.064s. alpha: 10. Batch: 0.111s. Loss: 0.5898.: 100%|█| 18/18 [00:02<00:00,\n"
     ]
    },
    {
     "name": "stdout",
     "output_type": "stream",
     "text": [
      "Global round: 667 | Average loss: 0.5811070965396034\n",
      "Global Round: 668\n"
     ]
    },
    {
     "name": "stderr",
     "output_type": "stream",
     "text": [
      "Train Epoch: 668/1000. Iter:   18/  18. Data: 0.059s. alpha: 10. Batch: 0.108s. Loss: 0.5836.: 100%|█| 18/18 [00:01<00:00,\n"
     ]
    },
    {
     "name": "stdout",
     "output_type": "stream",
     "text": [
      "Global round: 668 | Average loss: 0.5786898765299056\n",
      "Global Round: 669\n"
     ]
    },
    {
     "name": "stderr",
     "output_type": "stream",
     "text": [
      "Train Epoch: 669/1000. Iter:   18/  18. Data: 0.059s. alpha: 10. Batch: 0.110s. Loss: 0.5754.: 100%|█| 18/18 [00:01<00:00,\n"
     ]
    },
    {
     "name": "stdout",
     "output_type": "stream",
     "text": [
      "Global round: 669 | Average loss: 0.5806017816066742\n",
      "Global Round: 670\n"
     ]
    },
    {
     "name": "stderr",
     "output_type": "stream",
     "text": [
      "Train Epoch: 670/1000. Iter:   11/  18. Data: 0.070s. alpha: 10. Batch: 0.120s. Loss: 0.5843.:  61%|▌| 11/18 [00:01<00:01,"
     ]
    },
    {
     "name": "stdout",
     "output_type": "stream",
     "text": [
      "epoch 670 similarity : [0.17344845831394196, 0.17387938499450684, 0.18814042210578918, 0.18056297302246094, 0.1627698689699173]\n"
     ]
    },
    {
     "name": "stderr",
     "output_type": "stream",
     "text": [
      "Train Epoch: 670/1000. Iter:   18/  18. Data: 0.065s. alpha: 10. Batch: 0.114s. Loss: 0.5644.: 100%|█| 18/18 [00:02<00:00,\n"
     ]
    },
    {
     "name": "stdout",
     "output_type": "stream",
     "text": [
      "Global round: 670 | Average loss: 0.5770589709281921\n",
      "Global Round: 671\n"
     ]
    },
    {
     "name": "stderr",
     "output_type": "stream",
     "text": [
      "Train Epoch: 671/1000. Iter:   18/  18. Data: 0.058s. alpha: 10. Batch: 0.110s. Loss: 0.5810.: 100%|█| 18/18 [00:01<00:00,\n"
     ]
    },
    {
     "name": "stdout",
     "output_type": "stream",
     "text": [
      "Global round: 671 | Average loss: 0.5776521133051978\n",
      "Global Round: 672\n"
     ]
    },
    {
     "name": "stderr",
     "output_type": "stream",
     "text": [
      "Train Epoch: 672/1000. Iter:   18/  18. Data: 0.058s. alpha: 10. Batch: 0.110s. Loss: 0.6077.: 100%|█| 18/18 [00:01<00:00,\n"
     ]
    },
    {
     "name": "stdout",
     "output_type": "stream",
     "text": [
      "Global round: 672 | Average loss: 0.5810288588205973\n",
      "Global Round: 673\n"
     ]
    },
    {
     "name": "stderr",
     "output_type": "stream",
     "text": [
      "Train Epoch: 673/1000. Iter:   18/  18. Data: 0.061s. alpha: 10. Batch: 0.113s. Loss: 0.5650.: 100%|█| 18/18 [00:02<00:00,\n"
     ]
    },
    {
     "name": "stdout",
     "output_type": "stream",
     "text": [
      "Global round: 673 | Average loss: 0.579367114437951\n",
      "Global Round: 674\n"
     ]
    },
    {
     "name": "stderr",
     "output_type": "stream",
     "text": [
      "Train Epoch: 674/1000. Iter:   18/  18. Data: 0.061s. alpha: 10. Batch: 0.108s. Loss: 0.5683.: 100%|█| 18/18 [00:01<00:00,\n"
     ]
    },
    {
     "name": "stdout",
     "output_type": "stream",
     "text": [
      "Global round: 674 | Average loss: 0.577022006114324\n",
      "Global Round: 675\n"
     ]
    },
    {
     "name": "stderr",
     "output_type": "stream",
     "text": [
      "Train Epoch: 675/1000. Iter:   11/  18. Data: 0.070s. alpha: 10. Batch: 0.119s. Loss: 0.5786.:  61%|▌| 11/18 [00:01<00:01,"
     ]
    },
    {
     "name": "stdout",
     "output_type": "stream",
     "text": [
      "epoch 675 similarity : [0.1631825715303421, 0.16332170367240906, 0.17859303951263428, 0.16475020349025726, 0.15655632317066193]\n"
     ]
    },
    {
     "name": "stderr",
     "output_type": "stream",
     "text": [
      "Train Epoch: 675/1000. Iter:   18/  18. Data: 0.065s. alpha: 10. Batch: 0.113s. Loss: 0.5655.: 100%|█| 18/18 [00:02<00:00,\n"
     ]
    },
    {
     "name": "stdout",
     "output_type": "stream",
     "text": [
      "Global round: 675 | Average loss: 0.5836239755153656\n",
      "Global Round: 676\n"
     ]
    },
    {
     "name": "stderr",
     "output_type": "stream",
     "text": [
      "Train Epoch: 676/1000. Iter:   18/  18. Data: 0.060s. alpha: 10. Batch: 0.110s. Loss: 0.5974.: 100%|█| 18/18 [00:01<00:00,\n"
     ]
    },
    {
     "name": "stdout",
     "output_type": "stream",
     "text": [
      "Global round: 676 | Average loss: 0.5825577775637308\n",
      "Global Round: 677\n"
     ]
    },
    {
     "name": "stderr",
     "output_type": "stream",
     "text": [
      "Train Epoch: 677/1000. Iter:   18/  18. Data: 0.061s. alpha: 10. Batch: 0.109s. Loss: 0.5816.: 100%|█| 18/18 [00:01<00:00,\n"
     ]
    },
    {
     "name": "stdout",
     "output_type": "stream",
     "text": [
      "Global round: 677 | Average loss: 0.5835872226291232\n",
      "Global Round: 678\n"
     ]
    },
    {
     "name": "stderr",
     "output_type": "stream",
     "text": [
      "Train Epoch: 678/1000. Iter:   18/  18. Data: 0.060s. alpha: 10. Batch: 0.109s. Loss: 0.5619.: 100%|█| 18/18 [00:01<00:00,\n"
     ]
    },
    {
     "name": "stdout",
     "output_type": "stream",
     "text": [
      "Global round: 678 | Average loss: 0.577590200636122\n",
      "Global Round: 679\n"
     ]
    },
    {
     "name": "stderr",
     "output_type": "stream",
     "text": [
      "Train Epoch: 679/1000. Iter:   18/  18. Data: 0.061s. alpha: 10. Batch: 0.113s. Loss: 0.6020.: 100%|█| 18/18 [00:02<00:00,\n"
     ]
    },
    {
     "name": "stdout",
     "output_type": "stream",
     "text": [
      "Global round: 679 | Average loss: 0.5836462941434648\n",
      "Global Round: 680\n"
     ]
    },
    {
     "name": "stderr",
     "output_type": "stream",
     "text": [
      "Train Epoch: 680/1000. Iter:   11/  18. Data: 0.066s. alpha: 10. Batch: 0.113s. Loss: 0.5948.:  61%|▌| 11/18 [00:01<00:00,"
     ]
    },
    {
     "name": "stdout",
     "output_type": "stream",
     "text": [
      "epoch 680 similarity : [0.15435318648815155, 0.16052435338497162, 0.17486357688903809, 0.1585802435874939, 0.15305665135383606]\n"
     ]
    },
    {
     "name": "stderr",
     "output_type": "stream",
     "text": [
      "Train Epoch: 680/1000. Iter:   18/  18. Data: 0.064s. alpha: 10. Batch: 0.114s. Loss: 0.5854.: 100%|█| 18/18 [00:02<00:00,\n"
     ]
    },
    {
     "name": "stdout",
     "output_type": "stream",
     "text": [
      "Global round: 680 | Average loss: 0.5816315412521362\n",
      "Global Round: 681\n"
     ]
    },
    {
     "name": "stderr",
     "output_type": "stream",
     "text": [
      "Train Epoch: 681/1000. Iter:   18/  18. Data: 0.059s. alpha: 10. Batch: 0.110s. Loss: 0.5866.: 100%|█| 18/18 [00:01<00:00,\n"
     ]
    },
    {
     "name": "stdout",
     "output_type": "stream",
     "text": [
      "Global round: 681 | Average loss: 0.5777900781896379\n",
      "Global Round: 682\n"
     ]
    },
    {
     "name": "stderr",
     "output_type": "stream",
     "text": [
      "Train Epoch: 682/1000. Iter:   18/  18. Data: 0.061s. alpha: 10. Batch: 0.111s. Loss: 0.6019.: 100%|█| 18/18 [00:01<00:00,\n"
     ]
    },
    {
     "name": "stdout",
     "output_type": "stream",
     "text": [
      "Global round: 682 | Average loss: 0.5767984622054629\n",
      "Global Round: 683\n"
     ]
    },
    {
     "name": "stderr",
     "output_type": "stream",
     "text": [
      "Train Epoch: 683/1000. Iter:   18/  18. Data: 0.059s. alpha: 10. Batch: 0.110s. Loss: 0.5728.: 100%|█| 18/18 [00:01<00:00,\n"
     ]
    },
    {
     "name": "stdout",
     "output_type": "stream",
     "text": [
      "Global round: 683 | Average loss: 0.5727514227231344\n",
      "Global Round: 684\n"
     ]
    },
    {
     "name": "stderr",
     "output_type": "stream",
     "text": [
      "Train Epoch: 684/1000. Iter:   18/  18. Data: 0.062s. alpha: 10. Batch: 0.110s. Loss: 0.5743.: 100%|█| 18/18 [00:01<00:00,\n"
     ]
    },
    {
     "name": "stdout",
     "output_type": "stream",
     "text": [
      "Global round: 684 | Average loss: 0.5780795978175269\n",
      "Global Round: 685\n"
     ]
    },
    {
     "name": "stderr",
     "output_type": "stream",
     "text": [
      "Train Epoch: 685/1000. Iter:   11/  18. Data: 0.070s. alpha: 10. Batch: 0.120s. Loss: 0.5837.:  61%|▌| 11/18 [00:01<00:00,"
     ]
    },
    {
     "name": "stdout",
     "output_type": "stream",
     "text": [
      "epoch 685 similarity : [0.18188239634037018, 0.18559503555297852, 0.19780805706977844, 0.19850598275661469, 0.17794516682624817]\n"
     ]
    },
    {
     "name": "stderr",
     "output_type": "stream",
     "text": [
      "Train Epoch: 685/1000. Iter:   18/  18. Data: 0.067s. alpha: 10. Batch: 0.118s. Loss: 0.5873.: 100%|█| 18/18 [00:02<00:00,\n"
     ]
    },
    {
     "name": "stdout",
     "output_type": "stream",
     "text": [
      "Global round: 685 | Average loss: 0.5758621195952097\n",
      "Global Round: 686\n"
     ]
    },
    {
     "name": "stderr",
     "output_type": "stream",
     "text": [
      "Train Epoch: 686/1000. Iter:   18/  18. Data: 0.060s. alpha: 10. Batch: 0.109s. Loss: 0.5870.: 100%|█| 18/18 [00:01<00:00,\n"
     ]
    },
    {
     "name": "stdout",
     "output_type": "stream",
     "text": [
      "Global round: 686 | Average loss: 0.5765689048502181\n",
      "Global Round: 687\n"
     ]
    },
    {
     "name": "stderr",
     "output_type": "stream",
     "text": [
      "Train Epoch: 687/1000. Iter:   18/  18. Data: 0.060s. alpha: 10. Batch: 0.109s. Loss: 0.5916.: 100%|█| 18/18 [00:01<00:00,\n"
     ]
    },
    {
     "name": "stdout",
     "output_type": "stream",
     "text": [
      "Global round: 687 | Average loss: 0.5760828024811215\n",
      "Global Round: 688\n"
     ]
    },
    {
     "name": "stderr",
     "output_type": "stream",
     "text": [
      "Train Epoch: 688/1000. Iter:   18/  18. Data: 0.058s. alpha: 10. Batch: 0.109s. Loss: 0.5550.: 100%|█| 18/18 [00:01<00:00,\n"
     ]
    },
    {
     "name": "stdout",
     "output_type": "stream",
     "text": [
      "Global round: 688 | Average loss: 0.5753756662209829\n",
      "Global Round: 689\n"
     ]
    },
    {
     "name": "stderr",
     "output_type": "stream",
     "text": [
      "Train Epoch: 689/1000. Iter:   18/  18. Data: 0.060s. alpha: 10. Batch: 0.109s. Loss: 0.5998.: 100%|█| 18/18 [00:01<00:00,\n"
     ]
    },
    {
     "name": "stdout",
     "output_type": "stream",
     "text": [
      "Global round: 689 | Average loss: 0.5750120116604699\n",
      "Global Round: 690\n"
     ]
    },
    {
     "name": "stderr",
     "output_type": "stream",
     "text": [
      "Train Epoch: 690/1000. Iter:   11/  18. Data: 0.068s. alpha: 10. Batch: 0.119s. Loss: 0.5650.:  61%|▌| 11/18 [00:01<00:00,"
     ]
    },
    {
     "name": "stdout",
     "output_type": "stream",
     "text": [
      "epoch 690 similarity : [0.13437417149543762, 0.15725456178188324, 0.16595008969306946, 0.15886172652244568, 0.14016032218933105]\n"
     ]
    },
    {
     "name": "stderr",
     "output_type": "stream",
     "text": [
      "Train Epoch: 690/1000. Iter:   18/  18. Data: 0.064s. alpha: 10. Batch: 0.117s. Loss: 0.5710.: 100%|█| 18/18 [00:02<00:00,\n"
     ]
    },
    {
     "name": "stdout",
     "output_type": "stream",
     "text": [
      "Global round: 690 | Average loss: 0.5736689567565918\n",
      "Global Round: 691\n"
     ]
    },
    {
     "name": "stderr",
     "output_type": "stream",
     "text": [
      "Train Epoch: 691/1000. Iter:   18/  18. Data: 0.061s. alpha: 10. Batch: 0.109s. Loss: 0.5898.: 100%|█| 18/18 [00:01<00:00,\n"
     ]
    },
    {
     "name": "stdout",
     "output_type": "stream",
     "text": [
      "Global round: 691 | Average loss: 0.5771446559164259\n",
      "Global Round: 692\n"
     ]
    },
    {
     "name": "stderr",
     "output_type": "stream",
     "text": [
      "Train Epoch: 692/1000. Iter:   18/  18. Data: 0.059s. alpha: 10. Batch: 0.110s. Loss: 0.5543.: 100%|█| 18/18 [00:01<00:00,\n"
     ]
    },
    {
     "name": "stdout",
     "output_type": "stream",
     "text": [
      "Global round: 692 | Average loss: 0.5705093012915717\n",
      "Global Round: 693\n"
     ]
    },
    {
     "name": "stderr",
     "output_type": "stream",
     "text": [
      "Train Epoch: 693/1000. Iter:   18/  18. Data: 0.062s. alpha: 10. Batch: 0.111s. Loss: 0.5698.: 100%|█| 18/18 [00:02<00:00,\n"
     ]
    },
    {
     "name": "stdout",
     "output_type": "stream",
     "text": [
      "Global round: 693 | Average loss: 0.5705045958360037\n",
      "Global Round: 694\n"
     ]
    },
    {
     "name": "stderr",
     "output_type": "stream",
     "text": [
      "Train Epoch: 694/1000. Iter:   18/  18. Data: 0.060s. alpha: 10. Batch: 0.113s. Loss: 0.5587.: 100%|█| 18/18 [00:02<00:00,\n"
     ]
    },
    {
     "name": "stdout",
     "output_type": "stream",
     "text": [
      "Global round: 694 | Average loss: 0.5750981370608012\n",
      "Global Round: 695\n"
     ]
    },
    {
     "name": "stderr",
     "output_type": "stream",
     "text": [
      "Train Epoch: 695/1000. Iter:   11/  18. Data: 0.067s. alpha: 10. Batch: 0.123s. Loss: 0.5825.:  61%|▌| 11/18 [00:01<00:00,"
     ]
    },
    {
     "name": "stdout",
     "output_type": "stream",
     "text": [
      "epoch 695 similarity : [0.16052383184432983, 0.17406170070171356, 0.17660729587078094, 0.1730537712574005, 0.16112640500068665]\n"
     ]
    },
    {
     "name": "stderr",
     "output_type": "stream",
     "text": [
      "Train Epoch: 695/1000. Iter:   18/  18. Data: 0.063s. alpha: 10. Batch: 0.117s. Loss: 0.5962.: 100%|█| 18/18 [00:02<00:00,\n"
     ]
    },
    {
     "name": "stdout",
     "output_type": "stream",
     "text": [
      "Global round: 695 | Average loss: 0.5696999596224891\n",
      "Global Round: 696\n"
     ]
    },
    {
     "name": "stderr",
     "output_type": "stream",
     "text": [
      "Train Epoch: 696/1000. Iter:   18/  18. Data: 0.063s. alpha: 10. Batch: 0.112s. Loss: 0.5445.: 100%|█| 18/18 [00:02<00:00,\n"
     ]
    },
    {
     "name": "stdout",
     "output_type": "stream",
     "text": [
      "Global round: 696 | Average loss: 0.5737145245075226\n",
      "Global Round: 697\n"
     ]
    },
    {
     "name": "stderr",
     "output_type": "stream",
     "text": [
      "Train Epoch: 697/1000. Iter:   18/  18. Data: 0.058s. alpha: 10. Batch: 0.109s. Loss: 0.5660.: 100%|█| 18/18 [00:01<00:00,\n"
     ]
    },
    {
     "name": "stdout",
     "output_type": "stream",
     "text": [
      "Global round: 697 | Average loss: 0.573911170164744\n",
      "Global Round: 698\n"
     ]
    },
    {
     "name": "stderr",
     "output_type": "stream",
     "text": [
      "Train Epoch: 698/1000. Iter:   18/  18. Data: 0.060s. alpha: 10. Batch: 0.109s. Loss: 0.5416.: 100%|█| 18/18 [00:01<00:00,\n"
     ]
    },
    {
     "name": "stdout",
     "output_type": "stream",
     "text": [
      "Global round: 698 | Average loss: 0.5676005946265327\n",
      "Global Round: 699\n"
     ]
    },
    {
     "name": "stderr",
     "output_type": "stream",
     "text": [
      "Train Epoch: 699/1000. Iter:   18/  18. Data: 0.059s. alpha: 10. Batch: 0.109s. Loss: 0.5858.: 100%|█| 18/18 [00:01<00:00,\n"
     ]
    },
    {
     "name": "stdout",
     "output_type": "stream",
     "text": [
      "Global round: 699 | Average loss: 0.5691630707846748\n",
      "Global Round: 700\n"
     ]
    },
    {
     "name": "stderr",
     "output_type": "stream",
     "text": [
      "Train Epoch: 700/1000. Iter:   11/  18. Data: 0.072s. alpha: 10. Batch: 0.121s. Loss: 0.5831.:  61%|▌| 11/18 [00:01<00:00,"
     ]
    },
    {
     "name": "stdout",
     "output_type": "stream",
     "text": [
      "epoch 700 similarity : [0.15549670159816742, 0.15912635624408722, 0.16623573005199432, 0.16116231679916382, 0.15399639308452606]\n"
     ]
    },
    {
     "name": "stderr",
     "output_type": "stream",
     "text": [
      "Train Epoch: 700/1000. Iter:   18/  18. Data: 0.066s. alpha: 10. Batch: 0.114s. Loss: 0.5610.: 100%|█| 18/18 [00:02<00:00,\n"
     ]
    },
    {
     "name": "stdout",
     "output_type": "stream",
     "text": [
      "Global round: 700 | Average loss: 0.5720371471510993\n",
      "Global Round: 701\n"
     ]
    },
    {
     "name": "stderr",
     "output_type": "stream",
     "text": [
      "Train Epoch: 701/1000. Iter:   18/  18. Data: 0.060s. alpha: 10. Batch: 0.110s. Loss: 0.5408.: 100%|█| 18/18 [00:01<00:00,\n"
     ]
    },
    {
     "name": "stdout",
     "output_type": "stream",
     "text": [
      "Global round: 701 | Average loss: 0.5738260083728366\n",
      "Global Round: 702\n"
     ]
    },
    {
     "name": "stderr",
     "output_type": "stream",
     "text": [
      "Train Epoch: 702/1000. Iter:   18/  18. Data: 0.064s. alpha: 10. Batch: 0.111s. Loss: 0.5696.: 100%|█| 18/18 [00:02<00:00,\n"
     ]
    },
    {
     "name": "stdout",
     "output_type": "stream",
     "text": [
      "Global round: 702 | Average loss: 0.5716822577847375\n",
      "Global Round: 703\n"
     ]
    },
    {
     "name": "stderr",
     "output_type": "stream",
     "text": [
      "Train Epoch: 703/1000. Iter:   18/  18. Data: 0.059s. alpha: 10. Batch: 0.108s. Loss: 0.5803.: 100%|█| 18/18 [00:01<00:00,\n"
     ]
    },
    {
     "name": "stdout",
     "output_type": "stream",
     "text": [
      "Global round: 703 | Average loss: 0.5689969691965315\n",
      "Global Round: 704\n"
     ]
    },
    {
     "name": "stderr",
     "output_type": "stream",
     "text": [
      "Train Epoch: 704/1000. Iter:   18/  18. Data: 0.058s. alpha: 10. Batch: 0.108s. Loss: 0.5652.: 100%|█| 18/18 [00:01<00:00,\n"
     ]
    },
    {
     "name": "stdout",
     "output_type": "stream",
     "text": [
      "Global round: 704 | Average loss: 0.569809486468633\n",
      "Global Round: 705\n"
     ]
    },
    {
     "name": "stderr",
     "output_type": "stream",
     "text": [
      "Train Epoch: 705/1000. Iter:   11/  18. Data: 0.070s. alpha: 10. Batch: 0.119s. Loss: 0.5820.:  61%|▌| 11/18 [00:01<00:01,"
     ]
    },
    {
     "name": "stdout",
     "output_type": "stream",
     "text": [
      "epoch 705 similarity : [0.1830412596464157, 0.18661747872829437, 0.17670096457004547, 0.17158977687358856, 0.1772720366716385]\n"
     ]
    },
    {
     "name": "stderr",
     "output_type": "stream",
     "text": [
      "Train Epoch: 705/1000. Iter:   18/  18. Data: 0.064s. alpha: 10. Batch: 0.113s. Loss: 0.5566.: 100%|█| 18/18 [00:02<00:00,\n"
     ]
    },
    {
     "name": "stdout",
     "output_type": "stream",
     "text": [
      "Global round: 705 | Average loss: 0.5710668133364784\n",
      "Global Round: 706\n"
     ]
    },
    {
     "name": "stderr",
     "output_type": "stream",
     "text": [
      "Train Epoch: 706/1000. Iter:   18/  18. Data: 0.059s. alpha: 10. Batch: 0.111s. Loss: 0.5513.: 100%|█| 18/18 [00:01<00:00,\n"
     ]
    },
    {
     "name": "stdout",
     "output_type": "stream",
     "text": [
      "Global round: 706 | Average loss: 0.5652970108720992\n",
      "Global Round: 707\n"
     ]
    },
    {
     "name": "stderr",
     "output_type": "stream",
     "text": [
      "Train Epoch: 707/1000. Iter:   18/  18. Data: 0.058s. alpha: 10. Batch: 0.111s. Loss: 0.5886.: 100%|█| 18/18 [00:01<00:00,\n"
     ]
    },
    {
     "name": "stdout",
     "output_type": "stream",
     "text": [
      "Global round: 707 | Average loss: 0.5722486509217156\n",
      "Global Round: 708\n"
     ]
    },
    {
     "name": "stderr",
     "output_type": "stream",
     "text": [
      "Train Epoch: 708/1000. Iter:   18/  18. Data: 0.061s. alpha: 10. Batch: 0.112s. Loss: 0.5673.: 100%|█| 18/18 [00:02<00:00,\n"
     ]
    },
    {
     "name": "stdout",
     "output_type": "stream",
     "text": [
      "Global round: 708 | Average loss: 0.5738208625051711\n",
      "Global Round: 709\n"
     ]
    },
    {
     "name": "stderr",
     "output_type": "stream",
     "text": [
      "Train Epoch: 709/1000. Iter:   18/  18. Data: 0.061s. alpha: 10. Batch: 0.111s. Loss: 0.5714.: 100%|█| 18/18 [00:02<00:00,\n"
     ]
    },
    {
     "name": "stdout",
     "output_type": "stream",
     "text": [
      "Global round: 709 | Average loss: 0.573411699798372\n",
      "Global Round: 710\n"
     ]
    },
    {
     "name": "stderr",
     "output_type": "stream",
     "text": [
      "Train Epoch: 710/1000. Iter:   11/  18. Data: 0.070s. alpha: 10. Batch: 0.120s. Loss: 0.5716.:  61%|▌| 11/18 [00:01<00:01,"
     ]
    },
    {
     "name": "stdout",
     "output_type": "stream",
     "text": [
      "epoch 710 similarity : [0.14915595948696136, 0.15981870889663696, 0.1630590260028839, 0.1580650955438614, 0.17342917621135712]\n"
     ]
    },
    {
     "name": "stderr",
     "output_type": "stream",
     "text": [
      "Train Epoch: 710/1000. Iter:   18/  18. Data: 0.065s. alpha: 10. Batch: 0.114s. Loss: 0.5810.: 100%|█| 18/18 [00:02<00:00,\n"
     ]
    },
    {
     "name": "stdout",
     "output_type": "stream",
     "text": [
      "Global round: 710 | Average loss: 0.5726636085245345\n",
      "Global Round: 711\n"
     ]
    },
    {
     "name": "stderr",
     "output_type": "stream",
     "text": [
      "Train Epoch: 711/1000. Iter:   18/  18. Data: 0.059s. alpha: 10. Batch: 0.108s. Loss: 0.5809.: 100%|█| 18/18 [00:01<00:00,\n"
     ]
    },
    {
     "name": "stdout",
     "output_type": "stream",
     "text": [
      "Global round: 711 | Average loss: 0.5751509401533339\n",
      "Global Round: 712\n"
     ]
    },
    {
     "name": "stderr",
     "output_type": "stream",
     "text": [
      "Train Epoch: 712/1000. Iter:   18/  18. Data: 0.061s. alpha: 10. Batch: 0.110s. Loss: 0.5728.: 100%|█| 18/18 [00:01<00:00,\n"
     ]
    },
    {
     "name": "stdout",
     "output_type": "stream",
     "text": [
      "Global round: 712 | Average loss: 0.5745321479108598\n",
      "Global Round: 713\n"
     ]
    },
    {
     "name": "stderr",
     "output_type": "stream",
     "text": [
      "Train Epoch: 713/1000. Iter:   18/  18. Data: 0.059s. alpha: 10. Batch: 0.109s. Loss: 0.5786.: 100%|█| 18/18 [00:01<00:00,\n"
     ]
    },
    {
     "name": "stdout",
     "output_type": "stream",
     "text": [
      "Global round: 713 | Average loss: 0.5735475454065535\n",
      "Global Round: 714\n"
     ]
    },
    {
     "name": "stderr",
     "output_type": "stream",
     "text": [
      "Train Epoch: 714/1000. Iter:   18/  18. Data: 0.060s. alpha: 10. Batch: 0.111s. Loss: 0.5634.: 100%|█| 18/18 [00:02<00:00,\n"
     ]
    },
    {
     "name": "stdout",
     "output_type": "stream",
     "text": [
      "Global round: 714 | Average loss: 0.5687770843505859\n",
      "Global Round: 715\n"
     ]
    },
    {
     "name": "stderr",
     "output_type": "stream",
     "text": [
      "Train Epoch: 715/1000. Iter:   11/  18. Data: 0.066s. alpha: 10. Batch: 0.115s. Loss: 0.5545.:  61%|▌| 11/18 [00:01<00:00,"
     ]
    },
    {
     "name": "stdout",
     "output_type": "stream",
     "text": [
      "epoch 715 similarity : [0.1262023001909256, 0.12748339772224426, 0.14376972615718842, 0.13703010976314545, 0.13786664605140686]\n"
     ]
    },
    {
     "name": "stderr",
     "output_type": "stream",
     "text": [
      "Train Epoch: 715/1000. Iter:   18/  18. Data: 0.065s. alpha: 10. Batch: 0.115s. Loss: 0.5654.: 100%|█| 18/18 [00:02<00:00,\n"
     ]
    },
    {
     "name": "stdout",
     "output_type": "stream",
     "text": [
      "Global round: 715 | Average loss: 0.5675642424159579\n",
      "Global Round: 716\n"
     ]
    },
    {
     "name": "stderr",
     "output_type": "stream",
     "text": [
      "Train Epoch: 716/1000. Iter:   18/  18. Data: 0.059s. alpha: 10. Batch: 0.111s. Loss: 0.5372.: 100%|█| 18/18 [00:01<00:00,\n"
     ]
    },
    {
     "name": "stdout",
     "output_type": "stream",
     "text": [
      "Global round: 716 | Average loss: 0.5682317680782742\n",
      "Global Round: 717\n"
     ]
    },
    {
     "name": "stderr",
     "output_type": "stream",
     "text": [
      "Train Epoch: 717/1000. Iter:   18/  18. Data: 0.060s. alpha: 10. Batch: 0.110s. Loss: 0.5921.: 100%|█| 18/18 [00:01<00:00,\n"
     ]
    },
    {
     "name": "stdout",
     "output_type": "stream",
     "text": [
      "Global round: 717 | Average loss: 0.5732413199212816\n",
      "Global Round: 718\n"
     ]
    },
    {
     "name": "stderr",
     "output_type": "stream",
     "text": [
      "Train Epoch: 718/1000. Iter:   18/  18. Data: 0.059s. alpha: 10. Batch: 0.110s. Loss: 0.5868.: 100%|█| 18/18 [00:01<00:00,\n"
     ]
    },
    {
     "name": "stdout",
     "output_type": "stream",
     "text": [
      "Global round: 718 | Average loss: 0.5689374572700925\n",
      "Global Round: 719\n"
     ]
    },
    {
     "name": "stderr",
     "output_type": "stream",
     "text": [
      "Train Epoch: 719/1000. Iter:   18/  18. Data: 0.061s. alpha: 10. Batch: 0.109s. Loss: 0.5841.: 100%|█| 18/18 [00:01<00:00,\n"
     ]
    },
    {
     "name": "stdout",
     "output_type": "stream",
     "text": [
      "Global round: 719 | Average loss: 0.5685244864887662\n",
      "Global Round: 720\n"
     ]
    },
    {
     "name": "stderr",
     "output_type": "stream",
     "text": [
      "Train Epoch: 720/1000. Iter:   11/  18. Data: 0.068s. alpha: 10. Batch: 0.118s. Loss: 0.5586.:  61%|▌| 11/18 [00:01<00:00,"
     ]
    },
    {
     "name": "stdout",
     "output_type": "stream",
     "text": [
      "epoch 720 similarity : [0.2080395668745041, 0.20365941524505615, 0.21466700732707977, 0.21711671352386475, 0.2028924822807312]\n"
     ]
    },
    {
     "name": "stderr",
     "output_type": "stream",
     "text": [
      "Train Epoch: 720/1000. Iter:   18/  18. Data: 0.067s. alpha: 10. Batch: 0.117s. Loss: 0.5934.: 100%|█| 18/18 [00:02<00:00,\n"
     ]
    },
    {
     "name": "stdout",
     "output_type": "stream",
     "text": [
      "Global round: 720 | Average loss: 0.5669320821762085\n",
      "Global Round: 721\n"
     ]
    },
    {
     "name": "stderr",
     "output_type": "stream",
     "text": [
      "Train Epoch: 721/1000. Iter:   18/  18. Data: 0.059s. alpha: 10. Batch: 0.108s. Loss: 0.5435.: 100%|█| 18/18 [00:01<00:00,\n"
     ]
    },
    {
     "name": "stdout",
     "output_type": "stream",
     "text": [
      "Global round: 721 | Average loss: 0.563719587193595\n",
      "Global Round: 722\n"
     ]
    },
    {
     "name": "stderr",
     "output_type": "stream",
     "text": [
      "Train Epoch: 722/1000. Iter:   18/  18. Data: 0.060s. alpha: 10. Batch: 0.110s. Loss: 0.5515.: 100%|█| 18/18 [00:01<00:00,\n"
     ]
    },
    {
     "name": "stdout",
     "output_type": "stream",
     "text": [
      "Global round: 722 | Average loss: 0.5688315000798967\n",
      "Global Round: 723\n"
     ]
    },
    {
     "name": "stderr",
     "output_type": "stream",
     "text": [
      "Train Epoch: 723/1000. Iter:   18/  18. Data: 0.058s. alpha: 10. Batch: 0.108s. Loss: 0.5638.: 100%|█| 18/18 [00:01<00:00,\n"
     ]
    },
    {
     "name": "stdout",
     "output_type": "stream",
     "text": [
      "Global round: 723 | Average loss: 0.5634370446205139\n",
      "Global Round: 724\n"
     ]
    },
    {
     "name": "stderr",
     "output_type": "stream",
     "text": [
      "Train Epoch: 724/1000. Iter:   18/  18. Data: 0.060s. alpha: 10. Batch: 0.108s. Loss: 0.5731.: 100%|█| 18/18 [00:01<00:00,\n"
     ]
    },
    {
     "name": "stdout",
     "output_type": "stream",
     "text": [
      "Global round: 724 | Average loss: 0.5669036077128516\n",
      "Global Round: 725\n"
     ]
    },
    {
     "name": "stderr",
     "output_type": "stream",
     "text": [
      "Train Epoch: 725/1000. Iter:   11/  18. Data: 0.068s. alpha: 10. Batch: 0.118s. Loss: 0.5762.:  61%|▌| 11/18 [00:01<00:00,"
     ]
    },
    {
     "name": "stdout",
     "output_type": "stream",
     "text": [
      "epoch 725 similarity : [0.17611947655677795, 0.18129169940948486, 0.1900104135274887, 0.1927640587091446, 0.1802738755941391]\n"
     ]
    },
    {
     "name": "stderr",
     "output_type": "stream",
     "text": [
      "Train Epoch: 725/1000. Iter:   18/  18. Data: 0.064s. alpha: 10. Batch: 0.117s. Loss: 0.5553.: 100%|█| 18/18 [00:02<00:00,\n"
     ]
    },
    {
     "name": "stdout",
     "output_type": "stream",
     "text": [
      "Global round: 725 | Average loss: 0.5654834310213724\n",
      "Global Round: 726\n"
     ]
    },
    {
     "name": "stderr",
     "output_type": "stream",
     "text": [
      "Train Epoch: 726/1000. Iter:   18/  18. Data: 0.061s. alpha: 10. Batch: 0.109s. Loss: 0.5715.: 100%|█| 18/18 [00:01<00:00,\n"
     ]
    },
    {
     "name": "stdout",
     "output_type": "stream",
     "text": [
      "Global round: 726 | Average loss: 0.5661925673484802\n",
      "Global Round: 727\n"
     ]
    },
    {
     "name": "stderr",
     "output_type": "stream",
     "text": [
      "Train Epoch: 727/1000. Iter:   18/  18. Data: 0.059s. alpha: 10. Batch: 0.109s. Loss: 0.5758.: 100%|█| 18/18 [00:01<00:00,\n"
     ]
    },
    {
     "name": "stdout",
     "output_type": "stream",
     "text": [
      "Global round: 727 | Average loss: 0.5651731060610877\n",
      "Global Round: 728\n"
     ]
    },
    {
     "name": "stderr",
     "output_type": "stream",
     "text": [
      "Train Epoch: 728/1000. Iter:   18/  18. Data: 0.061s. alpha: 10. Batch: 0.109s. Loss: 0.5706.: 100%|█| 18/18 [00:01<00:00,\n"
     ]
    },
    {
     "name": "stdout",
     "output_type": "stream",
     "text": [
      "Global round: 728 | Average loss: 0.5681232412656149\n",
      "Global Round: 729\n"
     ]
    },
    {
     "name": "stderr",
     "output_type": "stream",
     "text": [
      "Train Epoch: 729/1000. Iter:   18/  18. Data: 0.060s. alpha: 10. Batch: 0.109s. Loss: 0.5556.: 100%|█| 18/18 [00:01<00:00,\n"
     ]
    },
    {
     "name": "stdout",
     "output_type": "stream",
     "text": [
      "Global round: 729 | Average loss: 0.561776750617557\n",
      "Global Round: 730\n"
     ]
    },
    {
     "name": "stderr",
     "output_type": "stream",
     "text": [
      "Train Epoch: 730/1000. Iter:   11/  18. Data: 0.067s. alpha: 10. Batch: 0.119s. Loss: 0.5539.:  61%|▌| 11/18 [00:01<00:00,"
     ]
    },
    {
     "name": "stdout",
     "output_type": "stream",
     "text": [
      "epoch 730 similarity : [0.23235011100769043, 0.2319904863834381, 0.23318053781986237, 0.23074665665626526, 0.2301749587059021]\n"
     ]
    },
    {
     "name": "stderr",
     "output_type": "stream",
     "text": [
      "Train Epoch: 730/1000. Iter:   18/  18. Data: 0.063s. alpha: 10. Batch: 0.113s. Loss: 0.5877.: 100%|█| 18/18 [00:02<00:00,\n"
     ]
    },
    {
     "name": "stdout",
     "output_type": "stream",
     "text": [
      "Global round: 730 | Average loss: 0.5639966428279877\n",
      "Global Round: 731\n"
     ]
    },
    {
     "name": "stderr",
     "output_type": "stream",
     "text": [
      "Train Epoch: 731/1000. Iter:   18/  18. Data: 0.065s. alpha: 10. Batch: 0.115s. Loss: 0.5665.: 100%|█| 18/18 [00:02<00:00,\n"
     ]
    },
    {
     "name": "stdout",
     "output_type": "stream",
     "text": [
      "Global round: 731 | Average loss: 0.5653753611776564\n",
      "Global Round: 732\n"
     ]
    },
    {
     "name": "stderr",
     "output_type": "stream",
     "text": [
      "Train Epoch: 732/1000. Iter:   18/  18. Data: 0.059s. alpha: 10. Batch: 0.110s. Loss: 0.5593.: 100%|█| 18/18 [00:01<00:00,\n"
     ]
    },
    {
     "name": "stdout",
     "output_type": "stream",
     "text": [
      "Global round: 732 | Average loss: 0.562747683789995\n",
      "Global Round: 733\n"
     ]
    },
    {
     "name": "stderr",
     "output_type": "stream",
     "text": [
      "Train Epoch: 733/1000. Iter:   18/  18. Data: 0.060s. alpha: 10. Batch: 0.109s. Loss: 0.5329.: 100%|█| 18/18 [00:01<00:00,\n"
     ]
    },
    {
     "name": "stdout",
     "output_type": "stream",
     "text": [
      "Global round: 733 | Average loss: 0.5622196826669905\n",
      "Global Round: 734\n"
     ]
    },
    {
     "name": "stderr",
     "output_type": "stream",
     "text": [
      "Train Epoch: 734/1000. Iter:   18/  18. Data: 0.059s. alpha: 10. Batch: 0.110s. Loss: 0.5469.: 100%|█| 18/18 [00:01<00:00,\n"
     ]
    },
    {
     "name": "stdout",
     "output_type": "stream",
     "text": [
      "Global round: 734 | Average loss: 0.5632515119181739\n",
      "Global Round: 735\n"
     ]
    },
    {
     "name": "stderr",
     "output_type": "stream",
     "text": [
      "Train Epoch: 735/1000. Iter:   11/  18. Data: 0.071s. alpha: 10. Batch: 0.120s. Loss: 0.5875.:  61%|▌| 11/18 [00:01<00:00,"
     ]
    },
    {
     "name": "stdout",
     "output_type": "stream",
     "text": [
      "epoch 735 similarity : [0.19761988520622253, 0.20605826377868652, 0.19914348423480988, 0.18744179606437683, 0.19919952750205994]\n"
     ]
    },
    {
     "name": "stderr",
     "output_type": "stream",
     "text": [
      "Train Epoch: 735/1000. Iter:   18/  18. Data: 0.065s. alpha: 10. Batch: 0.114s. Loss: 0.5695.: 100%|█| 18/18 [00:02<00:00,\n"
     ]
    },
    {
     "name": "stdout",
     "output_type": "stream",
     "text": [
      "Global round: 735 | Average loss: 0.5598483681678772\n",
      "Global Round: 736\n"
     ]
    },
    {
     "name": "stderr",
     "output_type": "stream",
     "text": [
      "Train Epoch: 736/1000. Iter:   18/  18. Data: 0.059s. alpha: 10. Batch: 0.112s. Loss: 0.5688.: 100%|█| 18/18 [00:02<00:00,\n"
     ]
    },
    {
     "name": "stdout",
     "output_type": "stream",
     "text": [
      "Global round: 736 | Average loss: 0.5643680128786299\n",
      "Global Round: 737\n"
     ]
    },
    {
     "name": "stderr",
     "output_type": "stream",
     "text": [
      "Train Epoch: 737/1000. Iter:   18/  18. Data: 0.064s. alpha: 10. Batch: 0.113s. Loss: 0.5449.: 100%|█| 18/18 [00:02<00:00,\n"
     ]
    },
    {
     "name": "stdout",
     "output_type": "stream",
     "text": [
      "Global round: 737 | Average loss: 0.5660083327028487\n",
      "Global Round: 738\n"
     ]
    },
    {
     "name": "stderr",
     "output_type": "stream",
     "text": [
      "Train Epoch: 738/1000. Iter:   18/  18. Data: 0.060s. alpha: 10. Batch: 0.111s. Loss: 0.5551.: 100%|█| 18/18 [00:01<00:00,\n"
     ]
    },
    {
     "name": "stdout",
     "output_type": "stream",
     "text": [
      "Global round: 738 | Average loss: 0.5614708463350931\n",
      "Global Round: 739\n"
     ]
    },
    {
     "name": "stderr",
     "output_type": "stream",
     "text": [
      "Train Epoch: 739/1000. Iter:   18/  18. Data: 0.058s. alpha: 10. Batch: 0.111s. Loss: 0.5502.: 100%|█| 18/18 [00:02<00:00,\n"
     ]
    },
    {
     "name": "stdout",
     "output_type": "stream",
     "text": [
      "Global round: 739 | Average loss: 0.560724159081777\n",
      "Global Round: 740\n"
     ]
    },
    {
     "name": "stderr",
     "output_type": "stream",
     "text": [
      "Train Epoch: 740/1000. Iter:   11/  18. Data: 0.070s. alpha: 10. Batch: 0.121s. Loss: 0.5480.:  61%|▌| 11/18 [00:01<00:01,"
     ]
    },
    {
     "name": "stdout",
     "output_type": "stream",
     "text": [
      "epoch 740 similarity : [0.15326069295406342, 0.16062767803668976, 0.15367461740970612, 0.14454592764377594, 0.15245631337165833]\n"
     ]
    },
    {
     "name": "stderr",
     "output_type": "stream",
     "text": [
      "Train Epoch: 740/1000. Iter:   18/  18. Data: 0.065s. alpha: 10. Batch: 0.115s. Loss: 0.5535.: 100%|█| 18/18 [00:02<00:00,\n"
     ]
    },
    {
     "name": "stdout",
     "output_type": "stream",
     "text": [
      "Global round: 740 | Average loss: 0.5613263183169894\n",
      "Global Round: 741\n"
     ]
    },
    {
     "name": "stderr",
     "output_type": "stream",
     "text": [
      "Train Epoch: 741/1000. Iter:   18/  18. Data: 0.059s. alpha: 10. Batch: 0.110s. Loss: 0.5833.: 100%|█| 18/18 [00:01<00:00,\n"
     ]
    },
    {
     "name": "stdout",
     "output_type": "stream",
     "text": [
      "Global round: 741 | Average loss: 0.5625146561198764\n",
      "Global Round: 742\n"
     ]
    },
    {
     "name": "stderr",
     "output_type": "stream",
     "text": [
      "Train Epoch: 742/1000. Iter:   18/  18. Data: 0.058s. alpha: 10. Batch: 0.108s. Loss: 0.5646.: 100%|█| 18/18 [00:01<00:00,\n"
     ]
    },
    {
     "name": "stdout",
     "output_type": "stream",
     "text": [
      "Global round: 742 | Average loss: 0.5603586071067386\n",
      "Global Round: 743\n"
     ]
    },
    {
     "name": "stderr",
     "output_type": "stream",
     "text": [
      "Train Epoch: 743/1000. Iter:   18/  18. Data: 0.061s. alpha: 10. Batch: 0.112s. Loss: 0.5667.: 100%|█| 18/18 [00:02<00:00,\n"
     ]
    },
    {
     "name": "stdout",
     "output_type": "stream",
     "text": [
      "Global round: 743 | Average loss: 0.5539142621888055\n",
      "Global Round: 744\n"
     ]
    },
    {
     "name": "stderr",
     "output_type": "stream",
     "text": [
      "Train Epoch: 744/1000. Iter:   18/  18. Data: 0.061s. alpha: 10. Batch: 0.108s. Loss: 0.5416.: 100%|█| 18/18 [00:01<00:00,\n"
     ]
    },
    {
     "name": "stdout",
     "output_type": "stream",
     "text": [
      "Global round: 744 | Average loss: 0.5586008926232656\n",
      "Global Round: 745\n"
     ]
    },
    {
     "name": "stderr",
     "output_type": "stream",
     "text": [
      "Train Epoch: 745/1000. Iter:   11/  18. Data: 0.069s. alpha: 10. Batch: 0.117s. Loss: 0.5538.:  61%|▌| 11/18 [00:01<00:01,"
     ]
    },
    {
     "name": "stdout",
     "output_type": "stream",
     "text": [
      "epoch 745 similarity : [0.16822203993797302, 0.16852839291095734, 0.16946668922901154, 0.15615279972553253, 0.15501439571380615]\n"
     ]
    },
    {
     "name": "stderr",
     "output_type": "stream",
     "text": [
      "Train Epoch: 745/1000. Iter:   18/  18. Data: 0.064s. alpha: 10. Batch: 0.112s. Loss: 0.5385.: 100%|█| 18/18 [00:02<00:00,\n"
     ]
    },
    {
     "name": "stdout",
     "output_type": "stream",
     "text": [
      "Global round: 745 | Average loss: 0.5580503476990594\n",
      "Global Round: 746\n"
     ]
    },
    {
     "name": "stderr",
     "output_type": "stream",
     "text": [
      "Train Epoch: 746/1000. Iter:   18/  18. Data: 0.060s. alpha: 10. Batch: 0.109s. Loss: 0.5387.: 100%|█| 18/18 [00:01<00:00,\n"
     ]
    },
    {
     "name": "stdout",
     "output_type": "stream",
     "text": [
      "Global round: 746 | Average loss: 0.5554608636432223\n",
      "Global Round: 747\n"
     ]
    },
    {
     "name": "stderr",
     "output_type": "stream",
     "text": [
      "Train Epoch: 747/1000. Iter:   18/  18. Data: 0.061s. alpha: 10. Batch: 0.109s. Loss: 0.5582.: 100%|█| 18/18 [00:01<00:00,\n"
     ]
    },
    {
     "name": "stdout",
     "output_type": "stream",
     "text": [
      "Global round: 747 | Average loss: 0.5564312802420722\n",
      "Global Round: 748\n"
     ]
    },
    {
     "name": "stderr",
     "output_type": "stream",
     "text": [
      "Train Epoch: 748/1000. Iter:   18/  18. Data: 0.059s. alpha: 10. Batch: 0.108s. Loss: 0.5480.: 100%|█| 18/18 [00:01<00:00,\n"
     ]
    },
    {
     "name": "stdout",
     "output_type": "stream",
     "text": [
      "Global round: 748 | Average loss: 0.5597117708788978\n",
      "Global Round: 749\n"
     ]
    },
    {
     "name": "stderr",
     "output_type": "stream",
     "text": [
      "Train Epoch: 749/1000. Iter:   18/  18. Data: 0.061s. alpha: 10. Batch: 0.113s. Loss: 0.5460.: 100%|█| 18/18 [00:02<00:00,\n"
     ]
    },
    {
     "name": "stdout",
     "output_type": "stream",
     "text": [
      "Global round: 749 | Average loss: 0.5566800038019816\n",
      "Global Round: 750\n"
     ]
    },
    {
     "name": "stderr",
     "output_type": "stream",
     "text": [
      "Train Epoch: 750/1000. Iter:   11/  18. Data: 0.065s. alpha: 10. Batch: 0.114s. Loss: 0.5546.:  61%|▌| 11/18 [00:01<00:00,"
     ]
    },
    {
     "name": "stdout",
     "output_type": "stream",
     "text": [
      "epoch 750 similarity : [0.18714305758476257, 0.18841783702373505, 0.20528504252433777, 0.18828830122947693, 0.18156524002552032]\n"
     ]
    },
    {
     "name": "stderr",
     "output_type": "stream",
     "text": [
      "Train Epoch: 750/1000. Iter:   18/  18. Data: 0.064s. alpha: 10. Batch: 0.114s. Loss: 0.5675.: 100%|█| 18/18 [00:02<00:00,\n"
     ]
    },
    {
     "name": "stdout",
     "output_type": "stream",
     "text": [
      "Global round: 750 | Average loss: 0.5594325727886624\n",
      "Global Round: 751\n"
     ]
    },
    {
     "name": "stderr",
     "output_type": "stream",
     "text": [
      "Train Epoch: 751/1000. Iter:   18/  18. Data: 0.058s. alpha: 10. Batch: 0.109s. Loss: 0.5753.: 100%|█| 18/18 [00:01<00:00,\n"
     ]
    },
    {
     "name": "stdout",
     "output_type": "stream",
     "text": [
      "Global round: 751 | Average loss: 0.5620728499359555\n",
      "Global Round: 752\n"
     ]
    },
    {
     "name": "stderr",
     "output_type": "stream",
     "text": [
      "Train Epoch: 752/1000. Iter:   18/  18. Data: 0.060s. alpha: 10. Batch: 0.108s. Loss: 0.5670.: 100%|█| 18/18 [00:01<00:00,\n"
     ]
    },
    {
     "name": "stdout",
     "output_type": "stream",
     "text": [
      "Global round: 752 | Average loss: 0.5597940882047018\n",
      "Global Round: 753\n"
     ]
    },
    {
     "name": "stderr",
     "output_type": "stream",
     "text": [
      "Train Epoch: 753/1000. Iter:   18/  18. Data: 0.058s. alpha: 10. Batch: 0.108s. Loss: 0.5575.: 100%|█| 18/18 [00:01<00:00,\n"
     ]
    },
    {
     "name": "stdout",
     "output_type": "stream",
     "text": [
      "Global round: 753 | Average loss: 0.5564937823348575\n",
      "Global Round: 754\n"
     ]
    },
    {
     "name": "stderr",
     "output_type": "stream",
     "text": [
      "Train Epoch: 754/1000. Iter:   18/  18. Data: 0.062s. alpha: 10. Batch: 0.110s. Loss: 0.5623.: 100%|█| 18/18 [00:01<00:00,\n"
     ]
    },
    {
     "name": "stdout",
     "output_type": "stream",
     "text": [
      "Global round: 754 | Average loss: 0.5629867050382826\n",
      "Global Round: 755\n"
     ]
    },
    {
     "name": "stderr",
     "output_type": "stream",
     "text": [
      "Train Epoch: 755/1000. Iter:   11/  18. Data: 0.069s. alpha: 10. Batch: 0.119s. Loss: 0.5518.:  61%|▌| 11/18 [00:01<00:00,"
     ]
    },
    {
     "name": "stdout",
     "output_type": "stream",
     "text": [
      "epoch 755 similarity : [0.17531512677669525, 0.17527392506599426, 0.1878574788570404, 0.18274573981761932, 0.1797737181186676]\n"
     ]
    },
    {
     "name": "stderr",
     "output_type": "stream",
     "text": [
      "Train Epoch: 755/1000. Iter:   18/  18. Data: 0.067s. alpha: 10. Batch: 0.117s. Loss: 0.5360.: 100%|█| 18/18 [00:02<00:00,\n"
     ]
    },
    {
     "name": "stdout",
     "output_type": "stream",
     "text": [
      "Global round: 755 | Average loss: 0.5551562541060977\n",
      "Global Round: 756\n"
     ]
    },
    {
     "name": "stderr",
     "output_type": "stream",
     "text": [
      "Train Epoch: 756/1000. Iter:   18/  18. Data: 0.060s. alpha: 10. Batch: 0.110s. Loss: 0.5590.: 100%|█| 18/18 [00:01<00:00,\n"
     ]
    },
    {
     "name": "stdout",
     "output_type": "stream",
     "text": [
      "Global round: 756 | Average loss: 0.5568600131405724\n",
      "Global Round: 757\n"
     ]
    },
    {
     "name": "stderr",
     "output_type": "stream",
     "text": [
      "Train Epoch: 757/1000. Iter:   18/  18. Data: 0.060s. alpha: 10. Batch: 0.110s. Loss: 0.5719.: 100%|█| 18/18 [00:01<00:00,\n"
     ]
    },
    {
     "name": "stdout",
     "output_type": "stream",
     "text": [
      "Global round: 757 | Average loss: 0.5562365783585442\n",
      "Global Round: 758\n"
     ]
    },
    {
     "name": "stderr",
     "output_type": "stream",
     "text": [
      "Train Epoch: 758/1000. Iter:   18/  18. Data: 0.058s. alpha: 10. Batch: 0.110s. Loss: 0.5339.: 100%|█| 18/18 [00:01<00:00,\n"
     ]
    },
    {
     "name": "stdout",
     "output_type": "stream",
     "text": [
      "Global round: 758 | Average loss: 0.5567969977855682\n",
      "Global Round: 759\n"
     ]
    },
    {
     "name": "stderr",
     "output_type": "stream",
     "text": [
      "Train Epoch: 759/1000. Iter:   18/  18. Data: 0.060s. alpha: 10. Batch: 0.110s. Loss: 0.5594.: 100%|█| 18/18 [00:01<00:00,\n"
     ]
    },
    {
     "name": "stdout",
     "output_type": "stream",
     "text": [
      "Global round: 759 | Average loss: 0.5562564035256704\n",
      "Global Round: 760\n"
     ]
    },
    {
     "name": "stderr",
     "output_type": "stream",
     "text": [
      "Train Epoch: 760/1000. Iter:   11/  18. Data: 0.068s. alpha: 10. Batch: 0.119s. Loss: 0.5465.:  61%|▌| 11/18 [00:01<00:00,"
     ]
    },
    {
     "name": "stdout",
     "output_type": "stream",
     "text": [
      "epoch 760 similarity : [0.1776336431503296, 0.18375755846500397, 0.18532921373844147, 0.1826586127281189, 0.18954814970493317]\n"
     ]
    },
    {
     "name": "stderr",
     "output_type": "stream",
     "text": [
      "Train Epoch: 760/1000. Iter:   18/  18. Data: 0.064s. alpha: 10. Batch: 0.117s. Loss: 0.5620.: 100%|█| 18/18 [00:02<00:00,\n"
     ]
    },
    {
     "name": "stdout",
     "output_type": "stream",
     "text": [
      "Global round: 760 | Average loss: 0.55178212457233\n",
      "Global Round: 761\n"
     ]
    },
    {
     "name": "stderr",
     "output_type": "stream",
     "text": [
      "Train Epoch: 761/1000. Iter:   18/  18. Data: 0.061s. alpha: 10. Batch: 0.111s. Loss: 0.5374.: 100%|█| 18/18 [00:01<00:00,\n"
     ]
    },
    {
     "name": "stdout",
     "output_type": "stream",
     "text": [
      "Global round: 761 | Average loss: 0.5566824277242025\n",
      "Global Round: 762\n"
     ]
    },
    {
     "name": "stderr",
     "output_type": "stream",
     "text": [
      "Train Epoch: 762/1000. Iter:   18/  18. Data: 0.059s. alpha: 10. Batch: 0.108s. Loss: 0.5510.: 100%|█| 18/18 [00:01<00:00,\n"
     ]
    },
    {
     "name": "stdout",
     "output_type": "stream",
     "text": [
      "Global round: 762 | Average loss: 0.555841949250963\n",
      "Global Round: 763\n"
     ]
    },
    {
     "name": "stderr",
     "output_type": "stream",
     "text": [
      "Train Epoch: 763/1000. Iter:   18/  18. Data: 0.061s. alpha: 10. Batch: 0.109s. Loss: 0.5570.: 100%|█| 18/18 [00:01<00:00,\n"
     ]
    },
    {
     "name": "stdout",
     "output_type": "stream",
     "text": [
      "Global round: 763 | Average loss: 0.5531783435079787\n",
      "Global Round: 764\n"
     ]
    },
    {
     "name": "stderr",
     "output_type": "stream",
     "text": [
      "Train Epoch: 764/1000. Iter:   18/  18. Data: 0.060s. alpha: 10. Batch: 0.110s. Loss: 0.5637.: 100%|█| 18/18 [00:01<00:00,\n"
     ]
    },
    {
     "name": "stdout",
     "output_type": "stream",
     "text": [
      "Global round: 764 | Average loss: 0.558054784933726\n",
      "Global Round: 765\n"
     ]
    },
    {
     "name": "stderr",
     "output_type": "stream",
     "text": [
      "Train Epoch: 765/1000. Iter:   11/  18. Data: 0.067s. alpha: 10. Batch: 0.120s. Loss: 0.5601.:  61%|▌| 11/18 [00:01<00:00,"
     ]
    },
    {
     "name": "stdout",
     "output_type": "stream",
     "text": [
      "epoch 765 similarity : [0.19491182267665863, 0.20452384650707245, 0.20251503586769104, 0.19778327643871307, 0.19533401727676392]\n"
     ]
    },
    {
     "name": "stderr",
     "output_type": "stream",
     "text": [
      "Train Epoch: 765/1000. Iter:   18/  18. Data: 0.063s. alpha: 10. Batch: 0.115s. Loss: 0.5477.: 100%|█| 18/18 [00:02<00:00,\n"
     ]
    },
    {
     "name": "stdout",
     "output_type": "stream",
     "text": [
      "Global round: 765 | Average loss: 0.5514645410908593\n",
      "Global Round: 766\n"
     ]
    },
    {
     "name": "stderr",
     "output_type": "stream",
     "text": [
      "Train Epoch: 766/1000. Iter:   18/  18. Data: 0.064s. alpha: 10. Batch: 0.114s. Loss: 0.5512.: 100%|█| 18/18 [00:02<00:00,\n"
     ]
    },
    {
     "name": "stdout",
     "output_type": "stream",
     "text": [
      "Global round: 766 | Average loss: 0.5556945436530643\n",
      "Global Round: 767\n"
     ]
    },
    {
     "name": "stderr",
     "output_type": "stream",
     "text": [
      "Train Epoch: 767/1000. Iter:   18/  18. Data: 0.059s. alpha: 10. Batch: 0.110s. Loss: 0.5368.: 100%|█| 18/18 [00:01<00:00,\n"
     ]
    },
    {
     "name": "stdout",
     "output_type": "stream",
     "text": [
      "Global round: 767 | Average loss: 0.55687415599823\n",
      "Global Round: 768\n"
     ]
    },
    {
     "name": "stderr",
     "output_type": "stream",
     "text": [
      "Train Epoch: 768/1000. Iter:   18/  18. Data: 0.061s. alpha: 10. Batch: 0.110s. Loss: 0.5462.: 100%|█| 18/18 [00:01<00:00,\n"
     ]
    },
    {
     "name": "stdout",
     "output_type": "stream",
     "text": [
      "Global round: 768 | Average loss: 0.5566871662934622\n",
      "Global Round: 769\n"
     ]
    },
    {
     "name": "stderr",
     "output_type": "stream",
     "text": [
      "Train Epoch: 769/1000. Iter:   18/  18. Data: 0.059s. alpha: 10. Batch: 0.109s. Loss: 0.5585.: 100%|█| 18/18 [00:01<00:00,\n"
     ]
    },
    {
     "name": "stdout",
     "output_type": "stream",
     "text": [
      "Global round: 769 | Average loss: 0.5550864537556967\n",
      "Global Round: 770\n"
     ]
    },
    {
     "name": "stderr",
     "output_type": "stream",
     "text": [
      "Train Epoch: 770/1000. Iter:   11/  18. Data: 0.071s. alpha: 10. Batch: 0.118s. Loss: 0.5418.:  61%|▌| 11/18 [00:01<00:00,"
     ]
    },
    {
     "name": "stdout",
     "output_type": "stream",
     "text": [
      "epoch 770 similarity : [0.0930870771408081, 0.09733254462480545, 0.10190670937299728, 0.08853743225336075, 0.0923733189702034]\n"
     ]
    },
    {
     "name": "stderr",
     "output_type": "stream",
     "text": [
      "Train Epoch: 770/1000. Iter:   18/  18. Data: 0.065s. alpha: 10. Batch: 0.113s. Loss: 0.5356.: 100%|█| 18/18 [00:02<00:00,\n"
     ]
    },
    {
     "name": "stdout",
     "output_type": "stream",
     "text": [
      "Global round: 770 | Average loss: 0.5525017844306098\n",
      "Global Round: 771\n"
     ]
    },
    {
     "name": "stderr",
     "output_type": "stream",
     "text": [
      "Train Epoch: 771/1000. Iter:   18/  18. Data: 0.059s. alpha: 10. Batch: 0.109s. Loss: 0.5583.: 100%|█| 18/18 [00:01<00:00,\n"
     ]
    },
    {
     "name": "stdout",
     "output_type": "stream",
     "text": [
      "Global round: 771 | Average loss: 0.5566036204497019\n",
      "Global Round: 772\n"
     ]
    },
    {
     "name": "stderr",
     "output_type": "stream",
     "text": [
      "Train Epoch: 772/1000. Iter:   18/  18. Data: 0.065s. alpha: 10. Batch: 0.113s. Loss: 0.5431.: 100%|█| 18/18 [00:02<00:00,\n"
     ]
    },
    {
     "name": "stdout",
     "output_type": "stream",
     "text": [
      "Global round: 772 | Average loss: 0.5556033419238197\n",
      "Global Round: 773\n"
     ]
    },
    {
     "name": "stderr",
     "output_type": "stream",
     "text": [
      "Train Epoch: 773/1000. Iter:   18/  18. Data: 0.059s. alpha: 10. Batch: 0.109s. Loss: 0.5496.: 100%|█| 18/18 [00:01<00:00,\n"
     ]
    },
    {
     "name": "stdout",
     "output_type": "stream",
     "text": [
      "Global round: 773 | Average loss: 0.5568512479464213\n",
      "Global Round: 774\n"
     ]
    },
    {
     "name": "stderr",
     "output_type": "stream",
     "text": [
      "Train Epoch: 774/1000. Iter:   18/  18. Data: 0.058s. alpha: 10. Batch: 0.108s. Loss: 0.5452.: 100%|█| 18/18 [00:01<00:00,\n"
     ]
    },
    {
     "name": "stdout",
     "output_type": "stream",
     "text": [
      "Global round: 774 | Average loss: 0.5552709897359213\n",
      "Global Round: 775\n"
     ]
    },
    {
     "name": "stderr",
     "output_type": "stream",
     "text": [
      "Train Epoch: 775/1000. Iter:   11/  18. Data: 0.070s. alpha: 10. Batch: 0.118s. Loss: 0.5393.:  61%|▌| 11/18 [00:01<00:01,"
     ]
    },
    {
     "name": "stdout",
     "output_type": "stream",
     "text": [
      "epoch 775 similarity : [0.2016454041004181, 0.20133426785469055, 0.20186617970466614, 0.19717423617839813, 0.20741432905197144]\n"
     ]
    },
    {
     "name": "stderr",
     "output_type": "stream",
     "text": [
      "Train Epoch: 775/1000. Iter:   18/  18. Data: 0.065s. alpha: 10. Batch: 0.113s. Loss: 0.5688.: 100%|█| 18/18 [00:02<00:00,\n"
     ]
    },
    {
     "name": "stdout",
     "output_type": "stream",
     "text": [
      "Global round: 775 | Average loss: 0.5557543734709421\n",
      "Global Round: 776\n"
     ]
    },
    {
     "name": "stderr",
     "output_type": "stream",
     "text": [
      "Train Epoch: 776/1000. Iter:   18/  18. Data: 0.058s. alpha: 10. Batch: 0.109s. Loss: 0.5780.: 100%|█| 18/18 [00:01<00:00,\n"
     ]
    },
    {
     "name": "stdout",
     "output_type": "stream",
     "text": [
      "Global round: 776 | Average loss: 0.5545801156096988\n",
      "Global Round: 777\n"
     ]
    },
    {
     "name": "stderr",
     "output_type": "stream",
     "text": [
      "Train Epoch: 777/1000. Iter:   18/  18. Data: 0.058s. alpha: 10. Batch: 0.109s. Loss: 0.5779.: 100%|█| 18/18 [00:01<00:00,\n"
     ]
    },
    {
     "name": "stdout",
     "output_type": "stream",
     "text": [
      "Global round: 777 | Average loss: 0.5538559589121077\n",
      "Global Round: 778\n"
     ]
    },
    {
     "name": "stderr",
     "output_type": "stream",
     "text": [
      "Train Epoch: 778/1000. Iter:   18/  18. Data: 0.061s. alpha: 10. Batch: 0.111s. Loss: 0.5565.: 100%|█| 18/18 [00:01<00:00,\n"
     ]
    },
    {
     "name": "stdout",
     "output_type": "stream",
     "text": [
      "Global round: 778 | Average loss: 0.5550057490666708\n",
      "Global Round: 779\n"
     ]
    },
    {
     "name": "stderr",
     "output_type": "stream",
     "text": [
      "Train Epoch: 779/1000. Iter:   18/  18. Data: 0.061s. alpha: 10. Batch: 0.110s. Loss: 0.5420.: 100%|█| 18/18 [00:01<00:00,\n"
     ]
    },
    {
     "name": "stdout",
     "output_type": "stream",
     "text": [
      "Global round: 779 | Average loss: 0.5575729178057777\n",
      "Global Round: 780\n"
     ]
    },
    {
     "name": "stderr",
     "output_type": "stream",
     "text": [
      "Train Epoch: 780/1000. Iter:   11/  18. Data: 0.070s. alpha: 10. Batch: 0.121s. Loss: 0.5772.:  61%|▌| 11/18 [00:01<00:01,"
     ]
    },
    {
     "name": "stdout",
     "output_type": "stream",
     "text": [
      "epoch 780 similarity : [0.18467222154140472, 0.18586468696594238, 0.18701395392417908, 0.18072724342346191, 0.18781529366970062]\n"
     ]
    },
    {
     "name": "stderr",
     "output_type": "stream",
     "text": [
      "Train Epoch: 780/1000. Iter:   18/  18. Data: 0.065s. alpha: 10. Batch: 0.116s. Loss: 0.5714.: 100%|█| 18/18 [00:02<00:00,\n"
     ]
    },
    {
     "name": "stdout",
     "output_type": "stream",
     "text": [
      "Global round: 780 | Average loss: 0.5552686717775133\n",
      "Global Round: 781\n"
     ]
    },
    {
     "name": "stderr",
     "output_type": "stream",
     "text": [
      "Train Epoch: 781/1000. Iter:   18/  18. Data: 0.059s. alpha: 10. Batch: 0.112s. Loss: 0.5554.: 100%|█| 18/18 [00:02<00:00,\n"
     ]
    },
    {
     "name": "stdout",
     "output_type": "stream",
     "text": [
      "Global round: 781 | Average loss: 0.5536920924981436\n",
      "Global Round: 782\n"
     ]
    },
    {
     "name": "stderr",
     "output_type": "stream",
     "text": [
      "Train Epoch: 782/1000. Iter:   18/  18. Data: 0.061s. alpha: 10. Batch: 0.110s. Loss: 0.5584.: 100%|█| 18/18 [00:01<00:00,\n"
     ]
    },
    {
     "name": "stdout",
     "output_type": "stream",
     "text": [
      "Global round: 782 | Average loss: 0.5567551818158891\n",
      "Global Round: 783\n"
     ]
    },
    {
     "name": "stderr",
     "output_type": "stream",
     "text": [
      "Train Epoch: 783/1000. Iter:   18/  18. Data: 0.059s. alpha: 10. Batch: 0.108s. Loss: 0.5375.: 100%|█| 18/18 [00:01<00:00,\n"
     ]
    },
    {
     "name": "stdout",
     "output_type": "stream",
     "text": [
      "Global round: 783 | Average loss: 0.5524418618943956\n",
      "Global Round: 784\n"
     ]
    },
    {
     "name": "stderr",
     "output_type": "stream",
     "text": [
      "Train Epoch: 784/1000. Iter:   18/  18. Data: 0.061s. alpha: 10. Batch: 0.111s. Loss: 0.5694.: 100%|█| 18/18 [00:02<00:00,\n"
     ]
    },
    {
     "name": "stdout",
     "output_type": "stream",
     "text": [
      "Global round: 784 | Average loss: 0.5570157567660013\n",
      "Global Round: 785\n"
     ]
    },
    {
     "name": "stderr",
     "output_type": "stream",
     "text": [
      "Train Epoch: 785/1000. Iter:   11/  18. Data: 0.065s. alpha: 10. Batch: 0.112s. Loss: 0.5500.:  61%|▌| 11/18 [00:01<00:00,"
     ]
    },
    {
     "name": "stdout",
     "output_type": "stream",
     "text": [
      "epoch 785 similarity : [0.14567063748836517, 0.15185923874378204, 0.153686985373497, 0.1585260033607483, 0.1495998054742813]\n"
     ]
    },
    {
     "name": "stderr",
     "output_type": "stream",
     "text": [
      "Train Epoch: 785/1000. Iter:   18/  18. Data: 0.064s. alpha: 10. Batch: 0.113s. Loss: 0.5580.: 100%|█| 18/18 [00:02<00:00,\n"
     ]
    },
    {
     "name": "stdout",
     "output_type": "stream",
     "text": [
      "Global round: 785 | Average loss: 0.5558888647291396\n",
      "Global Round: 786\n"
     ]
    },
    {
     "name": "stderr",
     "output_type": "stream",
     "text": [
      "Train Epoch: 786/1000. Iter:   18/  18. Data: 0.058s. alpha: 10. Batch: 0.109s. Loss: 0.5633.: 100%|█| 18/18 [00:01<00:00,\n"
     ]
    },
    {
     "name": "stdout",
     "output_type": "stream",
     "text": [
      "Global round: 786 | Average loss: 0.5534432530403137\n",
      "Global Round: 787\n"
     ]
    },
    {
     "name": "stderr",
     "output_type": "stream",
     "text": [
      "Train Epoch: 787/1000. Iter:   18/  18. Data: 0.061s. alpha: 10. Batch: 0.110s. Loss: 0.5681.: 100%|█| 18/18 [00:01<00:00,\n"
     ]
    },
    {
     "name": "stdout",
     "output_type": "stream",
     "text": [
      "Global round: 787 | Average loss: 0.5506668421957228\n",
      "Global Round: 788\n"
     ]
    },
    {
     "name": "stderr",
     "output_type": "stream",
     "text": [
      "Train Epoch: 788/1000. Iter:   18/  18. Data: 0.059s. alpha: 10. Batch: 0.109s. Loss: 0.5510.: 100%|█| 18/18 [00:01<00:00,\n"
     ]
    },
    {
     "name": "stdout",
     "output_type": "stream",
     "text": [
      "Global round: 788 | Average loss: 0.5537248916096158\n",
      "Global Round: 789\n"
     ]
    },
    {
     "name": "stderr",
     "output_type": "stream",
     "text": [
      "Train Epoch: 789/1000. Iter:   18/  18. Data: 0.061s. alpha: 10. Batch: 0.108s. Loss: 0.5610.: 100%|█| 18/18 [00:01<00:00,\n"
     ]
    },
    {
     "name": "stdout",
     "output_type": "stream",
     "text": [
      "Global round: 789 | Average loss: 0.5534578462441763\n",
      "Global Round: 790\n"
     ]
    },
    {
     "name": "stderr",
     "output_type": "stream",
     "text": [
      "Train Epoch: 790/1000. Iter:   11/  18. Data: 0.069s. alpha: 10. Batch: 0.120s. Loss: 0.5625.:  61%|▌| 11/18 [00:01<00:00,"
     ]
    },
    {
     "name": "stdout",
     "output_type": "stream",
     "text": [
      "epoch 790 similarity : [0.09163541346788406, 0.09167376160621643, 0.10064375400543213, 0.1048981100320816, 0.09135173261165619]\n"
     ]
    },
    {
     "name": "stderr",
     "output_type": "stream",
     "text": [
      "Train Epoch: 790/1000. Iter:   18/  18. Data: 0.067s. alpha: 10. Batch: 0.118s. Loss: 0.5353.: 100%|█| 18/18 [00:02<00:00,\n"
     ]
    },
    {
     "name": "stdout",
     "output_type": "stream",
     "text": [
      "Global round: 790 | Average loss: 0.5510402785407172\n",
      "Global Round: 791\n"
     ]
    },
    {
     "name": "stderr",
     "output_type": "stream",
     "text": [
      "Train Epoch: 791/1000. Iter:   18/  18. Data: 0.060s. alpha: 10. Batch: 0.110s. Loss: 0.5449.: 100%|█| 18/18 [00:01<00:00,\n"
     ]
    },
    {
     "name": "stdout",
     "output_type": "stream",
     "text": [
      "Global round: 791 | Average loss: 0.5521505640612708\n",
      "Global Round: 792\n"
     ]
    },
    {
     "name": "stderr",
     "output_type": "stream",
     "text": [
      "Train Epoch: 792/1000. Iter:   18/  18. Data: 0.060s. alpha: 10. Batch: 0.110s. Loss: 0.5759.: 100%|█| 18/18 [00:01<00:00,\n"
     ]
    },
    {
     "name": "stdout",
     "output_type": "stream",
     "text": [
      "Global round: 792 | Average loss: 0.5499219927522871\n",
      "Global Round: 793\n"
     ]
    },
    {
     "name": "stderr",
     "output_type": "stream",
     "text": [
      "Train Epoch: 793/1000. Iter:   18/  18. Data: 0.058s. alpha: 10. Batch: 0.108s. Loss: 0.5559.: 100%|█| 18/18 [00:01<00:00,\n"
     ]
    },
    {
     "name": "stdout",
     "output_type": "stream",
     "text": [
      "Global round: 793 | Average loss: 0.5531284709771475\n",
      "Global Round: 794\n"
     ]
    },
    {
     "name": "stderr",
     "output_type": "stream",
     "text": [
      "Train Epoch: 794/1000. Iter:   18/  18. Data: 0.060s. alpha: 10. Batch: 0.110s. Loss: 0.5676.: 100%|█| 18/18 [00:01<00:00,\n"
     ]
    },
    {
     "name": "stdout",
     "output_type": "stream",
     "text": [
      "Global round: 794 | Average loss: 0.5526183247566223\n",
      "Global Round: 795\n"
     ]
    },
    {
     "name": "stderr",
     "output_type": "stream",
     "text": [
      "Train Epoch: 795/1000. Iter:   11/  18. Data: 0.067s. alpha: 10. Batch: 0.118s. Loss: 0.5449.:  61%|▌| 11/18 [00:01<00:00,"
     ]
    },
    {
     "name": "stdout",
     "output_type": "stream",
     "text": [
      "epoch 795 similarity : [0.13921688497066498, 0.14013943076133728, 0.14515037834644318, 0.13972072303295135, 0.13210973143577576]\n"
     ]
    },
    {
     "name": "stderr",
     "output_type": "stream",
     "text": [
      "Train Epoch: 795/1000. Iter:   18/  18. Data: 0.063s. alpha: 10. Batch: 0.116s. Loss: 0.5512.: 100%|█| 18/18 [00:02<00:00,\n"
     ]
    },
    {
     "name": "stdout",
     "output_type": "stream",
     "text": [
      "Global round: 795 | Average loss: 0.5513946712017059\n",
      "Global Round: 796\n"
     ]
    },
    {
     "name": "stderr",
     "output_type": "stream",
     "text": [
      "Train Epoch: 796/1000. Iter:   18/  18. Data: 0.060s. alpha: 10. Batch: 0.108s. Loss: 0.5790.: 100%|█| 18/18 [00:01<00:00,\n"
     ]
    },
    {
     "name": "stdout",
     "output_type": "stream",
     "text": [
      "Global round: 796 | Average loss: 0.5505324006080627\n",
      "Global Round: 797\n"
     ]
    },
    {
     "name": "stderr",
     "output_type": "stream",
     "text": [
      "Train Epoch: 797/1000. Iter:   18/  18. Data: 0.058s. alpha: 10. Batch: 0.108s. Loss: 0.5436.: 100%|█| 18/18 [00:01<00:00,\n"
     ]
    },
    {
     "name": "stdout",
     "output_type": "stream",
     "text": [
      "Global round: 797 | Average loss: 0.5495631992816925\n",
      "Global Round: 798\n"
     ]
    },
    {
     "name": "stderr",
     "output_type": "stream",
     "text": [
      "Train Epoch: 798/1000. Iter:   18/  18. Data: 0.060s. alpha: 10. Batch: 0.108s. Loss: 0.5474.: 100%|█| 18/18 [00:01<00:00,\n"
     ]
    },
    {
     "name": "stdout",
     "output_type": "stream",
     "text": [
      "Global round: 798 | Average loss: 0.5504325694508023\n",
      "Global Round: 799\n"
     ]
    },
    {
     "name": "stderr",
     "output_type": "stream",
     "text": [
      "Train Epoch: 799/1000. Iter:   18/  18. Data: 0.059s. alpha: 10. Batch: 0.109s. Loss: 0.5415.: 100%|█| 18/18 [00:01<00:00,\n"
     ]
    },
    {
     "name": "stdout",
     "output_type": "stream",
     "text": [
      "Global round: 799 | Average loss: 0.5482643246650696\n",
      "Global Round: 800\n"
     ]
    },
    {
     "name": "stderr",
     "output_type": "stream",
     "text": [
      "Train Epoch: 800/1000. Iter:   11/  18. Data: 0.066s. alpha: 10. Batch: 0.119s. Loss: 0.5647.:  61%|▌| 11/18 [00:01<00:00,"
     ]
    },
    {
     "name": "stdout",
     "output_type": "stream",
     "text": [
      "epoch 800 similarity : [0.09753020852804184, 0.10337512940168381, 0.11470749974250793, 0.1027570441365242, 0.10814696550369263]\n"
     ]
    },
    {
     "name": "stderr",
     "output_type": "stream",
     "text": [
      "Train Epoch: 800/1000. Iter:   18/  18. Data: 0.063s. alpha: 10. Batch: 0.114s. Loss: 0.5473.: 100%|█| 18/18 [00:02<00:00,\n"
     ]
    },
    {
     "name": "stdout",
     "output_type": "stream",
     "text": [
      "Global round: 800 | Average loss: 0.5492947598298391\n",
      "Global Round: 801\n"
     ]
    },
    {
     "name": "stderr",
     "output_type": "stream",
     "text": [
      "Train Epoch: 801/1000. Iter:   18/  18. Data: 0.063s. alpha: 10. Batch: 0.114s. Loss: 0.5573.: 100%|█| 18/18 [00:02<00:00,\n"
     ]
    },
    {
     "name": "stdout",
     "output_type": "stream",
     "text": [
      "Global round: 801 | Average loss: 0.5524853832191892\n",
      "Global Round: 802\n"
     ]
    },
    {
     "name": "stderr",
     "output_type": "stream",
     "text": [
      "Train Epoch: 802/1000. Iter:   18/  18. Data: 0.058s. alpha: 10. Batch: 0.110s. Loss: 0.5521.: 100%|█| 18/18 [00:01<00:00,\n"
     ]
    },
    {
     "name": "stdout",
     "output_type": "stream",
     "text": [
      "Global round: 802 | Average loss: 0.5502100156413184\n",
      "Global Round: 803\n"
     ]
    },
    {
     "name": "stderr",
     "output_type": "stream",
     "text": [
      "Train Epoch: 803/1000. Iter:   18/  18. Data: 0.060s. alpha: 10. Batch: 0.110s. Loss: 0.5786.: 100%|█| 18/18 [00:01<00:00,\n"
     ]
    },
    {
     "name": "stdout",
     "output_type": "stream",
     "text": [
      "Global round: 803 | Average loss: 0.5506065355406867\n",
      "Global Round: 804\n"
     ]
    },
    {
     "name": "stderr",
     "output_type": "stream",
     "text": [
      "Train Epoch: 804/1000. Iter:   18/  18. Data: 0.059s. alpha: 10. Batch: 0.110s. Loss: 0.5844.: 100%|█| 18/18 [00:01<00:00,\n"
     ]
    },
    {
     "name": "stdout",
     "output_type": "stream",
     "text": [
      "Global round: 804 | Average loss: 0.5522425472736359\n",
      "Global Round: 805\n"
     ]
    },
    {
     "name": "stderr",
     "output_type": "stream",
     "text": [
      "Train Epoch: 805/1000. Iter:   11/  18. Data: 0.071s. alpha: 10. Batch: 0.120s. Loss: 0.5606.:  61%|▌| 11/18 [00:01<00:00,"
     ]
    },
    {
     "name": "stdout",
     "output_type": "stream",
     "text": [
      "epoch 805 similarity : [0.18353183567523956, 0.19070720672607422, 0.19656264781951904, 0.18667039275169373, 0.19005680084228516]\n"
     ]
    },
    {
     "name": "stderr",
     "output_type": "stream",
     "text": [
      "Train Epoch: 805/1000. Iter:   18/  18. Data: 0.065s. alpha: 10. Batch: 0.114s. Loss: 0.5698.: 100%|█| 18/18 [00:02<00:00,\n"
     ]
    },
    {
     "name": "stdout",
     "output_type": "stream",
     "text": [
      "Global round: 805 | Average loss: 0.550745470656289\n",
      "Global Round: 806\n"
     ]
    },
    {
     "name": "stderr",
     "output_type": "stream",
     "text": [
      "Train Epoch: 806/1000. Iter:   18/  18. Data: 0.059s. alpha: 10. Batch: 0.109s. Loss: 0.5472.: 100%|█| 18/18 [00:01<00:00,\n"
     ]
    },
    {
     "name": "stdout",
     "output_type": "stream",
     "text": [
      "Global round: 806 | Average loss: 0.5534639689657423\n",
      "Global Round: 807\n"
     ]
    },
    {
     "name": "stderr",
     "output_type": "stream",
     "text": [
      "Train Epoch: 807/1000. Iter:   18/  18. Data: 0.064s. alpha: 10. Batch: 0.111s. Loss: 0.5575.: 100%|█| 18/18 [00:02<00:00,\n"
     ]
    },
    {
     "name": "stdout",
     "output_type": "stream",
     "text": [
      "Global round: 807 | Average loss: 0.5511754983001285\n",
      "Global Round: 808\n"
     ]
    },
    {
     "name": "stderr",
     "output_type": "stream",
     "text": [
      "Train Epoch: 808/1000. Iter:   18/  18. Data: 0.059s. alpha: 10. Batch: 0.107s. Loss: 0.5456.: 100%|█| 18/18 [00:01<00:00,\n"
     ]
    },
    {
     "name": "stdout",
     "output_type": "stream",
     "text": [
      "Global round: 808 | Average loss: 0.54917797115114\n",
      "Global Round: 809\n"
     ]
    },
    {
     "name": "stderr",
     "output_type": "stream",
     "text": [
      "Train Epoch: 809/1000. Iter:   18/  18. Data: 0.057s. alpha: 10. Batch: 0.108s. Loss: 0.5498.: 100%|█| 18/18 [00:01<00:00,\n"
     ]
    },
    {
     "name": "stdout",
     "output_type": "stream",
     "text": [
      "Global round: 809 | Average loss: 0.5519422557618883\n",
      "Global Round: 810\n"
     ]
    },
    {
     "name": "stderr",
     "output_type": "stream",
     "text": [
      "Train Epoch: 810/1000. Iter:   11/  18. Data: 0.069s. alpha: 10. Batch: 0.118s. Loss: 0.5498.:  61%|▌| 11/18 [00:01<00:01,"
     ]
    },
    {
     "name": "stdout",
     "output_type": "stream",
     "text": [
      "epoch 810 similarity : [0.19554868340492249, 0.19377626478672028, 0.20038899779319763, 0.19212085008621216, 0.19739583134651184]\n"
     ]
    },
    {
     "name": "stderr",
     "output_type": "stream",
     "text": [
      "Train Epoch: 810/1000. Iter:   18/  18. Data: 0.065s. alpha: 10. Batch: 0.114s. Loss: 0.5497.: 100%|█| 18/18 [00:02<00:00,\n"
     ]
    },
    {
     "name": "stdout",
     "output_type": "stream",
     "text": [
      "Global round: 810 | Average loss: 0.5509602990415361\n",
      "Global Round: 811\n"
     ]
    },
    {
     "name": "stderr",
     "output_type": "stream",
     "text": [
      "Train Epoch: 811/1000. Iter:   18/  18. Data: 0.059s. alpha: 10. Batch: 0.111s. Loss: 0.5447.: 100%|█| 18/18 [00:01<00:00,\n"
     ]
    },
    {
     "name": "stdout",
     "output_type": "stream",
     "text": [
      "Global round: 811 | Average loss: 0.5492648449209001\n",
      "Global Round: 812\n"
     ]
    },
    {
     "name": "stderr",
     "output_type": "stream",
     "text": [
      "Train Epoch: 812/1000. Iter:   18/  18. Data: 0.058s. alpha: 10. Batch: 0.110s. Loss: 0.5569.: 100%|█| 18/18 [00:01<00:00,\n"
     ]
    },
    {
     "name": "stdout",
     "output_type": "stream",
     "text": [
      "Global round: 812 | Average loss: 0.5521972742345598\n",
      "Global Round: 813\n"
     ]
    },
    {
     "name": "stderr",
     "output_type": "stream",
     "text": [
      "Train Epoch: 813/1000. Iter:   18/  18. Data: 0.062s. alpha: 10. Batch: 0.113s. Loss: 0.5510.: 100%|█| 18/18 [00:02<00:00,\n"
     ]
    },
    {
     "name": "stdout",
     "output_type": "stream",
     "text": [
      "Global round: 813 | Average loss: 0.5528956055641174\n",
      "Global Round: 814\n"
     ]
    },
    {
     "name": "stderr",
     "output_type": "stream",
     "text": [
      "Train Epoch: 814/1000. Iter:   18/  18. Data: 0.061s. alpha: 10. Batch: 0.109s. Loss: 0.5642.: 100%|█| 18/18 [00:01<00:00,\n"
     ]
    },
    {
     "name": "stdout",
     "output_type": "stream",
     "text": [
      "Global round: 814 | Average loss: 0.5490171280172136\n",
      "Global Round: 815\n"
     ]
    },
    {
     "name": "stderr",
     "output_type": "stream",
     "text": [
      "Train Epoch: 815/1000. Iter:   11/  18. Data: 0.070s. alpha: 10. Batch: 0.119s. Loss: 0.5435.:  61%|▌| 11/18 [00:01<00:01,"
     ]
    },
    {
     "name": "stdout",
     "output_type": "stream",
     "text": [
      "epoch 815 similarity : [0.1824093610048294, 0.18072298169136047, 0.1841483861207962, 0.18052887916564941, 0.17423832416534424]\n"
     ]
    },
    {
     "name": "stderr",
     "output_type": "stream",
     "text": [
      "Train Epoch: 815/1000. Iter:   18/  18. Data: 0.065s. alpha: 10. Batch: 0.113s. Loss: 0.5552.: 100%|█| 18/18 [00:02<00:00,\n"
     ]
    },
    {
     "name": "stdout",
     "output_type": "stream",
     "text": [
      "Global round: 815 | Average loss: 0.546651260720359\n",
      "Global Round: 816\n"
     ]
    },
    {
     "name": "stderr",
     "output_type": "stream",
     "text": [
      "Train Epoch: 816/1000. Iter:   18/  18. Data: 0.059s. alpha: 10. Batch: 0.108s. Loss: 0.5555.: 100%|█| 18/18 [00:01<00:00,\n"
     ]
    },
    {
     "name": "stdout",
     "output_type": "stream",
     "text": [
      "Global round: 816 | Average loss: 0.5556686951054467\n",
      "Global Round: 817\n"
     ]
    },
    {
     "name": "stderr",
     "output_type": "stream",
     "text": [
      "Train Epoch: 817/1000. Iter:   18/  18. Data: 0.060s. alpha: 10. Batch: 0.108s. Loss: 0.5405.: 100%|█| 18/18 [00:01<00:00,\n"
     ]
    },
    {
     "name": "stdout",
     "output_type": "stream",
     "text": [
      "Global round: 817 | Average loss: 0.5475752121872373\n",
      "Global Round: 818\n"
     ]
    },
    {
     "name": "stderr",
     "output_type": "stream",
     "text": [
      "Train Epoch: 818/1000. Iter:   18/  18. Data: 0.059s. alpha: 10. Batch: 0.108s. Loss: 0.5513.: 100%|█| 18/18 [00:01<00:00,\n"
     ]
    },
    {
     "name": "stdout",
     "output_type": "stream",
     "text": [
      "Global round: 818 | Average loss: 0.547000742620892\n",
      "Global Round: 819\n"
     ]
    },
    {
     "name": "stderr",
     "output_type": "stream",
     "text": [
      "Train Epoch: 819/1000. Iter:   18/  18. Data: 0.060s. alpha: 10. Batch: 0.111s. Loss: 0.5479.: 100%|█| 18/18 [00:02<00:00,\n"
     ]
    },
    {
     "name": "stdout",
     "output_type": "stream",
     "text": [
      "Global round: 819 | Average loss: 0.5456379916932848\n",
      "Global Round: 820\n"
     ]
    },
    {
     "name": "stderr",
     "output_type": "stream",
     "text": [
      "Train Epoch: 820/1000. Iter:   11/  18. Data: 0.065s. alpha: 10. Batch: 0.113s. Loss: 0.5657.:  61%|▌| 11/18 [00:01<00:00,"
     ]
    },
    {
     "name": "stdout",
     "output_type": "stream",
     "text": [
      "epoch 820 similarity : [0.15661758184432983, 0.1627996265888214, 0.16634735465049744, 0.16601216793060303, 0.15654867887496948]\n"
     ]
    },
    {
     "name": "stderr",
     "output_type": "stream",
     "text": [
      "Train Epoch: 820/1000. Iter:   18/  18. Data: 0.064s. alpha: 10. Batch: 0.115s. Loss: 0.5458.: 100%|█| 18/18 [00:02<00:00,\n"
     ]
    },
    {
     "name": "stdout",
     "output_type": "stream",
     "text": [
      "Global round: 820 | Average loss: 0.5499234298865\n",
      "Global Round: 821\n"
     ]
    },
    {
     "name": "stderr",
     "output_type": "stream",
     "text": [
      "Train Epoch: 821/1000. Iter:   18/  18. Data: 0.059s. alpha: 10. Batch: 0.111s. Loss: 0.5391.: 100%|█| 18/18 [00:01<00:00,\n"
     ]
    },
    {
     "name": "stdout",
     "output_type": "stream",
     "text": [
      "Global round: 821 | Average loss: 0.5501147872871823\n",
      "Global Round: 822\n"
     ]
    },
    {
     "name": "stderr",
     "output_type": "stream",
     "text": [
      "Train Epoch: 822/1000. Iter:   18/  18. Data: 0.060s. alpha: 10. Batch: 0.109s. Loss: 0.5405.: 100%|█| 18/18 [00:01<00:00,\n"
     ]
    },
    {
     "name": "stdout",
     "output_type": "stream",
     "text": [
      "Global round: 822 | Average loss: 0.548093232843611\n",
      "Global Round: 823\n"
     ]
    },
    {
     "name": "stderr",
     "output_type": "stream",
     "text": [
      "Train Epoch: 823/1000. Iter:   18/  18. Data: 0.060s. alpha: 10. Batch: 0.110s. Loss: 0.5525.: 100%|█| 18/18 [00:01<00:00,\n"
     ]
    },
    {
     "name": "stdout",
     "output_type": "stream",
     "text": [
      "Global round: 823 | Average loss: 0.5473891927136315\n",
      "Global Round: 824\n"
     ]
    },
    {
     "name": "stderr",
     "output_type": "stream",
     "text": [
      "Train Epoch: 824/1000. Iter:   18/  18. Data: 0.062s. alpha: 10. Batch: 0.110s. Loss: 0.5400.: 100%|█| 18/18 [00:01<00:00,\n"
     ]
    },
    {
     "name": "stdout",
     "output_type": "stream",
     "text": [
      "Global round: 824 | Average loss: 0.5459898577796088\n",
      "Global Round: 825\n"
     ]
    },
    {
     "name": "stderr",
     "output_type": "stream",
     "text": [
      "Train Epoch: 825/1000. Iter:   11/  18. Data: 0.070s. alpha: 10. Batch: 0.120s. Loss: 0.5466.:  61%|▌| 11/18 [00:01<00:00,"
     ]
    },
    {
     "name": "stdout",
     "output_type": "stream",
     "text": [
      "epoch 825 similarity : [0.16520600020885468, 0.17054493725299835, 0.17663787305355072, 0.17023062705993652, 0.1601891815662384]\n"
     ]
    },
    {
     "name": "stderr",
     "output_type": "stream",
     "text": [
      "Train Epoch: 825/1000. Iter:   18/  18. Data: 0.068s. alpha: 10. Batch: 0.118s. Loss: 0.5539.: 100%|█| 18/18 [00:02<00:00,\n"
     ]
    },
    {
     "name": "stdout",
     "output_type": "stream",
     "text": [
      "Global round: 825 | Average loss: 0.5483683678838942\n",
      "Global Round: 826\n"
     ]
    },
    {
     "name": "stderr",
     "output_type": "stream",
     "text": [
      "Train Epoch: 826/1000. Iter:   18/  18. Data: 0.061s. alpha: 10. Batch: 0.110s. Loss: 0.5421.: 100%|█| 18/18 [00:01<00:00,\n"
     ]
    },
    {
     "name": "stdout",
     "output_type": "stream",
     "text": [
      "Global round: 826 | Average loss: 0.5463445285956064\n",
      "Global Round: 827\n"
     ]
    },
    {
     "name": "stderr",
     "output_type": "stream",
     "text": [
      "Train Epoch: 827/1000. Iter:   18/  18. Data: 0.059s. alpha: 10. Batch: 0.108s. Loss: 0.5451.: 100%|█| 18/18 [00:01<00:00,\n"
     ]
    },
    {
     "name": "stdout",
     "output_type": "stream",
     "text": [
      "Global round: 827 | Average loss: 0.5495628979470994\n",
      "Global Round: 828\n"
     ]
    },
    {
     "name": "stderr",
     "output_type": "stream",
     "text": [
      "Train Epoch: 828/1000. Iter:   18/  18. Data: 0.059s. alpha: 10. Batch: 0.110s. Loss: 0.5525.: 100%|█| 18/18 [00:01<00:00,\n"
     ]
    },
    {
     "name": "stdout",
     "output_type": "stream",
     "text": [
      "Global round: 828 | Average loss: 0.5438959962791867\n",
      "Global Round: 829\n"
     ]
    },
    {
     "name": "stderr",
     "output_type": "stream",
     "text": [
      "Train Epoch: 829/1000. Iter:   18/  18. Data: 0.061s. alpha: 10. Batch: 0.111s. Loss: 0.5318.: 100%|█| 18/18 [00:01<00:00,\n"
     ]
    },
    {
     "name": "stdout",
     "output_type": "stream",
     "text": [
      "Global round: 829 | Average loss: 0.5507282382912106\n",
      "Global Round: 830\n"
     ]
    },
    {
     "name": "stderr",
     "output_type": "stream",
     "text": [
      "Train Epoch: 830/1000. Iter:   11/  18. Data: 0.069s. alpha: 10. Batch: 0.121s. Loss: 0.5305.:  61%|▌| 11/18 [00:01<00:00,"
     ]
    },
    {
     "name": "stdout",
     "output_type": "stream",
     "text": [
      "epoch 830 similarity : [0.21297302842140198, 0.22512182593345642, 0.2203112095594406, 0.21496765315532684, 0.2163757085800171]\n"
     ]
    },
    {
     "name": "stderr",
     "output_type": "stream",
     "text": [
      "Train Epoch: 830/1000. Iter:   18/  18. Data: 0.064s. alpha: 10. Batch: 0.118s. Loss: 0.5622.: 100%|█| 18/18 [00:02<00:00,\n"
     ]
    },
    {
     "name": "stdout",
     "output_type": "stream",
     "text": [
      "Global round: 830 | Average loss: 0.5459109842777252\n",
      "Global Round: 831\n"
     ]
    },
    {
     "name": "stderr",
     "output_type": "stream",
     "text": [
      "Train Epoch: 831/1000. Iter:   18/  18. Data: 0.060s. alpha: 10. Batch: 0.109s. Loss: 0.5556.: 100%|█| 18/18 [00:01<00:00,\n"
     ]
    },
    {
     "name": "stdout",
     "output_type": "stream",
     "text": [
      "Global round: 831 | Average loss: 0.5497164958053165\n",
      "Global Round: 832\n"
     ]
    },
    {
     "name": "stderr",
     "output_type": "stream",
     "text": [
      "Train Epoch: 832/1000. Iter:   18/  18. Data: 0.059s. alpha: 10. Batch: 0.109s. Loss: 0.5670.: 100%|█| 18/18 [00:01<00:00,\n"
     ]
    },
    {
     "name": "stdout",
     "output_type": "stream",
     "text": [
      "Global round: 832 | Average loss: 0.5465116633309258\n",
      "Global Round: 833\n"
     ]
    },
    {
     "name": "stderr",
     "output_type": "stream",
     "text": [
      "Train Epoch: 833/1000. Iter:   18/  18. Data: 0.060s. alpha: 10. Batch: 0.108s. Loss: 0.5822.: 100%|█| 18/18 [00:01<00:00,\n"
     ]
    },
    {
     "name": "stdout",
     "output_type": "stream",
     "text": [
      "Global round: 833 | Average loss: 0.5463658074537913\n",
      "Global Round: 834\n"
     ]
    },
    {
     "name": "stderr",
     "output_type": "stream",
     "text": [
      "Train Epoch: 834/1000. Iter:   18/  18. Data: 0.059s. alpha: 10. Batch: 0.108s. Loss: 0.5602.: 100%|█| 18/18 [00:01<00:00,\n"
     ]
    },
    {
     "name": "stdout",
     "output_type": "stream",
     "text": [
      "Global round: 834 | Average loss: 0.5441765288511912\n",
      "Global Round: 835\n"
     ]
    },
    {
     "name": "stderr",
     "output_type": "stream",
     "text": [
      "Train Epoch: 835/1000. Iter:   11/  18. Data: 0.066s. alpha: 10. Batch: 0.118s. Loss: 0.5504.:  61%|▌| 11/18 [00:01<00:00,"
     ]
    },
    {
     "name": "stdout",
     "output_type": "stream",
     "text": [
      "epoch 835 similarity : [0.16279901564121246, 0.16552574932575226, 0.15931253135204315, 0.16781026124954224, 0.15627463161945343]\n"
     ]
    },
    {
     "name": "stderr",
     "output_type": "stream",
     "text": [
      "Train Epoch: 835/1000. Iter:   18/  18. Data: 0.063s. alpha: 10. Batch: 0.113s. Loss: 0.5586.: 100%|█| 18/18 [00:02<00:00,\n"
     ]
    },
    {
     "name": "stdout",
     "output_type": "stream",
     "text": [
      "Global round: 835 | Average loss: 0.5458671152591705\n",
      "Global Round: 836\n"
     ]
    },
    {
     "name": "stderr",
     "output_type": "stream",
     "text": [
      "Train Epoch: 836/1000. Iter:   18/  18. Data: 0.064s. alpha: 10. Batch: 0.114s. Loss: 0.5555.: 100%|█| 18/18 [00:02<00:00,\n"
     ]
    },
    {
     "name": "stdout",
     "output_type": "stream",
     "text": [
      "Global round: 836 | Average loss: 0.5469461613231235\n",
      "Global Round: 837\n"
     ]
    },
    {
     "name": "stderr",
     "output_type": "stream",
     "text": [
      "Train Epoch: 837/1000. Iter:   18/  18. Data: 0.058s. alpha: 10. Batch: 0.109s. Loss: 0.5492.: 100%|█| 18/18 [00:01<00:00,\n"
     ]
    },
    {
     "name": "stdout",
     "output_type": "stream",
     "text": [
      "Global round: 837 | Average loss: 0.5431626836458842\n",
      "Global Round: 838\n"
     ]
    },
    {
     "name": "stderr",
     "output_type": "stream",
     "text": [
      "Train Epoch: 838/1000. Iter:   18/  18. Data: 0.060s. alpha: 10. Batch: 0.110s. Loss: 0.5545.: 100%|█| 18/18 [00:01<00:00,\n"
     ]
    },
    {
     "name": "stdout",
     "output_type": "stream",
     "text": [
      "Global round: 838 | Average loss: 0.5452415645122528\n",
      "Global Round: 839\n"
     ]
    },
    {
     "name": "stderr",
     "output_type": "stream",
     "text": [
      "Train Epoch: 839/1000. Iter:   18/  18. Data: 0.059s. alpha: 10. Batch: 0.111s. Loss: 0.5585.: 100%|█| 18/18 [00:01<00:00,\n"
     ]
    },
    {
     "name": "stdout",
     "output_type": "stream",
     "text": [
      "Global round: 839 | Average loss: 0.5473831494649252\n",
      "Global Round: 840\n"
     ]
    },
    {
     "name": "stderr",
     "output_type": "stream",
     "text": [
      "Train Epoch: 840/1000. Iter:   11/  18. Data: 0.071s. alpha: 10. Batch: 0.119s. Loss: 0.5479.:  61%|▌| 11/18 [00:01<00:00,"
     ]
    },
    {
     "name": "stdout",
     "output_type": "stream",
     "text": [
      "epoch 840 similarity : [0.15416012704372406, 0.15281040966510773, 0.14608831703662872, 0.151296004652977, 0.14654968678951263]\n"
     ]
    },
    {
     "name": "stderr",
     "output_type": "stream",
     "text": [
      "Train Epoch: 840/1000. Iter:   18/  18. Data: 0.065s. alpha: 10. Batch: 0.114s. Loss: 0.5270.: 100%|█| 18/18 [00:02<00:00,\n"
     ]
    },
    {
     "name": "stdout",
     "output_type": "stream",
     "text": [
      "Global round: 840 | Average loss: 0.549364815155665\n",
      "Global Round: 841\n"
     ]
    },
    {
     "name": "stderr",
     "output_type": "stream",
     "text": [
      "Train Epoch: 841/1000. Iter:   18/  18. Data: 0.060s. alpha: 10. Batch: 0.112s. Loss: 0.5543.: 100%|█| 18/18 [00:01<00:00,\n"
     ]
    },
    {
     "name": "stdout",
     "output_type": "stream",
     "text": [
      "Global round: 841 | Average loss: 0.5478955937756432\n",
      "Global Round: 842\n"
     ]
    },
    {
     "name": "stderr",
     "output_type": "stream",
     "text": [
      "Train Epoch: 842/1000. Iter:   18/  18. Data: 0.065s. alpha: 10. Batch: 0.113s. Loss: 0.5608.: 100%|█| 18/18 [00:02<00:00,\n"
     ]
    },
    {
     "name": "stdout",
     "output_type": "stream",
     "text": [
      "Global round: 842 | Average loss: 0.5455749597814348\n",
      "Global Round: 843\n"
     ]
    },
    {
     "name": "stderr",
     "output_type": "stream",
     "text": [
      "Train Epoch: 843/1000. Iter:   18/  18. Data: 0.059s. alpha: 10. Batch: 0.109s. Loss: 0.5701.: 100%|█| 18/18 [00:01<00:00,\n"
     ]
    },
    {
     "name": "stdout",
     "output_type": "stream",
     "text": [
      "Global round: 843 | Average loss: 0.5458420680628883\n",
      "Global Round: 844\n"
     ]
    },
    {
     "name": "stderr",
     "output_type": "stream",
     "text": [
      "Train Epoch: 844/1000. Iter:   18/  18. Data: 0.059s. alpha: 10. Batch: 0.110s. Loss: 0.5412.: 100%|█| 18/18 [00:01<00:00,\n"
     ]
    },
    {
     "name": "stdout",
     "output_type": "stream",
     "text": [
      "Global round: 844 | Average loss: 0.5458058185047574\n",
      "Global Round: 845\n"
     ]
    },
    {
     "name": "stderr",
     "output_type": "stream",
     "text": [
      "Train Epoch: 845/1000. Iter:   11/  18. Data: 0.070s. alpha: 10. Batch: 0.120s. Loss: 0.5462.:  61%|▌| 11/18 [00:01<00:01,"
     ]
    },
    {
     "name": "stdout",
     "output_type": "stream",
     "text": [
      "epoch 845 similarity : [0.1795417219400406, 0.17953279614448547, 0.18628692626953125, 0.16795974969863892, 0.18594999611377716]\n"
     ]
    },
    {
     "name": "stderr",
     "output_type": "stream",
     "text": [
      "Train Epoch: 845/1000. Iter:   18/  18. Data: 0.065s. alpha: 10. Batch: 0.114s. Loss: 0.5618.: 100%|█| 18/18 [00:02<00:00,\n"
     ]
    },
    {
     "name": "stdout",
     "output_type": "stream",
     "text": [
      "Global round: 845 | Average loss: 0.5489014387130737\n",
      "Global Round: 846\n"
     ]
    },
    {
     "name": "stderr",
     "output_type": "stream",
     "text": [
      "Train Epoch: 846/1000. Iter:   18/  18. Data: 0.059s. alpha: 10. Batch: 0.111s. Loss: 0.5446.: 100%|█| 18/18 [00:01<00:00,\n"
     ]
    },
    {
     "name": "stdout",
     "output_type": "stream",
     "text": [
      "Global round: 846 | Average loss: 0.5478046271536086\n",
      "Global Round: 847\n"
     ]
    },
    {
     "name": "stderr",
     "output_type": "stream",
     "text": [
      "Train Epoch: 847/1000. Iter:   18/  18. Data: 0.058s. alpha: 10. Batch: 0.110s. Loss: 0.5413.: 100%|█| 18/18 [00:01<00:00,\n"
     ]
    },
    {
     "name": "stdout",
     "output_type": "stream",
     "text": [
      "Global round: 847 | Average loss: 0.5449026955498589\n",
      "Global Round: 848\n"
     ]
    },
    {
     "name": "stderr",
     "output_type": "stream",
     "text": [
      "Train Epoch: 848/1000. Iter:   18/  18. Data: 0.062s. alpha: 10. Batch: 0.113s. Loss: 0.5417.: 100%|█| 18/18 [00:02<00:00,\n"
     ]
    },
    {
     "name": "stdout",
     "output_type": "stream",
     "text": [
      "Global round: 848 | Average loss: 0.5453187492158678\n",
      "Global Round: 849\n"
     ]
    },
    {
     "name": "stderr",
     "output_type": "stream",
     "text": [
      "Train Epoch: 849/1000. Iter:   18/  18. Data: 0.061s. alpha: 10. Batch: 0.110s. Loss: 0.5449.: 100%|█| 18/18 [00:01<00:00,\n"
     ]
    },
    {
     "name": "stdout",
     "output_type": "stream",
     "text": [
      "Global round: 849 | Average loss: 0.5446663565105863\n",
      "Global Round: 850\n"
     ]
    },
    {
     "name": "stderr",
     "output_type": "stream",
     "text": [
      "Train Epoch: 850/1000. Iter:   11/  18. Data: 0.071s. alpha: 10. Batch: 0.120s. Loss: 0.5593.:  61%|▌| 11/18 [00:01<00:01,"
     ]
    },
    {
     "name": "stdout",
     "output_type": "stream",
     "text": [
      "epoch 850 similarity : [0.13581395149230957, 0.14178971946239471, 0.15503598749637604, 0.14511217176914215, 0.1477397084236145]\n"
     ]
    },
    {
     "name": "stderr",
     "output_type": "stream",
     "text": [
      "Train Epoch: 850/1000. Iter:   18/  18. Data: 0.065s. alpha: 10. Batch: 0.114s. Loss: 0.5630.: 100%|█| 18/18 [00:02<00:00,\n"
     ]
    },
    {
     "name": "stdout",
     "output_type": "stream",
     "text": [
      "Global round: 850 | Average loss: 0.5450939999686347\n",
      "Global Round: 851\n"
     ]
    },
    {
     "name": "stderr",
     "output_type": "stream",
     "text": [
      "Train Epoch: 851/1000. Iter:   18/  18. Data: 0.061s. alpha: 10. Batch: 0.113s. Loss: 0.5620.: 100%|█| 18/18 [00:02<00:00,\n"
     ]
    },
    {
     "name": "stdout",
     "output_type": "stream",
     "text": [
      "Global round: 851 | Average loss: 0.5449998577435812\n",
      "Global Round: 852\n"
     ]
    },
    {
     "name": "stderr",
     "output_type": "stream",
     "text": [
      "Train Epoch: 852/1000. Iter:   18/  18. Data: 0.062s. alpha: 10. Batch: 0.113s. Loss: 0.5452.: 100%|█| 18/18 [00:02<00:00,\n"
     ]
    },
    {
     "name": "stdout",
     "output_type": "stream",
     "text": [
      "Global round: 852 | Average loss: 0.5465427339076996\n",
      "Global Round: 853\n"
     ]
    },
    {
     "name": "stderr",
     "output_type": "stream",
     "text": [
      "Train Epoch: 853/1000. Iter:   18/  18. Data: 0.060s. alpha: 10. Batch: 0.111s. Loss: 0.5416.: 100%|█| 18/18 [00:02<00:00,\n"
     ]
    },
    {
     "name": "stdout",
     "output_type": "stream",
     "text": [
      "Global round: 853 | Average loss: 0.5442485312620798\n",
      "Global Round: 854\n"
     ]
    },
    {
     "name": "stderr",
     "output_type": "stream",
     "text": [
      "Train Epoch: 854/1000. Iter:   18/  18. Data: 0.062s. alpha: 10. Batch: 0.115s. Loss: 0.5578.: 100%|█| 18/18 [00:02<00:00,\n"
     ]
    },
    {
     "name": "stdout",
     "output_type": "stream",
     "text": [
      "Global round: 854 | Average loss: 0.545605354838901\n",
      "Global Round: 855\n"
     ]
    },
    {
     "name": "stderr",
     "output_type": "stream",
     "text": [
      "Train Epoch: 855/1000. Iter:   11/  18. Data: 0.066s. alpha: 10. Batch: 0.116s. Loss: 0.5469.:  61%|▌| 11/18 [00:01<00:00,"
     ]
    },
    {
     "name": "stdout",
     "output_type": "stream",
     "text": [
      "epoch 855 similarity : [0.18614161014556885, 0.1891041249036789, 0.1948593258857727, 0.19015119969844818, 0.1850237399339676]\n"
     ]
    },
    {
     "name": "stderr",
     "output_type": "stream",
     "text": [
      "Train Epoch: 855/1000. Iter:   18/  18. Data: 0.065s. alpha: 10. Batch: 0.116s. Loss: 0.5384.: 100%|█| 18/18 [00:02<00:00,\n"
     ]
    },
    {
     "name": "stdout",
     "output_type": "stream",
     "text": [
      "Global round: 855 | Average loss: 0.5394720037778219\n",
      "Global Round: 856\n"
     ]
    },
    {
     "name": "stderr",
     "output_type": "stream",
     "text": [
      "Train Epoch: 856/1000. Iter:   18/  18. Data: 0.059s. alpha: 10. Batch: 0.111s. Loss: 0.5289.: 100%|█| 18/18 [00:01<00:00,\n"
     ]
    },
    {
     "name": "stdout",
     "output_type": "stream",
     "text": [
      "Global round: 856 | Average loss: 0.5429027279218038\n",
      "Global Round: 857\n"
     ]
    },
    {
     "name": "stderr",
     "output_type": "stream",
     "text": [
      "Train Epoch: 857/1000. Iter:   18/  18. Data: 0.061s. alpha: 10. Batch: 0.110s. Loss: 0.5576.: 100%|█| 18/18 [00:01<00:00,\n"
     ]
    },
    {
     "name": "stdout",
     "output_type": "stream",
     "text": [
      "Global round: 857 | Average loss: 0.544762005408605\n",
      "Global Round: 858\n"
     ]
    },
    {
     "name": "stderr",
     "output_type": "stream",
     "text": [
      "Train Epoch: 858/1000. Iter:   18/  18. Data: 0.059s. alpha: 10. Batch: 0.110s. Loss: 0.5341.: 100%|█| 18/18 [00:01<00:00,\n"
     ]
    },
    {
     "name": "stdout",
     "output_type": "stream",
     "text": [
      "Global round: 858 | Average loss: 0.5440608792834811\n",
      "Global Round: 859\n"
     ]
    },
    {
     "name": "stderr",
     "output_type": "stream",
     "text": [
      "Train Epoch: 859/1000. Iter:   18/  18. Data: 0.061s. alpha: 10. Batch: 0.110s. Loss: 0.5505.: 100%|█| 18/18 [00:01<00:00,\n"
     ]
    },
    {
     "name": "stdout",
     "output_type": "stream",
     "text": [
      "Global round: 859 | Average loss: 0.539114965332879\n",
      "Global Round: 860\n"
     ]
    },
    {
     "name": "stderr",
     "output_type": "stream",
     "text": [
      "Train Epoch: 860/1000. Iter:   11/  18. Data: 0.069s. alpha: 10. Batch: 0.120s. Loss: 0.5422.:  61%|▌| 11/18 [00:01<00:00,"
     ]
    },
    {
     "name": "stdout",
     "output_type": "stream",
     "text": [
      "epoch 860 similarity : [0.1636538952589035, 0.17957767844200134, 0.1713755577802658, 0.17170076072216034, 0.16576559841632843]\n"
     ]
    },
    {
     "name": "stderr",
     "output_type": "stream",
     "text": [
      "Train Epoch: 860/1000. Iter:   18/  18. Data: 0.067s. alpha: 10. Batch: 0.117s. Loss: 0.5442.: 100%|█| 18/18 [00:02<00:00,\n"
     ]
    },
    {
     "name": "stdout",
     "output_type": "stream",
     "text": [
      "Global round: 860 | Average loss: 0.5410794383949704\n",
      "Global Round: 861\n"
     ]
    },
    {
     "name": "stderr",
     "output_type": "stream",
     "text": [
      "Train Epoch: 861/1000. Iter:   18/  18. Data: 0.060s. alpha: 10. Batch: 0.109s. Loss: 0.5443.: 100%|█| 18/18 [00:01<00:00,\n"
     ]
    },
    {
     "name": "stdout",
     "output_type": "stream",
     "text": [
      "Global round: 861 | Average loss: 0.5452794399526384\n",
      "Global Round: 862\n"
     ]
    },
    {
     "name": "stderr",
     "output_type": "stream",
     "text": [
      "Train Epoch: 862/1000. Iter:   18/  18. Data: 0.060s. alpha: 10. Batch: 0.111s. Loss: 0.5481.: 100%|█| 18/18 [00:01<00:00,\n"
     ]
    },
    {
     "name": "stdout",
     "output_type": "stream",
     "text": [
      "Global round: 862 | Average loss: 0.5459779567188687\n",
      "Global Round: 863\n"
     ]
    },
    {
     "name": "stderr",
     "output_type": "stream",
     "text": [
      "Train Epoch: 863/1000. Iter:   18/  18. Data: 0.058s. alpha: 10. Batch: 0.110s. Loss: 0.5628.: 100%|█| 18/18 [00:01<00:00,\n"
     ]
    },
    {
     "name": "stdout",
     "output_type": "stream",
     "text": [
      "Global round: 863 | Average loss: 0.5401381386650933\n",
      "Global Round: 864\n"
     ]
    },
    {
     "name": "stderr",
     "output_type": "stream",
     "text": [
      "Train Epoch: 864/1000. Iter:   18/  18. Data: 0.061s. alpha: 10. Batch: 0.110s. Loss: 0.5568.: 100%|█| 18/18 [00:01<00:00,\n"
     ]
    },
    {
     "name": "stdout",
     "output_type": "stream",
     "text": [
      "Global round: 864 | Average loss: 0.5387671589851379\n",
      "Global Round: 865\n"
     ]
    },
    {
     "name": "stderr",
     "output_type": "stream",
     "text": [
      "Train Epoch: 865/1000. Iter:   11/  18. Data: 0.068s. alpha: 10. Batch: 0.120s. Loss: 0.5165.:  61%|▌| 11/18 [00:01<00:00,"
     ]
    },
    {
     "name": "stdout",
     "output_type": "stream",
     "text": [
      "epoch 865 similarity : [0.1643797606229782, 0.17396293580532074, 0.1729326993227005, 0.1647612303495407, 0.1608932465314865]\n"
     ]
    },
    {
     "name": "stderr",
     "output_type": "stream",
     "text": [
      "Train Epoch: 865/1000. Iter:   18/  18. Data: 0.064s. alpha: 10. Batch: 0.118s. Loss: 0.5431.: 100%|█| 18/18 [00:02<00:00,\n"
     ]
    },
    {
     "name": "stdout",
     "output_type": "stream",
     "text": [
      "Global round: 865 | Average loss: 0.5401110384199355\n",
      "Global Round: 866\n"
     ]
    },
    {
     "name": "stderr",
     "output_type": "stream",
     "text": [
      "Train Epoch: 866/1000. Iter:   18/  18. Data: 0.061s. alpha: 10. Batch: 0.111s. Loss: 0.5348.: 100%|█| 18/18 [00:01<00:00,\n"
     ]
    },
    {
     "name": "stdout",
     "output_type": "stream",
     "text": [
      "Global round: 866 | Average loss: 0.5412597821818458\n",
      "Global Round: 867\n"
     ]
    },
    {
     "name": "stderr",
     "output_type": "stream",
     "text": [
      "Train Epoch: 867/1000. Iter:   18/  18. Data: 0.059s. alpha: 10. Batch: 0.109s. Loss: 0.5366.: 100%|█| 18/18 [00:01<00:00,\n"
     ]
    },
    {
     "name": "stdout",
     "output_type": "stream",
     "text": [
      "Global round: 867 | Average loss: 0.5402261780367957\n",
      "Global Round: 868\n"
     ]
    },
    {
     "name": "stderr",
     "output_type": "stream",
     "text": [
      "Train Epoch: 868/1000. Iter:   18/  18. Data: 0.060s. alpha: 10. Batch: 0.107s. Loss: 0.5420.: 100%|█| 18/18 [00:01<00:00,\n"
     ]
    },
    {
     "name": "stdout",
     "output_type": "stream",
     "text": [
      "Global round: 868 | Average loss: 0.5447214643160502\n",
      "Global Round: 869\n"
     ]
    },
    {
     "name": "stderr",
     "output_type": "stream",
     "text": [
      "Train Epoch: 869/1000. Iter:   18/  18. Data: 0.059s. alpha: 10. Batch: 0.109s. Loss: 0.5479.: 100%|█| 18/18 [00:01<00:00,\n"
     ]
    },
    {
     "name": "stdout",
     "output_type": "stream",
     "text": [
      "Global round: 869 | Average loss: 0.5395723415745629\n",
      "Global Round: 870\n"
     ]
    },
    {
     "name": "stderr",
     "output_type": "stream",
     "text": [
      "Train Epoch: 870/1000. Iter:   11/  18. Data: 0.065s. alpha: 10. Batch: 0.117s. Loss: 0.5398.:  61%|▌| 11/18 [00:01<00:00,"
     ]
    },
    {
     "name": "stdout",
     "output_type": "stream",
     "text": [
      "epoch 870 similarity : [0.18793164193630219, 0.18183325231075287, 0.18750546872615814, 0.17470107972621918, 0.17631149291992188]\n"
     ]
    },
    {
     "name": "stderr",
     "output_type": "stream",
     "text": [
      "Train Epoch: 870/1000. Iter:   18/  18. Data: 0.061s. alpha: 10. Batch: 0.111s. Loss: 0.5479.: 100%|█| 18/18 [00:02<00:00,\n"
     ]
    },
    {
     "name": "stdout",
     "output_type": "stream",
     "text": [
      "Global round: 870 | Average loss: 0.5419333179791769\n",
      "Global Round: 871\n"
     ]
    },
    {
     "name": "stderr",
     "output_type": "stream",
     "text": [
      "Train Epoch: 871/1000. Iter:   18/  18. Data: 0.063s. alpha: 10. Batch: 0.113s. Loss: 0.5434.: 100%|█| 18/18 [00:02<00:00,\n"
     ]
    },
    {
     "name": "stdout",
     "output_type": "stream",
     "text": [
      "Global round: 871 | Average loss: 0.53829292456309\n",
      "Global Round: 872\n"
     ]
    },
    {
     "name": "stderr",
     "output_type": "stream",
     "text": [
      "Train Epoch: 872/1000. Iter:   18/  18. Data: 0.058s. alpha: 10. Batch: 0.109s. Loss: 0.5205.: 100%|█| 18/18 [00:01<00:00,\n"
     ]
    },
    {
     "name": "stdout",
     "output_type": "stream",
     "text": [
      "Global round: 872 | Average loss: 0.5380693740314908\n",
      "Global Round: 873\n"
     ]
    },
    {
     "name": "stderr",
     "output_type": "stream",
     "text": [
      "Train Epoch: 873/1000. Iter:   18/  18. Data: 0.060s. alpha: 10. Batch: 0.109s. Loss: 0.5376.: 100%|█| 18/18 [00:01<00:00,\n"
     ]
    },
    {
     "name": "stdout",
     "output_type": "stream",
     "text": [
      "Global round: 873 | Average loss: 0.5438158578342862\n",
      "Global Round: 874\n"
     ]
    },
    {
     "name": "stderr",
     "output_type": "stream",
     "text": [
      "Train Epoch: 874/1000. Iter:   18/  18. Data: 0.059s. alpha: 10. Batch: 0.109s. Loss: 0.5413.: 100%|█| 18/18 [00:01<00:00,\n"
     ]
    },
    {
     "name": "stdout",
     "output_type": "stream",
     "text": [
      "Global round: 874 | Average loss: 0.5386397242546082\n",
      "Global Round: 875\n"
     ]
    },
    {
     "name": "stderr",
     "output_type": "stream",
     "text": [
      "Train Epoch: 875/1000. Iter:   11/  18. Data: 0.072s. alpha: 10. Batch: 0.121s. Loss: 0.5274.:  61%|▌| 11/18 [00:01<00:00,"
     ]
    },
    {
     "name": "stdout",
     "output_type": "stream",
     "text": [
      "epoch 875 similarity : [0.19648776948451996, 0.18986165523529053, 0.18754349648952484, 0.1823824793100357, 0.18031078577041626]\n"
     ]
    },
    {
     "name": "stderr",
     "output_type": "stream",
     "text": [
      "Train Epoch: 875/1000. Iter:   18/  18. Data: 0.066s. alpha: 10. Batch: 0.115s. Loss: 0.5319.: 100%|█| 18/18 [00:02<00:00,\n"
     ]
    },
    {
     "name": "stdout",
     "output_type": "stream",
     "text": [
      "Global round: 875 | Average loss: 0.5366674661636353\n",
      "Global Round: 876\n"
     ]
    },
    {
     "name": "stderr",
     "output_type": "stream",
     "text": [
      "Train Epoch: 876/1000. Iter:   18/  18. Data: 0.061s. alpha: 10. Batch: 0.112s. Loss: 0.5425.: 100%|█| 18/18 [00:01<00:00,\n"
     ]
    },
    {
     "name": "stdout",
     "output_type": "stream",
     "text": [
      "Global round: 876 | Average loss: 0.5399579041534\n",
      "Global Round: 877\n"
     ]
    },
    {
     "name": "stderr",
     "output_type": "stream",
     "text": [
      "Train Epoch: 877/1000. Iter:   18/  18. Data: 0.065s. alpha: 10. Batch: 0.113s. Loss: 0.5262.: 100%|█| 18/18 [00:02<00:00,\n"
     ]
    },
    {
     "name": "stdout",
     "output_type": "stream",
     "text": [
      "Global round: 877 | Average loss: 0.5351182354821099\n",
      "Global Round: 878\n"
     ]
    },
    {
     "name": "stderr",
     "output_type": "stream",
     "text": [
      "Train Epoch: 878/1000. Iter:   18/  18. Data: 0.060s. alpha: 10. Batch: 0.111s. Loss: 0.5405.: 100%|█| 18/18 [00:01<00:00,\n"
     ]
    },
    {
     "name": "stdout",
     "output_type": "stream",
     "text": [
      "Global round: 878 | Average loss: 0.536239461766349\n",
      "Global Round: 879\n"
     ]
    },
    {
     "name": "stderr",
     "output_type": "stream",
     "text": [
      "Train Epoch: 879/1000. Iter:   18/  18. Data: 0.058s. alpha: 10. Batch: 0.110s. Loss: 0.5258.: 100%|█| 18/18 [00:01<00:00,\n"
     ]
    },
    {
     "name": "stdout",
     "output_type": "stream",
     "text": [
      "Global round: 879 | Average loss: 0.5386381612883674\n",
      "Global Round: 880\n"
     ]
    },
    {
     "name": "stderr",
     "output_type": "stream",
     "text": [
      "Train Epoch: 880/1000. Iter:   11/  18. Data: 0.070s. alpha: 10. Batch: 0.120s. Loss: 0.5394.:  61%|▌| 11/18 [00:01<00:01,"
     ]
    },
    {
     "name": "stdout",
     "output_type": "stream",
     "text": [
      "epoch 880 similarity : [0.2689906358718872, 0.2731075882911682, 0.2675764262676239, 0.2567145526409149, 0.25928279757499695]\n"
     ]
    },
    {
     "name": "stderr",
     "output_type": "stream",
     "text": [
      "Train Epoch: 880/1000. Iter:   18/  18. Data: 0.065s. alpha: 10. Batch: 0.114s. Loss: 0.5197.: 100%|█| 18/18 [00:02<00:00,\n"
     ]
    },
    {
     "name": "stdout",
     "output_type": "stream",
     "text": [
      "Global round: 880 | Average loss: 0.5373365978399912\n",
      "Global Round: 881\n"
     ]
    },
    {
     "name": "stderr",
     "output_type": "stream",
     "text": [
      "Train Epoch: 881/1000. Iter:   18/  18. Data: 0.060s. alpha: 10. Batch: 0.112s. Loss: 0.5387.: 100%|█| 18/18 [00:02<00:00,\n"
     ]
    },
    {
     "name": "stdout",
     "output_type": "stream",
     "text": [
      "Global round: 881 | Average loss: 0.5393724242846171\n",
      "Global Round: 882\n"
     ]
    },
    {
     "name": "stderr",
     "output_type": "stream",
     "text": [
      "Train Epoch: 882/1000. Iter:   18/  18. Data: 0.060s. alpha: 10. Batch: 0.112s. Loss: 0.5464.: 100%|█| 18/18 [00:02<00:00,\n"
     ]
    },
    {
     "name": "stdout",
     "output_type": "stream",
     "text": [
      "Global round: 882 | Average loss: 0.5404065450032552\n",
      "Global Round: 883\n"
     ]
    },
    {
     "name": "stderr",
     "output_type": "stream",
     "text": [
      "Train Epoch: 883/1000. Iter:   18/  18. Data: 0.062s. alpha: 10. Batch: 0.113s. Loss: 0.5386.: 100%|█| 18/18 [00:02<00:00,\n"
     ]
    },
    {
     "name": "stdout",
     "output_type": "stream",
     "text": [
      "Global round: 883 | Average loss: 0.5411441061231825\n",
      "Global Round: 884\n"
     ]
    },
    {
     "name": "stderr",
     "output_type": "stream",
     "text": [
      "Train Epoch: 884/1000. Iter:   18/  18. Data: 0.060s. alpha: 10. Batch: 0.108s. Loss: 0.5272.: 100%|█| 18/18 [00:01<00:00,\n"
     ]
    },
    {
     "name": "stdout",
     "output_type": "stream",
     "text": [
      "Global round: 884 | Average loss: 0.5368576016690996\n",
      "Global Round: 885\n"
     ]
    },
    {
     "name": "stderr",
     "output_type": "stream",
     "text": [
      "Train Epoch: 885/1000. Iter:   11/  18. Data: 0.069s. alpha: 10. Batch: 0.118s. Loss: 0.5667.:  61%|▌| 11/18 [00:01<00:01,"
     ]
    },
    {
     "name": "stdout",
     "output_type": "stream",
     "text": [
      "epoch 885 similarity : [0.16501770913600922, 0.17691051959991455, 0.17865583300590515, 0.16888205707073212, 0.16853715479373932]\n"
     ]
    },
    {
     "name": "stderr",
     "output_type": "stream",
     "text": [
      "Train Epoch: 885/1000. Iter:   18/  18. Data: 0.064s. alpha: 10. Batch: 0.112s. Loss: 0.5354.: 100%|█| 18/18 [00:02<00:00,\n"
     ]
    },
    {
     "name": "stdout",
     "output_type": "stream",
     "text": [
      "Global round: 885 | Average loss: 0.542294399605857\n",
      "Global Round: 886\n"
     ]
    },
    {
     "name": "stderr",
     "output_type": "stream",
     "text": [
      "Train Epoch: 886/1000. Iter:   18/  18. Data: 0.059s. alpha: 10. Batch: 0.110s. Loss: 0.5476.: 100%|█| 18/18 [00:01<00:00,\n"
     ]
    },
    {
     "name": "stdout",
     "output_type": "stream",
     "text": [
      "Global round: 886 | Average loss: 0.5441049105591245\n",
      "Global Round: 887\n"
     ]
    },
    {
     "name": "stderr",
     "output_type": "stream",
     "text": [
      "Train Epoch: 887/1000. Iter:   18/  18. Data: 0.061s. alpha: 10. Batch: 0.110s. Loss: 0.5220.: 100%|█| 18/18 [00:01<00:00,\n"
     ]
    },
    {
     "name": "stdout",
     "output_type": "stream",
     "text": [
      "Global round: 887 | Average loss: 0.5392500923739539\n",
      "Global Round: 888\n"
     ]
    },
    {
     "name": "stderr",
     "output_type": "stream",
     "text": [
      "Train Epoch: 888/1000. Iter:   18/  18. Data: 0.059s. alpha: 10. Batch: 0.109s. Loss: 0.5373.: 100%|█| 18/18 [00:01<00:00,\n"
     ]
    },
    {
     "name": "stdout",
     "output_type": "stream",
     "text": [
      "Global round: 888 | Average loss: 0.5396971040301852\n",
      "Global Round: 889\n"
     ]
    },
    {
     "name": "stderr",
     "output_type": "stream",
     "text": [
      "Train Epoch: 889/1000. Iter:   18/  18. Data: 0.061s. alpha: 10. Batch: 0.112s. Loss: 0.5441.: 100%|█| 18/18 [00:02<00:00,\n"
     ]
    },
    {
     "name": "stdout",
     "output_type": "stream",
     "text": [
      "Global round: 889 | Average loss: 0.5380915734503005\n",
      "Global Round: 890\n"
     ]
    },
    {
     "name": "stderr",
     "output_type": "stream",
     "text": [
      "Train Epoch: 890/1000. Iter:   11/  18. Data: 0.066s. alpha: 10. Batch: 0.114s. Loss: 0.5315.:  61%|▌| 11/18 [00:01<00:00,"
     ]
    },
    {
     "name": "stdout",
     "output_type": "stream",
     "text": [
      "epoch 890 similarity : [0.1882495880126953, 0.20256119966506958, 0.20330172777175903, 0.19608601927757263, 0.2014840841293335]\n"
     ]
    },
    {
     "name": "stderr",
     "output_type": "stream",
     "text": [
      "Train Epoch: 890/1000. Iter:   18/  18. Data: 0.064s. alpha: 10. Batch: 0.113s. Loss: 0.5263.: 100%|█| 18/18 [00:02<00:00,\n"
     ]
    },
    {
     "name": "stdout",
     "output_type": "stream",
     "text": [
      "Global round: 890 | Average loss: 0.535559766822391\n",
      "Global Round: 891\n"
     ]
    },
    {
     "name": "stderr",
     "output_type": "stream",
     "text": [
      "Train Epoch: 891/1000. Iter:   18/  18. Data: 0.058s. alpha: 10. Batch: 0.108s. Loss: 0.5452.: 100%|█| 18/18 [00:01<00:00,\n"
     ]
    },
    {
     "name": "stdout",
     "output_type": "stream",
     "text": [
      "Global round: 891 | Average loss: 0.5408331520027585\n",
      "Global Round: 892\n"
     ]
    },
    {
     "name": "stderr",
     "output_type": "stream",
     "text": [
      "Train Epoch: 892/1000. Iter:   18/  18. Data: 0.060s. alpha: 10. Batch: 0.108s. Loss: 0.5482.: 100%|█| 18/18 [00:01<00:00,\n"
     ]
    },
    {
     "name": "stdout",
     "output_type": "stream",
     "text": [
      "Global round: 892 | Average loss: 0.5401948557959663\n",
      "Global Round: 893\n"
     ]
    },
    {
     "name": "stderr",
     "output_type": "stream",
     "text": [
      "Train Epoch: 893/1000. Iter:   18/  18. Data: 0.058s. alpha: 10. Batch: 0.108s. Loss: 0.5440.: 100%|█| 18/18 [00:01<00:00,\n"
     ]
    },
    {
     "name": "stdout",
     "output_type": "stream",
     "text": [
      "Global round: 893 | Average loss: 0.5360101295842065\n",
      "Global Round: 894\n"
     ]
    },
    {
     "name": "stderr",
     "output_type": "stream",
     "text": [
      "Train Epoch: 894/1000. Iter:   18/  18. Data: 0.060s. alpha: 10. Batch: 0.108s. Loss: 0.5482.: 100%|█| 18/18 [00:01<00:00,\n"
     ]
    },
    {
     "name": "stdout",
     "output_type": "stream",
     "text": [
      "Global round: 894 | Average loss: 0.5390629834598966\n",
      "Global Round: 895\n"
     ]
    },
    {
     "name": "stderr",
     "output_type": "stream",
     "text": [
      "Train Epoch: 895/1000. Iter:   11/  18. Data: 0.069s. alpha: 10. Batch: 0.119s. Loss: 0.5490.:  61%|▌| 11/18 [00:01<00:00,"
     ]
    },
    {
     "name": "stdout",
     "output_type": "stream",
     "text": [
      "epoch 895 similarity : [0.1735924780368805, 0.1794479489326477, 0.18214558064937592, 0.170228973031044, 0.17403772473335266]\n"
     ]
    },
    {
     "name": "stderr",
     "output_type": "stream",
     "text": [
      "Train Epoch: 895/1000. Iter:   18/  18. Data: 0.067s. alpha: 10. Batch: 0.117s. Loss: 0.5414.: 100%|█| 18/18 [00:02<00:00,\n"
     ]
    },
    {
     "name": "stdout",
     "output_type": "stream",
     "text": [
      "Global round: 895 | Average loss: 0.53919431898329\n",
      "Global Round: 896\n"
     ]
    },
    {
     "name": "stderr",
     "output_type": "stream",
     "text": [
      "Train Epoch: 896/1000. Iter:   18/  18. Data: 0.059s. alpha: 10. Batch: 0.110s. Loss: 0.5396.: 100%|█| 18/18 [00:01<00:00,\n"
     ]
    },
    {
     "name": "stdout",
     "output_type": "stream",
     "text": [
      "Global round: 896 | Average loss: 0.541327115562227\n",
      "Global Round: 897\n"
     ]
    },
    {
     "name": "stderr",
     "output_type": "stream",
     "text": [
      "Train Epoch: 897/1000. Iter:   18/  18. Data: 0.058s. alpha: 10. Batch: 0.107s. Loss: 0.5364.: 100%|█| 18/18 [00:01<00:00,\n"
     ]
    },
    {
     "name": "stdout",
     "output_type": "stream",
     "text": [
      "Global round: 897 | Average loss: 0.5369271139303843\n",
      "Global Round: 898\n"
     ]
    },
    {
     "name": "stderr",
     "output_type": "stream",
     "text": [
      "Train Epoch: 898/1000. Iter:   18/  18. Data: 0.057s. alpha: 10. Batch: 0.107s. Loss: 0.5569.: 100%|█| 18/18 [00:01<00:00,\n"
     ]
    },
    {
     "name": "stdout",
     "output_type": "stream",
     "text": [
      "Global round: 898 | Average loss: 0.5349737935596042\n",
      "Global Round: 899\n"
     ]
    },
    {
     "name": "stderr",
     "output_type": "stream",
     "text": [
      "Train Epoch: 899/1000. Iter:   18/  18. Data: 0.059s. alpha: 10. Batch: 0.107s. Loss: 0.5267.: 100%|█| 18/18 [00:01<00:00,\n"
     ]
    },
    {
     "name": "stdout",
     "output_type": "stream",
     "text": [
      "Global round: 899 | Average loss: 0.5388940870761871\n",
      "Global Round: 900\n"
     ]
    },
    {
     "name": "stderr",
     "output_type": "stream",
     "text": [
      "Train Epoch: 900/1000. Iter:   11/  18. Data: 0.067s. alpha: 10. Batch: 0.118s. Loss: 0.5503.:  61%|▌| 11/18 [00:01<00:00,"
     ]
    },
    {
     "name": "stdout",
     "output_type": "stream",
     "text": [
      "epoch 900 similarity : [0.14923320710659027, 0.15432438254356384, 0.15173198282718658, 0.15678727626800537, 0.14590203762054443]\n"
     ]
    },
    {
     "name": "stderr",
     "output_type": "stream",
     "text": [
      "Train Epoch: 900/1000. Iter:   18/  18. Data: 0.063s. alpha: 10. Batch: 0.116s. Loss: 0.5267.: 100%|█| 18/18 [00:02<00:00,\n"
     ]
    },
    {
     "name": "stdout",
     "output_type": "stream",
     "text": [
      "Global round: 900 | Average loss: 0.5362142788039314\n",
      "Global Round: 901\n"
     ]
    },
    {
     "name": "stderr",
     "output_type": "stream",
     "text": [
      "Train Epoch: 901/1000. Iter:   18/  18. Data: 0.060s. alpha: 10. Batch: 0.108s. Loss: 0.5464.: 100%|█| 18/18 [00:01<00:00,\n"
     ]
    },
    {
     "name": "stdout",
     "output_type": "stream",
     "text": [
      "Global round: 901 | Average loss: 0.5360432234075334\n",
      "Global Round: 902\n"
     ]
    },
    {
     "name": "stderr",
     "output_type": "stream",
     "text": [
      "Train Epoch: 902/1000. Iter:   18/  18. Data: 0.058s. alpha: 10. Batch: 0.108s. Loss: 0.5320.: 100%|█| 18/18 [00:01<00:00,\n"
     ]
    },
    {
     "name": "stdout",
     "output_type": "stream",
     "text": [
      "Global round: 902 | Average loss: 0.5342802140447829\n",
      "Global Round: 903\n"
     ]
    },
    {
     "name": "stderr",
     "output_type": "stream",
     "text": [
      "Train Epoch: 903/1000. Iter:   18/  18. Data: 0.061s. alpha: 10. Batch: 0.108s. Loss: 0.5600.: 100%|█| 18/18 [00:01<00:00,\n"
     ]
    },
    {
     "name": "stdout",
     "output_type": "stream",
     "text": [
      "Global round: 903 | Average loss: 0.534509688615799\n",
      "Global Round: 904\n"
     ]
    },
    {
     "name": "stderr",
     "output_type": "stream",
     "text": [
      "Train Epoch: 904/1000. Iter:   18/  18. Data: 0.059s. alpha: 10. Batch: 0.107s. Loss: 0.5242.: 100%|█| 18/18 [00:01<00:00,\n"
     ]
    },
    {
     "name": "stdout",
     "output_type": "stream",
     "text": [
      "Global round: 904 | Average loss: 0.5368609925111135\n",
      "Global Round: 905\n"
     ]
    },
    {
     "name": "stderr",
     "output_type": "stream",
     "text": [
      "Train Epoch: 905/1000. Iter:   11/  18. Data: 0.066s. alpha: 10. Batch: 0.118s. Loss: 0.5047.:  61%|▌| 11/18 [00:01<00:00,"
     ]
    },
    {
     "name": "stdout",
     "output_type": "stream",
     "text": [
      "epoch 905 similarity : [0.2239690124988556, 0.21883951127529144, 0.22253617644309998, 0.22897708415985107, 0.21205726265907288]\n"
     ]
    },
    {
     "name": "stderr",
     "output_type": "stream",
     "text": [
      "Train Epoch: 905/1000. Iter:   18/  18. Data: 0.063s. alpha: 10. Batch: 0.113s. Loss: 0.5150.: 100%|█| 18/18 [00:02<00:00,\n"
     ]
    },
    {
     "name": "stdout",
     "output_type": "stream",
     "text": [
      "Global round: 905 | Average loss: 0.5355843239360385\n",
      "Global Round: 906\n"
     ]
    },
    {
     "name": "stderr",
     "output_type": "stream",
     "text": [
      "Train Epoch: 906/1000. Iter:   18/  18. Data: 0.064s. alpha: 10. Batch: 0.113s. Loss: 0.5336.: 100%|█| 18/18 [00:02<00:00,\n"
     ]
    },
    {
     "name": "stdout",
     "output_type": "stream",
     "text": [
      "Global round: 906 | Average loss: 0.535821838511361\n",
      "Global Round: 907\n"
     ]
    },
    {
     "name": "stderr",
     "output_type": "stream",
     "text": [
      "Train Epoch: 907/1000. Iter:   18/  18. Data: 0.058s. alpha: 10. Batch: 0.108s. Loss: 0.5435.: 100%|█| 18/18 [00:01<00:00,\n"
     ]
    },
    {
     "name": "stdout",
     "output_type": "stream",
     "text": [
      "Global round: 907 | Average loss: 0.532355977429284\n",
      "Global Round: 908\n"
     ]
    },
    {
     "name": "stderr",
     "output_type": "stream",
     "text": [
      "Train Epoch: 908/1000. Iter:   18/  18. Data: 0.060s. alpha: 10. Batch: 0.108s. Loss: 0.5354.: 100%|█| 18/18 [00:01<00:00,\n"
     ]
    },
    {
     "name": "stdout",
     "output_type": "stream",
     "text": [
      "Global round: 908 | Average loss: 0.5337921844588386\n",
      "Global Round: 909\n"
     ]
    },
    {
     "name": "stderr",
     "output_type": "stream",
     "text": [
      "Train Epoch: 909/1000. Iter:   18/  18. Data: 0.058s. alpha: 10. Batch: 0.108s. Loss: 0.5285.: 100%|█| 18/18 [00:01<00:00,\n"
     ]
    },
    {
     "name": "stdout",
     "output_type": "stream",
     "text": [
      "Global round: 909 | Average loss: 0.5358235637346903\n",
      "Global Round: 910\n"
     ]
    },
    {
     "name": "stderr",
     "output_type": "stream",
     "text": [
      "Train Epoch: 910/1000. Iter:   11/  18. Data: 0.072s. alpha: 10. Batch: 0.120s. Loss: 0.5358.:  61%|▌| 11/18 [00:01<00:00,"
     ]
    },
    {
     "name": "stdout",
     "output_type": "stream",
     "text": [
      "epoch 910 similarity : [0.22979137301445007, 0.23087844252586365, 0.24311517179012299, 0.23598234355449677, 0.21878351271152496]\n"
     ]
    },
    {
     "name": "stderr",
     "output_type": "stream",
     "text": [
      "Train Epoch: 910/1000. Iter:   18/  18. Data: 0.066s. alpha: 10. Batch: 0.115s. Loss: 0.5082.: 100%|█| 18/18 [00:02<00:00,\n"
     ]
    },
    {
     "name": "stdout",
     "output_type": "stream",
     "text": [
      "Global round: 910 | Average loss: 0.5341054134898715\n",
      "Global Round: 911\n"
     ]
    },
    {
     "name": "stderr",
     "output_type": "stream",
     "text": [
      "Train Epoch: 911/1000. Iter:   18/  18. Data: 0.060s. alpha: 10. Batch: 0.112s. Loss: 0.5301.: 100%|█| 18/18 [00:01<00:00,\n"
     ]
    },
    {
     "name": "stdout",
     "output_type": "stream",
     "text": [
      "Global round: 911 | Average loss: 0.5348575181431241\n",
      "Global Round: 912\n"
     ]
    },
    {
     "name": "stderr",
     "output_type": "stream",
     "text": [
      "Train Epoch: 912/1000. Iter:   18/  18. Data: 0.065s. alpha: 10. Batch: 0.114s. Loss: 0.5380.: 100%|█| 18/18 [00:02<00:00,\n"
     ]
    },
    {
     "name": "stdout",
     "output_type": "stream",
     "text": [
      "Global round: 912 | Average loss: 0.5341323216756185\n",
      "Global Round: 913\n"
     ]
    },
    {
     "name": "stderr",
     "output_type": "stream",
     "text": [
      "Train Epoch: 913/1000. Iter:   18/  18. Data: 0.060s. alpha: 10. Batch: 0.110s. Loss: 0.5264.: 100%|█| 18/18 [00:01<00:00,\n"
     ]
    },
    {
     "name": "stdout",
     "output_type": "stream",
     "text": [
      "Global round: 913 | Average loss: 0.5344918701383803\n",
      "Global Round: 914\n"
     ]
    },
    {
     "name": "stderr",
     "output_type": "stream",
     "text": [
      "Train Epoch: 914/1000. Iter:   18/  18. Data: 0.058s. alpha: 10. Batch: 0.110s. Loss: 0.5247.: 100%|█| 18/18 [00:01<00:00,\n"
     ]
    },
    {
     "name": "stdout",
     "output_type": "stream",
     "text": [
      "Global round: 914 | Average loss: 0.5317923989560869\n",
      "Global Round: 915\n"
     ]
    },
    {
     "name": "stderr",
     "output_type": "stream",
     "text": [
      "Train Epoch: 915/1000. Iter:   11/  18. Data: 0.070s. alpha: 10. Batch: 0.119s. Loss: 0.5265.:  61%|▌| 11/18 [00:01<00:01,"
     ]
    },
    {
     "name": "stdout",
     "output_type": "stream",
     "text": [
      "epoch 915 similarity : [0.1738535761833191, 0.17884133756160736, 0.17592398822307587, 0.17429502308368683, 0.17801232635974884]\n"
     ]
    },
    {
     "name": "stderr",
     "output_type": "stream",
     "text": [
      "Train Epoch: 915/1000. Iter:   18/  18. Data: 0.065s. alpha: 10. Batch: 0.114s. Loss: 0.5686.: 100%|█| 18/18 [00:02<00:00,\n"
     ]
    },
    {
     "name": "stdout",
     "output_type": "stream",
     "text": [
      "Global round: 915 | Average loss: 0.5330040786001418\n",
      "Global Round: 916\n"
     ]
    },
    {
     "name": "stderr",
     "output_type": "stream",
     "text": [
      "Train Epoch: 916/1000. Iter:   18/  18. Data: 0.059s. alpha: 10. Batch: 0.110s. Loss: 0.5309.: 100%|█| 18/18 [00:01<00:00,\n"
     ]
    },
    {
     "name": "stdout",
     "output_type": "stream",
     "text": [
      "Global round: 916 | Average loss: 0.5350080728530884\n",
      "Global Round: 917\n"
     ]
    },
    {
     "name": "stderr",
     "output_type": "stream",
     "text": [
      "Train Epoch: 917/1000. Iter:   18/  18. Data: 0.058s. alpha: 10. Batch: 0.110s. Loss: 0.5327.: 100%|█| 18/18 [00:01<00:00,\n"
     ]
    },
    {
     "name": "stdout",
     "output_type": "stream",
     "text": [
      "Global round: 917 | Average loss: 0.5323815676901076\n",
      "Global Round: 918\n"
     ]
    },
    {
     "name": "stderr",
     "output_type": "stream",
     "text": [
      "Train Epoch: 918/1000. Iter:   18/  18. Data: 0.062s. alpha: 10. Batch: 0.113s. Loss: 0.5305.: 100%|█| 18/18 [00:02<00:00,\n"
     ]
    },
    {
     "name": "stdout",
     "output_type": "stream",
     "text": [
      "Global round: 918 | Average loss: 0.5367470747894711\n",
      "Global Round: 919\n"
     ]
    },
    {
     "name": "stderr",
     "output_type": "stream",
     "text": [
      "Train Epoch: 919/1000. Iter:   18/  18. Data: 0.061s. alpha: 10. Batch: 0.109s. Loss: 0.5325.: 100%|█| 18/18 [00:01<00:00,\n"
     ]
    },
    {
     "name": "stdout",
     "output_type": "stream",
     "text": [
      "Global round: 919 | Average loss: 0.5358228716585371\n",
      "Global Round: 920\n"
     ]
    },
    {
     "name": "stderr",
     "output_type": "stream",
     "text": [
      "Train Epoch: 920/1000. Iter:   11/  18. Data: 0.070s. alpha: 10. Batch: 0.120s. Loss: 0.5102.:  61%|▌| 11/18 [00:01<00:01,"
     ]
    },
    {
     "name": "stdout",
     "output_type": "stream",
     "text": [
      "epoch 920 similarity : [0.22162654995918274, 0.23474398255348206, 0.22696517407894135, 0.2213035672903061, 0.23556867241859436]\n"
     ]
    },
    {
     "name": "stderr",
     "output_type": "stream",
     "text": [
      "Train Epoch: 920/1000. Iter:   18/  18. Data: 0.065s. alpha: 10. Batch: 0.114s. Loss: 0.5534.: 100%|█| 18/18 [00:02<00:00,\n"
     ]
    },
    {
     "name": "stdout",
     "output_type": "stream",
     "text": [
      "Global round: 920 | Average loss: 0.5376047492027283\n",
      "Global Round: 921\n"
     ]
    },
    {
     "name": "stderr",
     "output_type": "stream",
     "text": [
      "Train Epoch: 921/1000. Iter:   18/  18. Data: 0.060s. alpha: 10. Batch: 0.110s. Loss: 0.5537.: 100%|█| 18/18 [00:01<00:00,\n"
     ]
    },
    {
     "name": "stdout",
     "output_type": "stream",
     "text": [
      "Global round: 921 | Average loss: 0.5343809160921309\n",
      "Global Round: 922\n"
     ]
    },
    {
     "name": "stderr",
     "output_type": "stream",
     "text": [
      "Train Epoch: 922/1000. Iter:   18/  18. Data: 0.061s. alpha: 10. Batch: 0.110s. Loss: 0.5310.: 100%|█| 18/18 [00:01<00:00,\n"
     ]
    },
    {
     "name": "stdout",
     "output_type": "stream",
     "text": [
      "Global round: 922 | Average loss: 0.5343431896633573\n",
      "Global Round: 923\n"
     ]
    },
    {
     "name": "stderr",
     "output_type": "stream",
     "text": [
      "Train Epoch: 923/1000. Iter:   18/  18. Data: 0.060s. alpha: 10. Batch: 0.109s. Loss: 0.5398.: 100%|█| 18/18 [00:01<00:00,\n"
     ]
    },
    {
     "name": "stdout",
     "output_type": "stream",
     "text": [
      "Global round: 923 | Average loss: 0.537992129723231\n",
      "Global Round: 924\n"
     ]
    },
    {
     "name": "stderr",
     "output_type": "stream",
     "text": [
      "Train Epoch: 924/1000. Iter:   18/  18. Data: 0.061s. alpha: 10. Batch: 0.115s. Loss: 0.5272.: 100%|█| 18/18 [00:02<00:00,\n"
     ]
    },
    {
     "name": "stdout",
     "output_type": "stream",
     "text": [
      "Global round: 924 | Average loss: 0.5326406127876706\n",
      "Global Round: 925\n"
     ]
    },
    {
     "name": "stderr",
     "output_type": "stream",
     "text": [
      "Train Epoch: 925/1000. Iter:   11/  18. Data: 0.065s. alpha: 10. Batch: 0.112s. Loss: 0.5297.:  61%|▌| 11/18 [00:01<00:00,"
     ]
    },
    {
     "name": "stdout",
     "output_type": "stream",
     "text": [
      "epoch 925 similarity : [0.12646791338920593, 0.14589476585388184, 0.14525781571865082, 0.14260633289813995, 0.1381596475839615]\n"
     ]
    },
    {
     "name": "stderr",
     "output_type": "stream",
     "text": [
      "Train Epoch: 925/1000. Iter:   18/  18. Data: 0.063s. alpha: 10. Batch: 0.112s. Loss: 0.5352.: 100%|█| 18/18 [00:02<00:00,\n"
     ]
    },
    {
     "name": "stdout",
     "output_type": "stream",
     "text": [
      "Global round: 925 | Average loss: 0.5327419506178962\n",
      "Global Round: 926\n"
     ]
    },
    {
     "name": "stderr",
     "output_type": "stream",
     "text": [
      "Train Epoch: 926/1000. Iter:   18/  18. Data: 0.058s. alpha: 10. Batch: 0.109s. Loss: 0.5240.: 100%|█| 18/18 [00:01<00:00,\n"
     ]
    },
    {
     "name": "stdout",
     "output_type": "stream",
     "text": [
      "Global round: 926 | Average loss: 0.5340263545513153\n",
      "Global Round: 927\n"
     ]
    },
    {
     "name": "stderr",
     "output_type": "stream",
     "text": [
      "Train Epoch: 927/1000. Iter:   18/  18. Data: 0.060s. alpha: 10. Batch: 0.109s. Loss: 0.5426.: 100%|█| 18/18 [00:01<00:00,\n"
     ]
    },
    {
     "name": "stdout",
     "output_type": "stream",
     "text": [
      "Global round: 927 | Average loss: 0.531889377368821\n",
      "Global Round: 928\n"
     ]
    },
    {
     "name": "stderr",
     "output_type": "stream",
     "text": [
      "Train Epoch: 928/1000. Iter:   18/  18. Data: 0.059s. alpha: 10. Batch: 0.110s. Loss: 0.5342.: 100%|█| 18/18 [00:01<00:00,\n"
     ]
    },
    {
     "name": "stdout",
     "output_type": "stream",
     "text": [
      "Global round: 928 | Average loss: 0.5345544152789645\n",
      "Global Round: 929\n"
     ]
    },
    {
     "name": "stderr",
     "output_type": "stream",
     "text": [
      "Train Epoch: 929/1000. Iter:   18/  18. Data: 0.061s. alpha: 10. Batch: 0.110s. Loss: 0.5245.: 100%|█| 18/18 [00:01<00:00,\n"
     ]
    },
    {
     "name": "stdout",
     "output_type": "stream",
     "text": [
      "Global round: 929 | Average loss: 0.5308254890971713\n",
      "Global Round: 930\n"
     ]
    },
    {
     "name": "stderr",
     "output_type": "stream",
     "text": [
      "Train Epoch: 930/1000. Iter:   11/  18. Data: 0.069s. alpha: 10. Batch: 0.120s. Loss: 0.5381.:  61%|▌| 11/18 [00:01<00:00,"
     ]
    },
    {
     "name": "stdout",
     "output_type": "stream",
     "text": [
      "epoch 930 similarity : [0.13898523151874542, 0.1434713453054428, 0.14946363866329193, 0.15091286599636078, 0.1449347883462906]\n"
     ]
    },
    {
     "name": "stderr",
     "output_type": "stream",
     "text": [
      "Train Epoch: 930/1000. Iter:   18/  18. Data: 0.067s. alpha: 10. Batch: 0.118s. Loss: 0.5379.: 100%|█| 18/18 [00:02<00:00,\n"
     ]
    },
    {
     "name": "stdout",
     "output_type": "stream",
     "text": [
      "Global round: 930 | Average loss: 0.5342626637882657\n",
      "Global Round: 931\n"
     ]
    },
    {
     "name": "stderr",
     "output_type": "stream",
     "text": [
      "Train Epoch: 931/1000. Iter:   18/  18. Data: 0.060s. alpha: 10. Batch: 0.110s. Loss: 0.5374.: 100%|█| 18/18 [00:01<00:00,\n"
     ]
    },
    {
     "name": "stdout",
     "output_type": "stream",
     "text": [
      "Global round: 931 | Average loss: 0.531111521853341\n",
      "Global Round: 932\n"
     ]
    },
    {
     "name": "stderr",
     "output_type": "stream",
     "text": [
      "Train Epoch: 932/1000. Iter:   18/  18. Data: 0.059s. alpha: 10. Batch: 0.108s. Loss: 0.5417.: 100%|█| 18/18 [00:01<00:00,\n"
     ]
    },
    {
     "name": "stdout",
     "output_type": "stream",
     "text": [
      "Global round: 932 | Average loss: 0.5317841238445706\n",
      "Global Round: 933\n"
     ]
    },
    {
     "name": "stderr",
     "output_type": "stream",
     "text": [
      "Train Epoch: 933/1000. Iter:   18/  18. Data: 0.058s. alpha: 10. Batch: 0.109s. Loss: 0.5237.: 100%|█| 18/18 [00:01<00:00,\n"
     ]
    },
    {
     "name": "stdout",
     "output_type": "stream",
     "text": [
      "Global round: 933 | Average loss: 0.5337598423163096\n",
      "Global Round: 934\n"
     ]
    },
    {
     "name": "stderr",
     "output_type": "stream",
     "text": [
      "Train Epoch: 934/1000. Iter:   18/  18. Data: 0.060s. alpha: 10. Batch: 0.109s. Loss: 0.5439.: 100%|█| 18/18 [00:01<00:00,\n"
     ]
    },
    {
     "name": "stdout",
     "output_type": "stream",
     "text": [
      "Global round: 934 | Average loss: 0.5324780510531532\n",
      "Global Round: 935\n"
     ]
    },
    {
     "name": "stderr",
     "output_type": "stream",
     "text": [
      "Train Epoch: 935/1000. Iter:   11/  18. Data: 0.068s. alpha: 10. Batch: 0.119s. Loss: 0.5237.:  61%|▌| 11/18 [00:01<00:00,"
     ]
    },
    {
     "name": "stdout",
     "output_type": "stream",
     "text": [
      "epoch 935 similarity : [0.17968876659870148, 0.17964793741703033, 0.19324466586112976, 0.19348689913749695, 0.18467630445957184]\n"
     ]
    },
    {
     "name": "stderr",
     "output_type": "stream",
     "text": [
      "Train Epoch: 935/1000. Iter:   18/  18. Data: 0.064s. alpha: 10. Batch: 0.117s. Loss: 0.5466.: 100%|█| 18/18 [00:02<00:00,\n"
     ]
    },
    {
     "name": "stdout",
     "output_type": "stream",
     "text": [
      "Global round: 935 | Average loss: 0.5336039132542081\n",
      "Global Round: 936\n"
     ]
    },
    {
     "name": "stderr",
     "output_type": "stream",
     "text": [
      "Train Epoch: 936/1000. Iter:   18/  18. Data: 0.061s. alpha: 10. Batch: 0.111s. Loss: 0.5244.: 100%|█| 18/18 [00:01<00:00,\n"
     ]
    },
    {
     "name": "stdout",
     "output_type": "stream",
     "text": [
      "Global round: 936 | Average loss: 0.5324862367577023\n",
      "Global Round: 937\n"
     ]
    },
    {
     "name": "stderr",
     "output_type": "stream",
     "text": [
      "Train Epoch: 937/1000. Iter:   18/  18. Data: 0.059s. alpha: 10. Batch: 0.109s. Loss: 0.5322.: 100%|█| 18/18 [00:01<00:00,\n"
     ]
    },
    {
     "name": "stdout",
     "output_type": "stream",
     "text": [
      "Global round: 937 | Average loss: 0.5318563448058234\n",
      "Global Round: 938\n"
     ]
    },
    {
     "name": "stderr",
     "output_type": "stream",
     "text": [
      "Train Epoch: 938/1000. Iter:   18/  18. Data: 0.061s. alpha: 10. Batch: 0.110s. Loss: 0.5226.: 100%|█| 18/18 [00:01<00:00,\n"
     ]
    },
    {
     "name": "stdout",
     "output_type": "stream",
     "text": [
      "Global round: 938 | Average loss: 0.5314635154273775\n",
      "Global Round: 939\n"
     ]
    },
    {
     "name": "stderr",
     "output_type": "stream",
     "text": [
      "Train Epoch: 939/1000. Iter:   18/  18. Data: 0.060s. alpha: 10. Batch: 0.110s. Loss: 0.5449.: 100%|█| 18/18 [00:01<00:00,\n"
     ]
    },
    {
     "name": "stdout",
     "output_type": "stream",
     "text": [
      "Global round: 939 | Average loss: 0.5337565077675713\n",
      "Global Round: 940\n"
     ]
    },
    {
     "name": "stderr",
     "output_type": "stream",
     "text": [
      "Train Epoch: 940/1000. Iter:   11/  18. Data: 0.066s. alpha: 10. Batch: 0.118s. Loss: 0.5427.:  61%|▌| 11/18 [00:01<00:00,"
     ]
    },
    {
     "name": "stdout",
     "output_type": "stream",
     "text": [
      "epoch 940 similarity : [0.10942103713750839, 0.11290548741817474, 0.12866657972335815, 0.12089966237545013, 0.11651663482189178]\n"
     ]
    },
    {
     "name": "stderr",
     "output_type": "stream",
     "text": [
      "Train Epoch: 940/1000. Iter:   18/  18. Data: 0.062s. alpha: 10. Batch: 0.112s. Loss: 0.5580.: 100%|█| 18/18 [00:02<00:00,\n"
     ]
    },
    {
     "name": "stdout",
     "output_type": "stream",
     "text": [
      "Global round: 940 | Average loss: 0.5383658955494562\n",
      "Global Round: 941\n"
     ]
    },
    {
     "name": "stderr",
     "output_type": "stream",
     "text": [
      "Train Epoch: 941/1000. Iter:   18/  18. Data: 0.064s. alpha: 10. Batch: 0.113s. Loss: 0.5277.: 100%|█| 18/18 [00:02<00:00,\n"
     ]
    },
    {
     "name": "stdout",
     "output_type": "stream",
     "text": [
      "Global round: 941 | Average loss: 0.5335862868362002\n",
      "Global Round: 942\n"
     ]
    },
    {
     "name": "stderr",
     "output_type": "stream",
     "text": [
      "Train Epoch: 942/1000. Iter:   18/  18. Data: 0.058s. alpha: 10. Batch: 0.107s. Loss: 0.5366.: 100%|█| 18/18 [00:01<00:00,\n"
     ]
    },
    {
     "name": "stdout",
     "output_type": "stream",
     "text": [
      "Global round: 942 | Average loss: 0.5321069856484731\n",
      "Global Round: 943\n"
     ]
    },
    {
     "name": "stderr",
     "output_type": "stream",
     "text": [
      "Train Epoch: 943/1000. Iter:   18/  18. Data: 0.060s. alpha: 10. Batch: 0.109s. Loss: 0.5192.: 100%|█| 18/18 [00:01<00:00,\n"
     ]
    },
    {
     "name": "stdout",
     "output_type": "stream",
     "text": [
      "Global round: 943 | Average loss: 0.5320738719569312\n",
      "Global Round: 944\n"
     ]
    },
    {
     "name": "stderr",
     "output_type": "stream",
     "text": [
      "Train Epoch: 944/1000. Iter:   18/  18. Data: 0.059s. alpha: 10. Batch: 0.109s. Loss: 0.5461.: 100%|█| 18/18 [00:01<00:00,\n"
     ]
    },
    {
     "name": "stdout",
     "output_type": "stream",
     "text": [
      "Global round: 944 | Average loss: 0.5326364537080129\n",
      "Global Round: 945\n"
     ]
    },
    {
     "name": "stderr",
     "output_type": "stream",
     "text": [
      "Train Epoch: 945/1000. Iter:   11/  18. Data: 0.071s. alpha: 10. Batch: 0.119s. Loss: 0.5515.:  61%|▌| 11/18 [00:01<00:00,"
     ]
    },
    {
     "name": "stdout",
     "output_type": "stream",
     "text": [
      "epoch 945 similarity : [0.16519974172115326, 0.17886768281459808, 0.18924997746944427, 0.17058876156806946, 0.16957806050777435]\n"
     ]
    },
    {
     "name": "stderr",
     "output_type": "stream",
     "text": [
      "Train Epoch: 945/1000. Iter:   18/  18. Data: 0.065s. alpha: 10. Batch: 0.114s. Loss: 0.5466.: 100%|█| 18/18 [00:02<00:00,\n"
     ]
    },
    {
     "name": "stdout",
     "output_type": "stream",
     "text": [
      "Global round: 945 | Average loss: 0.5335318777296278\n",
      "Global Round: 946\n"
     ]
    },
    {
     "name": "stderr",
     "output_type": "stream",
     "text": [
      "Train Epoch: 946/1000. Iter:   18/  18. Data: 0.059s. alpha: 10. Batch: 0.110s. Loss: 0.5221.: 100%|█| 18/18 [00:01<00:00,\n"
     ]
    },
    {
     "name": "stdout",
     "output_type": "stream",
     "text": [
      "Global round: 946 | Average loss: 0.5300016469425626\n",
      "Global Round: 947\n"
     ]
    },
    {
     "name": "stderr",
     "output_type": "stream",
     "text": [
      "Train Epoch: 947/1000. Iter:   18/  18. Data: 0.063s. alpha: 10. Batch: 0.111s. Loss: 0.5418.: 100%|█| 18/18 [00:01<00:00,\n"
     ]
    },
    {
     "name": "stdout",
     "output_type": "stream",
     "text": [
      "Global round: 947 | Average loss: 0.5326847831408182\n",
      "Global Round: 948\n"
     ]
    },
    {
     "name": "stderr",
     "output_type": "stream",
     "text": [
      "Train Epoch: 948/1000. Iter:   18/  18. Data: 0.059s. alpha: 10. Batch: 0.108s. Loss: 0.5360.: 100%|█| 18/18 [00:01<00:00,\n"
     ]
    },
    {
     "name": "stdout",
     "output_type": "stream",
     "text": [
      "Global round: 948 | Average loss: 0.5321735077434115\n",
      "Global Round: 949\n"
     ]
    },
    {
     "name": "stderr",
     "output_type": "stream",
     "text": [
      "Train Epoch: 949/1000. Iter:   18/  18. Data: 0.059s. alpha: 10. Batch: 0.110s. Loss: 0.5384.: 100%|█| 18/18 [00:01<00:00,\n"
     ]
    },
    {
     "name": "stdout",
     "output_type": "stream",
     "text": [
      "Global round: 949 | Average loss: 0.5325183040565915\n",
      "Global Round: 950\n"
     ]
    },
    {
     "name": "stderr",
     "output_type": "stream",
     "text": [
      "Train Epoch: 950/1000. Iter:   11/  18. Data: 0.070s. alpha: 10. Batch: 0.120s. Loss: 0.5414.:  61%|▌| 11/18 [00:01<00:01,"
     ]
    },
    {
     "name": "stdout",
     "output_type": "stream",
     "text": [
      "epoch 950 similarity : [0.1475977748632431, 0.15207235515117645, 0.15617325901985168, 0.15424200892448425, 0.1521763652563095]\n"
     ]
    },
    {
     "name": "stderr",
     "output_type": "stream",
     "text": [
      "Train Epoch: 950/1000. Iter:   18/  18. Data: 0.065s. alpha: 10. Batch: 0.115s. Loss: 0.5306.: 100%|█| 18/18 [00:02<00:00,\n"
     ]
    },
    {
     "name": "stdout",
     "output_type": "stream",
     "text": [
      "Global round: 950 | Average loss: 0.5307316018475426\n",
      "Global Round: 951\n"
     ]
    },
    {
     "name": "stderr",
     "output_type": "stream",
     "text": [
      "Train Epoch: 951/1000. Iter:   18/  18. Data: 0.059s. alpha: 10. Batch: 0.112s. Loss: 0.5466.: 100%|█| 18/18 [00:01<00:00,\n"
     ]
    },
    {
     "name": "stdout",
     "output_type": "stream",
     "text": [
      "Global round: 951 | Average loss: 0.5321122507254282\n",
      "Global Round: 952\n"
     ]
    },
    {
     "name": "stderr",
     "output_type": "stream",
     "text": [
      "Train Epoch: 952/1000. Iter:   18/  18. Data: 0.058s. alpha: 10. Batch: 0.110s. Loss: 0.5201.: 100%|█| 18/18 [00:01<00:00,\n"
     ]
    },
    {
     "name": "stdout",
     "output_type": "stream",
     "text": [
      "Global round: 952 | Average loss: 0.5311404797765944\n",
      "Global Round: 953\n"
     ]
    },
    {
     "name": "stderr",
     "output_type": "stream",
     "text": [
      "Train Epoch: 953/1000. Iter:   18/  18. Data: 0.061s. alpha: 10. Batch: 0.112s. Loss: 0.5565.: 100%|█| 18/18 [00:02<00:00,\n"
     ]
    },
    {
     "name": "stdout",
     "output_type": "stream",
     "text": [
      "Global round: 953 | Average loss: 0.5339205099476708\n",
      "Global Round: 954\n"
     ]
    },
    {
     "name": "stderr",
     "output_type": "stream",
     "text": [
      "Train Epoch: 954/1000. Iter:   18/  18. Data: 0.061s. alpha: 10. Batch: 0.108s. Loss: 0.5326.: 100%|█| 18/18 [00:01<00:00,\n"
     ]
    },
    {
     "name": "stdout",
     "output_type": "stream",
     "text": [
      "Global round: 954 | Average loss: 0.5295954545338949\n",
      "Global Round: 955\n"
     ]
    },
    {
     "name": "stderr",
     "output_type": "stream",
     "text": [
      "Train Epoch: 955/1000. Iter:   11/  18. Data: 0.070s. alpha: 10. Batch: 0.118s. Loss: 0.5238.:  61%|▌| 11/18 [00:01<00:01,"
     ]
    },
    {
     "name": "stdout",
     "output_type": "stream",
     "text": [
      "epoch 955 similarity : [0.17297974228858948, 0.17552736401557922, 0.17661911249160767, 0.17065730690956116, 0.17074188590049744]\n"
     ]
    },
    {
     "name": "stderr",
     "output_type": "stream",
     "text": [
      "Train Epoch: 955/1000. Iter:   18/  18. Data: 0.065s. alpha: 10. Batch: 0.113s. Loss: 0.5116.: 100%|█| 18/18 [00:02<00:00,\n"
     ]
    },
    {
     "name": "stdout",
     "output_type": "stream",
     "text": [
      "Global round: 955 | Average loss: 0.5296927624278598\n",
      "Global Round: 956\n"
     ]
    },
    {
     "name": "stderr",
     "output_type": "stream",
     "text": [
      "Train Epoch: 956/1000. Iter:   18/  18. Data: 0.060s. alpha: 10. Batch: 0.109s. Loss: 0.5459.: 100%|█| 18/18 [00:01<00:00,\n"
     ]
    },
    {
     "name": "stdout",
     "output_type": "stream",
     "text": [
      "Global round: 956 | Average loss: 0.5327988300058577\n",
      "Global Round: 957\n"
     ]
    },
    {
     "name": "stderr",
     "output_type": "stream",
     "text": [
      "Train Epoch: 957/1000. Iter:   18/  18. Data: 0.061s. alpha: 10. Batch: 0.108s. Loss: 0.5272.: 100%|█| 18/18 [00:01<00:00,\n"
     ]
    },
    {
     "name": "stdout",
     "output_type": "stream",
     "text": [
      "Global round: 957 | Average loss: 0.531351755062739\n",
      "Global Round: 958\n"
     ]
    },
    {
     "name": "stderr",
     "output_type": "stream",
     "text": [
      "Train Epoch: 958/1000. Iter:   18/  18. Data: 0.059s. alpha: 10. Batch: 0.108s. Loss: 0.5239.: 100%|█| 18/18 [00:01<00:00,\n"
     ]
    },
    {
     "name": "stdout",
     "output_type": "stream",
     "text": [
      "Global round: 958 | Average loss: 0.5300788746939765\n",
      "Global Round: 959\n"
     ]
    },
    {
     "name": "stderr",
     "output_type": "stream",
     "text": [
      "Train Epoch: 959/1000. Iter:   18/  18. Data: 0.061s. alpha: 10. Batch: 0.113s. Loss: 0.5421.: 100%|█| 18/18 [00:02<00:00,\n"
     ]
    },
    {
     "name": "stdout",
     "output_type": "stream",
     "text": [
      "Global round: 959 | Average loss: 0.5291222102112241\n",
      "Global Round: 960\n"
     ]
    },
    {
     "name": "stderr",
     "output_type": "stream",
     "text": [
      "Train Epoch: 960/1000. Iter:   11/  18. Data: 0.066s. alpha: 10. Batch: 0.115s. Loss: 0.5286.:  61%|▌| 11/18 [00:01<00:00,"
     ]
    },
    {
     "name": "stdout",
     "output_type": "stream",
     "text": [
      "epoch 960 similarity : [0.1928604394197464, 0.19826152920722961, 0.20174425840377808, 0.18892328441143036, 0.1864459365606308]\n"
     ]
    },
    {
     "name": "stderr",
     "output_type": "stream",
     "text": [
      "Train Epoch: 960/1000. Iter:   18/  18. Data: 0.064s. alpha: 10. Batch: 0.114s. Loss: 0.5268.: 100%|█| 18/18 [00:02<00:00,\n"
     ]
    },
    {
     "name": "stdout",
     "output_type": "stream",
     "text": [
      "Global round: 960 | Average loss: 0.5275452070766025\n",
      "Global Round: 961\n"
     ]
    },
    {
     "name": "stderr",
     "output_type": "stream",
     "text": [
      "Train Epoch: 961/1000. Iter:   18/  18. Data: 0.059s. alpha: 10. Batch: 0.110s. Loss: 0.5160.: 100%|█| 18/18 [00:01<00:00,\n"
     ]
    },
    {
     "name": "stdout",
     "output_type": "stream",
     "text": [
      "Global round: 961 | Average loss: 0.5308592518170675\n",
      "Global Round: 962\n"
     ]
    },
    {
     "name": "stderr",
     "output_type": "stream",
     "text": [
      "Train Epoch: 962/1000. Iter:   18/  18. Data: 0.060s. alpha: 10. Batch: 0.109s. Loss: 0.5273.: 100%|█| 18/18 [00:01<00:00,\n"
     ]
    },
    {
     "name": "stdout",
     "output_type": "stream",
     "text": [
      "Global round: 962 | Average loss: 0.527386830912696\n",
      "Global Round: 963\n"
     ]
    },
    {
     "name": "stderr",
     "output_type": "stream",
     "text": [
      "Train Epoch: 963/1000. Iter:   18/  18. Data: 0.059s. alpha: 10. Batch: 0.109s. Loss: 0.5241.: 100%|█| 18/18 [00:01<00:00,\n"
     ]
    },
    {
     "name": "stdout",
     "output_type": "stream",
     "text": [
      "Global round: 963 | Average loss: 0.5266331632932028\n",
      "Global Round: 964\n"
     ]
    },
    {
     "name": "stderr",
     "output_type": "stream",
     "text": [
      "Train Epoch: 964/1000. Iter:   18/  18. Data: 0.061s. alpha: 10. Batch: 0.109s. Loss: 0.5293.: 100%|█| 18/18 [00:01<00:00,\n"
     ]
    },
    {
     "name": "stdout",
     "output_type": "stream",
     "text": [
      "Global round: 964 | Average loss: 0.5314786401059892\n",
      "Global Round: 965\n"
     ]
    },
    {
     "name": "stderr",
     "output_type": "stream",
     "text": [
      "Train Epoch: 965/1000. Iter:   11/  18. Data: 0.068s. alpha: 10. Batch: 0.118s. Loss: 0.5378.:  61%|▌| 11/18 [00:01<00:00,"
     ]
    },
    {
     "name": "stdout",
     "output_type": "stream",
     "text": [
      "epoch 965 similarity : [0.16356292366981506, 0.1622273325920105, 0.16580919921398163, 0.15630297362804413, 0.1526501327753067]\n"
     ]
    },
    {
     "name": "stderr",
     "output_type": "stream",
     "text": [
      "Train Epoch: 965/1000. Iter:   18/  18. Data: 0.067s. alpha: 10. Batch: 0.116s. Loss: 0.5226.: 100%|█| 18/18 [00:02<00:00,\n"
     ]
    },
    {
     "name": "stdout",
     "output_type": "stream",
     "text": [
      "Global round: 965 | Average loss: 0.526455486814181\n",
      "Global Round: 966\n"
     ]
    },
    {
     "name": "stderr",
     "output_type": "stream",
     "text": [
      "Train Epoch: 966/1000. Iter:   18/  18. Data: 0.060s. alpha: 10. Batch: 0.109s. Loss: 0.5308.: 100%|█| 18/18 [00:01<00:00,\n"
     ]
    },
    {
     "name": "stdout",
     "output_type": "stream",
     "text": [
      "Global round: 966 | Average loss: 0.5298480987548828\n",
      "Global Round: 967\n"
     ]
    },
    {
     "name": "stderr",
     "output_type": "stream",
     "text": [
      "Train Epoch: 967/1000. Iter:   18/  18. Data: 0.059s. alpha: 10. Batch: 0.108s. Loss: 0.5037.: 100%|█| 18/18 [00:01<00:00,\n"
     ]
    },
    {
     "name": "stdout",
     "output_type": "stream",
     "text": [
      "Global round: 967 | Average loss: 0.528468175066842\n",
      "Global Round: 968\n"
     ]
    },
    {
     "name": "stderr",
     "output_type": "stream",
     "text": [
      "Train Epoch: 968/1000. Iter:   18/  18. Data: 0.058s. alpha: 10. Batch: 0.109s. Loss: 0.5315.: 100%|█| 18/18 [00:01<00:00,\n"
     ]
    },
    {
     "name": "stdout",
     "output_type": "stream",
     "text": [
      "Global round: 968 | Average loss: 0.5263670980930328\n",
      "Global Round: 969\n"
     ]
    },
    {
     "name": "stderr",
     "output_type": "stream",
     "text": [
      "Train Epoch: 969/1000. Iter:   18/  18. Data: 0.060s. alpha: 10. Batch: 0.109s. Loss: 0.5195.: 100%|█| 18/18 [00:01<00:00,\n"
     ]
    },
    {
     "name": "stdout",
     "output_type": "stream",
     "text": [
      "Global round: 969 | Average loss: 0.5324883328543769\n",
      "Global Round: 970\n"
     ]
    },
    {
     "name": "stderr",
     "output_type": "stream",
     "text": [
      "Train Epoch: 970/1000. Iter:   11/  18. Data: 0.068s. alpha: 10. Batch: 0.119s. Loss: 0.5280.:  61%|▌| 11/18 [00:01<00:00,"
     ]
    },
    {
     "name": "stdout",
     "output_type": "stream",
     "text": [
      "epoch 970 similarity : [0.16701804101467133, 0.1582106351852417, 0.1706528514623642, 0.1597958356142044, 0.1610257774591446]\n"
     ]
    },
    {
     "name": "stderr",
     "output_type": "stream",
     "text": [
      "Train Epoch: 970/1000. Iter:   18/  18. Data: 0.064s. alpha: 10. Batch: 0.117s. Loss: 0.5361.: 100%|█| 18/18 [00:02<00:00,\n"
     ]
    },
    {
     "name": "stdout",
     "output_type": "stream",
     "text": [
      "Global round: 970 | Average loss: 0.5324940582116445\n",
      "Global Round: 971\n"
     ]
    },
    {
     "name": "stderr",
     "output_type": "stream",
     "text": [
      "Train Epoch: 971/1000. Iter:   18/  18. Data: 0.061s. alpha: 10. Batch: 0.110s. Loss: 0.5243.: 100%|█| 18/18 [00:01<00:00,\n"
     ]
    },
    {
     "name": "stdout",
     "output_type": "stream",
     "text": [
      "Global round: 971 | Average loss: 0.5271972351604037\n",
      "Global Round: 972\n"
     ]
    },
    {
     "name": "stderr",
     "output_type": "stream",
     "text": [
      "Train Epoch: 972/1000. Iter:   18/  18. Data: 0.059s. alpha: 10. Batch: 0.110s. Loss: 0.5301.: 100%|█| 18/18 [00:01<00:00,\n"
     ]
    },
    {
     "name": "stdout",
     "output_type": "stream",
     "text": [
      "Global round: 972 | Average loss: 0.530650301112069\n",
      "Global Round: 973\n"
     ]
    },
    {
     "name": "stderr",
     "output_type": "stream",
     "text": [
      "Train Epoch: 973/1000. Iter:   18/  18. Data: 0.061s. alpha: 10. Batch: 0.110s. Loss: 0.5350.: 100%|█| 18/18 [00:01<00:00,\n"
     ]
    },
    {
     "name": "stdout",
     "output_type": "stream",
     "text": [
      "Global round: 973 | Average loss: 0.5283656898472044\n",
      "Global Round: 974\n"
     ]
    },
    {
     "name": "stderr",
     "output_type": "stream",
     "text": [
      "Train Epoch: 974/1000. Iter:   18/  18. Data: 0.060s. alpha: 10. Batch: 0.111s. Loss: 0.5358.: 100%|█| 18/18 [00:01<00:00,\n"
     ]
    },
    {
     "name": "stdout",
     "output_type": "stream",
     "text": [
      "Global round: 974 | Average loss: 0.5306522581312392\n",
      "Global Round: 975\n"
     ]
    },
    {
     "name": "stderr",
     "output_type": "stream",
     "text": [
      "Train Epoch: 975/1000. Iter:   11/  18. Data: 0.067s. alpha: 10. Batch: 0.119s. Loss: 0.5314.:  61%|▌| 11/18 [00:01<00:00,"
     ]
    },
    {
     "name": "stdout",
     "output_type": "stream",
     "text": [
      "epoch 975 similarity : [0.15741807222366333, 0.1635080873966217, 0.17271248996257782, 0.15826064348220825, 0.15883392095565796]\n"
     ]
    },
    {
     "name": "stderr",
     "output_type": "stream",
     "text": [
      "Train Epoch: 975/1000. Iter:   18/  18. Data: 0.063s. alpha: 10. Batch: 0.114s. Loss: 0.5154.: 100%|█| 18/18 [00:02<00:00,\n"
     ]
    },
    {
     "name": "stdout",
     "output_type": "stream",
     "text": [
      "Global round: 975 | Average loss: 0.5294288595517477\n",
      "Global Round: 976\n"
     ]
    },
    {
     "name": "stderr",
     "output_type": "stream",
     "text": [
      "Train Epoch: 976/1000. Iter:   18/  18. Data: 0.064s. alpha: 10. Batch: 0.114s. Loss: 0.5353.: 100%|█| 18/18 [00:02<00:00,\n"
     ]
    },
    {
     "name": "stdout",
     "output_type": "stream",
     "text": [
      "Global round: 976 | Average loss: 0.5299889147281647\n",
      "Global Round: 977\n"
     ]
    },
    {
     "name": "stderr",
     "output_type": "stream",
     "text": [
      "Train Epoch: 977/1000. Iter:   18/  18. Data: 0.058s. alpha: 10. Batch: 0.109s. Loss: 0.5576.: 100%|█| 18/18 [00:01<00:00,\n"
     ]
    },
    {
     "name": "stdout",
     "output_type": "stream",
     "text": [
      "Global round: 977 | Average loss: 0.5290799736976624\n",
      "Global Round: 978\n"
     ]
    },
    {
     "name": "stderr",
     "output_type": "stream",
     "text": [
      "Train Epoch: 978/1000. Iter:   18/  18. Data: 0.060s. alpha: 10. Batch: 0.109s. Loss: 0.5467.: 100%|█| 18/18 [00:01<00:00,\n"
     ]
    },
    {
     "name": "stdout",
     "output_type": "stream",
     "text": [
      "Global round: 978 | Average loss: 0.5294917656315697\n",
      "Global Round: 979\n"
     ]
    },
    {
     "name": "stderr",
     "output_type": "stream",
     "text": [
      "Train Epoch: 979/1000. Iter:   18/  18. Data: 0.059s. alpha: 10. Batch: 0.108s. Loss: 0.5389.: 100%|█| 18/18 [00:01<00:00,\n"
     ]
    },
    {
     "name": "stdout",
     "output_type": "stream",
     "text": [
      "Global round: 979 | Average loss: 0.530021435684628\n",
      "Global Round: 980\n"
     ]
    },
    {
     "name": "stderr",
     "output_type": "stream",
     "text": [
      "Train Epoch: 980/1000. Iter:   11/  18. Data: 0.071s. alpha: 10. Batch: 0.119s. Loss: 0.5400.:  61%|▌| 11/18 [00:01<00:00,"
     ]
    },
    {
     "name": "stdout",
     "output_type": "stream",
     "text": [
      "epoch 980 similarity : [0.16883864998817444, 0.17436003684997559, 0.1781989336013794, 0.16567806899547577, 0.17434941232204437]\n"
     ]
    },
    {
     "name": "stderr",
     "output_type": "stream",
     "text": [
      "Train Epoch: 980/1000. Iter:   18/  18. Data: 0.065s. alpha: 10. Batch: 0.113s. Loss: 0.5398.: 100%|█| 18/18 [00:02<00:00,\n"
     ]
    },
    {
     "name": "stdout",
     "output_type": "stream",
     "text": [
      "Global round: 980 | Average loss: 0.5308872328864204\n",
      "Global Round: 981\n"
     ]
    },
    {
     "name": "stderr",
     "output_type": "stream",
     "text": [
      "Train Epoch: 981/1000. Iter:   18/  18. Data: 0.059s. alpha: 10. Batch: 0.110s. Loss: 0.5305.: 100%|█| 18/18 [00:01<00:00,\n"
     ]
    },
    {
     "name": "stdout",
     "output_type": "stream",
     "text": [
      "Global round: 981 | Average loss: 0.5299846463733249\n",
      "Global Round: 982\n"
     ]
    },
    {
     "name": "stderr",
     "output_type": "stream",
     "text": [
      "Train Epoch: 982/1000. Iter:   18/  18. Data: 0.065s. alpha: 10. Batch: 0.113s. Loss: 0.5250.: 100%|█| 18/18 [00:02<00:00,\n"
     ]
    },
    {
     "name": "stdout",
     "output_type": "stream",
     "text": [
      "Global round: 982 | Average loss: 0.5272906687524583\n",
      "Global Round: 983\n"
     ]
    },
    {
     "name": "stderr",
     "output_type": "stream",
     "text": [
      "Train Epoch: 983/1000. Iter:   18/  18. Data: 0.060s. alpha: 10. Batch: 0.110s. Loss: 0.5183.: 100%|█| 18/18 [00:01<00:00,\n"
     ]
    },
    {
     "name": "stdout",
     "output_type": "stream",
     "text": [
      "Global round: 983 | Average loss: 0.5267086260848575\n",
      "Global Round: 984\n"
     ]
    },
    {
     "name": "stderr",
     "output_type": "stream",
     "text": [
      "Train Epoch: 984/1000. Iter:   18/  18. Data: 0.059s. alpha: 10. Batch: 0.110s. Loss: 0.5206.: 100%|█| 18/18 [00:01<00:00,\n"
     ]
    },
    {
     "name": "stdout",
     "output_type": "stream",
     "text": [
      "Global round: 984 | Average loss: 0.5257060130437216\n",
      "Global Round: 985\n"
     ]
    },
    {
     "name": "stderr",
     "output_type": "stream",
     "text": [
      "Train Epoch: 985/1000. Iter:   11/  18. Data: 0.070s. alpha: 10. Batch: 0.120s. Loss: 0.5366.:  61%|▌| 11/18 [00:01<00:01,"
     ]
    },
    {
     "name": "stdout",
     "output_type": "stream",
     "text": [
      "epoch 985 similarity : [0.17867054045200348, 0.18291643261909485, 0.18613439798355103, 0.17313790321350098, 0.18208296597003937]\n"
     ]
    },
    {
     "name": "stderr",
     "output_type": "stream",
     "text": [
      "Train Epoch: 985/1000. Iter:   18/  18. Data: 0.065s. alpha: 10. Batch: 0.113s. Loss: 0.5133.: 100%|█| 18/18 [00:02<00:00,\n"
     ]
    },
    {
     "name": "stdout",
     "output_type": "stream",
     "text": [
      "Global round: 985 | Average loss: 0.5284298691484663\n",
      "Global Round: 986\n"
     ]
    },
    {
     "name": "stderr",
     "output_type": "stream",
     "text": [
      "Train Epoch: 986/1000. Iter:   18/  18. Data: 0.058s. alpha: 10. Batch: 0.109s. Loss: 0.5118.: 100%|█| 18/18 [00:01<00:00,\n"
     ]
    },
    {
     "name": "stdout",
     "output_type": "stream",
     "text": [
      "Global round: 986 | Average loss: 0.5292172067695193\n",
      "Global Round: 987\n"
     ]
    },
    {
     "name": "stderr",
     "output_type": "stream",
     "text": [
      "Train Epoch: 987/1000. Iter:   18/  18. Data: 0.058s. alpha: 10. Batch: 0.109s. Loss: 0.5351.: 100%|█| 18/18 [00:01<00:00,\n"
     ]
    },
    {
     "name": "stdout",
     "output_type": "stream",
     "text": [
      "Global round: 987 | Average loss: 0.5301992032263014\n",
      "Global Round: 988\n"
     ]
    },
    {
     "name": "stderr",
     "output_type": "stream",
     "text": [
      "Train Epoch: 988/1000. Iter:   18/  18. Data: 0.062s. alpha: 10. Batch: 0.113s. Loss: 0.5233.: 100%|█| 18/18 [00:02<00:00,\n"
     ]
    },
    {
     "name": "stdout",
     "output_type": "stream",
     "text": [
      "Global round: 988 | Average loss: 0.5285328527291616\n",
      "Global Round: 989\n"
     ]
    },
    {
     "name": "stderr",
     "output_type": "stream",
     "text": [
      "Train Epoch: 989/1000. Iter:   18/  18. Data: 0.061s. alpha: 10. Batch: 0.110s. Loss: 0.5121.: 100%|█| 18/18 [00:01<00:00,\n"
     ]
    },
    {
     "name": "stdout",
     "output_type": "stream",
     "text": [
      "Global round: 989 | Average loss: 0.5298923850059509\n",
      "Global Round: 990\n"
     ]
    },
    {
     "name": "stderr",
     "output_type": "stream",
     "text": [
      "Train Epoch: 990/1000. Iter:   11/  18. Data: 0.070s. alpha: 10. Batch: 0.119s. Loss: 0.5196.:  61%|▌| 11/18 [00:01<00:01,"
     ]
    },
    {
     "name": "stdout",
     "output_type": "stream",
     "text": [
      "epoch 990 similarity : [0.15778487920761108, 0.1729802042245865, 0.160622239112854, 0.15852156281471252, 0.16721080243587494]\n"
     ]
    },
    {
     "name": "stderr",
     "output_type": "stream",
     "text": [
      "Train Epoch: 990/1000. Iter:   18/  18. Data: 0.065s. alpha: 10. Batch: 0.114s. Loss: 0.5080.: 100%|█| 18/18 [00:02<00:00,\n"
     ]
    },
    {
     "name": "stdout",
     "output_type": "stream",
     "text": [
      "Global round: 990 | Average loss: 0.5259063111411201\n",
      "Global Round: 991\n"
     ]
    },
    {
     "name": "stderr",
     "output_type": "stream",
     "text": [
      "Train Epoch: 991/1000. Iter:   18/  18. Data: 0.060s. alpha: 10. Batch: 0.110s. Loss: 0.5225.: 100%|█| 18/18 [00:01<00:00,\n"
     ]
    },
    {
     "name": "stdout",
     "output_type": "stream",
     "text": [
      "Global round: 991 | Average loss: 0.5251132514741685\n",
      "Global Round: 992\n"
     ]
    },
    {
     "name": "stderr",
     "output_type": "stream",
     "text": [
      "Train Epoch: 992/1000. Iter:   18/  18. Data: 0.061s. alpha: 10. Batch: 0.110s. Loss: 0.5527.: 100%|█| 18/18 [00:01<00:00,\n"
     ]
    },
    {
     "name": "stdout",
     "output_type": "stream",
     "text": [
      "Global round: 992 | Average loss: 0.5297400951385498\n",
      "Global Round: 993\n"
     ]
    },
    {
     "name": "stderr",
     "output_type": "stream",
     "text": [
      "Train Epoch: 993/1000. Iter:   18/  18. Data: 0.060s. alpha: 10. Batch: 0.110s. Loss: 0.5397.: 100%|█| 18/18 [00:01<00:00,\n"
     ]
    },
    {
     "name": "stdout",
     "output_type": "stream",
     "text": [
      "Global round: 993 | Average loss: 0.5245089266035292\n",
      "Global Round: 994\n"
     ]
    },
    {
     "name": "stderr",
     "output_type": "stream",
     "text": [
      "Train Epoch: 994/1000. Iter:   18/  18. Data: 0.061s. alpha: 10. Batch: 0.113s. Loss: 0.5459.: 100%|█| 18/18 [00:02<00:00,\n"
     ]
    },
    {
     "name": "stdout",
     "output_type": "stream",
     "text": [
      "Global round: 994 | Average loss: 0.5293137596713172\n",
      "Global Round: 995\n"
     ]
    },
    {
     "name": "stderr",
     "output_type": "stream",
     "text": [
      "Train Epoch: 995/1000. Iter:   11/  18. Data: 0.066s. alpha: 10. Batch: 0.115s. Loss: 0.5348.:  61%|▌| 11/18 [00:01<00:00,"
     ]
    },
    {
     "name": "stdout",
     "output_type": "stream",
     "text": [
      "epoch 995 similarity : [0.17785879969596863, 0.19530941545963287, 0.1854315996170044, 0.18908457458019257, 0.1828155368566513]\n"
     ]
    },
    {
     "name": "stderr",
     "output_type": "stream",
     "text": [
      "Train Epoch: 995/1000. Iter:   18/  18. Data: 0.065s. alpha: 10. Batch: 0.115s. Loss: 0.5263.: 100%|█| 18/18 [00:02<00:00,\n"
     ]
    },
    {
     "name": "stdout",
     "output_type": "stream",
     "text": [
      "Global round: 995 | Average loss: 0.5255486766497294\n",
      "Global Round: 996\n"
     ]
    },
    {
     "name": "stderr",
     "output_type": "stream",
     "text": [
      "Train Epoch: 996/1000. Iter:   18/  18. Data: 0.058s. alpha: 10. Batch: 0.109s. Loss: 0.5527.: 100%|█| 18/18 [00:01<00:00,\n"
     ]
    },
    {
     "name": "stdout",
     "output_type": "stream",
     "text": [
      "Global round: 996 | Average loss: 0.5265605962938733\n",
      "Global Round: 997\n"
     ]
    },
    {
     "name": "stderr",
     "output_type": "stream",
     "text": [
      "Train Epoch: 997/1000. Iter:   18/  18. Data: 0.060s. alpha: 10. Batch: 0.108s. Loss: 0.5787.: 100%|█| 18/18 [00:01<00:00,\n"
     ]
    },
    {
     "name": "stdout",
     "output_type": "stream",
     "text": [
      "Global round: 997 | Average loss: 0.5290898399220573\n",
      "Global Round: 998\n"
     ]
    },
    {
     "name": "stderr",
     "output_type": "stream",
     "text": [
      "Train Epoch: 998/1000. Iter:   18/  18. Data: 0.058s. alpha: 10. Batch: 0.107s. Loss: 0.5307.: 100%|█| 18/18 [00:01<00:00,\n"
     ]
    },
    {
     "name": "stdout",
     "output_type": "stream",
     "text": [
      "Global round: 998 | Average loss: 0.5244623886214362\n",
      "Global Round: 999\n"
     ]
    },
    {
     "name": "stderr",
     "output_type": "stream",
     "text": [
      "Train Epoch: 999/1000. Iter:   18/  18. Data: 0.060s. alpha: 10. Batch: 0.107s. Loss: 0.5267.: 100%|█| 18/18 [00:01<00:00,\n"
     ]
    },
    {
     "name": "stdout",
     "output_type": "stream",
     "text": [
      "Global round: 999 | Average loss: 0.5264923142062293\n",
      "Global Round: 1000\n"
     ]
    },
    {
     "name": "stderr",
     "output_type": "stream",
     "text": [
      "Train Epoch: 1000/1000. Iter:   11/  18. Data: 0.068s. alpha: 10. Batch: 0.118s. Loss: 0.5191.:  61%|▌| 11/18 [00:01<00:00"
     ]
    },
    {
     "name": "stdout",
     "output_type": "stream",
     "text": [
      "epoch 1000 similarity : [0.1942857950925827, 0.20495359599590302, 0.2113502025604248, 0.2009453922510147, 0.19624516367912292]\n"
     ]
    },
    {
     "name": "stderr",
     "output_type": "stream",
     "text": [
      "Train Epoch: 1000/1000. Iter:   18/  18. Data: 0.066s. alpha: 10. Batch: 0.116s. Loss: 0.5062.: 100%|█| 18/18 [00:02<00:00"
     ]
    },
    {
     "name": "stdout",
     "output_type": "stream",
     "text": [
      "Global round: 1000 | Average loss: 0.5246230794323815\n",
      "Training Done!\n",
      "Total time taken to Train: 0.025493383407592773\n",
      "Total average times : 2002\n"
     ]
    },
    {
     "name": "stderr",
     "output_type": "stream",
     "text": [
      "\n"
     ]
    },
    {
     "data": {
      "text/plain": [
       "<Figure size 640x480 with 0 Axes>"
      ]
     },
     "metadata": {},
     "output_type": "display_data"
    }
   ],
   "source": [
    "client_models, client_model, train_loss = training(client_models, server_model, optimizer_server, optimizer_clients, H[0], H[2], H[4])"
   ]
  },
  {
   "cell_type": "code",
   "execution_count": 17,
   "id": "afcae480-59d1-455e-a52a-2c23e442aec5",
   "metadata": {
    "execution": {
     "iopub.execute_input": "2024-06-17T20:13:41.448670Z",
     "iopub.status.busy": "2024-06-17T20:13:41.448590Z",
     "iopub.status.idle": "2024-06-17T20:13:41.451215Z",
     "shell.execute_reply": "2024-06-17T20:13:41.451026Z",
     "shell.execute_reply.started": "2024-06-17T20:13:41.448662Z"
    }
   },
   "outputs": [],
   "source": [
    "if sim_weight:\n",
    "    if not os.path.exists(save_path + f\"/final\"):\n",
    "        os.makedirs(save_path + f\"/final\")\n",
    "    for cid in range(client_num):\n",
    "        torch.save(client_models[cid].online_encoder.cpu().state_dict(), save_path + f\"/final/client_{cid}.pt\")\n",
    "else:\n",
    "    torch.save(client_model.online_encoder.cpu().state_dict(), save_path + \"_final.pt\")"
   ]
  },
  {
   "cell_type": "code",
   "execution_count": 18,
   "id": "1c1619dc-d7c1-4ee0-9182-ee070f70ab5f",
   "metadata": {
    "execution": {
     "iopub.execute_input": "2024-06-17T20:13:41.451536Z",
     "iopub.status.busy": "2024-06-17T20:13:41.451461Z",
     "iopub.status.idle": "2024-06-17T20:13:41.500879Z",
     "shell.execute_reply": "2024-06-17T20:13:41.500662Z",
     "shell.execute_reply.started": "2024-06-17T20:13:41.451529Z"
    }
   },
   "outputs": [
    {
     "data": {
      "image/png": "[encoded data removed]",
      "text/plain": [
       "<Figure size 640x480 with 1 Axes>"
      ]
     },
     "metadata": {},
     "output_type": "display_data"
    }
   ],
   "source": [
    "# plot training losses\n",
    "import matplotlib.pyplot as plt\n",
    "\n",
    "plt.plot(train_loss)\n",
    "plt.xlabel('epochs')\n",
    "plt.ylabel('Loss')\n",
    "plt.title('Training Loss Curve')\n",
    "plt.show()"
   ]
  }
 ],
 "metadata": {
  "kernelspec": {
   "display_name": "Python [conda env:.conda-splitfedssl]",
   "language": "python",
   "name": "conda-env-.conda-splitfedssl-py"
  },
  "language_info": {
   "codemirror_mode": {
    "name": "ipython",
    "version": 3
   },
   "file_extension": ".py",
   "mimetype": "text/x-python",
   "name": "python",
   "nbconvert_exporter": "python",
   "pygments_lexer": "ipython3",
   "version": "3.7.16"
  }
 },
 "nbformat": 4,
 "nbformat_minor": 5
}
