{
 "cells": [
  {
   "cell_type": "code",
   "execution_count": 19,
   "metadata": {
    "execution": {
     "iopub.execute_input": "2023-12-13T02:11:30.289238Z",
     "iopub.status.busy": "2023-12-13T02:11:30.289088Z",
     "iopub.status.idle": "2023-12-13T02:11:30.292447Z",
     "shell.execute_reply": "2023-12-13T02:11:30.292199Z",
     "shell.execute_reply.started": "2023-12-13T02:11:30.289227Z"
    },
    "id": "UBt1XYXhaqmG",
    "tags": []
   },
   "outputs": [],
   "source": [
    "import os\n",
    "from functools import wraps\n",
    "from collections import defaultdict\n",
    "from tqdm import tqdm\n",
    "\n",
    "\n",
    "from logdeep.tools.predict import generate\n",
    "from collections import Counter\n",
    "from logdeep.models.lstm import deeplog, loganomaly, robustlog\n",
    "from logdeep.tools.predict import Predicter\n",
    "from logdeep.tools.train import Trainer\n",
    "from logdeep.tools.utils import *\n",
    "# from logdeep.dataset.mylog import log_dataset\n",
    "from logdeep.dataset.log import log_dataset\n",
    "from logdeep.dataset.sample_finetune import sliding_window, session_window\n",
    "from logdeep.tools.utils import (save_parameters, seed_everything,\n",
    "                                 train_val_split)\n",
    "\n",
    "import numpy as np\n",
    "# import matplotlib\n",
    "# import matplotlib.pyplot as plt\n",
    "import copy\n",
    "import random\n",
    "import time\n",
    "import torchvision\n",
    "import torch\n",
    "import torch.nn as nn\n",
    "import torch.nn.functional as F\n",
    "from torchvision.models import resnet\n",
    "from torch.utils.data import Dataset, DataLoader\n",
    "from torch.utils.tensorboard import SummaryWriter\n",
    "from torchvision import transforms, utils, datasets\n",
    "from argparse import ArgumentParser\n",
    "from torchvision import transforms as tt\n",
    "from PIL import Image\n",
    "from utils import AverageMeter"
   ]
  },
  {
   "cell_type": "code",
   "execution_count": 20,
   "metadata": {
    "execution": {
     "iopub.execute_input": "2023-12-13T02:11:30.893516Z",
     "iopub.status.busy": "2023-12-13T02:11:30.893408Z",
     "iopub.status.idle": "2023-12-13T02:11:30.895048Z",
     "shell.execute_reply": "2023-12-13T02:11:30.894837Z",
     "shell.execute_reply.started": "2023-12-13T02:11:30.893507Z"
    },
    "id": "80RsLgxtasod",
    "tags": []
   },
   "outputs": [],
   "source": [
    "# set manual seed for reproducibility\n",
    "seed = 1234"
   ]
  },
  {
   "cell_type": "code",
   "execution_count": 21,
   "metadata": {
    "colab": {
     "base_uri": "https://localhost:8080/"
    },
    "execution": {
     "iopub.execute_input": "2023-12-13T02:11:31.371343Z",
     "iopub.status.busy": "2023-12-13T02:11:31.371108Z",
     "iopub.status.idle": "2023-12-13T02:11:31.373889Z",
     "shell.execute_reply": "2023-12-13T02:11:31.373674Z",
     "shell.execute_reply.started": "2023-12-13T02:11:31.371331Z"
    },
    "id": "iIARTSyVa0xH",
    "outputId": "7103c049-17fa-4339-a8a2-d2884cac6bf3",
    "tags": []
   },
   "outputs": [
    {
     "data": {
      "text/plain": [
       "<torch._C.Generator at 0x7fc74b68ef50>"
      ]
     },
     "execution_count": 21,
     "metadata": {},
     "output_type": "execute_result"
    }
   ],
   "source": [
    "# general reproducibility\n",
    "random.seed(seed)\n",
    "np.random.seed(seed)\n",
    "torch.manual_seed(seed)"
   ]
  },
  {
   "cell_type": "code",
   "execution_count": 22,
   "metadata": {
    "execution": {
     "iopub.execute_input": "2023-12-13T02:11:31.806306Z",
     "iopub.status.busy": "2023-12-13T02:11:31.806213Z",
     "iopub.status.idle": "2023-12-13T02:11:31.807879Z",
     "shell.execute_reply": "2023-12-13T02:11:31.807672Z",
     "shell.execute_reply.started": "2023-12-13T02:11:31.806297Z"
    },
    "id": "Vv3ALBpva13d",
    "tags": []
   },
   "outputs": [],
   "source": [
    "# gpu training specific\n",
    "torch.backends.cudnn.deterministic = True\n",
    "torch.backends.cudnn.benchmark = False"
   ]
  },
  {
   "cell_type": "code",
   "execution_count": 23,
   "metadata": {
    "execution": {
     "iopub.execute_input": "2023-12-13T02:11:32.240838Z",
     "iopub.status.busy": "2023-12-13T02:11:32.240690Z",
     "iopub.status.idle": "2023-12-13T02:11:32.243384Z",
     "shell.execute_reply": "2023-12-13T02:11:32.243166Z",
     "shell.execute_reply.started": "2023-12-13T02:11:32.240828Z"
    },
    "tags": []
   },
   "outputs": [],
   "source": [
    "# Hyperparameters_List (H) = [rounds, client_fraction, number_of_clients, number_of_training_rounds_local, local_batch_size, lr_client]\n",
    "\n",
    "stop_gradient = True\n",
    "has_predictor = True\n",
    "OneLayer = \"1_layer\"\n",
    "TwoLayer = \"2_layer\"\n",
    "predictor_network=TwoLayer\n",
    "global_epochs = 200\n",
    "client_fraction = 1.0\n",
    "client_num = 5\n",
    "local_epoch = 5\n",
    "batch_size = 512\n",
    "lr = 3e-4\n",
    "partition = 'iid'\n",
    "norm = 'bn'\n",
    "alpha_partition = 0.5\n",
    "sch_flag = False\n",
    "iid = False\n",
    "avg_freq = 1\n",
    "\n",
    "data_portion = 1.0\n",
    "noniid_ratio = 1.0\n",
    "# noniid_ratio = 0.55\n",
    "\n",
    "# save_path = f\"./model/SplitFSSL_resnet18/resnet18_cifar10_noniid_{batch_size}_{noniid_ratio}_{client_num}\"\n",
    "# save_path = f\"./model/SplitFSSLMaxpool_deeplog/SplitFSSLdeeplog_log_{batch_size}_{noniid_ratio}_{client_num}\"\n",
    "# save_path = f\"./model/SplitFSSL_SimCLR_deeplog/resnet18log_simclr_{batch_size}_{noniid_ratio}_{client_num}\"\n",
    "save_path = f\"./model/SplitFSSL_SimSiam_deeplog/resnet18log_simsiam_{batch_size}_{noniid_ratio}_{client_num}\"\n",
    "\n",
    "H = [global_epochs, client_fraction, client_num, local_epoch, batch_size, lr]"
   ]
  },
  {
   "cell_type": "code",
   "execution_count": 24,
   "metadata": {
    "execution": {
     "iopub.execute_input": "2023-12-13T02:11:33.410608Z",
     "iopub.status.busy": "2023-12-13T02:11:33.410458Z",
     "iopub.status.idle": "2023-12-13T02:11:33.412833Z",
     "shell.execute_reply": "2023-12-13T02:11:33.412623Z",
     "shell.execute_reply.started": "2023-12-13T02:11:33.410597Z"
    }
   },
   "outputs": [],
   "source": [
    "logoptions = dict()\n",
    "logoptions['data_dir'] = './data/'\n",
    "logoptions['window_size'] = 10\n",
    "logoptions['device'] = \"cpu\"\n",
    "\n",
    "# Smaple\n",
    "logoptions['sample'] = \"sliding_window\"\n",
    "logoptions['window_size'] = 10  # if fix_window\n",
    "\n",
    "# Features\n",
    "logoptions['sequentials'] = True\n",
    "logoptions['quantitatives'] = False\n",
    "logoptions['semantics'] = False\n",
    "logoptions['feature_num'] = sum(\n",
    "    [logoptions['sequentials'], logoptions['quantitatives'], logoptions['semantics']])"
   ]
  },
  {
   "cell_type": "code",
   "execution_count": 25,
   "metadata": {
    "execution": {
     "iopub.execute_input": "2023-12-13T02:11:33.975350Z",
     "iopub.status.busy": "2023-12-13T02:11:33.975234Z",
     "iopub.status.idle": "2023-12-13T02:11:34.225919Z",
     "shell.execute_reply": "2023-12-13T02:11:34.225666Z",
     "shell.execute_reply.started": "2023-12-13T02:11:33.975339Z"
    }
   },
   "outputs": [
    {
     "name": "stdout",
     "output_type": "stream",
     "text": [
      "File ./data/hdfs/hdfs_train, number of seqs 46575\n"
     ]
    }
   ],
   "source": [
    "if logoptions['sample'] == 'sliding_window':\n",
    "    train_logs, train_labels = sliding_window(logoptions['data_dir'],\n",
    "                                              datatype='train',\n",
    "                                              window_size=logoptions['window_size'],\n",
    "                                              clientnum = client_num)\n",
    "    # val_logs, val_labels = sliding_window(logoptions['data_dir'],\n",
    "    #                                           datatype='val',\n",
    "    #                                           window_size=logoptions['window_size'],\n",
    "    #                                           clientnum = client_num)"
   ]
  },
  {
   "cell_type": "code",
   "execution_count": 26,
   "metadata": {
    "execution": {
     "iopub.execute_input": "2023-12-13T02:11:34.837746Z",
     "iopub.status.busy": "2023-12-13T02:11:34.837602Z",
     "iopub.status.idle": "2023-12-13T02:11:34.839660Z",
     "shell.execute_reply": "2023-12-13T02:11:34.839445Z",
     "shell.execute_reply.started": "2023-12-13T02:11:34.837735Z"
    }
   },
   "outputs": [],
   "source": [
    "train_dataset = log_dataset(logs=train_logs,\n",
    "                            labels=train_labels,\n",
    "                            seq=logoptions['sequentials'],\n",
    "                            quan=logoptions['quantitatives'],\n",
    "                            sem=logoptions['semantics'])\n",
    "\n",
    "# val_dataset = log_dataset(logs=val_logs,\n",
    "#                             labels=val_labels,\n",
    "#                             seq=logoptions['sequentials'],\n",
    "#                             quan=logoptions['quantitatives'],\n",
    "#                             sem=logoptions['semantics'])"
   ]
  },
  {
   "cell_type": "code",
   "execution_count": 27,
   "metadata": {
    "execution": {
     "iopub.execute_input": "2023-12-13T02:11:35.707640Z",
     "iopub.status.busy": "2023-12-13T02:11:35.707494Z",
     "iopub.status.idle": "2023-12-13T02:11:35.717123Z",
     "shell.execute_reply": "2023-12-13T02:11:35.716840Z",
     "shell.execute_reply.started": "2023-12-13T02:11:35.707630Z"
    }
   },
   "outputs": [],
   "source": [
    "train_loader = DataLoader(train_dataset,\n",
    "                            batch_size=batch_size,\n",
    "                            shuffle=True)\n",
    "# val_loader = DataLoader(val_dataset,\n",
    "#                             batch_size=batch_size,\n",
    "#                             shuffle=True)"
   ]
  },
  {
   "cell_type": "code",
   "execution_count": 28,
   "metadata": {
    "execution": {
     "iopub.execute_input": "2023-12-13T02:11:36.202929Z",
     "iopub.status.busy": "2023-12-13T02:11:36.202793Z",
     "iopub.status.idle": "2023-12-13T02:11:36.204635Z",
     "shell.execute_reply": "2023-12-13T02:11:36.204429Z",
     "shell.execute_reply.started": "2023-12-13T02:11:36.202917Z"
    },
    "id": "qVsY91KFuGMo",
    "tags": []
   },
   "outputs": [],
   "source": [
    "class BaseModel(nn.Module):\n",
    "    def __init__(self):\n",
    "        super(BaseModel, self).__init__()"
   ]
  },
  {
   "cell_type": "code",
   "execution_count": 29,
   "metadata": {
    "execution": {
     "iopub.execute_input": "2023-12-13T02:11:36.770767Z",
     "iopub.status.busy": "2023-12-13T02:11:36.770618Z",
     "iopub.status.idle": "2023-12-13T02:11:36.772821Z",
     "shell.execute_reply": "2023-12-13T02:11:36.772596Z",
     "shell.execute_reply.started": "2023-12-13T02:11:36.770757Z"
    },
    "id": "nRBBTYFkuSfC",
    "tags": []
   },
   "outputs": [],
   "source": [
    "class EMA:\n",
    "    def __init__(self, beta):\n",
    "        super().__init__()\n",
    "        self.beta = beta\n",
    "\n",
    "    def update_average(self, old, new):\n",
    "        if old is None:\n",
    "            return new\n",
    "        return old * self.beta + (1 - self.beta) * new"
   ]
  },
  {
   "cell_type": "code",
   "execution_count": 30,
   "metadata": {
    "execution": {
     "iopub.execute_input": "2023-12-13T02:11:37.250166Z",
     "iopub.status.busy": "2023-12-13T02:11:37.250015Z",
     "iopub.status.idle": "2023-12-13T02:11:37.252520Z",
     "shell.execute_reply": "2023-12-13T02:11:37.252310Z",
     "shell.execute_reply.started": "2023-12-13T02:11:37.250156Z"
    },
    "tags": []
   },
   "outputs": [],
   "source": [
    "def update_moving_average(ema_updater, ma_model, current_model):\n",
    "    for current_params, ma_params in zip(\n",
    "            current_model.parameters(), ma_model.parameters()\n",
    "    ):\n",
    "        old_weight, up_weight = ma_params.data, current_params.data\n",
    "        ma_params.data = ema_updater.update_average(old_weight, up_weight)\n",
    "\n",
    "\n",
    "def byol_loss_fn(x, y):\n",
    "    x = F.normalize(x, dim=-1, p=2)\n",
    "    y = F.normalize(y, dim=-1, p=2)\n",
    "    return 2 - 2 * (x * y).sum(dim=-1)"
   ]
  },
  {
   "cell_type": "code",
   "execution_count": 31,
   "metadata": {
    "execution": {
     "iopub.execute_input": "2023-12-13T02:11:37.803310Z",
     "iopub.status.busy": "2023-12-13T02:11:37.803132Z",
     "iopub.status.idle": "2023-12-13T02:11:37.806734Z",
     "shell.execute_reply": "2023-12-13T02:11:37.806513Z",
     "shell.execute_reply.started": "2023-12-13T02:11:37.803300Z"
    },
    "id": "zDWCgMneuVTC",
    "tags": []
   },
   "outputs": [],
   "source": [
    "class MLP(nn.Module):\n",
    "    def __init__(self, dim, projection_size, hidden_size=4096, class_num=10, num_layer=TwoLayer):\n",
    "        super().__init__()\n",
    "        self.in_features = dim\n",
    "        if num_layer == OneLayer:\n",
    "            self.net = nn.Sequential(\n",
    "                nn.Linear(dim, projection_size),\n",
    "            )\n",
    "        elif num_layer == TwoLayer:\n",
    "            self.net = nn.Sequential(\n",
    "                nn.Linear(dim, hidden_size),\n",
    "                nn.BatchNorm1d(hidden_size),\n",
    "                nn.ReLU(inplace=True),\n",
    "                nn.Linear(hidden_size, projection_size),\n",
    "            )\n",
    "        else:\n",
    "            raise NotImplementedError(f\"Not defined MLP: {num_layer}\")\n",
    "\n",
    "    def forward(self, x):\n",
    "        return self.net(x)\n",
    "        \n",
    "class Classifer(nn.Module):\n",
    "    def __init__(self, dim, hidden_size=1024, class_num=10):\n",
    "        super().__init__()\n",
    "        self.in_features = dim\n",
    "        \n",
    "        self.fc1 = nn.Linear(dim, hidden_size)\n",
    "        # self.relu = nn.ReLU()\n",
    "        self.fc2 = nn.Linear(hidden_size, hidden_size)\n",
    "        # self.softmax = nn.Softmax(dim=1)\n",
    "        self.fc3 = nn.Linear(hidden_size, class_num)\n",
    "\n",
    "    def forward(self, x):\n",
    "        \n",
    "        x = self.fc1(x)\n",
    "        # x = self.relu(x)\n",
    "        x = self.fc2(x)\n",
    "        # x = self.softmax(x)\n",
    "        x = self.fc3(x)\n",
    "        \n",
    "        return x"
   ]
  },
  {
   "cell_type": "code",
   "execution_count": 32,
   "metadata": {
    "execution": {
     "iopub.execute_input": "2023-12-13T02:11:38.224233Z",
     "iopub.status.busy": "2023-12-13T02:11:38.224133Z",
     "iopub.status.idle": "2023-12-13T02:11:38.226017Z",
     "shell.execute_reply": "2023-12-13T02:11:38.225809Z",
     "shell.execute_reply.started": "2023-12-13T02:11:38.224224Z"
    },
    "id": "BN1W-y3ZAGDq",
    "tags": []
   },
   "outputs": [],
   "source": [
    "import os\n",
    "import argparse\n",
    "import pickle\n",
    "from collections import defaultdict\n",
    "import numpy as np\n",
    "import torch\n",
    "import torch.nn as nn \n",
    "from torch.utils.data import SequentialSampler\n",
    "from torchvision import datasets, models, transforms"
   ]
  },
  {
   "cell_type": "code",
   "execution_count": 33,
   "metadata": {
    "execution": {
     "iopub.execute_input": "2023-12-13T02:11:38.672907Z",
     "iopub.status.busy": "2023-12-13T02:11:38.672755Z",
     "iopub.status.idle": "2023-12-13T02:11:38.675098Z",
     "shell.execute_reply": "2023-12-13T02:11:38.674885Z",
     "shell.execute_reply.started": "2023-12-13T02:11:38.672896Z"
    },
    "id": "OUl_bMdHAWqT",
    "tags": []
   },
   "outputs": [
    {
     "data": {
      "text/plain": [
       "device(type='cuda', index=0)"
      ]
     },
     "execution_count": 33,
     "metadata": {},
     "output_type": "execute_result"
    }
   ],
   "source": [
    "device = torch.device(\"cuda:0\") if torch.cuda.is_available() else torch.device(\"cpu\")\n",
    "device"
   ]
  },
  {
   "cell_type": "code",
   "execution_count": 34,
   "metadata": {
    "execution": {
     "iopub.execute_input": "2023-12-13T02:11:39.044854Z",
     "iopub.status.busy": "2023-12-13T02:11:39.044756Z",
     "iopub.status.idle": "2023-12-13T02:11:39.048477Z",
     "shell.execute_reply": "2023-12-13T02:11:39.048255Z",
     "shell.execute_reply.started": "2023-12-13T02:11:39.044845Z"
    },
    "id": "54szmDzEAXrS",
    "tags": []
   },
   "outputs": [],
   "source": [
    "def inference(loader, model, device):\n",
    "    feature_vector = []\n",
    "    labels_vector = []\n",
    "    for step, (x, y) in enumerate(loader):\n",
    "        x = x.to(device)\n",
    "        input0 = x\n",
    "        h0 = torch.zeros(2, input0.size(0), 64).to(device)\n",
    "        c0 = torch.zeros(2, input0.size(0), 64).to(device)\n",
    "        # get encoding\n",
    "        with torch.no_grad():\n",
    "            # h = model(x)\n",
    "            out, _ = model(x)\n",
    "        \n",
    "        h = out[:, -1, :]\n",
    "\n",
    "        h = h.squeeze()\n",
    "        h = h.detach()\n",
    "\n",
    "        feature_vector.extend(h.cpu().detach().numpy())\n",
    "        labels_vector.extend(y.numpy())\n",
    "\n",
    "        if step % 5 == 0:\n",
    "            print(f\"Step [{step}/{len(loader)}]\\t Computing features...\")\n",
    "\n",
    "    feature_vector = np.array(feature_vector)\n",
    "    labels_vector = np.array(labels_vector)\n",
    "    print(\"Features shape {}\".format(feature_vector.shape))\n",
    "    return feature_vector, labels_vector\n",
    "\n",
    "def get_features(model, train_loader, device):\n",
    "    train_X, train_y = inference(train_loader, model, device)\n",
    "    return train_X, train_y\n",
    "# def get_features(model, train_loader, test_loader, device):\n",
    "#     train_X, train_y = inference(train_loader, model, device)\n",
    "#     test_X, test_y = inference(test_loader, model, device)\n",
    "#     return train_X, train_y, test_X, test_y\n",
    "\n",
    "\n",
    "def create_data_loaders_from_arrays(X_train, y_train, batch_size):\n",
    "    train = torch.utils.data.TensorDataset(\n",
    "        torch.from_numpy(X_train), torch.from_numpy(y_train)\n",
    "    )\n",
    "    \n",
    "    train_loader = torch.utils.data.DataLoader(\n",
    "        train, batch_size=batch_size, shuffle=False\n",
    "    )\n",
    "        \n",
    "    return train_loader"
   ]
  },
  {
   "cell_type": "code",
   "execution_count": 35,
   "metadata": {
    "execution": {
     "iopub.execute_input": "2023-12-13T02:11:40.035714Z",
     "iopub.status.busy": "2023-12-13T02:11:40.035566Z",
     "iopub.status.idle": "2023-12-13T02:11:40.619677Z",
     "shell.execute_reply": "2023-12-13T02:11:40.619370Z",
     "shell.execute_reply.started": "2023-12-13T02:11:40.035703Z"
    }
   },
   "outputs": [
    {
     "name": "stdout",
     "output_type": "stream",
     "text": [
      "./model/SplitFSSL_SimSiam_deeplog/resnet18log_simsiam_512_1.0_5_final.pt\n"
     ]
    }
   ],
   "source": [
    "resnet = deeplog(input_size=1, hidden_size=64, num_layers=2, num_keys=28)\n",
    "resnet.fc = MLP(64, 28, 64)\n",
    "resnet.load_state_dict(torch.load(save_path + \"_final.pt\", map_location=device))\n",
    "# resnet.load_state_dict(torch.load(save_path + \"_200_epoch.pt\", map_location=device))\n",
    "# resnet.load_state_dict(torch.load(f\"./model/SplitFSSL_resnet18/resnet18_cifar10_noniid_20_1.0_0904_final.pt\", map_location=device))\n",
    "# resnet.load_state_dict(torch.load(f\"./model/FedAvg_resnet18/resnet18_cifar10_noniid_{batch_size}_{noniid_ratio}_{client_num}_final.pt\", map_location=device))\n",
    "print(save_path + \"_final.pt\")\n",
    "# print(save_path + \"_200_epoch.pt\")\n",
    "resnet = resnet.to(device)"
   ]
  },
  {
   "cell_type": "code",
   "execution_count": 36,
   "metadata": {
    "execution": {
     "iopub.execute_input": "2023-12-13T02:11:41.620511Z",
     "iopub.status.busy": "2023-12-13T02:11:41.620243Z",
     "iopub.status.idle": "2023-12-13T02:11:41.622525Z",
     "shell.execute_reply": "2023-12-13T02:11:41.622326Z",
     "shell.execute_reply.started": "2023-12-13T02:11:41.620499Z"
    }
   },
   "outputs": [
    {
     "data": {
      "text/plain": [
       "deeplog(\n",
       "  (lstm): LSTM(1, 64, num_layers=2, batch_first=True)\n",
       "  (fc): MLP(\n",
       "    (net): Sequential(\n",
       "      (0): Linear(in_features=64, out_features=64, bias=True)\n",
       "      (1): BatchNorm1d(64, eps=1e-05, momentum=0.1, affine=True, track_running_stats=True)\n",
       "      (2): ReLU(inplace=True)\n",
       "      (3): Linear(in_features=64, out_features=28, bias=True)\n",
       "    )\n",
       "  )\n",
       ")"
      ]
     },
     "execution_count": 36,
     "metadata": {},
     "output_type": "execute_result"
    }
   ],
   "source": [
    "resnet"
   ]
  },
  {
   "cell_type": "code",
   "execution_count": 37,
   "metadata": {
    "execution": {
     "iopub.execute_input": "2023-12-13T02:11:42.018169Z",
     "iopub.status.busy": "2023-12-13T02:11:42.017992Z",
     "iopub.status.idle": "2023-12-13T02:11:42.021316Z",
     "shell.execute_reply": "2023-12-13T02:11:42.021010Z",
     "shell.execute_reply.started": "2023-12-13T02:11:42.018159Z"
    },
    "id": "sWOiFSGEAoSG",
    "tags": []
   },
   "outputs": [],
   "source": [
    "# throw away fc layer\n",
    "num_features = list(resnet.children())[-1].in_features\n",
    "n_classes = 28 # 28 classes(key) in deeplog \n",
    "resnet = nn.Sequential(*list(resnet.children())[:-1])\n",
    "\n",
    "# fine-tune model\n",
    "# logreg = Classifer(num_features, hidden_size=1024)\n",
    "logreg = nn.Sequential(nn.Linear(num_features, n_classes))\n",
    "logreg = logreg.to(device)\n",
    "models = [copy.deepcopy(logreg).to(device) for idx in range(client_num)]\n",
    "models_weights = [1/5 for i in range(client_num)]"
   ]
  },
  {
   "cell_type": "code",
   "execution_count": 38,
   "metadata": {
    "execution": {
     "iopub.execute_input": "2023-12-13T02:11:42.605564Z",
     "iopub.status.busy": "2023-12-13T02:11:42.605259Z",
     "iopub.status.idle": "2023-12-13T02:11:42.607483Z",
     "shell.execute_reply": "2023-12-13T02:11:42.607283Z",
     "shell.execute_reply.started": "2023-12-13T02:11:42.605553Z"
    }
   },
   "outputs": [
    {
     "data": {
      "text/plain": [
       "Sequential(\n",
       "  (0): LSTM(1, 64, num_layers=2, batch_first=True)\n",
       ")"
      ]
     },
     "execution_count": 38,
     "metadata": {},
     "output_type": "execute_result"
    }
   ],
   "source": [
    "resnet"
   ]
  },
  {
   "cell_type": "code",
   "execution_count": 39,
   "metadata": {
    "execution": {
     "iopub.execute_input": "2023-12-13T02:11:42.977550Z",
     "iopub.status.busy": "2023-12-13T02:11:42.977435Z",
     "iopub.status.idle": "2023-12-13T02:11:42.979717Z",
     "shell.execute_reply": "2023-12-13T02:11:42.979505Z",
     "shell.execute_reply.started": "2023-12-13T02:11:42.977541Z"
    },
    "id": "rhLmcYVdApqU",
    "tags": []
   },
   "outputs": [],
   "source": [
    "epochs = 200\n",
    "# loss / optimizer\n",
    "criterion = nn.CrossEntropyLoss()\n",
    "optimizer = torch.optim.Adam(params=logreg.parameters(), lr=0.001)\n",
    "optimizer_models = [torch.optim.Adam(models[i].parameters(), lr =0.001) for i in range(len(models))]\n",
    "# scheduler = torch.optim.lr_scheduler.CosineAnnealingLR(optimizer, 200)"
   ]
  },
  {
   "cell_type": "code",
   "execution_count": 40,
   "metadata": {
    "execution": {
     "iopub.execute_input": "2023-12-13T02:11:43.453721Z",
     "iopub.status.busy": "2023-12-13T02:11:43.453547Z",
     "iopub.status.idle": "2023-12-13T02:11:43.794584Z",
     "shell.execute_reply": "2023-12-13T02:11:43.794260Z",
     "shell.execute_reply.started": "2023-12-13T02:11:43.453711Z"
    },
    "id": "NTRLN7xMAuuG",
    "tags": []
   },
   "outputs": [
    {
     "name": "stdout",
     "output_type": "stream",
     "text": [
      "Creating features from pre-trained model\n",
      "Step [0/91]\t Computing features...\n",
      "Step [5/91]\t Computing features...\n",
      "Step [10/91]\t Computing features...\n",
      "Step [15/91]\t Computing features...\n",
      "Step [20/91]\t Computing features...\n",
      "Step [25/91]\t Computing features...\n",
      "Step [30/91]\t Computing features...\n",
      "Step [35/91]\t Computing features...\n",
      "Step [40/91]\t Computing features...\n",
      "Step [45/91]\t Computing features...\n",
      "Step [50/91]\t Computing features...\n",
      "Step [55/91]\t Computing features...\n",
      "Step [60/91]\t Computing features...\n",
      "Step [65/91]\t Computing features...\n",
      "Step [70/91]\t Computing features...\n",
      "Step [75/91]\t Computing features...\n",
      "Step [80/91]\t Computing features...\n",
      "Step [85/91]\t Computing features...\n",
      "Step [90/91]\t Computing features...\n",
      "Features shape (46575, 64)\n"
     ]
    }
   ],
   "source": [
    "print(\"Creating features from pre-trained model\")\n",
    "(train_X, train_y) = get_features(\n",
    "    resnet, train_loader, device\n",
    ")"
   ]
  },
  {
   "cell_type": "code",
   "execution_count": 23,
   "metadata": {
    "execution": {
     "iopub.execute_input": "2023-12-12T17:23:35.939357Z",
     "iopub.status.busy": "2023-12-12T17:23:35.939079Z",
     "iopub.status.idle": "2023-12-12T17:23:35.941143Z",
     "shell.execute_reply": "2023-12-12T17:23:35.940856Z",
     "shell.execute_reply.started": "2023-12-12T17:23:35.939338Z"
    },
    "tags": []
   },
   "outputs": [],
   "source": [
    "# test_y_dict, classes_dict = noniid_testdata_label(test_y, client_num, noniid_ratio, num_class=10)\n",
    "# train_y_dict, _ = noniid_testdata_label(train_y, client_num, noniid_ratio, num_class=10)"
   ]
  },
  {
   "cell_type": "markdown",
   "metadata": {},
   "source": [
    "# Fine tuning by all training data"
   ]
  },
  {
   "cell_type": "code",
   "execution_count": 41,
   "metadata": {
    "execution": {
     "iopub.execute_input": "2023-12-13T02:11:52.514033Z",
     "iopub.status.busy": "2023-12-13T02:11:52.513853Z",
     "iopub.status.idle": "2023-12-13T02:11:52.515780Z",
     "shell.execute_reply": "2023-12-13T02:11:52.515568Z",
     "shell.execute_reply.started": "2023-12-13T02:11:52.514022Z"
    }
   },
   "outputs": [],
   "source": [
    "train_loader = create_data_loaders_from_arrays(train_X, train_y, 2048)"
   ]
  },
  {
   "cell_type": "code",
   "execution_count": 42,
   "metadata": {
    "execution": {
     "iopub.execute_input": "2023-12-13T02:11:53.191470Z",
     "iopub.status.busy": "2023-12-13T02:11:53.191236Z",
     "iopub.status.idle": "2023-12-13T02:12:23.888295Z",
     "shell.execute_reply": "2023-12-13T02:12:23.888019Z",
     "shell.execute_reply.started": "2023-12-13T02:11:53.191459Z"
    },
    "id": "emGRcsnbDZxe",
    "scrolled": true,
    "tags": []
   },
   "outputs": [
    {
     "name": "stderr",
     "output_type": "stream",
     "text": [
      "Train Epoch: 199/ 200.Loss: 0.8108.Accuracy: 77.5021.: 100%|███████████████████████████████| 200/200 [00:30<00:00,  6.52it/s]\n"
     ]
    }
   ],
   "source": [
    "# Train fine-tuned model\n",
    "logreg.train()\n",
    "\n",
    "p_bar = tqdm(range(epochs))\n",
    "for epoch in range(epochs):\n",
    "    # metrics = defaultdict(list)\n",
    "    acctol = []\n",
    "    losses = []\n",
    "    for step, (h, y) in enumerate(train_loader):\n",
    "        h = h.to(device)\n",
    "        y = y.to(device)\n",
    "\n",
    "        outputs = logreg(h)\n",
    "\n",
    "        loss = criterion(outputs, y)\n",
    "        optimizer.zero_grad()\n",
    "        loss.backward()\n",
    "        optimizer.step()\n",
    "\n",
    "        # calculate accuracy and save metrics\n",
    "        accuracy = (outputs.argmax(1) == y).sum().item() / y.size(0) * 100\n",
    "        acctol.append(accuracy)\n",
    "        losses.append(loss.item())\n",
    "        # metrics[\"Loss/train\"].append(loss.item())\n",
    "        # metrics[\"Accuracy/train\"].append(accuracy)\n",
    "    acctol = np.array(acctol)\n",
    "    losses = np.array(losses)\n",
    "    p_bar.set_description(\"Train Epoch: {epoch}/{epochs:4}.Loss: {loss:.4f}.Accuracy: {acc:.4f}.\".format(\n",
    "            epoch=epoch,\n",
    "            epochs=epochs,\n",
    "            loss=losses.mean(),\n",
    "            acc=acctol.mean()))\n",
    "    p_bar.update()\n",
    "    # print(f\"Epoch [{epoch}/{epochs}]: \" + \"\\t\".join([f\"{k}: {np.array(v).mean()}\" for k, v in metrics.items()]))\n",
    "p_bar.close()\n"
   ]
  },
  {
   "cell_type": "code",
   "execution_count": 43,
   "metadata": {
    "execution": {
     "iopub.execute_input": "2023-12-13T02:12:23.888828Z",
     "iopub.status.busy": "2023-12-13T02:12:23.888749Z",
     "iopub.status.idle": "2023-12-13T02:12:23.890873Z",
     "shell.execute_reply": "2023-12-13T02:12:23.890691Z",
     "shell.execute_reply.started": "2023-12-13T02:12:23.888820Z"
    }
   },
   "outputs": [],
   "source": [
    "def predict(x, encoder, classifier):\n",
    "    x = x.to(device)\n",
    "    input0 = x\n",
    "    h0 = torch.zeros(2, input0.size(0), 64).to(device)\n",
    "    c0 = torch.zeros(2, input0.size(0), 64).to(device)\n",
    "    # get encoding\n",
    "    with torch.no_grad():\n",
    "        out, _ = encoder(x)\n",
    "    h = out[:, -1, :]\n",
    "    \n",
    "    outputs = classifier(h)\n",
    "\n",
    "    return outputs"
   ]
  },
  {
   "cell_type": "code",
   "execution_count": 44,
   "metadata": {
    "execution": {
     "iopub.execute_input": "2023-12-13T02:12:23.891183Z",
     "iopub.status.busy": "2023-12-13T02:12:23.891114Z",
     "iopub.status.idle": "2023-12-13T02:12:25.180602Z",
     "shell.execute_reply": "2023-12-13T02:12:25.180339Z",
     "shell.execute_reply.started": "2023-12-13T02:12:23.891177Z"
    }
   },
   "outputs": [
    {
     "name": "stdout",
     "output_type": "stream",
     "text": [
      "Number of sessions(hdfs_test_normal): 14177\n",
      "Number of sessions(hdfs_test_abnormal): 4123\n"
     ]
    }
   ],
   "source": [
    "test_normal_loader, test_normal_length = generate('hdfs_test_normal')\n",
    "test_abnormal_loader, test_abnormal_length = generate('hdfs_test_abnormal')"
   ]
  },
  {
   "cell_type": "code",
   "execution_count": 45,
   "metadata": {
    "execution": {
     "iopub.execute_input": "2023-12-13T02:12:25.181237Z",
     "iopub.status.busy": "2023-12-13T02:12:25.181116Z",
     "iopub.status.idle": "2023-12-13T02:13:09.036758Z",
     "shell.execute_reply": "2023-12-13T02:13:09.036494Z",
     "shell.execute_reply.started": "2023-12-13T02:12:25.181228Z"
    }
   },
   "outputs": [
    {
     "name": "stderr",
     "output_type": "stream",
     "text": [
      "100%|█████████████████████████████████████████████████████████████████████████████████| 14177/14177 [00:37<00:00, 376.17it/s]\n",
      "100%|███████████████████████████████████████████████████████████████████████████████████| 4123/4123 [00:06<00:00, 669.15it/s]"
     ]
    },
    {
     "name": "stdout",
     "output_type": "stream",
     "text": [
      "false positive (FP): 2382, false negative (FN): 313, Precision: 87.401%, Recall: 98.141%, F1-measure: 92.460%\n",
      "Finished Predicting\n"
     ]
    },
    {
     "name": "stderr",
     "output_type": "stream",
     "text": [
      "\n"
     ]
    }
   ],
   "source": [
    "TP = 0\n",
    "FP = 0\n",
    "num_candidates = 9\n",
    "# Test the model\n",
    "with torch.no_grad():\n",
    "    for line in tqdm(test_normal_loader.keys()):\n",
    "        for i in range(len(line) - logoptions['window_size']):\n",
    "            seq0 = line[i:i + logoptions['window_size']]\n",
    "            label = line[i + logoptions['window_size']]\n",
    "            # seq1 = [0] * 28\n",
    "            # log_conuter = Counter(seq0)\n",
    "            # for key in log_conuter:\n",
    "            #     seq1[key] = log_conuter[key]\n",
    "\n",
    "            seq0 = torch.tensor(seq0, dtype=torch.float).view(\n",
    "                -1, logoptions['window_size'], 1).to(device)\n",
    "            # seq1 = torch.tensor(seq1, dtype=torch.float).view(\n",
    "            #     -1, self.num_classes, self.input_size).to(self.device)\n",
    "            label = torch.tensor(label).view(-1).to(device)\n",
    "            output = predict(seq0, resnet, logreg)\n",
    "            predicted = torch.argsort(output, 1)[0][-num_candidates:]\n",
    "            if label not in predicted:\n",
    "                FP += test_normal_loader[line]\n",
    "                break\n",
    "with torch.no_grad():\n",
    "    for line in tqdm(test_abnormal_loader.keys()):\n",
    "        for i in range(len(line) - logoptions['window_size']):\n",
    "            seq0 = line[i:i + logoptions['window_size']]\n",
    "            label = line[i + logoptions['window_size']]\n",
    "            # seq1 = [0] * 28\n",
    "            # log_conuter = Counter(seq0)\n",
    "            # for key in log_conuter:\n",
    "                # seq1[key] = log_conuter[key]\n",
    "\n",
    "            seq0 = torch.tensor(seq0, dtype=torch.float).view(\n",
    "                -1, logoptions['window_size'], 1).to(device)\n",
    "            # seq1 = torch.tensor(seq1, dtype=torch.float).view(\n",
    "            #     -1, self.num_classes, self.input_size).to(self.device)\n",
    "            label = torch.tensor(label).view(-1).to(device)\n",
    "            output = predict(seq0, resnet, logreg)\n",
    "            predicted = torch.argsort(output, 1)[0][-num_candidates:]\n",
    "            if label not in predicted:\n",
    "                TP += test_abnormal_loader[line]\n",
    "                break\n",
    "\n",
    "# Compute precision, recall and F1-measure\n",
    "FN = test_abnormal_length - TP\n",
    "P = 100 * TP / (TP + FP)\n",
    "R = 100 * TP / (TP + FN)\n",
    "F1 = 2 * P * R / (P + R)\n",
    "print(\n",
    "    'false positive (FP): {}, false negative (FN): {}, Precision: {:.3f}%, Recall: {:.3f}%, F1-measure: {:.3f}%'\n",
    "    .format(FP, FN, P, R, F1))\n",
    "print('Finished Predicting')"
   ]
  },
  {
   "cell_type": "markdown",
   "metadata": {
    "jp-MarkdownHeadingCollapsed": true
   },
   "source": [
    "## Test set"
   ]
  },
  {
   "cell_type": "code",
   "execution_count": 30,
   "metadata": {
    "execution": {
     "iopub.execute_input": "2023-12-04T16:55:42.048023Z",
     "iopub.status.busy": "2023-12-04T16:55:42.047934Z",
     "iopub.status.idle": "2023-12-04T16:55:42.228939Z",
     "shell.execute_reply": "2023-12-04T16:55:42.228634Z",
     "shell.execute_reply.started": "2023-12-04T16:55:42.048014Z"
    },
    "id": "FfZjgJkeDtrt",
    "tags": []
   },
   "outputs": [
    {
     "name": "stdout",
     "output_type": "stream",
     "text": [
      "### Calculating final testing performance ###\n",
      "Client 0 : Accuracy 78.12603705752213\n",
      "Client 1 : Accuracy 78.12603705752213\n",
      "Client 2 : Accuracy 78.12603705752213\n",
      "Client 3 : Accuracy 78.12603705752213\n",
      "Client 4 : Accuracy 78.12603705752213\n",
      "Final test performance(noniid_ratio : 1.0): Accuracy  : 78.12603705752213\n",
      "Final test performance(noniid_ratio : 1.0): Fairness: 0.0\n"
     ]
    }
   ],
   "source": [
    " # Test fine-tuned model\n",
    "logreg.eval()\n",
    "# resnet.eval()\n",
    "acctol = []\n",
    "print(\"### Calculating final testing performance ###\")\n",
    "metrics = defaultdict(list)\n",
    "for idx in range(len(test_loader)):\n",
    "    acc = []\n",
    "    for step, (h, y) in enumerate(test_loader):\n",
    "        h = h.to(device)\n",
    "        y = y.to(device)\n",
    "    \n",
    "        outputs = logreg(h)\n",
    "        # outputs = resnet(h)\n",
    "    \n",
    "        # calculate accuracy and save metrics\n",
    "        accuracy = (outputs.argmax(1) == y).sum().item() / y.size(0) * 100\n",
    "        acc.append(accuracy)\n",
    "        metrics[\"Accuracy/test\"].append(accuracy)\n",
    "    acc = np.array(acc)\n",
    "    acctol.append(acc.mean())\n",
    "    print(f\"Client {idx} : Accuracy {acc.mean()}\")\n",
    "    \n",
    "acctol = np.array(acctol)\n",
    "print(f\"Final test performance(noniid_ratio : {noniid_ratio}): Accuracy  : {acctol.mean()}\")\n",
    "print(f\"Final test performance(noniid_ratio : {noniid_ratio}): \" + \"\\t\".join([f\"Fairness: {acctol.std()}\" for k, v in metrics.items()]))\n"
   ]
  },
  {
   "cell_type": "code",
   "execution_count": 31,
   "metadata": {
    "execution": {
     "iopub.execute_input": "2023-12-04T16:55:42.229386Z",
     "iopub.status.busy": "2023-12-04T16:55:42.229306Z",
     "iopub.status.idle": "2023-12-04T16:55:42.257458Z",
     "shell.execute_reply": "2023-12-04T16:55:42.257195Z",
     "shell.execute_reply.started": "2023-12-04T16:55:42.229378Z"
    },
    "tags": []
   },
   "outputs": [
    {
     "name": "stdout",
     "output_type": "stream",
     "text": [
      "### Calculating classes testing performance ###\n",
      "Class 0 : Accuracy 85.2\n",
      "Class 1 : Accuracy 92.0\n",
      "Class 2 : Accuracy 56.89999999999999\n",
      "Class 3 : Accuracy 59.3\n",
      "Class 4 : Accuracy 76.6\n",
      "Class 5 : Accuracy 69.0\n",
      "Class 6 : Accuracy 83.0\n",
      "Class 7 : Accuracy 83.0\n",
      "Class 8 : Accuracy 88.5\n",
      "Class 9 : Accuracy 87.9\n",
      "Final test performance: Accuracy/test: 78.14\n",
      "Final test performance: Fairness: 11.763349863027965\n"
     ]
    }
   ],
   "source": [
    "logreg.eval()\n",
    "label = []\n",
    "predict = []\n",
    "print(\"### Calculating classes testing performance ###\")\n",
    "metrics = defaultdict(list)\n",
    "acctol = []\n",
    "for idx in range(len(class_loader)):\n",
    "    acc = []\n",
    "    for step, (h, y) in enumerate(class_loader[idx]):\n",
    "        h = h.to(device)\n",
    "        y = y.to(device)\n",
    "        \n",
    "\n",
    "        outputs = logreg(h)\n",
    "        \n",
    "        predict.append(outputs.argmax(1).cpu().numpy())\n",
    "        label.append(y.cpu().numpy())\n",
    "\n",
    "        # calculate accuracy and save metrics\n",
    "        accuracy = (outputs.argmax(1) == y).sum().item() / y.size(0) * 100\n",
    "        acc.append(accuracy)\n",
    "        metrics[\"Accuracy/test\"].append(accuracy)\n",
    "    acc = np.array(acc)\n",
    "    acctol.append(acc.mean())\n",
    "    print(f\"Class {idx} : Accuracy {acc.mean()}\")\n",
    "acctol = np.array(acctol)\n",
    "print(f\"Final test performance: \" + \"\\t\".join([f\"{k}: {acctol.mean()}\" for k, v in metrics.items()]))\n",
    "print(f\"Final test performance: \" + \"\\t\".join([f\"Fairness: {acctol.std()}\" for k, v in metrics.items()]))\n"
   ]
  },
  {
   "cell_type": "code",
   "execution_count": 32,
   "metadata": {
    "execution": {
     "iopub.execute_input": "2023-12-03T09:41:17.884760Z",
     "iopub.status.busy": "2023-12-03T09:41:17.884679Z",
     "iopub.status.idle": "2023-12-03T09:41:17.968982Z",
     "shell.execute_reply": "2023-12-03T09:41:17.968717Z",
     "shell.execute_reply.started": "2023-12-03T09:41:17.884751Z"
    }
   },
   "outputs": [
    {
     "name": "stdout",
     "output_type": "stream",
     "text": [
      "[0 0 0 ... 9 9 9]\n"
     ]
    }
   ],
   "source": [
    "from sklearn.metrics import confusion_matrix\n",
    "# predict = predict.flatten()\n",
    "# label = label.flatten()\n",
    "pre_y = predict[0]\n",
    "test_y = label[0]\n",
    "for arr in predict[1:]:\n",
    "    # print(arr)\n",
    "    pre_y = np.concatenate((pre_y, arr), axis=0)\n",
    "for arr in label[1:]:\n",
    "    # print(arr)\n",
    "    test_y = np.concatenate((test_y, arr), axis=0)\n",
    "print(pre_y)\n",
    "cm=confusion_matrix(test_y,pre_y)\n"
   ]
  },
  {
   "cell_type": "code",
   "execution_count": 33,
   "metadata": {
    "execution": {
     "iopub.execute_input": "2023-12-03T09:41:17.969387Z",
     "iopub.status.busy": "2023-12-03T09:41:17.969311Z",
     "iopub.status.idle": "2023-12-03T09:41:18.466802Z",
     "shell.execute_reply": "2023-12-03T09:41:18.466532Z",
     "shell.execute_reply.started": "2023-12-03T09:41:17.969379Z"
    },
    "tags": []
   },
   "outputs": [
    {
     "data": {
      "image/png": "[encoded data removed]",
      "text/plain": [
       "<Figure size 1500x800 with 1 Axes>"
      ]
     },
     "metadata": {},
     "output_type": "display_data"
    }
   ],
   "source": [
    "import seaborn as sns\n",
    "import matplotlib.pyplot as plt\n",
    "plt.figure(figsize=(15,8))\n",
    "sns.heatmap(cm,square=True,annot=True,fmt='d',linecolor='white',cmap='RdBu',linewidths=1.5,cbar=False)\n",
    "plt.xlabel('Pred',fontsize=20)\n",
    "plt.ylabel('True',fontsize=20)\n",
    "plt.show()"
   ]
  },
  {
   "cell_type": "markdown",
   "metadata": {
    "jp-MarkdownHeadingCollapsed": true
   },
   "source": [
    "# Fine tuning with FedAvg (10000)"
   ]
  },
  {
   "cell_type": "code",
   "execution_count": 28,
   "metadata": {
    "execution": {
     "iopub.execute_input": "2023-10-27T07:07:00.113001Z",
     "iopub.status.busy": "2023-10-27T07:07:00.112777Z",
     "iopub.status.idle": "2023-10-27T07:07:00.115508Z",
     "shell.execute_reply": "2023-10-27T07:07:00.115241Z",
     "shell.execute_reply.started": "2023-10-27T07:07:00.112991Z"
    }
   },
   "outputs": [],
   "source": [
    "train_loader, test_loader, class_loader = create_data_loaders_from_arrays(\n",
    "    train_X, train_y, test_X, test_y, finedict, classes_dict, 1024\n",
    ")\n",
    "# train_loader, test_loader, class_loader = create_data_loaders_from_arrays(\n",
    "#     train_X, train_y, test_X, test_y, traindict, classes_dict, 1024\n",
    "# )"
   ]
  },
  {
   "cell_type": "code",
   "execution_count": 29,
   "metadata": {
    "execution": {
     "iopub.execute_input": "2023-10-27T07:07:00.116059Z",
     "iopub.status.busy": "2023-10-27T07:07:00.115870Z",
     "iopub.status.idle": "2023-10-27T07:07:35.283797Z",
     "shell.execute_reply": "2023-10-27T07:07:35.283446Z",
     "shell.execute_reply.started": "2023-10-27T07:07:00.116046Z"
    },
    "scrolled": true
   },
   "outputs": [
    {
     "name": "stderr",
     "output_type": "stream",
     "text": [
      "Train Epoch: 199/ 200.Loss: 3.2196.: 100%|███████████████████████████████████████████████████████████████████████████████| 200/200 [00:35<00:00,  5.69it/s]\n"
     ]
    }
   ],
   "source": [
    "# Train fine-tuned model\n",
    "p_bar = tqdm(range(epochs))\n",
    "count = [0 for i in range(client_num)]\n",
    "for epoch in range(epochs):\n",
    "    # metrics = defaultdict(list)\n",
    "    losses = []\n",
    "    s_clients = []\n",
    "    s_clients = random.sample(range(len(models)), 5)\n",
    "    for idx in s_clients:\n",
    "        models[idx].train()\n",
    "        count[idx] += 1\n",
    "        for step, (h, y) in enumerate(train_loader[idx]):\n",
    "            h = h.to(device)\n",
    "            y = y.to(device)\n",
    "    \n",
    "            outputs = models[idx](h)\n",
    "    \n",
    "            loss = criterion(outputs, y)\n",
    "            optimizer_models[idx].zero_grad()\n",
    "            loss.backward()\n",
    "            optimizer_models[idx].step()\n",
    "    \n",
    "            # calculate accuracy and save metrics\n",
    "            accuracy = (outputs.argmax(1) == y).sum().item() / y.size(0) * 100\n",
    "            losses.append(loss.item())\n",
    "            # metrics[\"Loss/train\"].append(loss.item())\n",
    "            # metrics[\"Accuracy/train\"].append(accuracy)\n",
    "    losses = np.array(losses)\n",
    "    p_bar.set_description(\"Train Epoch: {epoch}/{epochs:4}.Loss: {loss:.4f}.\".format(\n",
    "            epoch=epoch,\n",
    "            epochs=epochs,\n",
    "            loss=losses.mean()))\n",
    "    p_bar.update()\n",
    "    # with torch.no_grad():\n",
    "    #     for key in logreg.state_dict().keys():\n",
    "    #         # num_batches_tracked is a non trainable LongTensor and\n",
    "    #         # num_batches_tracked are the same for all clients for the given datasets\n",
    "    #         if \"running\" in key or \"num_batches\" in key:\n",
    "    #             continue\n",
    "    #         # elif 'target' in key:\n",
    "    #         #     continue\n",
    "    #         else:\n",
    "    #             temp = torch.zeros_like(logreg.state_dict()[key]).to('cuda')\n",
    "    #             for client_idx in s_clients:\n",
    "    #                 temp += models_weights[client_idx] * models[client_idx].state_dict()[key]                        \n",
    "    #             logreg.state_dict()[key].data.copy_(temp)\n",
    "    #             for client_idx in range(len(models)):\n",
    "    #                 models[client_idx].state_dict()[key].data.copy_(logreg.state_dict()[key])\n",
    "p_bar.close()\n"
   ]
  },
  {
   "cell_type": "code",
   "execution_count": 30,
   "metadata": {
    "execution": {
     "iopub.execute_input": "2023-10-27T07:07:35.284465Z",
     "iopub.status.busy": "2023-10-27T07:07:35.284381Z",
     "iopub.status.idle": "2023-10-27T07:07:35.287099Z",
     "shell.execute_reply": "2023-10-27T07:07:35.286820Z",
     "shell.execute_reply.started": "2023-10-27T07:07:35.284456Z"
    }
   },
   "outputs": [
    {
     "data": {
      "text/plain": [
       "[99, 104, 107, 85, 116, 92, 106, 106, 97, 88]"
      ]
     },
     "execution_count": 30,
     "metadata": {},
     "output_type": "execute_result"
    }
   ],
   "source": [
    "count"
   ]
  },
  {
   "cell_type": "code",
   "execution_count": 31,
   "metadata": {
    "execution": {
     "iopub.execute_input": "2023-10-27T07:07:35.287428Z",
     "iopub.status.busy": "2023-10-27T07:07:35.287358Z",
     "iopub.status.idle": "2023-10-27T07:07:35.570321Z",
     "shell.execute_reply": "2023-10-27T07:07:35.569938Z",
     "shell.execute_reply.started": "2023-10-27T07:07:35.287421Z"
    }
   },
   "outputs": [
    {
     "name": "stdout",
     "output_type": "stream",
     "text": [
      "### Calculating final testing performance ###\n",
      "Client 0 : Accuracy 45.74278539540816\n",
      "Client 1 : Accuracy 42.84199617346938\n",
      "Client 2 : Accuracy 43.07856345663265\n",
      "Client 3 : Accuracy 41.94296077806122\n",
      "Client 4 : Accuracy 43.09211575255102\n",
      "Client 5 : Accuracy 40.73720503826531\n",
      "Client 6 : Accuracy 42.34335140306122\n",
      "Client 7 : Accuracy 43.42036033163265\n",
      "Client 8 : Accuracy 43.0988919005102\n",
      "Client 9 : Accuracy 42.511360012755105\n",
      "Final test performance(noniid_ratio : 0.55): Accuracy  : 42.88098\n",
      "Final test performance(noniid_ratio : 0.55): Fairness: 1.2047739346450026\n"
     ]
    }
   ],
   "source": [
    " # Test fine-tuned model\n",
    "# resnet.eval()\n",
    "acctol = []\n",
    "labelall = {i : [] for i in range(len(models))}\n",
    "predictall = {i : [] for i in range(len(models))}\n",
    "print(\"### Calculating final testing performance ###\")\n",
    "metrics = defaultdict(list)\n",
    "for idx in range(len(models)):\n",
    "    models[idx].eval()\n",
    "    acc = []\n",
    "    for step, (h, y) in enumerate(test_loader):\n",
    "        h = h.to(device)\n",
    "        y = y.to(device)\n",
    "    \n",
    "        outputs = models[idx](h)\n",
    "        # outputs = resnet(h)\n",
    "        predictall[idx].append(outputs.argmax(1).cpu().numpy())\n",
    "        labelall[idx].append(y.cpu().numpy())\n",
    "        # calculate accuracy and save metrics\n",
    "        accuracy = (outputs.argmax(1) == y).sum().item() / y.size(0) * 100\n",
    "        acc.append(accuracy)\n",
    "        metrics[\"Accuracy/test\"].append(accuracy)\n",
    "        # del outputs\n",
    "    acc = np.array(acc)\n",
    "    acctol.append(acc.mean())\n",
    "    print(f\"Client {idx} : Accuracy {acc.mean()}\")\n",
    "\n",
    "acctol = np.around(acctol, decimals=4)\n",
    "# acctol = np.array(acctol)\n",
    "print(f\"Final test performance(noniid_ratio : {noniid_ratio}): Accuracy  : {acctol.mean()}\")\n",
    "print(f\"Final test performance(noniid_ratio : {noniid_ratio}): \" + \"\\t\".join([f\"Fairness: {acctol.std()}\" for k, v in metrics.items()]))\n"
   ]
  },
  {
   "cell_type": "code",
   "execution_count": 32,
   "metadata": {
    "execution": {
     "iopub.execute_input": "2023-10-27T07:07:35.570809Z",
     "iopub.status.busy": "2023-10-27T07:07:35.570729Z",
     "iopub.status.idle": "2023-10-27T07:07:35.636569Z",
     "shell.execute_reply": "2023-10-27T07:07:35.636187Z",
     "shell.execute_reply.started": "2023-10-27T07:07:35.570801Z"
    }
   },
   "outputs": [
    {
     "name": "stdout",
     "output_type": "stream",
     "text": [
      "### Calculating classes testing performance ###\n",
      "Class 0 : Accuracy 12.4\n",
      "Class 1 : Accuracy 54.50000000000001\n",
      "Class 2 : Accuracy 15.0\n",
      "Class 3 : Accuracy 2.1\n",
      "Class 4 : Accuracy 8.9\n",
      "Class 5 : Accuracy 49.1\n",
      "Class 6 : Accuracy 87.3\n",
      "Class 7 : Accuracy 80.30000000000001\n",
      "Class 8 : Accuracy 87.4\n",
      "Class 9 : Accuracy 60.6\n",
      "Final test performance: Accuracy/test: 45.760000000000005\n",
      "Final test performance: Fairness: 32.06893200591501\n"
     ]
    }
   ],
   "source": [
    "std = []\n",
    "\n",
    "models[0].eval()\n",
    "label = []\n",
    "predict = []\n",
    "print(\"### Calculating classes testing performance ###\")\n",
    "metrics = defaultdict(list)\n",
    "acctol = []\n",
    "for idx in range(len(class_loader)):\n",
    "    acc = []\n",
    "    for step, (h, y) in enumerate(class_loader[idx]):\n",
    "        h = h.to(device)\n",
    "        y = y.to(device)\n",
    "        \n",
    "\n",
    "        outputs = models[0](h)\n",
    "        \n",
    "        predict.append(outputs.argmax(1).cpu().numpy())\n",
    "        label.append(y.cpu().numpy())\n",
    "\n",
    "        # calculate accuracy and save metrics\n",
    "        accuracy = (outputs.argmax(1) == y).sum().item() / y.size(0) * 100\n",
    "        acc.append(accuracy)\n",
    "        metrics[\"Accuracy/test\"].append(accuracy)\n",
    "    acc = np.array(acc)\n",
    "    acctol.append(acc.mean())\n",
    "    print(f\"Class {idx} : Accuracy {acc.mean()}\")\n",
    "acctol = np.array(acctol)\n",
    "std.append(acctol.std())\n",
    "std = np.array(std)\n",
    "print(f\"Final test performance: \" + \"\\t\".join([f\"{k}: {acctol.mean()}\" for k, v in metrics.items()]))\n",
    "print(f\"Final test performance: \" + \"\\t\".join([f\"Fairness: {std.mean()}\" for k, v in metrics.items()]))"
   ]
  },
  {
   "cell_type": "code",
   "execution_count": 33,
   "metadata": {
    "execution": {
     "iopub.execute_input": "2023-10-27T07:07:35.637024Z",
     "iopub.status.busy": "2023-10-27T07:07:35.636943Z",
     "iopub.status.idle": "2023-10-27T07:07:35.667303Z",
     "shell.execute_reply": "2023-10-27T07:07:35.666917Z",
     "shell.execute_reply.started": "2023-10-27T07:07:35.637015Z"
    }
   },
   "outputs": [
    {
     "name": "stdout",
     "output_type": "stream",
     "text": [
      "### Calculating classes testing performance ###\n",
      "Class 0 : Accuracy 18.8\n",
      "Class 1 : Accuracy 38.1\n",
      "Class 2 : Accuracy 8.9\n",
      "Class 3 : Accuracy 3.5999999999999996\n",
      "Class 4 : Accuracy 6.800000000000001\n",
      "Class 5 : Accuracy 29.799999999999997\n",
      "Class 6 : Accuracy 87.6\n",
      "Class 7 : Accuracy 84.89999999999999\n",
      "Class 8 : Accuracy 87.4\n",
      "Class 9 : Accuracy 62.7\n",
      "Final test performance: Accuracy/test: 42.86\n",
      "Final test performance: Fairness: 33.035623196785615\n"
     ]
    }
   ],
   "source": [
    "clientid = 1\n",
    "models[clientid].eval()\n",
    "label = []\n",
    "predict = []\n",
    "print(\"### Calculating classes testing performance ###\")\n",
    "metrics = defaultdict(list)\n",
    "acctol = []\n",
    "for idx in range(len(class_loader)):\n",
    "    acc = []\n",
    "    for step, (h, y) in enumerate(class_loader[idx]):\n",
    "        h = h.to(device)\n",
    "        y = y.to(device)\n",
    "        \n",
    "\n",
    "        outputs = models[clientid](h)\n",
    "        \n",
    "        predict.append(outputs.argmax(1).cpu().numpy())\n",
    "        label.append(y.cpu().numpy())\n",
    "\n",
    "        # calculate accuracy and save metrics\n",
    "        accuracy = (outputs.argmax(1) == y).sum().item() / y.size(0) * 100\n",
    "        acc.append(accuracy)\n",
    "        metrics[\"Accuracy/test\"].append(accuracy)\n",
    "    acc = np.array(acc)\n",
    "    acctol.append(acc.mean())\n",
    "    print(f\"Class {idx} : Accuracy {acc.mean()}\")\n",
    "acctol = np.array(acctol)\n",
    "print(f\"Final test performance: \" + \"\\t\".join([f\"{k}: {acctol.mean()}\" for k, v in metrics.items()]))\n",
    "print(f\"Final test performance: \" + \"\\t\".join([f\"Fairness: {acctol.std()}\" for k, v in metrics.items()]))"
   ]
  },
  {
   "cell_type": "code",
   "execution_count": 35,
   "metadata": {
    "execution": {
     "iopub.execute_input": "2023-09-25T12:30:32.457918Z",
     "iopub.status.busy": "2023-09-25T12:30:32.457764Z",
     "iopub.status.idle": "2023-09-25T12:30:32.540957Z",
     "shell.execute_reply": "2023-09-25T12:30:32.540724Z",
     "shell.execute_reply.started": "2023-09-25T12:30:32.457906Z"
    }
   },
   "outputs": [
    {
     "name": "stdout",
     "output_type": "stream",
     "text": [
      "[0 7 0 ... 9 9 9]\n"
     ]
    }
   ],
   "source": [
    "from sklearn.metrics import confusion_matrix\n",
    "# predict = predict.flatten()\n",
    "# label = label.flatten()\n",
    "pre_y = predict[0]\n",
    "test_y = label[0]\n",
    "for arr in predict[1:]:\n",
    "    # print(arr)\n",
    "    pre_y = np.concatenate((pre_y, arr), axis=0)\n",
    "for arr in label[1:]:\n",
    "    # print(arr)\n",
    "    test_y = np.concatenate((test_y, arr), axis=0)\n",
    "print(pre_y)\n",
    "cm=confusion_matrix(test_y,pre_y)"
   ]
  },
  {
   "cell_type": "code",
   "execution_count": 36,
   "metadata": {
    "execution": {
     "iopub.execute_input": "2023-09-25T12:30:32.925790Z",
     "iopub.status.busy": "2023-09-25T12:30:32.925638Z",
     "iopub.status.idle": "2023-09-25T12:30:33.370814Z",
     "shell.execute_reply": "2023-09-25T12:30:33.370584Z",
     "shell.execute_reply.started": "2023-09-25T12:30:32.925779Z"
    }
   },
   "outputs": [
    {
     "data": {
      "image/png": "[encoded data removed]",
      "text/plain": [
       "<Figure size 1500x800 with 1 Axes>"
      ]
     },
     "metadata": {},
     "output_type": "display_data"
    }
   ],
   "source": [
    "import seaborn as sns\n",
    "import matplotlib.pyplot as plt\n",
    "plt.figure(figsize=(15,8))\n",
    "sns.heatmap(cm,square=True,annot=True,fmt='d',linecolor='white',cmap='RdBu',linewidths=1.5,cbar=False)\n",
    "plt.title(f'Client {clientid}')\n",
    "plt.xlabel('Pred',fontsize=20)\n",
    "plt.ylabel('True',fontsize=20)\n",
    "plt.show()"
   ]
  },
  {
   "cell_type": "markdown",
   "metadata": {
    "jp-MarkdownHeadingCollapsed": true
   },
   "source": [
    "# Fine tuning by IID or non-IID data (10000 per client)"
   ]
  },
  {
   "cell_type": "code",
   "execution_count": null,
   "metadata": {},
   "outputs": [],
   "source": []
  },
  {
   "cell_type": "code",
   "execution_count": null,
   "metadata": {},
   "outputs": [],
   "source": []
  },
  {
   "cell_type": "code",
   "execution_count": null,
   "metadata": {},
   "outputs": [],
   "source": []
  },
  {
   "cell_type": "code",
   "execution_count": null,
   "metadata": {},
   "outputs": [],
   "source": [
    " # Test fine-tuned model\n",
    "# logreg.eval()\n",
    "resnet.eval()\n",
    "acctol = []\n",
    "for idx in range(len(test_loader)):\n",
    "    print(\"### Calculating final testing performance ###\")\n",
    "    metrics = defaultdict(list)\n",
    "    # for idx in range(len(test_loader)):\n",
    "    acc = []\n",
    "    for step, (h, y) in enumerate(test_loader[idx]):\n",
    "        h = h.to(device)\n",
    "        y = y.to(device)\n",
    "\n",
    "        # outputs = logreg(h)\n",
    "        outputs = resnet(h)\n",
    "\n",
    "        # calculate accuracy and save metrics\n",
    "        accuracy = (outputs.argmax(1) == y).sum().item() / y.size(0) * 100\n",
    "        acc.append(accuracy)\n",
    "        metrics[\"Accuracy/test\"].append(accuracy)\n",
    "    acc = np.array(acc)\n",
    "    acctol.append(acc.mean())\n",
    "    print(f\"Client {idx} : Accuracy {acc.mean()}\")\n",
    "    \n",
    "acctol = np.array(acctol)\n",
    "print(f\"Final test performance(noniid_ratio : {noniid_ratio}): Accuracy  : {acctol.mean()}\")\n",
    "print(f\"Final test performance(noniid_ratio : {noniid_ratio}): \" + \"\\t\".join([f\"Fairness: {acctol.std()}\" for k, v in metrics.items()]))\n",
    "\n",
    "    \n",
    "    \n"
   ]
  }
 ],
 "metadata": {
  "accelerator": "GPU",
  "colab": {
   "machine_shape": "hm",
   "provenance": []
  },
  "kernelspec": {
   "display_name": "Python [conda env:.conda-splitfedssl]",
   "language": "python",
   "name": "conda-env-.conda-splitfedssl-py"
  },
  "language_info": {
   "codemirror_mode": {
    "name": "ipython",
    "version": 3
   },
   "file_extension": ".py",
   "mimetype": "text/x-python",
   "name": "python",
   "nbconvert_exporter": "python",
   "pygments_lexer": "ipython3",
   "version": "3.7.16"
  }
 },
 "nbformat": 4,
 "nbformat_minor": 4
}
